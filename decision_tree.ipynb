{
 "cells": [
  {
   "cell_type": "code",
   "execution_count": 1,
   "metadata": {},
   "outputs": [],
   "source": [
    "import numpy as np\n",
    "import pandas as pd"
   ]
  },
  {
   "cell_type": "code",
   "execution_count": 4,
   "metadata": {},
   "outputs": [],
   "source": [
    "from sklearn.metrics import make_scorer, accuracy_score,roc_auc_score\n",
    "from sklearn.model_selection import train_test_split, GridSearchCV\n",
    "from catboost import CatBoostClassifier, Pool"
   ]
  },
  {
   "cell_type": "code",
   "execution_count": 2,
   "metadata": {},
   "outputs": [],
   "source": [
    "import pandas as pd\n",
    "df = pd.read_excel('bmc_cases.xlsb', engine='pyxlsb')"
   ]
  },
  {
   "cell_type": "code",
   "execution_count": 3,
   "metadata": {},
   "outputs": [
    {
     "output_type": "execute_result",
     "data": {
      "text/plain": [
       "Date                                           116227\n",
       "S No                                            68923\n",
       "Ward                                           116227\n",
       "Test ID (ICMR)                                 116214\n",
       "Patient name                                        0\n",
       "Age                                            116227\n",
       "Gender                                         116227\n",
       "Mobile Number                                       0\n",
       "Present Address                                     0\n",
       "Transferred from Ward                           11704\n",
       "HealthPost Allocation                           94160\n",
       "Traceable?                                     114419\n",
       "Out of Mumbai (Yes / No)                        89095\n",
       "Assign to other ward                             7701\n",
       "Person / Official from other ward                8330\n",
       "Duplicate Entry\\n(Yes / No)                     81883\n",
       "Previous Test ID (only if Duplicate is Yes)       368\n",
       "Patient Type (Index / Contact)                  89044\n",
       "Patient Status                                 114375\n",
       "Date of Last Status Change                      88453\n",
       "Symptomatic?                                    81897\n",
       "Action on Patient                              108618\n",
       "DCH / DCHC / CCC2 name                          63895\n",
       "Patient Location                                86958\n",
       "Patient is from SB (sealed building)            59815\n",
       "Patient is from CZ (containment zone)           31050\n",
       "SB / CZ ID                                      45764\n",
       "Reasons why case is outside CZ, SB               1496\n",
       "Occupation                                      33305\n",
       "Heathcare worker Type                            3890\n",
       "Comments / Remarks                              19291\n",
       "Calls check?                                      492\n",
       "Lab SRF check?                                    397\n",
       "Locality check                                    474\n",
       "Police Notification                               427\n",
       "Comments / Remarks_1                              200\n",
       "Patient Status (Central)                       113544\n",
       "Date of Last Status Change_2                   115414\n",
       "Patient Location (Central)                      83225\n",
       "Action for ward                                113544\n",
       "Disagreement                                    22048\n",
       "Check                                               0\n",
       "Action take                                         0\n",
       "dtype: int64"
      ]
     },
     "metadata": {},
     "execution_count": 3
    }
   ],
   "source": [
    "len(df) - df.isna().sum()"
   ]
  },
  {
   "cell_type": "code",
   "execution_count": 5,
   "metadata": {},
   "outputs": [],
   "source": [
    "data = df[['Ward','Date','Age','Gender','Symptomatic?','Traceable?','Patient Location','Patient Status (Central)','Occupation','Patient Type (Index / Contact)']]"
   ]
  },
  {
   "cell_type": "code",
   "execution_count": 6,
   "metadata": {},
   "outputs": [
    {
     "output_type": "execute_result",
     "data": {
      "text/plain": [
       "Yes               45448\n",
       "No                36118\n",
       "YES                 150\n",
       "NO                  133\n",
       "no                   28\n",
       "yes                  16\n",
       "CCC2                  1\n",
       "44031.74513           1\n",
       "Home Isolation        1\n",
       "No (ANC)              1\n",
       "Name: Symptomatic?, dtype: int64"
      ]
     },
     "metadata": {},
     "execution_count": 6
    }
   ],
   "source": [
    "data['Symptomatic?'].value_counts()"
   ]
  },
  {
   "cell_type": "code",
   "execution_count": 7,
   "metadata": {},
   "outputs": [],
   "source": [
    "allowed_params = {'Symptomatic?':(['Yes','No'],'Unknown'),\n",
    "                  'Traceable?':(['Yes','No'],'Unknown'),\n",
    "                    'Patient Location':(['Building','Slum / Chawl'],'Unknown'),\n",
    "                    'Occupation':(['At-home worker','Health worker','Other essential services','Municipal Worker','Police','RETIRED','House Wife'],'Others'),\n",
    "                'Patient Type (Index / Contact)':(['Index','Contact'],'Unknown'),\n",
    "                  'Gender':(['M','F'],'Others')\n",
    "                 }\n",
    "                    "
   ]
  },
  {
   "cell_type": "code",
   "execution_count": 8,
   "metadata": {},
   "outputs": [],
   "source": [
    "def get_val(column_val,allowed):\n",
    "    if column_val in allowed[0]:\n",
    "        return column_val\n",
    "    return allowed[1]"
   ]
  },
  {
   "cell_type": "code",
   "execution_count": 9,
   "metadata": {},
   "outputs": [
    {
     "output_type": "stream",
     "name": "stderr",
     "text": [
      "<ipython-input-9-84f81ea0ce27>:2: SettingWithCopyWarning: \nA value is trying to be set on a copy of a slice from a DataFrame.\nTry using .loc[row_indexer,col_indexer] = value instead\n\nSee the caveats in the documentation: https://pandas.pydata.org/pandas-docs/stable/user_guide/indexing.html#returning-a-view-versus-a-copy\n  data[feature] = data.apply(lambda row : get_val(row[feature],allowed_params[feature]),axis = 1)\n"
     ]
    }
   ],
   "source": [
    "for feature in allowed_params:\n",
    "    data[feature] = data.apply(lambda row : get_val(row[feature],allowed_params[feature]),axis = 1) "
   ]
  },
  {
   "cell_type": "code",
   "execution_count": 10,
   "metadata": {},
   "outputs": [
    {
     "output_type": "execute_result",
     "data": {
      "text/plain": [
       "       Ward   Date  Age Gender Symptomatic? Traceable? Patient Location  \\\n",
       "0         A  43956   56      F           No        Yes     Slum / Chawl   \n",
       "1         A  43959   38      F      Unknown        Yes          Unknown   \n",
       "2         A  43960   31      F      Unknown    Unknown          Unknown   \n",
       "3         A  43960   57      M      Unknown        Yes          Unknown   \n",
       "4         A  43960   44      F      Unknown        Yes          Unknown   \n",
       "...     ...    ...  ...    ...          ...        ...              ...   \n",
       "116222    T  44032   53      M          Yes        Yes         Building   \n",
       "116223    T  44034   85      M          Yes        Yes         Building   \n",
       "116224    T  44037   58      M          Yes        Yes         Building   \n",
       "116225    T  44040   70      M          Yes        Yes         Building   \n",
       "116226    T  44043   60      M          Yes    Unknown     Slum / Chawl   \n",
       "\n",
       "       Patient Status (Central)                Occupation  \\\n",
       "0          Under reconciliation                    Others   \n",
       "1                     Recovered                    Others   \n",
       "2                     Recovered                    Others   \n",
       "3                     Recovered                    Others   \n",
       "4                     Recovered                    Others   \n",
       "...                         ...                       ...   \n",
       "116222                     Dead  Other essential services   \n",
       "116223                     Dead            At-home worker   \n",
       "116224                     Dead                    Others   \n",
       "116225                      NaN            At-home worker   \n",
       "116226                      NaN            At-home worker   \n",
       "\n",
       "       Patient Type (Index / Contact)  \n",
       "0                             Contact  \n",
       "1                             Unknown  \n",
       "2                             Unknown  \n",
       "3                             Unknown  \n",
       "4                             Unknown  \n",
       "...                               ...  \n",
       "116222                          Index  \n",
       "116223                          Index  \n",
       "116224                          Index  \n",
       "116225                          Index  \n",
       "116226                          Index  \n",
       "\n",
       "[116227 rows x 10 columns]"
      ],
      "text/html": "<div>\n<style scoped>\n    .dataframe tbody tr th:only-of-type {\n        vertical-align: middle;\n    }\n\n    .dataframe tbody tr th {\n        vertical-align: top;\n    }\n\n    .dataframe thead th {\n        text-align: right;\n    }\n</style>\n<table border=\"1\" class=\"dataframe\">\n  <thead>\n    <tr style=\"text-align: right;\">\n      <th></th>\n      <th>Ward</th>\n      <th>Date</th>\n      <th>Age</th>\n      <th>Gender</th>\n      <th>Symptomatic?</th>\n      <th>Traceable?</th>\n      <th>Patient Location</th>\n      <th>Patient Status (Central)</th>\n      <th>Occupation</th>\n      <th>Patient Type (Index / Contact)</th>\n    </tr>\n  </thead>\n  <tbody>\n    <tr>\n      <th>0</th>\n      <td>A</td>\n      <td>43956</td>\n      <td>56</td>\n      <td>F</td>\n      <td>No</td>\n      <td>Yes</td>\n      <td>Slum / Chawl</td>\n      <td>Under reconciliation</td>\n      <td>Others</td>\n      <td>Contact</td>\n    </tr>\n    <tr>\n      <th>1</th>\n      <td>A</td>\n      <td>43959</td>\n      <td>38</td>\n      <td>F</td>\n      <td>Unknown</td>\n      <td>Yes</td>\n      <td>Unknown</td>\n      <td>Recovered</td>\n      <td>Others</td>\n      <td>Unknown</td>\n    </tr>\n    <tr>\n      <th>2</th>\n      <td>A</td>\n      <td>43960</td>\n      <td>31</td>\n      <td>F</td>\n      <td>Unknown</td>\n      <td>Unknown</td>\n      <td>Unknown</td>\n      <td>Recovered</td>\n      <td>Others</td>\n      <td>Unknown</td>\n    </tr>\n    <tr>\n      <th>3</th>\n      <td>A</td>\n      <td>43960</td>\n      <td>57</td>\n      <td>M</td>\n      <td>Unknown</td>\n      <td>Yes</td>\n      <td>Unknown</td>\n      <td>Recovered</td>\n      <td>Others</td>\n      <td>Unknown</td>\n    </tr>\n    <tr>\n      <th>4</th>\n      <td>A</td>\n      <td>43960</td>\n      <td>44</td>\n      <td>F</td>\n      <td>Unknown</td>\n      <td>Yes</td>\n      <td>Unknown</td>\n      <td>Recovered</td>\n      <td>Others</td>\n      <td>Unknown</td>\n    </tr>\n    <tr>\n      <th>...</th>\n      <td>...</td>\n      <td>...</td>\n      <td>...</td>\n      <td>...</td>\n      <td>...</td>\n      <td>...</td>\n      <td>...</td>\n      <td>...</td>\n      <td>...</td>\n      <td>...</td>\n    </tr>\n    <tr>\n      <th>116222</th>\n      <td>T</td>\n      <td>44032</td>\n      <td>53</td>\n      <td>M</td>\n      <td>Yes</td>\n      <td>Yes</td>\n      <td>Building</td>\n      <td>Dead</td>\n      <td>Other essential services</td>\n      <td>Index</td>\n    </tr>\n    <tr>\n      <th>116223</th>\n      <td>T</td>\n      <td>44034</td>\n      <td>85</td>\n      <td>M</td>\n      <td>Yes</td>\n      <td>Yes</td>\n      <td>Building</td>\n      <td>Dead</td>\n      <td>At-home worker</td>\n      <td>Index</td>\n    </tr>\n    <tr>\n      <th>116224</th>\n      <td>T</td>\n      <td>44037</td>\n      <td>58</td>\n      <td>M</td>\n      <td>Yes</td>\n      <td>Yes</td>\n      <td>Building</td>\n      <td>Dead</td>\n      <td>Others</td>\n      <td>Index</td>\n    </tr>\n    <tr>\n      <th>116225</th>\n      <td>T</td>\n      <td>44040</td>\n      <td>70</td>\n      <td>M</td>\n      <td>Yes</td>\n      <td>Yes</td>\n      <td>Building</td>\n      <td>NaN</td>\n      <td>At-home worker</td>\n      <td>Index</td>\n    </tr>\n    <tr>\n      <th>116226</th>\n      <td>T</td>\n      <td>44043</td>\n      <td>60</td>\n      <td>M</td>\n      <td>Yes</td>\n      <td>Unknown</td>\n      <td>Slum / Chawl</td>\n      <td>NaN</td>\n      <td>At-home worker</td>\n      <td>Index</td>\n    </tr>\n  </tbody>\n</table>\n<p>116227 rows × 10 columns</p>\n</div>"
     },
     "metadata": {},
     "execution_count": 10
    }
   ],
   "source": [
    "data"
   ]
  },
  {
   "cell_type": "code",
   "execution_count": 11,
   "metadata": {},
   "outputs": [],
   "source": [
    "df = data[(data['Patient Status (Central)'] == 'Recovered') | (data['Patient Status (Central)'] == 'Dead')]"
   ]
  },
  {
   "cell_type": "code",
   "execution_count": 12,
   "metadata": {},
   "outputs": [],
   "source": [
    "y = df['Patient Status (Central)']\n",
    "X = df.drop(['Patient Status (Central)'],axis = 1)"
   ]
  },
  {
   "cell_type": "code",
   "execution_count": 13,
   "metadata": {},
   "outputs": [
    {
     "output_type": "stream",
     "name": "stdout",
     "text": [
      "Yes        35645\nUnknown    32031\nNo         29752\nName: Symptomatic?, dtype: int64\n"
     ]
    }
   ],
   "source": [
    "print(X['Symptomatic?'].value_counts())"
   ]
  },
  {
   "cell_type": "code",
   "execution_count": 14,
   "metadata": {},
   "outputs": [
    {
     "output_type": "stream",
     "name": "stdout",
     "text": [
      "Ward                              object\nDate                               int64\nAge                                int64\nGender                            object\nSymptomatic?                      object\nTraceable?                        object\nPatient Location                  object\nOccupation                        object\nPatient Type (Index / Contact)    object\ndtype: object\n"
     ]
    },
    {
     "output_type": "execute_result",
     "data": {
      "text/plain": [
       "array([0, 3, 4, 5, 6, 7, 8])"
      ]
     },
     "metadata": {},
     "execution_count": 14
    }
   ],
   "source": [
    "print(X.dtypes)\n",
    "categorical_features_indices = np.where((X.dtypes == object))[0]\n",
    "categorical_features_indices"
   ]
  },
  {
   "cell_type": "code",
   "execution_count": 15,
   "metadata": {},
   "outputs": [],
   "source": [
    "from sklearn.preprocessing import LabelEncoder\n",
    "le = LabelEncoder()\n",
    "y = le.fit_transform(y)"
   ]
  },
  {
   "cell_type": "code",
   "execution_count": 16,
   "metadata": {},
   "outputs": [
    {
     "output_type": "stream",
     "name": "stdout",
     "text": [
      "Counter({1: 91487, 0: 5941})\n{0: 8.19962969197105, 1: 0.532469093969635}\n"
     ]
    }
   ],
   "source": [
    "from collections import Counter\n",
    "y_count = Counter(y)\n",
    "print(y_count)\n",
    "W = {}\n",
    "W[0]= len(y)/(2*y_count[0])\n",
    "W[1] = len(y)/(2*y_count[1])\n",
    "print(W)"
   ]
  },
  {
   "cell_type": "code",
   "execution_count": 17,
   "metadata": {},
   "outputs": [],
   "source": [
    "from sklearn.model_selection import train_test_split\n",
    "X_train, X_test, y_train, y_test = train_test_split(X, y, test_size=0.2, random_state=1)\n",
    "X_train, X_val, y_train, y_val = train_test_split(X_train, y_train, test_size=0.25, random_state=1)"
   ]
  },
  {
   "cell_type": "code",
   "execution_count": 25,
   "metadata": {},
   "outputs": [],
   "source": [
    "X_train_pool = Pool(X_train,label = y_train,cat_features=categorical_features_indices)\n",
    "clf = CatBoostClassifier()\n",
    "params = {'iterations': [500],\n",
    "          'depth': [6, 8 , 10],\n",
    "          'cat_features':[categorical_features_indices],\n",
    "          'loss_function': ['Logloss'],\n",
    "          'l2_leaf_reg': np.linspace(1, 6, 4),\n",
    "          'leaf_estimation_iterations': [10],\n",
    "          'verbose':[500],\n",
    "          'class_weights' : [W]\n",
    "         }\n"
   ]
  },
  {
   "cell_type": "code",
   "execution_count": 26,
   "metadata": {},
   "outputs": [],
   "source": [
    "scorer = make_scorer(roc_auc_score)\n",
    "clf_grid = GridSearchCV(estimator=clf, param_grid=params, scoring=scorer, cv=5)"
   ]
  },
  {
   "cell_type": "code",
   "execution_count": 27,
   "metadata": {},
   "outputs": [
    {
     "output_type": "stream",
     "name": "stdout",
     "text": [
      "0:\tlearn: 0.6827249\ttotal: 37.8ms\tremaining: 18.9s\n",
      "499:\tlearn: 0.4655853\ttotal: 19.5s\tremaining: 0us\n",
      "0:\tlearn: 0.6831539\ttotal: 49.5ms\tremaining: 24.7s\n",
      "499:\tlearn: 0.4660455\ttotal: 18.6s\tremaining: 0us\n",
      "0:\tlearn: 0.6827759\ttotal: 36.5ms\tremaining: 18.2s\n",
      "499:\tlearn: 0.4641726\ttotal: 18.8s\tremaining: 0us\n",
      "0:\tlearn: 0.6850100\ttotal: 30ms\tremaining: 15s\n",
      "499:\tlearn: 0.4673684\ttotal: 18.8s\tremaining: 0us\n",
      "0:\tlearn: 0.6845878\ttotal: 30.3ms\tremaining: 15.1s\n",
      "499:\tlearn: 0.4637981\ttotal: 19.6s\tremaining: 0us\n",
      "0:\tlearn: 0.6827630\ttotal: 49.4ms\tremaining: 24.7s\n",
      "499:\tlearn: 0.4681721\ttotal: 17.5s\tremaining: 0us\n",
      "0:\tlearn: 0.6831556\ttotal: 42ms\tremaining: 21s\n",
      "499:\tlearn: 0.4711487\ttotal: 16.9s\tremaining: 0us\n",
      "0:\tlearn: 0.6827810\ttotal: 41.9ms\tremaining: 20.9s\n",
      "499:\tlearn: 0.4672339\ttotal: 17s\tremaining: 0us\n",
      "0:\tlearn: 0.6850100\ttotal: 28.7ms\tremaining: 14.3s\n",
      "499:\tlearn: 0.4706298\ttotal: 17s\tremaining: 0us\n",
      "0:\tlearn: 0.6846022\ttotal: 30.6ms\tremaining: 15.3s\n",
      "499:\tlearn: 0.4677736\ttotal: 17.2s\tremaining: 0us\n",
      "0:\tlearn: 0.6827827\ttotal: 43.4ms\tremaining: 21.6s\n",
      "499:\tlearn: 0.4701861\ttotal: 17.4s\tremaining: 0us\n",
      "0:\tlearn: 0.6831575\ttotal: 44.5ms\tremaining: 22.2s\n",
      "499:\tlearn: 0.4707957\ttotal: 17.6s\tremaining: 0us\n",
      "0:\tlearn: 0.6827837\ttotal: 42ms\tremaining: 21s\n",
      "499:\tlearn: 0.4694119\ttotal: 15.3s\tremaining: 0us\n",
      "0:\tlearn: 0.6850100\ttotal: 25.6ms\tremaining: 12.8s\n",
      "499:\tlearn: 0.4717497\ttotal: 13.6s\tremaining: 0us\n",
      "0:\tlearn: 0.6845878\ttotal: 27.1ms\tremaining: 13.5s\n",
      "499:\tlearn: 0.4698311\ttotal: 13.6s\tremaining: 0us\n",
      "0:\tlearn: 0.6827961\ttotal: 45ms\tremaining: 22.5s\n",
      "499:\tlearn: 0.4721885\ttotal: 13.5s\tremaining: 0us\n",
      "0:\tlearn: 0.6831596\ttotal: 29.3ms\tremaining: 14.6s\n",
      "499:\tlearn: 0.4735998\ttotal: 13.8s\tremaining: 0us\n",
      "0:\tlearn: 0.6827858\ttotal: 29.7ms\tremaining: 14.8s\n",
      "499:\tlearn: 0.4701741\ttotal: 14s\tremaining: 0us\n",
      "0:\tlearn: 0.6850100\ttotal: 22.2ms\tremaining: 11.1s\n",
      "499:\tlearn: 0.4739880\ttotal: 13.5s\tremaining: 0us\n",
      "0:\tlearn: 0.6845878\ttotal: 22.5ms\tremaining: 11.2s\n",
      "499:\tlearn: 0.4732069\ttotal: 13.8s\tremaining: 0us\n",
      "0:\tlearn: 0.6827249\ttotal: 37.1ms\tremaining: 18.5s\n",
      "499:\tlearn: 0.4191682\ttotal: 17.4s\tremaining: 0us\n",
      "0:\tlearn: 0.6831194\ttotal: 42.4ms\tremaining: 21.1s\n",
      "499:\tlearn: 0.4163223\ttotal: 18.1s\tremaining: 0us\n",
      "0:\tlearn: 0.6827404\ttotal: 47.4ms\tremaining: 23.7s\n",
      "499:\tlearn: 0.4226121\ttotal: 17.2s\tremaining: 0us\n",
      "0:\tlearn: 0.6850100\ttotal: 24.5ms\tremaining: 12.2s\n",
      "499:\tlearn: 0.4238808\ttotal: 18.4s\tremaining: 0us\n",
      "0:\tlearn: 0.6845878\ttotal: 23.2ms\tremaining: 11.6s\n",
      "499:\tlearn: 0.4205484\ttotal: 17.8s\tremaining: 0us\n",
      "0:\tlearn: 0.6827630\ttotal: 29.7ms\tremaining: 14.8s\n",
      "499:\tlearn: 0.4295019\ttotal: 17.5s\tremaining: 0us\n",
      "0:\tlearn: 0.6831311\ttotal: 45.1ms\tremaining: 22.5s\n",
      "499:\tlearn: 0.4336991\ttotal: 18.5s\tremaining: 0us\n",
      "0:\tlearn: 0.6827558\ttotal: 51.6ms\tremaining: 25.7s\n",
      "499:\tlearn: 0.4314182\ttotal: 18.4s\tremaining: 0us\n",
      "0:\tlearn: 0.6850100\ttotal: 22.8ms\tremaining: 11.4s\n",
      "499:\tlearn: 0.4331470\ttotal: 17.5s\tremaining: 0us\n",
      "0:\tlearn: 0.6846022\ttotal: 28.6ms\tremaining: 14.3s\n",
      "499:\tlearn: 0.4336958\ttotal: 17.5s\tremaining: 0us\n",
      "0:\tlearn: 0.6827827\ttotal: 30.1ms\tremaining: 15s\n",
      "499:\tlearn: 0.4366422\ttotal: 17.1s\tremaining: 0us\n",
      "0:\tlearn: 0.6831381\ttotal: 43.7ms\tremaining: 21.8s\n",
      "499:\tlearn: 0.4394070\ttotal: 17.4s\tremaining: 0us\n",
      "0:\tlearn: 0.6827648\ttotal: 45.3ms\tremaining: 22.6s\n",
      "499:\tlearn: 0.4343116\ttotal: 17.5s\tremaining: 0us\n",
      "0:\tlearn: 0.6850100\ttotal: 26.5ms\tremaining: 13.2s\n",
      "499:\tlearn: 0.4392659\ttotal: 18.1s\tremaining: 0us\n",
      "0:\tlearn: 0.6845878\ttotal: 34.9ms\tremaining: 17.4s\n",
      "499:\tlearn: 0.4388695\ttotal: 25.7s\tremaining: 0us\n",
      "0:\tlearn: 0.6827961\ttotal: 45ms\tremaining: 22.5s\n",
      "499:\tlearn: 0.4387597\ttotal: 24.6s\tremaining: 0us\n",
      "0:\tlearn: 0.6831438\ttotal: 61.8ms\tremaining: 30.8s\n",
      "499:\tlearn: 0.4417323\ttotal: 24.8s\tremaining: 0us\n",
      "0:\tlearn: 0.6827713\ttotal: 52.2ms\tremaining: 26.1s\n",
      "499:\tlearn: 0.4394211\ttotal: 21.4s\tremaining: 0us\n",
      "0:\tlearn: 0.6850100\ttotal: 28.2ms\tremaining: 14.1s\n",
      "499:\tlearn: 0.4474869\ttotal: 21.4s\tremaining: 0us\n",
      "0:\tlearn: 0.6845878\ttotal: 30.4ms\tremaining: 15.2s\n",
      "499:\tlearn: 0.4411866\ttotal: 21.5s\tremaining: 0us\n",
      "0:\tlearn: 0.6827249\ttotal: 36.7ms\tremaining: 18.3s\n",
      "499:\tlearn: 0.3444569\ttotal: 29.4s\tremaining: 0us\n",
      "0:\tlearn: 0.6831194\ttotal: 51.9ms\tremaining: 25.9s\n",
      "499:\tlearn: 0.3361957\ttotal: 29.2s\tremaining: 0us\n",
      "0:\tlearn: 0.6827404\ttotal: 59.3ms\tremaining: 29.6s\n",
      "499:\tlearn: 0.3481062\ttotal: 28.8s\tremaining: 0us\n",
      "0:\tlearn: 0.6850100\ttotal: 19.9ms\tremaining: 9.95s\n",
      "499:\tlearn: 0.3565286\ttotal: 25.6s\tremaining: 0us\n",
      "0:\tlearn: 0.6845878\ttotal: 28.9ms\tremaining: 14.4s\n",
      "499:\tlearn: 0.3460962\ttotal: 25.9s\tremaining: 0us\n",
      "0:\tlearn: 0.6827630\ttotal: 27.6ms\tremaining: 13.8s\n",
      "499:\tlearn: 0.3644140\ttotal: 26s\tremaining: 0us\n",
      "0:\tlearn: 0.6831311\ttotal: 47.2ms\tremaining: 23.6s\n",
      "499:\tlearn: 0.3630396\ttotal: 25.8s\tremaining: 0us\n",
      "0:\tlearn: 0.6827558\ttotal: 43ms\tremaining: 21.5s\n",
      "499:\tlearn: 0.3692555\ttotal: 26s\tremaining: 0us\n",
      "0:\tlearn: 0.6850100\ttotal: 23.6ms\tremaining: 11.8s\n",
      "499:\tlearn: 0.3745975\ttotal: 25.5s\tremaining: 0us\n",
      "0:\tlearn: 0.6846022\ttotal: 23ms\tremaining: 11.5s\n",
      "499:\tlearn: 0.3703978\ttotal: 26.3s\tremaining: 0us\n",
      "0:\tlearn: 0.6827827\ttotal: 29.1ms\tremaining: 14.5s\n",
      "499:\tlearn: 0.3824023\ttotal: 25.6s\tremaining: 0us\n",
      "0:\tlearn: 0.6831381\ttotal: 46.4ms\tremaining: 23.2s\n",
      "499:\tlearn: 0.3749344\ttotal: 25.7s\tremaining: 0us\n",
      "0:\tlearn: 0.6827648\ttotal: 50.5ms\tremaining: 25.2s\n",
      "499:\tlearn: 0.3851215\ttotal: 26.4s\tremaining: 0us\n",
      "0:\tlearn: 0.6850100\ttotal: 24.8ms\tremaining: 12.4s\n",
      "499:\tlearn: 0.3925373\ttotal: 25.5s\tremaining: 0us\n",
      "0:\tlearn: 0.6845878\ttotal: 22.2ms\tremaining: 11.1s\n",
      "499:\tlearn: 0.3866675\ttotal: 25.8s\tremaining: 0us\n",
      "0:\tlearn: 0.6827961\ttotal: 30.6ms\tremaining: 15.3s\n",
      "499:\tlearn: 0.3958186\ttotal: 25.8s\tremaining: 0us\n",
      "0:\tlearn: 0.6831438\ttotal: 46.3ms\tremaining: 23.1s\n",
      "499:\tlearn: 0.3931136\ttotal: 29.8s\tremaining: 0us\n",
      "0:\tlearn: 0.6827713\ttotal: 62ms\tremaining: 30.9s\n",
      "499:\tlearn: 0.3919748\ttotal: 39.6s\tremaining: 0us\n",
      "0:\tlearn: 0.6850100\ttotal: 42.2ms\tremaining: 21.1s\n",
      "499:\tlearn: 0.4008215\ttotal: 33s\tremaining: 0us\n",
      "0:\tlearn: 0.6845878\ttotal: 26.2ms\tremaining: 13.1s\n",
      "499:\tlearn: 0.3973782\ttotal: 31.1s\tremaining: 0us\n",
      "0:\tlearn: 0.6823944\ttotal: 44.7ms\tremaining: 22.3s\n",
      "499:\tlearn: 0.4755023\ttotal: 19.5s\tremaining: 0us\n"
     ]
    }
   ],
   "source": [
    "clf_grid.fit(\n",
    "    X_train, y_train,\n",
    ");"
   ]
  },
  {
   "cell_type": "code",
   "execution_count": 106,
   "metadata": {},
   "outputs": [
    {
     "data": {
      "text/plain": [
       "{'cat_features': array([0, 3, 4, 5, 6, 7, 8]),\n",
       " 'class_weights': {0: 8.19962969197105, 1: 0.532469093969635},\n",
       " 'depth': 6,\n",
       " 'iterations': 500,\n",
       " 'l2_leaf_reg': 6.0,\n",
       " 'leaf_estimation_iterations': 10,\n",
       " 'loss_function': 'Logloss',\n",
       " 'random_seed': 42,\n",
       " 'verbose': 500}"
      ]
     },
     "execution_count": 106,
     "metadata": {},
     "output_type": "execute_result"
    }
   ],
   "source": [
    "best_param = clf_grid.best_params_\n",
    "best_param"
   ]
  },
  {
   "cell_type": "code",
   "execution_count": 107,
   "metadata": {},
   "outputs": [],
   "source": [
    "model = CatBoostClassifier(iterations=1000,\n",
    "                           loss_function=best_param['loss_function'],\n",
    "                           depth=best_param['depth'],\n",
    "                           l2_leaf_reg=best_param['l2_leaf_reg'],\n",
    "                           eval_metric='Accuracy',\n",
    "                           leaf_estimation_iterations=10,\n",
    "                           use_best_model=True,\n",
    "                           logging_level='Silent'\n",
    "                          );"
   ]
  },
  {
   "cell_type": "code",
   "execution_count": 108,
   "metadata": {},
   "outputs": [
    {
     "data": {
      "text/plain": [
       "<catboost.core.CatBoostClassifier at 0x7fa0b199b1c0>"
      ]
     },
     "execution_count": 108,
     "metadata": {},
     "output_type": "execute_result"
    }
   ],
   "source": [
    "model.fit(X_train_pool, eval_set=(X_val,y_val))"
   ]
  },
  {
   "cell_type": "code",
   "execution_count": null,
   "metadata": {},
   "outputs": [],
   "source": []
  },
  {
   "cell_type": "code",
   "execution_count": 109,
   "metadata": {},
   "outputs": [],
   "source": [
    "predictions = model.predict(X_test)\n",
    "predictions_probs = model.predict_proba(X_test)"
   ]
  },
  {
   "cell_type": "code",
   "execution_count": 110,
   "metadata": {},
   "outputs": [
    {
     "data": {
      "text/plain": [
       "{0: 8.19962969197105, 1: 0.532469093969635}"
      ]
     },
     "execution_count": 110,
     "metadata": {},
     "output_type": "execute_result"
    }
   ],
   "source": [
    "W"
   ]
  },
  {
   "cell_type": "code",
   "execution_count": 111,
   "metadata": {},
   "outputs": [
    {
     "name": "stdout",
     "output_type": "stream",
     "text": [
      "              precision    recall  f1-score   support\n",
      "\n",
      "           0       0.87      0.03      0.05      1239\n",
      "           1       0.94      1.00      0.97     18247\n",
      "\n",
      "    accuracy                           0.94     19486\n",
      "   macro avg       0.90      0.51      0.51     19486\n",
      "weighted avg       0.93      0.94      0.91     19486\n",
      "\n"
     ]
    }
   ],
   "source": [
    "from sklearn.metrics import classification_report,confusion_matrix,plot_roc_curve\n",
    "print(classification_report(y_test,predictions))"
   ]
  },
  {
   "cell_type": "code",
   "execution_count": 112,
   "metadata": {},
   "outputs": [
    {
     "data": {
      "text/plain": [
       "array([[   33,  1206],\n",
       "       [    5, 18242]])"
      ]
     },
     "execution_count": 112,
     "metadata": {},
     "output_type": "execute_result"
    }
   ],
   "source": [
    "confusion_matrix(y_test,predictions)"
   ]
  },
  {
   "cell_type": "code",
   "execution_count": 113,
   "metadata": {},
   "outputs": [
    {
     "data": {
      "text/html": [
       "<div>\n",
       "<style scoped>\n",
       "    .dataframe tbody tr th:only-of-type {\n",
       "        vertical-align: middle;\n",
       "    }\n",
       "\n",
       "    .dataframe tbody tr th {\n",
       "        vertical-align: top;\n",
       "    }\n",
       "\n",
       "    .dataframe thead th {\n",
       "        text-align: right;\n",
       "    }\n",
       "</style>\n",
       "<table border=\"1\" class=\"dataframe\">\n",
       "  <thead>\n",
       "    <tr style=\"text-align: right;\">\n",
       "      <th></th>\n",
       "      <th>Features</th>\n",
       "      <th>Importance</th>\n",
       "    </tr>\n",
       "  </thead>\n",
       "  <tbody>\n",
       "    <tr>\n",
       "      <th>2</th>\n",
       "      <td>Age</td>\n",
       "      <td>50.293245</td>\n",
       "    </tr>\n",
       "    <tr>\n",
       "      <th>4</th>\n",
       "      <td>Symptomatic?</td>\n",
       "      <td>26.589881</td>\n",
       "    </tr>\n",
       "    <tr>\n",
       "      <th>1</th>\n",
       "      <td>Date</td>\n",
       "      <td>5.649801</td>\n",
       "    </tr>\n",
       "    <tr>\n",
       "      <th>0</th>\n",
       "      <td>Ward</td>\n",
       "      <td>5.448067</td>\n",
       "    </tr>\n",
       "    <tr>\n",
       "      <th>6</th>\n",
       "      <td>Patient Location</td>\n",
       "      <td>5.333976</td>\n",
       "    </tr>\n",
       "    <tr>\n",
       "      <th>8</th>\n",
       "      <td>Patient Type (Index / Contact)</td>\n",
       "      <td>3.071668</td>\n",
       "    </tr>\n",
       "    <tr>\n",
       "      <th>3</th>\n",
       "      <td>Gender</td>\n",
       "      <td>1.387593</td>\n",
       "    </tr>\n",
       "    <tr>\n",
       "      <th>7</th>\n",
       "      <td>Occupation</td>\n",
       "      <td>1.365069</td>\n",
       "    </tr>\n",
       "    <tr>\n",
       "      <th>5</th>\n",
       "      <td>Traceable?</td>\n",
       "      <td>0.860701</td>\n",
       "    </tr>\n",
       "  </tbody>\n",
       "</table>\n",
       "</div>"
      ],
      "text/plain": [
       "                         Features  Importance\n",
       "2                             Age   50.293245\n",
       "4                    Symptomatic?   26.589881\n",
       "1                            Date    5.649801\n",
       "0                            Ward    5.448067\n",
       "6                Patient Location    5.333976\n",
       "8  Patient Type (Index / Contact)    3.071668\n",
       "3                          Gender    1.387593\n",
       "7                      Occupation    1.365069\n",
       "5                      Traceable?    0.860701"
      ]
     },
     "execution_count": 113,
     "metadata": {},
     "output_type": "execute_result"
    }
   ],
   "source": [
    "df = pd.DataFrame({\"Features\":X.columns,\"Importance\":model.get_feature_importance(verbose=True)})\n",
    "df.sort_values(by = 'Importance',ascending = False)"
   ]
  },
  {
   "cell_type": "code",
   "execution_count": 114,
   "metadata": {},
   "outputs": [],
   "source": [
    "from sklearn.metrics import precision_recall_curve\n",
    "from sklearn.metrics import plot_precision_recall_curve\n",
    "import matplotlib.pyplot as plt"
   ]
  },
  {
   "cell_type": "code",
   "execution_count": 115,
   "metadata": {},
   "outputs": [],
   "source": [
    "import matplotlib as mpl\n",
    "mpl.rcParams.update({'font.size': 22})"
   ]
  },
  {
   "cell_type": "code",
   "execution_count": 116,
   "metadata": {},
   "outputs": [
    {
     "data": {
      "text/plain": [
       "<sklearn.metrics._plot.roc_curve.RocCurveDisplay at 0x7fa0b1dc9af0>"
      ]
     },
     "execution_count": 116,
     "metadata": {},
     "output_type": "execute_result"
    },
    {
     "data": {
      "image/png": "[encoded data removed]",
      "text/plain": [
       "<Figure size 720x1440 with 2 Axes>"
      ]
     },
     "metadata": {
      "needs_background": "light"
     },
     "output_type": "display_data"
    }
   ],
   "source": [
    "import matplotlib.pyplot as plt\n",
    "fig,ax = plt.subplots(2,1,figsize=[10,20])\n",
    "plot_roc_curve(model,X_test,y_test,ax =ax.flat[0])\n",
    "plot_precision_recall_curve(model,X_test,y_test,ax =ax.flat[1])"
   ]
  },
  {
   "cell_type": "code",
   "execution_count": null,
   "metadata": {},
   "outputs": [],
   "source": [
    "model.plot_tree(0)"
   ]
  },
  {
   "cell_type": "code",
   "execution_count": null,
   "metadata": {},
   "outputs": [],
   "source": [
    "tree_dict = {}\n",
    "tree_data = X_test[['Age','Symptomatic?','label']]\n",
    "age_bins = [0,29.5,46.5,62.5,150]\n",
    "bins = [(age_bins[i],age_bins[i+1]) for i in range(len(age_bins)-1)]\n",
    "sym_classes = list(tree_data['Symptomatic?'].value_counts().keys())\n",
    "test_g = tree_data.groupby(pd.cut(tree_data['Age'],bins =age_bins ))\n",
    "print(bins)\n",
    "print(sym_classes)\n",
    "for age_bin,df_group in test_g:\n",
    "    tree_dict[(age_bin.left,age_bin.right)] = {}\n",
    "    test_g2 = df_group.groupby(df_group[\"Symptomatic?\"])\n",
    "    for sym_bin,df_group2 in test_g2:\n",
    "        tree_dict[(age_bin.left,age_bin.right)][sym_bin] = df_group2['label'].value_counts()\n",
    "for b in bins:\n",
    "    for s in sym_classes:\n",
    "        print(b,s)\n",
    "        print(tree_dict[b][s])\n",
    "        print('-'*10)"
   ]
  }
 ],
 "metadata": {
  "kernelspec": {
   "display_name": "Python 3",
   "language": "python",
   "name": "python3"
  },
  "language_info": {
   "codemirror_mode": {
    "name": "ipython",
    "version": 3
   },
   "file_extension": ".py",
   "mimetype": "text/x-python",
   "name": "python",
   "nbconvert_exporter": "python",
   "pygments_lexer": "ipython3",
   "version": "3.8.5-final"
  }
 },
 "nbformat": 4,
 "nbformat_minor": 4
}