{
 "metadata": {
  "language_info": {
   "codemirror_mode": {
    "name": "ipython",
    "version": 3
   },
   "file_extension": ".py",
   "mimetype": "text/x-python",
   "name": "python",
   "nbconvert_exporter": "python",
   "pygments_lexer": "ipython3",
   "version": "3.8.5-final"
  },
  "orig_nbformat": 2,
  "kernelspec": {
   "name": "python3",
   "display_name": "Python 3.8.5 64-bit ('C19M': conda)",
   "metadata": {
    "interpreter": {
     "hash": "973babc9901c4480c646acc37f87affcd03821f0bf66e646c1a087a31361434a"
    }
   }
  }
 },
 "nbformat": 4,
 "nbformat_minor": 2,
 "cells": [
  {
   "cell_type": "code",
   "execution_count": 1,
   "metadata": {},
   "outputs": [],
   "source": [
    "import numpy as np\n",
    "import pandas as pd\n"
   ]
  },
  {
   "cell_type": "code",
   "execution_count": 4,
   "metadata": {},
   "outputs": [],
   "source": [
    "import pandas as pd\n",
    "df = pd.read_excel('bmc_cases.xlsb', engine='pyxlsb')"
   ]
  },
  {
   "cell_type": "code",
   "execution_count": 9,
   "metadata": {},
   "outputs": [
    {
     "output_type": "execute_result",
     "data": {
      "text/plain": [
       "Date                                                0\n",
       "S No                                            47304\n",
       "Ward                                                0\n",
       "Test ID (ICMR)                                     13\n",
       "Patient name                                   116227\n",
       "Age                                                 0\n",
       "Gender                                              0\n",
       "Mobile Number                                  116227\n",
       "Present Address                                116227\n",
       "Transferred from Ward                          104523\n",
       "HealthPost Allocation                           22067\n",
       "Traceable?                                       1808\n",
       "Out of Mumbai (Yes / No)                        27132\n",
       "Assign to other ward                           108526\n",
       "Person / Official from other ward              107897\n",
       "Duplicate Entry\\n(Yes / No)                     34344\n",
       "Previous Test ID (only if Duplicate is Yes)    115859\n",
       "Patient Type (Index / Contact)                  27183\n",
       "Patient Status                                   1852\n",
       "Date of Last Status Change                      27774\n",
       "Symptomatic?                                    34330\n",
       "Action on Patient                                7609\n",
       "DCH / DCHC / CCC2 name                          52332\n",
       "Patient Location                                29269\n",
       "Patient is from SB (sealed building)            56412\n",
       "Patient is from CZ (containment zone)           85177\n",
       "SB / CZ ID                                      70463\n",
       "Reasons why case is outside CZ, SB             114731\n",
       "Occupation                                      82922\n",
       "Heathcare worker Type                          112337\n",
       "Comments / Remarks                              96936\n",
       "Calls check?                                   115735\n",
       "Lab SRF check?                                 115830\n",
       "Locality check                                 115753\n",
       "Police Notification                            115800\n",
       "Comments / Remarks_1                           116027\n",
       "Patient Status (Central)                         2683\n",
       "Date of Last Status Change_2                      813\n",
       "Patient Location (Central)                      33002\n",
       "Action for ward                                  2683\n",
       "Disagreement                                    94179\n",
       "Check                                          116227\n",
       "Action take                                    116227\n",
       "dtype: int64"
      ]
     },
     "metadata": {},
     "execution_count": 9
    }
   ],
   "source": [
    "df.isna().sum()"
   ]
  },
  {
   "cell_type": "code",
   "execution_count": 13,
   "metadata": {},
   "outputs": [],
   "source": [
    "data = df[['Ward','Test ID (ICMR)','Age','Gender','Symptomatic?','Patient Status (Central)','Patient Location (Central)']]"
   ]
  },
  {
   "cell_type": "code",
   "execution_count": 14,
   "metadata": {},
   "outputs": [],
   "source": [
    "data = data.dropna()"
   ]
  },
  {
   "cell_type": "code",
   "execution_count": 16,
   "metadata": {},
   "outputs": [
    {
     "output_type": "execute_result",
     "data": {
      "text/plain": [
       "Counter({'Recovered': 38366,\n",
       "         'Active': 11921,\n",
       "         'Dead': 3105,\n",
       "         'Status Awaited': 117,\n",
       "         'Migrated': 3})"
      ]
     },
     "metadata": {},
     "execution_count": 16
    }
   ],
   "source": [
    "from collections import Counter\n",
    "Counter(data['Patient Status (Central)'])"
   ]
  },
  {
   "cell_type": "code",
   "execution_count": 17,
   "metadata": {},
   "outputs": [],
   "source": [
    "data = data[(data['Patient Status (Central)'] == 'Recovered') | (data['Patient Status (Central)'] == 'Dead')]"
   ]
  },
  {
   "cell_type": "code",
   "execution_count": 19,
   "metadata": {},
   "outputs": [],
   "source": [
    "y = data['Patient Status (Central)']\n",
    "X = data.drop(['Patient Status (Central)'],axis = 1)"
   ]
  },
  {
   "cell_type": "code",
   "execution_count": 20,
   "metadata": {},
   "outputs": [
    {
     "output_type": "execute_result",
     "data": {
      "text/plain": [
       "       Ward  Test ID (ICMR)  Age Gender Symptomatic?  \\\n",
       "35        A       5087645.0   30      M          Yes   \n",
       "39        A       5515239.0   53      F           No   \n",
       "43        A       7614304.0   44      M           No   \n",
       "123       A       9465964.0   89      M           No   \n",
       "196       A      10791439.0   39      M          Yes   \n",
       "...     ...             ...  ...    ...          ...   \n",
       "116220    T      13093022.0   38      F          Yes   \n",
       "116221    T      13200538.0   74      M          Yes   \n",
       "116222    T      13547426.0   53      M          Yes   \n",
       "116223    T      14383724.0   85      M          Yes   \n",
       "116224    T      15348206.0   58      M          Yes   \n",
       "\n",
       "       Patient Location (Central)  \n",
       "35                            DCH  \n",
       "39                            DCH  \n",
       "43                            DCH  \n",
       "123                Home Isolation  \n",
       "196                           DCH  \n",
       "...                           ...  \n",
       "116220               Hospitalized  \n",
       "116221               Hospitalized  \n",
       "116222               Hospitalized  \n",
       "116223               Hospitalized  \n",
       "116224               Hospitalized  \n",
       "\n",
       "[41471 rows x 6 columns]"
      ],
      "text/html": "<div>\n<style scoped>\n    .dataframe tbody tr th:only-of-type {\n        vertical-align: middle;\n    }\n\n    .dataframe tbody tr th {\n        vertical-align: top;\n    }\n\n    .dataframe thead th {\n        text-align: right;\n    }\n</style>\n<table border=\"1\" class=\"dataframe\">\n  <thead>\n    <tr style=\"text-align: right;\">\n      <th></th>\n      <th>Ward</th>\n      <th>Test ID (ICMR)</th>\n      <th>Age</th>\n      <th>Gender</th>\n      <th>Symptomatic?</th>\n      <th>Patient Location (Central)</th>\n    </tr>\n  </thead>\n  <tbody>\n    <tr>\n      <th>35</th>\n      <td>A</td>\n      <td>5087645.0</td>\n      <td>30</td>\n      <td>M</td>\n      <td>Yes</td>\n      <td>DCH</td>\n    </tr>\n    <tr>\n      <th>39</th>\n      <td>A</td>\n      <td>5515239.0</td>\n      <td>53</td>\n      <td>F</td>\n      <td>No</td>\n      <td>DCH</td>\n    </tr>\n    <tr>\n      <th>43</th>\n      <td>A</td>\n      <td>7614304.0</td>\n      <td>44</td>\n      <td>M</td>\n      <td>No</td>\n      <td>DCH</td>\n    </tr>\n    <tr>\n      <th>123</th>\n      <td>A</td>\n      <td>9465964.0</td>\n      <td>89</td>\n      <td>M</td>\n      <td>No</td>\n      <td>Home Isolation</td>\n    </tr>\n    <tr>\n      <th>196</th>\n      <td>A</td>\n      <td>10791439.0</td>\n      <td>39</td>\n      <td>M</td>\n      <td>Yes</td>\n      <td>DCH</td>\n    </tr>\n    <tr>\n      <th>...</th>\n      <td>...</td>\n      <td>...</td>\n      <td>...</td>\n      <td>...</td>\n      <td>...</td>\n      <td>...</td>\n    </tr>\n    <tr>\n      <th>116220</th>\n      <td>T</td>\n      <td>13093022.0</td>\n      <td>38</td>\n      <td>F</td>\n      <td>Yes</td>\n      <td>Hospitalized</td>\n    </tr>\n    <tr>\n      <th>116221</th>\n      <td>T</td>\n      <td>13200538.0</td>\n      <td>74</td>\n      <td>M</td>\n      <td>Yes</td>\n      <td>Hospitalized</td>\n    </tr>\n    <tr>\n      <th>116222</th>\n      <td>T</td>\n      <td>13547426.0</td>\n      <td>53</td>\n      <td>M</td>\n      <td>Yes</td>\n      <td>Hospitalized</td>\n    </tr>\n    <tr>\n      <th>116223</th>\n      <td>T</td>\n      <td>14383724.0</td>\n      <td>85</td>\n      <td>M</td>\n      <td>Yes</td>\n      <td>Hospitalized</td>\n    </tr>\n    <tr>\n      <th>116224</th>\n      <td>T</td>\n      <td>15348206.0</td>\n      <td>58</td>\n      <td>M</td>\n      <td>Yes</td>\n      <td>Hospitalized</td>\n    </tr>\n  </tbody>\n</table>\n<p>41471 rows × 6 columns</p>\n</div>"
     },
     "metadata": {},
     "execution_count": 20
    }
   ],
   "source": [
    "X"
   ]
  },
  {
   "cell_type": "code",
   "execution_count": null,
   "metadata": {},
   "outputs": [],
   "source": []
  }
 ]
}