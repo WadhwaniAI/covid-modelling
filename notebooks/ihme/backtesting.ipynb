{
 "cells": [
  {
   "cell_type": "code",
   "execution_count": 1,
   "metadata": {},
   "outputs": [],
   "source": [
    "%load_ext autoreload\n",
    "%autoreload 2\n",
    "\n",
    "import pandas as pd\n",
    "import numpy as np\n",
    "import pickle"
   ]
  },
  {
   "cell_type": "code",
   "execution_count": 12,
   "metadata": {},
   "outputs": [],
   "source": [
    "picklefn = f'../../main/ihme/output/mortality/Mumbai_deaths/2020-05-19 14:16:13.994800/backtesting.pkl'\n",
    "with open(picklefn, 'rb') as pickle_file:\n",
    "        results = pickle.load(pickle_file)"
   ]
  },
  {
   "cell_type": "code",
   "execution_count": 13,
   "metadata": {},
   "outputs": [
    {
     "output_type": "execute_result",
     "data": {
      "text/plain": "[0.02985639297309186,\n 0.07760244601305408,\n 0.037406893876962846,\n 0.06443796536973381,\n 0.10174484963628476,\n 0.10884559092648498,\n 0.11214425212698265,\n 0.1232648764526398,\n 0.1345237717257021,\n 0.1461040030407734,\n 0.15613717110325215,\n 0.16440335887533647,\n 0.17178527586940867,\n 0.1784408570042438,\n 0.18337577381445425,\n 0.18817384088552763,\n 0.19359387060255975,\n 0.19940666684385083,\n 0.20566395646739632,\n 0.21166421110358308,\n 0.21961352493191605,\n 0.22800294333422877,\n 0.23595152758792448,\n 0.24429482738189862,\n 0.2534332880121093,\n 0.26184095042953337,\n 0.27037358223099195,\n 0.27899671053252384,\n 0.28757760000338933,\n 0.2969066011316319,\n 0.3046345698190058,\n 0.31199026851500394,\n 0.31958588391022175,\n 0.326825978371332,\n 0.33329353350992863,\n 0.3412117252543232,\n 0.34830738982288256,\n 0.35541120452176855,\n 0.3625055802483864,\n 0.3692704393415382]"
     },
     "metadata": {},
     "execution_count": 13
    }
   ],
   "source": [
    "[d['error']['mape'] for d in results.values()]"
   ]
  },
  {
   "cell_type": "code",
   "execution_count": 17,
   "metadata": {},
   "outputs": [
    {
     "output_type": "error",
     "ename": "ModuleNotFoundError",
     "evalue": "No module named 'backtesting_hyperparams'",
     "traceback": [
      "\u001b[0;31m---------------------------------------------------------------------------\u001b[0m",
      "\u001b[0;31mModuleNotFoundError\u001b[0m                       Traceback (most recent call last)",
      "\u001b[0;32m<ipython-input-17-b1c7bc5ec080>\u001b[0m in \u001b[0;36m<module>\u001b[0;34m\u001b[0m\n\u001b[1;32m      3\u001b[0m \u001b[0;32mfrom\u001b[0m \u001b[0mmodels\u001b[0m\u001b[0;34m.\u001b[0m\u001b[0mihme\u001b[0m\u001b[0;34m.\u001b[0m\u001b[0mpipeline\u001b[0m \u001b[0;32mimport\u001b[0m \u001b[0mWAIPipeline\u001b[0m\u001b[0;34m\u001b[0m\u001b[0;34m\u001b[0m\u001b[0m\n\u001b[1;32m      4\u001b[0m \u001b[0;32mfrom\u001b[0m \u001b[0mmain\u001b[0m\u001b[0;34m.\u001b[0m\u001b[0mihme\u001b[0m\u001b[0;34m.\u001b[0m\u001b[0mbacktesting_hyperparams\u001b[0m \u001b[0;32mimport\u001b[0m \u001b[0mplot_backtesting_results\u001b[0m\u001b[0;34m\u001b[0m\u001b[0;34m\u001b[0m\u001b[0m\n\u001b[0;32m----> 5\u001b[0;31m \u001b[0;32mfrom\u001b[0m \u001b[0mmain\u001b[0m\u001b[0;34m.\u001b[0m\u001b[0mihme\u001b[0m\u001b[0;34m.\u001b[0m\u001b[0mintegration\u001b[0m \u001b[0;32mimport\u001b[0m \u001b[0msetup\u001b[0m\u001b[0;34m\u001b[0m\u001b[0;34m\u001b[0m\u001b[0m\n\u001b[0m\u001b[1;32m      6\u001b[0m \u001b[0;34m\u001b[0m\u001b[0m\n\u001b[1;32m      7\u001b[0m \u001b[0mmumbai\u001b[0m \u001b[0;34m=\u001b[0m \u001b[0;34m'Mumbai'\u001b[0m\u001b[0;34m,\u001b[0m \u001b[0;34m'Maharashtra'\u001b[0m\u001b[0;34m,\u001b[0m \u001b[0;34m[\u001b[0m\u001b[0;34m'District - Mumbai (23)'\u001b[0m\u001b[0;34m,\u001b[0m \u001b[0;34m'District - Mumbai Suburban (22)'\u001b[0m\u001b[0;34m]\u001b[0m\u001b[0;34m\u001b[0m\u001b[0;34m\u001b[0m\u001b[0m\n",
      "\u001b[0;32m~/Dev/covid-modelling/main/ihme/integration.py\u001b[0m in \u001b[0;36m<module>\u001b[0;34m\u001b[0m\n\u001b[1;32m     17\u001b[0m \u001b[0;32mfrom\u001b[0m \u001b[0mmodels\u001b[0m\u001b[0;34m.\u001b[0m\u001b[0mihme\u001b[0m\u001b[0;34m.\u001b[0m\u001b[0mutil\u001b[0m \u001b[0;32mimport\u001b[0m \u001b[0mget_mortality\u001b[0m\u001b[0;34m,\u001b[0m \u001b[0mevaluate\u001b[0m\u001b[0;34m\u001b[0m\u001b[0;34m\u001b[0m\u001b[0m\n\u001b[1;32m     18\u001b[0m \u001b[0;32mfrom\u001b[0m \u001b[0mmodels\u001b[0m\u001b[0;34m.\u001b[0m\u001b[0mihme\u001b[0m\u001b[0;34m.\u001b[0m\u001b[0mdata\u001b[0m \u001b[0;32mimport\u001b[0m \u001b[0mget_district_timeseries_cached\u001b[0m\u001b[0;34m\u001b[0m\u001b[0;34m\u001b[0m\u001b[0m\n\u001b[0;32m---> 19\u001b[0;31m \u001b[0;32mfrom\u001b[0m \u001b[0mbacktesting_hyperparams\u001b[0m \u001b[0;32mimport\u001b[0m \u001b[0moptimize_hyperparameters\u001b[0m\u001b[0;34m,\u001b[0m \u001b[0mtrain_test_split\u001b[0m\u001b[0;34m,\u001b[0m \u001b[0mbacktesting\u001b[0m\u001b[0;34m\u001b[0m\u001b[0;34m\u001b[0m\u001b[0m\n\u001b[0m\u001b[1;32m     20\u001b[0m \u001b[0;32mfrom\u001b[0m \u001b[0mbacktesting_hyperparams\u001b[0m \u001b[0;32mimport\u001b[0m \u001b[0mlograte_to_cumulative\u001b[0m\u001b[0;34m,\u001b[0m \u001b[0mrate_to_cumulative\u001b[0m\u001b[0;34m\u001b[0m\u001b[0;34m\u001b[0m\u001b[0m\n\u001b[1;32m     21\u001b[0m \u001b[0;32mfrom\u001b[0m \u001b[0mbacktesting_hyperparams\u001b[0m \u001b[0;32mimport\u001b[0m \u001b[0mplot_results\u001b[0m\u001b[0;34m\u001b[0m\u001b[0;34m\u001b[0m\u001b[0m\n",
      "\u001b[0;31mModuleNotFoundError\u001b[0m: No module named 'backtesting_hyperparams'"
     ]
    }
   ],
   "source": [
    "import sys\n",
    "sys.path.append('../..')\n",
    "from models.ihme.pipeline import WAIPipeline\n",
    "from main.ihme.backtesting_hyperparams import plot_backtesting_results\n",
    "from main.ihme.integration import setup\n",
    "\n",
    "mumbai = 'Mumbai', 'Maharashtra', ['District - Mumbai (23)', 'District - Mumbai Suburban (22)']\n"
   ]
  },
  {
   "cell_type": "code",
   "execution_count": null,
   "metadata": {},
   "outputs": [],
   "source": []
  }
 ],
 "metadata": {
  "language_info": {
   "codemirror_mode": {
    "name": "ipython",
    "version": 3
   },
   "file_extension": ".py",
   "mimetype": "text/x-python",
   "name": "python",
   "nbconvert_exporter": "python",
   "pygments_lexer": "ipython3",
   "version": "3.7.7-final"
  },
  "orig_nbformat": 2,
  "kernelspec": {
   "name": "python37764bit016fc47fdc4c473a89b6513920a58575",
   "display_name": "Python 3.7.7 64-bit"
  }
 },
 "nbformat": 4,
 "nbformat_minor": 2
}