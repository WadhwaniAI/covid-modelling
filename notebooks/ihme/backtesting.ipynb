{
 "cells": [
  {
   "cell_type": "code",
   "execution_count": 21,
   "metadata": {},
   "outputs": [
    {
     "output_type": "stream",
     "name": "stdout",
     "text": "The autoreload extension is already loaded. To reload it, use:\n  %reload_ext autoreload\n"
    }
   ],
   "source": [
    "%load_ext autoreload\n",
    "%autoreload 2\n",
    "\n",
    "import pandas as pd\n",
    "import numpy as np\n",
    "import pickle\n",
    "\n",
    "import sys\n",
    "sys.path.append('../..')"
   ]
  },
  {
   "cell_type": "code",
   "execution_count": 17,
   "metadata": {},
   "outputs": [],
   "source": [
    "fullpath = \\\n",
    "'/Users/vishwa/Dev/covid-modelling/main/ihme/output/backtesting/Mumbai_deaths/2020-05-21 11:50:48.068543'\n",
    "picklefn = f'{fullpath}/backtesting.pkl'\n",
    "\n",
    "with open(picklefn, 'rb') as pickle_file:\n",
    "        results = pickle.load(pickle_file)"
   ]
  },
  {
   "cell_type": "code",
   "execution_count": 18,
   "metadata": {},
   "outputs": [
    {
     "output_type": "execute_result",
     "data": {
      "text/plain": "[([-0.6165050685981557, 12.276433473790235, -11.57221235970366],\n  0,\n  0.16390781022664846),\n ([-1.0021310799915182, 18.206939331479113, -10.568867367589188],\n  0,\n  1.378739078283008),\n ([-1.4872496706333385, 14.922383783972155, -9.264417023538007],\n  10,\n  0.14308788404335737),\n ([-2.969829391421535, 19.78140822366376, -8.593209759176474],\n  0,\n  6.130561937523659),\n ([-1.7475540960071143, 16.328549918624695, -10.365476902422486],\n  2,\n  0.034817412382272796),\n ([-2.4323364505127394, 15.792137420023554, -9.449537295783527],\n  2,\n  0.16727922447607968),\n ([-3.6350576232182195, 13.757010514274494, -7.540143450285666],\n  18,\n  0.0353870005075404)]"
     },
     "metadata": {},
     "execution_count": 18
    }
   ],
   "source": [
    "[(d['fe_init'], d['n_days'], d['xform_error']['mape']) for d in results['results'].values()]"
   ]
  },
  {
   "cell_type": "code",
   "execution_count": 22,
   "metadata": {},
   "outputs": [],
   "source": [
    "import matplotlib as mpl\n",
    "import seaborn as sns\n",
    "\n",
    "from models.ihme.util import setup_plt\n",
    "import matplotlib.pyplot as plt\n",
    "import matplotlib as mpl\n",
    "from pandas.plotting import register_matplotlib_converters\n",
    "from matplotlib.dates import DateFormatter\n",
    "import pandas as pd\n",
    "from main.ihme.backtesting_hyperparams import plot_backtesting_errors, plot_backtesting_results, plot_results"
   ]
  },
  {
   "cell_type": "code",
   "execution_count": 23,
   "metadata": {},
   "outputs": [],
   "source": [
    "def plot_x_y(model, x, y, title, yaxis_name=None, log=False, scatter=False):\n",
    "    plt.title(title)\n",
    "    setup_plt(yaxis_name)\n",
    "    yscale = 'log' if log else \"linear\"\n",
    "    plt.yscale(yscale)\n",
    "\n",
    "    # plot error\n",
    "    if scatter:\n",
    "        plt.scatter(x,y,c='dodgerblue', marker='+')\n",
    "    else:\n",
    "        plt.plot(x, y, ls='-', c='crimson')\n",
    "    return"
   ]
  },
  {
   "cell_type": "code",
   "execution_count": null,
   "metadata": {},
   "outputs": [],
   "source": []
  }
 ],
 "metadata": {
  "language_info": {
   "codemirror_mode": {
    "name": "ipython",
    "version": 3
   },
   "file_extension": ".py",
   "mimetype": "text/x-python",
   "name": "python",
   "nbconvert_exporter": "python",
   "pygments_lexer": "ipython3",
   "version": "3.7.7-final"
  },
  "orig_nbformat": 2,
  "kernelspec": {
   "name": "python37764bit016fc47fdc4c473a89b6513920a58575",
   "display_name": "Python 3.7.7 64-bit"
  }
 },
 "nbformat": 4,
 "nbformat_minor": 2
}