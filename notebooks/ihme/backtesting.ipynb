{
 "cells": [
  {
   "cell_type": "code",
   "execution_count": null,
   "metadata": {},
   "outputs": [],
   "source": [
    "%load_ext autoreload\n",
    "%autoreload 2\n",
    "\n",
    "import pandas as pd\n",
    "import numpy as np\n",
    "import pickle\n",
    "\n",
    "import sys\n",
    "sys.path.append('../..')"
   ]
  },
  {
   "cell_type": "code",
   "execution_count": null,
   "metadata": {},
   "outputs": [],
   "source": [
    "fullpath = \\\n",
    "'/Users/vishwa/Dev/covid-modelling/main/ihme/output/new_backtesting_out/Mumbai_deaths/2020-05-21 12:26:09.154541'\n",
    "picklefn = f'{fullpath}/backtesting.pkl'\n",
    "\n",
    "with open(picklefn, 'rb') as pickle_file:\n",
    "        results = pickle.load(pickle_file)"
   ]
  },
  {
   "cell_type": "code",
   "execution_count": null,
   "metadata": {},
   "outputs": [],
   "source": [
    "import matplotlib as mpl\n",
    "import seaborn as sns\n",
    "\n",
    "from viz import setup_plt\n",
    "import matplotlib.pyplot as plt\n",
    "import matplotlib as mpl\n",
    "from pandas.plotting import register_matplotlib_converters\n",
    "from matplotlib.dates import DateFormatter\n",
    "import pandas as pd\n",
    "from main.ihme.backtesting_hyperparams import plot_backtesting_errors, plot_backtesting_results, plot_results\n",
    "from datetime import timedelta"
   ]
  },
  {
   "cell_type": "code",
   "execution_count": null,
   "metadata": {},
   "outputs": [],
   "source": [
    "def plot(x, y, title, yaxis_name=None, log=False, scatter=False):\n",
    "    plt.title(title)\n",
    "    setup_plt(yaxis_name)\n",
    "    yscale = 'log' if log else \"linear\"\n",
    "    plt.yscale(yscale)\n",
    "\n",
    "    # plot error\n",
    "    if scatter:\n",
    "        plt.scatter(x,y,c='dodgerblue', marker='+')\n",
    "    else:\n",
    "        plt.plot(x, y, ls='-', c='crimson')\n",
    "    return"
   ]
  },
  {
   "cell_type": "code",
   "execution_count": null,
   "metadata": {},
   "outputs": [],
   "source": [
    "start = results['df']['date'].min()"
   ]
  },
  {
   "cell_type": "code",
   "execution_count": null,
   "metadata": {},
   "outputs": [],
   "source": [
    "results['results'].keys()"
   ]
  },
  {
   "cell_type": "code",
   "execution_count": null,
   "metadata": {},
   "outputs": [],
   "source": [
    "results['results'][14].keys()"
   ]
  },
  {
   "cell_type": "code",
   "execution_count": null,
   "metadata": {},
   "outputs": [],
   "source": [
    "dates = pd.Series(list(results['results'].keys())).apply(lambda x: results['df']['date'].min() + timedelta(days=x))"
   ]
  },
  {
   "cell_type": "code",
   "execution_count": null,
   "metadata": {},
   "outputs": [],
   "source": [
    "plot(dates, [d['n_days'] for d in results['results'].values()], 'n_days_train', 'n_days')"
   ]
  },
  {
   "cell_type": "code",
   "execution_count": null,
   "metadata": {},
   "outputs": [],
   "source": [
    "plot(dates, [d['xform_error']['mape'] for d in results['results'].values()], 'mape', 'mape')"
   ]
  },
  {
   "cell_type": "code",
   "execution_count": null,
   "metadata": {},
   "outputs": [],
   "source": []
  }
 ],
 "metadata": {
  "kernelspec": {
   "display_name": "Python 3",
   "language": "python",
   "name": "python3"
  },
  "language_info": {
   "codemirror_mode": {
    "name": "ipython",
    "version": 3
   },
   "file_extension": ".py",
   "mimetype": "text/x-python",
   "name": "python",
   "nbconvert_exporter": "python",
   "pygments_lexer": "ipython3"
  }
 },
 "nbformat": 4,
 "nbformat_minor": 4
}
