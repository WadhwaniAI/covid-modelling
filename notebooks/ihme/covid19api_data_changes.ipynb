{
 "cells": [
  {
   "cell_type": "code",
   "execution_count": null,
   "metadata": {},
   "outputs": [],
   "source": [
    "%load_ext autoreload\n",
    "%autoreload 2"
   ]
  },
  {
   "cell_type": "code",
   "execution_count": null,
   "metadata": {},
   "outputs": [],
   "source": [
    "import pandas as pd\n",
    "import numpy as np\n",
    "import requests\n",
    "import datetime\n",
    "import os\n",
    "import sys\n",
    "from copy import copy\n",
    "sys.path.append('../..')\n",
    "from data.dataloader import Covid19IndiaLoader\n",
    "from data.processing import get_data, get_district_time_series, combine_districts, concat_sources, get_concat_data"
   ]
  },
  {
   "cell_type": "code",
   "execution_count": null,
   "metadata": {},
   "outputs": [],
   "source": [
    "loader = Covid19IndiaLoader()\n",
    "dataframes = loader.get_covid19india_api_data()"
   ]
  },
  {
   "cell_type": "code",
   "execution_count": null,
   "metadata": {},
   "outputs": [],
   "source": [
    "original_copy = copy(dataframes)"
   ]
  },
  {
   "cell_type": "code",
   "execution_count": null,
   "metadata": {},
   "outputs": [],
   "source": [
    "bglr1 = get_data(dataframes, 'Karnataka', 'Bengaluru Rural')"
   ]
  },
  {
   "cell_type": "code",
   "execution_count": null,
   "metadata": {},
   "outputs": [],
   "source": [
    "bglr2 = get_data(dataframes, 'Karnataka', 'Bengaluru Urban')"
   ]
  },
  {
   "cell_type": "code",
   "execution_count": null,
   "metadata": {},
   "outputs": [],
   "source": [
    "bglr_all = combine_districts([bglr1, bglr2], 'Bengaluru')\n",
    "bglr_all[:3]"
   ]
  },
  {
   "cell_type": "code",
   "execution_count": null,
   "metadata": {},
   "outputs": [],
   "source": [
    "amd1 = get_district_time_series(dataframes, 'Gujarat', 'Ahmedabad')\n",
    "amd1[:3]"
   ]
  },
  {
   "cell_type": "code",
   "execution_count": null,
   "metadata": {},
   "outputs": [],
   "source": [
    "amd2 = get_district_time_series(dataframes, 'Gujarat', 'Ahmedabad', use_dataframe='deaths_recovs')\n",
    "amd2[:3]"
   ]
  },
  {
   "cell_type": "code",
   "execution_count": null,
   "metadata": {},
   "outputs": [],
   "source": [
    "amd3 = get_data(dataframes, 'Gujarat', 'Ahmedabad')\n",
    "amd3[:3]"
   ]
  },
  {
   "cell_type": "code",
   "execution_count": null,
   "metadata": {},
   "outputs": [],
   "source": [
    "amd = concat_sources(amd1, amd2, amd3)"
   ]
  },
  {
   "cell_type": "code",
   "execution_count": null,
   "metadata": {},
   "outputs": [],
   "source": [
    "bglr3 = get_district_time_series(dataframes, 'Karnataka', 'Bengaluru Rural')\n",
    "bglr4 = get_district_time_series(dataframes, 'Karnataka', 'Bengaluru Urban')\n",
    "bglr_raw = combine_districts([bglr3, bglr4], 'Bengaluru', 'Karnataka')"
   ]
  },
  {
   "cell_type": "code",
   "execution_count": null,
   "metadata": {},
   "outputs": [],
   "source": [
    "bglr5 = get_district_time_series(dataframes, 'Karnataka', 'Bengaluru Rural', use_dataframe='deaths_recovs')\n",
    "bglr6 = get_district_time_series(dataframes, 'Karnataka', 'Bengaluru Urban', use_dataframe='deaths_recovs')\n",
    "bglr_dr = combine_districts([bglr5, bglr6], 'Bengaluru', 'Karnataka')"
   ]
  },
  {
   "cell_type": "code",
   "execution_count": null,
   "metadata": {},
   "outputs": [],
   "source": [
    "bglr = concat_sources(bglr_raw, bglr_dr, bglr_all)"
   ]
  },
  {
   "cell_type": "markdown",
   "metadata": {},
   "source": [
    "# fixing dtype issue"
   ]
  },
  {
   "cell_type": "code",
   "execution_count": null,
   "metadata": {},
   "outputs": [],
   "source": [
    "amd3.dtypes"
   ]
  },
  {
   "cell_type": "code",
   "execution_count": null,
   "metadata": {},
   "outputs": [],
   "source": [
    "df_districts = copy(dataframes['df_districts'])\n",
    "df_districts.dtypes"
   ]
  },
  {
   "cell_type": "code",
   "execution_count": null,
   "metadata": {},
   "outputs": [],
   "source": [
    "state = 'Gujarat'\n",
    "district = 'Ahmedabad'"
   ]
  },
  {
   "cell_type": "code",
   "execution_count": null,
   "metadata": {},
   "outputs": [],
   "source": [
    "df_district = df_districts[np.logical_and(df_districts['state'] == state, df_districts['district'] == district)]\n",
    "del df_district['notes']\n",
    "df_district.loc[:, 'date'] = pd.to_datetime(df_district.loc[:, 'date'])\n",
    "df_district = df_district.loc[df_district['date'] >= '2020-04-24', :]\n",
    "df_district = df_district.loc[df_district['date'] < datetime.date.today().strftime(\"%Y-%m-%d\"), :]\n",
    "df_district.columns = [x if x != 'active' else 'hospitalised' for x in df_district.columns]\n",
    "df_district.columns = [x if x != 'confirmed' else 'total_infected' for x in df_district.columns]\n",
    "df_district.reset_index(inplace=True, drop=True)\n",
    "cols = list(set(df_district.columns) - {'state', 'district', 'date'})\n",
    "df_district[cols] = df_district[cols].apply(pd.to_numeric)\n",
    "df_district.dtypes"
   ]
  },
  {
   "cell_type": "code",
   "execution_count": null,
   "metadata": {},
   "outputs": [],
   "source": [
    "c = get_concat_data(dataframes, district=['East Delhi', 'South West Delhi', 'West Delhi', 'North Delhi', 'New Delhi', 'South Delhi', 'North East Delhi', 'North West Delhi', ''], state='Delhi', new_district_name='Delhi')"
   ]
  },
  {
   "cell_type": "code",
   "execution_count": null,
   "metadata": {},
   "outputs": [],
   "source": [
    "c"
   ]
  },
  {
   "cell_type": "code",
   "execution_count": null,
   "metadata": {},
   "outputs": [],
   "source": [
    "delhi_dist = get_data(dataframes, 'Delhi', 'New Delhi')"
   ]
  },
  {
   "cell_type": "code",
   "execution_count": null,
   "metadata": {},
   "outputs": [],
   "source": [
    "delhi_dist"
   ]
  },
  {
   "cell_type": "code",
   "execution_count": null,
   "metadata": {},
   "outputs": [],
   "source": [
    "delhi_dist2 = get_data(dataframes, 'Delhi', '')"
   ]
  },
  {
   "cell_type": "code",
   "execution_count": null,
   "metadata": {},
   "outputs": [],
   "source": [
    "delhi_dist2"
   ]
  },
  {
   "cell_type": "code",
   "execution_count": null,
   "metadata": {},
   "outputs": [],
   "source": [
    "for d in ['East Delhi', 'South West Delhi', 'West Delhi', 'North Delhi', 'New Delhi', 'South Delhi', 'North East Delhi', 'North West Delhi', '']:\n",
    "    print(get_data(dataframes, 'Delhi', d))"
   ]
  },
  {
   "cell_type": "code",
   "execution_count": null,
   "metadata": {},
   "outputs": [],
   "source": [
    "dataframes.keys()"
   ]
  },
  {
   "cell_type": "code",
   "execution_count": null,
   "metadata": {},
   "outputs": [],
   "source": [
    "statewise = dataframes['df_districts']\n",
    "statewise = statewise[statewise['state'] == 'Delhi']\n",
    "statewise['district'].unique()"
   ]
  },
  {
   "cell_type": "code",
   "execution_count": null,
   "metadata": {},
   "outputs": [],
   "source": [
    "'East Delhi', 'New Delhi', 'North Delhi', 'North East Delhi','North West Delhi', 'South Delhi', 'South West Delhi','West Delhi', 'Unknown', 'Central Delhi', 'Shahdara','South East Delhi']"
   ]
  }
 ],
 "metadata": {
  "kernelspec": {
   "display_name": "Python 3",
   "language": "python",
   "name": "python3"
  },
  "language_info": {
   "codemirror_mode": {
    "name": "ipython",
    "version": 3
   },
   "file_extension": ".py",
   "mimetype": "text/x-python",
   "name": "python",
   "nbconvert_exporter": "python",
   "pygments_lexer": "ipython3"
  }
 },
 "nbformat": 4,
 "nbformat_minor": 4
}
