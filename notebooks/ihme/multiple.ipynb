{
 "cells": [
  {
   "cell_type": "code",
   "execution_count": null,
   "metadata": {},
   "outputs": [],
   "source": [
    "%load_ext autoreload\n",
    "%autoreload 2"
   ]
  },
  {
   "cell_type": "code",
   "execution_count": null,
   "metadata": {},
   "outputs": [],
   "source": [
    "import os\n",
    "import json\n",
    "from copy import copy\n",
    "import pandas as pd\n",
    "import numpy as np\n",
    "import dill as pickle\n",
    "import time\n",
    "from datetime import datetime, timedelta\n",
    "\n",
    "import matplotlib.pyplot as plt\n",
    "import matplotlib.dates as mdates\n",
    "import pandas as pd\n",
    "import numpy as np\n",
    "import seaborn as sns\n",
    "from adjustText import adjust_text\n",
    "\n",
    "import sys\n",
    "sys.path.append('../..')\n",
    "from utils.fitting.data import cities\n",
    "from utils.generic.config import read_config\n",
    "from main.seir.forecast import get_forecast, order_trials, top_k_trials, forecast_k\n",
    "from utils.generic.enums import Columns, SEIRParams\n",
    "\n"
   ]
  },
  {
   "cell_type": "code",
   "execution_count": null,
   "metadata": {},
   "outputs": [],
   "source": [
    "from main.ihme.fitting import single_cycle_multiple\n",
    "from utils.generic.enums import Columns\n"
   ]
  },
  {
   "cell_type": "code",
   "execution_count": null,
   "metadata": {},
   "outputs": [],
   "source": [
    "config, model_params = read_config('../../scripts/ihme/config/default.yaml')\n",
    "dist, st, area_names = cities['mumbai']"
   ]
  },
  {
   "cell_type": "code",
   "execution_count": null,
   "metadata": {},
   "outputs": [],
   "source": [
    "results = single_cycle_multiple(dist, st, area_names, copy(model_params), which_compartments=Columns.which_compartments(), **config)"
   ]
  },
  {
   "cell_type": "code",
   "execution_count": null,
   "metadata": {},
   "outputs": [],
   "source": [
    "results.keys()\n",
    "# base = results['deceased']"
   ]
  },
  {
   "cell_type": "code",
   "execution_count": null,
   "metadata": {},
   "outputs": [],
   "source": [
    "results['df_loss']"
   ]
  },
  {
   "cell_type": "code",
   "execution_count": null,
   "metadata": {},
   "outputs": [],
   "source": [
    "from viz.forecast import plot_forecast_agnostic as plot_forecast"
   ]
  },
  {
   "cell_type": "code",
   "execution_count": null,
   "metadata": {},
   "outputs": [],
   "source": [
    "df_true = results['df_district']\n",
    "all_preds = results['df_prediction']"
   ]
  },
  {
   "cell_type": "code",
   "execution_count": null,
   "metadata": {},
   "outputs": [],
   "source": [
    "trysum = copy(all_preds)\n",
    "trysum['total'] = all_preds['recovered'] + all_preds['deceased'] + all_preds['active']"
   ]
  },
  {
   "cell_type": "code",
   "execution_count": null,
   "metadata": {},
   "outputs": [],
   "source": [
    "plot_forecast(df_true, trysum.reset_index(), model_name='IHME M1', dist=dist, state=st)"
   ]
  },
  {
   "cell_type": "code",
   "execution_count": null,
   "metadata": {},
   "outputs": [],
   "source": [
    "m2_config = copy(config)\n",
    "m2_config['test_size'] = 0\n",
    "m2_results = single_cycle_multiple(dist, st, area_names, copy(model_params), which_compartments=Columns.which_compartments(), **m2_config)"
   ]
  },
  {
   "cell_type": "code",
   "execution_count": null,
   "metadata": {},
   "outputs": [],
   "source": [
    "all_preds = m2_results['df_prediction']\n",
    "df_true = m2_results['df_district']"
   ]
  },
  {
   "cell_type": "code",
   "execution_count": null,
   "metadata": {},
   "outputs": [],
   "source": [
    "trysum = copy(all_preds)\n",
    "trysum['total'] = all_preds['recovered'] + all_preds['deceased'] + all_preds['active']"
   ]
  },
  {
   "cell_type": "code",
   "execution_count": null,
   "metadata": {},
   "outputs": [],
   "source": [
    "plot_forecast(df_true, trysum.reset_index(), model_name='IHME M2', dist=dist, state=st)"
   ]
  },
  {
   "cell_type": "code",
   "execution_count": null,
   "metadata": {},
   "outputs": [],
   "source": []
  }
 ],
 "metadata": {
  "kernelspec": {
   "display_name": "Python 3",
   "language": "python",
   "name": "python3"
  },
  "language_info": {
   "codemirror_mode": {
    "name": "ipython",
    "version": 3
   },
   "file_extension": ".py",
   "mimetype": "text/x-python",
   "name": "python",
   "nbconvert_exporter": "python",
   "pygments_lexer": "ipython3"
  }
 },
 "nbformat": 4,
 "nbformat_minor": 4
}
