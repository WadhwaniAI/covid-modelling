{
 "cells": [
  {
   "cell_type": "code",
   "execution_count": 1,
   "metadata": {},
   "outputs": [],
   "source": [
    "import pandas as pd\n",
    "import numpy as np\n",
    "import requests\n",
    "import datetime\n",
    "import os\n",
    "import sys\n",
    "\n",
    "sys.path.append('../..')\n",
    "from data.dataloader import get_covid19india_api_data, get_rootnet_api_data\n",
    "from utils.age_standardisation import *"
   ]
  },
  {
   "cell_type": "code",
   "execution_count": 22,
   "metadata": {},
   "outputs": [],
   "source": [
    "def standardise_age(district, state, area_name):\n",
    "    data = district_timeseries[district].set_index('date')\n",
    "    raw_all_district_age_data = age_data[state]\n",
    "\n",
    "    all_district_age_data = clean(raw_all_district_age_data)\n",
    "\n",
    "    # Get relevant district(s) data\n",
    "    district_age_data = all_district_age_data[all_district_age_data['Area Name'] == area_name]\n",
    "\n",
    "    district_age_band_pops, district_total_pop = get_age_band_population(district_age_data)\n",
    "    assert(district_total_pop == sum(district_age_band_pops.values()))\n",
    "\n",
    "    district_age_band_ratios = {k: v / district_total_pop for k, v in district_age_band_pops.items()}\n",
    "\n",
    "    ref_age_band_ratios = {\n",
    "        '0-9': 0.1144545912,\n",
    "        '10-19': 0.1096780507,\n",
    "        '20-29': 0.1387701325,\n",
    "        '30-39': 0.1481915984,\n",
    "        '40-49': 0.1548679659,\n",
    "        '50-59': 0.1428622446,\n",
    "        '60-69': 0.1092853481,\n",
    "        '70-79': 0.05542319854,\n",
    "        '80+': 0.02646687006,\n",
    "    }\n",
    "\n",
    "    # calculated here: https://docs.google.com/spreadsheets/d/1APX7XwoJPIbUXOgXa2vZNreDn6UseBucSGq9fh-N5jE/edit#gid=1859974541\n",
    "    # CFR based\n",
    "    # ref_mortality_rate = {\n",
    "    #     '0-9': 0.0002447933091,\n",
    "    #     '10-19': 0.000377136454,\n",
    "    #     '20-29': 0.0009389093188,\n",
    "    #     '30-39': 0.001769966645,\n",
    "    #     '40-49': 0.003645033792,\n",
    "    #     '50-59': 0.01343325563,\n",
    "    #     '60-69': 0.03884219978,\n",
    "    #     '70-79': 0.08406020728,\n",
    "    #     '80+': 0.1421208672,\n",
    "    # }\n",
    "\n",
    "    # # Deaths/Population based (excl SK)\n",
    "    # ref_mortality_rate = {\n",
    "    #     '0-9': 0.00000001922452747,\n",
    "    #     '10-19': 0.00000001996437158,\n",
    "    #     '20-29': 0.0000001540307269,\n",
    "    #     '30-39': 0.0000004222770726,\n",
    "    #     '40-49': 0.00000128438119,\n",
    "    #     '50-59': 0.000005125162691,\n",
    "    #     '60-69': 0.00001948507013,\n",
    "    #     '70-79': 0.00009988464688,\n",
    "    #     '80+': 0.0003878624777,\n",
    "    # }\n",
    "\n",
    "    # Deaths/Population based (excl SK/China)\n",
    "    ref_mortality_rate = {\n",
    "        '0-9': 0.00000008160306469,\n",
    "        '10-19': 0.00000005586337197,\n",
    "        '20-29': 0.0000005590581798,\n",
    "        '30-39': 0.000001683722774,\n",
    "        '40-49': 0.000005820174078,\n",
    "        '50-59': 0.00002088458866,\n",
    "        '60-69': 0.00007149402853,\n",
    "        '70-79': 0.0003066451643,\n",
    "        '80+': 0.0009211554807,\n",
    "    }\n",
    "    \n",
    "    # age weighted mortality based on other countries\n",
    "    implied_mortality = sum([ref_age_band_ratios[k] * ref_mortality_rate[k] for k in ref_mortality_rate.keys()])\n",
    "\n",
    "    # need mortality rate from India -- this is going to be dependent on case data, so introducing that testing bias...\n",
    "    # observed deaths/known cases\n",
    "    daily_observed_mortality = data['total_deaths']/district_total_pop\n",
    "\n",
    "    # how much different is it observed than 'implied'\n",
    "    daily_mortality_ratio = daily_observed_mortality/implied_mortality\n",
    "\n",
    "    # mortality rate accounting for observed/implied discrepancy\n",
    "    age_stratified_daily_mortality = {k: daily_mortality_ratio * ref_mortality_rate[k] for k in ref_mortality_rate.keys()}\n",
    "\n",
    "    # mortality rate accounting for observed/implied discrepancy and weighted by model location age\n",
    "    age_std_mortality = sum([age_stratified_daily_mortality[k] * district_age_band_ratios[k] for k in district_age_band_ratios.keys()])\n",
    "    # print(age_std_mortality)\n",
    "\n",
    "    log_age_std_mortality = np.log(age_std_mortality)\n",
    "\n",
    "    checker = pd.DataFrame()\n",
    "    print(district_total_pop)\n",
    "    checker['age_std'] = age_std_mortality\n",
    "    checker['non_std'] = daily_observed_mortality\n",
    "    print(checker)"
   ]
  },
  {
   "cell_type": "code",
   "execution_count": 19,
   "metadata": {},
   "outputs": [
    {
     "output_type": "stream",
     "name": "stdout",
     "text": "42 deaths in Maharashtra with unknown district\nadding 14 deaths to Mumbai/Pune each\n164\n178\n4 deaths in Karnataka with unknown district\n6 deaths in Gujarat with unknown district\nadding 6 deaths to Ahmadabad count\n20 deaths in Rajasthan with unknown district\n42 deaths in Maharashtra with unknown district\nadding 14 deaths to Mumbai/Pune each\n51\n65\n53 deaths in Delhi with unknown district\n"
    }
   ],
   "source": [
    "dataframes = get_covid19india_api_data()\n",
    "\n",
    "districts = ['Mumbai', 'Bengaluru', 'Ahmadabad', 'Jaipur', 'Pune', 'New Delhi']\n",
    "states = ['Maharashtra', 'Karnataka', 'Gujarat', 'Rajasthan', 'Maharashtra', 'Delhi']\n",
    "district_timeseries = get_district_time_series(dataframes, state=states, district=districts)"
   ]
  },
  {
   "cell_type": "code",
   "execution_count": 20,
   "metadata": {},
   "outputs": [],
   "source": [
    "# get age data in bands\n",
    "filenames = 'DDW-{}00C-13'\n",
    "state_file_mapping = {\n",
    "    filenames.format('24'): 'Gujarat',\n",
    "    filenames.format('29'): 'Karnataka',\n",
    "    filenames.format('27'): 'Maharashtra',\n",
    "    filenames.format('07'): 'Delhi',\n",
    "    filenames.format('08'): 'Rajasthan',\n",
    "}\n",
    "\n",
    "age_data = {}\n",
    "directory = '../../data/data/census/'\n",
    "for filename in os.listdir(directory):\n",
    "    df = pd.read_excel(os.path.join(directory, filename))\n",
    "    age_data[state_file_mapping[filename.split('.')[0]]] = df.dropna(how='all')"
   ]
  },
  {
   "cell_type": "code",
   "execution_count": 5,
   "metadata": {},
   "outputs": [],
   "source": [
    "amd = 'District - Ahmadabad (07)'\n",
    "mumbai = 'District - Mumbai (23)'\n",
    "mumbai2 = 'District - Mumbai Suburban (22)'\n",
    "pune = 'District - Pune (25)'\n",
    "delhi ='District - New Delhi (05)'\n",
    "jaipur = 'District - Jaipur (12)'\n",
    "bengaluru = 'District - Bangalore (18)'"
   ]
  },
  {
   "cell_type": "code",
   "execution_count": 23,
   "metadata": {},
   "outputs": [
    {
     "output_type": "stream",
     "name": "stdout",
     "text": "3069834\n                 age_std   non_std\ndate                              \n2020-03-11  0.000000e+00  0.000000\n2020-03-12  0.000000e+00  0.000000\n2020-03-13  0.000000e+00  0.000000\n2020-03-14  0.000000e+00  0.000000\n2020-03-15  0.000000e+00  0.000000\n2020-03-16  0.000000e+00  0.000000\n2020-03-17  0.000000e+00  0.000000\n2020-03-18  0.000000e+00  0.000000\n2020-03-19  0.000000e+00  0.000000\n2020-03-20  0.000000e+00  0.000000\n2020-03-21  0.000000e+00  0.000000\n2020-03-22  0.000000e+00  0.000000\n2020-03-23  0.000000e+00  0.000000\n2020-03-24  0.000000e+00  0.000000\n2020-03-25  0.000000e+00  0.000000\n2020-03-26  0.000000e+00  0.000000\n2020-03-27  0.000000e+00  0.000000\n2020-03-28  0.000000e+00  0.000000\n2020-03-29  8.238735e-07  0.000002\n2020-03-30  9.886482e-07  0.000002\n2020-03-31  9.886482e-07  0.000002\n2020-04-01  1.812522e-06  0.000004\n2020-04-02  1.812522e-06  0.000004\n2020-04-03  1.812522e-06  0.000004\n2020-04-04  2.471621e-06  0.000005\n2020-04-05  3.789818e-06  0.000007\n2020-04-06  4.448917e-06  0.000009\n2020-04-07  5.108016e-06  0.000010\n2020-04-08  5.931889e-06  0.000012\n2020-04-09  7.414862e-06  0.000015\n2020-04-10  9.062609e-06  0.000018\n2020-04-11  1.103991e-05  0.000022\n2020-04-12  1.367630e-05  0.000027\n2020-04-13  1.515927e-05  0.000030\n2020-04-14  1.697179e-05  0.000034\n2020-04-15  1.730134e-05  0.000034\n2020-04-16  1.779567e-05  0.000035\n2020-04-17  1.861954e-05  0.000037\n2020-04-18  1.944342e-05  0.000038\n2020-04-19  2.043206e-05  0.000040\n2020-04-20  2.158549e-05  0.000043\n2020-04-21  2.356278e-05  0.000047\n2020-04-22  2.521053e-05  0.000050\n"
    }
   ],
   "source": [
    "\n",
    "# standardise_age('New Delhi', 'Delhi', delhi)\n",
    "# standardise_age('Bengaluru', 'Karnataka', bengaluru)\n",
    "standardise_age('Mumbai', 'Maharashtra', mumbai)\n",
    "# standardise_age('Pune', 'Maharashtra', pune)\n",
    "# standardise_age('Ahmadabad', 'Gujarat', amd)\n",
    "# standardise_age('Jaipur', 'Rajasthan', jaipur)"
   ]
  },
  {
   "cell_type": "code",
   "execution_count": null,
   "metadata": {},
   "outputs": [],
   "source": []
  }
 ],
 "metadata": {
  "language_info": {
   "codemirror_mode": {
    "name": "ipython",
    "version": 3
   },
   "file_extension": ".py",
   "mimetype": "text/x-python",
   "name": "python",
   "nbconvert_exporter": "python",
   "pygments_lexer": "ipython3",
   "version": "3.7.7-final"
  },
  "orig_nbformat": 2,
  "kernelspec": {
   "name": "python37764bit016fc47fdc4c473a89b6513920a58575",
   "display_name": "Python 3.7.7 64-bit"
  }
 },
 "nbformat": 4,
 "nbformat_minor": 2
}