{
 "cells": [
  {
   "cell_type": "code",
   "execution_count": null,
   "metadata": {},
   "outputs": [],
   "source": [
    "import pandas as pd\n",
    "import numpy as np\n",
    "import requests\n",
    "import datetime\n",
    "import os\n",
    "import sys\n",
    "sys.path.append('../..')"
   ]
  },
  {
   "cell_type": "code",
   "execution_count": null,
   "metadata": {},
   "outputs": [],
   "source": [
    "from data.dataloader import Covid19IndiaLoader"
   ]
  },
  {
   "cell_type": "code",
   "execution_count": null,
   "metadata": {},
   "outputs": [],
   "source": [
    "loader = Covid19IndiaLoader()\n",
    "dataframes = loader.get_data()"
   ]
  },
  {
   "cell_type": "code",
   "execution_count": null,
   "metadata": {},
   "outputs": [],
   "source": [
    "dataframes.keys()"
   ]
  },
  {
   "cell_type": "code",
   "execution_count": null,
   "metadata": {},
   "outputs": [],
   "source": [
    "districtwise = dataframes['df_districtwise']\n",
    "districtwise[districtwise['state'] == 'Delhi']['district'].unique()\n",
    "# districtwise[districtwise['state'] == 'Gujarat']"
   ]
  },
  {
   "cell_type": "code",
   "execution_count": null,
   "metadata": {},
   "outputs": [],
   "source": [
    "# dataframes['df_raw_data_2'].columns\n",
    "# xyz = dataframes['df_raw_data_2']\n",
    "# deceased = xyz[xyz['patientstatus'] == 'Deceased']\n",
    "# # deceased[deceased['district'] == '']['state'].value_counts()\n",
    "# state = deceased[deceased['state'] == 'Maharashtra']\n",
    "# #  MANUAL CLEANUP + ASSUMPTIONS MADE IN CODE AFTER PRELIM MANUAL REVIEW\n",
    "# state[state['district'] == ''].index[:20]\n",
    "# state.loc[state[state['district'] == ''].index[:20]]\n",
    "# # gj[gj['district'] == '']['district'] = 'Ahmadabad'"
   ]
  },
  {
   "cell_type": "code",
   "execution_count": null,
   "metadata": {},
   "outputs": [],
   "source": [
    "def get_district_death_df(df_deaths_recoveries, state, district):\n",
    "    deceased = df_deaths_recoveries[df_deaths_recoveries['patientstatus'] == 'Deceased']\n",
    "    statedf = deceased[deceased['state'] == state]\n",
    "    unknown = statedf[statedf['district'] == '']\n",
    "    print(f'{len(unknown)} deaths in {state} with unknown district')\n",
    "    if state == 'Gujarat':\n",
    "        print(f'adding {len(unknown)} deaths to Ahmadabad count')\n",
    "        statedf['district'][statedf['district'] == ''] = 'Ahmadabad'\n",
    "        districtdf = statedf[statedf['district'].isin(district)]\n",
    "    elif state == 'Maharashtra':\n",
    "        num_unknown = len(unknown)\n",
    "        thirds = num_unknown//3\n",
    "        print(f'adding {thirds} deaths to Mumbai/Pune each')\n",
    "        print(len(statedf[statedf['district'].isin(district)]))\n",
    "        unknown_index = statedf['district'][statedf['district'] == ''].index\n",
    "        statedf.loc[statedf[statedf['district'] == ''].index[:thirds]] = 'Mumbai'\n",
    "        statedf.loc[statedf[statedf['district'] == ''].index[thirds:]] = 'Pune'\n",
    "        print(len(statedf[statedf['district'].isin(district)]))\n",
    "        districtdf = statedf[statedf['district'].isin(district)]\n",
    "    elif state == 'Rajasthan':\n",
    "        districtdf = statedf[statedf['district'].isin(district)]\n",
    "    elif state == 'Karnataka':\n",
    "        districtdf = statedf[statedf['district'].isin(district)]\n",
    "    elif state == 'Delhi':\n",
    "        num_unknown = len(unknown)\n",
    "        print(f'adding {num_unknown} deaths to New Delhi')\n",
    "        statedf['district'][statedf['district'] == ''] = 'New Delhi'\n",
    "        districtdf = statedf[statedf['district'].isin(district)]\n",
    "    return districtdf"
   ]
  },
  {
   "cell_type": "code",
   "execution_count": null,
   "metadata": {},
   "outputs": [],
   "source": [
    "def get_district_time_series(dataframes, state='Karnataka', district='Bengaluru'):\n",
    "    if district == 'all':\n",
    "        districtwise = dataframes['df_districtwise']\n",
    "        district = districtwise[districtwise['state'] == state]['district'].unique().tolist()\n",
    "        district.append('')\n",
    "    elif type(district) != list:\n",
    "        district = [district]\n",
    "        # district_timeseries = {}\n",
    "        # for (s, d) in list(zip(state, district)):\n",
    "        #     district_timeseries[d] = get_district_time_series(dataframes, state=s, district=d)\n",
    "        # return district_timeseries\n",
    "    # else:\n",
    "    df_raw_data_1 = dataframes['df_raw_data'][dataframes['df_raw_data']['detectedstate'] == state]\n",
    "    df_raw_data_1 = df_raw_data_1[df_raw_data_1['detecteddistrict'].isin(district)]\n",
    "    if len(df_raw_data_1) == 0:\n",
    "        return None\n",
    "    df_raw_data_1['dateannounced'] = pd.to_datetime(df_raw_data_1['dateannounced'], format='%d/%m/%Y')\n",
    "    index = pd.date_range(np.min(df_raw_data_1['dateannounced']), np.max(df_raw_data_1['dateannounced']))\n",
    "    df_district = pd.DataFrame(columns=['total_confirmed'], index=index)\n",
    "    df_district['total_confirmed'] = [0]*len(index)\n",
    "    for _, row in df_raw_data_1.iterrows():\n",
    "        df_district.loc[row['dateannounced']:, 'total_confirmed'] += 1\n",
    "\n",
    "    # Deaths calculation\n",
    "    deathsdf = get_district_death_df(dataframes['df_deaths_recoveries'], state, district)\n",
    "    deathsdf = deathsdf[deathsdf['state'] == state]\n",
    "    deathsdf = deathsdf[deathsdf['district'].isin(district)]\n",
    "    deathsdf['date'] = pd.to_datetime(deathsdf['date'], format='%d/%m/%Y')\n",
    "    df_district['total_deaths'] = [0]*len(index)\n",
    "    \n",
    "    for _, row in deathsdf.iterrows():\n",
    "        if row['patientstatus'] == 'Deceased':\n",
    "            date = pd.to_datetime(row['date'], format='%d/%m/%Y')\n",
    "            df_district.loc[date:, 'total_deaths'] += 1\n",
    "\n",
    "    df_district.reset_index(inplace=True)\n",
    "    df_district.columns = ['date', 'total_confirmed', 'total_deaths']\n",
    "    return df_district"
   ]
  },
  {
   "cell_type": "code",
   "execution_count": null,
   "metadata": {
    "tags": [
     "outputPrepend"
    ]
   },
   "outputs": [],
   "source": [
    "# df_raw_data_1\n",
    "district_timeseries = get_district_time_series(dataframes, state='Delhi', district='all')"
   ]
  },
  {
   "cell_type": "code",
   "execution_count": null,
   "metadata": {},
   "outputs": [],
   "source": [
    "district_timeseries"
   ]
  },
  {
   "cell_type": "code",
   "execution_count": null,
   "metadata": {},
   "outputs": [],
   "source": [
    "districts = ['Mumbai', 'Bengaluru', 'Ahmadabad', 'Jaipur', 'Pune', 'New Delhi']\n",
    "district_timeseries = get_district_time_series(dataframes, state=['Maharashtra', 'Karnataka', 'Gujarat', 'Rajasthan', 'Maharashtra', 'Delhi'], district=districts)\n",
    "district_timeseries.keys()"
   ]
  },
  {
   "cell_type": "code",
   "execution_count": null,
   "metadata": {},
   "outputs": [],
   "source": [
    "data = district_timeseries['Ahmadabad'].set_index('date')\n",
    "data"
   ]
  },
  {
   "cell_type": "code",
   "execution_count": null,
   "metadata": {},
   "outputs": [],
   "source": [
    "# get age data in bands\n",
    "filenames = 'DDW-{}00C-13'\n",
    "state_file_mapping = {\n",
    "    filenames.format('24'): 'Gujarat',\n",
    "    filenames.format('29'): 'Karnataka',\n",
    "    filenames.format('27'): 'Maharashtra',\n",
    "    filenames.format('07'): 'Delhi',\n",
    "    filenames.format('08'): 'Rajasthan',\n",
    "}\n",
    "\n",
    "age_data = {}\n",
    "directory = '../../data/data/census/'\n",
    "for filename in os.listdir(directory):\n",
    "    df = pd.read_excel(os.path.join(directory, filename))\n",
    "    age_data[state_file_mapping[filename.split('.')[0]]] = df.dropna(how='all')\n",
    "\n",
    "age_data.keys()"
   ]
  },
  {
   "cell_type": "code",
   "execution_count": null,
   "metadata": {},
   "outputs": [],
   "source": [
    "def clean(raw_all_district_age_data):\n",
    "    transposed = raw_all_district_age_data.head(3).T\n",
    "    transposed.fillna('', inplace=True)\n",
    "    new = transposed[transposed.columns[0]]\n",
    "    for x in transposed.columns[1:]:\n",
    "        new += transposed[x] \n",
    "    all_district_age_data = raw_all_district_age_data.copy()\n",
    "    all_district_age_data.columns = new.T\n",
    "    return all_district_age_data[4:]"
   ]
  },
  {
   "cell_type": "code",
   "execution_count": null,
   "metadata": {},
   "outputs": [],
   "source": [
    "raw_all_district_age_data = age_data['Gujarat']\n"
   ]
  },
  {
   "cell_type": "code",
   "execution_count": null,
   "metadata": {},
   "outputs": [],
   "source": [
    "all_district_age_data = clean(raw_all_district_age_data)"
   ]
  },
  {
   "cell_type": "code",
   "execution_count": null,
   "metadata": {},
   "outputs": [],
   "source": [
    "test = clean(age_data['Karnataka'])\n",
    "test['Area Name'].unique()"
   ]
  },
  {
   "cell_type": "code",
   "execution_count": null,
   "metadata": {},
   "outputs": [],
   "source": [
    "# Get relevant district(s) data\n",
    "district_age_data = all_district_age_data[all_district_age_data['Area Name'] == 'District - Ahmadabad (07)']\n",
    "state_age_data = all_district_age_data[all_district_age_data['Area Name'] == 'State - GUJARAT (24)']\n",
    "# or district_age_data['Distt.Code'] = 474 "
   ]
  },
  {
   "cell_type": "code",
   "execution_count": null,
   "metadata": {},
   "outputs": [],
   "source": [
    "# district_age_data['Age'].unique()"
   ]
  },
  {
   "cell_type": "code",
   "execution_count": null,
   "metadata": {},
   "outputs": [],
   "source": [
    "def create_age_bands():\n",
    "    age_bands = {}\n",
    "    for a in range(9):\n",
    "        lower = a * 10\n",
    "        upper = lower + 9\n",
    "        if lower == 80:\n",
    "            age_bands[f'{lower}+'] = list(range(lower, upper+11))\n",
    "            age_bands[f'{lower}+'] += ['100+']\n",
    "        else:\n",
    "            age_bands[f'{lower}-{upper}'] = list(range(lower, upper+1))\n",
    "    return age_bands"
   ]
  },
  {
   "cell_type": "code",
   "execution_count": null,
   "metadata": {},
   "outputs": [],
   "source": [
    "age_bands = create_age_bands()\n",
    "age_bands"
   ]
  },
  {
   "cell_type": "code",
   "execution_count": null,
   "metadata": {},
   "outputs": [],
   "source": [
    "def get_age_band_population(age_data):\n",
    "    # filter for age bands and sum\n",
    "    total_pop = age_data[age_data['Age'] == 'All ages']['TotalPersons'].values[0]\n",
    "    unknown_pop = age_data[age_data['Age'] == 'Age not stated']['TotalPersons'].values[0]\n",
    "    total_pop -= unknown_pop\n",
    "\n",
    "    age_band_pops = {}\n",
    "    for key, band in age_bands.items():\n",
    "        pop = age_data[age_data['Age'].isin(band)]['TotalPersons'].sum()\n",
    "        age_band_pops[key] = pop\n",
    "    return age_band_pops, total_pop"
   ]
  },
  {
   "cell_type": "code",
   "execution_count": null,
   "metadata": {},
   "outputs": [],
   "source": [
    "state_age_band_pops, state_total_pop = get_age_band_population(state_age_data)\n",
    "district_age_band_pops, district_total_pop = get_age_band_population(district_age_data)\n",
    "district_age_band_pops, district_total_pop"
   ]
  },
  {
   "cell_type": "code",
   "execution_count": null,
   "metadata": {},
   "outputs": [],
   "source": [
    "assert(state_total_pop == sum(state_age_band_pops.values()))\n",
    "assert(district_total_pop == sum(district_age_band_pops.values()))"
   ]
  },
  {
   "cell_type": "code",
   "execution_count": null,
   "metadata": {},
   "outputs": [],
   "source": [
    "state_age_band_ratios = {k: v / state_total_pop for k, v in state_age_band_pops.items()}\n",
    "district_age_band_ratios = {k: v / district_total_pop for k, v in district_age_band_pops.items()}\n",
    "district_age_band_ratios"
   ]
  },
  {
   "cell_type": "code",
   "execution_count": null,
   "metadata": {},
   "outputs": [],
   "source": [
    "ref_age_band_ratios = {\n",
    "    '0-9': 0.1144545912,\n",
    "    '10-19': 0.1096780507,\n",
    "    '20-29': 0.1387701325,\n",
    "    '30-39': 0.1481915984,\n",
    "    '40-49': 0.1548679659,\n",
    "    '50-59': 0.1428622446,\n",
    "    '60-69': 0.1092853481,\n",
    "    '70-79': 0.05542319854,\n",
    "    '80+': 0.02646687006,\n",
    "}\n",
    "\n",
    "# calculated here: https://docs.google.com/spreadsheets/d/1APX7XwoJPIbUXOgXa2vZNreDn6UseBucSGq9fh-N5jE/edit#gid=1859974541\n",
    "ref_mortality_rate = {\n",
    "    '0-9': 0.0002447933091,\n",
    "    '10-19': 0.000377136454,\n",
    "    '20-29': 0.0009389093188,\n",
    "    '30-39': 0.001769966645,\n",
    "    '40-49': 0.003645033792,\n",
    "    '50-59': 0.01343325563,\n",
    "    '60-69': 0.03884219978,\n",
    "    '70-79': 0.08406020728,\n",
    "    '80+': 0.1421208672,\n",
    "}"
   ]
  },
  {
   "cell_type": "code",
   "execution_count": null,
   "metadata": {},
   "outputs": [],
   "source": [
    "implied_mortality_age = {}\n",
    "for k in ref_mortality_rate.keys():\n",
    "    implied_mortality_age[k] = ref_age_band_ratios[k] * ref_mortality_rate[k]\n",
    "\n",
    "implied_mortality = sum(implied_mortality_age.values())\n",
    "# age weighted mortality based on other countries\n",
    "implied_mortality"
   ]
  },
  {
   "cell_type": "code",
   "execution_count": null,
   "metadata": {},
   "outputs": [],
   "source": [
    "# need mortality rate from India -- this is going to be dependent on case data, so introducing that testing bias...\n",
    "daily_observed_mortality = data['total_deaths']/data['total_confirmed']\n",
    "# observed deaths/known cases\n",
    "daily_observed_mortality"
   ]
  },
  {
   "cell_type": "code",
   "execution_count": null,
   "metadata": {},
   "outputs": [],
   "source": [
    "daily_mortality_ratio = daily_observed_mortality/implied_mortality\n",
    "# how much different is it observed than 'implied'\n",
    "daily_mortality_ratio"
   ]
  },
  {
   "cell_type": "code",
   "execution_count": null,
   "metadata": {},
   "outputs": [],
   "source": [
    "age_stratified_daily_mortality = {}\n",
    "for k in ref_mortality_rate.keys():\n",
    "    age_stratified_daily_mortality[k] = daily_mortality_ratio * ref_mortality_rate[k]\n",
    "\n",
    "# mortality rate accounting for observed/implied discrepancy\n",
    "age_stratified_daily_mortality['70-79']"
   ]
  },
  {
   "cell_type": "code",
   "execution_count": null,
   "metadata": {},
   "outputs": [],
   "source": [
    "age_std_mortality = sum([age_stratified_daily_mortality[k] * district_age_band_ratios[k] for k in district_age_band_ratios.keys()])\n",
    "# mortality rate accounting for observed/implied discrepancy and weighted by model location age\n",
    "age_std_mortality"
   ]
  },
  {
   "cell_type": "code",
   "execution_count": null,
   "metadata": {},
   "outputs": [],
   "source": [
    "log_age_std_mortality = np.log(age_std_mortality)\n",
    "log_age_std_mortality"
   ]
  },
  {
   "cell_type": "code",
   "execution_count": null,
   "metadata": {},
   "outputs": [],
   "source": [
    "checker = pd.DataFrame()\n",
    "print(district_total_pop)\n",
    "checker['age_std'] = age_std_mortality\n",
    "checker['non_std'] = data['total_deaths']/data['total_confirmed']\n",
    "checker"
   ]
  },
  {
   "cell_type": "code",
   "execution_count": null,
   "metadata": {},
   "outputs": [],
   "source": []
  }
 ],
 "metadata": {
  "kernelspec": {
   "display_name": "Python 3",
   "language": "python",
   "name": "python3"
  },
  "language_info": {
   "codemirror_mode": {
    "name": "ipython",
    "version": 3
   },
   "file_extension": ".py",
   "mimetype": "text/x-python",
   "name": "python",
   "nbconvert_exporter": "python",
   "pygments_lexer": "ipython3"
  }
 },
 "nbformat": 4,
 "nbformat_minor": 4
}
