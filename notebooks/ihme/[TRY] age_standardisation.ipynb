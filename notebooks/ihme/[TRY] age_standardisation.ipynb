{
 "cells": [
  {
   "cell_type": "code",
   "execution_count": 175,
   "metadata": {},
   "outputs": [],
   "source": [
    "import pandas as pd\n",
    "import numpy as np\n",
    "import requests\n",
    "import datetime\n",
    "import os\n",
    "sys.path.append('../..')"
   ]
  },
  {
   "cell_type": "code",
   "execution_count": 176,
   "metadata": {},
   "outputs": [],
   "source": [
    "from data.dataloader import get_covid19india_api_data, get_rootnet_api_data"
   ]
  },
  {
   "cell_type": "code",
   "execution_count": 177,
   "metadata": {},
   "outputs": [],
   "source": [
    "dataframes = get_covid19india_api_data()"
   ]
  },
  {
   "cell_type": "code",
   "execution_count": 178,
   "metadata": {},
   "outputs": [
    {
     "output_type": "execute_result",
     "data": {
      "text/plain": "dict_keys(['df_tested', 'df_statewise', 'df_india_time_series', 'df_districtwise', 'df_raw_data', 'df_raw_data_2', 'df_travel_history', 'df_resources'])"
     },
     "metadata": {},
     "execution_count": 178
    }
   ],
   "source": [
    "dataframes.keys()"
   ]
  },
  {
   "cell_type": "code",
   "execution_count": 286,
   "metadata": {},
   "outputs": [
    {
     "output_type": "execute_result",
     "data": {
      "text/plain": "array(['Ahmadabad', 'Anand', 'Aravalli', 'Banas Kantha', 'Bharuch',\n       'Bhavnagar', 'Botad', 'Chota Udaipur', 'Dahod', 'Gandhinagar',\n       'Gir Somnath', 'Jamnagar', 'Kachchh', 'Kheda', 'Mahesana',\n       'Mahisagar', 'Morbi', 'Narmada', 'Navsari', 'Panch Mahals',\n       'Patan', 'Porbandar', 'Rajkot', 'Sabar Kantha', 'Surat', 'Tapi',\n       'Dang', 'Vadodara', 'Valsad', 'Unknown'], dtype=object)"
     },
     "metadata": {},
     "execution_count": 286
    }
   ],
   "source": [
    "\n",
    "districtwise = dataframes['df_districtwise']\n",
    "districtwise[districtwise['state'] == 'Gujarat']['district'].unique()\n",
    "# districtwise[districtwise['state'] == 'Gujarat']"
   ]
  },
  {
   "cell_type": "code",
   "execution_count": 366,
   "metadata": {},
   "outputs": [
    {
     "output_type": "execute_result",
     "data": {
      "text/plain": "    agebracket city        date district gender nationality            notes  \\\n235                  02/04/2020                              Details awaited   \n236                  02/04/2020                              Details awaited   \n237                  02/04/2020                              Details awaited   \n239                  02/04/2020                              Details awaited   \n269                  03/04/2020                              Details awaited   \n270                  03/04/2020                              Details awaited   \n271                  03/04/2020                              Details awaited   \n272                  03/04/2020                              Details awaited   \n273                  03/04/2020                              Details awaited   \n778                  09/04/2020                              Details awaited   \n779                  09/04/2020                              Details awaited   \n780                  09/04/2020                              Details awaited   \n781                  09/04/2020                              Details awaited   \n782                  09/04/2020                              Details awaited   \n783                  09/04/2020                              Details awaited   \n784                  09/04/2020                              Details awaited   \n785                  09/04/2020                              Details awaited   \n786                  09/04/2020                              Details awaited   \n787                  09/04/2020                              Details awaited   \n788                  09/04/2020                              Details awaited   \n\n    patientnumbercouldbemappedlater patientstatus slno  \\\n235                                      Deceased  248   \n236                                      Deceased  249   \n237                                      Deceased  250   \n239                                      Deceased  262   \n269                                      Deceased  302   \n270                                      Deceased  303   \n271                                      Deceased  304   \n272                                      Deceased  305   \n273                                      Deceased  306   \n778                                      Deceased  815   \n779                                      Deceased  816   \n780                                      Deceased  817   \n781                                      Deceased  818   \n782                                      Deceased  819   \n783                                      Deceased  820   \n784                                      Deceased  821   \n785                                      Deceased  822   \n786                                      Deceased  823   \n787                                      Deceased  824   \n788                                      Deceased  825   \n\n                                               source1 source2 source3  \\\n235  https://twitter.com/ANI/status/124569425319748...                   \n236  https://twitter.com/ANI/status/124569425319748...                   \n237  https://twitter.com/ANI/status/124569425319748...                   \n239  https://twitter.com/PTI_News/status/1245752854...                   \n269  https://twitter.com/PTI_News/status/1246098331...                   \n270  https://twitter.com/PTI_News/status/1246098331...                   \n271  https://twitter.com/PTI_News/status/1246098331...                   \n272  https://twitter.com/PTI_News/status/1246098331...                   \n273  https://twitter.com/PTI_News/status/1246098331...                   \n778  https://arogya.maharashtra.gov.in/pdf/covidmpr...                   \n779  https://arogya.maharashtra.gov.in/pdf/covidmpr...                   \n780  https://arogya.maharashtra.gov.in/pdf/covidmpr...                   \n781  https://arogya.maharashtra.gov.in/pdf/covidmpr...                   \n782  https://arogya.maharashtra.gov.in/pdf/covidmpr...                   \n783  https://arogya.maharashtra.gov.in/pdf/covidmpr...                   \n784  https://arogya.maharashtra.gov.in/pdf/covidmpr...                   \n785  https://arogya.maharashtra.gov.in/pdf/covidmpr...                   \n786  https://arogya.maharashtra.gov.in/pdf/covidmpr...                   \n787  https://arogya.maharashtra.gov.in/pdf/covidmpr...                   \n788  https://arogya.maharashtra.gov.in/pdf/covidmpr...                   \n\n           state statecode  \n235  Maharashtra        MH  \n236  Maharashtra        MH  \n237  Maharashtra        MH  \n239  Maharashtra        MH  \n269  Maharashtra        MH  \n270  Maharashtra        MH  \n271  Maharashtra        MH  \n272  Maharashtra        MH  \n273  Maharashtra        MH  \n778  Maharashtra        MH  \n779  Maharashtra        MH  \n780  Maharashtra        MH  \n781  Maharashtra        MH  \n782  Maharashtra        MH  \n783  Maharashtra        MH  \n784  Maharashtra        MH  \n785  Maharashtra        MH  \n786  Maharashtra        MH  \n787  Maharashtra        MH  \n788  Maharashtra        MH  ",
      "text/html": "<div>\n<style scoped>\n    .dataframe tbody tr th:only-of-type {\n        vertical-align: middle;\n    }\n\n    .dataframe tbody tr th {\n        vertical-align: top;\n    }\n\n    .dataframe thead th {\n        text-align: right;\n    }\n</style>\n<table border=\"1\" class=\"dataframe\">\n  <thead>\n    <tr style=\"text-align: right;\">\n      <th></th>\n      <th>agebracket</th>\n      <th>city</th>\n      <th>date</th>\n      <th>district</th>\n      <th>gender</th>\n      <th>nationality</th>\n      <th>notes</th>\n      <th>patientnumbercouldbemappedlater</th>\n      <th>patientstatus</th>\n      <th>slno</th>\n      <th>source1</th>\n      <th>source2</th>\n      <th>source3</th>\n      <th>state</th>\n      <th>statecode</th>\n    </tr>\n  </thead>\n  <tbody>\n    <tr>\n      <th>235</th>\n      <td></td>\n      <td></td>\n      <td>02/04/2020</td>\n      <td></td>\n      <td></td>\n      <td></td>\n      <td>Details awaited</td>\n      <td></td>\n      <td>Deceased</td>\n      <td>248</td>\n      <td>https://twitter.com/ANI/status/124569425319748...</td>\n      <td></td>\n      <td></td>\n      <td>Maharashtra</td>\n      <td>MH</td>\n    </tr>\n    <tr>\n      <th>236</th>\n      <td></td>\n      <td></td>\n      <td>02/04/2020</td>\n      <td></td>\n      <td></td>\n      <td></td>\n      <td>Details awaited</td>\n      <td></td>\n      <td>Deceased</td>\n      <td>249</td>\n      <td>https://twitter.com/ANI/status/124569425319748...</td>\n      <td></td>\n      <td></td>\n      <td>Maharashtra</td>\n      <td>MH</td>\n    </tr>\n    <tr>\n      <th>237</th>\n      <td></td>\n      <td></td>\n      <td>02/04/2020</td>\n      <td></td>\n      <td></td>\n      <td></td>\n      <td>Details awaited</td>\n      <td></td>\n      <td>Deceased</td>\n      <td>250</td>\n      <td>https://twitter.com/ANI/status/124569425319748...</td>\n      <td></td>\n      <td></td>\n      <td>Maharashtra</td>\n      <td>MH</td>\n    </tr>\n    <tr>\n      <th>239</th>\n      <td></td>\n      <td></td>\n      <td>02/04/2020</td>\n      <td></td>\n      <td></td>\n      <td></td>\n      <td>Details awaited</td>\n      <td></td>\n      <td>Deceased</td>\n      <td>262</td>\n      <td>https://twitter.com/PTI_News/status/1245752854...</td>\n      <td></td>\n      <td></td>\n      <td>Maharashtra</td>\n      <td>MH</td>\n    </tr>\n    <tr>\n      <th>269</th>\n      <td></td>\n      <td></td>\n      <td>03/04/2020</td>\n      <td></td>\n      <td></td>\n      <td></td>\n      <td>Details awaited</td>\n      <td></td>\n      <td>Deceased</td>\n      <td>302</td>\n      <td>https://twitter.com/PTI_News/status/1246098331...</td>\n      <td></td>\n      <td></td>\n      <td>Maharashtra</td>\n      <td>MH</td>\n    </tr>\n    <tr>\n      <th>270</th>\n      <td></td>\n      <td></td>\n      <td>03/04/2020</td>\n      <td></td>\n      <td></td>\n      <td></td>\n      <td>Details awaited</td>\n      <td></td>\n      <td>Deceased</td>\n      <td>303</td>\n      <td>https://twitter.com/PTI_News/status/1246098331...</td>\n      <td></td>\n      <td></td>\n      <td>Maharashtra</td>\n      <td>MH</td>\n    </tr>\n    <tr>\n      <th>271</th>\n      <td></td>\n      <td></td>\n      <td>03/04/2020</td>\n      <td></td>\n      <td></td>\n      <td></td>\n      <td>Details awaited</td>\n      <td></td>\n      <td>Deceased</td>\n      <td>304</td>\n      <td>https://twitter.com/PTI_News/status/1246098331...</td>\n      <td></td>\n      <td></td>\n      <td>Maharashtra</td>\n      <td>MH</td>\n    </tr>\n    <tr>\n      <th>272</th>\n      <td></td>\n      <td></td>\n      <td>03/04/2020</td>\n      <td></td>\n      <td></td>\n      <td></td>\n      <td>Details awaited</td>\n      <td></td>\n      <td>Deceased</td>\n      <td>305</td>\n      <td>https://twitter.com/PTI_News/status/1246098331...</td>\n      <td></td>\n      <td></td>\n      <td>Maharashtra</td>\n      <td>MH</td>\n    </tr>\n    <tr>\n      <th>273</th>\n      <td></td>\n      <td></td>\n      <td>03/04/2020</td>\n      <td></td>\n      <td></td>\n      <td></td>\n      <td>Details awaited</td>\n      <td></td>\n      <td>Deceased</td>\n      <td>306</td>\n      <td>https://twitter.com/PTI_News/status/1246098331...</td>\n      <td></td>\n      <td></td>\n      <td>Maharashtra</td>\n      <td>MH</td>\n    </tr>\n    <tr>\n      <th>778</th>\n      <td></td>\n      <td></td>\n      <td>09/04/2020</td>\n      <td></td>\n      <td></td>\n      <td></td>\n      <td>Details awaited</td>\n      <td></td>\n      <td>Deceased</td>\n      <td>815</td>\n      <td>https://arogya.maharashtra.gov.in/pdf/covidmpr...</td>\n      <td></td>\n      <td></td>\n      <td>Maharashtra</td>\n      <td>MH</td>\n    </tr>\n    <tr>\n      <th>779</th>\n      <td></td>\n      <td></td>\n      <td>09/04/2020</td>\n      <td></td>\n      <td></td>\n      <td></td>\n      <td>Details awaited</td>\n      <td></td>\n      <td>Deceased</td>\n      <td>816</td>\n      <td>https://arogya.maharashtra.gov.in/pdf/covidmpr...</td>\n      <td></td>\n      <td></td>\n      <td>Maharashtra</td>\n      <td>MH</td>\n    </tr>\n    <tr>\n      <th>780</th>\n      <td></td>\n      <td></td>\n      <td>09/04/2020</td>\n      <td></td>\n      <td></td>\n      <td></td>\n      <td>Details awaited</td>\n      <td></td>\n      <td>Deceased</td>\n      <td>817</td>\n      <td>https://arogya.maharashtra.gov.in/pdf/covidmpr...</td>\n      <td></td>\n      <td></td>\n      <td>Maharashtra</td>\n      <td>MH</td>\n    </tr>\n    <tr>\n      <th>781</th>\n      <td></td>\n      <td></td>\n      <td>09/04/2020</td>\n      <td></td>\n      <td></td>\n      <td></td>\n      <td>Details awaited</td>\n      <td></td>\n      <td>Deceased</td>\n      <td>818</td>\n      <td>https://arogya.maharashtra.gov.in/pdf/covidmpr...</td>\n      <td></td>\n      <td></td>\n      <td>Maharashtra</td>\n      <td>MH</td>\n    </tr>\n    <tr>\n      <th>782</th>\n      <td></td>\n      <td></td>\n      <td>09/04/2020</td>\n      <td></td>\n      <td></td>\n      <td></td>\n      <td>Details awaited</td>\n      <td></td>\n      <td>Deceased</td>\n      <td>819</td>\n      <td>https://arogya.maharashtra.gov.in/pdf/covidmpr...</td>\n      <td></td>\n      <td></td>\n      <td>Maharashtra</td>\n      <td>MH</td>\n    </tr>\n    <tr>\n      <th>783</th>\n      <td></td>\n      <td></td>\n      <td>09/04/2020</td>\n      <td></td>\n      <td></td>\n      <td></td>\n      <td>Details awaited</td>\n      <td></td>\n      <td>Deceased</td>\n      <td>820</td>\n      <td>https://arogya.maharashtra.gov.in/pdf/covidmpr...</td>\n      <td></td>\n      <td></td>\n      <td>Maharashtra</td>\n      <td>MH</td>\n    </tr>\n    <tr>\n      <th>784</th>\n      <td></td>\n      <td></td>\n      <td>09/04/2020</td>\n      <td></td>\n      <td></td>\n      <td></td>\n      <td>Details awaited</td>\n      <td></td>\n      <td>Deceased</td>\n      <td>821</td>\n      <td>https://arogya.maharashtra.gov.in/pdf/covidmpr...</td>\n      <td></td>\n      <td></td>\n      <td>Maharashtra</td>\n      <td>MH</td>\n    </tr>\n    <tr>\n      <th>785</th>\n      <td></td>\n      <td></td>\n      <td>09/04/2020</td>\n      <td></td>\n      <td></td>\n      <td></td>\n      <td>Details awaited</td>\n      <td></td>\n      <td>Deceased</td>\n      <td>822</td>\n      <td>https://arogya.maharashtra.gov.in/pdf/covidmpr...</td>\n      <td></td>\n      <td></td>\n      <td>Maharashtra</td>\n      <td>MH</td>\n    </tr>\n    <tr>\n      <th>786</th>\n      <td></td>\n      <td></td>\n      <td>09/04/2020</td>\n      <td></td>\n      <td></td>\n      <td></td>\n      <td>Details awaited</td>\n      <td></td>\n      <td>Deceased</td>\n      <td>823</td>\n      <td>https://arogya.maharashtra.gov.in/pdf/covidmpr...</td>\n      <td></td>\n      <td></td>\n      <td>Maharashtra</td>\n      <td>MH</td>\n    </tr>\n    <tr>\n      <th>787</th>\n      <td></td>\n      <td></td>\n      <td>09/04/2020</td>\n      <td></td>\n      <td></td>\n      <td></td>\n      <td>Details awaited</td>\n      <td></td>\n      <td>Deceased</td>\n      <td>824</td>\n      <td>https://arogya.maharashtra.gov.in/pdf/covidmpr...</td>\n      <td></td>\n      <td></td>\n      <td>Maharashtra</td>\n      <td>MH</td>\n    </tr>\n    <tr>\n      <th>788</th>\n      <td></td>\n      <td></td>\n      <td>09/04/2020</td>\n      <td></td>\n      <td></td>\n      <td></td>\n      <td>Details awaited</td>\n      <td></td>\n      <td>Deceased</td>\n      <td>825</td>\n      <td>https://arogya.maharashtra.gov.in/pdf/covidmpr...</td>\n      <td></td>\n      <td></td>\n      <td>Maharashtra</td>\n      <td>MH</td>\n    </tr>\n  </tbody>\n</table>\n</div>"
     },
     "metadata": {},
     "execution_count": 366
    }
   ],
   "source": [
    "dataframes['df_raw_data_2'].columns\n",
    "xyz = dataframes['df_raw_data_2']\n",
    "deceased = xyz[xyz['patientstatus'] == 'Deceased']\n",
    "# deceased[deceased['district'] == '']['state'].value_counts()\n",
    "state = deceased[deceased['state'] == 'Maharashtra']\n",
    "#  MANUAL CLEANUP + ASSUMPTIONS MADE IN CODE AFTER PRELIM MANUAL REVIEW\n",
    "state[state['district'] == ''].index[:20]\n",
    "state.loc[state[state['district'] == ''].index[:20]]\n",
    "# gj[gj['district'] == '']['district'] = 'Ahmadabad'\n"
   ]
  },
  {
   "cell_type": "code",
   "execution_count": 367,
   "metadata": {},
   "outputs": [],
   "source": [
    "def get_district_death_df(df_raw_data_2, state, district):\n",
    "    deceased = df_raw_data_2[df_raw_data_2['patientstatus'] == 'Deceased']\n",
    "    statedf = deceased[deceased['state'] == state]\n",
    "    unknown = statedf[statedf['district'] == '']\n",
    "    print(f'{len(unknown)} deaths in {state} with unknown district')\n",
    "    if district == 'Ahmadabad':\n",
    "        print(f'adding {len(unknown)} deaths to Ahmadabad count')\n",
    "        statedf['district'][statedf['district'] == ''] = district\n",
    "        districtdf = statedf[statedf['district'] == district]\n",
    "    elif state == 'Maharashtra':\n",
    "        num_unknown = len(unknown)\n",
    "        thirds = num_unknown//3\n",
    "        print(f'adding {thirds} deaths to Mumbai/Pune each')\n",
    "        print(len(statedf[statedf['district'] == district]))\n",
    "        unknown_index = statedf['district'][statedf['district'] == ''].index\n",
    "        statedf.loc[statedf[statedf['district'] == ''].index[:thirds]] = 'Mumbai'\n",
    "        statedf.loc[statedf[statedf['district'] == ''].index[thirds:]] = 'Pune'\n",
    "        print(len(statedf[statedf['district'] == district]))\n",
    "        districtdf = statedf[statedf['district'] == district]\n",
    "    elif state == 'Rajasthan':\n",
    "        districtdf = statedf[statedf['district'] == district]\n",
    "    elif state == 'Karnataka':\n",
    "        districtdf = statedf[statedf['district'] == district]\n",
    "    elif state == 'Delhi':\n",
    "        districtdf = statedf[statedf['district'] == district]\n",
    "    return districtdf"
   ]
  },
  {
   "cell_type": "code",
   "execution_count": 368,
   "metadata": {},
   "outputs": [],
   "source": [
    "\n",
    "def get_district_time_series(dataframes, state='Karnataka', district='Bengaluru'):\n",
    "    if district == 'all' or type(district) == list:\n",
    "        if district == 'all':\n",
    "            districtwise = dataframes['df_districtwise']\n",
    "            district = districtwise[districtwise['state'] == state]['district'].unique()\n",
    "            state = len(district) * [state]\n",
    "        district_timeseries = {}\n",
    "        for (s, d) in list(zip(state, districts)):\n",
    "            district_timeseries[d] = get_district_time_series(dataframes, state=s, district=d)\n",
    "        return district_timeseries\n",
    "    else:    \n",
    "        df_raw_data_1 = dataframes['df_raw_data'][dataframes['df_raw_data']['detectedstate'] == state]\n",
    "        df_raw_data_1 = df_raw_data_1[df_raw_data_1['detecteddistrict'] == district]\n",
    "        df_raw_data_1['dateannounced'] = pd.to_datetime(df_raw_data_1['dateannounced'], format='%d/%m/%Y')\n",
    "\n",
    "        index = pd.date_range(np.min(df_raw_data_1['dateannounced']), np.max(df_raw_data_1['dateannounced']))\n",
    "\n",
    "        df_district = pd.DataFrame(columns=['total_confirmed'], index=index)\n",
    "        df_district['total_confirmed'] = [0]*len(index)\n",
    "        for _, row in df_raw_data_1.iterrows():\n",
    "            df_district.loc[row['dateannounced']:, 'total_confirmed'] += 1\n",
    "\n",
    "        # Deaths calculation\n",
    "        deathsdf = get_district_death_df(dataframes['df_raw_data_2'], state, district)\n",
    "        deathsdf = deathsdf[deathsdf['state'] == state]\n",
    "        deathsdf = deathsdf[deathsdf['district'] == district]\n",
    "        deathsdf['date'] = pd.to_datetime(deathsdf['date'], format='%d/%m/%Y')\n",
    "\n",
    "        df_district['total_deaths'] = [0]*len(index)\n",
    "        for _, row in deathsdf.iterrows():\n",
    "            if row['patientstatus'] == 'Deceased':\n",
    "                date = pd.to_datetime(row['date'], format='%d/%m/%Y')\n",
    "                df_district.loc[date:, 'total_deaths'] += 1\n",
    "\n",
    "\n",
    "        df_district.reset_index(inplace=True)\n",
    "        df_district.columns = ['date', 'total_confirmed', 'total_deaths']\n",
    "        return df_district\n"
   ]
  },
  {
   "cell_type": "code",
   "execution_count": 369,
   "metadata": {},
   "outputs": [
    {
     "output_type": "stream",
     "name": "stdout",
     "text": "60 deaths in Maharashtra with unknown district\nadding 20 deaths to Mumbai/Pune each\n153\n173\n4 deaths in Karnataka with unknown district\n21 deaths in Gujarat with unknown district\nadding 21 deaths to Ahmadabad count\n19 deaths in Rajasthan with unknown district\n60 deaths in Maharashtra with unknown district\nadding 20 deaths to Mumbai/Pune each\n46\n66\n50 deaths in Delhi with unknown district\n"
    },
    {
     "output_type": "execute_result",
     "data": {
      "text/plain": "dict_keys(['Mumbai', 'Bengaluru', 'Ahmadabad', 'Jaipur', 'Pune', 'New Delhi'])"
     },
     "metadata": {},
     "execution_count": 369
    }
   ],
   "source": [
    "districts = ['Mumbai', 'Bengaluru', 'Ahmadabad', 'Jaipur', 'Pune', 'New Delhi']\n",
    "district_timeseries = get_district_time_series(dataframes, state=['Maharashtra', 'Karnataka', 'Gujarat', 'Rajasthan', 'Maharashtra', 'Delhi'], district=districts)\n",
    "district_timeseries.keys()"
   ]
  },
  {
   "cell_type": "code",
   "execution_count": 388,
   "metadata": {},
   "outputs": [
    {
     "output_type": "execute_result",
     "data": {
      "text/plain": "            total_confirmed  total_deaths\ndate                                     \n2020-03-20                3             0\n2020-03-21                5             0\n2020-03-22                8             0\n2020-03-23               14             0\n2020-03-24               14             0",
      "text/html": "<div>\n<style scoped>\n    .dataframe tbody tr th:only-of-type {\n        vertical-align: middle;\n    }\n\n    .dataframe tbody tr th {\n        vertical-align: top;\n    }\n\n    .dataframe thead th {\n        text-align: right;\n    }\n</style>\n<table border=\"1\" class=\"dataframe\">\n  <thead>\n    <tr style=\"text-align: right;\">\n      <th></th>\n      <th>total_confirmed</th>\n      <th>total_deaths</th>\n    </tr>\n    <tr>\n      <th>date</th>\n      <th></th>\n      <th></th>\n    </tr>\n  </thead>\n  <tbody>\n    <tr>\n      <th>2020-03-20</th>\n      <td>3</td>\n      <td>0</td>\n    </tr>\n    <tr>\n      <th>2020-03-21</th>\n      <td>5</td>\n      <td>0</td>\n    </tr>\n    <tr>\n      <th>2020-03-22</th>\n      <td>8</td>\n      <td>0</td>\n    </tr>\n    <tr>\n      <th>2020-03-23</th>\n      <td>14</td>\n      <td>0</td>\n    </tr>\n    <tr>\n      <th>2020-03-24</th>\n      <td>14</td>\n      <td>0</td>\n    </tr>\n  </tbody>\n</table>\n</div>"
     },
     "metadata": {},
     "execution_count": 388
    }
   ],
   "source": [
    "data = district_timeseries['Ahmadabad'].set_index('date')\n",
    "data[:5]"
   ]
  },
  {
   "cell_type": "code",
   "execution_count": 389,
   "metadata": {},
   "outputs": [
    {
     "output_type": "execute_result",
     "data": {
      "text/plain": "dict_keys(['DDW-2400C-13', 'DDW-2900C-13', 'DDW-0800C-13', 'DDW-2700C-13', 'DDW-0700C-13'])"
     },
     "metadata": {},
     "execution_count": 389
    }
   ],
   "source": [
    "# get age data in bands\n",
    "age_data = {}\n",
    "directory = '../../data/data/census/'\n",
    "for filename in os.listdir(directory):\n",
    "    df = pd.read_excel(os.path.join(directory, filename))\n",
    "    age_data[filename.split('.')[0]] = df.dropna(how='all')\n",
    "\n",
    "age_data.keys()"
   ]
  },
  {
   "cell_type": "code",
   "execution_count": 390,
   "metadata": {},
   "outputs": [],
   "source": [
    "raw_all_district_age_data = age_data['DDW-2400C-13']\n"
   ]
  },
  {
   "cell_type": "code",
   "execution_count": 391,
   "metadata": {},
   "outputs": [],
   "source": [
    "def clean(raw_all_district_age_data):\n",
    "    transposed = raw_all_district_age_data.head(3).T\n",
    "    transposed.fillna('', inplace=True)\n",
    "    new = transposed[transposed.columns[0]]\n",
    "    for x in transposed.columns[1:]:\n",
    "        print (transposed[x])\n",
    "        new += transposed[x] \n",
    "    all_district_age_data = raw_all_district_age_data.copy()\n",
    "    all_district_age_data.columns = new.T\n",
    "    return all_district_age_data[4:]"
   ]
  },
  {
   "cell_type": "code",
   "execution_count": 392,
   "metadata": {},
   "outputs": [
    {
     "output_type": "stream",
     "name": "stdout",
     "text": "Unnamed: 0                                            Name\nUnnamed: 1                                            Code\nUnnamed: 2                                            Code\nUnnamed: 3                                                \nC-13 SINGLE YEAR AGE RETURNS BY RESIDENCE AND SEX         \nUnnamed: 5                                                \nUnnamed: 6                                                \nUnnamed: 7                                                \nUnnamed: 8                                                \nUnnamed: 9                                                \nUnnamed: 10                                               \nUnnamed: 11                                               \nUnnamed: 12                                               \nUnnamed: 13                                               \nName: 1, dtype: object\nUnnamed: 0                                                   \nUnnamed: 1                                                   \nUnnamed: 2                                                   \nUnnamed: 3                                                   \nC-13 SINGLE YEAR AGE RETURNS BY RESIDENCE AND SEX            \nUnnamed: 5                                            Persons\nUnnamed: 6                                              Males\nUnnamed: 7                                            Females\nUnnamed: 8                                            Persons\nUnnamed: 9                                              Males\nUnnamed: 10                                           Females\nUnnamed: 11                                           Persons\nUnnamed: 12                                             Males\nUnnamed: 13                                           Females\nName: 2, dtype: object\n"
    }
   ],
   "source": [
    "all_district_age_data = clean(raw_all_district_age_data)\n"
   ]
  },
  {
   "cell_type": "code",
   "execution_count": 393,
   "metadata": {},
   "outputs": [],
   "source": [
    "# Get relevant district(s) data\n",
    "district_age_data = all_district_age_data[all_district_age_data['Area Name'] == 'District - Ahmadabad (07)']\n",
    "# or district_age_data['Distt.Code'] = 474 "
   ]
  },
  {
   "cell_type": "code",
   "execution_count": 394,
   "metadata": {},
   "outputs": [
    {
     "output_type": "execute_result",
     "data": {
      "text/plain": "array(['All ages', 0, 1, 2, 3, 4, 5, 6, 7, 8, 9, 10, 11, 12, 13, 14, 15,\n       16, 17, 18, 19, 20, 21, 22, 23, 24, 25, 26, 27, 28, 29, 30, 31, 32,\n       33, 34, 35, 36, 37, 38, 39, 40, 41, 42, 43, 44, 45, 46, 47, 48, 49,\n       50, 51, 52, 53, 54, 55, 56, 57, 58, 59, 60, 61, 62, 63, 64, 65, 66,\n       67, 68, 69, 70, 71, 72, 73, 74, 75, 76, 77, 78, 79, 80, 81, 82, 83,\n       84, 85, 86, 87, 88, 89, 90, 91, 92, 93, 94, 95, 96, 97, 98, 99,\n       '100+', 'Age not stated'], dtype=object)"
     },
     "metadata": {},
     "execution_count": 394
    }
   ],
   "source": [
    "district_age_data['Age'].unique()"
   ]
  },
  {
   "cell_type": "code",
   "execution_count": 395,
   "metadata": {},
   "outputs": [
    {
     "output_type": "execute_result",
     "data": {
      "text/plain": "{'0-9': [0, 1, 2, 3, 4, 5, 6, 7, 8, 9],\n '10-19': [10, 11, 12, 13, 14, 15, 16, 17, 18, 19],\n '20-29': [20, 21, 22, 23, 24, 25, 26, 27, 28, 29],\n '30-39': [30, 31, 32, 33, 34, 35, 36, 37, 38, 39],\n '40-49': [40, 41, 42, 43, 44, 45, 46, 47, 48, 49],\n '50-59': [50, 51, 52, 53, 54, 55, 56, 57, 58, 59],\n '60-69': [60, 61, 62, 63, 64, 65, 66, 67, 68, 69],\n '70-79': [70, 71, 72, 73, 74, 75, 76, 77, 78, 79],\n '80+': [80,\n  81,\n  82,\n  83,\n  84,\n  85,\n  86,\n  87,\n  88,\n  89,\n  90,\n  91,\n  92,\n  93,\n  94,\n  95,\n  96,\n  97,\n  98,\n  99,\n  '100+']}"
     },
     "metadata": {},
     "execution_count": 395
    }
   ],
   "source": [
    "age_bands = {}\n",
    "for a in range(9):\n",
    "    lower = a * 10\n",
    "    upper = lower + 9\n",
    "    if lower == 80:\n",
    "        age_bands[f'{lower}+'] = list(range(lower, upper+11))\n",
    "        age_bands[f'{lower}+'] += ['100+']\n",
    "    else:\n",
    "        age_bands[f'{lower}-{upper}'] = list(range(lower, upper+1))\n",
    "    \n",
    "age_bands"
   ]
  },
  {
   "cell_type": "code",
   "execution_count": 396,
   "metadata": {},
   "outputs": [
    {
     "output_type": "execute_result",
     "data": {
      "text/plain": "{'0-9': 1216635,\n '10-19': 1348459,\n '20-29': 1387764,\n '30-39': 1144310,\n '40-49': 899585,\n '50-59': 620550,\n '60-69': 354147,\n '70-79': 158438,\n '80+': 65017}"
     },
     "metadata": {},
     "execution_count": 396
    }
   ],
   "source": [
    "\n",
    "# filter for age bands and sum\n",
    "total_pop = district_age_data[district_age_data['Age'] == 'All ages']['TotalPersons'].values[0]\n",
    "unknown_pop = district_age_data[district_age_data['Age'] == 'Age not stated']['TotalPersons'].values[0]\n",
    "total_pop -= unknown_pop\n",
    "\n",
    "age_band_pops = {}\n",
    "for key, band in age_bands.items():\n",
    "    pop = district_age_data[district_age_data['Age'].isin(band)]['TotalPersons'].sum()\n",
    "    age_band_pops[key] = pop\n",
    "age_band_pops"
   ]
  },
  {
   "cell_type": "code",
   "execution_count": 397,
   "metadata": {},
   "outputs": [
    {
     "output_type": "execute_result",
     "data": {
      "text/plain": "True"
     },
     "metadata": {},
     "execution_count": 397
    }
   ],
   "source": [
    "total_pop == sum(age_band_pops.values())"
   ]
  },
  {
   "cell_type": "code",
   "execution_count": 398,
   "metadata": {},
   "outputs": [
    {
     "output_type": "execute_result",
     "data": {
      "text/plain": "{'0-9': 0.16909674276449793,\n '10-19': 0.18741859690989665,\n '20-29': 0.19288149044358474,\n '30-39': 0.15904449051099354,\n '40-49': 0.12503083779424468,\n '50-59': 0.08624853281593016,\n '60-69': 0.04922191467434247,\n '70-79': 0.022020860595101673,\n '80+': 0.009036533491408157}"
     },
     "metadata": {},
     "execution_count": 398
    }
   ],
   "source": [
    "age_band_ratios = {k: v / total_pop for k, v in age_band_pops.items()}\n",
    "age_band_ratios"
   ]
  },
  {
   "cell_type": "code",
   "execution_count": 399,
   "metadata": {},
   "outputs": [],
   "source": [
    "# https://www.thelancet.com/action/showPdf?pii=S1473-3099%2820%2930243-7\n",
    "# this paper has china-based age-stratified case fatality, infection fatality, and infected-hospitalization ratios\n",
    "# more deaths were reported afterwards, though, so not the best source\n",
    "\n",
    "# for now, going to use \"Adjusted for censoring, demography, and underascertainment‡\" column\n",
    "ref_mortality_rate = {\n",
    "    '0-9':   0.00,\n",
    "    '10-19': 0.01,\n",
    "    '20-29': 0.06,\n",
    "    '30-39': 0.15,\n",
    "    '40-49': 0.30,\n",
    "    '50-59': 1.25,\n",
    "    '60-69': 3.99,\n",
    "    '70-79': 8.61,\n",
    "    '80+': 13.40,\n",
    "}"
   ]
  },
  {
   "cell_type": "code",
   "execution_count": 400,
   "metadata": {},
   "outputs": [],
   "source": [
    "implied_mortality_age = {}\n",
    "for k in ref_mortality_rate.keys():\n",
    "    implied_mortality_age[k] = ref_mortality_rate[k] * age_band_ratios[k]\n",
    "\n",
    "implied_mortality = sum(implied_mortality_age.values())"
   ]
  },
  {
   "cell_type": "code",
   "execution_count": 401,
   "metadata": {},
   "outputs": [
    {
     "output_type": "execute_result",
     "data": {
      "text/plain": "date\n2020-03-20    0.000000\n2020-03-21    0.000000\n2020-03-22    0.000000\n2020-03-23    0.000000\n2020-03-24    0.000000\n2020-03-25    0.000000\n2020-03-26    0.000000\n2020-03-27    0.000000\n2020-03-28    0.000000\n2020-03-29    0.142857\n2020-03-30    0.136364\n2020-03-31    0.130435\n2020-04-01    0.096774\n2020-04-02    0.096774\n2020-04-03    0.105263\n2020-04-04    0.111111\n2020-04-05    0.094340\n2020-04-06    0.078125\n2020-04-07    0.060241\n2020-04-08    0.060241\n2020-04-09    0.049296\n2020-04-10    0.040609\n2020-04-11    0.045267\n2020-04-12    0.046099\n2020-04-13    0.043750\n2020-04-14    0.037534\n2020-04-15    0.037778\n2020-04-16    0.033028\n2020-04-17    0.035313\n2020-04-18    0.030162\n2020-04-19    0.029973\n2020-04-20    0.031250\n2020-04-21    0.039330\n2020-04-22    0.041972\n2020-04-23    0.042373\ndtype: float64"
     },
     "metadata": {},
     "execution_count": 401
    }
   ],
   "source": [
    "# need mortality rate from India -- this is going to be dependent on case data, so introducing that testing bias...\n",
    "daily_observed_mortality = data['total_deaths']/data['total_confirmed']\n",
    "daily_observed_mortality"
   ]
  },
  {
   "cell_type": "code",
   "execution_count": 402,
   "metadata": {},
   "outputs": [
    {
     "output_type": "execute_result",
     "data": {
      "text/plain": "date\n2020-03-20    0.000000\n2020-03-21    0.000000\n2020-03-22    0.000000\n2020-03-23    0.000000\n2020-03-24    0.000000\n2020-03-25    0.000000\n2020-03-26    0.000000\n2020-03-27    0.000000\n2020-03-28    0.000000\n2020-03-29    0.207127\n2020-03-30    0.197712\n2020-03-31    0.189116\n2020-04-01    0.140312\n2020-04-02    0.140312\n2020-04-03    0.152620\n2020-04-04    0.161099\n2020-04-05    0.136782\n2020-04-06    0.113273\n2020-04-07    0.087343\n2020-04-08    0.087343\n2020-04-09    0.071473\n2020-04-10    0.058879\n2020-04-11    0.065633\n2020-04-12    0.066839\n2020-04-13    0.063433\n2020-04-14    0.054419\n2020-04-15    0.054774\n2020-04-16    0.047886\n2020-04-17    0.051200\n2020-04-18    0.043732\n2020-04-19    0.043457\n2020-04-20    0.045309\n2020-04-21    0.057024\n2020-04-22    0.060855\n2020-04-23    0.061436\ndtype: float64"
     },
     "metadata": {},
     "execution_count": 402
    }
   ],
   "source": [
    "daily_mortality_ratio = daily_observed_mortality/implied_mortality\n",
    "daily_mortality_ratio"
   ]
  },
  {
   "cell_type": "code",
   "execution_count": 403,
   "metadata": {},
   "outputs": [],
   "source": [
    "age_stratified_daily_mortality = {}\n",
    "for k in ref_mortality_rate.keys():\n",
    "    age_stratified_daily_mortality[k] = daily_mortality_ratio * ref_mortality_rate[k]"
   ]
  },
  {
   "cell_type": "code",
   "execution_count": 404,
   "metadata": {},
   "outputs": [],
   "source": [
    "age_distro_mortality = {}\n",
    "for k in age_band_ratios.keys():\n",
    "    age_distro_mortality[k] = age_stratified_daily_mortality[k] * age_band_ratios[k]\n"
   ]
  },
  {
   "cell_type": "code",
   "execution_count": 405,
   "metadata": {},
   "outputs": [
    {
     "output_type": "execute_result",
     "data": {
      "text/plain": "date\n2020-03-20    0.000000\n2020-03-21    0.000000\n2020-03-22    0.000000\n2020-03-23    0.000000\n2020-03-24    0.000000\n2020-03-25    0.000000\n2020-03-26    0.000000\n2020-03-27    0.000000\n2020-03-28    0.000000\n2020-03-29    0.142857\n2020-03-30    0.136364\n2020-03-31    0.130435\n2020-04-01    0.096774\n2020-04-02    0.096774\n2020-04-03    0.105263\n2020-04-04    0.111111\n2020-04-05    0.094340\n2020-04-06    0.078125\n2020-04-07    0.060241\n2020-04-08    0.060241\n2020-04-09    0.049296\n2020-04-10    0.040609\n2020-04-11    0.045267\n2020-04-12    0.046099\n2020-04-13    0.043750\n2020-04-14    0.037534\n2020-04-15    0.037778\n2020-04-16    0.033028\n2020-04-17    0.035313\n2020-04-18    0.030162\n2020-04-19    0.029973\n2020-04-20    0.031250\n2020-04-21    0.039330\n2020-04-22    0.041972\n2020-04-23    0.042373\ndtype: float64"
     },
     "metadata": {},
     "execution_count": 405
    }
   ],
   "source": [
    "age_distro_mortality_vals = list(age_distro_mortality.values())\n",
    "age_std_mortality = age_distro_mortality_vals[0]\n",
    "for val in age_distro_mortality_vals[1:]:\n",
    "    age_std_mortality += val\n",
    "age_std_mortality"
   ]
  },
  {
   "cell_type": "code",
   "execution_count": 406,
   "metadata": {},
   "outputs": [
    {
     "output_type": "execute_result",
     "data": {
      "text/plain": "date\n2020-03-20        -inf\n2020-03-21        -inf\n2020-03-22        -inf\n2020-03-23        -inf\n2020-03-24        -inf\n2020-03-25        -inf\n2020-03-26        -inf\n2020-03-27        -inf\n2020-03-28        -inf\n2020-03-29   -1.945910\n2020-03-30   -1.992430\n2020-03-31   -2.036882\n2020-04-01   -2.335375\n2020-04-02   -2.335375\n2020-04-03   -2.251292\n2020-04-04   -2.197225\n2020-04-05   -2.360854\n2020-04-06   -2.549445\n2020-04-07   -2.809403\n2020-04-08   -2.809403\n2020-04-09   -3.009917\n2020-04-10   -3.203762\n2020-04-11   -3.095166\n2020-04-12   -3.076958\n2020-04-13   -3.129264\n2020-04-14   -3.282521\n2020-04-15   -3.276034\n2020-04-16   -3.410414\n2020-04-17   -3.343504\n2020-04-18   -3.501159\n2020-04-19   -3.507467\n2020-04-20   -3.465736\n2020-04-21   -3.235769\n2020-04-22   -3.170752\n2020-04-23   -3.161247\ndtype: float64"
     },
     "metadata": {},
     "execution_count": 406
    }
   ],
   "source": [
    "log_age_std_mortality = np.log(age_std_mortality)\n",
    "log_age_std_mortality"
   ]
  },
  {
   "cell_type": "code",
   "execution_count": null,
   "metadata": {},
   "outputs": [],
   "source": []
  }
 ],
 "metadata": {
  "language_info": {
   "codemirror_mode": {
    "name": "ipython",
    "version": 3
   },
   "file_extension": ".py",
   "mimetype": "text/x-python",
   "name": "python",
   "nbconvert_exporter": "python",
   "pygments_lexer": "ipython3",
   "version": "3.7.7-final"
  },
  "orig_nbformat": 2,
  "kernelspec": {
   "name": "python37764bit016fc47fdc4c473a89b6513920a58575",
   "display_name": "Python 3.7.7 64-bit"
  }
 },
 "nbformat": 4,
 "nbformat_minor": 2
}