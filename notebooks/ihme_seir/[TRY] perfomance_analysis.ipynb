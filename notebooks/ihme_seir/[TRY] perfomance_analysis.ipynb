{
 "cells": [
  {
   "cell_type": "code",
   "execution_count": null,
   "metadata": {},
   "outputs": [],
   "source": [
    "import sys\n",
    "\n",
    "import matplotlib.pyplot as plt\n",
    "import pandas as pd\n",
    "import numpy as np\n",
    "\n",
    "from scipy.interpolate import CubicSpline\n",
    "from datetime import datetime, timedelta\n",
    "\n",
    "sys.path.append('../..')\n",
    "\n",
    "from data.dataloader import Covid19IndiaLoader\n",
    "from data.processing import get_dataframes_cached, get_data\n",
    "\n",
    "from utils.util import rollingavg, train_test_split\n",
    "from utils.enums.columns import Columns"
   ]
  },
  {
   "cell_type": "markdown",
   "metadata": {},
   "source": [
    "## Data"
   ]
  },
  {
   "cell_type": "code",
   "execution_count": null,
   "metadata": {},
   "outputs": [],
   "source": [
    "district = 'Pune'\n",
    "state = 'Maharashtra'\n",
    "disable_tracker = True\n",
    "\n",
    "loader = Covid19IndiaLoader()\n",
    "dataframes = loader.get_covid19india_api_data()\n",
    "\n",
    "data = get_data(dataframes, state, district, disable_tracker=disable_tracker)\n",
    "data['date'] = pd.to_datetime(data['date'])\n",
    "data = data.rename(columns={\"total\": \"total_infected\", \"active\": \"hospitalised\"})"
   ]
  },
  {
   "cell_type": "code",
   "execution_count": null,
   "metadata": {},
   "outputs": [],
   "source": [
    "cols = [c.name for c in Columns.which_compartments()]\n",
    "actual_start_date = data['date'].min()+timedelta(5)\n",
    "smooth_data = data.copy(deep=True)\n",
    "for col in cols:\n",
    "    smooth_data[col] = rollingavg(data[col], 5)\n",
    "smooth_data = smooth_data.dropna(subset=cols, how='any')\n",
    "_, smooth_data = train_test_split(smooth_data, actual_start_date-timedelta(1))\n",
    "smooth_data.head()"
   ]
  },
  {
   "cell_type": "markdown",
   "metadata": {},
   "source": [
    "## Experiments: July 8"
   ]
  },
  {
   "cell_type": "code",
   "execution_count": null,
   "metadata": {},
   "outputs": [],
   "source": [
    "res = pd.read_csv('../../outputs/consolidated/Pune_SEIR_s3_performance_July_8.csv') # c2_train_period = 7\n",
    "seir_val_res = res[res[\"type\"] == \"val\"].reset_index(drop=True)\n",
    "seir_val_res"
   ]
  },
  {
   "cell_type": "code",
   "execution_count": null,
   "metadata": {},
   "outputs": [],
   "source": [
    "exp = dict()\n",
    "for i in range(4):\n",
    "    exp[i] = seir_val_res[seir_val_res[\"exp\"] == i+1].reset_index(drop=True)"
   ]
  },
  {
   "cell_type": "code",
   "execution_count": null,
   "metadata": {},
   "outputs": [],
   "source": [
    "fig, ax = plt.subplots(1,3, sharex=True, sharey=True, figsize=(20,6))\n",
    "cols_plot = ['recovered', 'hospitalised', 'deceased']\n",
    "for i, col in enumerate(cols_plot):\n",
    "    ax[i].plot(exp[0]['shift'], exp[0][col], 'o-', label='SEIR test MAPE on s3 (using ground truth train data(s1+s2))', color='green')\n",
    "    ax[i].plot(exp[1]['shift'], exp[1][col], 'o-', label='SEIR test MAPE on s3 (using IHME forecast as train data)', color='red')\n",
    "    ax[i].plot(exp[2]['shift'], exp[2][col], 'o-', label='SEIR test MAPE on s3 (using SEIR forecast as train data)', color='blue')\n",
    "    ax[i].plot(exp[3]['shift'], exp[3][col], 'o-', label='SEIR test MAPE on s3 (using ground truth train data(s1))', color='black')\n",
    "    ax[i].title.set_text(col)\n",
    "    ax[i].set_xlabel('Index of training start date (from 4-24-20)', fontsize=10)\n",
    "    ax[i].set_ylabel('MAPE', fontsize=10)\n",
    "    ax[i].grid()\n",
    "plt.legend()"
   ]
  },
  {
   "cell_type": "code",
   "execution_count": null,
   "metadata": {},
   "outputs": [],
   "source": [
    "fig, ax = plt.subplots(1,3, sharex=True, sharey=True, figsize=(20,6))\n",
    "cols_plot = ['recovered', 'hospitalised', 'deceased']\n",
    "for i, col in enumerate(cols_plot):\n",
    "    ax[i].plot(exp[0]['shift'], exp[0][col], 'o-', label='SEIR test MAPE on s3 (using ground truth train data (s1+s2))', color='green')\n",
    "    ax[i].plot(exp[1]['shift'], exp[1][col], 'o-', label='SEIR test MAPE on s3 (using IHME forecast as train data)', color='red')\n",
    "    ax[i].plot(exp[3]['shift'], exp[3][col], 'o-', label='SEIR test MAPE on s3 (using ground truth train data(s1))', color='black')\n",
    "    ax[i].title.set_text(col)\n",
    "    ax[i].set_xlabel('Index of training start date (from 4-24-20)', fontsize=10)\n",
    "    ax[i].set_ylabel('MAPE', fontsize=10)\n",
    "    ax[i].grid()\n",
    "plt.legend()"
   ]
  },
  {
   "cell_type": "markdown",
   "metadata": {},
   "source": [
    "## IHME s2 performance, SEIR s3 performance"
   ]
  },
  {
   "cell_type": "code",
   "execution_count": null,
   "metadata": {},
   "outputs": [],
   "source": [
    "res = pd.read_csv('../../outputs/consolidated/Pune_IHME_performance.csv')\n",
    "val_res = res[res['type'] == 'val'].reset_index(drop=True)\n",
    "train_res = res[res['type'] == 'train'].reset_index(drop=True)\n",
    "val_res"
   ]
  },
  {
   "cell_type": "code",
   "execution_count": null,
   "metadata": {},
   "outputs": [],
   "source": [
    "res = pd.read_csv('../../outputs/consolidated/Pune_SEIR_s3_performance.csv')\n",
    "seir_val_res = res[res[\"type\"] == \"val\"].reset_index(drop=True)\n",
    "exp1, exp2, exp3 = seir_val_res.iloc[0::3, :], seir_val_res.iloc[1::3, :], seir_val_res.iloc[2::3, :]"
   ]
  },
  {
   "cell_type": "code",
   "execution_count": null,
   "metadata": {},
   "outputs": [],
   "source": [
    "fig, ax = plt.subplots(1,3, sharex=True, sharey=True, figsize=(20,3))\n",
    "plt.title('Pune MAPE on s2')\n",
    "cols_plot = ['recovered', 'hospitalised', 'deceased']\n",
    "for i, col in enumerate(cols_plot):\n",
    "    ax[i].plot(train_res['shift'], train_res[col], 'o-', label='IHME train MAPE on s1', color='blue')\n",
    "    ax[i].plot(val_res['shift'], val_res[col], 'o-', label='IHME test MAPE on s2', color='red')\n",
    "    ax[i].title.set_text(col)\n",
    "    ax[i].set_xlabel('Index of training start date (from 4-24-20)', fontsize=10)\n",
    "    ax[i].set_ylabel('MAPE', fontsize=10)\n",
    "    ax[i].grid()\n",
    "plt.legend()"
   ]
  },
  {
   "cell_type": "code",
   "execution_count": null,
   "metadata": {},
   "outputs": [],
   "source": [
    "fig, ax = plt.subplots(1,3, sharex=True, sharey=True, figsize=(20,6))\n",
    "cols_plot = ['recovered', 'hospitalised', 'deceased']\n",
    "for i, col in enumerate(cols_plot):\n",
    "    ax[i].plot(exp1['shift'], exp1[col], 'o-', label='SEIR test MAPE on s3 (using ground truth train data)', color='green')\n",
    "    ax[i].plot(exp2['shift'], exp2[col], 'o-', label='SEIR test MAPE on s3 (using IHME forecast as train data)', color='red')\n",
    "    ax[i].plot(exp3['shift'], exp3[col], 'o-', label='SEIR test MAPE on s3 (using SEIR forecast as train data)', color='blue')\n",
    "    ax[i].set_xlabel('Index of training start date (from 4-24-20)', fontsize=10)\n",
    "    ax[i].set_ylabel('MAPE', fontsize=10)\n",
    "    ax[i].grid()\n",
    "    ax[i].title.set_text(col)\n",
    "plt.legend()"
   ]
  },
  {
   "cell_type": "code",
   "execution_count": null,
   "metadata": {},
   "outputs": [],
   "source": [
    "fig, ax = plt.subplots(1,3, sharex=True, sharey=True, figsize=(20,6))\n",
    "cols_plot = ['recovered', 'hospitalised', 'deceased']\n",
    "for i, col in enumerate(cols_plot):\n",
    "    ax[i].plot(exp1['shift'], exp1[col], 'o-', label='SEIR test MAPE on s3 (using ground truth train data)', color='green')\n",
    "    ax[i].plot(exp2['shift'], exp2[col], 'o-', label='SEIR test MAPE on s3 (using IHME forecast as train data)', color='red')\n",
    "    ax[i].title.set_text(col)\n",
    "    ax[i].set_xlabel('Index of training start date (from 4-24-20)', fontsize=10)\n",
    "    ax[i].set_ylabel('MAPE', fontsize=10)\n",
    "    ax[i].grid()\n",
    "plt.legend()"
   ]
  },
  {
   "cell_type": "markdown",
   "metadata": {},
   "source": [
    "## Variance/smoothness analysis"
   ]
  },
  {
   "cell_type": "code",
   "execution_count": null,
   "metadata": {},
   "outputs": [],
   "source": [
    "def get_var_series(compartment, data, train_period, smoothness):\n",
    "    variances = []\n",
    "    mean_smooth = []\n",
    "    dates = []\n",
    "    start = data['date'].min()\n",
    "    i = 0\n",
    "    while start+timedelta(train_period) < data['date'].max():\n",
    "        dates.append(start)\n",
    "        variances.append(np.var(data[compartment].iloc[i:i+train_period]))\n",
    "        mean_smooth.append(np.mean(smoothness[i:i+train_period]))\n",
    "        i += 1\n",
    "        start += timedelta(1)\n",
    "    return variances, mean_smooth, dates\n",
    "\n",
    "def get_smoothness(compartment, data):\n",
    "    cs = CubicSpline(data['date'], data[compartment])\n",
    "#     plt.plot(data['date'].values, cs(data['date']), '--', 'brown')\n",
    "    second_deriv = cs.__call__(data['date'], nu=2)\n",
    "    smoothness = [x**2 for x in second_deriv] \n",
    "    return smoothness\n",
    "\n",
    "def plot_analysis(compartment, losses, variances, smoothness, dates):\n",
    "    shifts = [(dates[i]-min(dates)).days for i in range(len(dates))]\n",
    "    plt.figure(figsize=(12,12))\n",
    "    plt.plot(losses['shift'], losses[compartment], 'o-', label='mape', color='red')\n",
    "    plt.plot(shifts, variances, color='black', label='variance')\n",
    "    plt.plot(shifts, smoothness, '--', color='blue', label='smoothness')\n",
    "    plt.legend()\n",
    "    plt.grid()\n",
    "    plt.title(compartment)"
   ]
  },
  {
   "cell_type": "code",
   "execution_count": null,
   "metadata": {},
   "outputs": [],
   "source": [
    "var_scale_factors = [10000, 200, 4000, 100000]  # train period 10\n",
    "smooth_scale_factors = [2.5e54, 2e55, 5e53, 1e53]\n",
    "\n",
    "for i, col in enumerate(cols):\n",
    "    smoothness = get_smoothness(col, smooth_data)\n",
    "    variances, mean_smoothness, dates = get_var_series(col, smooth_data, 10, smoothness)\n",
    "    scaled_variances = [x/var_scale_factors[i] for x in variances]\n",
    "    scaled_smoothness = [x*smooth_scale_factors[i] for x in mean_smoothness]\n",
    "    plot_analysis(col, val_res, scaled_variances[:35], scaled_smoothness[:35], dates[:35])"
   ]
  },
  {
   "cell_type": "code",
   "execution_count": null,
   "metadata": {},
   "outputs": [],
   "source": [
    "print(\"Graphs\")"
   ]
  },
  {
   "cell_type": "markdown",
   "metadata": {},
   "source": [
    "## IHME s2 performance, SEIR s3 performance (with uncertainty)"
   ]
  },
  {
   "cell_type": "code",
   "execution_count": null,
   "metadata": {},
   "outputs": [],
   "source": [
    "res = pd.read_csv('../../outputs/consolidated/Pune_IHME_performance_July_1.csv')\n",
    "val_res = res[res['type'] == 'val'].reset_index(drop=True)\n",
    "train_res = res[res['type'] == 'train'].reset_index(drop=True)\n",
    "uncertainty_res = res[res['type'] == 'average s2 uncertainty'].reset_index(drop=True)"
   ]
  },
  {
   "cell_type": "code",
   "execution_count": null,
   "metadata": {},
   "outputs": [],
   "source": [
    "res = pd.read_csv('../../outputs/consolidated/Pune_SEIR_s3_performance_July_1.csv')\n",
    "seir_val_res = res[res[\"type\"] == \"val\"].reset_index(drop=True)\n",
    "exp1, exp2, exp3 = seir_val_res.iloc[0::3, :], seir_val_res.iloc[1::3, :], seir_val_res.iloc[2::3, :]"
   ]
  },
  {
   "cell_type": "code",
   "execution_count": null,
   "metadata": {},
   "outputs": [],
   "source": [
    "fig, ax = plt.subplots(1,3, sharex=True, sharey=True, figsize=(20,3))\n",
    "cols_plot = ['recovered', 'hospitalised', 'deceased']\n",
    "for i, col in enumerate(cols_plot):\n",
    "    ax[i].plot(train_res['shift'], train_res[col], 'o-', label='IHME train MAPE on s1', color='blue')\n",
    "    ax[i].plot(val_res['shift'], val_res[col], 'o-', label='IHME test MAPE on s2', color='red')\n",
    "    ax[i].title.set_text(col)\n",
    "    ax[i].set_xlabel('Index of training start date (from 4-24-20)', fontsize=10)\n",
    "    ax[i].set_ylabel('MAPE', fontsize=10)\n",
    "    ax[i].grid()\n",
    "plt.legend()"
   ]
  },
  {
   "cell_type": "code",
   "execution_count": null,
   "metadata": {},
   "outputs": [],
   "source": [
    "fig, ax = plt.subplots(1,3, sharex=True, sharey=True, figsize=(20,3))\n",
    "cols_plot = ['recovered', 'hospitalised', 'deceased']\n",
    "for i, col in enumerate(cols_plot):\n",
    "    ax[i].plot(uncertainty_res['shift'], uncertainty_res[col], 'o-', label='IHME uncertainty on s2', color='black')\n",
    "    ax[i].title.set_text(col)\n",
    "    ax[i].set_xlabel('Index of training start date (from 4-24-20)', fontsize=10)\n",
    "    ax[i].set_ylabel('MAPE', fontsize=10)\n",
    "    ax[i].grid()\n",
    "plt.legend()"
   ]
  },
  {
   "cell_type": "code",
   "execution_count": null,
   "metadata": {},
   "outputs": [],
   "source": [
    "fig, ax = plt.subplots(1,3, sharex=True, sharey=True, figsize=(20,6))\n",
    "cols_plot = ['recovered', 'hospitalised', 'deceased']\n",
    "for i, col in enumerate(cols_plot):\n",
    "    ax[i].plot(exp1['shift'], exp1[col], 'o-', label='SEIR test MAPE on s3 (using ground truth train data)', color='green')\n",
    "    ax[i].plot(exp2['shift'], exp2[col], 'o-', label='SEIR test MAPE on s3 (using IHME forecast as train data)', color='red')\n",
    "    ax[i].title.set_text(col)\n",
    "    ax[i].set_xlabel('Index of training start date (from 4-24-20)', fontsize=10)\n",
    "    ax[i].set_ylabel('MAPE', fontsize=10)\n",
    "    ax[i].grid()\n",
    "plt.legend()"
   ]
  },
  {
   "cell_type": "code",
   "execution_count": null,
   "metadata": {},
   "outputs": [],
   "source": [
    "fig, ax = plt.subplots(1,3, sharex=True, sharey=True, figsize=(20,6))\n",
    "cols_plot = ['recovered', 'hospitalised', 'deceased']\n",
    "for i, col in enumerate(cols_plot):\n",
    "    ax[i].plot(exp1['shift'], exp1[col], 'o-', label='SEIR test MAPE on s3 (using ground truth train data)', color='green')\n",
    "    ax[i].plot(exp2['shift'], exp2[col], 'o-', label='SEIR test MAPE on s3 (using IHME forecast as train data)', color='red')\n",
    "    ax[i].plot(exp3['shift'], exp3[col], 'o-', label='SEIR test MAPE on s3 (using SEIR forecast as train data)', color='blue')\n",
    "    ax[i].title.set_text(col)\n",
    "    ax[i].set_xlabel('Index of training start date (from 4-24-20)', fontsize=10)\n",
    "    ax[i].set_ylabel('MAPE', fontsize=10)\n",
    "    ax[i].grid()\n",
    "plt.legend()"
   ]
  },
  {
   "cell_type": "markdown",
   "metadata": {},
   "source": [
    "## Ahmedabad"
   ]
  },
  {
   "cell_type": "code",
   "execution_count": null,
   "metadata": {},
   "outputs": [],
   "source": [
    "res = pd.read_csv('../../outputs/consolidated/Ahmedabad_IHME_performance_July_1.csv')\n",
    "val_res = res[res['type'] == 'val'].reset_index(drop=True)\n",
    "train_res = res[res['type'] == 'train'].reset_index(drop=True)\n",
    "uncertainty_res = res[res['type'] == 'average s2 uncertainty'].reset_index(drop=True)"
   ]
  },
  {
   "cell_type": "code",
   "execution_count": null,
   "metadata": {},
   "outputs": [],
   "source": [
    "res = pd.read_csv('../../outputs/consolidated/Ahmedabad_SEIR_s3_performance_July_1.csv')\n",
    "seir_val_res = res[res[\"type\"] == \"val\"].reset_index(drop=True)\n",
    "exp1, exp2, exp3 = seir_val_res.iloc[0::3, :], seir_val_res.iloc[1::3, :], seir_val_res.iloc[2::3, :]"
   ]
  },
  {
   "cell_type": "code",
   "execution_count": null,
   "metadata": {},
   "outputs": [],
   "source": [
    "fig, ax = plt.subplots(1,3, sharex=True, sharey=True, figsize=(20,3))\n",
    "cols_plot = ['recovered', 'hospitalised', 'deceased']\n",
    "for i, col in enumerate(cols_plot):\n",
    "    ax[i].plot(train_res['shift'], train_res[col], 'o-', label='data', color='blue')\n",
    "    ax[i].plot(val_res['shift'], val_res[col], 'o-', label='data', color='red')\n",
    "    ax[i].title.set_text(col)\n",
    "    ax[i].set_xlabel('Index of training start date (from 4-24-20)', fontsize=10)\n",
    "    ax[i].set_ylabel('MAPE', fontsize=10)\n",
    "    ax[i].grid()"
   ]
  },
  {
   "cell_type": "code",
   "execution_count": null,
   "metadata": {},
   "outputs": [],
   "source": [
    "fig, ax = plt.subplots(1,3, sharex=True, sharey=True, figsize=(20,6))\n",
    "cols_plot = ['recovered', 'hospitalised', 'deceased']\n",
    "for i, col in enumerate(cols_plot):\n",
    "    ax[i].plot(exp1['shift'], exp1[col], 'o-', label='data', color='green')\n",
    "    ax[i].plot(exp2['shift'], exp2[col], 'o-', label='data', color='red')\n",
    "    ax[i].title.set_text(col)\n",
    "    ax[i].set_xlabel('Index of training start date (from 4-24-20)', fontsize=10)\n",
    "    ax[i].set_ylabel('MAPE', fontsize=10)\n",
    "    ax[i].grid()"
   ]
  },
  {
   "cell_type": "code",
   "execution_count": null,
   "metadata": {},
   "outputs": [],
   "source": [
    "fig, ax = plt.subplots(1,3, sharex=True, sharey=True, figsize=(20,6))\n",
    "cols_plot = ['recovered', 'hospitalised', 'deceased']\n",
    "for i, col in enumerate(cols_plot):\n",
    "    ax[i].plot(exp1['shift'], exp1[col], 'o-', label='data', color='green')\n",
    "    ax[i].plot(exp2['shift'], exp2[col], 'o-', label='data', color='red')\n",
    "    ax[i].plot(exp3['shift'], exp3[col], 'o-', label='data', color='blue')\n",
    "    ax[i].title.set_text(col)\n",
    "    ax[i].set_xlabel('Index of training start date (from 4-24-20)', fontsize=10)\n",
    "    ax[i].set_ylabel('MAPE', fontsize=10)\n",
    "    ax[i].grid()"
   ]
  },
  {
   "cell_type": "markdown",
   "metadata": {},
   "source": [
    "## IHME s2 performance, SEIR s3 and baseline performance"
   ]
  },
  {
   "cell_type": "code",
   "execution_count": null,
   "metadata": {},
   "outputs": [],
   "source": [
    "res = pd.read_csv('../../outputs/consolidated/Pune_IHME_performance_July_5.csv') # c2_train_period = 5\n",
    "val_res = res[res['type'] == 'val'].reset_index(drop=True)\n",
    "train_res = res[res['type'] == 'train'].reset_index(drop=True)\n",
    "uncertainty_res = res[res['type'] == 'average s2 uncertainty'].reset_index(drop=True)"
   ]
  },
  {
   "cell_type": "code",
   "execution_count": null,
   "metadata": {},
   "outputs": [],
   "source": [
    "res = pd.read_csv('../../outputs/consolidated/Pune_SEIR_s3_performance_July_5.csv')\n",
    "seir_val_res = res[res[\"type\"] == \"val\"].reset_index(drop=True)\n",
    "seir_val_res"
   ]
  },
  {
   "cell_type": "code",
   "execution_count": null,
   "metadata": {},
   "outputs": [],
   "source": [
    "exp = dict()\n",
    "for i in range(4):\n",
    "    exp[i] = seir_val_res[seir_val_res[\"exp\"] == i+1].reset_index(drop=True)"
   ]
  },
  {
   "cell_type": "code",
   "execution_count": null,
   "metadata": {},
   "outputs": [],
   "source": [
    "fig, ax = plt.subplots(1,3, sharex=True, sharey=True, figsize=(20,3))\n",
    "cols_plot = ['recovered', 'hospitalised', 'deceased']\n",
    "for i, col in enumerate(cols_plot):\n",
    "    ax[i].plot(train_res['shift'], train_res[col], 'o-', label='IHME train MAPE on s1', color='blue')\n",
    "    ax[i].plot(val_res['shift'], val_res[col], 'o-', label='IHME test MAPE on s2', color='red')\n",
    "    ax[i].title.set_text(col)\n",
    "    ax[i].set_xlabel('Index of training start date (from 4-24-20)', fontsize=10)\n",
    "    ax[i].set_ylabel('MAPE', fontsize=10)\n",
    "    ax[i].grid()\n",
    "plt.legend()"
   ]
  },
  {
   "cell_type": "code",
   "execution_count": null,
   "metadata": {},
   "outputs": [],
   "source": [
    "fig, ax = plt.subplots(1,3, sharex=True, sharey=True, figsize=(20,6))\n",
    "cols_plot = ['recovered', 'hospitalised', 'deceased']\n",
    "for i, col in enumerate(cols_plot):\n",
    "    ax[i].plot(exp[0]['shift'], exp[0][col], 'o-', label='SEIR test MAPE on s3 (using ground truth train data(s1+s2))', color='green')\n",
    "    ax[i].plot(exp[1]['shift'], exp[1][col], 'o-', label='SEIR test MAPE on s3 (using IHME forecast as train data)', color='red')\n",
    "    ax[i].plot(exp[2]['shift'], exp[2][col], 'o-', label='SEIR test MAPE on s3 (using SEIR forecast as train data)', color='blue')\n",
    "    ax[i].plot(exp[3]['shift'], exp[3][col], 'o-', label='SEIR test MAPE on s3 (using ground truth train data(s1))', color='black')\n",
    "    ax[i].title.set_text(col)\n",
    "    ax[i].set_xlabel('Index of training start date (from 4-24-20)', fontsize=10)\n",
    "    ax[i].set_ylabel('MAPE', fontsize=10)\n",
    "    ax[i].grid()\n",
    "plt.legend()"
   ]
  },
  {
   "cell_type": "code",
   "execution_count": null,
   "metadata": {},
   "outputs": [],
   "source": [
    "fig, ax = plt.subplots(1,3, sharex=True, sharey=True, figsize=(20,6))\n",
    "cols_plot = ['recovered', 'hospitalised', 'deceased']\n",
    "for i, col in enumerate(cols_plot):\n",
    "    ax[i].plot(exp[0]['shift'], exp[0][col], 'o-', label='SEIR test MAPE on s3 (using ground truth train data (s2))', color='green')\n",
    "    ax[i].plot(exp[1]['shift'], exp[1][col], 'o-', label='SEIR test MAPE on s3 (using IHME forecast as train data)', color='red')\n",
    "    ax[i].plot(exp[3]['shift'], exp[3][col], 'o-', label='SEIR test MAPE on s3 (using ground truth train data(s1))', color='black')\n",
    "    ax[i].title.set_text(col)\n",
    "    ax[i].set_xlabel('Index of training start date (from 4-24-20)', fontsize=10)\n",
    "    ax[i].set_ylabel('MAPE', fontsize=10)\n",
    "    ax[i].grid()\n",
    "plt.legend()"
   ]
  },
  {
   "cell_type": "code",
   "execution_count": null,
   "metadata": {},
   "outputs": [],
   "source": [
    "fig, ax = plt.subplots(1,3, sharex=True, sharey=True, figsize=(20,6))\n",
    "cols_plot = ['recovered', 'hospitalised', 'deceased']\n",
    "for i, col in enumerate(cols_plot):\n",
    "    ax[i].plot(exp[0]['shift'], exp[0][col], 'o-', label='SEIR test MAPE on s3 (using ground truth train data (s2))', color='green')\n",
    "    ax[i].plot(exp[1]['shift'], exp[1][col], 'o-', label='SEIR test MAPE on s3 (using IHME forecast as train data)', color='red')\n",
    "    ax[i].title.set_text(col)\n",
    "    ax[i].set_xlabel('Index of training start date (from 4-24-20)', fontsize=10)\n",
    "    ax[i].set_ylabel('MAPE', fontsize=10)\n",
    "    ax[i].grid()\n",
    "plt.legend()"
   ]
  },
  {
   "cell_type": "markdown",
   "metadata": {},
   "source": [
    "## IHME s2 performance, SEIR s3 and baseline performance"
   ]
  },
  {
   "cell_type": "code",
   "execution_count": null,
   "metadata": {},
   "outputs": [],
   "source": [
    "res = pd.read_csv('../../outputs/consolidated/Pune_SEIR_s3_performance_July_6.csv') # c2_train_period = 7\n",
    "seir_val_res = res[res[\"type\"] == \"val\"].reset_index(drop=True)\n",
    "seir_val_res"
   ]
  },
  {
   "cell_type": "code",
   "execution_count": null,
   "metadata": {},
   "outputs": [],
   "source": [
    "exp = dict()\n",
    "for i in range(4):\n",
    "    exp[i] = seir_val_res[seir_val_res[\"exp\"] == i+1].reset_index(drop=True)"
   ]
  },
  {
   "cell_type": "code",
   "execution_count": null,
   "metadata": {},
   "outputs": [],
   "source": [
    "fig, ax = plt.subplots(1,3, sharex=True, sharey=True, figsize=(20,6))\n",
    "cols_plot = ['recovered', 'hospitalised', 'deceased']\n",
    "for i, col in enumerate(cols_plot):\n",
    "    ax[i].plot(exp[0]['shift'], exp[0][col], 'o-', label='SEIR test MAPE on s3 (using ground truth train data(s1+s2))', color='green')\n",
    "    ax[i].plot(exp[1]['shift'], exp[1][col], 'o-', label='SEIR test MAPE on s3 (using IHME forecast as train data)', color='red')\n",
    "    ax[i].plot(exp[2]['shift'], exp[2][col], 'o-', label='SEIR test MAPE on s3 (using SEIR forecast as train data)', color='blue')\n",
    "    ax[i].plot(exp[3]['shift'], exp[3][col], 'o-', label='SEIR test MAPE on s3 (using ground truth train data(s1))', color='black')\n",
    "    ax[i].title.set_text(col)\n",
    "    ax[i].set_xlabel('Index of training start date (from 4-24-20)', fontsize=10)\n",
    "    ax[i].set_ylabel('MAPE', fontsize=10)\n",
    "    ax[i].grid()\n",
    "plt.legend()"
   ]
  },
  {
   "cell_type": "code",
   "execution_count": null,
   "metadata": {},
   "outputs": [],
   "source": [
    "fig, ax = plt.subplots(1,3, sharex=True, sharey=True, figsize=(20,6))\n",
    "cols_plot = ['recovered', 'hospitalised', 'deceased']\n",
    "for i, col in enumerate(cols_plot):\n",
    "    ax[i].plot(exp[0]['shift'], exp[0][col], 'o-', label='SEIR test MAPE on s3 (using ground truth train data (s1+s2))', color='green')\n",
    "    ax[i].plot(exp[1]['shift'], exp[1][col], 'o-', label='SEIR test MAPE on s3 (using IHME forecast as train data)', color='red')\n",
    "    ax[i].plot(exp[3]['shift'], exp[3][col], 'o-', label='SEIR test MAPE on s3 (using ground truth train data(s1))', color='black')\n",
    "    ax[i].title.set_text(col)\n",
    "    ax[i].set_xlabel('Index of training start date (from 4-24-20)', fontsize=10)\n",
    "    ax[i].set_ylabel('MAPE', fontsize=10)\n",
    "    ax[i].grid()\n",
    "plt.legend()"
   ]
  },
  {
   "cell_type": "code",
   "execution_count": null,
   "metadata": {},
   "outputs": [],
   "source": [
    "fig, ax = plt.subplots(1,3, sharex=True, sharey=True, figsize=(20,6))\n",
    "cols_plot = ['recovered', 'hospitalised', 'deceased']\n",
    "for i, col in enumerate(cols_plot):\n",
    "    ax[i].plot(exp[0]['shift'], exp[0][col], 'o-', label='SEIR test MAPE on s3 (using ground truth train data (s1+s2))', color='green')\n",
    "    ax[i].plot(exp[1]['shift'], exp[1][col], 'o-', label='SEIR test MAPE on s3 (using IHME forecast as train data)', color='red')\n",
    "    ax[i].plot(exp[3]['shift'], exp[3][col], 'o-', label='SEIR test MAPE on s3 (using ground truth train data(s1))', color='black')\n",
    "    ax[i].title.set_text(col)\n",
    "    ax[i].set_xlabel('Index of training start date (from 4-24-20)', fontsize=10)\n",
    "    ax[i].set_ylabel('MAPE', fontsize=10)\n",
    "    ax[i].grid()\n",
    "    ax[i].set_ylim(0,50)\n",
    "plt.legend()"
   ]
  },
  {
   "cell_type": "code",
   "execution_count": null,
   "metadata": {},
   "outputs": [],
   "source": []
  }
 ],
 "metadata": {
  "kernelspec": {
   "display_name": "Python 3",
   "language": "python",
   "name": "python3"
  },
  "language_info": {
   "codemirror_mode": {
    "name": "ipython",
    "version": 3
   },
   "file_extension": ".py",
   "mimetype": "text/x-python",
   "name": "python",
   "nbconvert_exporter": "python",
   "pygments_lexer": "ipython3"
  }
 },
 "nbformat": 4,
 "nbformat_minor": 4
}
