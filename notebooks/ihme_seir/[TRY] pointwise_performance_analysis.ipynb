{
 "cells": [
  {
   "cell_type": "markdown",
   "metadata": {},
   "source": [
    "# Performance anaylsis"
   ]
  },
  {
   "cell_type": "code",
   "execution_count": null,
   "metadata": {},
   "outputs": [],
   "source": [
    "import pandas as pd\n",
    "import numpy as np\n",
    "import matplotlib.pyplot as plt\n",
    "import datetime as dt\n",
    "import seaborn as sns"
   ]
  },
  {
   "cell_type": "code",
   "execution_count": null,
   "metadata": {},
   "outputs": [],
   "source": [
    "sns.pointplot(x=)"
   ]
  },
  {
   "cell_type": "markdown",
   "metadata": {},
   "source": [
    "Plot pointwise test errors from experiments"
   ]
  },
  {
   "cell_type": "code",
   "execution_count": null,
   "metadata": {},
   "outputs": [],
   "source": [
    "test_loss_df_list = []\n",
    "for i in range(8):\n",
    "    df = pd.read_csv(\"../../outputs/consolidated/Pune_0707/ihme_i1_pointwise_test_loss_\"+str(i+1)+\".csv\",\n",
    "                     index_col=0)\n",
    "    df.index.name = 'variable'\n",
    "    test_loss_df_list.append(df)"
   ]
  },
  {
   "cell_type": "code",
   "execution_count": null,
   "metadata": {},
   "outputs": [],
   "source": [
    "train_loss_df_list = []\n",
    "for i in range(8):\n",
    "    df = pd.read_csv(\"../../outputs/consolidated/Pune_0707/ihme_i1_pointwise_train_loss_\"+str(i+1)+\".csv\",\n",
    "                     index_col=0)\n",
    "    df.index.name = 'variable'\n",
    "    train_loss_df_list.append(df)"
   ]
  },
  {
   "cell_type": "code",
   "execution_count": null,
   "metadata": {},
   "outputs": [],
   "source": [
    "var = ['deceased', 'recovered', 'hospitalised', 'total_infected']\n",
    "color = ['red', 'green', 'orange', 'C0']\n",
    "color_t = ['brown', 'darkgreen', 'maroon', 'blue']\n",
    "loss_fn = ['ape', 'error', 'se']"
   ]
  },
  {
   "cell_type": "code",
   "execution_count": null,
   "metadata": {},
   "outputs": [],
   "source": [
    "for i,lf in enumerate(loss_fn):\n",
    "    for j,v in enumerate(var):\n",
    "        fig, ax = plt.subplots(1, figsize=(20,10))\n",
    "        for k in [0,1,3,4,5,6,7]:\n",
    "            x1 = test_loss_df_list[k].columns[2:].tolist()\n",
    "            # x1 = [dt.datetime.strptime(date, '%Y-%m-%d').date() for date in x1]\n",
    "            df_y1 = test_loss_df_list[k].loc[v,]\n",
    "            y1 = df_y1[np.logical_and(df_y1['split']  == 'val', df_y1['loss_functions'] == loss_fn[i])].values[0][2:]\n",
    "#             x2 = train_loss_df_list[k].columns[2:].tolist()\n",
    "#             x2 = [dt.datetime.strptime(date, '%Y-%m-%d').date() for date in x2]\n",
    "#             df_y2 = train_loss_df_list[k].loc[v,]\n",
    "#             y2 = df_y2[np.logical_and(df_y2['split']  == 'train', df_y2['loss_functions'] == loss_fn[i])].values[0][2:]\n",
    "            ax.plot(x1, y1, '-o', color=color[j], label=f'Test {loss_fn[i]} for {x1[0]} to {x1[4]}')\n",
    "#             ax.plot(x2, y2, '-o', color=color_t[j], label=f'Train {loss_fn[i]} for {x2[0]} to {x2[9]}')\n",
    "        ax.tick_params('x', labelrotation=45)\n",
    "        plt.grid()\n",
    "        plt.legend()\n",
    "        plt.title(f'{v}: Test {lf}')"
   ]
  },
  {
   "cell_type": "code",
   "execution_count": null,
   "metadata": {},
   "outputs": [],
   "source": []
  }
 ],
 "metadata": {
  "kernelspec": {
   "display_name": "Python 3",
   "language": "python",
   "name": "python3"
  },
  "language_info": {
   "codemirror_mode": {
    "name": "ipython",
    "version": 3
   },
   "file_extension": ".py",
   "mimetype": "text/x-python",
   "name": "python",
   "nbconvert_exporter": "python",
   "pygments_lexer": "ipython3"
  }
 },
 "nbformat": 4,
 "nbformat_minor": 4
}
