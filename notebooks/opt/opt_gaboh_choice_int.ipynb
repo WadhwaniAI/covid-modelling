{
 "cells": [
  {
   "cell_type": "code",
   "execution_count": 60,
   "metadata": {},
   "outputs": [
    {
     "name": "stdout",
     "output_type": "stream",
     "text": [
      "The autoreload extension is already loaded. To reload it, use:\n",
      "  %reload_ext autoreload\n"
     ]
    }
   ],
   "source": [
    "%load_ext autoreload\n",
    "%autoreload 2\n",
    "import numpy as np\n",
    "from scipy.integrate import solve_ivp\n",
    "import matplotlib.pyplot as plt\n",
    "import seaborn as sns; sns.set()\n",
    "import datetime\n",
    "import pandas as pd\n",
    "import itertools\n",
    "import sys\n",
    "import os\n",
    "import math\n",
    "sys.path.append('../..')\n",
    "import scipy.optimize as opt\n",
    "\n",
    "from models.optim.gaboh_choice_opt import SEIR"
   ]
  },
  {
   "cell_type": "code",
   "execution_count": 110,
   "metadata": {},
   "outputs": [],
   "source": [
    "# np.array([start days]), np.array([duration]), np.array([choice], number_of_days_simulated)\n",
    "def calculate_opt(intervention_day, intervention_duration, intervention_choice, days):\n",
    "    R0 = 2.2 \n",
    "    T_inf = 2.9\n",
    "    T_trans = T_inf/R0\n",
    "    T_inc = 5.2\n",
    "    T_recov_mild = (14 - T_inf)\n",
    "    T_hosp = 5\n",
    "    T_recov_severe = (31.5 - T_inf)\n",
    "    T_death = 32\n",
    "\n",
    "    P_severe = 0.2\n",
    "    P_fatal = 0.02\n",
    "    P_mild = 1 - P_severe - P_fatal\n",
    "\n",
    "    N = 7e6\n",
    "    I0 = 1.0\n",
    "\n",
    "    assert(len(intervention_day) == len(intervention_duration))\n",
    "    assert(len(intervention_duration) == len(intervention_choice))\n",
    "    \n",
    "    params = [T_trans, T_inc, T_inf, T_recov_mild, T_hosp, T_recov_severe, T_death, \n",
    "              P_mild, P_severe, P_fatal, N, intervention_day, intervention_duration, intervention_choice]\n",
    "\n",
    "    # S, E, I, R_mild, R_severe, R_severe_home, R_fatal, C, D\n",
    "    state_init_values = [(N - I0)/N, 0, I0/N, 0, 0, 0, 0, 0, 0]\n",
    "    \n",
    "    solver = SEIR(params, state_init_values)\n",
    "    sol = solver.solve_ode(time_step=1, total_no_of_days=days)\n",
    "    states_int_array = (sol.y*N).astype('int')\n",
    "    \n",
    "    \n",
    "    S_coeficeint=0\n",
    "    E_coeficeint=0\n",
    "    I_coeficeint=0.5\n",
    "    R_mild_coeficeint=0.5\n",
    "    R_severe_coeficeint=0.5\n",
    "    R_severe_hosp_coeficeint=0.5\n",
    "    R_R_fatal_coeficeint=1\n",
    "    C_coeficeint=0\n",
    "    D_coeficeint=1\n",
    "    \n",
    "    \n",
    "    coeficeint=[S_coeficeint,E_coeficeint,I_coeficeint,R_mild_coeficeint,R_severe_coeficeint,R_severe_hosp_coeficeint,\\\n",
    "                R_R_fatal_coeficeint,C_coeficeint,D_coeficeint]\n",
    "    \n",
    "    for i in range(days):\n",
    "        grad1 = np.dot(coeficeint,np.sum(states_int_array/1e8, axis=1))\n",
    "    return(grad1)"
   ]
  },
  {
   "cell_type": "code",
   "execution_count": 115,
   "metadata": {},
   "outputs": [
    {
     "name": "stdout",
     "output_type": "stream",
     "text": [
      "0.8595666399999999\n"
     ]
    }
   ],
   "source": [
    "fx = calculate_opt(intervention_day=np.array([100]), intervention_duration=np.array([50]), intervention_choice=np.array([0]), days=400)\n",
    "print(fx)"
   ]
  },
  {
   "cell_type": "code",
   "execution_count": 23,
   "metadata": {},
   "outputs": [],
   "source": [
    "def brute_optim_fn(total_resource=30, day0=30):\n",
    "    days = day0+365\n",
    "    max_val = 0\n",
    "    max_params = {}\n",
    "    params = []\n",
    "    choice_pos = np.array([0.25, 0.5, 1])\n",
    "    min_duration = 10\n",
    "    max_duration = total_resource*np.array([4,2,1])\n",
    "\n",
    "    for start in range(day0, day0+365):\n",
    "        for choice in choice_pos:\n",
    "            maxd = max_duration[np.where(choice_pos == choice)[0].item()]\n",
    "            for duration in range(min_duration, maxd+1):\n",
    "                params.append([np.array([start]), np.array([choice]), np.array([duration])])\n",
    "                \n",
    "    for start1 in range(day0, day0+365):\n",
    "        for choice1 in choice_pos:\n",
    "            maxd1 = max_duration[np.where(choice_pos == choice1)[0].item()]\n",
    "            for duration1 in range(min_duration, maxd1+1):\n",
    "                for start2 in range(start1+duration1, day0+365):\n",
    "                    for choice2 in choice_pos:\n",
    "                        maxd2 = max_duration[np.where(choice_pos == choice2)[0].item()] - int(duration1*(choice2/choice1))\n",
    "                        for duration2 in range(min_duration, maxd2+1):\n",
    "                            params.append([np.array([start1,start2]), np.array([choice1,choice2]), np.array([duration1,duration2])])\n",
    "                            \n",
    "    for i in range(len(params)):\n",
    "        value = calculate_opt(intervention_day=params[i][0], intervention_duration=params[i][2], intervention_choice=params[i][1], days = 400)\n",
    "        if(value>max_val):\n",
    "            max_params['start_array'] = params[i][0]\n",
    "            max_params['duration_array'] = params[i][2]\n",
    "            max_params['choice_array'] = params[i][1]\n",
    "            max_val = value        \n",
    "            \n",
    "    return(max_val, max_params)"
   ]
  },
  {
   "cell_type": "code",
   "execution_count": 20,
   "metadata": {},
   "outputs": [
    {
     "data": {
      "text/plain": [
       "(20.369375990250003,\n",
       " {'start_array': array([88]),\n",
       "  'duration_array': array([120]),\n",
       "  'choice_array': array([0.25])})"
      ]
     },
     "execution_count": 20,
     "metadata": {},
     "output_type": "execute_result"
    }
   ],
   "source": [
    "brute_optim_fn()"
   ]
  },
  {
   "cell_type": "code",
   "execution_count": 111,
   "metadata": {},
   "outputs": [],
   "source": [
    "def check(start_array, duration_array, choice_array, total_resource):\n",
    "    for i in range(1,len(start_array)):\n",
    "        if(start_array[i] <= start_array[i-1] + duration_array[i-1]):\n",
    "            return(0)\n",
    "    resource_spent = np.dot(duration_array, choice_array)\n",
    "    if(resource_spent != total_resource):\n",
    "        return(0)\n",
    "    else:\n",
    "        return(1)\n",
    "\n",
    "\n",
    "def grid_search(num_int, total_resource=30, day0=30):\n",
    "    min_val = 100\n",
    "    min_params = {}\n",
    "    params = []\n",
    "    min_duration = 10\n",
    "    max_duration = total_resource*np.array([4,2,1])\n",
    "   \n",
    "    if(num_int == 1):\n",
    "        start_val = [start for start in range(day0, day0+365, 10)]\n",
    "        choice_val = [0.25, 0.5, 1]\n",
    "        duration_val = [duration for duration in range(10, 4*total_resource, 5)]\n",
    "        start_tuple = list(itertools.product(start_val))\n",
    "        choice_tuple = list(itertools.product(choice_val))\n",
    "        duration_tuple = list(itertools.product(duration_val))\n",
    "        inputs = list(itertools.product(start_tuple, duration_tuple, choice_tuple))\n",
    "        for inp in inputs:\n",
    "            start_array = np.array(inp[0])\n",
    "            duration_array = np.array(inp[1])\n",
    "            choice_array = np.array(inp[2])\n",
    "            if(check(start_array, duration_array, choice_array, total_resource)):\n",
    "                params.append([start_array, choice_array, duration_array])\n",
    "        \n",
    "    if(num_int == 2):\n",
    "        start_val = [start for start in range(day0, day0+365, 10)]\n",
    "        choice_val = [0.25, 0.5, 1]\n",
    "        duration_val = [duration for duration in range(10, 4*total_resource, 5)]\n",
    "        start_tuple = list(itertools.product(start_val, start_val))\n",
    "        choice_tuple = list(itertools.product(choice_val, choice_val))\n",
    "        duration_tuple = list(itertools.product(duration_val, duration_val))\n",
    "        inputs = list(itertools.product(start_tuple, duration_tuple, choice_tuple))\n",
    "        for inp in inputs:\n",
    "            start_array = np.array(inp[0])\n",
    "            duration_array = np.array(inp[1])\n",
    "            choice_array = np.array(inp[2])\n",
    "            if(check(start_array, duration_array, choice_array, total_resource)):\n",
    "                params.append([start_array, choice_array, duration_array])\n",
    "            \n",
    "    if(num_int == 3):\n",
    "        start_val = [start for start in range(day0, day0+365, 40)]\n",
    "        choice_val = [0.25, 0.5, 1]\n",
    "        duration_val = [duration for duration in range(10, 4*total_resource, 10)]\n",
    "        start_tuple = list(itertools.product(start_val, start_val, start_val))\n",
    "        choice_tuple = list(itertools.product(choice_val, choice_val, choice_val))\n",
    "        duration_tuple = list(itertools.product(duration_val, duration_val, duration_val))\n",
    "        inputs = list(itertools.product(start_tuple, duration_tuple, choice_tuple))\n",
    "        for inp in inputs:\n",
    "            start_array = np.array(inp[0])\n",
    "            duration_array = np.array(inp[1])\n",
    "            choice_array = np.array(inp[2])\n",
    "            if(check(start_array, duration_array, choice_array, total_resource)):\n",
    "                params.append([start_array, choice_array, duration_array])\n",
    "                \n",
    "    if(num_int == 4):\n",
    "        start_val = [start for start in range(day0, day0+365, 40)]\n",
    "        choice_val = [0.25, 0.5, 1]\n",
    "        duration_val = [duration for duration in range(10, 4*total_resource, 20)]\n",
    "        start_tuple = list(itertools.product(start_val, start_val, start_val, start_val))\n",
    "        choice_tuple = list(itertools.product(choice_val, choice_val, choice_val, choice_val))\n",
    "        duration_tuple = list(itertools.product(duration_val, duration_val, duration_val, duration_val))\n",
    "        inputs = list(itertools.product(start_tuple, duration_tuple, choice_tuple))\n",
    "        for inp in inputs:\n",
    "            start_array = np.array(inp[0])\n",
    "            duration_array = np.array(inp[1])\n",
    "            choice_array = np.array(inp[2])\n",
    "            if(check(start_array, duration_array, choice_array, total_resource)):\n",
    "                params.append([start_array, choice_array, duration_array])\n",
    "                \n",
    "                \n",
    "    if(num_int == 5):\n",
    "        start_val = [start for start in range(day0, day0+365, 40)]\n",
    "        choice_val = [0.25, 0.5, 1]\n",
    "        duration_val = [duration for duration in range(10, 4*total_resource, 20)]\n",
    "        start_tuple = list(itertools.product(start_val, start_val, start_val, start_val, start_val))\n",
    "        choice_tuple = list(itertools.product(choice_val, choice_val, choice_val, choice_val, choice_val))\n",
    "        duration_tuple = list(itertools.product(duration_val, duration_val, duration_val, duration_val, duration_val))\n",
    "        inputs = list(itertools.product(start_tuple, duration_tuple, choice_tuple))\n",
    "        for inp in inputs:\n",
    "            start_array = np.array(inp[0])\n",
    "            duration_array = np.array(inp[1])\n",
    "            choice_array = np.array(inp[2])\n",
    "            if(check(start_array, duration_array, choice_array, total_resource)):\n",
    "                params.append([start_array, choice_array, duration_array])\n",
    "        \n",
    "                            \n",
    "    print(len(params))\n",
    "    for i in range(len(params)):\n",
    "        value = calculate_opt(intervention_day=params[i][0], intervention_duration=params[i][2], intervention_choice=params[i][1], days = 400)\n",
    "        if(value<min_val):\n",
    "            min_params['start_array'] = params[i][0]\n",
    "            min_params['duration_array'] = params[i][2]\n",
    "            min_params['choice_array'] = params[i][1]\n",
    "            min_val = value        \n",
    "            \n",
    "    return(min_val, min_params)    "
   ]
  },
  {
   "cell_type": "code",
   "execution_count": 117,
   "metadata": {},
   "outputs": [
    {
     "name": "stdout",
     "output_type": "stream",
     "text": [
      "74\n"
     ]
    },
    {
     "data": {
      "text/plain": [
       "(0.67637367,\n",
       " {'start_array': array([110]),\n",
       "  'duration_array': array([60]),\n",
       "  'choice_array': array([0.5])})"
      ]
     },
     "execution_count": 117,
     "metadata": {},
     "output_type": "execute_result"
    }
   ],
   "source": [
    "#num_int = 1\n",
    "grid_search(num_int=1)"
   ]
  },
  {
   "cell_type": "code",
   "execution_count": 118,
   "metadata": {},
   "outputs": [
    {
     "name": "stdout",
     "output_type": "stream",
     "text": [
      "36667\n"
     ]
    },
    {
     "data": {
      "text/plain": [
       "(0.6750325850000001,\n",
       " {'start_array': array([110, 170]),\n",
       "  'duration_array': array([55, 10]),\n",
       "  'choice_array': array([0.5 , 0.25])})"
      ]
     },
     "execution_count": 118,
     "metadata": {},
     "output_type": "execute_result"
    }
   ],
   "source": [
    "# num_int = 2\n",
    "grid_search(num_int=2)"
   ]
  },
  {
   "cell_type": "code",
   "execution_count": 119,
   "metadata": {},
   "outputs": [
    {
     "name": "stdout",
     "output_type": "stream",
     "text": [
      "23048\n"
     ]
    },
    {
     "data": {
      "text/plain": [
       "(0.690582555,\n",
       " {'start_array': array([110, 190, 230]),\n",
       "  'duration_array': array([50, 10, 10]),\n",
       "  'choice_array': array([0.5 , 0.25, 0.25])})"
      ]
     },
     "execution_count": 119,
     "metadata": {},
     "output_type": "execute_result"
    }
   ],
   "source": [
    "#num_int = 3\n",
    "grid_search(num_int=3)"
   ]
  },
  {
   "cell_type": "code",
   "execution_count": null,
   "metadata": {},
   "outputs": [],
   "source": []
  }
 ],
 "metadata": {
  "kernelspec": {
   "display_name": "env_covid",
   "language": "python",
   "name": "env_covid"
  },
  "language_info": {
   "codemirror_mode": {
    "name": "ipython",
    "version": 3
   },
   "file_extension": ".py",
   "mimetype": "text/x-python",
   "name": "python",
   "nbconvert_exporter": "python",
   "pygments_lexer": "ipython3",
   "version": "3.7.3"
  }
 },
 "nbformat": 4,
 "nbformat_minor": 4
}
