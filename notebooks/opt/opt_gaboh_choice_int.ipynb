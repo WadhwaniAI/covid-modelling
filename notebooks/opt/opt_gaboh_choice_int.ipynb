{
 "cells": [
  {
   "cell_type": "code",
   "execution_count": 1,
   "metadata": {},
   "outputs": [],
   "source": [
    "%load_ext autoreload\n",
    "%autoreload 2\n",
    "import numpy as np\n",
    "from scipy.integrate import solve_ivp\n",
    "import matplotlib.pyplot as plt\n",
    "import seaborn as sns; sns.set()\n",
    "import datetime\n",
    "import pandas as pd\n",
    "import sys\n",
    "import os\n",
    "import math\n",
    "sys.path.append('../..')\n",
    "import scipy.optimize as opt\n",
    "\n",
    "from models.optim.gaboh_choice_opt import SEIR"
   ]
  },
  {
   "cell_type": "code",
   "execution_count": 5,
   "metadata": {},
   "outputs": [],
   "source": [
    "# intervention = [np.array([start days]), np.array([duration]), np.array([choice])]\n",
    "def calculate_opt(intervention):\n",
    "    R0 = 2.2 \n",
    "    T_inf = 2.9\n",
    "    T_trans = T_inf/R0\n",
    "    T_inc = 5.2\n",
    "    T_recov_mild = (14 - T_inf)\n",
    "    T_hosp = 5\n",
    "    T_recov_severe = (31.5 - T_inf)\n",
    "    T_death = 32\n",
    "\n",
    "    P_severe = 0.2\n",
    "    P_fatal = 0.02\n",
    "    P_mild = 1 - P_severe - P_fatal\n",
    "\n",
    "    N = 7e6\n",
    "    I0 = 1.0\n",
    "\n",
    "    # new_R0 = 0.74\n",
    "    # intervention_amount = R0/new_R0\n",
    "    intervention_day = intervention[0]\n",
    "    intervention_duration = intervention[1]\n",
    "    intervention_choice = intervention[2]\n",
    "\n",
    "    assert(len(intervention_day) == len(intervention_duration))\n",
    "    assert(len(intervention_duration) == len(intervention_choice))\n",
    "    \n",
    "    params = [T_trans, T_inc, T_inf, T_recov_mild, T_hosp, T_recov_severe, T_death, \n",
    "              P_mild, P_severe, P_fatal, N, intervention_day, intervention_duration, intervention_choice]\n",
    "\n",
    "    # S, E, I, R_mild, R_severe, R_severe_home, R_fatal, C, D\n",
    "    state_init_values = [(N - I0)/N, 0, I0/N, 0, 0, 0, 0, 0, 0]\n",
    "    \n",
    "    solver = SEIR(params, state_init_values)\n",
    "    sol = solver.solve_ode(time_step=1, total_no_of_days=400)\n",
    "    states_int_array = (sol.y*N).astype('int')\n",
    "    \n",
    "    E = states_int_array[1]\n",
    "    I = states_int_array[2]\n",
    "    H = states_int_array[5]\n",
    "    F = states_int_array[8]\n",
    "    \n",
    "    # S_coeficeint=1\n",
    "    # E_coeficeint=0.825\n",
    "    # I_coeficeint=0.75\n",
    "    # R_mild_coeficeint=0.625\n",
    "    # R_severe_coeficeint=0.5\n",
    "    # R_severe_home_coeficeint=0.325\n",
    "    # R_R_fatal_coeficeint=0.25\n",
    "    # C_coeficeint=1\n",
    "    # D_coeficeint=0\n",
    "    \n",
    "    S_coeficeint=1\n",
    "    E_coeficeint=0\n",
    "    I_coeficeint=0\n",
    "    R_mild_coeficeint=0\n",
    "    R_severe_coeficeint=0\n",
    "    R_severe_home_coeficeint=0\n",
    "    R_R_fatal_coeficeint=0\n",
    "    C_coeficeint=1\n",
    "    D_coeficeint=0\n",
    "    \n",
    "    coeficeint=[S_coeficeint,E_coeficeint,I_coeficeint,R_mild_coeficeint,R_severe_coeficeint,R_severe_home_coeficeint,R_severe_home_coeficeint,R_R_fatal_coeficeint,C_coeficeint,D_coeficeint]\n",
    "    \n",
    "    objective=0\n",
    "    for i in range(8):\n",
    "        objective+=-coeficeint[i]*np.sum(states_int_array[i]/1e8)\n",
    "    return(objective)"
   ]
  },
  {
   "cell_type": "code",
   "execution_count": 6,
   "metadata": {},
   "outputs": [
    {
     "data": {
      "text/plain": [
       "-18.39555325"
      ]
     },
     "execution_count": 6,
     "metadata": {},
     "output_type": "execute_result"
    }
   ],
   "source": [
    "calculate_opt([np.array([100,151]), np.array([50,50]), np.array([1,0.5])])"
   ]
  },
  {
   "cell_type": "code",
   "execution_count": null,
   "metadata": {},
   "outputs": [],
   "source": []
  }
 ],
 "metadata": {
  "kernelspec": {
   "display_name": "env_covid",
   "language": "python",
   "name": "env_covid"
  },
  "language_info": {
   "codemirror_mode": {
    "name": "ipython",
    "version": 3
   },
   "file_extension": ".py",
   "mimetype": "text/x-python",
   "name": "python",
   "nbconvert_exporter": "python",
   "pygments_lexer": "ipython3",
   "version": "3.7.3"
  }
 },
 "nbformat": 4,
 "nbformat_minor": 4
}
