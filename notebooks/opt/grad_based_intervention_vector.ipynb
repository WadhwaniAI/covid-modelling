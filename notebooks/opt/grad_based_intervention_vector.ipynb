{
 "cells": [
  {
   "cell_type": "code",
   "execution_count": 1,
   "metadata": {},
   "outputs": [],
   "source": [
    "%load_ext autoreload\n",
    "%autoreload 2\n",
    "import numpy as np\n",
    "from scipy.integrate import solve_ivp\n",
    "import matplotlib.pyplot as plt\n",
    "import seaborn as sns; sns.set()\n",
    "import datetime\n",
    "import pandas as pd\n",
    "import itertools\n",
    "import sys\n",
    "import os\n",
    "import math\n",
    "sys.path.append('../..')\n",
    "import scipy.optimize as opt\n",
    "from functools import partial\n",
    "from hyperopt import hp, tpe, fmin, Trials\n",
    "from models.optim.grad_opt import SEIR"
   ]
  },
  {
   "cell_type": "code",
   "execution_count": 2,
   "metadata": {},
   "outputs": [],
   "source": [
    "# np.array([start days]), np.array([duration]), np.array([choice], number_of_days_simulated)\n",
    "def run_seir(days, int_vec):\n",
    "    R0 = 2.2 \n",
    "    T_inf = 2.9\n",
    "    T_trans = T_inf/R0\n",
    "    T_inc = 5.2\n",
    "    T_recov_mild = (14 - T_inf)\n",
    "    T_hosp = 5\n",
    "    T_recov_severe = (31.5 - T_inf)\n",
    "    T_death = 32\n",
    "\n",
    "    P_severe = 0.2\n",
    "    P_fatal = 0.02\n",
    "    P_mild = 1 - P_severe - P_fatal\n",
    "\n",
    "    N = 7e6\n",
    "    I0 = 1.0\n",
    "    \n",
    "    params = [T_trans, T_inc, T_inf, T_recov_mild, T_hosp, T_recov_severe, T_death, \n",
    "              P_mild, P_severe, P_fatal, N, int_vec]\n",
    "\n",
    "    # S, E, I, R_mild, R_severe, R_severe_home, R_fatal, C, D\n",
    "    state_init_values = [(N - I0)/N, 0, I0/N, 0, 0, 0, 0, 0, 0]\n",
    "    \n",
    "    solver = SEIR(params, state_init_values)\n",
    "    sol = solver.solve_ode(time_step=1, total_no_of_days=days)\n",
    "    states_int_array = (sol.y*N).astype('int')\n",
    "    \n",
    "    derivatives = np.ones((days,9))\n",
    "    for t in range(days):\n",
    "        derivatives[t] = solver.get_derivative(t=t, y=states_int_array[:,t])\n",
    "    \n",
    "    S_coeficeint=0\n",
    "    E_coeficeint=0\n",
    "    I_coeficeint=0.5\n",
    "    R_mild_coeficeint=0.5\n",
    "    R_severe_coeficeint=0.5\n",
    "    R_severe_hosp_coeficeint=0.5\n",
    "    R_R_fatal_coeficeint=1\n",
    "    C_coeficeint=0\n",
    "    D_coeficeint=1\n",
    "    \n",
    "    coeficeint= np.array([S_coeficeint,E_coeficeint,I_coeficeint,R_mild_coeficeint,R_severe_coeficeint,R_severe_hosp_coeficeint,\\\n",
    "                          R_R_fatal_coeficeint,C_coeficeint,D_coeficeint])\n",
    "    \n",
    "    grad1 = np.ones(days)\n",
    "    grad2 = np.ones(days)\n",
    "\n",
    "    for i in range(days):\n",
    "        grad2[i] = np.dot(coeficeint,(derivatives[i]/1e8))\n",
    "        grad1[i] = np.dot(coeficeint,(states_int_array[:,i]/1e8))\n",
    "    return(grad1)"
   ]
  },
  {
   "cell_type": "code",
   "execution_count": 4,
   "metadata": {},
   "outputs": [],
   "source": [
    "total_resource = 30\n",
    "resource_spent = 0\n",
    "window = 5\n",
    "int_vec = np.ones(400)\n",
    "while(resource_spent<total_resource):\n",
    "    curve = run_seir(days=400, int_vec=int_vec)\n",
    "    arg_curve = (-curve).argsort()\n",
    "    day_max = arg_curve[0]\n",
    "    i=1\n",
    "    while(int_vec[day_max]>=2):\n",
    "        day_max = arg_curve[i]\n",
    "        i += 1\n",
    "\n",
    "    int_vec[day_max] += 0.25 \n",
    "    resource_spent += 0.25"
   ]
  },
  {
   "cell_type": "code",
   "execution_count": 5,
   "metadata": {},
   "outputs": [
    {
     "data": {
      "text/plain": [
       "array([1., 1., 1., 1., 1., 1., 1., 1., 1., 1., 1., 1., 1., 1., 1., 1., 1.,\n",
       "       1., 1., 1., 1., 1., 1., 1., 1., 1., 1., 1., 1., 1., 1., 1., 1., 1.,\n",
       "       1., 1., 1., 1., 1., 1., 1., 1., 1., 1., 1., 1., 1., 1., 1., 1., 1.,\n",
       "       1., 1., 1., 1., 1., 1., 1., 1., 1., 1., 1., 1., 1., 1., 1., 1., 1.,\n",
       "       1., 1., 1., 1., 1., 1., 1., 1., 1., 1., 1., 1., 1., 1., 1., 1., 1.,\n",
       "       1., 1., 1., 1., 1., 1., 1., 1., 1., 1., 1., 1., 1., 1., 1., 1., 1.,\n",
       "       1., 1., 1., 1., 1., 1., 1., 1., 1., 1., 1., 1., 1., 1., 1., 1., 2.,\n",
       "       2., 2., 2., 2., 2., 2., 2., 2., 2., 2., 2., 2., 2., 2., 2., 2., 2.,\n",
       "       2., 2., 2., 2., 2., 2., 2., 2., 2., 2., 2., 2., 1., 1., 1., 1., 1.,\n",
       "       1., 1., 1., 1., 1., 1., 1., 1., 1., 1., 1., 1., 1., 1., 1., 1., 1.,\n",
       "       1., 1., 1., 1., 1., 1., 1., 1., 1., 1., 1., 1., 1., 1., 1., 1., 1.,\n",
       "       1., 1., 1., 1., 1., 1., 1., 1., 1., 1., 1., 1., 1., 1., 1., 1., 1.,\n",
       "       1., 1., 1., 1., 1., 1., 1., 1., 1., 1., 1., 1., 1., 1., 1., 1., 1.,\n",
       "       1., 1., 1., 1., 1., 1., 1., 1., 1., 1., 1., 1., 1., 1., 1., 1., 1.,\n",
       "       1., 1., 1., 1., 1., 1., 1., 1., 1., 1., 1., 1., 1., 1., 1., 1., 1.,\n",
       "       1., 1., 1., 1., 1., 1., 1., 1., 1., 1., 1., 1., 1., 1., 1., 1., 1.,\n",
       "       1., 1., 1., 1., 1., 1., 1., 1., 1., 1., 1., 1., 1., 1., 1., 1., 1.,\n",
       "       1., 1., 1., 1., 1., 1., 1., 1., 1., 1., 1., 1., 1., 1., 1., 1., 1.,\n",
       "       1., 1., 1., 1., 1., 1., 1., 1., 1., 1., 1., 1., 1., 1., 1., 1., 1.,\n",
       "       1., 1., 1., 1., 1., 1., 1., 1., 1., 1., 1., 1., 1., 1., 1., 1., 1.,\n",
       "       1., 1., 1., 1., 1., 1., 1., 1., 1., 1., 1., 1., 1., 1., 1., 1., 1.,\n",
       "       1., 1., 1., 1., 1., 1., 1., 1., 1., 1., 1., 1., 1., 1., 1., 1., 1.,\n",
       "       1., 1., 1., 1., 1., 1., 1., 1., 1., 1., 1., 1., 1., 1., 1., 1., 1.,\n",
       "       1., 1., 1., 1., 1., 1., 1., 1., 1.])"
      ]
     },
     "execution_count": 5,
     "metadata": {},
     "output_type": "execute_result"
    }
   ],
   "source": [
    "int_vec"
   ]
  },
  {
   "cell_type": "code",
   "execution_count": 6,
   "metadata": {},
   "outputs": [],
   "source": [
    "curve = run_seir(days=400, int_vec=int_vec)"
   ]
  },
  {
   "cell_type": "code",
   "execution_count": 7,
   "metadata": {},
   "outputs": [
    {
     "data": {
      "text/plain": [
       "0.691228475"
      ]
     },
     "execution_count": 7,
     "metadata": {},
     "output_type": "execute_result"
    }
   ],
   "source": [
    "np.sum(curve)"
   ]
  },
  {
   "cell_type": "code",
   "execution_count": 8,
   "metadata": {},
   "outputs": [
    {
     "data": {
      "text/plain": [
       "0.8583847349999999"
      ]
     },
     "execution_count": 8,
     "metadata": {},
     "output_type": "execute_result"
    }
   ],
   "source": [
    "curve_base = run_seir(days = 400, int_vec=np.ones(400))\n",
    "np.sum(curve_base)"
   ]
  },
  {
   "cell_type": "code",
   "execution_count": null,
   "metadata": {},
   "outputs": [],
   "source": []
  }
 ],
 "metadata": {
  "kernelspec": {
   "display_name": "env_covid",
   "language": "python",
   "name": "env_covid"
  },
  "language_info": {
   "codemirror_mode": {
    "name": "ipython",
    "version": 3
   },
   "file_extension": ".py",
   "mimetype": "text/x-python",
   "name": "python",
   "nbconvert_exporter": "python",
   "pygments_lexer": "ipython3",
   "version": "3.7.3"
  }
 },
 "nbformat": 4,
 "nbformat_minor": 4
}
