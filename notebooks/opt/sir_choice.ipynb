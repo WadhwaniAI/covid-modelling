{
 "cells": [
  {
   "cell_type": "code",
   "execution_count": 1,
   "metadata": {},
   "outputs": [],
   "source": [
    "%load_ext autoreload\n",
    "%autoreload 2\n",
    "import numpy as np\n",
    "from scipy.integrate import solve_ivp\n",
    "import matplotlib.pyplot as plt\n",
    "import seaborn as sns; sns.set()\n",
    "import datetime\n",
    "import pandas as pd\n",
    "import itertools\n",
    "import sys\n",
    "import os\n",
    "import math\n",
    "sys.path.append('../..')\n",
    "import scipy.optimize as opt\n",
    "from joblib import Parallel, delayed\n",
    "from functools import partial\n",
    "from hyperopt import hp, tpe, fmin, Trials\n",
    "from models.optim.sir_simple import SEIR"
   ]
  },
  {
   "cell_type": "code",
   "execution_count": 2,
   "metadata": {},
   "outputs": [],
   "source": [
    "# np.array([start days]), np.array([duration]), np.array([choice], number_of_days_simulated)\n",
    "def calculate_opt(intervention_day, intervention_duration, intervention_choice, days):\n",
    "    R0 = 2.2 \n",
    "    T_inf = 2.9\n",
    "    T_trans = T_inf/R0\n",
    "    T_treat = 15\n",
    "\n",
    "    N = 1e5\n",
    "    I0 = 3.0\n",
    "\n",
    "    assert(len(intervention_day) == len(intervention_duration))\n",
    "    assert(len(intervention_duration) == len(intervention_choice))\n",
    "    \n",
    "    params = [T_trans, T_treat, N, intervention_day, intervention_duration, intervention_choice]\n",
    "\n",
    "    # S, E, I, R_mild, R_severe, R_severe_home, R_fatal, C, D\n",
    "    state_init_values = [(N - I0)/N, I0/N, 0]\n",
    "    \n",
    "    solver = SEIR(params, state_init_values)\n",
    "    sol = solver.solve_ode(time_step=1, total_no_of_days=days)\n",
    "    states_int_array = (sol.y*N).astype('int')\n",
    "    \n",
    "    \n",
    "    S_coeficeint=0\n",
    "    I_coeficeint=1\n",
    "    R_coeficeint=0\n",
    "    \n",
    "    \n",
    "    coeficeint=[S_coeficeint,I_coeficeint,R_coeficeint]\n",
    "    \n",
    "    for i in range(days):\n",
    "        grad1 = np.dot(coeficeint,np.sum(states_int_array/1e6, axis=1))\n",
    "    return(grad1)"
   ]
  },
  {
   "cell_type": "code",
   "execution_count": 3,
   "metadata": {},
   "outputs": [
    {
     "name": "stdout",
     "output_type": "stream",
     "text": [
      "1.4999090000000002\n"
     ]
    }
   ],
   "source": [
    "fx = calculate_opt(intervention_day=np.array([100]), intervention_duration=np.array([50]), intervention_choice=np.array([0]), days=400)\n",
    "print(fx)"
   ]
  },
  {
   "cell_type": "code",
   "execution_count": 4,
   "metadata": {},
   "outputs": [],
   "source": [
    "def check(start_array, duration_array, choice_array, total_resource):\n",
    "    for i in range(1,len(start_array)):\n",
    "        if(start_array[i] <= start_array[i-1] + duration_array[i-1]):\n",
    "            return(0)\n",
    "    resource_spent = np.dot(duration_array, choice_array)\n",
    "    if(resource_spent != total_resource):\n",
    "        return(0)\n",
    "    else:\n",
    "        return(1)\n",
    "    \n",
    "\n",
    "def grid_search(num_int, total_resource=30, day0=30):\n",
    "    min_val = 100\n",
    "    min_params = {}\n",
    "    params = []\n",
    "    min_duration = 10\n",
    "    max_duration = total_resource*np.array([4,2,1])\n",
    "   \n",
    "    if(num_int == 1):\n",
    "        start_val = [start for start in range(day0, day0+365, 10)]\n",
    "        choice_val = [0.25, 0.5, 1]\n",
    "        duration_val = [duration for duration in range(10, 4*total_resource, 5)]\n",
    "        start_tuple = list(itertools.product(start_val))\n",
    "        choice_tuple = list(itertools.product(choice_val))\n",
    "        duration_tuple = list(itertools.product(duration_val))\n",
    "        inputs = list(itertools.product(start_tuple, duration_tuple, choice_tuple))\n",
    "        for inp in inputs:\n",
    "            start_array = np.array(inp[0])\n",
    "            duration_array = np.array(inp[1])\n",
    "            choice_array = np.array(inp[2])\n",
    "            if(check(start_array, duration_array, choice_array, total_resource)):\n",
    "                params.append([start_array, choice_array, duration_array])\n",
    "        \n",
    "    if(num_int == 2):\n",
    "        start_val = [start for start in range(day0, day0+365, 10)]\n",
    "        choice_val = [0.25, 0.5, 1]\n",
    "        duration_val = [duration for duration in range(10, 4*total_resource, 5)]\n",
    "        start_tuple = list(itertools.product(start_val, start_val))\n",
    "        choice_tuple = list(itertools.product(choice_val, choice_val))\n",
    "        duration_tuple = list(itertools.product(duration_val, duration_val))\n",
    "        inputs = list(itertools.product(start_tuple, duration_tuple, choice_tuple))\n",
    "        for inp in inputs:\n",
    "            start_array = np.array(inp[0])\n",
    "            duration_array = np.array(inp[1])\n",
    "            choice_array = np.array(inp[2])\n",
    "            if(check(start_array, duration_array, choice_array, total_resource)):\n",
    "                params.append([start_array, choice_array, duration_array])\n",
    "            \n",
    "    if(num_int == 3):\n",
    "        start_val = [start for start in range(day0, day0+365, 40)]\n",
    "        choice_val = [0.25, 0.5, 1]\n",
    "        duration_val = [duration for duration in range(10, 4*total_resource, 10)]\n",
    "        start_tuple = list(itertools.product(start_val, start_val, start_val))\n",
    "        choice_tuple = list(itertools.product(choice_val, choice_val, choice_val))\n",
    "        duration_tuple = list(itertools.product(duration_val, duration_val, duration_val))\n",
    "        inputs = list(itertools.product(start_tuple, duration_tuple, choice_tuple))\n",
    "        for inp in inputs:\n",
    "            start_array = np.array(inp[0])\n",
    "            duration_array = np.array(inp[1])\n",
    "            choice_array = np.array(inp[2])\n",
    "            if(check(start_array, duration_array, choice_array, total_resource)):\n",
    "                params.append([start_array, choice_array, duration_array])\n",
    "        \n",
    "                            \n",
    "    print(len(params))\n",
    "\n",
    "    value_array = Parallel(n_jobs=40)(delayed(calculate_opt)(intervention_day=par[0], intervention_duration=par[2],\\\n",
    "                                                             intervention_choice=par[1], days = 400) for par in params)\n",
    "    value_array = np.array(value_array)\n",
    "    min_val = np.min(value_array)\n",
    "    i = np.argmin(value_array)\n",
    "    min_params['start_array'] = params[i][0]\n",
    "    min_params['duration_array'] = params[i][2]\n",
    "    min_params['choice_array'] = params[i][1]\n",
    "    \n",
    "    return(min_val, min_params)    "
   ]
  },
  {
   "cell_type": "code",
   "execution_count": 5,
   "metadata": {},
   "outputs": [
    {
     "name": "stdout",
     "output_type": "stream",
     "text": [
      "74\n"
     ]
    },
    {
     "data": {
      "text/plain": [
       "(1.4997589999999998,\n",
       " {'start_array': array([30]),\n",
       "  'duration_array': array([30]),\n",
       "  'choice_array': array([1])})"
      ]
     },
     "execution_count": 5,
     "metadata": {},
     "output_type": "execute_result"
    }
   ],
   "source": [
    "#num_int = 1\n",
    "grid_search(num_int=1)"
   ]
  },
  {
   "cell_type": "code",
   "execution_count": 6,
   "metadata": {},
   "outputs": [
    {
     "name": "stdout",
     "output_type": "stream",
     "text": [
      "36667\n"
     ]
    },
    {
     "data": {
      "text/plain": [
       "(1.4997159999999998,\n",
       " {'start_array': array([30, 50]),\n",
       "  'duration_array': array([15, 15]),\n",
       "  'choice_array': array([1, 1])})"
      ]
     },
     "execution_count": 6,
     "metadata": {},
     "output_type": "execute_result"
    }
   ],
   "source": [
    "# num_int = 2\n",
    "grid_search(num_int=2)"
   ]
  },
  {
   "cell_type": "code",
   "execution_count": 7,
   "metadata": {},
   "outputs": [
    {
     "name": "stdout",
     "output_type": "stream",
     "text": [
      "23048\n"
     ]
    },
    {
     "data": {
      "text/plain": [
       "(1.499777,\n",
       " {'start_array': array([ 30,  70, 110]),\n",
       "  'duration_array': array([20, 10, 10]),\n",
       "  'choice_array': array([1. , 0.5, 0.5])})"
      ]
     },
     "execution_count": 7,
     "metadata": {},
     "output_type": "execute_result"
    }
   ],
   "source": [
    "#num_int = 3\n",
    "grid_search(num_int=3)"
   ]
  },
  {
   "cell_type": "code",
   "execution_count": 8,
   "metadata": {},
   "outputs": [],
   "source": [
    "def check(start_array, duration_array, choice_array, total_resource):\n",
    "    for i in range(1,len(start_array)):\n",
    "        if(start_array[i] <= start_array[i-1] + duration_array[i-1]):\n",
    "            return(0)\n",
    "    resource_spent = np.dot(duration_array, choice_array)\n",
    "    if(resource_spent != total_resource):\n",
    "        return(0)\n",
    "    else:\n",
    "        return(1)\n",
    "\n",
    "# np.array([start days]), np.array([duration]), np.array([choice], number_of_days_simulated)\n",
    "def mod_calculate_opt(variable_params, total_resource, days):\n",
    "    R0 = 2.2 \n",
    "    T_inf = 2.9\n",
    "    T_trans = T_inf/R0\n",
    "    T_treat = 15\n",
    "\n",
    "    N = 1e5\n",
    "    I0 = 3.0\n",
    "\n",
    "    intervention_day = np.array(variable_params['intervention_day'])\n",
    "    intervention_duration = np.array(variable_params['intervention_duration'])\n",
    "    intervention_choice = np.array(variable_params['intervention_choice'])\n",
    "\n",
    "    assert(len(intervention_day) == len(intervention_duration))\n",
    "    assert(len(intervention_duration) == len(intervention_choice))\n",
    "    if(not check(intervention_day, intervention_duration, intervention_choice, total_resource)):\n",
    "        return(100)\n",
    "    \n",
    "    params = [T_trans, T_treat, N, intervention_day, intervention_duration, intervention_choice]\n",
    "\n",
    "    # S, E, I, R_mild, R_severe, R_severe_home, R_fatal, C, D\n",
    "    state_init_values = [(N - I0)/N, I0/N, 0]\n",
    "    \n",
    "    solver = SEIR(params, state_init_values)\n",
    "    sol = solver.solve_ode(time_step=1, total_no_of_days=days)\n",
    "    states_int_array = (sol.y*N).astype('int')\n",
    "    \n",
    "    \n",
    "    S_coeficeint=0\n",
    "    I_coeficeint=1\n",
    "    R_coeficeint=0\n",
    " \n",
    "    coeficeint=[S_coeficeint,I_coeficeint,R_coeficeint]\n",
    "    \n",
    "    for i in range(days):\n",
    "        grad1 = np.dot(coeficeint,np.sum(states_int_array/1e6, axis=1))\n",
    "        \n",
    "    return(grad1)\n",
    "\n",
    "def tpe_opt(num_int, total_resource=30, day0=30):\n",
    "    if(num_int==1):\n",
    "        start_val = [start for start in range(day0, day0+365, 10)]\n",
    "        choice_val = [0.25, 0.5, 1]\n",
    "        duration_val = [duration for duration in range(10, 4*total_resource+1, 5)]\n",
    "\n",
    "        variable_params = {\n",
    "            'intervention_day' : [hp.choice('intervention_day', start_val)],\n",
    "            'intervention_duration' : [hp.choice('intervention_duration', duration_val)],\n",
    "            'intervention_choice' : [hp.choice('intervention_choice', choice_val)],\n",
    "        }\n",
    "        \n",
    "    if(num_int==2):\n",
    "        start_val = [start for start in range(day0, day0+365, 10)]\n",
    "        choice_val = [0.25, 0.5, 1]\n",
    "        duration_val = [duration for duration in range(10, 4*total_resource+1, 5)]\n",
    "\n",
    "        variable_params = {\n",
    "            'intervention_day' : [hp.choice('id_0', start_val),hp.choice('id_1', start_val)],\n",
    "            'intervention_duration' : [hp.choice('du_0', duration_val),hp.choice('du_1', duration_val)],\n",
    "            'intervention_choice' : [hp.choice('ic_0', choice_val),hp.choice('ic_1', choice_val)],\n",
    "        }\n",
    "\n",
    "    partial_calculate_opt = partial(mod_calculate_opt, total_resource=total_resource, days=400) \n",
    "    \n",
    "    searchspace = variable_params\n",
    "    \n",
    "    trials = Trials()\n",
    "    best = fmin(partial_calculate_opt,\n",
    "                space=searchspace,\n",
    "                algo=tpe.suggest,\n",
    "                max_evals=3000,\n",
    "                trials=trials)\n",
    "    \n",
    "    return(best, trials)"
   ]
  },
  {
   "cell_type": "code",
   "execution_count": 9,
   "metadata": {},
   "outputs": [
    {
     "name": "stdout",
     "output_type": "stream",
     "text": [
      "100%|██████████| 3000/3000 [01:01<00:00, 48.76trial/s, best loss: 1.4997589999999998]\n"
     ]
    },
    {
     "data": {
      "text/plain": [
       "({'intervention_choice': 2, 'intervention_day': 0, 'intervention_duration': 4},\n",
       " <hyperopt.base.Trials at 0x7f0f2ff8a0b8>)"
      ]
     },
     "execution_count": 9,
     "metadata": {},
     "output_type": "execute_result"
    }
   ],
   "source": [
    "tpe_opt(num_int=1)"
   ]
  },
  {
   "cell_type": "code",
   "execution_count": 10,
   "metadata": {},
   "outputs": [
    {
     "name": "stdout",
     "output_type": "stream",
     "text": [
      "100%|██████████| 3000/3000 [01:35<00:00, 31.44trial/s, best loss: 1.499819]          \n"
     ]
    },
    {
     "data": {
      "text/plain": [
       "({'du_0': 5, 'du_1': 8, 'ic_0': 1, 'ic_1': 0, 'id_0': 0, 'id_1': 4},\n",
       " <hyperopt.base.Trials at 0x7f0f2fe01048>)"
      ]
     },
     "execution_count": 10,
     "metadata": {},
     "output_type": "execute_result"
    }
   ],
   "source": [
    "tpe_opt(num_int=2)"
   ]
  },
  {
   "cell_type": "markdown",
   "metadata": {},
   "source": [
    "## Heuristic Based Method"
   ]
  },
  {
   "cell_type": "code",
   "execution_count": 11,
   "metadata": {},
   "outputs": [],
   "source": [
    "from models.optim.sir_cont import SEIR as SEIR_CONT\n",
    "# np.array([start days]), np.array([duration]), np.array([choice], number_of_days_simulated)\n",
    "def run_seir(days, int_vec):\n",
    "    R0 = 2.2 \n",
    "    T_inf = 2.9\n",
    "    T_trans = T_inf/R0\n",
    "    T_treat = 15\n",
    "\n",
    "    N = 1e5\n",
    "    I0 = 3.0\n",
    "    \n",
    "    params = [T_trans, T_treat, N, int_vec]\n",
    "\n",
    "    # S, E, I, R_mild, R_severe, R_severe_home, R_fatal, C, D\n",
    "    state_init_values = [(N - I0)/N, I0/N, 0]\n",
    "    \n",
    "    solver = SEIR_CONT(params, state_init_values)\n",
    "    sol = solver.solve_ode(time_step=1, total_no_of_days=days)\n",
    "    states_int_array = (sol.y*N).astype('int')\n",
    "    \n",
    "    derivatives = np.ones((days,3))\n",
    "    for t in range(days):\n",
    "        derivatives[t] = solver.get_derivative(t=t, y=states_int_array[:,t])\n",
    "    \n",
    "    S_coeficeint=0\n",
    "    I_coeficeint=1\n",
    "    R_coeficeint=0\n",
    "    \n",
    "    coeficeint=np.array([S_coeficeint,I_coeficeint,R_coeficeint])\n",
    "    \n",
    "    grad1 = np.ones(days)\n",
    "    grad2 = np.ones(days)\n",
    "\n",
    "    for i in range(days):\n",
    "        grad2[i] = np.dot(coeficeint,(derivatives[i]/1e6))\n",
    "        grad1[i] = np.dot(coeficeint,(states_int_array[:,i]/1e6))\n",
    "    return(grad1)"
   ]
  },
  {
   "cell_type": "code",
   "execution_count": 12,
   "metadata": {},
   "outputs": [],
   "source": [
    "total_resource = 30\n",
    "resource_spent = 0\n",
    "window = 5\n",
    "int_vec = np.ones(400)\n",
    "while(resource_spent<total_resource):\n",
    "    curve = run_seir(days=400, int_vec=int_vec)\n",
    "    arg_curve = (-curve).argsort()\n",
    "    day_max = arg_curve[0]\n",
    "    i=1\n",
    "    while(int_vec[day_max]>=2):\n",
    "        day_max = arg_curve[i]\n",
    "        i += 1\n",
    "\n",
    "    int_vec[day_max] += 0.25 \n",
    "    resource_spent += 0.25"
   ]
  },
  {
   "cell_type": "code",
   "execution_count": 13,
   "metadata": {},
   "outputs": [
    {
     "data": {
      "text/plain": [
       "array([1., 1., 1., 1., 1., 1., 1., 1., 1., 1., 1., 1., 1., 1., 2., 2., 2.,\n",
       "       2., 2., 2., 2., 2., 2., 2., 2., 2., 2., 2., 2., 2., 2., 2., 2., 2.,\n",
       "       2., 2., 2., 2., 2., 2., 2., 2., 2., 2., 1., 1., 1., 1., 1., 1., 1.,\n",
       "       1., 1., 1., 1., 1., 1., 1., 1., 1., 1., 1., 1., 1., 1., 1., 1., 1.,\n",
       "       1., 1., 1., 1., 1., 1., 1., 1., 1., 1., 1., 1., 1., 1., 1., 1., 1.,\n",
       "       1., 1., 1., 1., 1., 1., 1., 1., 1., 1., 1., 1., 1., 1., 1., 1., 1.,\n",
       "       1., 1., 1., 1., 1., 1., 1., 1., 1., 1., 1., 1., 1., 1., 1., 1., 1.,\n",
       "       1., 1., 1., 1., 1., 1., 1., 1., 1., 1., 1., 1., 1., 1., 1., 1., 1.,\n",
       "       1., 1., 1., 1., 1., 1., 1., 1., 1., 1., 1., 1., 1., 1., 1., 1., 1.,\n",
       "       1., 1., 1., 1., 1., 1., 1., 1., 1., 1., 1., 1., 1., 1., 1., 1., 1.,\n",
       "       1., 1., 1., 1., 1., 1., 1., 1., 1., 1., 1., 1., 1., 1., 1., 1., 1.,\n",
       "       1., 1., 1., 1., 1., 1., 1., 1., 1., 1., 1., 1., 1., 1., 1., 1., 1.,\n",
       "       1., 1., 1., 1., 1., 1., 1., 1., 1., 1., 1., 1., 1., 1., 1., 1., 1.,\n",
       "       1., 1., 1., 1., 1., 1., 1., 1., 1., 1., 1., 1., 1., 1., 1., 1., 1.,\n",
       "       1., 1., 1., 1., 1., 1., 1., 1., 1., 1., 1., 1., 1., 1., 1., 1., 1.,\n",
       "       1., 1., 1., 1., 1., 1., 1., 1., 1., 1., 1., 1., 1., 1., 1., 1., 1.,\n",
       "       1., 1., 1., 1., 1., 1., 1., 1., 1., 1., 1., 1., 1., 1., 1., 1., 1.,\n",
       "       1., 1., 1., 1., 1., 1., 1., 1., 1., 1., 1., 1., 1., 1., 1., 1., 1.,\n",
       "       1., 1., 1., 1., 1., 1., 1., 1., 1., 1., 1., 1., 1., 1., 1., 1., 1.,\n",
       "       1., 1., 1., 1., 1., 1., 1., 1., 1., 1., 1., 1., 1., 1., 1., 1., 1.,\n",
       "       1., 1., 1., 1., 1., 1., 1., 1., 1., 1., 1., 1., 1., 1., 1., 1., 1.,\n",
       "       1., 1., 1., 1., 1., 1., 1., 1., 1., 1., 1., 1., 1., 1., 1., 1., 1.,\n",
       "       1., 1., 1., 1., 1., 1., 1., 1., 1., 1., 1., 1., 1., 1., 1., 1., 1.,\n",
       "       1., 1., 1., 1., 1., 1., 1., 1., 1.])"
      ]
     },
     "execution_count": 13,
     "metadata": {},
     "output_type": "execute_result"
    }
   ],
   "source": [
    "int_vec"
   ]
  },
  {
   "cell_type": "code",
   "execution_count": 14,
   "metadata": {},
   "outputs": [
    {
     "data": {
      "text/plain": [
       "1.49848"
      ]
     },
     "execution_count": 14,
     "metadata": {},
     "output_type": "execute_result"
    }
   ],
   "source": [
    "curve = run_seir(days=400, int_vec=int_vec)\n",
    "np.sum(curve)"
   ]
  },
  {
   "cell_type": "code",
   "execution_count": 15,
   "metadata": {},
   "outputs": [
    {
     "data": {
      "text/plain": [
       "1.4999090000000002"
      ]
     },
     "execution_count": 15,
     "metadata": {},
     "output_type": "execute_result"
    }
   ],
   "source": [
    "curve_base = run_seir(days = 400, int_vec=np.ones(400))\n",
    "np.sum(curve_base)"
   ]
  },
  {
   "cell_type": "markdown",
   "metadata": {},
   "source": [
    "## Gradient Based Methods"
   ]
  },
  {
   "cell_type": "code",
   "execution_count": 2,
   "metadata": {},
   "outputs": [],
   "source": [
    "import sys\n",
    "sys.path.append('../..')\n",
    "from models.optim.sir_cont import SEIR as SEIR_CONT\n",
    "# np.array([start days]), np.array([duration]), np.array([choice], number_of_days_simulated)\n",
    "def run_seir(days, int_vec):\n",
    "    R0 = 2.2 \n",
    "    T_inf = 2.9\n",
    "    T_trans = T_inf/R0\n",
    "    T_treat = 15\n",
    "\n",
    "    N = 1e5\n",
    "    I0 = 3.0\n",
    "    \n",
    "    params = [T_trans, T_treat, N, int_vec]\n",
    "\n",
    "    # S, E, I, R_mild, R_severe, R_severe_home, R_fatal, C, D\n",
    "    state_init_values = [(N - I0)/N, I0/N, 0]\n",
    "    \n",
    "    solver = SEIR_CONT(params, state_init_values)\n",
    "    sol = solver.solve_ode(time_step=1, total_no_of_days=days)\n",
    "    states_int_array = (sol.y*N).astype('int')\n",
    "    \n",
    "    derivatives = np.ones((days,3))\n",
    "    for t in range(days):\n",
    "        derivatives[t] = solver.get_derivative(t=t, y=states_int_array[:,t])\n",
    "    \n",
    "    S_coeficeint=0\n",
    "    I_coeficeint=1\n",
    "    R_coeficeint=0\n",
    "    \n",
    "    coeficeint=np.array([S_coeficeint,I_coeficeint,R_coeficeint])\n",
    "    \n",
    "    grad1 = np.ones(days)\n",
    "    grad2 = np.ones(days)\n",
    "\n",
    "    for i in range(days):\n",
    "        grad2[i] = np.dot(coeficeint,derivatives[i])\n",
    "        grad1[i] = np.dot(coeficeint,states_int_array[:,i])\n",
    "    return(grad1)"
   ]
  },
  {
   "cell_type": "markdown",
   "metadata": {},
   "source": [
    "### Getting gradients wrt int_vec"
   ]
  },
  {
   "cell_type": "code",
   "execution_count": 3,
   "metadata": {},
   "outputs": [],
   "source": [
    "def get_grad(int_vec):\n",
    "    days = len(int_vec)\n",
    "    num_pts = 20  # number of points used for derievative.\n",
    "    grad_vec = np.ones(days)\n",
    "    for i in range(days):\n",
    "    #     i represents the ith dimension of T_transi\n",
    "        val = int_vec[i]\n",
    "        window_size = 0.005\n",
    "        values = np.random.uniform(val-window_size, val+window_size, num_pts)\n",
    "        f_values = np.ones_like(values)\n",
    "        for j,value in enumerate(values):\n",
    "            int_vec[i] = value\n",
    "            f_values[j] = np.sum(run_seir(days, int_vec))\n",
    "        values = np.append(values,val)\n",
    "        int_vec[i] = val\n",
    "        fval = np.sum(run_seir(days, int_vec))\n",
    "        f_values = np.append(f_values,fval)\n",
    "        derivative = np.gradient(f_values, values, edge_order=2)\n",
    "        grad_vec[i] = derivative[-1]\n",
    "    return(grad_vec)"
   ]
  },
  {
   "cell_type": "markdown",
   "metadata": {},
   "source": [
    "### Formulating optimization problem"
   ]
  },
  {
   "cell_type": "code",
   "execution_count": 4,
   "metadata": {},
   "outputs": [],
   "source": [
    "from pulp import *\n",
    "def opt_step(grad):\n",
    "    prob = LpProblem(\"Minimization over constrained space\",LpMinimize)\n",
    "\n",
    "    day_list = list((np.arange(400)).astype(str))\n",
    "\n",
    "    int_days = LpVariable.dicts(\"day\",day_list,lowBound=1,upBound=3,cat='Continuous')\n",
    "\n",
    "#     grad = get_grad(np.ones(400))\n",
    "\n",
    "    prob += lpSum([grad[int(i)]*int_days[i] for i in day_list]) #objective function\n",
    "    prob += lpSum([int_days[f] for f in day_list]) <= 430.0 #TotalResource\n",
    "    prob.solve()\n",
    "    opt_val = np.ones(400)\n",
    "    for v in prob.variables():\n",
    "        idx = v.name.split('_')[-1]\n",
    "        opt_val[int(idx)] = v.varValue\n",
    "        \n",
    "    return(opt_val)"
   ]
  },
  {
   "cell_type": "markdown",
   "metadata": {},
   "source": [
    "### Adding constraints"
   ]
  },
  {
   "cell_type": "code",
   "execution_count": 5,
   "metadata": {},
   "outputs": [],
   "source": [
    "def l2_diff(int_days, day_list):\n",
    "    ret_val = []\n",
    "    for day in day_list:\n",
    "        if(day!='399'):\n",
    "            val = int_days[str(int(day)+1)] - int_days[day]\n",
    "            ret_val.append(val)\n",
    "    return(ret_val)"
   ]
  },
  {
   "cell_type": "code",
   "execution_count": 6,
   "metadata": {},
   "outputs": [],
   "source": [
    "# prob += lpSum([int_days[f] for f in day_list]) <= 430.0 #\"TotalResource\"\n",
    "# diff_arr = l2_diff(int_days,day_list)\n",
    "# prob += lpSum(diff_arr) <= 5 #\"NumInterventions\""
   ]
  },
  {
   "cell_type": "markdown",
   "metadata": {},
   "source": [
    "### Frank-Wolfe algo"
   ]
  },
  {
   "cell_type": "code",
   "execution_count": null,
   "metadata": {},
   "outputs": [],
   "source": [
    "num_iter = 5\n",
    "int_vec = np.ones(400)\n",
    "for i in range(num_iter):\n",
    "    gradient = get_grad(int_vec)\n",
    "    opt = opt_step(gradient)\n",
    "    gamma = 2.0/(3+i)\n",
    "    int_vec = int_vec + gamma*(opt-int_vec)\n",
    "    print(int_vec)"
   ]
  },
  {
   "cell_type": "code",
   "execution_count": 10,
   "metadata": {},
   "outputs": [
    {
     "data": {
      "text/plain": [
       "1499552.0"
      ]
     },
     "execution_count": 10,
     "metadata": {},
     "output_type": "execute_result"
    }
   ],
   "source": [
    "np.sum(run_seir(int_vec=int_vec,days=400))"
   ]
  },
  {
   "cell_type": "code",
   "execution_count": 11,
   "metadata": {},
   "outputs": [
    {
     "data": {
      "text/plain": [
       "1499909.0"
      ]
     },
     "execution_count": 11,
     "metadata": {},
     "output_type": "execute_result"
    }
   ],
   "source": [
    "np.sum(run_seir(int_vec=np.ones(400),days=400))"
   ]
  },
  {
   "cell_type": "code",
   "execution_count": null,
   "metadata": {},
   "outputs": [],
   "source": []
  }
 ],
 "metadata": {
  "kernelspec": {
   "display_name": "env_covid",
   "language": "python",
   "name": "env_covid"
  },
  "language_info": {
   "codemirror_mode": {
    "name": "ipython",
    "version": 3
   },
   "file_extension": ".py",
   "mimetype": "text/x-python",
   "name": "python",
   "nbconvert_exporter": "python",
   "pygments_lexer": "ipython3",
   "version": "3.7.3"
  }
 },
 "nbformat": 4,
 "nbformat_minor": 4
}
