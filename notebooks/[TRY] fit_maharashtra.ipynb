{
 "cells": [
  {
   "cell_type": "code",
   "execution_count": 1,
   "metadata": {},
   "outputs": [],
   "source": [
    "%load_ext autoreload\n",
    "%autoreload 2"
   ]
  },
  {
   "cell_type": "code",
   "execution_count": 136,
   "metadata": {},
   "outputs": [],
   "source": [
    "import pandas as pd\n",
    "import numpy as np\n",
    "import matplotlib.pyplot as plt\n",
    "import matplotlib.dates as mdates\n",
    "import requests\n",
    "import json\n",
    "import datetime\n",
    "from collections import OrderedDict\n",
    "\n",
    "from models.seir.seir_testing import SEIR_Testing\n",
    "from utils.data import get_global_data, get_indian_data\n",
    "from utils.plotting import create_plots\n",
    "from utils.generic import init_params"
   ]
  },
  {
   "cell_type": "code",
   "execution_count": 129,
   "metadata": {},
   "outputs": [],
   "source": [
    "df_tested, df_statewise, df_state_time_series, df_india_time_series, df_districtwise, df_raw_data, df_travel_history = get_indian_data()"
   ]
  },
  {
   "cell_type": "code",
   "execution_count": 135,
   "metadata": {},
   "outputs": [
    {
     "ename": "ValueError",
     "evalue": "could not broadcast input array from shape (11,401) into shape (11)",
     "output_type": "error",
     "traceback": [
      "\u001b[0;31m---------------------------------------------------------------------------\u001b[0m",
      "\u001b[0;31mValueError\u001b[0m                                Traceback (most recent call last)",
      "\u001b[0;32m<ipython-input-135-ef96d7767fa2>\u001b[0m in \u001b[0;36m<module>\u001b[0;34m\u001b[0m\n\u001b[1;32m     29\u001b[0m \u001b[0;34m\u001b[0m\u001b[0m\n\u001b[1;32m     30\u001b[0m \u001b[0;31m# last_time = 28\u001b[0m\u001b[0;34m\u001b[0m\u001b[0;34m\u001b[0m\u001b[0;34m\u001b[0m\u001b[0m\n\u001b[0;32m---> 31\u001b[0;31m \u001b[0mcreate_plots\u001b[0m\u001b[0;34m(\u001b[0m\u001b[0msol\u001b[0m\u001b[0;34m,\u001b[0m \u001b[0mnp\u001b[0m\u001b[0;34m.\u001b[0m\u001b[0marray\u001b[0m\u001b[0;34m(\u001b[0m\u001b[0mstates_time_matrices\u001b[0m\u001b[0;34m)\u001b[0m\u001b[0;34m,\u001b[0m \u001b[0mlabels\u001b[0m \u001b[0;34m=\u001b[0m \u001b[0;34m[\u001b[0m\u001b[0;34m'Radau'\u001b[0m\u001b[0;34m]\u001b[0m\u001b[0;34m,\u001b[0m \u001b[0msavefig\u001b[0m\u001b[0;34m=\u001b[0m\u001b[0;32mFalse\u001b[0m\u001b[0;34m,\u001b[0m \u001b[0mfilenames\u001b[0m\u001b[0;34m=\u001b[0m\u001b[0;32mNone\u001b[0m\u001b[0;34m)\u001b[0m\u001b[0;34m\u001b[0m\u001b[0;34m\u001b[0m\u001b[0m\n\u001b[0m\u001b[1;32m     32\u001b[0m \u001b[0;34m\u001b[0m\u001b[0m\n\u001b[1;32m     33\u001b[0m \u001b[0;31m# ind = sol.t[:last_time]\u001b[0m\u001b[0;34m\u001b[0m\u001b[0;34m\u001b[0m\u001b[0;34m\u001b[0m\u001b[0m\n",
      "\u001b[0;31mValueError\u001b[0m: could not broadcast input array from shape (11,401) into shape (11)"
     ]
    }
   ],
   "source": [
    "# Imperfecting Testing (How do the curves vary with decreasing sensitivity)\n",
    "\n",
    "states_time_matrices = []\n",
    "\n",
    "vanilla_params, testing_params, state_init_values = init_params(N=1e9, init_infected=1)\n",
    "solver = SEIR_Testing(vanilla_params, testing_params, state_init_values)\n",
    "sol = solver.solve_ode(method='RK23')\n",
    "states_time_matrices.append( (sol.y*vanilla_params['N']).astype('int') )\n",
    "\n",
    "vanilla_params, testing_params, state_init_values = init_params(N=1e9, init_infected=1)\n",
    "solver = SEIR_Testing(vanilla_params, testing_params, state_init_values)\n",
    "sol = solver.solve_ode(method='Radau')\n",
    "states_time_matrices.append( (sol.y*vanilla_params['N']).astype('int') )\n",
    "\n",
    "vanilla_params, testing_params, state_init_values = init_params(N=1e9, init_infected=1)\n",
    "solver = SEIR_Testing(vanilla_params, testing_params, state_init_values)\n",
    "sol = solver.solve_ode(method='LSODA')\n",
    "states_time_matrices.append( (sol.y*vanilla_params['N']).astype('int') )\n",
    "\n",
    "vanilla_params, testing_params, state_init_values = init_params(N=1e9, init_infected=1)\n",
    "solver = SEIR_Testing(vanilla_params, testing_params, state_init_values)\n",
    "sol = solver.solve_ode(method='BDF')\n",
    "states_time_matrices.append( (sol.y*vanilla_params['N']).astype('int') )\n",
    "\n",
    "vanilla_params, testing_params, state_init_values = init_params(R0=2.42, T_inc=1.38, T_inf=3, N=1.12374333e8, init_infected=2)\n",
    "solver = SEIR_Testing(vanilla_params, testing_params, state_init_values)\n",
    "sol = solver.solve_ode(time_step=1, method='Radau')\n",
    "states_time_matrices.append( (sol.y*vanilla_params['N']).astype('int') )\n",
    "\n",
    "# last_time = 28\n",
    "create_plots(sol, np.array(states_time_matrices), labels = ['Radau'], savefig=False, filenames=None)\n",
    "\n",
    "# ind = sol.t[:last_time]\n",
    "# states_time_matrix = np.array(states_time_matrices)[0, :, :last_time]\n",
    "# fig, ax = plt.subplots(figsize=(12, 12))\n",
    "# ax.plot(np.array(df_state_time_series[df_state_time_series['state'] == 'Maharashtra']['date']), \n",
    "#         states_time_matrix[2] + states_time_matrix[4] + states_time_matrix[5] + \n",
    "#         states_time_matrix[6] + states_time_matrix[7] + states_time_matrix[8] + \n",
    "#         states_time_matrix[9] + states_time_matrix[10], label='Predicted')\n",
    "# ax.plot(np.array(df_state_time_series[df_state_time_series['state'] == 'Maharashtra']['date']), \n",
    "#         df_state_time_series[df_state_time_series['state'] == 'Maharashtra']['confirmedCases'], label='True')\n",
    "# ax.yaxis.set_minor_locator(plt.MultipleLocator(25))\n",
    "# ax.xaxis.set_major_locator(mdates.DayLocator(interval=7))\n",
    "# ax.xaxis.set_minor_locator(mdates.DayLocator(interval=1))\n",
    "# ax.xaxis.set_major_formatter(mdates.DateFormatter('%Y-%m-%d'))\n",
    "# plt.gcf().autofmt_xdate()\n",
    "# plt.ylabel('No of people')\n",
    "# plt.xlabel('Date')\n",
    "# plt.legend()\n",
    "# plt.grid()\n",
    "# plt.title(\"Total No of infections (Active + Recovered + Dead) (Maharashtra) : T_inc = 1.38 days\")\n",
    "# plt.show()"
   ]
  },
  {
   "cell_type": "code",
   "execution_count": null,
   "metadata": {},
   "outputs": [],
   "source": [
    "states_time_matrices = []\n",
    "vanilla_params, testing_params, state_init_values = init_params(R0=2.38, T_inf=1, N=1.6787941e7, init_infected=2)\n",
    "solver = SEIR_Testing(vanilla_params, testing_params, state_init_values)\n",
    "sol = solver.solve_ode(time_step=1, method='Radau')\n",
    "states_time_matrices.append( (sol.y*vanilla_params['N']).astype('int') )\n",
    "\n",
    "last_time = 27\n",
    "# create_plots(sol, np.array(states_time_matrices)[:, :, :last_time], labels = ['Radau'], last_time=last_time, savefig=False, filenames=None)\n",
    "\n",
    "ind = sol.t[:last_time]\n",
    "states_time_matrix = np.array(states_time_matrices)[0, :, :last_time]\n",
    "fig, ax = plt.subplots(figsize=(12, 12))\n",
    "ax.plot(df[df['loc'] == 'Delhi']['date'], states_time_matrix[2] + states_time_matrix[4] + states_time_matrix[5] + \n",
    "         states_time_matrix[6] + states_time_matrix[7] + states_time_matrix[8] + \n",
    "         states_time_matrix[9] + states_time_matrix[10], label='Predicted')\n",
    "ax.plot(df[df['loc'] == 'Delhi']['date'], df[df['loc'] == 'Delhi']['confirmedCases'], label='True')\n",
    "ax.xaxis.set_major_locator(mdates.DayLocator(interval=7))\n",
    "# ax.xaxis.set_minor_locator(mdates.DayLocator(interval=1))\n",
    "ax.xaxis.set_major_formatter(mdates.DateFormatter('%Y-%m-%d'))\n",
    "plt.ylabel('No of people')\n",
    "plt.xlabel('Days')\n",
    "plt.legend()\n",
    "plt.title(\"Total No of infections (Active + Recovered + Dead) (Delhi)\")\n",
    "plt.show()\n"
   ]
  },
  {
   "cell_type": "code",
   "execution_count": null,
   "metadata": {},
   "outputs": [],
   "source": []
  }
 ],
 "metadata": {
  "kernelspec": {
   "display_name": "Python (covid)",
   "language": "python",
   "name": "covid"
  },
  "language_info": {
   "codemirror_mode": {
    "name": "ipython",
    "version": 3
   },
   "file_extension": ".py",
   "mimetype": "text/x-python",
   "name": "python",
   "nbconvert_exporter": "python",
   "pygments_lexer": "ipython3",
   "version": "3.8.2"
  }
 },
 "nbformat": 4,
 "nbformat_minor": 4
}
