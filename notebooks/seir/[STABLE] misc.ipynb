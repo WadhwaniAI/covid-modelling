{
 "cells": [
  {
   "cell_type": "code",
   "execution_count": null,
   "metadata": {},
   "outputs": [],
   "source": [
    "%load_ext autoreload\n",
    "%autoreload 2"
   ]
  },
  {
   "cell_type": "code",
   "execution_count": null,
   "metadata": {},
   "outputs": [],
   "source": [
    "import numpy as np\n",
    "import pandas as pd\n",
    "import matplotlib.pyplot as plt\n",
    "import matplotlib.dates as mdates\n",
    "import seaborn as sns\n",
    "from hyperopt import hp, tpe, fmin, Trials\n",
    "from tqdm import tqdm\n",
    "# from tqdm.notebook import tqdm\n",
    "\n",
    "from collections import OrderedDict, defaultdict\n",
    "import itertools\n",
    "from functools import partial\n",
    "import datetime\n",
    "from joblib import Parallel, delayed\n",
    "import copy\n",
    "import json\n",
    "\n",
    "from data.dataloader import Covid19IndiaLoader\n",
    "from data.processing import get_data, get_district_time_series\n",
    "\n",
    "from models.seir.seir_testing import SEIR_Testing\n",
    "from main.seir.optimiser import Optimiser\n",
    "from utils.loss import Loss_Calculator\n",
    "from main.seir.fitting import single_fitting_cycle, get_variable_param_ranges\n",
    "from main.seir.forecast import get_forecast, create_region_csv, create_all_csvs, write_csv, plot_forecast"
   ]
  },
  {
   "cell_type": "markdown",
   "metadata": {},
   "source": [
    "## Load Covid19india Data"
   ]
  },
  {
   "cell_type": "code",
   "execution_count": null,
   "metadata": {},
   "outputs": [],
   "source": [
    "loader = Covid19IndiaLoader()\n",
    "dataframes = loader.get_covid19india_api_data()"
   ]
  },
  {
   "cell_type": "code",
   "execution_count": null,
   "metadata": {},
   "outputs": [],
   "source": [
    "predictions_dict = {}"
   ]
  },
  {
   "cell_type": "code",
   "execution_count": null,
   "metadata": {},
   "outputs": [],
   "source": [
    "df_mumbai = pd.read_csv('../../outputs/mumbai-20200516-123414.csv')\n",
    "df_mumbai['predictionDate'] = pd.to_datetime(df_mumbai['predictionDate'])"
   ]
  },
  {
   "cell_type": "code",
   "execution_count": null,
   "metadata": {},
   "outputs": [],
   "source": [
    "df_mumbais = []"
   ]
  },
  {
   "cell_type": "code",
   "execution_count": null,
   "metadata": {},
   "outputs": [],
   "source": [
    "split_indices = [None] + list(df_mumbai[df_mumbai['predictionDate'] == '2020-06-22'].index) + [None]\n",
    "for i in range(len(split_indices) - 1):\n",
    "    if split_indices[i] != None and split_indices[i+1] != None:\n",
    "        df_mumbais.append(df_mumbai.loc[split_indices[i]+1:split_indices[i+1], :].reset_index(drop=True))\n",
    "    else:\n",
    "        df_mumbais.append(df_mumbai.loc[split_indices[i]:split_indices[i+1], :].reset_index(drop=True))"
   ]
  },
  {
   "cell_type": "code",
   "execution_count": null,
   "metadata": {},
   "outputs": [],
   "source": [
    "df_true = predictions_dict[('Maharashtra', 'Mumbai')]['m1']['df_district']"
   ]
  },
  {
   "cell_type": "code",
   "execution_count": null,
   "metadata": {},
   "outputs": [],
   "source": [
    "R0s_array = [0.97, 0.88, 1.37, 0.72, 1.03]\n",
    "loss_array = [11.91, 12.29, 12.37, 12.39, 12.67]\n",
    "which_compartments = ['total_infected']\n",
    "fig, ax = plt.subplots(figsize=(12, 12))\n",
    "\n",
    "if 'total_infected' in which_compartments:\n",
    "    ax.plot(df_true.loc[df_true['date'] <= '2020-05-13', 'date'], df_true.loc[df_true['date'] <= '2020-05-13', 'total_infected'],\n",
    "            '-o', color='C0', label='Confirmed Cases (Observed)')\n",
    "if 'hospitalised' in which_compartments:\n",
    "    ax.plot(df_true['date'], df_true['hospitalised'],\n",
    "            '-o', color='orange', label='Active Cases (Observed)')\n",
    "\n",
    "for i, df in enumerate(df_mumbais[0:5]):\n",
    "    df = df[np.logical_not(df['total_mean'].isna())]\n",
    "    if 'total_infected' in which_compartments:\n",
    "        ax.plot(df['predictionDate'], df['total_mean'],\n",
    "                '-', label='Confirmed Cases (M2 Forecast, R0 : {}, Loss : {})'.format(R0s_array[i], loss_array[i]))\n",
    "    if 'hospitalised' in which_compartments:\n",
    "        sns.lineplot(x=\"predictionDate\", y=\"hospitalized_mean\", data=df,\n",
    "                     ls='-', label='Active Cases (M2 Forecast, R0 : {}, Loss : {}))'.format(R0s_array[i], loss_array[i]))\n",
    "    if 'recovered' in which_compartments:\n",
    "        ax.plot(df_true['date'], df_true['recovered'],\n",
    "                '-o', color='green', label='Recovered Cases (Observed)')\n",
    "        sns.lineplot(x=\"predictionDate\", y=\"recovered_mean\", data=df,\n",
    "                     ls='-', color='green', label='Recovered Cases (M2 Forecast, R0 : {}, Loss : {}))'.format(R0s_array[i], loss_array[i]))\n",
    "    if 'deceased' in which_compartments:\n",
    "        ax.plot(df_true['date'], df_true['deceased'],\n",
    "                '-o', color='red', label='Deceased Cases (Observed)')\n",
    "        sns.lineplot(x=\"predictionDate\", y=\"deceased_mean\", data=df,\n",
    "                     ls='-', color='red', label='Deceased Cases (M2 Forecast, R0 : {}, Loss : {}))'.format(R0s_array[i], loss_array[i]))\n",
    "ax.plot([datetime.datetime.strptime('2020-05-13', '%Y-%m-%d'), datetime.datetime.strptime('2020-05-13', '%Y-%m-%d')],\n",
    "        [min(df_true['hospitalised']), max(df_true['hospitalised'])], '--', color='black', label='Last Day of Fitting')\n",
    "ax.xaxis.set_major_locator(mdates.DayLocator(interval=7))\n",
    "ax.xaxis.set_minor_locator(mdates.DayLocator(interval=1))\n",
    "ax.xaxis.set_major_formatter(mdates.DateFormatter('%Y-%m-%d'))\n",
    "plt.ylabel('No of People', fontsize=16)\n",
    "plt.xlabel('Time', fontsize=16)\n",
    "plt.xticks(rotation=45, horizontalalignment='right')\n",
    "plt.legend()\n",
    "plt.title('Forecast - (Maharashtra Mumbai)', fontsize=16)\n",
    "plt.grid()"
   ]
  },
  {
   "cell_type": "code",
   "execution_count": null,
   "metadata": {},
   "outputs": [],
   "source": [
    "for i in range(len(df_mumbais)):\n",
    "    print(i, df_mumbais[i].loc[df_mumbais[i]['predictionDate'] == '2020-05-31', 'total_mean'])"
   ]
  },
  {
   "cell_type": "code",
   "execution_count": null,
   "metadata": {},
   "outputs": [],
   "source": [
    "indexes = [1, 5, 6, 7, 9, 10]\n",
    "for index in sorted(indexes, reverse=True):\n",
    "    del df_mumbais[index]"
   ]
  },
  {
   "cell_type": "markdown",
   "metadata": {},
   "source": [
    "## Create and Save Output CSV"
   ]
  },
  {
   "cell_type": "code",
   "execution_count": null,
   "metadata": {},
   "outputs": [],
   "source": [
    "df_output = create_all_csvs(predictions_dict, initialisation='intermediate', train_period=7, icu_fraction=0.02)"
   ]
  },
  {
   "cell_type": "code",
   "execution_count": null,
   "metadata": {},
   "outputs": [],
   "source": [
    "write_csv(df_output, '../../output-{}.csv'.format(datetime.datetime.now().strftime(\"%Y%m%d-%H%M%S\")))"
   ]
  },
  {
   "cell_type": "code",
   "execution_count": null,
   "metadata": {},
   "outputs": [],
   "source": []
  }
 ],
 "metadata": {
  "kernelspec": {
   "display_name": "Python (covid)",
   "language": "python",
   "name": "covid"
  },
  "language_info": {
   "codemirror_mode": {
    "name": "ipython",
    "version": 3
   },
   "file_extension": ".py",
   "mimetype": "text/x-python",
   "name": "python",
   "nbconvert_exporter": "python",
   "pygments_lexer": "ipython3"
  }
 },
 "nbformat": 4,
 "nbformat_minor": 4
}
