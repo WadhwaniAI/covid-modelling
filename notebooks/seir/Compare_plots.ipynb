{
 "cells": [
  {
   "cell_type": "code",
   "execution_count": null,
   "metadata": {},
   "outputs": [],
   "source": [
    "%load_ext autoreload\n",
    "%autoreload 2"
   ]
  },
  {
   "cell_type": "code",
   "execution_count": null,
   "metadata": {},
   "outputs": [],
   "source": [
    "import numpy as np\n",
    "import matplotlib.pyplot as plt\n",
    "import datetime\n",
    "import copy\n",
    "import time\n",
    "import os\n",
    "import sys\n",
    "sys.path.append('../../')\n",
    "\n",
    "from data.processing import get_data\n",
    "\n",
    "import models\n",
    "\n",
    "from main.seir.fitting import single_fitting_cycle\n",
    "from main.seir.forecast import get_forecast, forecast_all_trials, create_all_trials_csv, create_decile_csv_new\n",
    "from utils.generic.create_report import save_dict_and_create_report\n",
    "from utils.generic.config import read_config\n",
    "from utils.generic.enums import Columns\n",
    "from utils.fitting.loss import Loss_Calculator\n",
    "#from utils.generic.logging import log_wandb\n",
    "from viz import plot_forecast, plot_top_k_trials, plot_ptiles, plot_ptiles_comp\n",
    "from viz.fit import plot_all_losses\n",
    "\n",
    "import yaml"
   ]
  },
  {
   "cell_type": "code",
   "execution_count": null,
   "metadata": {},
   "outputs": [],
   "source": [
    "from os.path import exists, join, splitext"
   ]
  },
  {
   "cell_type": "code",
   "execution_count": null,
   "metadata": {},
   "outputs": [],
   "source": [
    "import pickle as pkl\n",
    "with open('../../misc/predictions/test_mumbai_logdiff.pickle', 'rb') as handle:\n",
    "    PD = pkl.load(handle)"
   ]
  },
  {
   "cell_type": "code",
   "execution_count": null,
   "metadata": {},
   "outputs": [],
   "source": [
    "loss_type = 'ensemble'\n",
    "# Can be 'test','train','ensemble'\n",
    "import pandas as pd"
   ]
  },
  {
   "cell_type": "code",
   "execution_count": null,
   "metadata": {},
   "outputs": [],
   "source": [
    "which_compartments = ['total', 'active', 'recovered', 'deceased','agg']\n",
    "df_compiled = {\"MCMC\":[],\"BO\":[]}\n",
    "for run,run_dict in PD.items():\n",
    "    for model,model_dict in run_dict.items():\n",
    "        if loss_type in ['train','test']:\n",
    "            df = model_dict['m1']['df_loss'][loss_type]\n",
    "            df['agg'] = df.mean()\n",
    "            df_compiled[model].append(df)\n",
    "        else:\n",
    "            df = model_dict['ensemble_mean_forecast']['df_loss']\n",
    "            df['agg'] = np.mean(list(df.values()))\n",
    "            df2 = {comp:df[comp] for comp in which_compartments}\n",
    "            df_compiled[model].append(df2)\n",
    "stats = {}\n",
    "\n",
    "stats['MCMC'] = (pd.DataFrame(df_compiled['MCMC']).describe()).loc[['mean','std']]\n",
    "stats['BO'] = (pd.DataFrame(df_compiled['BO']).describe()).loc[['mean','std']]"
   ]
  },
  {
   "cell_type": "code",
   "execution_count": null,
   "metadata": {},
   "outputs": [],
   "source": [
    "pd.DataFrame(df_compiled['MCMC'])"
   ]
  },
  {
   "cell_type": "code",
   "execution_count": null,
   "metadata": {},
   "outputs": [],
   "source": [
    "stats[\"MCMC\"]"
   ]
  },
  {
   "cell_type": "code",
   "execution_count": null,
   "metadata": {},
   "outputs": [],
   "source": [
    "X = pd.DataFrame(df_compiled[\"MCMC\"]).assign(model = 'MCMC')\n",
    "Y = pd.DataFrame(df_compiled[\"BO\"]).assign(model = 'BO')\n",
    "Z = pd.concat([X,Y])\n",
    "Z.to_csv('ensemble_compiled',index= False)"
   ]
  },
  {
   "cell_type": "code",
   "execution_count": null,
   "metadata": {},
   "outputs": [],
   "source": [
    "import csv\n",
    "import sys\n",
    "mydict = df_compiled                                      \n",
    "writer = None\n",
    "for (model, losses) in mydict.items():\n",
    "    for\t(i, l) in enumerate(losses):\n",
    "        print(l)\n",
    "        row = dict(l)\n",
    "        row.update({\n",
    "        'model': model,\n",
    "        'run': i,\n",
    "        })\n",
    "    if writer is None:\n",
    "        writer = csv.DictWriter(sys.stdout, fieldnames=row)\n",
    "        writer.writeheader()\n",
    "        writer.writerow(row)"
   ]
  },
  {
   "cell_type": "code",
   "execution_count": null,
   "metadata": {},
   "outputs": [],
   "source": [
    "writer"
   ]
  },
  {
   "cell_type": "code",
   "execution_count": null,
   "metadata": {},
   "outputs": [],
   "source": [
    "a=pd.DataFrame(df_compiled)\n",
    "a.to_csv(loss_type)\n",
    "#Chose between MCMC and BO"
   ]
  },
  {
   "cell_type": "code",
   "execution_count": null,
   "metadata": {},
   "outputs": [],
   "source": [
    "stats['MCMC']"
   ]
  },
  {
   "cell_type": "code",
   "execution_count": null,
   "metadata": {},
   "outputs": [],
   "source": [
    "save = True"
   ]
  },
  {
   "cell_type": "code",
   "execution_count": null,
   "metadata": {},
   "outputs": [],
   "source": [
    "from viz.fit import plot_histogram\n"
   ]
  },
  {
   "cell_type": "code",
   "execution_count": null,
   "metadata": {},
   "outputs": [],
   "source": [
    "import matplotlib as mpl\n",
    "mpl.rcParams.update(mpl.rcParamsDefault)"
   ]
  },
  {
   "cell_type": "code",
   "execution_count": null,
   "metadata": {},
   "outputs": [],
   "source": [
    "import matplotlib.pyplot as plt\n",
    "plt.rcParams.update({\n",
    "    'text.usetex': True,\n",
    "    'font.size': 15,\n",
    "    'font.family': 'Palatino',\n",
    "})"
   ]
  },
  {
   "cell_type": "code",
   "execution_count": null,
   "metadata": {},
   "outputs": [],
   "source": [
    "config_filename = 'default.yaml'\n",
    "config = read_config(config_filename)"
   ]
  },
  {
   "cell_type": "code",
   "execution_count": null,
   "metadata": {},
   "outputs": [],
   "source": [
    "import pickle as pkl\n",
    "with open('../../misc/predictions/mcmc_total.pickle', 'rb') as handle:\n",
    "    PD_t = pkl.load(handle)\n",
    "with open('../../misc/predictions/mcmc_active.pickle', 'rb') as handle:\n",
    "    PD_a = pkl.load(handle)\n",
    "with open('../../misc/predictions/mcmc_recovered.pickle', 'rb') as handle:\n",
    "    PD_r = pkl.load(handle)\n",
    "with open('../../misc/predictions/mcmc_deceased.pickle', 'rb') as handle:\n",
    "    PD_d = pkl.load(handle)"
   ]
  },
  {
   "cell_type": "code",
   "execution_count": null,
   "metadata": {},
   "outputs": [],
   "source": [
    "from matplotlib.patches import Patch\n",
    "from matplotlib.lines import Line2D"
   ]
  },
  {
   "cell_type": "code",
   "execution_count": null,
   "metadata": {},
   "outputs": [],
   "source": [
    "legend_elements = [\n",
    "    Line2D([0], [0], ls='-', color='tab:orange', label='ABMA EM'),\n",
    "    Line2D([0], [0], ls='-',color='tab:blue', label='MCMC EM'),\n",
    "    Patch(facecolor='tab:orange', label= 'ABMA 95\\% CI',alpha = 0.2),\n",
    "    Patch(facecolor='tab:blue', label='MCMC 95\\% CI',alpha = 0.2),\n",
    "    Line2D([0], [0], ls='--',color='red', label='Observed',lw = 3.5),\n",
    "]\n",
    "\n"
   ]
  },
  {
   "cell_type": "code",
   "execution_count": null,
   "metadata": {},
   "outputs": [],
   "source": [
    "fig,axs = plt.subplots(figsize=(12,8),nrows=2,ncols=2) \n",
    "plot_ptiles_comp(PD_t, compartment=config['forecast']['plot_ptiles_for_columns'][0],ax=axs.flat[0])\n",
    "axs.flat[0].ticklabel_format(style='sci', axis='y', scilimits=(0, 5))\n",
    "plot_ptiles_comp(PD_a, compartment=config['forecast']['plot_ptiles_for_columns'][1],ax=axs.flat[1])\n",
    "axs.flat[1].set_ylabel('')\n",
    "plot_ptiles_comp(PD_r, compartment=config['forecast']['plot_ptiles_for_columns'][2],ax=axs.flat[2])\n",
    "axs.flat[2].ticklabel_format(style='sci', axis='y', scilimits=(0, 5))\n",
    "axs.flat[2].tick_params(axis='x', labelsize=12)\n",
    "plot_ptiles_comp(PD_d, compartment=config['forecast']['plot_ptiles_for_columns'][3],ax=axs.flat[3])\n",
    "axs.flat[3].tick_params(axis='x', labelsize=12)\n",
    "axs.flat[3].set_ylabel('')\n",
    "axs.flat[3].legend(handles=legend_elements,loc =[0.02,.325] )\n",
    "for ax in axs[0, :]:\n",
    "    ax.xaxis.set_ticklabels([])\n",
    "plt.subplots_adjust(hspace=0.09)\n",
    "fig.savefig('/Users/avtansht/Desktop/Desktop/Wadhwani/Plots_final/CI.pdf',  format='pdf', bbox_inches='tight', pad_inches=0)"
   ]
  },
  {
   "cell_type": "code",
   "execution_count": null,
   "metadata": {},
   "outputs": [],
   "source": [
    "which_compartments = ['total', 'active', 'recovered', 'deceased','agg']"
   ]
  },
  {
   "cell_type": "code",
   "execution_count": null,
   "metadata": {},
   "outputs": [],
   "source": [
    "df_compiled = {\"MCMC\":[],\"BO\":[]}\n",
    "for run,run_dict in PD.items():\n",
    "    for model,model_dict in run_dict.items():\n",
    "        df = model_dict['m1']['df_loss']['train']\n",
    "        df['agg'] = df.mean()\n",
    "        df_compiled[model].append(df)\n",
    "        "
   ]
  },
  {
   "cell_type": "code",
   "execution_count": null,
   "metadata": {},
   "outputs": [],
   "source": [
    "import pandas as pd\n",
    "from viz.fit import comp_bar"
   ]
  },
  {
   "cell_type": "code",
   "execution_count": null,
   "metadata": {},
   "outputs": [],
   "source": [
    "import matplotlib.pyplot as plt\n",
    "plt.rcParams.update({\n",
    "    'text.usetex': True,\n",
    "    'font.size': 13,\n",
    "    'font.family': 'Palatino',\n",
    "})"
   ]
  },
  {
   "cell_type": "code",
   "execution_count": null,
   "metadata": {},
   "outputs": [],
   "source": [
    "fig,ax = plt.subplots(figsize = [6.4, 2.4])\n",
    "comp_bar(PD,'ensemble')\n",
    "plt.show()\n",
    "fig.savefig('/Users/avtansht/Desktop/Desktop/Wadhwani/Plots_final/ensemble_bar2.pdf',  format='pdf', bbox_inches='tight', pad_inches=0)"
   ]
  },
  {
   "cell_type": "code",
   "execution_count": null,
   "metadata": {},
   "outputs": [],
   "source": [
    "fig,axs = plt.subplots(figsize=(24,7),nrows=1,ncols=3)\n",
    "comp_bar(PD,'train',axs.flat[0])\n",
    "comp_bar(PD,'test',axs.flat[1])\n",
    "comp_bar(PD,'ensemble',axs.flat[2])\n",
    "# fig.suptitle('Comparision of Fitting with BO and MCMC', fontsize=16)\n",
    "plt.show()\n",
    "if save:\n",
    "    fig.savefig('/Users/avtansht/Desktop/Desktop/Wadhwani/Plots_final/Bar_plots.pdf',  format='pdf', bbox_inches='tight', pad_inches=0)"
   ]
  },
  {
   "cell_type": "markdown",
   "metadata": {},
   "source": [
    "## Percentile Loss"
   ]
  },
  {
   "cell_type": "code",
   "execution_count": null,
   "metadata": {},
   "outputs": [],
   "source": [
    "df_compiled_perc_loss = {\"MCMC\":[],\"BO\":[]}\n",
    "percentiles = []\n",
    "\n",
    "for run,run_dict in PD.items():\n",
    "    for model,model_dict in run_dict.items():\n",
    "        df = {}\n",
    "        percentiles = list(model_dict['uncertainty_forecasts'].keys())\n",
    "        for perc,perc_dict in model_dict['uncertainty_forecasts'].items():\n",
    "            df[perc] = perc_dict['df_loss_perc']['test']['total']\n",
    "        df_compiled_perc_loss[model].append(df)"
   ]
  },
  {
   "cell_type": "code",
   "execution_count": null,
   "metadata": {},
   "outputs": [],
   "source": [
    "stats_perc_MCMC = pd.DataFrame(df_compiled_perc_loss['MCMC']).describe().loc[['mean','std']]\n",
    "stats_perc_BO = pd.DataFrame(df_compiled_perc_loss['BO']).describe().loc[['mean','std']]"
   ]
  },
  {
   "cell_type": "code",
   "execution_count": null,
   "metadata": {},
   "outputs": [],
   "source": [
    "import matplotlib as mpl\n",
    "barWidth = 0.3\n",
    "\n",
    "fig = plt.figure(figsize=(15,10))\n",
    "# plt.errorbar(list(stats_perc_BO.loc['mean'].keys()),list(stats_perc_BO.loc['mean'].values),color = 'orange',label='BO',yerr =list(stats_perc_BO.loc['std'].values) ,elinewidth =3,capthick =3,barsabove = True)\n",
    "# plt.errorbar(list(stats_perc_MCMC.loc['mean'].keys()),list(stats_perc_MCMC.loc['mean'].values),color = 'blue',label = 'MCMC',yerr = list(stats_perc_MCMC.loc['std'].values),elinewidth =3,capthick =3,barsabove = True)\n",
    "plt.plot(list(stats_perc_BO.loc['mean'].keys()),list(stats_perc_BO.loc['mean'].values),color = 'tab:orange',label='BO',lw =3)\n",
    "plt.plot(list(stats_perc_BO.loc['mean'].keys()),list(stats_perc_MCMC.loc['mean'].values),color = 'tab:blue',label='MCMC',lw =3)\n",
    "\n",
    "plt.fill_between(list(stats_perc_BO.loc['mean'].keys()),np.array(stats_perc_BO.loc['mean'].values)+np.array(stats_perc_BO.loc['std'].values) ,np.array(stats_perc_BO.loc['mean'].values)-np.array(stats_perc_BO.loc['std'].values),alpha =0.3,color = 'tab:orange',label = 'BO std')\n",
    "plt.fill_between(list(stats_perc_MCMC.loc['mean'].keys()),np.array(stats_perc_MCMC.loc['mean'].values)+np.array(stats_perc_MCMC.loc['std'].values) ,np.array(stats_perc_MCMC.loc['mean'].values)-np.array(stats_perc_MCMC.loc['std'].values),alpha =0.3,color = 'tab:blue',label = 'MCMC std')              \n",
    "\n",
    "# general layout\n",
    "plt.ylabel('Perc Loss on Total Compartment')\n",
    "plt.xlabel('Percentiles')\n",
    "# plt.title('Day Wise Percentile Loss Values on Test for 1 November - 21 November')\n",
    "plt.legend()\n",
    "plt.show()\n",
    "if save:\n",
    "    fig.savefig('/Users/avtansht/Desktop/Desktop/Wadhwani/Plots_final/perc_loss_mcmc.pdf',  format='pdf', bbox_inches='tight', pad_inches=0)\n"
   ]
  },
  {
   "cell_type": "code",
   "execution_count": null,
   "metadata": {},
   "outputs": [],
   "source": [
    "from viz.fit import plot_comp_density_plots,plot_histogram"
   ]
  },
  {
   "cell_type": "code",
   "execution_count": null,
   "metadata": {},
   "outputs": [],
   "source": [
    "import matplotlib.pyplot as plt\n",
    "plt.rcParams.update({\n",
    "    'text.usetex': True,\n",
    "    'font.size': 20,\n",
    "    'font.family': 'Palatino',\n",
    "})"
   ]
  },
  {
   "cell_type": "code",
   "execution_count": null,
   "metadata": {},
   "outputs": [],
   "source": [
    "figs, axs = plt.subplots(3,3,figsize=(16,14))\n",
    "X= {}\n",
    "plot_comp_density_plots(PD,figs,axs)\n",
    "axs.flat[8].set_visible(False)\n",
    "save =False\n",
    "plt.subplots_adjust(hspace=0.3,wspace = 0.25)\n",
    "# figs.savefig('/Users/avtansht/Desktop/Desktop/Wadhwani/Plots_final/hist2.pdf',  format='pdf', bbox_inches='tight', pad_inches=0)"
   ]
  },
  {
   "cell_type": "code",
   "execution_count": null,
   "metadata": {},
   "outputs": [],
   "source": []
  },
  {
   "cell_type": "code",
   "execution_count": null,
   "metadata": {},
   "outputs": [],
   "source": []
  },
  {
   "cell_type": "code",
   "execution_count": null,
   "metadata": {},
   "outputs": [],
   "source": []
  },
  {
   "cell_type": "code",
   "execution_count": null,
   "metadata": {},
   "outputs": [],
   "source": []
  }
 ],
 "metadata": {
  "kernelspec": {
   "display_name": "Python 3",
   "language": "python",
   "name": "python3"
  },
  "language_info": {
   "codemirror_mode": {
    "name": "ipython",
    "version": 3
   },
   "file_extension": ".py",
   "mimetype": "text/x-python",
   "name": "python",
   "nbconvert_exporter": "python",
   "pygments_lexer": "ipython3"
  }
 },
 "nbformat": 4,
 "nbformat_minor": 4
}
