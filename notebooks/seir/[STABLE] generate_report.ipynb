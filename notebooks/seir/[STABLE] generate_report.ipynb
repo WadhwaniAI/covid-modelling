{
 "cells": [
  {
   "cell_type": "code",
   "execution_count": null,
   "metadata": {},
   "outputs": [],
   "source": [
    "%load_ext autoreload\n",
    "%autoreload 2"
   ]
  },
  {
   "cell_type": "markdown",
   "metadata": {},
   "source": [
    "Please keep this notebook functionally at par with scripts/oncall/generate_report.py AND linearly runnable (no code with duplicated functionality; run all from this cell down should produce a report). Modify the parameters in `single_fitting_cycle` and `plot_trials` per customizations"
   ]
  },
  {
   "cell_type": "code",
   "execution_count": null,
   "metadata": {},
   "outputs": [],
   "source": [
    "import numpy as np\n",
    "import pandas as pd\n",
    "\n",
    "import datetime\n",
    "\n",
    "import copy\n",
    "import json\n",
    "import time\n",
    "import os\n",
    "\n",
    "import sys\n",
    "sys.path.append('../../')\n",
    "\n",
    "from data.dataloader import Covid19IndiaLoader\n",
    "from data.processing import get_data\n",
    "from data.processing import get_dataframes_cached\n",
    "\n",
    "from models.seir import SEIRHD\n",
    "\n",
    "from main.seir.fitting import single_fitting_cycle, get_variable_param_ranges\n",
    "from main.seir.sensitivity import calculate_sensitivity_and_plot\n",
    "from main.seir.forecast import get_forecast, forecast_all_trials, trials_to_df, scale_up_testing_and_forecast\n",
    "from main.seir.forecast import create_decile_csv\n",
    "from main.seir.uncertainty import MCUncertainty\n",
    "from utils.generic.create_report import save_dict_and_create_report\n",
    "from utils.enums import Columns\n",
    "from utils.loss import Loss_Calculator\n",
    "from viz import plot_forecast, plot_top_k_trials, plot_ptiles"
   ]
  },
  {
   "cell_type": "markdown",
   "metadata": {},
   "source": [
    "## Params"
   ]
  },
  {
   "cell_type": "code",
   "execution_count": null,
   "metadata": {},
   "outputs": [],
   "source": [
    "output_folder = '../../reports/{}'.format(datetime.datetime.now().strftime(\"%Y_%m%d_%H%M%S\"))\n",
    "\n",
    "model=SEIRHD\n",
    "forecast_days = 45\n",
    "\n",
    "now = datetime.datetime.now().strftime(\"%Y%m%d-%H%M%S\")\n",
    "folder = str(now)\n",
    "\n",
    "num_trials_to_plot = 10\n",
    "plot_topk_trials_for_columns = [Columns.confirmed, Columns.active]\n",
    "plot_ptiles_for_columns = [Columns.confirmed, Columns.active]\n",
    "sort_trials_by_column = Columns.confirmed\n",
    "date_of_sorting_trials = '2020-08-31'"
   ]
  },
  {
   "cell_type": "code",
   "execution_count": null,
   "metadata": {},
   "outputs": [],
   "source": [
    "predictions_dict = {}"
   ]
  },
  {
   "cell_type": "markdown",
   "metadata": {},
   "source": [
    "## Select Districts to fit on"
   ]
  },
  {
   "cell_type": "code",
   "execution_count": null,
   "metadata": {},
   "outputs": [],
   "source": [
    "state, district = ('Maharashtra', 'Mumbai')"
   ]
  },
  {
   "cell_type": "markdown",
   "metadata": {},
   "source": [
    "## Perform M1 and M2 fits"
   ]
  },
  {
   "cell_type": "code",
   "execution_count": null,
   "metadata": {},
   "outputs": [],
   "source": [
    "predictions_dict['m1'] = single_fitting_cycle(\n",
    "    state, district, train_period=21, val_period=7, num_evals=1000,\n",
    "    data_from_tracker=False, model=model, \n",
    "    smooth_jump=True,\n",
    "    which_compartments=['active', 'total', 'deceased', 'recovered'])\n",
    "predictions_dict['m2'] = single_fitting_cycle(\n",
    "    state, district, train_period=21, val_period=0, num_evals=1000,\n",
    "    data_from_tracker=False, model=model, \n",
    "    smooth_jump=True,\n",
    "    which_compartments=['active', 'total', 'deceased', 'recovered'])\n",
    "\n",
    "predictions_dict['state'] = state\n",
    "predictions_dict['dist'] = district\n",
    "predictions_dict['fitting_date'] = datetime.datetime.now().strftime(\"%Y-%m-%d\")\n",
    "predictions_dict['datasource'] = 'covid19api' if predictions_dict['m1']['data_from_tracker'] else 'municipality'\n",
    "predictions_dict['variable_param_ranges'] = predictions_dict['m1']['variable_param_ranges']\n",
    "predictions_dict['data_last_date'] = predictions_dict['m2']['data_last_date']"
   ]
  },
  {
   "cell_type": "markdown",
   "metadata": {},
   "source": [
    "## Fitting Loss"
   ]
  },
  {
   "cell_type": "markdown",
   "metadata": {},
   "source": [
    "### M1 Loss"
   ]
  },
  {
   "cell_type": "code",
   "execution_count": null,
   "metadata": {},
   "outputs": [],
   "source": [
    "predictions_dict['m1']['df_loss']"
   ]
  },
  {
   "cell_type": "markdown",
   "metadata": {},
   "source": [
    "### M2 Loss"
   ]
  },
  {
   "cell_type": "code",
   "execution_count": null,
   "metadata": {},
   "outputs": [],
   "source": [
    "predictions_dict['m2']['df_loss']"
   ]
  },
  {
   "cell_type": "markdown",
   "metadata": {},
   "source": [
    "## Sensitivity Plots"
   ]
  },
  {
   "cell_type": "code",
   "execution_count": null,
   "metadata": {},
   "outputs": [],
   "source": [
    "predictions_dict['m1']['plots']['sensitivity'], _, _ = calculate_sensitivity_and_plot(predictions_dict, which_fit='m1')\n",
    "predictions_dict['m2']['plots']['sensitivity'], _, _ = calculate_sensitivity_and_plot(predictions_dict, which_fit='m2')"
   ]
  },
  {
   "cell_type": "markdown",
   "metadata": {},
   "source": [
    "## Plot Forecasts"
   ]
  },
  {
   "cell_type": "code",
   "execution_count": null,
   "metadata": {},
   "outputs": [],
   "source": [
    "predictions_dict['m2']['forecasts'] = {}\n",
    "predictions_dict['m2']['forecasts']['best'] = get_forecast(predictions_dict, train_fit='m2', model=model, days=forecast_days)\n",
    "predictions_dict['m2']['plots']['forecast_best'] = plot_forecast(predictions_dict, (state, district), error_bars=True)\n",
    "\n",
    "trials_processed = forecast_all_trials(predictions_dict, train_fit='m1', model=model, forecast_days=forecast_days)\n",
    "predictions_dict['m1']['trials_processed'] = trials_processed\n",
    "predictions_dict['m1']['all_trials'] = trials_to_df(trials_processed, column=sort_trials_by_column)\n",
    "trials_processed = forecast_all_trials(predictions_dict, train_fit='m2', model=model, forecast_days=forecast_days)\n",
    "predictions_dict['m2']['trials_processed'] = trials_processed\n",
    "predictions_dict['m2']['all_trials'] = trials_to_df(trials_processed, column=sort_trials_by_column)\n",
    "kforecasts = plot_top_k_trials(\n",
    "    predictions_dict,\n",
    "    train_fit='m2',\n",
    "    trials_processed=predictions_dict['m2']['trials_processed'], \n",
    "    k=num_trials_to_plot,\n",
    "    which_compartments=plot_topk_trials_for_columns)\n",
    "predictions_dict['m2']['plots']['forecasts_topk'] = {}\n",
    "for column in plot_topk_trials_for_columns:\n",
    "    predictions_dict['m2']['plots']['forecasts_topk'][column.name] = kforecasts[column]"
   ]
  },
  {
   "cell_type": "markdown",
   "metadata": {},
   "source": [
    "## Uncertainty"
   ]
  },
  {
   "cell_type": "code",
   "execution_count": null,
   "metadata": {},
   "outputs": [],
   "source": [
    "uncertainty = MCUncertainty(predictions_dict, date_of_sorting_trials)"
   ]
  },
  {
   "cell_type": "code",
   "execution_count": null,
   "metadata": {},
   "outputs": [],
   "source": [
    "uncertainty.beta_loss"
   ]
  },
  {
   "cell_type": "markdown",
   "metadata": {},
   "source": [
    "## Uncertainty Forecasts"
   ]
  },
  {
   "cell_type": "code",
   "execution_count": null,
   "metadata": {},
   "outputs": [],
   "source": [
    "uncertainty_forecasts = uncertainty.get_forecasts()\n",
    "for key in uncertainty_forecasts.keys():\n",
    "    predictions_dict['m2']['forecasts'][key] = uncertainty_forecasts[key]['df_prediction']"
   ]
  },
  {
   "cell_type": "code",
   "execution_count": null,
   "metadata": {},
   "outputs": [],
   "source": [
    "predictions_dict['m2']['beta'] = uncertainty.beta\n",
    "predictions_dict['m2']['beta_loss'] = uncertainty.beta_loss"
   ]
  },
  {
   "cell_type": "code",
   "execution_count": null,
   "metadata": {},
   "outputs": [],
   "source": [
    "predictions_dict['m2']['deciles'] = uncertainty_forecasts"
   ]
  },
  {
   "cell_type": "code",
   "execution_count": null,
   "metadata": {},
   "outputs": [],
   "source": [
    "predictions_dict['m2']['plots']['forecast_best_50'] = plot_forecast(predictions_dict, (state, district), fits_to_plot=['best', 50], error_bars=False)\n",
    "predictions_dict['m2']['plots']['forecast_best_80'] = plot_forecast(predictions_dict, (state, district), fits_to_plot=['best', 80], error_bars=False)"
   ]
  },
  {
   "cell_type": "code",
   "execution_count": null,
   "metadata": {},
   "outputs": [],
   "source": [
    "ptiles_plots = plot_ptiles(predictions_dict, which_compartments=plot_ptiles_for_columns)\n",
    "predictions_dict['m2']['plots']['forecasts_ptiles'] = {}\n",
    "for column in plot_ptiles_for_columns:\n",
    "    predictions_dict['m2']['plots']['forecasts_ptiles'][column.name] = ptiles_plots[column]"
   ]
  },
  {
   "cell_type": "markdown",
   "metadata": {},
   "source": [
    "## Create Report"
   ]
  },
  {
   "cell_type": "code",
   "execution_count": null,
   "metadata": {},
   "outputs": [],
   "source": [
    "save_dict_and_create_report(predictions_dict, ROOT_DIR=output_folder)"
   ]
  },
  {
   "cell_type": "code",
   "execution_count": null,
   "metadata": {},
   "outputs": [],
   "source": [
    "create_decile_csv(predictions_dict, 'Mumbai', 'district')"
   ]
  },
  {
   "cell_type": "code",
   "execution_count": null,
   "metadata": {},
   "outputs": [],
   "source": []
  }
 ],
 "metadata": {
  "kernelspec": {
   "display_name": "Python (covid)",
   "language": "python",
   "name": "covid"
  },
  "language_info": {
   "codemirror_mode": {
    "name": "ipython",
    "version": 2
   },
   "file_extension": ".py",
   "mimetype": "text/x-python",
   "name": "python",
   "nbconvert_exporter": "python",
   "pygments_lexer": "ipython2"
  }
 },
 "nbformat": 4,
 "nbformat_minor": 4
}
