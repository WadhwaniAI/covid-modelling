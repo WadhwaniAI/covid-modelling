{
 "cells": [
  {
   "cell_type": "code",
   "execution_count": null,
   "metadata": {},
   "outputs": [],
   "source": [
    "%load_ext autoreload\n",
    "%autoreload 2"
   ]
  },
  {
   "cell_type": "markdown",
   "metadata": {},
   "source": [
    "Please keep this notebook functionally at par with scripts/oncall/generate_report.py AND linearly runnable (no code with duplicated functionality; run all from this cell down should produce a report). Modify the parameters in `single_fitting_cycle` and `plot_trials` per customizations"
   ]
  },
  {
   "cell_type": "code",
   "execution_count": null,
   "metadata": {},
   "outputs": [],
   "source": [
    "import numpy as np\n",
    "import pandas as pd\n",
    "\n",
    "import datetime\n",
    "import copy\n",
    "import json\n",
    "import time\n",
    "import os\n",
    "\n",
    "import sys\n",
    "sys.path.append('../../')\n",
    "\n",
    "from data.dataloader import Covid19IndiaLoader\n",
    "from data.processing import get_data\n",
    "from data.processing import get_dataframes_cached\n",
    "\n",
    "from models.seir import SEIR_Testing, SEIRHD, SEIR_Movement, SEIR_Movement_Testing\n",
    "\n",
    "from main.seir.fitting import single_fitting_cycle, get_variable_param_ranges\n",
    "from main.seir.forecast import get_forecast, forecast_all_trials, trials_to_df, create_region_csv, write_csv\n",
    "from utils.create_report import create_report\n",
    "from utils.enums import Columns\n",
    "from utils.loss import Loss_Calculator\n",
    "from viz import plot_forecast, plot_top_k_trials"
   ]
  },
  {
   "cell_type": "code",
   "execution_count": null,
   "metadata": {},
   "outputs": [],
   "source": [
    "t = time.time()\n",
    "output_folder = f'../../reports/{t}'"
   ]
  },
  {
   "cell_type": "markdown",
   "metadata": {},
   "source": [
    "## Params"
   ]
  },
  {
   "cell_type": "code",
   "execution_count": null,
   "metadata": {},
   "outputs": [],
   "source": [
    "ktrials = 10\n",
    "forecast_days = 45"
   ]
  },
  {
   "cell_type": "code",
   "execution_count": null,
   "metadata": {},
   "outputs": [],
   "source": [
    "predictions_dict = {}"
   ]
  },
  {
   "cell_type": "markdown",
   "metadata": {},
   "source": [
    "## Select Districts to fit on"
   ]
  },
  {
   "cell_type": "code",
   "execution_count": null,
   "metadata": {},
   "outputs": [],
   "source": [
    "state, district = ('Maharashtra', 'Mumbai')"
   ]
  },
  {
   "cell_type": "markdown",
   "metadata": {},
   "source": [
    "## Perform M1 and M2 fits"
   ]
  },
  {
   "cell_type": "code",
   "execution_count": null,
   "metadata": {},
   "outputs": [],
   "source": [
    "predictions_dict['m1'] = single_fitting_cycle(\n",
    "    state, district, train_period=21, val_period=7, num_evals=1000,\n",
    "    data_from_tracker=False, initialisation='intermediate', model=SEIRHD, \n",
    "    smooth_jump=True,\n",
    "    which_compartments=['hospitalised', 'total_infected', 'deceased', 'recovered'])\n",
    "predictions_dict['m2'] = single_fitting_cycle(\n",
    "    state, district, train_period=21, val_period=0, num_evals=1000,\n",
    "    data_from_tracker=False, initialisation='intermediate', model=SEIRHD, \n",
    "    smooth_jump=True,\n",
    "    which_compartments=['hospitalised', 'total_infected', 'deceased', 'recovered'])\n",
    "\n",
    "predictions_dict['state'] = state\n",
    "predictions_dict['dist'] = district\n",
    "predictions_dict['fitting_date'] = datetime.datetime.now().strftime(\"%Y-%m-%d\")\n",
    "predictions_dict['datasource'] = 'covid19api' if predictions_dict['m1']['data_from_tracker'] else 'municipality'\n",
    "predictions_dict['variable_param_ranges'] = predictions_dict['m1']['variable_param_ranges']\n",
    "predictions_dict['data_last_date'] = predictions_dict['m2']['data_last_date']"
   ]
  },
  {
   "cell_type": "markdown",
   "metadata": {},
   "source": [
    "## Fitting Loss"
   ]
  },
  {
   "cell_type": "markdown",
   "metadata": {},
   "source": [
    "### M1 Loss"
   ]
  },
  {
   "cell_type": "code",
   "execution_count": null,
   "metadata": {},
   "outputs": [],
   "source": [
    "predictions_dict['m1']['df_loss']"
   ]
  },
  {
   "cell_type": "markdown",
   "metadata": {},
   "source": [
    "### M2 Loss"
   ]
  },
  {
   "cell_type": "code",
   "execution_count": null,
   "metadata": {},
   "outputs": [],
   "source": [
    "predictions_dict['m2']['df_loss']"
   ]
  },
  {
   "cell_type": "markdown",
   "metadata": {},
   "source": [
    "## Plot Forecasts"
   ]
  },
  {
   "cell_type": "code",
   "execution_count": null,
   "metadata": {},
   "outputs": [],
   "source": [
    "predictions_dict['m2']['forecast'] = plot_forecast(predictions_dict, (state, district), both_forecasts=False, error_bars=True)\n",
    "\n",
    "trials_processed = forecast_all_trials(predictions_dict, train_fit='m1')\n",
    "predictions_dict['m1']['trials_processed'] = trials_processed\n",
    "predictions_dict['m1']['all_trials'] = trials_to_df(trials_processed)\n",
    "trials_processed = forecast_all_trials(predictions_dict, train_fit='m2')\n",
    "predictions_dict['m2']['trials_processed'] = trials_processed\n",
    "predictions_dict['m2']['all_trials'] = trials_to_df(trials_processed)\n",
    "kforecasts = plot_top_k_trials(\n",
    "    predictions_dict,\n",
    "    train_fit='m2',\n",
    "    trials_processed=predictions_dict['m2']['trials_processed'], \n",
    "    k=ktrials,\n",
    "    which_compartments=[Columns.confirmed, Columns.active])\n",
    "predictions_dict['m2']['forecast_confirmed_topk'] = kforecasts[Columns.confirmed]\n",
    "predictions_dict['m2']['forecast_active_topk'] = kforecasts[Columns.active]\n"
   ]
  },
  {
   "cell_type": "markdown",
   "metadata": {},
   "source": [
    "## Create Report\n"
   ]
  },
  {
   "cell_type": "code",
   "execution_count": null,
   "metadata": {},
   "outputs": [],
   "source": [
    "create_report(predictions_dict, ROOT_DIR=output_folder)\n",
    "predictions_dict['m1']['all_trials'].to_csv(os.path.join(output_folder, 'm1-trials.csv'))\n",
    "predictions_dict['m2']['all_trials'].to_csv(os.path.join(output_folder, 'm2-trials.csv'))"
   ]
  },
  {
   "cell_type": "markdown",
   "metadata": {},
   "source": [
    "## Create and Save Output CSV"
   ]
  },
  {
   "cell_type": "code",
   "execution_count": null,
   "metadata": {},
   "outputs": [],
   "source": [
    "df_output = create_region_csv(predictions_dict, district, 'district', days=forecast_days)"
   ]
  },
  {
   "cell_type": "code",
   "execution_count": null,
   "metadata": {},
   "outputs": [],
   "source": [
    "write_csv(df_output, filename=os.path.join(output_folder, f'output-{t}.csv'))"
   ]
  },
  {
   "cell_type": "code",
   "execution_count": null,
   "metadata": {},
   "outputs": [],
   "source": []
  }
 ],
 "metadata": {
  "kernelspec": {
   "display_name": "Python 3",
   "language": "python",
   "name": "python3"
  },
  "language_info": {
   "codemirror_mode": {
    "name": "ipython",
    "version": 3
   },
   "file_extension": ".py",
   "mimetype": "text/x-python",
   "name": "python",
   "nbconvert_exporter": "python",
   "pygments_lexer": "ipython3"
  }
 },
 "nbformat": 4,
 "nbformat_minor": 4
}
