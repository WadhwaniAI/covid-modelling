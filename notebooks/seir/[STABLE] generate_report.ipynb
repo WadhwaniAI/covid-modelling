{
 "cells": [
  {
   "cell_type": "code",
   "execution_count": null,
   "metadata": {
    "tags": []
   },
   "outputs": [],
   "source": [
    "%load_ext autoreload\n",
    "%autoreload 2"
   ]
  },
  {
   "cell_type": "code",
   "execution_count": null,
   "metadata": {},
   "outputs": [],
   "source": [
    "import numpy as np\n",
    "import matplotlib.pyplot as plt\n",
    "import datetime\n",
    "import copy\n",
    "import time\n",
    "\n",
    "import sys\n",
    "sys.path.append('../../')\n",
    "\n",
    "from data.processing import get_data\n",
    "\n",
    "import models\n",
    "\n",
    "from main.seir.fitting import single_fitting_cycle\n",
    "from main.seir.forecast import get_forecast, forecast_all_trials, create_all_trials_csv, create_decile_csv_new, predict_r0_multipliers, save_r0_mul\n",
    "from utils.generic.create_report import save_dict_and_create_report\n",
    "from utils.generic.config import read_config\n",
    "from utils.generic.enums import Columns\n",
    "from utils.fitting.loss import Loss_Calculator\n",
    "from utils.generic.logging import log_wandb, log_mlflow\n",
    "from viz import plot_forecast, plot_top_k_trials, plot_ptiles\n",
    "from viz.uncertainty import plot_beta_loss\n",
    "\n",
    "import yaml"
   ]
  },
  {
   "cell_type": "code",
   "execution_count": null,
   "metadata": {},
   "outputs": [],
   "source": [
    "predictions_dict = {}"
   ]
  },
  {
   "cell_type": "code",
   "execution_count": null,
   "metadata": {},
   "outputs": [],
   "source": [
    "config_filename = 'athena.yaml'\n",
    "config = read_config(config_filename)\n",
    "\n",
    "wandb_config = read_config(config_filename, preprocess=False)\n",
    "wandb_config = make_date_key_str(wandb_config)"
   ]
  },
  {
   "cell_type": "code",
   "execution_count": null,
   "metadata": {},
   "outputs": [],
   "source": [
    "timestamp = datetime.datetime.now()\n",
    "output_folder = '../../misc/reports/{}'.format(timestamp.strftime(\"%Y_%m%d_%H%M%S\"))"
   ]
  },
  {
   "cell_type": "markdown",
   "metadata": {},
   "source": [
    "## Perform M1 and M2 fits"
   ]
  },
  {
   "cell_type": "code",
   "execution_count": null,
   "metadata": {
    "tags": []
   },
   "outputs": [],
   "source": [
    "predictions_dict['m1'] = single_fitting_cycle(**copy.deepcopy(config['fitting'])) \n",
    "\n",
    "m2_params = copy.deepcopy(config['fitting'])\n",
    "m2_params['split']['val_period'] = 0\n",
    "predictions_dict['m2'] = single_fitting_cycle(**m2_params)\n",
    "\n",
    "predictions_dict['fitting_date'] = timestamp.strftime(\"%Y-%m-%d\")"
   ]
  },
  {
   "cell_type": "code",
   "execution_count": null,
   "metadata": {},
   "outputs": [],
   "source": [
    "predictions_dict['m1']['best_params']"
   ]
  },
  {
   "cell_type": "code",
   "execution_count": null,
   "metadata": {},
   "outputs": [],
   "source": [
    "predictions_dict['m2']['best_params']"
   ]
  },
  {
   "cell_type": "markdown",
   "metadata": {},
   "source": [
    "## Loss Dataframes"
   ]
  },
  {
   "cell_type": "markdown",
   "metadata": {},
   "source": [
    "### M1 Loss DataFrame"
   ]
  },
  {
   "cell_type": "code",
   "execution_count": null,
   "metadata": {},
   "outputs": [],
   "source": [
    "predictions_dict['m1']['df_loss']"
   ]
  },
  {
   "cell_type": "markdown",
   "metadata": {},
   "source": [
    "### M2 Loss DataFrame"
   ]
  },
  {
   "cell_type": "code",
   "execution_count": null,
   "metadata": {},
   "outputs": [],
   "source": [
    "predictions_dict['m2']['df_loss']"
   ]
  },
  {
   "cell_type": "markdown",
   "metadata": {},
   "source": [
    "# Plot Best Forecast"
   ]
  },
  {
   "cell_type": "code",
   "execution_count": null,
   "metadata": {
    "tags": []
   },
   "outputs": [],
   "source": [
    "# M2 based forecasting for the next train_period + test_period + forecast_period (no validation period)\n",
    "predictions_dict['m2']['forecasts'] = {}\n",
    "predictions_dict['m1']['forecasts'] = {}\n",
    "for fit in ['m1', 'm2']:\n",
    "    predictions_dict[fit]['forecasts']['best'] = get_forecast(predictions_dict, train_fit=fit, \n",
    "                                                              model=config['fitting']['model'], \n",
    "                                                              train_end_date=config['fitting']['split']['end_date'],\n",
    "                                                              forecast_days=config['forecast']['forecast_days'])\n",
    "\n",
    "    predictions_dict[fit]['plots']['forecast_best'] = plot_forecast(predictions_dict, \n",
    "                                                                    config['fitting']['data']['dataloading_params']['location_description'],\n",
    "                                                                    which_fit=fit,\n",
    "                                                                    which_compartments=config['fitting']['loss']['loss_compartments'],\n",
    "                                                                    error_bars=False)"
   ]
  },
  {
   "cell_type": "markdown",
   "metadata": {},
   "source": [
    "## Process trials + Find best beta"
   ]
  },
  {
   "cell_type": "code",
   "execution_count": null,
   "metadata": {
    "tags": []
   },
   "outputs": [],
   "source": [
    "uncertainty_args = {'predictions_dict': predictions_dict, 'fitting_config': config['fitting'],\n",
    "                    'forecast_config': config['forecast'], **config['uncertainty']['uncertainty_params']}\n",
    "uncertainty = config['uncertainty']['method'](**uncertainty_args)"
   ]
  },
  {
   "cell_type": "code",
   "execution_count": null,
   "metadata": {},
   "outputs": [],
   "source": [
    "predictions_dict['m2']['plots']['beta_loss'], _ = plot_beta_loss(uncertainty.dict_of_trials)"
   ]
  },
  {
   "cell_type": "code",
   "execution_count": null,
   "metadata": {},
   "outputs": [],
   "source": [
    "uncertainty_forecasts = uncertainty.get_forecasts()\n",
    "for key in uncertainty_forecasts.keys():\n",
    "    predictions_dict['m2']['forecasts'][key] = uncertainty_forecasts[key]['df_prediction']\n",
    "    \n",
    "predictions_dict['m2']['forecasts']['ensemble_mean'] = uncertainty.ensemble_mean_forecast"
   ]
  },
  {
   "cell_type": "markdown",
   "metadata": {},
   "source": [
    "## Plot Top k Trials"
   ]
  },
  {
   "cell_type": "code",
   "execution_count": null,
   "metadata": {},
   "outputs": [],
   "source": [
    "kforecasts = plot_top_k_trials(predictions_dict, train_fit='m2',\n",
    "                               k=config['forecast']['num_trials_to_plot'],\n",
    "                               which_compartments=config['forecast']['plot_topk_trials_for_columns'])\n",
    "                               \n",
    "predictions_dict['m2']['plots']['forecasts_topk'] = {}\n",
    "for column in config['forecast']['plot_topk_trials_for_columns']:\n",
    "    predictions_dict['m2']['plots']['forecasts_topk'][column.name] = kforecasts[column]"
   ]
  },
  {
   "cell_type": "code",
   "execution_count": null,
   "metadata": {},
   "outputs": [],
   "source": [
    "predictions_dict['m2']['beta'] = uncertainty.beta\n",
    "predictions_dict['m2']['beta_loss'] = uncertainty.beta_loss\n",
    "predictions_dict['m2']['deciles'] = uncertainty_forecasts"
   ]
  },
  {
   "cell_type": "markdown",
   "metadata": {},
   "source": [
    "## Plot Deciles Forecasts"
   ]
  },
  {
   "cell_type": "code",
   "execution_count": null,
   "metadata": {
    "tags": []
   },
   "outputs": [],
   "source": [
    "predictions_dict['m2']['plots']['forecast_best_50'] = plot_forecast(predictions_dict, \n",
    "                                                                    config['fitting']['data']['dataloading_params']['location_description'],\n",
    "                                                                    which_compartments=config['fitting']['loss']['loss_compartments'],\n",
    "                                                                    fits_to_plot=['best', 50], error_bars=False)\n",
    "predictions_dict['m2']['plots']['forecast_best_80'] = plot_forecast(predictions_dict, \n",
    "                                                                    config['fitting']['data']['dataloading_params']['location_description'],\n",
    "                                                                    which_compartments=config['fitting']['loss']['loss_compartments'],\n",
    "                                                                    fits_to_plot=['best', 80], error_bars=False)\n",
    "predictions_dict['m2']['plots']['forecast_ensemble_mean_50'] = plot_forecast(predictions_dict, \n",
    "                                                                             config['fitting']['data']['dataloading_params']['location_description'],\n",
    "                                                                             which_compartments=config['fitting']['loss']['loss_compartments'],\n",
    "                                                                             fits_to_plot=['ensemble_mean', 50], error_bars=False)"
   ]
  },
  {
   "cell_type": "code",
   "execution_count": null,
   "metadata": {},
   "outputs": [],
   "source": [
    "ptiles_plots = plot_ptiles(predictions_dict, which_compartments=config['forecast']['plot_ptiles_for_columns'])\n",
    "predictions_dict['m2']['plots']['forecasts_ptiles'] = {}\n",
    "for column in config['forecast']['plot_ptiles_for_columns']:\n",
    "    predictions_dict['m2']['plots']['forecasts_ptiles'][column.name] = ptiles_plots[column]"
   ]
  },
  {
   "cell_type": "markdown",
   "metadata": {},
   "source": [
    "## What If Scenarios - R0 Multipliers"
   ]
  },
  {
   "cell_type": "code",
   "execution_count": null,
   "metadata": {
    "jupyter": {
     "outputs_hidden": true
    }
   },
   "outputs": [],
   "source": [
    "r0_mul_params= predictions_dict['m2']['deciles'][config['what_ifs']['percentile']]['params']\n",
    "predictions_dict['m2']['r0_mul_dict'] = predict_r0_multipliers(predictions_dict, r0_mul_params, model=config['fitting']['model'],            days=config['forecast']['forecast_days'], multipliers=config['what_ifs']['multipliers'])\n",
    "predictions_dict['m2']['plots']['r0_mul_dict'] = plot_r0_multipliers(predictions_dict, None, predictions_dict['m2']['r0_mul_dict'], None, config['fitting']['data']['dataloading_params']['state'], config['fitting']['data']['dataloading_params']['district'])"
   ]
  },
  {
   "cell_type": "markdown",
   "metadata": {},
   "source": [
    "## Create Report"
   ]
  },
  {
   "cell_type": "code",
   "execution_count": null,
   "metadata": {},
   "outputs": [],
   "source": [
    "save_dict_and_create_report(predictions_dict, config, ROOT_DIR=output_folder, config_filename=config_filename)"
   ]
  },
  {
   "cell_type": "markdown",
   "metadata": {},
   "source": [
    "## Create Output"
   ]
  },
  {
   "cell_type": "code",
   "execution_count": null,
   "metadata": {},
   "outputs": [],
   "source": [
    "df_output = create_decile_csv_new(predictions_dict)\n",
    "df_output.to_csv(f'{output_folder}/deciles.csv')"
   ]
  },
  {
   "cell_type": "code",
   "execution_count": null,
   "metadata": {},
   "outputs": [],
   "source": [
    "#log_wandb(predictions_dict)"
   ]
  },
  {
   "cell_type": "markdown",
   "metadata": {},
   "source": [
    "## Create All Trials Output"
   ]
  },
  {
   "cell_type": "code",
   "execution_count": null,
   "metadata": {},
   "outputs": [],
   "source": [
    "df_all = create_all_trials_csv(predictions_dict)\n",
    "df_all.to_csv(f'{output_folder}/all_trials.csv')"
   ]
  },
  {
   "cell_type": "markdown",
   "metadata": {},
   "source": [
    "## Log on MLFlow"
   ]
  },
  {
   "cell_type": "code",
   "execution_count": null,
   "metadata": {},
   "outputs": [],
   "source": [
    "log_mlflow(config['logging']['experiment_name'], run_name=config['logging']['run_name'], artifact_dir=output_folder)"
   ]
  }
 ],
 "metadata": {
  "kernelspec": {
   "display_name": "Python (covid)",
   "language": "python",
   "name": "covid"
  },
  "language_info": {
   "codemirror_mode": {
    "name": "ipython",
    "version": 2
   },
   "file_extension": ".py",
   "mimetype": "text/x-python",
   "name": "python",
   "nbconvert_exporter": "python",
   "pygments_lexer": "ipython2"
  }
 },
 "nbformat": 4,
 "nbformat_minor": 4
}
