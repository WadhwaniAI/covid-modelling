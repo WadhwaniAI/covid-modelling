{
 "cells": [
  {
   "cell_type": "code",
   "execution_count": null,
   "metadata": {},
   "outputs": [],
   "source": [
    "%load_ext autoreload\n",
    "%autoreload 2"
   ]
  },
  {
   "cell_type": "code",
   "execution_count": null,
   "metadata": {},
   "outputs": [],
   "source": [
    "import numpy as np\n",
    "import matplotlib.pyplot as plt\n",
    "import datetime\n",
    "import copy\n",
    "import time\n",
    "\n",
    "import sys\n",
    "sys.path.append('../../')\n",
    "\n",
    "from data.processing import get_data\n",
    "\n",
    "import models\n",
    "\n",
    "from main.seir.fitting import single_fitting_cycle\n",
    "from main.seir.forecast import get_forecast, forecast_all_trials, create_all_trials_csv, create_decile_csv_new\n",
    "from main.seir.sensitivity import calculate_sensitivity_and_plot\n",
    "from utils.generic.create_report import save_dict_and_create_report\n",
    "from utils.generic.config import read_config, make_date_key_str\n",
    "from utils.generic.enums import Columns\n",
    "from utils.fitting.loss import Loss_Calculator\n",
    "from utils.generic.logging import log_wandb, log_mlflow\n",
    "from viz import plot_forecast, plot_top_k_trials, plot_ptiles\n",
    "\n",
    "import yaml\n",
    "import wandb"
   ]
  },
  {
   "cell_type": "code",
   "execution_count": null,
   "metadata": {},
   "outputs": [],
   "source": [
    "predictions_dict = {}"
   ]
  },
  {
   "cell_type": "code",
   "execution_count": null,
   "metadata": {},
   "outputs": [],
   "source": [
    "config_filename = 'default.yaml'\n",
    "config = read_config(config_filename)\n",
    "\n",
    "wandb_config = read_config(config_filename, preprocess=False)\n",
    "wandb_config = make_date_key_str(wandb_config)"
   ]
  },
  {
   "cell_type": "code",
   "execution_count": null,
   "metadata": {},
   "outputs": [],
   "source": [
    "timestamp = datetime.datetime.now()\n",
    "output_folder = '../../misc/reports/{}'.format(timestamp.strftime(\"%Y_%m%d_%H%M%S\"))"
   ]
  },
  {
   "cell_type": "markdown",
   "metadata": {},
   "source": [
    "## Perform M1 and M2 fits"
   ]
  },
  {
   "cell_type": "code",
   "execution_count": null,
   "metadata": {},
   "outputs": [],
   "source": [
    "predictions_dict['m1'] = single_fitting_cycle(**copy.deepcopy(config['fitting'])) \n",
    "\n",
    "m2_params = copy.deepcopy(config['fitting'])\n",
    "m2_params['split']['val_period'] = 0\n",
    "predictions_dict['m2'] = single_fitting_cycle(**m2_params)\n",
    "\n",
    "predictions_dict['fitting_date'] = timestamp.strftime(\"%Y-%m-%d\")"
   ]
  },
  {
   "cell_type": "code",
   "execution_count": null,
   "metadata": {},
   "outputs": [],
   "source": [
    "predictions_dict['m1']['best_params']"
   ]
  },
  {
   "cell_type": "code",
   "execution_count": null,
   "metadata": {},
   "outputs": [],
   "source": [
    "predictions_dict['m2']['best_params']"
   ]
  },
  {
   "cell_type": "markdown",
   "metadata": {},
   "source": [
    "## Loss Dataframes"
   ]
  },
  {
   "cell_type": "markdown",
   "metadata": {},
   "source": [
    "### M1 Loss DataFrame"
   ]
  },
  {
   "cell_type": "code",
   "execution_count": null,
   "metadata": {},
   "outputs": [],
   "source": [
    "predictions_dict['m1']['df_loss']"
   ]
  },
  {
   "cell_type": "markdown",
   "metadata": {},
   "source": [
    "### M2 Loss DataFrame"
   ]
  },
  {
   "cell_type": "code",
   "execution_count": null,
   "metadata": {},
   "outputs": [],
   "source": [
    "predictions_dict['m2']['df_loss']"
   ]
  },
  {
   "cell_type": "markdown",
   "metadata": {},
   "source": [
    "## Sensitivity Plot"
   ]
  },
  {
   "cell_type": "code",
   "execution_count": null,
   "metadata": {},
   "outputs": [],
   "source": [
    "predictions_dict['m1']['plots']['sensitivity'], _, _ = calculate_sensitivity_and_plot(predictions_dict, config, which_fit='m1')\n",
    "predictions_dict['m2']['plots']['sensitivity'], _, _ = calculate_sensitivity_and_plot(predictions_dict, config, which_fit='m2')"
   ]
  },
  {
   "cell_type": "markdown",
   "metadata": {},
   "source": [
    "## Plot Forecasts"
   ]
  },
  {
   "cell_type": "code",
   "execution_count": null,
   "metadata": {},
   "outputs": [],
   "source": [
    "predictions_dict['m2']['forecasts'] = {}\n",
    "predictions_dict['m2']['forecasts']['best'] = get_forecast(predictions_dict, train_fit='m2', \n",
    "                                                           model=config['fitting']['model'], \n",
    "                                                           days=config['forecast']['forecast_days'])\n",
    "\n",
    "predictions_dict['m2']['plots']['forecast_best'] = plot_forecast(predictions_dict, \n",
    "                                                                 'test', \n",
    "                                                                 error_bars=True)\n",
    "\n",
    "predictions_dict['m1']['trials_processed'] = forecast_all_trials(predictions_dict, train_fit='m1', \n",
    "                                                                 model=config['fitting']['model'], \n",
    "                                                                 forecast_days=config['forecast']['forecast_days'])\n",
    "\n",
    "predictions_dict['m2']['trials_processed'] = forecast_all_trials(predictions_dict, train_fit='m2', \n",
    "                                                                 model=config['fitting']['model'], \n",
    "                                                                 forecast_days=config['forecast']['forecast_days'])\n",
    "\n",
    "kforecasts = plot_top_k_trials(predictions_dict, train_fit='m2',\n",
    "                               k=config['forecast']['num_trials_to_plot'],\n",
    "                               which_compartments=config['forecast']['plot_topk_trials_for_columns'])\n",
    "                               \n",
    "predictions_dict['m2']['plots']['forecasts_topk'] = {}\n",
    "for column in config['forecast']['plot_topk_trials_for_columns']:\n",
    "    predictions_dict['m2']['plots']['forecasts_topk'][column.name] = kforecasts[column]"
   ]
  },
  {
   "cell_type": "markdown",
   "metadata": {},
   "source": [
    "## Uncertainty + Uncertainty Forecasts"
   ]
  },
  {
   "cell_type": "code",
   "execution_count": null,
   "metadata": {},
   "outputs": [],
   "source": [
    "uncertainty_args = {'predictions_dict': predictions_dict, **config['uncertainty']['uncertainty_params']}\n",
    "uncertainty = config['uncertainty']['method'](**uncertainty_args)"
   ]
  },
  {
   "cell_type": "code",
   "execution_count": null,
   "metadata": {},
   "outputs": [],
   "source": [
    "uncertainty.beta_loss"
   ]
  },
  {
   "cell_type": "code",
   "execution_count": null,
   "metadata": {},
   "outputs": [],
   "source": [
    "uncertainty_forecasts = uncertainty.get_forecasts()\n",
    "for key in uncertainty_forecasts.keys():\n",
    "    predictions_dict['m2']['forecasts'][key] = uncertainty_forecasts[key]['df_prediction']\n",
    "    \n",
    "predictions_dict['m2']['forecasts']['ensemble_mean'] = uncertainty.ensemble_mean_forecast"
   ]
  },
  {
   "cell_type": "code",
   "execution_count": null,
   "metadata": {},
   "outputs": [],
   "source": [
    "predictions_dict['m2']['beta'] = uncertainty.beta\n",
    "predictions_dict['m2']['beta_loss'] = uncertainty.beta_loss\n",
    "predictions_dict['m2']['deciles'] = uncertainty_forecasts"
   ]
  },
  {
   "cell_type": "code",
   "execution_count": null,
   "metadata": {},
   "outputs": [],
   "source": [
    "predictions_dict['m2']['plots']['forecast_best_50'] = plot_forecast(predictions_dict, \n",
    "                                                                    (config['fitting']['data']['dataloading_params']['state'], \n",
    "                                                                     config['fitting']['data']['dataloading_params']['district']),\n",
    "                                                                    fits_to_plot=['best', 50], error_bars=False)\n",
    "predictions_dict['m2']['plots']['forecast_best_80'] = plot_forecast(predictions_dict, \n",
    "                                                                    (config['fitting']['data']['dataloading_params']['state'], \n",
    "                                                                     config['fitting']['data']['dataloading_params']['district']),\n",
    "                                                                    fits_to_plot=['best', 80], error_bars=False)\n",
    "predictions_dict['m2']['plots']['forecast_ensemble_mean_50'] = plot_forecast(predictions_dict, \n",
    "                                                                             (config['fitting']['data']['dataloading_params']['state'], \n",
    "                                                                              config['fitting']['data']['dataloading_params']['district']),\n",
    "                                                                             fits_to_plot=['ensemble_mean', 50], error_bars=False)"
   ]
  },
  {
   "cell_type": "code",
   "execution_count": null,
   "metadata": {},
   "outputs": [],
   "source": [
    "ptiles_plots = plot_ptiles(predictions_dict, which_compartments=config['forecast']['plot_ptiles_for_columns'])\n",
    "predictions_dict['m2']['plots']['forecasts_ptiles'] = {}\n",
    "for column in config['forecast']['plot_ptiles_for_columns']:\n",
    "    predictions_dict['m2']['plots']['forecasts_ptiles'][column.name] = ptiles_plots[column]"
   ]
  },
  {
   "cell_type": "markdown",
   "metadata": {},
   "source": [
    "## Create Report"
   ]
  },
  {
   "cell_type": "code",
   "execution_count": null,
   "metadata": {},
   "outputs": [],
   "source": [
    "save_dict_and_create_report(predictions_dict, config, ROOT_DIR=output_folder, config_filename=config_filename)"
   ]
  },
  {
   "cell_type": "markdown",
   "metadata": {},
   "source": [
    "## Create Output CSV"
   ]
  },
  {
   "cell_type": "code",
   "execution_count": null,
   "metadata": {},
   "outputs": [],
   "source": [
    "df_output = create_decile_csv_new(predictions_dict)\n",
    "df_output.to_csv(f'{output_folder}/deciles.csv')"
   ]
  },
  {
   "cell_type": "markdown",
   "metadata": {},
   "source": [
    "## Log on W&B"
   ]
  },
  {
   "cell_type": "code",
   "execution_count": null,
   "metadata": {},
   "outputs": [],
   "source": [
    "wandb.init(project=\"covid-modelling\", config=wandb_config)"
   ]
  },
  {
   "cell_type": "code",
   "execution_count": null,
   "metadata": {},
   "outputs": [],
   "source": [
    "log_wandb(predictions_dict)"
   ]
  },
  {
   "cell_type": "markdown",
   "metadata": {},
   "source": [
    "## Create All Trials Output"
   ]
  },
  {
   "cell_type": "code",
   "execution_count": null,
   "metadata": {},
   "outputs": [],
   "source": [
    "df_all = create_all_trials_csv(predictions_dict)\n",
    "df_all.to_csv(f'{output_folder}/all_trials.csv')"
   ]
  },
  {
   "cell_type": "markdown",
   "metadata": {},
   "source": [
    "## Log on MLFlow"
   ]
  },
  {
   "cell_type": "code",
   "execution_count": null,
   "metadata": {},
   "outputs": [],
   "source": [
    "log_mlflow(config['logging']['experiment_name'], run_name=config['logging']['run_name'], artifact_dir=output_folder)"
   ]
  }
 ],
 "metadata": {
  "kernelspec": {
   "display_name": "Python 3",
   "language": "python",
   "name": "python3"
  },
  "language_info": {
   "codemirror_mode": {
    "name": "ipython",
    "version": 3
   },
   "file_extension": ".py",
   "mimetype": "text/x-python",
   "name": "python",
   "nbconvert_exporter": "python",
   "pygments_lexer": "ipython3"
  }
 },
 "nbformat": 4,
 "nbformat_minor": 4
}
