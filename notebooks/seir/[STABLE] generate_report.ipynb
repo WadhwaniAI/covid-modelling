{
 "cells": [
  {
   "cell_type": "code",
   "execution_count": null,
   "metadata": {},
   "outputs": [],
   "source": [
    "%load_ext autoreload\n",
    "%autoreload 2"
   ]
  },
  {
   "cell_type": "code",
   "execution_count": null,
   "metadata": {},
   "outputs": [],
   "source": [
    "import numpy as np\n",
    "import matplotlib.pyplot as plt\n",
    "import datetime\n",
    "import copy\n",
    "import time\n",
    "\n",
    "import sys\n",
    "sys.path.append('../../')\n",
    "\n",
    "from data.processing import get_data\n",
    "\n",
    "import models\n",
    "\n",
    "from main.seir.main import single_fitting_cycle\n",
    "from main.seir.forecast import create_all_trials_csv, create_decile_csv_new\n",
    "from utils.generic.create_report import save_dict_and_create_report\n",
    "from utils.generic.config import read_config, make_date_key_str\n",
    "from utils.generic.enums import Columns\n",
    "from utils.fitting.loss import Loss_Calculator\n",
    "from utils.generic.logger import log_wandb, log_mlflow\n",
    "from viz import plot_forecast, plot_top_k_trials, plot_ptiles\n",
    "from viz.uncertainty import plot_beta_loss\n",
    "\n",
    "import yaml\n",
    "import wandb"
   ]
  },
  {
   "cell_type": "code",
   "execution_count": null,
   "metadata": {},
   "outputs": [],
   "source": [
    "predictions_dict = {}"
   ]
  },
  {
   "cell_type": "code",
   "execution_count": null,
   "metadata": {},
   "outputs": [],
   "source": [
    "config_filename = 'mcmc_simulate.yaml'\n",
    "config = read_config(config_filename)\n",
    "\n",
    "wandb_config = read_config(config_filename, preprocess=False)\n",
    "wandb_config = make_date_key_str(wandb_config)"
   ]
  },
  {
   "cell_type": "code",
   "execution_count": null,
   "metadata": {},
   "outputs": [],
   "source": [
    "timestamp = datetime.datetime.now()\n",
    "output_folder = '../../misc/reports/{}'.format(timestamp.strftime(\"%Y_%m%d_%H%M%S\"))"
   ]
  },
  {
   "cell_type": "markdown",
   "metadata": {},
   "source": [
    "## Perform Fit"
   ]
  },
  {
   "cell_type": "code",
   "execution_count": null,
   "metadata": {},
   "outputs": [],
   "source": [
    "predictions_dict = single_fitting_cycle(**copy.deepcopy(config['fitting']))"
   ]
  },
  {
   "cell_type": "markdown",
   "metadata": {},
   "source": [
    "## Loss Dataframe"
   ]
  },
  {
   "cell_type": "code",
   "execution_count": null,
   "metadata": {},
   "outputs": [],
   "source": [
    "from viz.fit import plot_histogram\n",
    "fig,axs = plt.subplots(4,2,figsize = (10,20))\n",
    "plot_histogram(predictions_dict,fig = fig,axs=axs)"
   ]
  },
  {
   "cell_type": "code",
   "execution_count": null,
   "metadata": {},
   "outputs": [],
   "source": [
    "predictions_dict['df_loss']"
   ]
  },
  {
   "cell_type": "markdown",
   "metadata": {},
   "source": [
    "## Plot Best Forecast"
   ]
  },
  {
   "cell_type": "code",
   "execution_count": null,
   "metadata": {},
   "outputs": [],
   "source": [
    "predictions_dict['forecasts'] = {}\n",
    "predictions_dict['forecasts']['best'] = predictions_dict['trials']['predictions'][0]\n",
    "\n",
    "predictions_dict['plots']['forecast_best'] = plot_forecast(predictions_dict, \n",
    "                                                            which_compartments=config['fitting']['loss']['loss_compartments'],\n",
    "                                                            error_bars=False, **config['plotting'])"
   ]
  },
  {
   "cell_type": "markdown",
   "metadata": {},
   "source": [
    "## Process trials + Find best beta"
   ]
  },
  {
   "cell_type": "code",
   "execution_count": null,
   "metadata": {},
   "outputs": [],
   "source": [
    "uncertainty_args = {'predictions_dict': predictions_dict,  \"variable_param_ranges\" :config['fitting']['variable_param_ranges'],\n",
    "                     **config['uncertainty']['uncertainty_params']}\n",
    "uncertainty = config['uncertainty']['method'](**uncertainty_args)"
   ]
  },
  {
   "cell_type": "code",
   "execution_count": null,
   "metadata": {},
   "outputs": [],
   "source": [
    "predictions_dict['plots']['beta_loss'], _ = plot_beta_loss(uncertainty.dict_of_trials)"
   ]
  },
  {
   "cell_type": "code",
   "execution_count": null,
   "metadata": {},
   "outputs": [],
   "source": [
    "uncertainty_forecasts = uncertainty.get_forecasts()\n",
    "for key in uncertainty_forecasts.keys():\n",
    "    predictions_dict['forecasts'][key] = uncertainty_forecasts[key]['df_prediction']\n",
    "    \n",
    "predicions_dict['forecasts']['ensemble_mean'] = uncertainty.ensemble_mean_forecast"
   ]
  },
  {
   "cell_type": "markdown",
   "metadata": {},
   "source": [
    "## Plot Top k Trials"
   ]
  },
  {
   "cell_type": "code",
   "execution_count": null,
   "metadata": {},
   "outputs": [],
   "source": [
    "kforecasts = plot_top_k_trials(predictions_dict, k=config['plotting']['num_trials_to_plot'],\n",
    "                               which_compartments=config['plotting']['plot_topk_trials_for_columns'])\n",
    "                               \n",
    "predictions_dict['plots']['forecasts_topk'] = {}\n",
    "for column in config['plotting']['plot_topk_trials_for_columns']:\n",
    "    predictions_dict['plots']['forecasts_topk'][column.name] = kforecasts[column]"
   ]
  },
  {
   "cell_type": "code",
   "execution_count": null,
   "metadata": {},
   "outputs": [],
   "source": [
    "predictions_dict['beta'] = uncertainty.beta\n",
    "predictions_dict['beta_loss'] = uncertainty.beta_loss\n",
    "predictions_dict['deciles'] = uncertainty_forecasts"
   ]
  },
  {
   "cell_type": "markdown",
   "metadata": {},
   "source": [
    "## Plot Deciles Forecasts"
   ]
  },
  {
   "cell_type": "code",
   "execution_count": null,
   "metadata": {},
   "outputs": [],
   "source": [
    "for fits_to_plot in config['plotting']['pair_fits_to_plot']:\n",
    "    predictions_dict['plots'][f'forecast_{fits_to_plot[0]}_{fits_to_plot[1]}'] = plot_forecast(\n",
    "        predictions_dict, which_compartments=config['fitting']['loss']['loss_compartments'],\n",
    "        fits_to_plot=fits_to_plot, **config['plotting'])"
   ]
  },
  {
   "cell_type": "code",
   "execution_count": null,
   "metadata": {},
   "outputs": [],
   "source": [
    "ptiles_plots = plot_ptiles(predictions_dict, which_compartments=config['plotting']['plot_ptiles_for_columns'])\n",
    "predictions_dict['plots']['forecasts_ptiles'] = {}\n",
    "for column in config['plotting']['plot_ptiles_for_columns']:\n",
    "    predictions_dict['plots']['forecasts_ptiles'][column.name] = ptiles_plots[column]"
   ]
  },
  {
   "cell_type": "markdown",
   "metadata": {},
   "source": [
    "## Create Report"
   ]
  },
  {
   "cell_type": "code",
   "execution_count": null,
   "metadata": {},
   "outputs": [],
   "source": [
    "save_dict_and_create_report(predictions_dict, config, ROOT_DIR=output_folder, config_filename=config_filename)"
   ]
  },
  {
   "cell_type": "markdown",
   "metadata": {},
   "source": [
    "## Create Output CSV"
   ]
  },
  {
   "cell_type": "code",
   "execution_count": null,
   "metadata": {},
   "outputs": [],
   "source": [
    "df_output = create_decile_csv_new(predictions_dict)\n",
    "df_output.to_csv(f'{output_folder}/deciles.csv')"
   ]
  },
  {
   "cell_type": "markdown",
   "metadata": {},
   "source": [
    "## Create All Trials Output"
   ]
  },
  {
   "cell_type": "code",
   "execution_count": null,
   "metadata": {},
   "outputs": [],
   "source": [
    "df_all = create_all_trials_csv(predictions_dict)\n",
    "df_all.to_csv(f'{output_folder}/all_trials.csv')"
   ]
  },
  {
   "cell_type": "markdown",
   "metadata": {},
   "source": [
    "## Log on W&B"
   ]
  },
  {
   "cell_type": "code",
   "execution_count": null,
   "metadata": {},
   "outputs": [],
   "source": [
    "wandb.init(project=\"covid-modelling\", config=wandb_config)"
   ]
  },
  {
   "cell_type": "code",
   "execution_count": null,
   "metadata": {},
   "outputs": [],
   "source": [
    "log_wandb(predictions_dict)"
   ]
  },
  {
   "cell_type": "markdown",
   "metadata": {},
   "source": [
    "## Log on MLFlow"
   ]
  },
  {
   "cell_type": "code",
   "execution_count": null,
   "metadata": {},
   "outputs": [],
   "source": [
    "log_mlflow(config['logging']['experiment_name'], run_name=config['logging']['run_name'], artifact_dir=output_folder)"
   ]
  },
  {
   "cell_type": "code",
   "execution_count": null,
   "metadata": {},
   "outputs": [],
   "source": []
  }
 ],
 "metadata": {
  "kernelspec": {
   "display_name": "Python 3",
   "language": "python",
   "name": "python3"
  },
  "language_info": {
   "codemirror_mode": {
    "name": "ipython",
    "version": 3
   },
   "file_extension": ".py",
   "mimetype": "text/x-python",
   "name": "python",
   "nbconvert_exporter": "python",
   "pygments_lexer": "ipython3"
  }
 },
 "nbformat": 4,
 "nbformat_minor": 4
}
