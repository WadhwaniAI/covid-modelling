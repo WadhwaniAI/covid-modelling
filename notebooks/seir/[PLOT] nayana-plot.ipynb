{
 "cells": [
  {
   "cell_type": "code",
   "execution_count": null,
   "metadata": {},
   "outputs": [],
   "source": [
    "%load_ext autoreload\n",
    "%autoreload 2"
   ]
  },
  {
   "cell_type": "code",
   "execution_count": null,
   "metadata": {},
   "outputs": [],
   "source": [
    "import pickle\n",
    "import numpy as np\n",
    "from glob import glob\n",
    "import matplotlib.pyplot as plt\n",
    "\n",
    "from main.seir.forecast import _order_trials_by_loss"
   ]
  },
  {
   "cell_type": "code",
   "execution_count": null,
   "metadata": {},
   "outputs": [],
   "source": [
    "plt.rcParams.update({\n",
    "    'text.usetex': True,\n",
    "    'font.size': 20,\n",
    "    'font.family': 'Palatino',\n",
    "})"
   ]
  },
  {
   "cell_type": "code",
   "execution_count": null,
   "metadata": {},
   "outputs": [],
   "source": [
    "rand_losses = np.array([])\n",
    "\n",
    "rand_pickles = glob('../../../paper/output/*-rand-*/*')\n",
    "\n",
    "for pkl in rand_pickles:\n",
    "    with open(pkl, 'rb') as f:\n",
    "        trials = pickle.load(f)\n",
    "        \n",
    "    _, loss_arr = _order_trials_by_loss(trials, is_input_pdict=False)\n",
    "    \n",
    "    rand_losses = np.concatenate((rand_losses, loss_arr))"
   ]
  },
  {
   "cell_type": "code",
   "execution_count": null,
   "metadata": {},
   "outputs": [],
   "source": [
    "len(rand_losses)"
   ]
  },
  {
   "cell_type": "code",
   "execution_count": null,
   "metadata": {},
   "outputs": [],
   "source": [
    "tpe_losses = np.array([])\n",
    "\n",
    "tpe_pickles = glob('../../../paper/output/*-tpe-*/*')\n",
    "\n",
    "for pkl in tpe_pickles:\n",
    "    with open(pkl, 'rb') as f:\n",
    "        trials = pickle.load(f)\n",
    "        \n",
    "    _, loss_arr = _order_trials_by_loss(trials, is_input_pdict=False)\n",
    "    \n",
    "    tpe_losses = np.concatenate((tpe_losses, loss_arr))"
   ]
  },
  {
   "cell_type": "code",
   "execution_count": null,
   "metadata": {},
   "outputs": [],
   "source": [
    "len(tpe_losses)"
   ]
  },
  {
   "cell_type": "code",
   "execution_count": null,
   "metadata": {},
   "outputs": [],
   "source": [
    "fig, ax = plt.subplots(figsize=(10, 6))\n",
    "\n",
    "ax.hist(tpe_losses[tpe_losses <= 200], label='TPE', alpha=0.7, density=True, bins=np.linspace(0, 200, 201), color='purple')\n",
    "ax.hist(rand_losses[rand_losses <= 200], label='Rand', alpha=0.7, density=True, bins=np.linspace(0, 200, 201), color='pink')\n",
    "ax.set_ylabel('Density')\n",
    "ax.set_xlabel('MAPE (\\%) Loss')\n",
    "ax.legend()\n",
    "\n",
    "fig.savefig('../../../paper/plots/hp_tpe-rand.pdf', format='pdf', bbox_inches='tight', pad_inches=0)"
   ]
  },
  {
   "cell_type": "code",
   "execution_count": null,
   "metadata": {},
   "outputs": [],
   "source": []
  }
 ],
 "metadata": {
  "kernelspec": {
   "display_name": "Python (covid)",
   "language": "python",
   "name": "covid"
  },
  "language_info": {
   "codemirror_mode": {
    "name": "ipython",
    "version": 3
   },
   "file_extension": ".py",
   "mimetype": "text/x-python",
   "name": "python",
   "nbconvert_exporter": "python",
   "pygments_lexer": "ipython3"
  }
 },
 "nbformat": 4,
 "nbformat_minor": 4
}
