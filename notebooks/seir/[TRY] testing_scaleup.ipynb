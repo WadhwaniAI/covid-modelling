{
 "cells": [
  {
   "cell_type": "code",
   "execution_count": null,
   "metadata": {},
   "outputs": [],
   "source": [
    "%load_ext autoreload\n",
    "%autoreload 2"
   ]
  },
  {
   "cell_type": "code",
   "execution_count": null,
   "metadata": {},
   "outputs": [],
   "source": [
    "import sys\n",
    "sys.path.append('../../')\n",
    "\n",
    "import requests\n",
    "import pandas as pd\n",
    "import numpy as np\n",
    "import matplotlib.pyplot as plt\n",
    "import copy\n",
    "import datetime\n",
    "\n",
    "from data.processing.processing import get_data\n",
    "\n",
    "from models.seir import SEIRHD, SEIRHD_t\n",
    "\n",
    "from main.seir.fitting import single_fitting_cycle, get_variable_param_ranges\n",
    "from main.seir.uncertainty import MCUncertainty\n",
    "from main.seir.optimiser import Optimiser\n",
    "from main.seir.forecast import get_forecast, create_region_csv, create_all_csvs, write_csv, forecast_all_trials, trials_to_df, scale_up_testing_and_forecast\n",
    "from main.seir.sensitivity import gridsearch_single_param, calculate_sensitivity_and_plot\n",
    "\n",
    "from utils.generic.create_report import save_dict_and_create_report\n",
    "from utils.loss import Loss_Calculator\n",
    "from utils.enums import Columns\n",
    "from utils.enums.columns import *\n",
    "\n",
    "from viz import axis_formatter, plot_forecast"
   ]
  },
  {
   "cell_type": "code",
   "execution_count": null,
   "metadata": {},
   "outputs": [],
   "source": [
    "df_state = get_data(state='Delhi', district=None, disable_tracker=False, use_dataframe='data_all', filename=None)"
   ]
  },
  {
   "cell_type": "code",
   "execution_count": null,
   "metadata": {},
   "outputs": [],
   "source": [
    "df_state"
   ]
  },
  {
   "cell_type": "code",
   "execution_count": null,
   "metadata": {},
   "outputs": [],
   "source": [
    "fig, ax = plt.subplots(figsize=(12, 12))\n",
    "for compartment in compartments['base']:\n",
    "    ax.plot(df_state[compartments['date'][0].name].to_numpy(), \n",
    "            df_state[compartment.name].to_numpy(),\n",
    "            '-o', color=compartment.color, label='{} (Observed)'.format(compartment.label))\n",
    "axis_formatter(ax)\n",
    "plt.tight_layout()"
   ]
  },
  {
   "cell_type": "code",
   "execution_count": null,
   "metadata": {},
   "outputs": [],
   "source": [
    "df_state['daily_cases'] = df_state['total'].diff()\n",
    "df_state['daily_tests'] = df_state['tested'].diff()\n",
    "df_state.dropna(axis=0, how='any', subset=['daily_tests'], inplace=True)\n",
    "df_state = df_state[df_state['daily_tests'] > 0]"
   ]
  },
  {
   "cell_type": "code",
   "execution_count": null,
   "metadata": {},
   "outputs": [],
   "source": [
    "fig, axs = plt.subplots(figsize=(18, 12), nrows=2)\n",
    "axs[0].plot(df_state[compartments['date'][0].name].to_numpy(), \n",
    "        df_state['daily_tests'].to_numpy(),\n",
    "        '--o', color='purple', label='{} (Observed)'.format('Daily Tests'))\n",
    "axs[0].plot(df_state[compartments['date'][0].name].to_numpy(), \n",
    "        df_state['daily_tests'].rolling(7, center=True).mean().to_numpy(),\n",
    "        '-', color='purple', label='{} (RA)'.format('Daily Tests'))\n",
    "axs[1].plot(df_state[compartments['date'][0].name].to_numpy(), \n",
    "        df_state['daily_cases'].to_numpy(),\n",
    "        '--o', color='indigo', label='{} (Observed)'.format('Daily New Cases'))\n",
    "axs[1].plot(df_state[compartments['date'][0].name].to_numpy(), \n",
    "        df_state['daily_cases'].rolling(7, center=True).mean().to_numpy(),\n",
    "        '-', color='indigo', label='{} (RA)'.format('Daily New Cases'))\n",
    "\n",
    "axis_formatter(axs[0])\n",
    "axis_formatter(axs[1])\n",
    "plt.tight_layout()"
   ]
  },
  {
   "cell_type": "code",
   "execution_count": null,
   "metadata": {},
   "outputs": [],
   "source": [
    "predictions_dict = {}"
   ]
  },
  {
   "cell_type": "code",
   "execution_count": null,
   "metadata": {},
   "outputs": [],
   "source": [
    "state, district = ('Maharashtra', 'Mumbai')"
   ]
  },
  {
   "cell_type": "code",
   "execution_count": null,
   "metadata": {},
   "outputs": [],
   "source": [
    "predictions_dict['m1'] = single_fitting_cycle(\n",
    "    'Delhi', None, data_from_tracker=True, granular_data=False, filename=None, #Data\n",
    "    model=SEIRHD, #Choose Model and Ranges\n",
    "    train_period=21, val_period=50, num_evals=1000, #Optimisation related parameters\n",
    "    which_compartments=['total', 'active', 'recovered', 'deceased'], #Compartments to Apply Loss on \n",
    "    smooth_jump=True)\n",
    "\n",
    "predictions_dict['state'] = state\n",
    "predictions_dict['dist'] = district\n",
    "predictions_dict['fitting_date'] = datetime.datetime.now().strftime(\"%Y-%m-%d\")\n",
    "predictions_dict['datasource'] = 'covid19api' if predictions_dict['m1']['data_from_tracker'] else 'municipality'\n",
    "predictions_dict['variable_param_ranges'] = predictions_dict['m1']['variable_param_ranges']"
   ]
  },
  {
   "cell_type": "code",
   "execution_count": null,
   "metadata": {},
   "outputs": [],
   "source": [
    "predictions_dict['m1']['best_params']"
   ]
  },
  {
   "cell_type": "code",
   "execution_count": null,
   "metadata": {},
   "outputs": [],
   "source": [
    "extra_args = {\n",
    "    'time_varying_start_date': '2020-06-06',\n",
    "    'factor_to_increase_gamma': 2,\n",
    "    'time_varying_length': 10\n",
    "}"
   ]
  },
  {
   "cell_type": "code",
   "execution_count": null,
   "metadata": {},
   "outputs": [],
   "source": [
    "best_params = copy.copy(predictions_dict['m1']['best_params'])\n",
    "best_params['T_recov_severe'] =  22\n",
    "best_params['I_hosp_ratio'] =  0.8"
   ]
  },
  {
   "cell_type": "code",
   "execution_count": null,
   "metadata": {},
   "outputs": [],
   "source": [
    "params_dict = {**best_params, **predictions_dict['m1']['default_params'], **extra_args}"
   ]
  },
  {
   "cell_type": "code",
   "execution_count": null,
   "metadata": {},
   "outputs": [],
   "source": [
    "solver = SEIRHD_t(**params_dict)\n",
    "df_prediction = solver.predict(total_days=71)"
   ]
  },
  {
   "cell_type": "code",
   "execution_count": null,
   "metadata": {},
   "outputs": [],
   "source": [
    "df_prediction"
   ]
  },
  {
   "cell_type": "code",
   "execution_count": null,
   "metadata": {},
   "outputs": [],
   "source": [
    "df_true_plotting_rolling = pd.concat([predictions_dict['m1']['df_train'], predictions_dict['m1']['df_val']], ignore_index=True)\n",
    "df_true_plotting = copy.copy(predictions_dict['m1']['df_district'])\n",
    "df_train = copy.copy(predictions_dict['m1']['df_train'])\n",
    "df_val = copy.copy(predictions_dict['m1']['df_val'])\n",
    "train_period = predictions_dict['m1']['run_params']['train_period']\n",
    "\n",
    "fig, ax = plt.subplots(figsize=(12, 12))\n",
    "fig.suptitle('{}, {}'.format(district, state))\n",
    "for compartment in compartments['base']:\n",
    "    ax.plot(df_true_plotting[compartments['date'][0].name].to_numpy(), \n",
    "            df_true_plotting[compartment.name].to_numpy(),\n",
    "            '-o', color=compartment.color, label='{} (Observed)'.format(compartment.label))\n",
    "    ax.plot(df_true_plotting_rolling[compartments['date'][0].name].to_numpy(), \n",
    "            df_true_plotting_rolling[compartment.name].to_numpy(),\n",
    "            '-', color=compartment.color, label='{} (Obs RA)'.format(compartment.label))\n",
    "    ax.plot(df_prediction[compartments['date'][0].name].to_numpy(), \n",
    "            df_prediction[compartment.name].to_numpy(),\n",
    "            '-.', color=compartment.color, label='{} (Predicted)'.format(compartment.label))\n",
    "\n",
    "ax.axvline(x=df_train.iloc[-train_period, :]['date'], ls=':', color='brown', label='Train starts')\n",
    "ax.axvline(x=df_val.iloc[0, ]['date'], ls=':', color='black', label='Val starts')\n",
    "\n",
    "axis_formatter(ax)"
   ]
  },
  {
   "cell_type": "code",
   "execution_count": null,
   "metadata": {},
   "outputs": [],
   "source": [
    "df_true_plotting_rolling['daily_cases'] = df_true_plotting_rolling['total'].diff()\n",
    "df_true_plotting['daily_cases'] = df_true_plotting['total'].diff()\n",
    "df_prediction['daily_cases'] = df_prediction['total'].diff()\n",
    "\n",
    "fig, ax = plt.subplots(figsize=(12, 12))\n",
    "fig.suptitle('{}, {}'.format(district, state))\n",
    "for compartment in compartments['base_diff']:\n",
    "    ax.plot(df_true_plotting[compartments['date'][0].name].to_numpy(), \n",
    "            df_true_plotting[compartment.name].to_numpy(),\n",
    "            '-o', color=compartment.color, label='{} (Observed)'.format(compartment.label))\n",
    "    ax.plot(df_true_plotting_rolling[compartments['date'][0].name].to_numpy(), \n",
    "            df_true_plotting_rolling[compartment.name].to_numpy(),\n",
    "            '-', color=compartment.color, label='{} (Obs RA)'.format(compartment.label))\n",
    "    ax.plot(df_prediction[compartments['date'][0].name].to_numpy(), \n",
    "            df_prediction[compartment.name].to_numpy(),\n",
    "            '-.', color=compartment.color, label='{} (Predicted)'.format(compartment.label))\n",
    "\n",
    "ax.axvline(x=df_train.iloc[-train_period, :]['date'], ls=':', color='brown', label='Train starts')\n",
    "ax.axvline(x=df_val.iloc[0, ]['date'], ls=':', color='black', label='Val starts')\n",
    "\n",
    "axis_formatter(ax)"
   ]
  },
  {
   "cell_type": "code",
   "execution_count": null,
   "metadata": {},
   "outputs": [],
   "source": []
  },
  {
   "cell_type": "code",
   "execution_count": null,
   "metadata": {},
   "outputs": [],
   "source": []
  }
 ],
 "metadata": {
  "kernelspec": {
   "display_name": "Python 3",
   "language": "python",
   "name": "python3"
  },
  "language_info": {
   "codemirror_mode": {
    "name": "ipython",
    "version": 3
   },
   "file_extension": ".py",
   "mimetype": "text/x-python",
   "name": "python",
   "nbconvert_exporter": "python",
   "pygments_lexer": "ipython3"
  }
 },
 "nbformat": 4,
 "nbformat_minor": 4
}
