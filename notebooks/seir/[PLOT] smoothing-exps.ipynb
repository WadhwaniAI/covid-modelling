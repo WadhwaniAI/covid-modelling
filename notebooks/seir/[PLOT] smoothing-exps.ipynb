{
 "cells": [
  {
   "cell_type": "code",
   "execution_count": null,
   "metadata": {},
   "outputs": [],
   "source": [
    "%load_ext autoreload\n",
    "%autoreload 2"
   ]
  },
  {
   "cell_type": "code",
   "execution_count": null,
   "metadata": {},
   "outputs": [],
   "source": [
    "import pandas as pd\n",
    "import numpy as np\n",
    "import matplotlib.pyplot as plt\n",
    "from matplotlib.lines import Line2D\n",
    "import copy\n",
    "import os\n",
    "import yaml\n",
    "import pickle\n",
    "from datetime import timedelta\n",
    "\n",
    "import sys\n",
    "sys.path.append('../../')\n",
    "\n",
    "from data.processing.processing import generate_simulated_data\n",
    "from data.dataloader import SimulatedDataLoader\n",
    "\n",
    "from main.seir.fitting import single_fitting_cycle\n",
    "from utils.generic.config import read_config\n",
    "from utils.fitting.loss import Loss_Calculator\n",
    "from utils.fitting.smooth_jump import smooth_big_jump\n",
    "\n",
    "from viz.data import plot_data\n",
    "from utils.generic.enums.columns import *\n",
    "from utils.fitting.smooth_jump import perform_smoothing_experiment\n",
    "from viz.utils import setup_plt, axis_formatter"
   ]
  },
  {
   "cell_type": "code",
   "execution_count": null,
   "metadata": {},
   "outputs": [],
   "source": [
    "config_filename = 'simulate_data.yaml'\n",
    "config = read_config(config_filename)"
   ]
  },
  {
   "cell_type": "code",
   "execution_count": null,
   "metadata": {},
   "outputs": [],
   "source": [
    "seed = 0\n",
    "num_trials = 5000"
   ]
  },
  {
   "cell_type": "code",
   "execution_count": null,
   "metadata": {},
   "outputs": [],
   "source": [
    "perform_smoothing_experiment(config, 'uniform')"
   ]
  },
  {
   "cell_type": "code",
   "execution_count": null,
   "metadata": {
    "jupyter": {
     "outputs_hidden": true
    }
   },
   "outputs": [],
   "source": [
    "np.random.seed(seed)\n",
    "results = []\n",
    "for i in range(num_trials):\n",
    "            results.append(perform_smoothing_experiment(config, 'uniform'))"
   ]
  },
  {
   "cell_type": "code",
   "execution_count": null,
   "metadata": {},
   "outputs": [],
   "source": [
    "np.array(results).mean(axis=0)"
   ]
  },
  {
   "cell_type": "code",
   "execution_count": null,
   "metadata": {},
   "outputs": [],
   "source": [
    "df_dict = perform_smoothing_experiment(config, 'weighted-mag', mode='plotting')\n",
    "df = df_dict['df']\n",
    "df_spike = df_dict['df_spike']\n",
    "df_spike_smooth = df_dict['df_spike_smooth']\n",
    "\n",
    "pickle(df_dict)"
   ]
  },
  {
   "cell_type": "code",
   "execution_count": null,
   "metadata": {},
   "outputs": [],
   "source": [
    "with open('../../../paper/smoothing/plotting/data_sim.pkl', 'wb+') as pickle_file:\n",
    "    pickle.dump(df_dict, pickle_file)"
   ]
  },
  {
   "cell_type": "code",
   "execution_count": null,
   "metadata": {},
   "outputs": [],
   "source": [
    "plt.rcParams.update({\n",
    "    'text.usetex': True,\n",
    "    'font.size': 20,\n",
    "    'font.family': 'Palatino',\n",
    " })"
   ]
  },
  {
   "cell_type": "code",
   "execution_count": null,
   "metadata": {},
   "outputs": [],
   "source": [
    "from data.processing.processing import get_data_from_tracker"
   ]
  },
  {
   "cell_type": "code",
   "execution_count": null,
   "metadata": {},
   "outputs": [],
   "source": [
    "config_filename = 'default.yaml'\n",
    "config1 = read_config(config_filename)\n",
    "\n",
    "df1 = get_data_from_tracker(state='Maharashtra', district='Mumbai', use_dataframe='data_all')['data_frame']\n",
    "df1 = df1[df1['date'] <= '2020-07-07']\n",
    "\n",
    "# Perform smoothing\n",
    "print('smoothing params', config1['fitting']['data']['smooth_jump_params'])\n",
    "df1_smooth, _ = smooth_big_jump(df1, config1['fitting']['data']['smooth_jump_params'])"
   ]
  },
  {
   "cell_type": "code",
   "execution_count": null,
   "metadata": {},
   "outputs": [],
   "source": [
    "mumbai_dict = {'df_mumbai' : df1, 'df_mumbai_smooth' : df1_smooth}\n",
    "\n",
    "with open('../../../paper/smoothing/plotting/data_mumbai.pkl', 'wb+') as pickle_file:\n",
    "    pickle.dump(mumbai_dict, pickle_file)"
   ]
  },
  {
   "cell_type": "code",
   "execution_count": null,
   "metadata": {},
   "outputs": [],
   "source": [
    "fig, axs = plt.subplots(figsize=(10, 10), nrows=2)\n",
    "ax = axs.flat[0]\n",
    "ax_twin = ax.twinx()\n",
    "plot_ax = ax\n",
    "for comp in ['active', 'recovered']:\n",
    "    if comp == 'active':\n",
    "        plot_ax = ax\n",
    "    else:\n",
    "        plot_ax = ax_twin\n",
    "    compartment = Columns.from_name(comp)\n",
    "    plot_ax.plot(df[compartments['date'][0].name].to_numpy(), df[compartment.name].to_numpy(),\n",
    "                 '--', color=compartment.color)\n",
    "    plot_ax.plot(df_spike[compartments['date'][0].name].to_numpy(), df_spike[compartment.name].to_numpy(),\n",
    "                 '-o', color=compartment.color, ms=5)\n",
    "    plot_ax.plot(df_spike_smooth[compartments['date'][0].name].to_numpy(), df_spike_smooth[compartment.name].to_numpy(),\n",
    "                 '-', color=compartment.color)\n",
    "#     plot_ax.tick_params(axis='y', labelcolor=compartment.color)\n",
    "#     plot_ax.set_ylabel(compartment.label, color=compartment.color)\n",
    "#     axis_formatter(plot_ax)\n",
    "legend_elements = [\n",
    "    Line2D([0], [0], ls='--', color='black', label='Sim Data, Unspiked'),\n",
    "    Line2D([0], [0], ls='-', marker='o', ms=5, color='black', label='Sim Data, Spiked'),\n",
    "    Line2D([0], [0], ls='-', color='black', label='Smoothed Data')\n",
    "]\n",
    "first_legend = ax.legend(handles=legend_elements, loc='lower right')\n",
    "ax.add_artist(first_legend)\n",
    "legend_elements = [\n",
    "    Line2D([0], [0], ls='-', color='orange', label=f'Active'),\n",
    "    Line2D([0], [0], ls='-', color='green', label=f'Recovered'),\n",
    "]\n",
    "# ax.legend(handles=legend_elements, loc=[0.018, 0.47])\n",
    "axis_formatter(ax)\n",
    "# ax.set_title('Comparison of smoothing algorithm with ground truth simulated data')\n",
    "# fig.savefig(f'../../../paper/plots/smoothing-simulated.pdf', format='pdf', bbox_inches='tight', pad_inches=0)\n",
    "\n",
    "ax1 = axs.flat[1]\n",
    "ax1_twin = ax1.twinx()\n",
    "plot_ax = ax1\n",
    "for comp in ['active', 'recovered']:\n",
    "    compartment = Columns.from_name(comp)\n",
    "    if comp == 'active':\n",
    "        plot_ax = ax1\n",
    "    else:\n",
    "        plot_ax = ax1_twin\n",
    "    \n",
    "    plot_ax.plot(df1[compartments['date'][0].name].to_numpy(), df1[compartment.name].to_numpy(),\n",
    "                 '-o', color=compartment.color)\n",
    "    plot_ax.plot(df1_smooth[compartments['date'][0].name].to_numpy(), df1_smooth[compartment.name].to_numpy(),\n",
    "                 '-', color=compartment.color)\n",
    "#     plot_ax.tick_params(axis='y', labelcolor=compartment.color)\n",
    "#     plot_ax.set_ylabel(compartment.label, color=compartment.color)\n",
    "#     axis_formatter(plot_ax)\n",
    "    \n",
    "# ax1.set_ylim(bottom=0, top=60000)\n",
    "# ax1_twin.set_ylim(bottom=-10000, top=60000)\n",
    "legend_elements = [\n",
    "    Line2D([0], [0], ls='-', marker='o', ms=5, color='black', label='Original Data'),\n",
    "    Line2D([0], [0], ls='-', color='black', label='Smoothed Data')\n",
    "]\n",
    "first_legend = ax1.legend(handles=legend_elements, loc='upper left')\n",
    "ax1.add_artist(first_legend)\n",
    "legend_elements = [\n",
    "    Line2D([0], [0], ls='-', color='orange', label=f'Active'),\n",
    "    Line2D([0], [0], ls='-', color='green', label=f'Recovered'),\n",
    "]\n",
    "# ax1.legend(handles=legend_elements, loc=[0.018, 0.55])\n",
    "axis_formatter(ax1)\n",
    "# ax1.set_title('Smoothing Algorithm Illustration for Mumbai, India')\n",
    "fig.tight_layout()\n",
    "# fig.savefig(f'../../../paper/plots/smoothing-combined-v4.pdf', format='pdf', bbox_inches='tight', pad_inches=0)"
   ]
  },
  {
   "cell_type": "code",
   "execution_count": null,
   "metadata": {},
   "outputs": [],
   "source": []
  },
  {
   "cell_type": "code",
   "execution_count": null,
   "metadata": {},
   "outputs": [],
   "source": []
  }
 ],
 "metadata": {
  "kernelspec": {
   "display_name": "Python 3",
   "language": "python",
   "name": "python3"
  },
  "language_info": {
   "codemirror_mode": {
    "name": "ipython",
    "version": 3
   },
   "file_extension": ".py",
   "mimetype": "text/x-python",
   "name": "python",
   "nbconvert_exporter": "python",
   "pygments_lexer": "ipython3"
  }
 },
 "nbformat": 4,
 "nbformat_minor": 4
}
