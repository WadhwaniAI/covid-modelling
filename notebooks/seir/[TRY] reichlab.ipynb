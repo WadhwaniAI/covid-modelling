{
 "cells": [
  {
   "cell_type": "code",
   "execution_count": null,
   "metadata": {},
   "outputs": [],
   "source": [
    "%load_ext autoreload\n",
    "%autoreload 2"
   ]
  },
  {
   "cell_type": "code",
   "execution_count": null,
   "metadata": {},
   "outputs": [],
   "source": [
    "import pandas as pd\n",
    "import geopandas as gpd\n",
    "import numpy as np\n",
    "import matplotlib.pyplot as plt\n",
    "import geoplot as gplt\n",
    "import geoplot.crs as gcrs\n",
    "import seaborn as sns\n",
    "import matplotlib.dates as mdates\n",
    "\n",
    "from scipy.stats import zscore\n",
    "\n",
    "import os\n",
    "import copy\n",
    "import pickle\n",
    "import re\n",
    "from datetime import datetime, date, timedelta\n",
    "from glob import glob\n",
    "\n",
    "from utils.generic.config import read_config, make_date_key_str\n",
    "from utils.generic.reichlab import *\n",
    "from viz.reichlab import *"
   ]
  },
  {
   "cell_type": "code",
   "execution_count": null,
   "metadata": {},
   "outputs": [],
   "source": [
    "first_run = '2020_1022_014310'\n",
    "aug22 = '2020_1031_203437'\n",
    "aug29 = '2020_1031_211038'\n",
    "sept05 = '2020_1031_181912'"
   ]
  },
  {
   "cell_type": "code",
   "execution_count": null,
   "metadata": {},
   "outputs": [],
   "source": [
    "bad_dict = {}"
   ]
  },
  {
   "cell_type": "code",
   "execution_count": null,
   "metadata": {
    "jupyter": {
     "outputs_hidden": true
    }
   },
   "outputs": [],
   "source": [
    "predictions_pkl_filename = '/scratch/users/sansiddh/covid-modelling/2020_1031_211038/predictions_dict.pkl'\n",
    "with open(predictions_pkl_filename, 'rb') as f:\n",
    "    predictions_dict = pickle.load(f)"
   ]
  },
  {
   "cell_type": "code",
   "execution_count": null,
   "metadata": {},
   "outputs": [],
   "source": [
    "def full_comparison(predictions_dict):\n",
    "    config = predictions_dict[list(predictions_dict.keys())[0]]['m2']['run_params']\n",
    "    loss_comp = config['loss']['loss_compartments'][0]\n",
    "    data_last_date = config['split']['end_date']\n",
    "\n",
    "    date_of_submission = (data_last_date + timedelta(days=2)).strftime('%Y-%m-%d')\n",
    "    if loss_comp == 'deceased':\n",
    "        comp = 'cum_death'\n",
    "    if loss_comp == 'total':\n",
    "        comp = 'inc_case'\n",
    "        \n",
    "    print(date_of_submission)\n",
    "    print(comp)\n",
    "\n",
    "    list_of_models = get_list_of_models(date_of_submission, comp, reichlab_path='../../../covid19-forecast-hub')\n",
    "    df_all_submissions = process_all_submissions(list_of_models, date_of_submission, comp, reichlab_path='../../../covid19-forecast-hub')\n",
    "    df_gt, df_gt_loss, df_gt_loss_wk, loc_name_to_key_dict = process_gt(comp, df_all_submissions, reichlab_path='../../../covid19-forecast-hub')\n",
    "\n",
    "    df_wiai_submission = format_wiai_submission(predictions_dict, df_all_submissions, loc_name_to_key_dict, use_as_point_forecast='best')\n",
    "    df_all_submissions = combine_wiai_subm_with_all(df_all_submissions, df_wiai_submission, comp)\n",
    "\n",
    "    df_comb, df_mape, df_rank = compare_gt_pred(df_all_submissions, df_gt_loss_wk)\n",
    "\n",
    "    num_models = len(df_mape.median(axis=1))\n",
    "    print(f'Total # of models - {num_models}')\n",
    "    print(df_mape.median(axis=1).sort_values())\n",
    "    print(df_rank.median(axis=1).sort_values())\n",
    "\n",
    "    df = calculate_z_score(df_mape, df_rank, model_name='Wadhwani_AI')\n",
    "\n",
    "    fig = create_heatmap(df, var_name='z_score', center=0)\n",
    "    fig = create_heatmap(df, var_name='model_rank', center=num_models//2)\n",
    "\n",
    "    df_wadhwani = combine_with_train_error(predictions_dict, df)\n",
    "    \n",
    "    print(f'# -ve Z score {len(df_wadhwani[df_wadhwani[\"z_score\"] <= 0])}')\n",
    "    print(f'# +ve Z score {len(df_wadhwani[df_wadhwani[\"z_score\"] > 0])}')\n",
    "    \n",
    "    fig = create_scatter_plot_mape(df_wadhwani, annotate=True)\n",
    "    fig = create_scatter_plot_mape(df_wadhwani, annotate=False)\n",
    "\n",
    "    df_bad = df_wadhwani[df_wadhwani['z_score'] > 0]\n",
    "\n",
    "    return date_of_submission, df_bad"
   ]
  },
  {
   "cell_type": "code",
   "execution_count": null,
   "metadata": {},
   "outputs": [],
   "source": [
    "date_of_submission, df_bad = full_comparison(predictions_dict)\n",
    "bad_dict[date_of_submission] = df_bad"
   ]
  },
  {
   "cell_type": "code",
   "execution_count": null,
   "metadata": {
    "jupyter": {
     "outputs_hidden": true,
     "source_hidden": true
    }
   },
   "outputs": [],
   "source": [
    "for col_name, mapes in df_mape.loc[:, df_bad.index].iteritems():\n",
    "    fig, ax = plt.subplots(figsize=(18, 2))\n",
    "    sns.heatmap(mapes.to_numpy().reshape(1, -1), cmap='Reds', ax=ax, xticklabels=mapes.index, annot=True)\n",
    "    ax.set_title(col_name)\n",
    "    plt.show()"
   ]
  },
  {
   "cell_type": "code",
   "execution_count": null,
   "metadata": {
    "jupyter": {
     "outputs_hidden": true,
     "source_hidden": true
    }
   },
   "outputs": [],
   "source": [
    "for state in df_bad.index:\n",
    "    print(state)\n",
    "    fig = predictions_dict[state]['m1']['plots']['fit']\n",
    "    show_figure(fig)\n",
    "    fig.show()\n",
    "    fig = predictions_dict[state]['m2']['plots']['fit']\n",
    "    show_figure(fig)\n",
    "    fig.show()"
   ]
  },
  {
   "cell_type": "code",
   "execution_count": null,
   "metadata": {},
   "outputs": [],
   "source": []
  }
 ],
 "metadata": {
  "kernelspec": {
   "display_name": "Python (covid)",
   "language": "python",
   "name": "covid"
  },
  "language_info": {
   "codemirror_mode": {
    "name": "ipython",
    "version": 3
   },
   "file_extension": ".py",
   "mimetype": "text/x-python",
   "name": "python",
   "nbconvert_exporter": "python",
   "pygments_lexer": "ipython3"
  }
 },
 "nbformat": 4,
 "nbformat_minor": 4
}
