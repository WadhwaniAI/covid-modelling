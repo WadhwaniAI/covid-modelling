{
 "cells": [
  {
   "cell_type": "code",
   "execution_count": null,
   "metadata": {},
   "outputs": [],
   "source": [
    "%load_ext autoreload\n",
    "%autoreload 2"
   ]
  },
  {
   "cell_type": "code",
   "execution_count": null,
   "metadata": {},
   "outputs": [],
   "source": [
    "import pandas as pd\n",
    "import geopandas as gpd\n",
    "import numpy as np\n",
    "import matplotlib.pyplot as plt\n",
    "from matplotlib.lines import Line2D\n",
    "\n",
    "import sys\n",
    "sys.path.append('../../')\n",
    "\n",
    "from utils.fitting.loss import Loss_Calculator\n",
    "\n",
    "import os\n",
    "from copy import copy, deepcopy\n",
    "import pickle\n",
    "import re\n",
    "from datetime import datetime, date, timedelta\n",
    "from glob import glob\n",
    "\n",
    "from utils.generic.config import read_config\n",
    "from utils.generic.reichlab import *\n",
    "from viz.reichlab import *\n",
    "from viz import plot_ptiles\n",
    "from viz import axis_formatter\n",
    "from viz.uncertainty import plot_ptiles_reichlab"
   ]
  },
  {
   "cell_type": "code",
   "execution_count": null,
   "metadata": {},
   "outputs": [],
   "source": [
    "us_states_abbv_dict = get_mapping(which='location_name_to_abbv')\n",
    "us_states_loc_dict = get_mapping(which='location_name_to_code')"
   ]
  },
  {
   "cell_type": "code",
   "execution_count": null,
   "metadata": {
    "jupyter": {
     "outputs_hidden": true
    }
   },
   "outputs": [],
   "source": [
    "predictions_pkl_filename = '/Users/sansiddhjain/projects/covid/2020_1111_162416_beta/predictions_dict.pkl'\n",
    "with open(predictions_pkl_filename, 'rb') as f:\n",
    "    predictions_dict = pickle.load(f)"
   ]
  },
  {
   "cell_type": "code",
   "execution_count": null,
   "metadata": {},
   "outputs": [],
   "source": [
    "plt.rcParams.update({\n",
    "    'text.usetex': True,\n",
    "    'font.size': 20,\n",
    "    'font.family': 'Palatino',\n",
    "})"
   ]
  },
  {
   "cell_type": "code",
   "execution_count": null,
   "metadata": {},
   "outputs": [],
   "source": [
    "df_gt, _, _ = process_gt('cum_death', '2020-10-01', '2020-12-31')"
   ]
  },
  {
   "cell_type": "code",
   "execution_count": null,
   "metadata": {},
   "outputs": [],
   "source": [
    "df_comb, df_mape, df_rank = end_to_end_comparison('predictions_dict', predictions_dict=predictions_dict, process_wiai_submission=True, \n",
    "                                                  drop_territories=True)"
   ]
  },
  {
   "cell_type": "code",
   "execution_count": null,
   "metadata": {},
   "outputs": [],
   "source": [
    "df_comb = df_comb.loc[(df_comb['model'] == 'Wadhwani_AI-BayesOpt') & (df_comb['type'] == 'point')]\n",
    "states = pd.unique(df_comb['location_name'])\n",
    "fig, axs = plt.subplots(figsize=(18, 7*np.ceil(len(states)/2)), nrows=int(np.ceil(len(states)/2)), ncols=2)\n",
    "for i, state in enumerate(states):\n",
    "    df_temp = df_comb.loc[(df_comb['location_name'] == state)]\n",
    "    ax = axs.flat[i]\n",
    "#     ax.plot(df_temp['target_end_date'], df_temp['true_value'], '-o', color='red', label='True Deaths')\n",
    "    ax.plot(df_temp['target_end_date'], df_temp['forecast_value'], '--o', color='red', label='Forecast Deaths (Test)')\n",
    "    for i, row in df_temp.iterrows():\n",
    "        ax.text(row['target_end_date']+timedelta(hours=8), row['forecast_value'], '{}\\%'.format(np.around(row['mape'], 2)))\n",
    "        \n",
    "    df_pred_trainper = deepcopy(predictions_dict[state]['m2']['forecasts']['ensemble_mean'])\n",
    "    df_pred_trainper = df_pred_trainper[df_pred_trainper['date'] < min(df_comb['target_end_date'])]\n",
    "    \n",
    "    df_gt_plot = df_gt[df_gt['location_name'] == state]\n",
    "    df_gt_plot = df_gt_plot[df_gt_plot['date'] >= min(df_pred_trainper['date'])]\n",
    "    \n",
    "    df_train = deepcopy(predictions_dict[state]['m1']['df_district'])\n",
    "    df_train = df_train[df_train['date'] >= min(df_pred_trainper['date'])]\n",
    "    \n",
    "    ax.plot(df_gt_plot['date'], df_gt_plot['value'], '-', color='red', label='True Deaths')\n",
    "    ax.plot(df_pred_trainper['date'], df_pred_trainper['deceased'], '--', color='red', label='Forecast Deaths (Train)')\n",
    "    \n",
    "    ax.axvline(df_train.iloc[-1]['date'], ls=':', c='black', label='Train Ends')\n",
    "    \n",
    "    axis_formatter(ax)\n",
    "    ax.set_xlim(ax.get_xlim()[0], ax.get_xlim()[1] + 4)\n",
    "    ax.set_title(state)\n",
    "fig.tight_layout()"
   ]
  },
  {
   "cell_type": "code",
   "execution_count": null,
   "metadata": {},
   "outputs": [],
   "source": [
    "fig.savefig('reichlab-state-wise-forecast-comparison.pdf', format='pdf')"
   ]
  },
  {
   "cell_type": "code",
   "execution_count": null,
   "metadata": {},
   "outputs": [],
   "source": [
    "df_comb, df_mape, df_rank = end_to_end_comparison('predictions_dict', date_of_submission='2020-12-21', \n",
    "                                                  predictions_dict=predictions_dict, use_as_point_forecast=35,\n",
    "                                                  process_wiai_submission=True)"
   ]
  },
  {
   "cell_type": "code",
   "execution_count": null,
   "metadata": {},
   "outputs": [],
   "source": [
    "df = deepcopy(predictions_dict['Arkansas']['m2']['forecasts'][25])\n",
    "df = df.set_index('date')\n",
    "df.loc['2020-12-21':'2021-01-13', 'deceased']"
   ]
  },
  {
   "cell_type": "code",
   "execution_count": null,
   "metadata": {},
   "outputs": [],
   "source": [
    "pd.set_option('display.max_rows', None)"
   ]
  },
  {
   "cell_type": "code",
   "execution_count": null,
   "metadata": {
    "jupyter": {
     "outputs_hidden": true
    }
   },
   "outputs": [],
   "source": [
    "df_temp = df_comb[df_comb['type'] == 'point']\n",
    "df_temp.groupby(['model', 'location','location_name', 'target']).mean().loc[('Wadhwani_AI-BayesOpt')]"
   ]
  },
  {
   "cell_type": "code",
   "execution_count": null,
   "metadata": {},
   "outputs": [],
   "source": [
    "create_performance_table(df_mape, df_rank)"
   ]
  },
  {
   "cell_type": "markdown",
   "metadata": {},
   "source": [
    "# Plotting"
   ]
  },
  {
   "cell_type": "code",
   "execution_count": null,
   "metadata": {},
   "outputs": [],
   "source": [
    "df_zscore = calculate_z_score(df_mape, df_rank, model_name='Wadhwani_AI-BayesOpt')\n",
    "\n",
    "fig, ax = create_heatmap(df_zscore, var_name='non_param_z_score', center=0)\n",
    "\n",
    "df_wadhwani = combine_with_train_error(predictions_dict, df_zscore)\n",
    "\n",
    "print(f'# -ve non param Z score {len(df_wadhwani[df_wadhwani[\"non_param_z_score\"] <= 0])}')\n",
    "print(f'# +ve non param Z score {len(df_wadhwani[df_wadhwani[\"non_param_z_score\"] > 0])}')\n",
    "\n",
    "fig = create_scatter_plot_mape(df_wadhwani, annotate=True, abbv=True, abbv_dict=us_states_abbv_dict, \n",
    "                               stat_metric_to_use='non_param_z_score', log_scale=True)"
   ]
  },
  {
   "cell_type": "code",
   "execution_count": null,
   "metadata": {},
   "outputs": [],
   "source": [
    "quant = 0.8\n",
    "fig, ax = error_barchart(df_comb, quant, color='firebrick', latex=False)\n",
    "# fig.savefig(f'../../../paper/plots/quant-loss-{quant}.pdf',\n",
    "#             format='pdf', bbox_inches='tight', pad_inches=0)"
   ]
  },
  {
   "cell_type": "code",
   "execution_count": null,
   "metadata": {},
   "outputs": [],
   "source": [
    "quantiles = pd.unique(df_comb['quantile'])[:-1]\n",
    "df_med_mape_allqs = pd.DataFrame(index=pd.unique(df_comb['model']), columns=quantiles)\n",
    "\n",
    "for quant in quantiles:\n",
    "    df_temp = df_comb[df_comb['quantile'] == quant]\n",
    "    df_mape = df_temp.groupby(['model', 'location', 'location_name']).mean().reset_index()\n",
    "\n",
    "    df_mape = df_mape.pivot(index='model', columns='location_name',\n",
    "                            values='mape_perc')\n",
    "    df_temp = df_mape.loc[:, np.logical_not(df_mape.loc['Wadhwani_AI-BayesOpt', :].isna())]\n",
    "    df_med_qmape = pd.DataFrame([df_temp.median(axis=1)]).T\n",
    "    df_med_mape_allqs.loc[:, quant] = df_med_qmape[0]"
   ]
  },
  {
   "cell_type": "code",
   "execution_count": null,
   "metadata": {},
   "outputs": [],
   "source": [
    "fig, ax = plt.subplots(figsize=(10, 6))\n",
    "for model in df_med_mape_allqs.index:\n",
    "    if model == 'Wadhwani_AI-BayesOpt':\n",
    "        ax.plot(df_med_mape_allqs.columns, df_med_mape_allqs.loc[model, :], color='tab:orange')\n",
    "    elif model == 'UMass-MechBayes':\n",
    "        ax.plot(df_med_mape_allqs.columns, df_med_mape_allqs.loc[model, :], color='darkgreen')\n",
    "    else:\n",
    "        ax.plot(df_med_mape_allqs.columns, df_med_mape_allqs.loc[model, :], color='lightgrey')\n",
    "\n",
    "ax.set_ylabel('Quantile Loss MAPE')\n",
    "ax.set_xlabel('Quantile')\n",
    "ax.set_xticks([0, 0.1, 0.2, 0.3, 0.4, 0.5, 0.6, 0.7, 0.8, 0.9, 1])\n",
    "\n",
    "legend_elements = [\n",
    "    Line2D([0], [0], ls='-', color='darkgreen', label='UMass-MechBayes'),\n",
    "    Line2D([0], [0], ls='-', color='tab:orange', label='ABMA'),\n",
    "    Line2D([0], [0], ls='-', color='lightgrey', label='Others')\n",
    "]\n",
    "\n",
    "ax.legend(handles=legend_elements)\n",
    "# ax.set_title('Median Quantile Loss across states for all quantiles')\n",
    "fig.savefig('../../../paper/plots/qtile-loss-reichlab.pdf', format='pdf', bbox_inches='tight', pad_inches=0)"
   ]
  },
  {
   "cell_type": "code",
   "execution_count": null,
   "metadata": {},
   "outputs": [],
   "source": [
    "from matplotlib.lines import Line2D\n",
    "from matplotlib.patches import Patch"
   ]
  },
  {
   "cell_type": "code",
   "execution_count": null,
   "metadata": {},
   "outputs": [],
   "source": [
    "fig, ax = plt.subplots(figsize=(12, 12))\n",
    "plot_ptiles_reichlab(df_comb, 'Wadhwani_AI-BayesOpt', int(us_states_loc_dict['Texas']), \n",
    "                     target='cum death', plot_true=True, plot_individual_curves=False, color='orangered', ax=ax, latex=True)\n",
    "plot_ptiles_reichlab(df_comb, 'UMass-MechBayes', int(us_states_loc_dict['Texas']), \n",
    "                     target='cum death', plot_true=True, plot_individual_curves=False, color='cornflowerblue', ax=ax, latex=True)\n",
    "legend_elements = [\n",
    "    Line2D([0], [0], ls='--', marker='o', color='red', label=f'Cum Death (Observed)'), \n",
    "    Line2D([0], [0], ls='-', marker='o', color='orange', label=f'Wadhwani\\_AI-BayesOpt Point Forecast'),\n",
    "    Line2D([0], [0], ls='-', marker='o', color='green', label=f'UMass-MechBayes Point Forecast'),\n",
    "    Patch(facecolor='orangered', edgecolor='orangered', alpha=0.1, label=f'Wadhwani\\_AI-BayesOpt 95\\% CI'),\n",
    "    Patch(facecolor='cornflowerblue', edgecolor='cornflowerblue', alpha=0.1, label=f'UMass-MechBayes 95\\% CI')\n",
    "]\n",
    "ax.legend(handles=legend_elements)\n",
    "ax.grid()\n",
    "ax.set_xlim(ax.get_xlim()[0], ax.get_xlim()[1] - 18)\n",
    "ax.set_title('Cumulative Death Forecasts for Texas')\n",
    "fig.savefig('../../../paper/plots/95pc-ci-reichlab.pdf', format='pdf', bbox_inches='tight', pad_inches=0)"
   ]
  },
  {
   "cell_type": "code",
   "execution_count": null,
   "metadata": {},
   "outputs": [],
   "source": [
    "create_performance_table(df_mape, df_rank)"
   ]
  },
  {
   "cell_type": "code",
   "execution_count": null,
   "metadata": {},
   "outputs": [],
   "source": [
    "gdf = preprocess_shape_file(filename='cb_2018_us_state_5m/cb_2018_us_state_5m.shp')"
   ]
  },
  {
   "cell_type": "code",
   "execution_count": null,
   "metadata": {},
   "outputs": [],
   "source": [
    "df_wadhwani = calculate_z_score(df_mape, df_rank)"
   ]
  },
  {
   "cell_type": "code",
   "execution_count": null,
   "metadata": {},
   "outputs": [],
   "source": [
    "vars_to_plot = {\n",
    "    'non_param_z_score' : {'cmap':'RdYlGn_r', 'vmin':-1, 'vcenter':0, 'vmax':1},\n",
    "    'model_rank' : {'cmap':'Purples', 'vmin':0, 'vcenter':13, 'vmax':26},\n",
    "}\n",
    "fig, axs = plot_multiple_choropleths(df_wadhwani, gdf, vars_to_plot)\n",
    "fig.savefig('../../../paper/plots/choropleth.pdf', format='pdf', bbox_inches='tight', pad_inches=0)"
   ]
  },
  {
   "cell_type": "code",
   "execution_count": null,
   "metadata": {},
   "outputs": [],
   "source": []
  }
 ],
 "metadata": {
  "kernelspec": {
   "display_name": "Python (covid)",
   "language": "python",
   "name": "covid"
  },
  "language_info": {
   "codemirror_mode": {
    "name": "ipython",
    "version": 3
   },
   "file_extension": ".py",
   "mimetype": "text/x-python",
   "name": "python",
   "nbconvert_exporter": "python",
   "pygments_lexer": "ipython3"
  }
 },
 "nbformat": 4,
 "nbformat_minor": 4
}
