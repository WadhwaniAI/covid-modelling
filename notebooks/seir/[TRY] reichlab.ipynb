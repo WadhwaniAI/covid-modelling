{
 "cells": [
  {
   "cell_type": "code",
   "execution_count": null,
   "metadata": {},
   "outputs": [],
   "source": [
    "%load_ext autoreload\n",
    "%autoreload 2"
   ]
  },
  {
   "cell_type": "code",
   "execution_count": null,
   "metadata": {},
   "outputs": [],
   "source": [
    "import pandas as pd\n",
    "import geopandas as gpd\n",
    "import numpy as np\n",
    "import matplotlib.pyplot as plt\n",
    "\n",
    "import sys\n",
    "sys.path.append('../../')\n",
    "\n",
    "from utils.fitting.loss import Loss_Calculator\n",
    "\n",
    "import os\n",
    "from copy import copy, deepcopy\n",
    "import pickle\n",
    "import re\n",
    "from datetime import datetime, date, timedelta\n",
    "from glob import glob\n",
    "\n",
    "from utils.generic.config import read_config\n",
    "from utils.generic.reichlab import *\n",
    "from viz.reichlab import *\n",
    "from viz import plot_ptiles\n",
    "from viz import axis_formatter\n",
    "from viz.uncertainty import plot_ptiles_reichlab"
   ]
  },
  {
   "cell_type": "code",
   "execution_count": null,
   "metadata": {},
   "outputs": [],
   "source": [
    "us_states_abbv_dict = get_mapping(which='location_name_to_abbv')\n",
    "us_states_loc_dict = get_mapping(which='location_name_to_code')"
   ]
  },
  {
   "cell_type": "code",
   "execution_count": null,
   "metadata": {
    "jupyter": {
     "outputs_hidden": true
    }
   },
   "outputs": [],
   "source": [
    "predictions_pkl_filename = '/Users/sansiddhjain/projects/covid/2020_1214_194241_comb//predictions_dict.pkl'\n",
    "with open(predictions_pkl_filename, 'rb') as f:\n",
    "    predictions_dict = pickle.load(f)"
   ]
  },
  {
   "cell_type": "code",
   "execution_count": null,
   "metadata": {},
   "outputs": [],
   "source": [
    "plt.rcParams.update({\n",
    "    'text.usetex': True,\n",
    "    'font.size': 15,\n",
    "    'font.family': 'Palatino',\n",
    "})"
   ]
  },
  {
   "cell_type": "code",
   "execution_count": null,
   "metadata": {
    "jupyter": {
     "outputs_hidden": true
    }
   },
   "outputs": [],
   "source": [
    "predictions_pkl_filename = '/Users/sansiddhjain/projects/covid/2020_1111_162416_beta/predictions_dict.pkl'\n",
    "with open(predictions_pkl_filename, 'rb') as f:\n",
    "    predictions_dict = pickle.load(f)"
   ]
  },
  {
   "cell_type": "code",
   "execution_count": null,
   "metadata": {},
   "outputs": [],
   "source": [
    "import matplotlib as mpl\n",
    "## for Palatino and other serif fonts use:\n",
    "plt.rcParams.update({\n",
    "    'text.usetex': True,\n",
    "    'font.size': 15,\n",
    "    'font.family': 'Palatino',\n",
    " })"
   ]
  },
  {
   "cell_type": "code",
   "execution_count": null,
   "metadata": {},
   "outputs": [],
   "source": [
    "try:\n",
    "    config = predictions_dict[list(predictions_dict.keys())[0]]['m2']['run_params']\n",
    "except:\n",
    "    config_filename = 'us2.yaml'\n",
    "    config = read_config(config_filename)['fitting']\n",
    "\n",
    "loss_comp = config['loss']['loss_compartments'][0]\n",
    "data_last_date = config['split']['end_date']\n",
    "date_of_submission = (data_last_date + timedelta(days=2)).strftime('%Y-%m-%d')\n",
    "if loss_comp == 'deceased':\n",
    "    comp = 'cum_death'\n",
    "if loss_comp == 'total':\n",
    "    comp = 'cum_case'\n",
    "print(comp)\n",
    "print(date_of_submission)\n",
    "\n",
    "list_of_models = get_list_of_models(date_of_submission, comp, reichlab_path='../../../covid19-forecast-hub',\n",
    "                                    num_submissions_filter=45)\n",
    "df_all_submissions = process_all_submissions(list_of_models, date_of_submission, comp, reichlab_path='../../../covid19-forecast-hub')\n",
    "df_gt, df_gt_loss, df_gt_loss_wk = process_gt(comp, df_all_submissions, reichlab_path='../../../covid19-forecast-hub')\n",
    "\n",
    "df_wiai_submission = format_wiai_submission(predictions_dict, loc_name_to_key_dict, which_fit='m2', \n",
    "                                            use_as_point_forecast='ensemble_mean', skip_percentiles=False)\n",
    "\n",
    "df_all_submissions = combine_wiai_subm_with_all(df_all_submissions, df_wiai_submission, comp)\n",
    "\n",
    "df_comb, df_mape, df_rank = compare_gt_pred(df_all_submissions, df_gt_loss_wk)\n",
    "df_mape.drop(['Guam', 'Virgin Islands', 'Northern Mariana Islands'], axis=1, inplace=True)\n",
    "df_rank.drop(['Guam', 'Virgin Islands', 'Northern Mariana Islands'], axis=1, inplace=True)\n",
    "\n",
    "num_models = len(df_mape.median(axis=1))\n",
    "print(f'Total # of models - {num_models}')\n",
    "median_mape = df_mape.loc[:, np.logical_not(df_mape.loc['Wadhwani_AI', :].isna())].median(axis=1).rename('median_mape')\n",
    "median_rank = df_rank.loc[:, np.logical_not(df_rank.loc['Wadhwani_AI', :].isna())].median(axis=1).rename('median_rank')\n",
    "merged = pd.concat([median_mape, median_rank], axis=1)"
   ]
  },
  {
   "cell_type": "code",
   "execution_count": null,
   "metadata": {},
   "outputs": [],
   "source": [
    "df = calculate_z_score(df_mape, df_rank, model_name='Wadhwani_AI')\n",
    "\n",
    "fig, ax = create_heatmap(df, var_name='non_param_z_score', center=0)\n",
    "fig.savefig('../../../paper/plots/heatmap-non-param-z-score.pdf', format='pdf', bbox_inches='tight', pad_inches=0)\n",
    "\n",
    "fig, ax = create_heatmap(df_zscore, var_name='non_param_z_score', center=0)\n",
    "\n",
    "df_wadhwani = combine_with_train_error(predictions_dict, df_zscore)\n",
    "\n",
    "print(f'# -ve non param Z score {len(df_wadhwani[df_wadhwani[\"non_param_z_score\"] <= 0])}')\n",
    "print(f'# +ve non param Z score {len(df_wadhwani[df_wadhwani[\"non_param_z_score\"] > 0])}')\n",
    "\n",
    "fig = create_scatter_plot_mape(df_wadhwani, annotate=True, abbv=True, abbv_dict=us_states_abbv_dict, \n",
    "                               stat_metric_to_use='non_param_z_score', log_scale=True)\n",
    "\n",
    "fig.savefig('../../../paper/plots/train-test-scatter.pdf', format='pdf', bbox_inches='tight', pad_inches=0)"
   ]
  },
  {
   "cell_type": "code",
   "execution_count": null,
   "metadata": {},
   "outputs": [],
   "source": [
    "model, state = ('Karlen-pypm', 'Texas')\n",
    "fig, ax = plot_ptiles_reichlab(df_comb, model, state, compartment='deceased')\n",
    "fig.savefig(f'../../../paper/plots/ptiles-{model}-{state}.pdf', format='pdf', bbox_inches='tight', pad_inches=0)"
   ]
  },
  {
   "cell_type": "code",
   "execution_count": null,
   "metadata": {},
   "outputs": [],
   "source": [
    "model, state = ('Wadhwani_AI-BayesOpt', 'Texas')\n",
    "fig, ax = plot_ptiles_reichlab(df_comb, model, state, compartment='deceased')\n",
    "fig.savefig(f'../../../paper/plots/ptiles-{model}-{state}.pdf', format='pdf', bbox_inches='tight', pad_inches=0)"
   ]
  },
  {
   "cell_type": "code",
   "execution_count": null,
   "metadata": {},
   "outputs": [],
   "source": [
    "model, state = ('Wadhwani_AI', 'Texas')\n",
    "fig, ax = plot_ptiles_reichlab(df_comb, model, state, compartment='deceased')\n",
    "fig.savefig(f'../../../paper/plots/ptiles-{model}-{state}.pdf', format='pdf', bbox_inches='tight', pad_inches=0)"
   ]
  },
  {
   "cell_type": "code",
   "execution_count": null,
   "metadata": {},
   "outputs": [],
   "source": [
    "fig, axs = plt.subplots(figsize=(25, 12), nrows=1, ncols=3)\n",
    "ax0 = axs.flat[0]\n",
    "error_barchart(df_comb, quant=0.2, color='teal', ftype='quantile', loss_fn='mape_perc', plot_rank=False, ax=ax0)\n",
    "\n",
    "ax1 = axs.flat[1]\n",
    "error_barchart(df_comb, quant=0.5, color='C0', ftype='quantile', loss_fn='mape_perc', plot_rank=False, ax=ax1)\n",
    "\n",
    "ax2 = axs.flat[2]\n",
    "error_barchart(df_comb, quant=0.8, color='firebrick', ftype='quantile', loss_fn='mape_perc', plot_rank=False, ax=ax2)\n",
    "\n",
    "fig.tight_layout()"
   ]
  },
  {
   "cell_type": "code",
   "execution_count": null,
   "metadata": {},
   "outputs": [],
   "source": [
    "quant = 0.8\n",
    "fig, ax = error_barchart(df_comb, quant, color='firebrick', latex=False)\n",
    "# fig.savefig(f'../../../paper/plots/quant-loss-{quant}.pdf',\n",
    "#             format='pdf', bbox_inches='tight', pad_inches=0)"
   ]
  },
  {
   "cell_type": "code",
   "execution_count": null,
   "metadata": {},
   "outputs": [],
   "source": [
    "quantiles = pd.unique(df_comb['quantile'])[:-1]\n",
    "df_med_mape_allqs = pd.DataFrame(index=pd.unique(df_comb['model']), columns=quantiles)\n",
    "\n",
    "for quant in quantiles:\n",
    "    df_temp = df_comb[df_comb['quantile'] == quant]\n",
    "    df_mape = df_temp.groupby(['model', 'location', 'location_name']).mean().reset_index()\n",
    "\n",
    "    df_mape = df_mape.pivot(index='model', columns='location_name',\n",
    "                            values='mape_perc')\n",
    "    df_temp = df_mape.loc[:, np.logical_not(df_mape.loc['Wadhwani_AI-BayesOpt', :].isna())]\n",
    "    df_med_qmape = pd.DataFrame([df_temp.median(axis=1)]).T\n",
    "    df_med_mape_allqs.loc[:, quant] = df_med_qmape[0]"
   ]
  },
  {
   "cell_type": "code",
   "execution_count": null,
   "metadata": {},
   "outputs": [],
   "source": [
    "fig, ax = plt.subplots(figsize=(12, 12))\n",
    "for model in df_med_mape_allqs.index:\n",
    "    color = 'C0' if model == 'Wadhwani_AI-BayesOpt' else 'lightgrey'\n",
    "    label = model if model == 'Wadhwani_AI-BayesOpt' else None\n",
    "    if model == 'Wadhwani_AI-BayesOpt':\n",
    "        ax.plot(df_med_mape_allqs.columns, df_med_mape_allqs.loc[model, :], label='Wadhwani\\_AI-BayesOpt', color='orangered')\n",
    "    elif model == 'UMass-MechBayes':\n",
    "        ax.plot(df_med_mape_allqs.columns, df_med_mape_allqs.loc[model, :], label='UMass-MechBayes', color='cornflowerblue')\n",
    "#     elif model == 'YYG-ParamSearch':\n",
    "#         ax.plot(df_med_mape_allqs.columns, df_med_mape_allqs.loc[model, :], label='YYG-ParamSearch', color='goldenrod')\n",
    "    else:\n",
    "        ax.plot(df_med_mape_allqs.columns, df_med_mape_allqs.loc[model, :], color='lightgrey')\n",
    "\n",
    "ax.set_ylabel('Quantile Loss MAPE')\n",
    "ax.set_xlabel('Quantile')\n",
    "ax.set_xticks([0, 0.1, 0.2, 0.3, 0.4, 0.5, 0.6, 0.7, 0.8, 0.9, 1])\n",
    "ax.legend()\n",
    "ax.set_title('Median Quantile Loss across states for all quantiles')\n",
    "fig.savefig('../../../paper/plots/qtile-loss-reichlab.pdf', format='pdf', bbox_inches='tight', pad_inches=0)"
   ]
  },
  {
   "cell_type": "code",
   "execution_count": null,
   "metadata": {},
   "outputs": [],
   "source": [
    "from matplotlib.lines import Line2D\n",
    "from matplotlib.patches import Patch"
   ]
  },
  {
   "cell_type": "code",
   "execution_count": null,
   "metadata": {},
   "outputs": [],
   "source": [
    "fig, ax = plt.subplots(figsize=(12, 12))\n",
    "plot_ptiles_reichlab(df_comb, 'Wadhwani_AI-BayesOpt', int(us_states_loc_dict['Texas']), \n",
    "                     target='cum death', plot_true=True, plot_individual_curves=False, color='orangered', ax=ax, latex=True)\n",
    "plot_ptiles_reichlab(df_comb, 'UMass-MechBayes', int(us_states_loc_dict['Texas']), \n",
    "                     target='cum death', plot_true=True, plot_individual_curves=False, color='cornflowerblue', ax=ax, latex=True)\n",
    "legend_elements = [\n",
    "    Line2D([0], [0], ls='--', marker='o', color='red', label=f'Cum Death (Observed)'), \n",
    "    Line2D([0], [0], ls='-', marker='o', color='orange', label=f'Wadhwani\\_AI-BayesOpt Point Forecast'),\n",
    "    Line2D([0], [0], ls='-', marker='o', color='green', label=f'UMass-MechBayes Point Forecast'),\n",
    "    Patch(facecolor='orangered', edgecolor='orangered', alpha=0.1, label=f'Wadhwani\\_AI-BayesOpt 95\\% CI'),\n",
    "    Patch(facecolor='cornflowerblue', edgecolor='cornflowerblue', alpha=0.1, label=f'UMass-MechBayes 95\\% CI')\n",
    "]\n",
    "ax.legend(handles=legend_elements)\n",
    "ax.grid()\n",
    "ax.set_xlim(ax.get_xlim()[0], ax.get_xlim()[1] - 18)\n",
    "ax.set_title('Cumulative Death Forecasts for Texas')\n",
    "fig.savefig('../../../paper/plots/95pc-ci-reichlab.pdf', format='pdf', bbox_inches='tight', pad_inches=0)"
   ]
  },
  {
   "cell_type": "code",
   "execution_count": null,
   "metadata": {},
   "outputs": [],
   "source": [
    "create_performance_table(df_mape, df_rank)"
   ]
  },
  {
   "cell_type": "code",
   "execution_count": null,
   "metadata": {},
   "outputs": [],
   "source": [
    "gdf = preprocess_shape_file(filename='cb_2018_us_state_5m/cb_2018_us_state_5m.shp')"
   ]
  },
  {
   "cell_type": "code",
   "execution_count": null,
   "metadata": {},
   "outputs": [],
   "source": [
    "df_wadhwani.loc[['Connecticut', 'Wyoming']]"
   ]
  },
  {
   "cell_type": "code",
   "execution_count": null,
   "metadata": {},
   "outputs": [],
   "source": [
    "vars_to_plot = {\n",
    "    'non_param_z_score' : {'cmap':'RdYlGn_r', 'vmin':-1, 'vcenter':0, 'vmax':1},\n",
    "    'model_rank' : {'cmap':'Purples', 'vmin':0, 'vcenter':13, 'vmax':26},\n",
    "}\n",
    "fig, axs = plot_multiple_choropleths(df_wadhwani, gdf, vars_to_plot)\n",
    "fig.savefig('../../../paper/plots/choropleth.pdf', format='pdf', bbox_inches='tight', pad_inches=0)"
   ]
  },
  {
   "cell_type": "code",
   "execution_count": null,
   "metadata": {},
   "outputs": [],
   "source": [
    "vars_to_plot = {\n",
    "    'z_score' : {'cmap':'RdYlGn_r', 'vmin':-1, 'vcenter':0, 'vmax':1},\n",
    "    'model_rank' : {'cmap':'Purples', 'vmin':0, 'vcenter':13, 'vmax':26},\n",
    "}\n",
    "fig, axs = plot_multiple_choropleths(df_wadhwani, gdf, vars_to_plot)"
   ]
  },
  {
   "cell_type": "code",
   "execution_count": null,
   "metadata": {
    "jupyter": {
     "outputs_hidden": true
    }
   },
   "outputs": [],
   "source": [
    "fig, ax = create_scatter_plot_zscores(df_wadhwani)"
   ]
  },
  {
   "cell_type": "code",
   "execution_count": null,
   "metadata": {},
   "outputs": [],
   "source": [
    "fig, axs = plot_ecdf_all_states(df_mape)"
   ]
  },
  {
   "cell_type": "code",
   "execution_count": null,
   "metadata": {},
   "outputs": [],
   "source": [
    "fig, axs = plt.subplots(figsize=(12, 6), ncols=2)\n",
    "plot_ecdf_single_state(df_mape, 'Connecticut', axs[0], model='Wadhwani_AI')\n",
    "plot_ecdf_single_state(df_mape, 'Wyoming', axs[1], model='Wadhwani_AI')\n",
    "fig.suptitle('Emperical Cumulative Distribution Plots')\n",
    "fig.savefig('../../../paper/plots/ecdf_plots.pdf', format='pdf', bbox_inches='tight', pad_inches=0)"
   ]
  },
  {
   "cell_type": "code",
   "execution_count": null,
   "metadata": {},
   "outputs": [],
   "source": [
    "fig, axs = plot_qq_all_states(df_mape, fit=False, df_wadhwani=df_wadhwani)"
   ]
  },
  {
   "cell_type": "code",
   "execution_count": null,
   "metadata": {},
   "outputs": [],
   "source": []
  }
 ],
 "metadata": {
  "kernelspec": {
   "display_name": "Python 3",
   "language": "python",
   "name": "python3"
  },
  "language_info": {
   "codemirror_mode": {
    "name": "ipython",
    "version": 3
   },
   "file_extension": ".py",
   "mimetype": "text/x-python",
   "name": "python",
   "nbconvert_exporter": "python",
   "pygments_lexer": "ipython3"
  }
 },
 "nbformat": 4,
 "nbformat_minor": 4
}
