{
 "cells": [
  {
   "cell_type": "code",
   "execution_count": null,
   "metadata": {},
   "outputs": [],
   "source": [
    "%load_ext autoreload\n",
    "%autoreload 2"
   ]
  },
  {
   "cell_type": "code",
   "execution_count": null,
   "metadata": {},
   "outputs": [],
   "source": [
    "import numpy as np\n",
    "import pandas as pd\n",
    "import matplotlib.pyplot as plt\n",
    "import matplotlib.dates as mdates\n",
    "import seaborn as sns\n",
    "\n",
    "import datetime\n",
    "import copy\n",
    "import json\n",
    "\n",
    "import sys\n",
    "sys.path.append('../../')\n",
    "\n",
    "from data.dataloader import Covid19IndiaLoader\n",
    "from data.processing import get_data\n",
    "from data.processing.whatifs import scale_up_acc_to_testing\n",
    "\n",
    "from models.seir import SEIRHD, SEIR_Testing, SEIR_Movement, SEIR_Movement_Testing\n",
    "\n",
    "from main.seir.fitting import single_fitting_cycle, get_variable_param_ranges\n",
    "from main.seir.uncertainty import MCUncertainty\n",
    "from main.seir.optimiser import Optimiser\n",
    "from main.seir.forecast import get_forecast, create_region_csv, create_all_csvs, write_csv, forecast_all_trials, trials_to_df, scale_up_testing_and_forecast\n",
    "from main.seir.sensitivity import gridsearch_single_param, calculate_sensitivity_and_plot\n",
    "\n",
    "from utils.create_report import create_report\n",
    "from utils.loss import Loss_Calculator\n",
    "from utils.enums import Columns\n",
    "from utils.enums.columns import *\n",
    "\n",
    "from viz import plot_forecast"
   ]
  },
  {
   "cell_type": "code",
   "execution_count": null,
   "metadata": {},
   "outputs": [],
   "source": [
    "predictions_dict = {}"
   ]
  },
  {
   "cell_type": "markdown",
   "metadata": {},
   "source": [
    "## Select Districts to fit on"
   ]
  },
  {
   "cell_type": "code",
   "execution_count": null,
   "metadata": {},
   "outputs": [],
   "source": [
    "state, district = ('Maharashtra', 'Mumbai')"
   ]
  },
  {
   "cell_type": "markdown",
   "metadata": {},
   "source": [
    "## Params"
   ]
  },
  {
   "cell_type": "code",
   "execution_count": null,
   "metadata": {},
   "outputs": [],
   "source": [
    "date_of_interest = '2020-07-31'\n",
    "forecast_days = 37\n",
    "now = datetime.datetime.now().strftime(\"%Y%m%d-%H%M%S\")\n",
    "folder = str(now)\n",
    "ktrials = 10"
   ]
  },
  {
   "cell_type": "markdown",
   "metadata": {},
   "source": [
    "## Perform M1 and M2 fits"
   ]
  },
  {
   "cell_type": "code",
   "execution_count": null,
   "metadata": {},
   "outputs": [],
   "source": [
    "predictions_dict['m1'] = single_fitting_cycle(\n",
    "    state, district, data_from_tracker=True, granular_data=False, filename=None, #Data\n",
    "    model=SEIRHD, #Choose Model and Ranges\n",
    "    train_period=21, val_period=30, num_evals=1000, initialisation='intermediate', #Optimisation related parameters\n",
    "    which_compartments=['total', 'active', 'recovered', 'deceased'], #Compartments to Apply Loss on \n",
    "    smooth_jump=True)\n",
    "\n",
    "predictions_dict['state'] = state\n",
    "predictions_dict['dist'] = district\n",
    "predictions_dict['fitting_date'] = datetime.datetime.now().strftime(\"%Y-%m-%d\")\n",
    "predictions_dict['datasource'] = 'covid19api' if predictions_dict['m1']['data_from_tracker'] else 'municipality'\n",
    "predictions_dict['variable_param_ranges'] = predictions_dict['m1']['variable_param_ranges']"
   ]
  },
  {
   "cell_type": "markdown",
   "metadata": {},
   "source": [
    "## Loss DataFrames"
   ]
  },
  {
   "cell_type": "markdown",
   "metadata": {},
   "source": [
    "### M1 Loss DataFrame"
   ]
  },
  {
   "cell_type": "code",
   "execution_count": null,
   "metadata": {},
   "outputs": [],
   "source": [
    "predictions_dict['m1']['df_loss']"
   ]
  },
  {
   "cell_type": "code",
   "execution_count": null,
   "metadata": {},
   "outputs": [],
   "source": []
  }
 ],
 "metadata": {
  "kernelspec": {
   "display_name": "Python 3",
   "language": "python",
   "name": "python3"
  },
  "language_info": {
   "codemirror_mode": {
    "name": "ipython",
    "version": 3
   },
   "file_extension": ".py",
   "mimetype": "text/x-python",
   "name": "python",
   "nbconvert_exporter": "python",
   "pygments_lexer": "ipython3"
  }
 },
 "nbformat": 4,
 "nbformat_minor": 4
}
