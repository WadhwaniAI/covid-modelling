{
 "cells": [
  {
   "cell_type": "code",
   "execution_count": null,
   "metadata": {
    "tags": []
   },
   "outputs": [],
   "source": [
    "%load_ext autoreload\n",
    "%autoreload 2"
   ]
  },
  {
   "cell_type": "code",
   "execution_count": null,
   "metadata": {},
   "outputs": [],
   "source": [
    "import numpy as np\n",
    "import matplotlib.pyplot as plt\n",
    "import datetime\n",
    "import copy\n",
    "import time\n",
    "\n",
    "import sys\n",
    "sys.path.append('../../')\n",
    "\n",
    "from data.processing import get_data\n",
    "\n",
    "import models\n",
    "\n",
    "from main.seir.fitting import single_fitting_cycle\n",
    "from main.seir.forecast import get_forecast, forecast_all_trials, create_all_trials_csv, create_decile_csv_new, predict_r0_multipliers, save_r0_mul\n",
    "from main.seir.sensitivity import calculate_sensitivity_and_plot\n",
    "from utils.generic.create_report import save_dict_and_create_report\n",
    "from utils.generic.config import read_config\n",
    "from utils.generic.enums import Columns\n",
    "from utils.fitting.loss import Loss_Calculator\n",
    "#from utils.generic.logging import log_wandb\n",
    "from viz import plot_forecast, plot_top_k_trials, plot_ptiles, plot_r0_multipliers, plot_daily_trend\n",
    "\n",
    "import yaml"
   ]
  },
  {
   "cell_type": "code",
   "execution_count": null,
   "metadata": {},
   "outputs": [],
   "source": [
    "predictions_dict = {}"
   ]
  },
  {
   "cell_type": "code",
   "execution_count": null,
   "metadata": {},
   "outputs": [],
   "source": [
    "# config_filename = 'jharkhand.yaml'\n",
    "config_filename = 'ranchi.yaml'\n",
    "# config_filename = 'east singhbhum.yaml'\n",
    "# config_filename = 'dhanbad.yaml'\n",
    "# config_filename = 'bokaro.yaml'\n",
    "config = read_config(config_filename)"
   ]
  },
  {
   "cell_type": "markdown",
   "metadata": {},
   "source": [
    "## Perform M0 fit"
   ]
  },
  {
   "cell_type": "code",
   "execution_count": null,
   "metadata": {},
   "outputs": [],
   "source": [
    "m0_params = copy.deepcopy(config['fitting'])\n",
    "if m0_params['data']['data_source'] == 'athena':\n",
    "    config['fitting']['data']['data_source'] = 'covid19india'\n",
    "    m0_tag = 'athena'\n",
    "    m1_tag = 'covid19india'\n",
    "else:\n",
    "    config['fitting']['data']['data_source'] = 'athena'\n",
    "    m0_tag = 'covid19india'\n",
    "    m1_tag = 'athena'\n",
    "m1_params = copy.deepcopy(config['fitting'])"
   ]
  },
  {
   "cell_type": "code",
   "execution_count": null,
   "metadata": {
    "tags": []
   },
   "outputs": [],
   "source": [
    "predictions_dict[m0_tag] = single_fitting_cycle(**m0_params)"
   ]
  },
  {
   "cell_type": "code",
   "execution_count": null,
   "metadata": {},
   "outputs": [],
   "source": [
    "predictions_dict[m1_tag] = single_fitting_cycle(**m1_params)"
   ]
  },
  {
   "cell_type": "code",
   "execution_count": null,
   "metadata": {},
   "outputs": [],
   "source": [
    "predictions_dict[m0_tag]['df_district']"
   ]
  },
  {
   "cell_type": "code",
   "execution_count": null,
   "metadata": {},
   "outputs": [],
   "source": [
    "predictions_dict[m1_tag]['df_district']"
   ]
  },
  {
   "cell_type": "code",
   "execution_count": null,
   "metadata": {},
   "outputs": [],
   "source": [
    "compartments_to_plot = ['total', 'active', 'recovered', 'deceased']\n",
    "colors = \"bygr\"\n",
    "markers = 'ox'\n",
    "fig = plt.figure(figsize=(20,20))\n",
    "for i,compartment in enumerate(compartments_to_plot):\n",
    "    for j, tag in enumerate(predictions_dict):\n",
    "        plt.plot(predictions_dict[tag]['df_district']['date'], predictions_dict[tag]['df_district'][compartment], marker=markers[j], color=colors[i], label=compartment+ ' ' + tag)\n",
    "plt.legend(loc='best', fontsize=20)\n",
    "plt.xlabel('date', fontsize=20)\n",
    "plt.ylabel('count', fontsize=20)\n",
    "plt.savefig(\"../../misc/reports/comparison_\" + config_filename.split('.')[0] + '.png')"
   ]
  },
  {
   "cell_type": "code",
   "execution_count": null,
   "metadata": {},
   "outputs": [],
   "source": []
  }
 ],
 "metadata": {
  "kernelspec": {
   "display_name": "Python 3.8.5 64-bit ('covid_modelling': conda)",
   "metadata": {
    "interpreter": {
     "hash": "8d4520c4ae250cc42f52066aee3414cc1b6850f2df392ef0f675cfc8e593b997"
    }
   },
   "name": "python3"
  },
  "language_info": {
   "codemirror_mode": {
    "name": "ipython",
    "version": 3
   },
   "file_extension": ".py",
   "mimetype": "text/x-python",
   "name": "python",
   "nbconvert_exporter": "python",
   "pygments_lexer": "ipython3"
  }
 },
 "nbformat": 4,
 "nbformat_minor": 4
}
