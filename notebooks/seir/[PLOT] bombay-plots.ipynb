{
 "cells": [
  {
   "cell_type": "code",
   "execution_count": null,
   "metadata": {},
   "outputs": [],
   "source": [
    "import pickle\n",
    "from glob import glob\n",
    "\n",
    "import matplotlib.pyplot as plt\n",
    "import numpy as np\n",
    "from matplotlib.lines import Line2D\n",
    "\n",
    "from utils.generic.config import read_config\n",
    "\n",
    "from viz import plot_forecast\n",
    "from utils.generic.enums.columns import *\n",
    "from viz.utils import axis_formatter"
   ]
  },
  {
   "cell_type": "markdown",
   "metadata": {},
   "source": [
    "# Mumbai Performance Plots"
   ]
  },
  {
   "cell_type": "code",
   "execution_count": null,
   "metadata": {},
   "outputs": [],
   "source": [
    "ROOT_DIR = '../../misc/reports'\n",
    "\n",
    "folder_name = 'start_period'\n",
    "with open(f'{ROOT_DIR}/{folder_name}/predictions_dict.pkl', 'rb') as f:\n",
    "    start_predictions_dict = pickle.load(f)\n",
    "    \n",
    "folder_name = 'mid_period'\n",
    "with open(f'{ROOT_DIR}/{folder_name}/predictions_dict.pkl', 'rb') as f:\n",
    "    mid_predictions_dict = pickle.load(f)\n",
    "    \n",
    "folder_name = 'end_period'\n",
    "config_filename = glob(f'{ROOT_DIR}/{folder_name}/*.yaml')[0]\n",
    "config = read_config(config_filename)\n",
    "\n",
    "with open(f'{ROOT_DIR}/{folder_name}/predictions_dict.pkl', 'rb') as f:\n",
    "    end_predictions_dict = pickle.load(f)"
   ]
  },
  {
   "cell_type": "code",
   "execution_count": null,
   "metadata": {
    "jupyter": {
     "source_hidden": true
    }
   },
   "outputs": [],
   "source": [
    "def return_test_error(predictions_dict):\n",
    "    em_forecast = copy.deepcopy(predictions_dict['m2']['forecasts']['ensemble_mean'])\n",
    "    df_train = copy.deepcopy(predictions_dict['m2']['df_train'])\n",
    "    df_district = copy.deepcopy(predictions_dict['m2']['df_district'])\n",
    "    df_district = df_district[df_district['date'] > predictions_dict['m2']['df_train'].iloc[-1]['date']].reset_index(drop=True)\n",
    "    em_forecast = em_forecast[em_forecast['date'] > predictions_dict['m2']['df_train'].iloc[-1]['date']].reset_index(drop=True)\n",
    "    df_district = df_district[df_district['date'] <= em_forecast.iloc[-1]['date']].reset_index(drop=True)\n",
    "\n",
    "    lc = Loss_Calculator()\n",
    "    loss_dict = lc.calc_loss_dict(em_forecast, df_district, method='mape')\n",
    "    \n",
    "    return loss_dict"
   ]
  },
  {
   "cell_type": "markdown",
   "metadata": {},
   "source": [
    "## RC Params"
   ]
  },
  {
   "cell_type": "code",
   "execution_count": null,
   "metadata": {},
   "outputs": [],
   "source": [
    "plt.rcParams.update({\n",
    "    'text.usetex': True,\n",
    "    'font.size': 15,\n",
    "    'font.family': 'Palatino',\n",
    "})"
   ]
  },
  {
   "cell_type": "markdown",
   "metadata": {},
   "source": [
    "# 2•6 grid"
   ]
  },
  {
   "cell_type": "code",
   "execution_count": null,
   "metadata": {},
   "outputs": [],
   "source": [
    "config['plotting']['separate_compartments_separate_ax'] = True\n",
    "\n",
    "fig, axs = plt.subplots(figsize=(30, 10), nrows=2, ncols=6)\n",
    "\n",
    "plot_forecast(start_predictions_dict, \n",
    "              config['fitting']['data']['dataloading_params']['location_description'],\n",
    "              which_compartments=config['fitting']['loss']['loss_compartments'],\n",
    "              fits_to_plot=['ensemble_mean'], smoothed_gt=True,\n",
    "              plotting_config=config['plotting'], figsize=(13, 12), axs=axs[0:, 0:2])\n",
    "\n",
    "plot_forecast(mid_predictions_dict, \n",
    "              config['fitting']['data']['dataloading_params']['location_description'],\n",
    "              which_compartments=config['fitting']['loss']['loss_compartments'],\n",
    "              fits_to_plot=['ensemble_mean'], smoothed_gt=True,\n",
    "              plotting_config=config['plotting'], figsize=(13, 12), axs=axs[0:, 2:4])\n",
    "\n",
    "plot_forecast(end_predictions_dict, \n",
    "              config['fitting']['data']['dataloading_params']['location_description'],\n",
    "              which_compartments=config['fitting']['loss']['loss_compartments'],\n",
    "              fits_to_plot=['ensemble_mean'], smoothed_gt=True,\n",
    "              plotting_config=config['plotting'], figsize=(13, 12), axs=axs[0:, 4:6])\n",
    "\n",
    "plt.figtext(0.25,0.92, \"(a) Starting Phase\", va=\"center\", ha=\"center\", size=30)\n",
    "plt.figtext(0.52,0.92, \"(b) Middle Phase\", va=\"center\", ha=\"center\", size=30)\n",
    "plt.figtext(0.78,0.92, \"(c) End Phase\", va=\"center\", ha=\"center\", size=30)\n",
    "\n",
    "legend_elements = [\n",
    "    Line2D([0], [0], ls='-', marker='o', ms=5, color='black', label='Ground Truth'),\n",
    "    Line2D([0], [0], ls='-', color='black', label='EM Forecast'),\n",
    "    Line2D([0], [0], ls='--', color='black', label='Training Range')\n",
    "]\n",
    "axs[0, 0].legend(handles=legend_elements)"
   ]
  },
  {
   "cell_type": "markdown",
   "metadata": {},
   "source": [
    "# 1•3 grid\n"
   ]
  },
  {
   "cell_type": "markdown",
   "metadata": {},
   "source": [
    "### Toggle `twin_axes`, `log_scale` in the `plot_forecast` forecast function"
   ]
  },
  {
   "cell_type": "code",
   "execution_count": null,
   "metadata": {},
   "outputs": [],
   "source": [
    "config['plotting']['separate_compartments_separate_ax'] = False\n",
    "\n",
    "fig, axs = plt.subplots(figsize=(30, 8), nrows=1, ncols=3)\n",
    "\n",
    "plot_forecast(start_predictions_dict, \n",
    "              config['fitting']['data']['dataloading_params']['location_description'],\n",
    "              which_compartments=config['fitting']['loss']['loss_compartments'], twin_axes=False,\n",
    "              fits_to_plot=['ensemble_mean'], smoothed_gt=True, log_scale=False,\n",
    "              plotting_config=config['plotting'], axs=axs.flat[0])\n",
    "\n",
    "plot_forecast(mid_predictions_dict, \n",
    "              config['fitting']['data']['dataloading_params']['location_description'],\n",
    "              which_compartments=config['fitting']['loss']['loss_compartments'], twin_axes=False,\n",
    "              fits_to_plot=['ensemble_mean'], smoothed_gt=True, log_scale=False,\n",
    "              plotting_config=config['plotting'], axs=axs.flat[1])\n",
    "\n",
    "plot_forecast(end_predictions_dict, \n",
    "              config['fitting']['data']['dataloading_params']['location_description'],\n",
    "              which_compartments=config['fitting']['loss']['loss_compartments'], twin_axes=False,\n",
    "              fits_to_plot=['ensemble_mean'], smoothed_gt=True, log_scale=False,\n",
    "              plotting_config=config['plotting'], axs=axs.flat[2])\n",
    "\n",
    "plt.figtext(0.25,0.92, \"(a) Starting Phase\", va=\"center\", ha=\"center\", size=30)\n",
    "plt.figtext(0.52,0.92, \"(b) Middle Phase\", va=\"center\", ha=\"center\", size=30)\n",
    "plt.figtext(0.78,0.92, \"(c) End Phase\", va=\"center\", ha=\"center\", size=30)\n",
    "\n",
    "legend_elements = [\n",
    "    Line2D([0], [0], ls='-', marker='o', ms=5, color='black', label='Ground Truth'),\n",
    "    Line2D([0], [0], ls='-', color='black', label='EM Forecast'),\n",
    "    Line2D([0], [0], ls='--', color='black', label='Training Range')\n",
    "]\n",
    "first_legend = axs[0].legend(handles=legend_elements, loc='upper left')\n",
    "axs[0].add_artist(first_legend) \n",
    "\n",
    "legend_elements = [\n",
    "    Line2D([0], [0], ls='-', color='C0', label=f'Confirmed'),\n",
    "    Line2D([0], [0], ls='-', color='orange', label=f'Active'),\n",
    "    Line2D([0], [0], ls='-', color='green', label=f'Recovered'),\n",
    "    Line2D([0], [0], ls='-', color='red', label=f'Deceased'),\n",
    "]\n",
    "axs[0].legend(handles=legend_elements, loc=[0.35, 0.77])"
   ]
  }
 ],
 "metadata": {
  "kernelspec": {
   "display_name": "Python (covid)",
   "language": "python",
   "name": "covid"
  },
  "language_info": {
   "codemirror_mode": {
    "name": "ipython",
    "version": 3
   },
   "file_extension": ".py",
   "mimetype": "text/x-python",
   "name": "python",
   "nbconvert_exporter": "python",
   "pygments_lexer": "ipython3"
  }
 },
 "nbformat": 4,
 "nbformat_minor": 4
}
