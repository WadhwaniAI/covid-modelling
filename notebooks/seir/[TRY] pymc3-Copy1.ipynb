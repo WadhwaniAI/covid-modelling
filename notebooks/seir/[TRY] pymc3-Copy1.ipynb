{
 "cells": [
  {
   "cell_type": "code",
   "execution_count": 1,
   "metadata": {},
   "outputs": [],
   "source": [
    "%load_ext autoreload\n",
    "%autoreload 2\n",
    "%matplotlib inline"
   ]
  },
  {
   "cell_type": "code",
   "execution_count": 2,
   "metadata": {},
   "outputs": [],
   "source": [
    "import matplotlib\n",
    "import numpy as np\n",
    "import pandas as pd\n",
    "from tqdm import tqdm\n",
    "import multiprocessing as mp\n",
    "import matplotlib.pyplot as plt\n",
    "import pickle\n",
    "import multiprocessing as mp\n",
    "import arviz as az\n",
    "\n",
    "matplotlib.rcParams.update({'font.size': 18})\n",
    "from joblib import delayed, Parallel\n",
    "from collections import defaultdict, OrderedDict\n",
    "import pymc3 as pm\n",
    "from pymc3.ode import DifferentialEquation\n",
    "from utils.generic import init_params\n",
    "from main.seir.optimiser import Optimiser\n",
    "from models.seir.seir_testing import SEIR_Testing\n",
    "from data.processing import get_district_time_series\n",
    "from data.dataloader import get_covid19india_api_data\n",
    "from theano.ifelse import ifelse\n",
    "from theano import tensor as T\n",
    "from theano import tensor as T, function, printing\n",
    "from theano import function\n",
    "import theano\n",
    "theano.config.compute_test_value='ignore'\n",
    "theano.config.gcc.cxxflags = \"-Wno-c++11-narrowing\"\n",
    "\n"
   ]
  },
  {
   "cell_type": "markdown",
   "metadata": {},
   "source": [
    "## Load covid19 data"
   ]
  },
  {
   "cell_type": "code",
   "execution_count": 3,
   "metadata": {},
   "outputs": [],
   "source": [
    "dataframes = get_covid19india_api_data()"
   ]
  },
  {
   "cell_type": "code",
   "execution_count": 4,
   "metadata": {},
   "outputs": [
    {
     "data": {
      "text/plain": [
       "dict_keys(['df_tested', 'df_statewise', 'df_india_time_series', 'df_districtwise', 'df_raw_data_old', 'df_raw_data', 'df_deaths_recoveries', 'df_districts', 'df_travel_history', 'df_resources'])"
      ]
     },
     "execution_count": 4,
     "metadata": {},
     "output_type": "execute_result"
    }
   ],
   "source": [
    "dataframes.keys()"
   ]
  },
  {
   "cell_type": "code",
   "execution_count": 5,
   "metadata": {},
   "outputs": [
    {
     "name": "stderr",
     "output_type": "stream",
     "text": [
      "/Users/mihirkulkarni/.pyenv/versions/3.6.9/envs/covid3.6/lib/python3.6/site-packages/pandas/core/indexing.py:1048: SettingWithCopyWarning: \n",
      "A value is trying to be set on a copy of a slice from a DataFrame.\n",
      "Try using .loc[row_indexer,col_indexer] = value instead\n",
      "\n",
      "See the caveats in the documentation: https://pandas.pydata.org/pandas-docs/stable/user_guide/indexing.html#returning-a-view-versus-a-copy\n",
      "  self.obj[item_labels[indexer[info_axis]]] = value\n"
     ]
    }
   ],
   "source": [
    "regions = [('Delhi', ''), ('Karnataka', 'Bengaluru Urban'), ('Maharashtra', 'Mumbai'), ('Maharashtra', 'Pune'), ('Gujarat', 'Ahmedabad'), ('Rajasthan', 'Jaipur')]\n",
    "state, district = regions[2]\n",
    "df_district = get_district_time_series(dataframes, state=state, district=district, use_dataframe='districts_daily')"
   ]
  },
  {
   "cell_type": "markdown",
   "metadata": {},
   "source": [
    "## Create train-val splits"
   ]
  },
  {
   "cell_type": "code",
   "execution_count": 6,
   "metadata": {},
   "outputs": [],
   "source": [
    "df_train = df_district.iloc[:-5, :]\n",
    "df_val = df_district.iloc[-5:, :]"
   ]
  },
  {
   "cell_type": "code",
   "execution_count": 7,
   "metadata": {},
   "outputs": [
    {
     "data": {
      "text/plain": [
       "(          state district       date hospitalised total_infected deceased  \\\n",
       " 0   Maharashtra   Mumbai 2020-04-24         3555           4205      167   \n",
       " 1   Maharashtra   Mumbai 2020-04-25         4388           5049      191   \n",
       " 2   Maharashtra   Mumbai 2020-04-26         4652           5407      204   \n",
       " 3   Maharashtra   Mumbai 2020-04-27         4547           5407      219   \n",
       " 4   Maharashtra   Mumbai 2020-04-28         5239           6169      219   \n",
       " 5   Maharashtra   Mumbai 2020-04-29         5438           6644      270   \n",
       " 6   Maharashtra   Mumbai 2020-04-30         5679           7061      290   \n",
       " 7   Maharashtra   Mumbai 2020-05-01         5673           7061      296   \n",
       " 8   Maharashtra   Mumbai 2020-05-02         6903           8359      322   \n",
       " 9   Maharashtra   Mumbai 2020-05-03         7227           8800      343   \n",
       " 10  Maharashtra   Mumbai 2020-05-04         7227           8800      343   \n",
       " 11  Maharashtra   Mumbai 2020-05-05         8163           9945      387   \n",
       " 12  Maharashtra   Mumbai 2020-05-06         8697          10714      412   \n",
       " 13  Maharashtra   Mumbai 2020-05-07         9264          11394      436   \n",
       " 14  Maharashtra   Mumbai 2020-05-08         9887          12142      462   \n",
       " 15  Maharashtra   Mumbai 2020-05-09        10508          12864      489   \n",
       " 16  Maharashtra   Mumbai 2020-05-10        11364          13739      508   \n",
       " 17  Maharashtra   Mumbai 2020-05-11        11627          14521      528   \n",
       " 18  Maharashtra   Mumbai 2020-05-12        11878          14947      556   \n",
       " 19  Maharashtra   Mumbai 2020-05-13        12678          15747      556   \n",
       " 20  Maharashtra   Mumbai 2020-05-14        13378          16738      621   \n",
       " 21  Maharashtra   Mumbai 2020-05-15        14072          17671      655   \n",
       " 22  Maharashtra   Mumbai 2020-05-16        14599          18555      696   \n",
       " 23  Maharashtra   Mumbai 2020-05-17        15918          20150      734   \n",
       " 24  Maharashtra   Mumbai 2020-05-18        16848          21335      757   \n",
       " 25  Maharashtra   Mumbai 2020-05-19        16848          21335      757   \n",
       " \n",
       "    recovered  \n",
       " 0        483  \n",
       " 1        470  \n",
       " 2        551  \n",
       " 3        641  \n",
       " 4        711  \n",
       " 5        936  \n",
       " 6       1092  \n",
       " 7       1092  \n",
       " 8       1134  \n",
       " 9       1230  \n",
       " 10      1230  \n",
       " 11      1395  \n",
       " 12      1605  \n",
       " 13      1694  \n",
       " 14      1793  \n",
       " 15      1867  \n",
       " 16      1867  \n",
       " 17      2366  \n",
       " 18      2513  \n",
       " 19      2513  \n",
       " 20      2739  \n",
       " 21      2944  \n",
       " 22      3260  \n",
       " 23      3498  \n",
       " 24      3730  \n",
       " 25      3730  ,\n",
       "           state district       date hospitalised total_infected deceased  \\\n",
       " 26  Maharashtra   Mumbai 2020-05-20        18925          24118      841   \n",
       " 27  Maharashtra   Mumbai 2020-05-21        19916          25500      882   \n",
       " 28  Maharashtra   Mumbai 2020-05-22        20573          27251      909   \n",
       " 29  Maharashtra   Mumbai 2020-05-23        21772          28817      949   \n",
       " 30  Maharashtra   Mumbai 2020-05-24        22471          30542      988   \n",
       " \n",
       "    recovered  \n",
       " 26      4352  \n",
       " 27      4702  \n",
       " 28      5769  \n",
       " 29      6096  \n",
       " 30      7083  )"
      ]
     },
     "execution_count": 7,
     "metadata": {},
     "output_type": "execute_result"
    }
   ],
   "source": [
    "df_train, df_val"
   ]
  },
  {
   "cell_type": "code",
   "execution_count": 8,
   "metadata": {},
   "outputs": [],
   "source": [
    "df_train.to_csv('df_train.csv')\n",
    "df_val.to_csv('df_val.csv')"
   ]
  },
  {
   "cell_type": "markdown",
   "metadata": {},
   "source": [
    "## Loss Calculation Functions"
   ]
  },
  {
   "cell_type": "code",
   "execution_count": 9,
   "metadata": {
    "jupyter": {
     "source_hidden": true
    }
   },
   "outputs": [],
   "source": [
    "def _calc_rmse(y_pred, y_true, log=True):\n",
    "    if log:\n",
    "        y_true = np.log(y_true)\n",
    "        y_pred = np.log(y_pred)\n",
    "    loss = np.sqrt(np.mean((y_true - y_pred)**2))\n",
    "    return loss\n",
    "\n",
    "def _calc_mape(y_pred, y_true):\n",
    "    y_pred = y_pred[y_true > 0]\n",
    "    y_true = y_true[y_true > 0]\n",
    "\n",
    "    ape = np.abs((y_true - y_pred + 0) / y_true) *  100\n",
    "    loss = np.mean(ape)\n",
    "    return loss\n",
    "\n",
    "def calc_loss_dict(states_time_matrix, df, method='rmse', rmse_log=False):\n",
    "    pred_hospitalisations = states_time_matrix[6] + states_time_matrix[7] + states_time_matrix[8]\n",
    "    pred_recoveries = states_time_matrix[9]\n",
    "    pred_fatalities = states_time_matrix[10]\n",
    "    pred_infectious_unknown = states_time_matrix[2] + states_time_matrix[4]\n",
    "    pred_total_cases = pred_hospitalisations + pred_recoveries + pred_fatalities\n",
    "    \n",
    "    if method == 'rmse':\n",
    "        if rmse_log:\n",
    "            calculate = lambda x, y : _calc_rmse(x, y)\n",
    "        else:\n",
    "            calculate = lambda x, y : _calc_rmse(x, y, log=False)\n",
    "    \n",
    "    if method == 'mape':\n",
    "            calculate = lambda x, y : _calc_mape(x, y)\n",
    "    \n",
    "    losses = {}\n",
    "#     losses['hospitalised'] = calculate(pred_hospitalisations, df['Hospitalised'])\n",
    "#     losses['recovered'] = calculate(pred_recoveries, df['Recovered'])\n",
    "#     losses['fatalities'] = calculate(pred_fatalities, df['Fatalities'])\n",
    "#     losses['active_infections'] = calculate(pred_infectious_unknown, df['Active Infections (Unknown)'])\n",
    "    losses['total'] = calculate(pred_total_cases, df['total_infected'])\n",
    "    \n",
    "    return losses\n",
    "\n",
    "def calc_loss(states_time_matrix, df, method='rmse', rmse_log=False):\n",
    "    losses = calc_loss_dict(states_time_matrix, df, method, rmse_log)\n",
    "#     loss = losses['hospitalised'] + losses['recovered'] + losses['total'] + losses['active_infections']\n",
    "    loss = losses['total']\n",
    "    return loss"
   ]
  },
  {
   "cell_type": "markdown",
   "metadata": {},
   "source": [
    "## Prediction Interval calculator"
   ]
  },
  {
   "cell_type": "code",
   "execution_count": 10,
   "metadata": {},
   "outputs": [],
   "source": [
    "def get_PI(pred_dfs, date, key, multiplier=1.96):\n",
    "    pred_samples = list()\n",
    "    for df in pred_dfs:\n",
    "        pred_samples.append(df.loc[date, key])\n",
    "        \n",
    "    mu = np.array(pred_samples).mean()\n",
    "    sigma = np.array(pred_samples).std()\n",
    "    low = mu - multiplier*sigma\n",
    "    high = mu + multiplier*sigma\n",
    "    return mu, low, high"
   ]
  },
  {
   "cell_type": "markdown",
   "metadata": {},
   "source": [
    "## Define new class"
   ]
  },
  {
   "cell_type": "code",
   "execution_count": 11,
   "metadata": {},
   "outputs": [],
   "source": [
    "\n",
    "\n",
    "class SEIR_Test_pymc3(SEIR_Testing):\n",
    "    def __init__(self,  *args, **kwargs):\n",
    "        super().__init__( *args, **kwargs)\n",
    "    def get_derivative(self, y, t, p):\n",
    "        # Init state variables\n",
    "        #for i, _ in enumerate(y):\n",
    "        #for i in range(11):\n",
    "        #    y[i] = ifelse(T.lt(y[i], 0), y[i], np.float64(0))\n",
    "        #    y[i] = max(y[i], 0)\n",
    "        zero = T.cast(0.0, 'float64')\n",
    "        for i in range(11):\n",
    "            T.set_subtensor(y[i], ifelse(T.gt(y[i], zero), y[i], zero))\n",
    "        # Init time parameters and probabilities\n",
    "        for key in self.vanilla_params:\n",
    "            setattr(self, key, self.vanilla_params[key])\n",
    "        for key in self.testing_params:\n",
    "            suffix = '_D' if key in self.vanilla_params else ''\n",
    "            setattr(self, key + suffix, self.testing_params[key])\n",
    "            \n",
    "        \n",
    "        ## Set up variables using `y` and `p`\n",
    "        \n",
    "        S = y[0]\n",
    "        E = y[1]\n",
    "        I = y[2]\n",
    "        D_E = y[3]\n",
    "        D_I = y[4]\n",
    "        R_mild = y[5]\n",
    "        R_severe_home = y[6]\n",
    "        R_severe_hosp = y[7]\n",
    "        R_fatal = y[8]\n",
    "        C = y[9]\n",
    "        D = y[10]\n",
    "        \n",
    "        # p\n",
    "    \n",
    "        self.R0 = p[0]\n",
    "        self.T_inc = p[1]\n",
    "        self.T_inf = p[2]\n",
    "        self.T_recov_severe = p[3]\n",
    "        self.P_severe = p[4]\n",
    "        self.P_fatal = p[5]\n",
    "        self.intervention_amount = p[6]\n",
    "        \n",
    "        #Define variables  \n",
    "        #if self.post_lockdown_R0 == None:\n",
    "        #    self.post_lockdown_R0 = self.lockdown_R0\n",
    "\n",
    "        self.P_mild = 1 - self.P_severe - self.P_fatal\n",
    "\n",
    "        # define testing related parameters\n",
    "        self.T_inf_detected = self.T_inf\n",
    "        self.T_inc_detected = self.T_inc\n",
    "\n",
    "        self.P_mild_detected = self.P_mild\n",
    "        self.P_severe_detected = self.P_severe\n",
    "        self.P_fatal_detected = self.P_fatal\n",
    "        #self.T_trans_D = self.T_trans\n",
    "  \n",
    "        self.theta_E = self.testing_rate_for_exposed\n",
    "        self.psi_E = self.positive_test_rate_for_exposed\n",
    "        self.theta_I = self.testing_rate_for_infected\n",
    "        self.psi_I = self.positive_test_rate_for_infected\n",
    "        #TODO incorporate lockdown R0 code\n",
    "        #T.set_subtensor(self.R0, ifelse(T.gt(t, self.lockdown_removal_day), self.R0 , self.post_lockdown_R0))\n",
    "        # Modelling the behaviour lockdown\n",
    "        #elif t >= self.lockdown_day:\n",
    "        #    self.R0 = self.lockdown_R0\n",
    "        #T.set_subtensor(self.R0, ifelse(T.gt(t, self.lockdown_day), self.R0, self.lockdown_R0))\n",
    "        # Modelling the behaviour pre-lockdown\n",
    "        #else:\n",
    "        #    self.R0 = self.pre_lockdown_R0\n",
    "        #T.set_subtensor(self.R0, ifelse(T.gt(y[i], zero), self.R0, self.pre_lockdown_R0))\n",
    "        self.T_trans = self.T_inf/self.R0\n",
    "        self.T_trans_D = self.T_inf_D/self.R0\n",
    "        \n",
    "       \n",
    "        # Write differential equations\n",
    "        dS = - I * S / (self.T_trans) - (self.q / self.T_trans_D) * (S * D_I) # # S\n",
    "        #dS = - y[2] * y[0]*p[0]/p[2]  - self.q*p[2] * (y[0] * y[4])\n",
    "        dE = I * S / (self.T_trans) + (self.q / self.T_trans_D) * (S * D_I) - (E/ self.T_inc) - (self.theta_E * self.psi_E * E) # E\n",
    "        dI = E / self.T_inc - I / self.T_inf - (self.theta_I * self.psi_I * I) # I\n",
    "        dD_E = (self.theta_E * self.psi_E * E) - (1 / self.T_inc_D) * D_E# D_E\n",
    "        dD_I = (self.theta_I * self.psi_I * I) + (1 / self.T_inc_D) * D_E - (1 / self.T_inf_D) * D_I # D_I \n",
    "        dR_mild = (1/self.T_inf)*(self.P_mild*I) + (1/self.T_inf_D)*(self.P_mild_D*D_I) - R_mild/self.T_recov_mild  # R_mild\n",
    "        dR_severe_home = (1/self.T_inf)*(self.P_severe*I) + (1/self.T_inf_D)*(self.P_severe_D*D_I) - R_severe_home/self.T_hosp  # R_severe_home\n",
    "        dR_severe_hosp = R_severe_home/self.T_hosp - R_severe_hosp/self.T_recov_severe# R_severe_hosp\n",
    "        dR_fatal = (1/self.T_inf)*(self.P_fatal*I) + (1/self.T_inf_D)*(self.P_fatal_D*D_I) - R_fatal/self.T_death # R_fatal\n",
    "        dC = R_mild/self.T_recov_mild + R_severe_hosp/self.T_recov_severe # C\n",
    "        dD = R_fatal/self.T_death # D\n",
    "\n",
    "        return [dS, dE, dI, dD_E, dD_I, dR_mild, dR_severe_home, dR_severe_hosp, dR_fatal, dC, dD]\n",
    "    \n",
    "   \n"
   ]
  },
  {
   "cell_type": "code",
   "execution_count": 12,
   "metadata": {},
   "outputs": [
    {
     "data": {
      "text/plain": [
       "array(0.)"
      ]
     },
     "execution_count": 12,
     "metadata": {},
     "output_type": "execute_result"
    }
   ],
   "source": [
    "x = T.scalar('x')\n",
    "z = T.scalar('z')\n",
    "xplus = ifelse(T.lt(x, z), x, z)\n",
    "xplus.eval({x:1,z:0})"
   ]
  },
  {
   "cell_type": "markdown",
   "metadata": {},
   "source": [
    "# Set up model parameters"
   ]
  },
  {
   "cell_type": "code",
   "execution_count": 17,
   "metadata": {},
   "outputs": [],
   "source": [
    "SEIR_Test_obj = SEIR_Test_pymc3()\n",
    "num_patients = SEIR_Test_obj.__dict__['vanilla_params']['N']\n",
    "init_vals = list(SEIR_Test_obj.__dict__['state_init_values'].values())\n",
    "num_states = 11\n",
    "num_params = 7\n",
    "num_steps = 40\n",
    "num_train_steps = 7\n",
    "\n",
    "\n",
    "burn_in = 100\n",
    "mcmc_steps = 200\n",
    "\n",
    "observed = df_train['total_infected'][-num_train_steps:]\n",
    "num_train = len(df_train)"
   ]
  },
  {
   "cell_type": "code",
   "execution_count": 18,
   "metadata": {},
   "outputs": [
    {
     "data": {
      "text/plain": [
       "[0.9999998571428571, 0, 1.4285714285714285e-07, 0, 0, 0, 0, 0, 0, 0, 0]"
      ]
     },
     "execution_count": 18,
     "metadata": {},
     "output_type": "execute_result"
    }
   ],
   "source": [
    "init_vals"
   ]
  },
  {
   "cell_type": "code",
   "execution_count": 19,
   "metadata": {},
   "outputs": [
    {
     "data": {
      "text/plain": [
       "19    15747\n",
       "20    16738\n",
       "21    17671\n",
       "22    18555\n",
       "23    20150\n",
       "24    21335\n",
       "25    21335\n",
       "Name: total_infected, dtype: object"
      ]
     },
     "execution_count": 19,
     "metadata": {},
     "output_type": "execute_result"
    }
   ],
   "source": [
    "observed "
   ]
  },
  {
   "cell_type": "markdown",
   "metadata": {},
   "source": [
    "# Run model"
   ]
  },
  {
   "cell_type": "code",
   "execution_count": 20,
   "metadata": {},
   "outputs": [],
   "source": [
    "sir_model = DifferentialEquation(\n",
    "    func=SEIR_Test_obj.get_derivative,\n",
    "    times=np.arange(0, num_steps, 1),\n",
    "    n_states= num_states,\n",
    "    n_theta= num_params,\n",
    "    t0 = 0\n",
    ")"
   ]
  },
  {
   "cell_type": "code",
   "execution_count": 21,
   "metadata": {},
   "outputs": [
    {
     "name": "stderr",
     "output_type": "stream",
     "text": [
      "Only 200 samples in chain.\n",
      "Auto-assigning NUTS sampler...\n",
      "Initializing NUTS using jitter+adapt_diag...\n",
      "Multiprocess sampling (4 chains in 4 jobs)\n",
      "NUTS: [intervention_amount, P_fatal, P_severe, T_recov_severe , T_inf, T_inc, R0]\n",
      "Sampling 4 chains, 2 divergences: 100%|██████████| 1200/1200 [18:01<00:00,  1.11draws/s]\n",
      "There was 1 divergence after tuning. Increase `target_accept` or reparameterize.\n",
      "There was 1 divergence after tuning. Increase `target_accept` or reparameterize.\n",
      "The acceptance probability does not match the target. It is 0.961625470632874, but should be close to 0.9. Try to increase the number of tuning steps.\n",
      "The rhat statistic is larger than 1.4 for some parameters. The sampler did not converge.\n",
      "The estimated number of effective samples is smaller than 200 for some parameters.\n",
      "100%|██████████| 800/800 [02:19<00:00,  5.74it/s]\n"
     ]
    }
   ],
   "source": [
    "with pm.Model() as model:\n",
    "    R0 = pm.Uniform(\"R0\", lower = 1, upper = 3.5)#(1.6, 3)\n",
    "    T_inc = pm.Uniform(\"T_inc\", lower = 1, upper = 5)#(3, 4)\n",
    "    T_inf = pm.Uniform(\"T_inf\", lower = 1, upper = 4)#(3, 4)\n",
    "    T_recov_severe = pm.Uniform(\"T_recov_severe \", lower = 9, upper = 20)\n",
    "    P_severe = pm.Uniform(\"P_severe\", lower = 0.3, upper = 0.99)\n",
    "    P_fatal = pm.Uniform(\"P_fatal\", lower = 1e-6, upper = 0.3)\n",
    "    intervention_amount = pm.Uniform(\"intervention_amount\", lower = 0.3, upper = 1)\n",
    "\n",
    "    \n",
    "    \n",
    "    ode_solution = sir_model(y0=init_vals , theta=[R0, T_inc, T_inf, T_recov_severe, P_severe,\n",
    "                                                   P_fatal, intervention_amount])\n",
    "    # The ode_solution has a shape of (n_times, n_states)\n",
    "    \n",
    "    predictions = ode_solution[num_train-num_train_steps-1:num_train-1]\n",
    "    hospitalised = predictions[:,6] + predictions[:,7] + predictions[:,8]\n",
    "    recovered = predictions[:,9]\n",
    "    deceased = predictions[:,10]\n",
    "    total_infected = hospitalised + recovered + deceased\n",
    "    total_infected = total_infected * num_patients \n",
    "    #sigma = pm.HalfNormal('sigma',\n",
    "    #                      sigma=observed.std(),\n",
    "    #                      shape=num_params)\n",
    "    Y = pm.Normal('Y', mu = total_infected, observed=observed)\n",
    "    \n",
    "    prior = pm.sample_prior_predictive()\n",
    "    trace = pm.sample(mcmc_steps, tune=burn_in , target_accept=0.9, cores=4)\n",
    "    posterior_predictive = pm.sample_posterior_predictive(trace)\n",
    "    \n",
    "    "
   ]
  },
  {
   "cell_type": "code",
   "execution_count": null,
   "metadata": {},
   "outputs": [],
   "source": [
    " theano.printing.Print(\"Predictions\")(ode_solution[:,-1])"
   ]
  },
  {
   "cell_type": "code",
   "execution_count": 180,
   "metadata": {},
   "outputs": [
    {
     "name": "stdout",
     "output_type": "stream",
     "text": [
      "R0 __str__ = 2.0\n"
     ]
    },
    {
     "data": {
      "text/plain": [
       "Print{message='R0', attrs=('__str__',), global_fn=<function _print_fn at 0x1396d9f28>}.0"
      ]
     },
     "execution_count": 180,
     "metadata": {},
     "output_type": "execute_result"
    }
   ],
   "source": [
    "theano.printing.Print(\"R0\")(R0)"
   ]
  },
  {
   "cell_type": "code",
   "execution_count": 237,
   "metadata": {},
   "outputs": [
    {
     "data": {
      "text/plain": [
       "<MultiTrace: 4 chains, 200 iterations, 14 variables>"
      ]
     },
     "execution_count": 237,
     "metadata": {},
     "output_type": "execute_result"
    }
   ],
   "source": [
    "trace"
   ]
  },
  {
   "cell_type": "markdown",
   "metadata": {},
   "source": [
    "# Analyse runs"
   ]
  },
  {
   "cell_type": "code",
   "execution_count": null,
   "metadata": {},
   "outputs": [],
   "source": [
    "with model:\n",
    "    data = az.from_pymc3(trace=trace, prior=prior, posterior_predictive=posterior_predictive)\n",
    "    az.plot_posterior(data,round_to=2, credible_interval=0.95)"
   ]
  },
  {
   "cell_type": "code",
   "execution_count": null,
   "metadata": {},
   "outputs": [],
   "source": [
    "#pm.forestplot(trace)"
   ]
  },
  {
   "cell_type": "code",
   "execution_count": null,
   "metadata": {},
   "outputs": [],
   "source": [
    "pm.summary(trace)"
   ]
  },
  {
   "cell_type": "code",
   "execution_count": null,
   "metadata": {},
   "outputs": [],
   "source": [
    "pm.plots.traceplot(trace)"
   ]
  },
  {
   "cell_type": "code",
   "execution_count": null,
   "metadata": {},
   "outputs": [],
   "source": [
    "pm.plots.autocorrplot(trace)"
   ]
  },
  {
   "cell_type": "code",
   "execution_count": 224,
   "metadata": {},
   "outputs": [
    {
     "data": {
      "text/plain": [
       "500"
      ]
     },
     "execution_count": 224,
     "metadata": {},
     "output_type": "execute_result"
    }
   ],
   "source": [
    "len(trace[500:])"
   ]
  },
  {
   "cell_type": "code",
   "execution_count": null,
   "metadata": {},
   "outputs": [],
   "source": [
    "trace[100:][0]"
   ]
  },
  {
   "cell_type": "code",
   "execution_count": null,
   "metadata": {},
   "outputs": [],
   "source": [
    "final_runs = trace#[burn_in:]"
   ]
  },
  {
   "cell_type": "code",
   "execution_count": null,
   "metadata": {},
   "outputs": [],
   "source": [
    "[x['R0'] for x in final_runs]"
   ]
  },
  {
   "cell_type": "markdown",
   "metadata": {},
   "source": [
    "## Visualize the samples and intervals"
   ]
  },
  {
   "cell_type": "code",
   "execution_count": null,
   "metadata": {},
   "outputs": [],
   "source": [
    "#def visualize(): \n",
    "data_split = df_district.copy()\n",
    "optimiser = Optimiser()\n",
    "default_params = optimiser.init_default_params(data_split)\n",
    "\n",
    "#combined_acc = list()\n",
    "#for k, run in enumerate(mcmc):\n",
    "#    burn_in = int(len(run) / 2)\n",
    "#    combined_acc += run[0][burn_in:]\n",
    "\n",
    "n_samples = 1000\n",
    "sample_indices = np.random.uniform(0, len(final_runs), n_samples)\n",
    "\n",
    "pred_dfs = list()\n",
    "for i in tqdm(sample_indices):\n",
    "    pred_dfs.append(optimiser.solve(final_runs[int(i)], default_params, data_split))\n",
    "\n",
    "for df in pred_dfs:\n",
    "    df.set_index('date', inplace=True)\n",
    "\n",
    "result = pred_dfs[0].copy()\n",
    "for col in result.columns:\n",
    "    result[\"{}_low\".format(col)] = ''\n",
    "    result[\"{}_high\".format(col)] = ''\n",
    "\n",
    "for date in tqdm(pred_dfs[0].index):\n",
    "    for key in pred_dfs[0]:\n",
    "        result.loc[date, key], result.loc[date, \"{}_low\".format(key)], result.loc[date, \"{}_high\".format(key)] = get_PI(pred_dfs, date, key)\n",
    "\n",
    "data_split.set_index(\"date\", inplace=True)\n"
   ]
  },
  {
   "cell_type": "code",
   "execution_count": null,
   "metadata": {},
   "outputs": [],
   "source": [
    "default_params"
   ]
  },
  {
   "cell_type": "code",
   "execution_count": null,
   "metadata": {},
   "outputs": [],
   "source": [
    "final_runs[int(i)],"
   ]
  },
  {
   "cell_type": "code",
   "execution_count": null,
   "metadata": {},
   "outputs": [],
   "source": [
    "#optimiser.solve_and_compute_loss(final_runs[int(i)], default_params, data_split,\n",
    "#                                 num_steps, which_compartments = ['total_infected'])"
   ]
  },
  {
   "cell_type": "code",
   "execution_count": null,
   "metadata": {},
   "outputs": [],
   "source": [
    "#optimiser.solve(final_runs[int(i)], default_params, df_train, end_date=df_train.iloc[-1, :]['date'])"
   ]
  },
  {
   "cell_type": "markdown",
   "metadata": {},
   "source": [
    "# Plot graphs"
   ]
  },
  {
   "cell_type": "code",
   "execution_count": null,
   "metadata": {},
   "outputs": [],
   "source": [
    "#result['total_infected'], data_split['total_infected']"
   ]
  },
  {
   "cell_type": "code",
   "execution_count": null,
   "metadata": {},
   "outputs": [],
   "source": [
    "#x_plot = range(len(df_train) - len(observed)-7, len(df_train) - len(observed) + num_steps)\n",
    "plt.figure(figsize=(15, 10))\n",
    "plt.plot(data_split['total_infected'].tolist(), c='g', label='Actual')\n",
    "plt.plot( result['total_infected'].tolist(), c='r', label='Estimated')\n",
    "plt.plot( result['total_infected_low'].tolist(), c='r', linestyle='dashdot')\n",
    "plt.plot( result['total_infected_high'].tolist(), c='r', linestyle='dashdot')\n",
    "plt.axvline(x=len(df_train), c='b', linestyle='dashed')\n",
    "plt.xlabel(\"Day\")\n",
    "plt.ylabel(\"Total infected\")\n",
    "plt.legend()\n",
    "plt.title(\"95% confidence intervals for {}, {}\".format(district, state))\n",
    "\n",
    "plt.savefig('./mcmc_confidence_intervals_{}_{}.png'.format(district, state))\n",
    "plt.show()"
   ]
  },
  {
   "cell_type": "code",
   "execution_count": null,
   "metadata": {},
   "outputs": [],
   "source": [
    "visualize()"
   ]
  }
 ],
 "metadata": {
  "kernelspec": {
   "display_name": "Python 3",
   "language": "python",
   "name": "python3"
  },
  "language_info": {
   "codemirror_mode": {
    "name": "ipython",
    "version": 3
   },
   "file_extension": ".py",
   "mimetype": "text/x-python",
   "name": "python",
   "nbconvert_exporter": "python",
   "pygments_lexer": "ipython3",
   "version": "3.6.9"
  }
 },
 "nbformat": 4,
 "nbformat_minor": 4
}
