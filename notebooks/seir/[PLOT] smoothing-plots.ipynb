{
 "cells": [
  {
   "cell_type": "code",
   "execution_count": null,
   "metadata": {},
   "outputs": [],
   "source": [
    "%load_ext autoreload\n",
    "%autoreload 2"
   ]
  },
  {
   "cell_type": "code",
   "execution_count": null,
   "metadata": {},
   "outputs": [],
   "source": [
    "import pandas as pd\n",
    "import numpy as np\n",
    "from scipy.stats import median_abs_deviation\n",
    "import matplotlib.pyplot as plt\n",
    "from matplotlib.lines import Line2D\n",
    "import copy\n",
    "import os\n",
    "import yaml\n",
    "import pickle\n",
    "from datetime import timedelta\n",
    "\n",
    "import sys\n",
    "sys.path.append('../../')\n",
    "\n",
    "from data.processing.processing import generate_simulated_data\n",
    "from data.dataloader import SimulatedDataLoader\n",
    "\n",
    "from main.seir.fitting import single_fitting_cycle\n",
    "from utils.generic.config import read_config\n",
    "from utils.fitting.loss import Loss_Calculator\n",
    "from utils.fitting.smooth_jump import smooth_big_jump\n",
    "\n",
    "from viz.data import plot_data\n",
    "from utils.generic.enums.columns import *\n",
    "from utils.fitting.smooth_jump import perform_smoothing_experiment\n",
    "from viz.utils import setup_plt, axis_formatter"
   ]
  },
  {
   "cell_type": "markdown",
   "metadata": {},
   "source": [
    "# Smoothing Exp"
   ]
  },
  {
   "cell_type": "code",
   "execution_count": null,
   "metadata": {},
   "outputs": [],
   "source": [
    "config_filename = 'simulate_data.yaml'\n",
    "config = read_config(config_filename)"
   ]
  },
  {
   "cell_type": "code",
   "execution_count": null,
   "metadata": {},
   "outputs": [],
   "source": [
    "seed = 132\n",
    "num_trials = 7000\n",
    "\n",
    "method = 'weighted-mag'"
   ]
  },
  {
   "cell_type": "code",
   "execution_count": null,
   "metadata": {
    "jupyter": {
     "outputs_hidden": true
    }
   },
   "outputs": [],
   "source": [
    "np.random.seed(seed)\n",
    "results = []\n",
    "for i in range(num_trials):\n",
    "    results.append(perform_smoothing_experiment(config, method))"
   ]
  },
  {
   "cell_type": "code",
   "execution_count": null,
   "metadata": {},
   "outputs": [],
   "source": [
    "print(method)\n",
    "print(np.array(results).mean(axis=0), 'mean')\n",
    "print(np.array(results).std(axis=0), 'std')\n",
    "\n",
    "print(np.median(results, axis=0), 'median')\n",
    "print(median_abs_deviation(results, axis=0), 'mad')"
   ]
  },
  {
   "cell_type": "code",
   "execution_count": null,
   "metadata": {},
   "outputs": [],
   "source": [
    "1.56819117/np.sqrt(5000)"
   ]
  },
  {
   "cell_type": "markdown",
   "metadata": {},
   "source": [
    "# Plotting"
   ]
  },
  {
   "cell_type": "code",
   "execution_count": null,
   "metadata": {},
   "outputs": [],
   "source": [
    "with open('../../../paper/smoothing/plotting/data_sim.pkl', 'rb+') as pickle_file:\n",
    "    df_dict = pickle.load(pickle_file)"
   ]
  },
  {
   "cell_type": "code",
   "execution_count": null,
   "metadata": {},
   "outputs": [],
   "source": [
    "df = df_dict['df']\n",
    "df_spike = df_dict['df_spike']\n",
    "df_spike_smooth = df_dict['df_spike_smooth']"
   ]
  },
  {
   "cell_type": "code",
   "execution_count": null,
   "metadata": {},
   "outputs": [],
   "source": [
    "plt.rcParams.update({\n",
    "    'text.usetex': True,\n",
    "    'font.size': 20,\n",
    "    'font.family': 'Palatino',\n",
    " })"
   ]
  },
  {
   "cell_type": "code",
   "execution_count": null,
   "metadata": {},
   "outputs": [],
   "source": [
    "from data.processing.processing import get_data_from_tracker"
   ]
  },
  {
   "cell_type": "code",
   "execution_count": null,
   "metadata": {},
   "outputs": [],
   "source": [
    "config_filename = 'default.yaml'\n",
    "config1 = read_config(config_filename)\n",
    "\n",
    "df1 = get_data_from_tracker(state='Maharashtra', district='Mumbai', use_dataframe='data_all')['data_frame']\n",
    "df1 = df1[df1['date'] <= '2020-07-07']\n",
    "\n",
    "# Perform smoothing\n",
    "print('smoothing params', config1['fitting']['data']['smooth_jump_params'])\n",
    "df1_smooth, _ = smooth_big_jump(df1, config1['fitting']['data']['smooth_jump_params'])"
   ]
  },
  {
   "cell_type": "code",
   "execution_count": null,
   "metadata": {},
   "outputs": [],
   "source": [
    "mumbai_dict = {'df_mumbai' : df1, 'df_mumbai_smooth' : df1_smooth}\n",
    "\n",
    "with open('../../../paper/smoothing/plotting/data_mumbai.pkl', 'wb+') as pickle_file:\n",
    "    pickle.dump(mumbai_dict, pickle_file)"
   ]
  },
  {
   "cell_type": "code",
   "execution_count": null,
   "metadata": {},
   "outputs": [],
   "source": [
    "def format_func(value, tick_number):\n",
    "    if value >= 1000:\n",
    "        return f\"{int(value/1000)}k\"\n",
    "    else:\n",
    "        return f\"{int(value)}\""
   ]
  },
  {
   "cell_type": "code",
   "execution_count": null,
   "metadata": {},
   "outputs": [],
   "source": [
    "fig, axs = plt.subplots(figsize=(10, 7), nrows=2, ncols=2)\n",
    "for comp in ['active', 'recovered']:\n",
    "    if comp == 'active':\n",
    "        plot_ax = axs.flat[0]\n",
    "    else:\n",
    "        plot_ax = axs.flat[2]\n",
    "    compartment = Columns.from_name(comp)\n",
    "    plot_ax.plot(df[compartments['date'][0].name].to_numpy(), df[compartment.name].to_numpy(),\n",
    "                 '--', color=compartment.color)\n",
    "    plot_ax.plot(df_spike[compartments['date'][0].name].to_numpy(), df_spike[compartment.name].to_numpy(),\n",
    "                 '-o', color=compartment.color, ms=3)\n",
    "    plot_ax.plot(df_spike_smooth[compartments['date'][0].name].to_numpy(), df_spike_smooth[compartment.name].to_numpy(),\n",
    "                 '-', color=compartment.color)\n",
    "#     plot_ax.tick_params(axis='y', labelcolor=compartment.color)\n",
    "    plot_ax.set_ylabel(compartment.name.title())\n",
    "\n",
    "legend_elements = [\n",
    "    Line2D([0], [0], ls='--', color='black', label='Unspiked'),\n",
    "    Line2D([0], [0], ls='-', marker='o', ms=3, color='black', label='Spiked'),\n",
    "    Line2D([0], [0], ls='-', color='black', label='Smoothed')\n",
    "]\n",
    "first_legend = axs.flat[0].legend(handles=legend_elements, loc='lower center', fontsize=18)\n",
    "axs.flat[0].add_artist(first_legend)\n",
    "\n",
    "for comp in ['active', 'recovered']:\n",
    "    compartment = Columns.from_name(comp)\n",
    "    if comp == 'active':\n",
    "        plot_ax = axs.flat[1]\n",
    "    else:\n",
    "        plot_ax = axs.flat[3]\n",
    "    \n",
    "    plot_ax.plot(df1[compartments['date'][0].name].to_numpy(), df1[compartment.name].to_numpy(),\n",
    "                 '-o', ms=3, color=compartment.color)\n",
    "    plot_ax.plot(df1_smooth[compartments['date'][0].name].to_numpy(), df1_smooth[compartment.name].to_numpy(),\n",
    "                 '-', color=compartment.color)\n",
    "#     plot_ax.tick_params(axis='y', labelcolor=compartment.color)\n",
    "    \n",
    "legend_elements = [\n",
    "    Line2D([0], [0], ls='-', marker='o', ms=3, color='black', label='Original'),\n",
    "    Line2D([0], [0], ls='-', color='black', label='Smoothed')\n",
    "]\n",
    "first_legend = axs.flat[3].legend(handles=legend_elements, loc='upper left', fontsize=18)\n",
    "axs.flat[3].add_artist(first_legend)\n",
    "\n",
    "for ax in axs.flat:\n",
    "    axis_formatter(ax)\n",
    "    ax.yaxis.set_major_formatter(plt.FuncFormatter(format_func))\n",
    "# fig.tight_layout()\n",
    "\n",
    "for ax in axs[0, :]:\n",
    "    ax.xaxis.set_ticklabels([])\n",
    "    \n",
    "plt.subplots_adjust(hspace=0.05)\n",
    "\n",
    "axs.flat[2].set_xlabel('Simulated', fontsize=20)\n",
    "axs.flat[3].set_xlabel('Mumbai', fontsize=20)\n",
    "\n",
    "axs.flat[2].tick_params(axis='x', labelsize=15)\n",
    "axs.flat[3].tick_params(axis='x', labelsize=15)\n",
    "\n",
    "import matplotlib.dates as mdates\n",
    "from matplotlib.dates import MO, TU, WE, TH, FR, SA, SU\n",
    "\n",
    "axs.flat[3].xaxis.set_major_locator(mdates.WeekdayLocator(byweekday=FR, interval=3))\n",
    "\n",
    "fig.savefig(f'../../../paper/plots/smoothing-combined.pdf', format='pdf', bbox_inches='tight', pad_inches=0)"
   ]
  },
  {
   "cell_type": "code",
   "execution_count": null,
   "metadata": {},
   "outputs": [],
   "source": [
    "pd.set_option('display.max_rows', None)"
   ]
  },
  {
   "cell_type": "code",
   "execution_count": null,
   "metadata": {},
   "outputs": [],
   "source": [
    "df1_smooth"
   ]
  },
  {
   "cell_type": "code",
   "execution_count": null,
   "metadata": {},
   "outputs": [],
   "source": [
    "from datetime import datetime"
   ]
  },
  {
   "cell_type": "code",
   "execution_count": null,
   "metadata": {},
   "outputs": [],
   "source": [
    "datetime.strptime('2020-09-19', '%Y-%m-%d') + timedelta(days=28)"
   ]
  },
  {
   "cell_type": "code",
   "execution_count": null,
   "metadata": {},
   "outputs": [],
   "source": [
    "smooth_big_jump(df1, config1['fitting']['data']['smooth_jump_params'])"
   ]
  },
  {
   "cell_type": "code",
   "execution_count": null,
   "metadata": {},
   "outputs": [],
   "source": []
  }
 ],
 "metadata": {
  "kernelspec": {
   "display_name": "Python (covid)",
   "language": "python",
   "name": "covid"
  },
  "language_info": {
   "codemirror_mode": {
    "name": "ipython",
    "version": 3
   },
   "file_extension": ".py",
   "mimetype": "text/x-python",
   "name": "python",
   "nbconvert_exporter": "python",
   "pygments_lexer": "ipython3"
  }
 },
 "nbformat": 4,
 "nbformat_minor": 4
}
