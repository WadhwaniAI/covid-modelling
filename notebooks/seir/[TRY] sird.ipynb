{
 "cells": [
  {
   "cell_type": "code",
   "execution_count": null,
   "metadata": {},
   "outputs": [],
   "source": [
    "%load_ext autoreload\n",
    "%autoreload 2"
   ]
  },
  {
   "cell_type": "code",
   "execution_count": null,
   "metadata": {},
   "outputs": [],
   "source": [
    "import datetime\n",
    "\n",
    "import sys\n",
    "sys.path.append('../../')\n",
    "\n",
    "from models.seir import SIRD, SEIR_Testing\n",
    "\n",
    "from main.seir.fitting import get_variable_param_ranges, single_fitting_cycle\n",
    "\n",
    "from data.dataloader import Covid19IndiaLoader\n",
    "from data.processing import get_dataframes_cached\n",
    "\n",
    "from utils.loss import Loss_Calculator"
   ]
  },
  {
   "cell_type": "code",
   "execution_count": null,
   "metadata": {},
   "outputs": [],
   "source": [
    "loader = Covid19IndiaLoader()\n",
    "# dataframes = loader.get_covid19india_api_data()\n",
    "dataframes = get_dataframes_cached()"
   ]
  },
  {
   "cell_type": "code",
   "execution_count": null,
   "metadata": {},
   "outputs": [],
   "source": [
    "predictions_dict = {}"
   ]
  },
  {
   "cell_type": "code",
   "execution_count": null,
   "metadata": {},
   "outputs": [],
   "source": [
    "districts_to_show = [('Maharashtra', 'Pune')]"
   ]
  },
  {
   "cell_type": "code",
   "execution_count": null,
   "metadata": {},
   "outputs": [],
   "source": [
    "filename = '../../data/data/mumbai/case_summary_expanded_2006.csv'\n",
    "filename = None\n",
    "data_from_tracker = False"
   ]
  },
  {
   "cell_type": "code",
   "execution_count": null,
   "metadata": {},
   "outputs": [],
   "source": [
    "lc = Loss_Calculator()"
   ]
  },
  {
   "cell_type": "markdown",
   "metadata": {},
   "source": [
    "### Recovered and deceased"
   ]
  },
  {
   "cell_type": "markdown",
   "metadata": {},
   "source": [
    "#### SIRD"
   ]
  },
  {
   "cell_type": "code",
   "execution_count": null,
   "metadata": {},
   "outputs": [],
   "source": [
    "variable_param_ranges = {\n",
    "    'lockdown_R0': (1, 6),\n",
    "    'T_inc': (4, 16),\n",
    "    'T_inf': (10, 60),\n",
    "    'T_fatal': (260, 300)\n",
    "}\n",
    "variable_param_ranges = get_variable_param_ranges(variable_param_ranges)\n",
    "which_compartments=['deceased', 'recovered']"
   ]
  },
  {
   "cell_type": "code",
   "execution_count": null,
   "metadata": {},
   "outputs": [],
   "source": [
    "for state, district in districts_to_show:\n",
    "    predictions_dict[(state, district)] = {}\n",
    "    predictions_dict[(state, district)]['m1'] = single_fitting_cycle(\n",
    "        dataframes, state, district, data_from_tracker=data_from_tracker, granular_data=False, filename=filename, #Data\n",
    "        model=SIRD, variable_param_ranges=variable_param_ranges, #Choose Model and Ranges\n",
    "        train_period=7, val_period=7, num_evals=1000, initialisation='intermediate', #Optimisation related parameters\n",
    "        which_compartments=which_compartments, #Compartments to Apply Loss on \n",
    "        smooth_jump=False, smoothing_length=33, smoothing_method='weighted') #Smoothing\n",
    "    \n",
    "    predictions_dict[(state, district)]['state'] = state\n",
    "    predictions_dict[(state, district)]['dist'] = district\n",
    "    predictions_dict[(state, district)]['fitting_date'] = datetime.datetime.now().strftime(\"%Y-%m-%d\")\n",
    "    predictions_dict[(state, district)]['datasource'] = 'covid19api' if predictions_dict[(state, district)]['m1']['data_from_tracker'] else 'municipality'\n",
    "    predictions_dict[(state, district)]['variable_param_ranges'] = predictions_dict[(state, district)]['m1']['variable_param_ranges']"
   ]
  },
  {
   "cell_type": "code",
   "execution_count": null,
   "metadata": {},
   "outputs": [],
   "source": [
    "lc.create_loss_dataframe_master(predictions_dict, 'm1')"
   ]
  },
  {
   "cell_type": "markdown",
   "metadata": {},
   "source": [
    "#### SEIR_Testing"
   ]
  },
  {
   "cell_type": "code",
   "execution_count": null,
   "metadata": {},
   "outputs": [],
   "source": [
    "for state, district in districts_to_show:\n",
    "    predictions_dict[(state, district)] = {}\n",
    "    predictions_dict[(state, district)]['m1'] = single_fitting_cycle(\n",
    "        dataframes, state, district, data_from_tracker=data_from_tracker, granular_data=False, filename=filename, #Data\n",
    "        model=SEIR_Testing, variable_param_ranges=None, #Choose Model and Ranges\n",
    "        train_period=7, val_period=7, num_evals=1000, initialisation='intermediate', #Optimisation related parameters\n",
    "        which_compartments=which_compartments, #Compartments to Apply Loss on \n",
    "        smooth_jump=False, smoothing_length=33, smoothing_method='weighted') #Smoothing\n",
    "    \n",
    "    predictions_dict[(state, district)]['state'] = state\n",
    "    predictions_dict[(state, district)]['dist'] = district\n",
    "    predictions_dict[(state, district)]['fitting_date'] = datetime.datetime.now().strftime(\"%Y-%m-%d\")\n",
    "    predictions_dict[(state, district)]['datasource'] = 'covid19api' if predictions_dict[(state, district)]['m1']['data_from_tracker'] else 'municipality'\n",
    "    predictions_dict[(state, district)]['variable_param_ranges'] = predictions_dict[(state, district)]['m1']['variable_param_ranges']"
   ]
  },
  {
   "cell_type": "code",
   "execution_count": null,
   "metadata": {},
   "outputs": [],
   "source": [
    "lc.create_loss_dataframe_master(predictions_dict, 'm1')"
   ]
  },
  {
   "cell_type": "markdown",
   "metadata": {},
   "source": [
    "### All compartments"
   ]
  },
  {
   "cell_type": "markdown",
   "metadata": {},
   "source": [
    "#### SIRD"
   ]
  },
  {
   "cell_type": "code",
   "execution_count": null,
   "metadata": {},
   "outputs": [],
   "source": [
    "variable_param_ranges = {\n",
    "    'lockdown_R0': (1, 2),\n",
    "    'T_inc': (4, 10),\n",
    "    'T_inf': (10, 20),\n",
    "    'T_fatal': (260, 290),\n",
    "}\n",
    "variable_param_ranges = get_variable_param_ranges(variable_param_ranges)\n",
    "which_compartments=['hospitalised', 'total_infected', 'deceased', 'recovered']"
   ]
  },
  {
   "cell_type": "code",
   "execution_count": null,
   "metadata": {},
   "outputs": [],
   "source": [
    "for state, district in districts_to_show:\n",
    "    predictions_dict[(state, district)] = {}\n",
    "    predictions_dict[(state, district)]['m1'] = single_fitting_cycle(\n",
    "        dataframes, state, district, data_from_tracker=data_from_tracker, granular_data=False, filename=filename, #Data\n",
    "        model=SIRD, variable_param_ranges=variable_param_ranges, #Choose Model and Ranges\n",
    "        train_period=7, val_period=7, num_evals=1000, initialisation='intermediate', #Optimisation related parameters\n",
    "        which_compartments=which_compartments, #Compartments to Apply Loss on \n",
    "        smooth_jump=False, smoothing_length=33, smoothing_method='weighted') #Smoothing\n",
    "    \n",
    "    predictions_dict[(state, district)]['state'] = state\n",
    "    predictions_dict[(state, district)]['dist'] = district\n",
    "    predictions_dict[(state, district)]['fitting_date'] = datetime.datetime.now().strftime(\"%Y-%m-%d\")\n",
    "    predictions_dict[(state, district)]['datasource'] = 'covid19api' if predictions_dict[(state, district)]['m1']['data_from_tracker'] else 'municipality'\n",
    "    predictions_dict[(state, district)]['variable_param_ranges'] = predictions_dict[(state, district)]['m1']['variable_param_ranges']"
   ]
  },
  {
   "cell_type": "code",
   "execution_count": null,
   "metadata": {},
   "outputs": [],
   "source": [
    "lc.create_loss_dataframe_master(predictions_dict, 'm1')"
   ]
  },
  {
   "cell_type": "markdown",
   "metadata": {},
   "source": [
    "#### SEIR_Testing"
   ]
  },
  {
   "cell_type": "code",
   "execution_count": null,
   "metadata": {},
   "outputs": [],
   "source": [
    "for state, district in districts_to_show:\n",
    "    predictions_dict[(state, district)] = {}\n",
    "    predictions_dict[(state, district)]['m1'] = single_fitting_cycle(\n",
    "        dataframes, state, district, data_from_tracker=data_from_tracker, granular_data=False, filename=filename, #Data\n",
    "        model=SEIR_Testing, variable_param_ranges=None, #Choose Model and Ranges\n",
    "        train_period=7, val_period=7, num_evals=1000, initialisation='intermediate', #Optimisation related parameters\n",
    "        which_compartments=which_compartments, #Compartments to Apply Loss on \n",
    "        smooth_jump=False, smoothing_length=33, smoothing_method='weighted') #Smoothing\n",
    "    \n",
    "    predictions_dict[(state, district)]['state'] = state\n",
    "    predictions_dict[(state, district)]['dist'] = district\n",
    "    predictions_dict[(state, district)]['fitting_date'] = datetime.datetime.now().strftime(\"%Y-%m-%d\")\n",
    "    predictions_dict[(state, district)]['datasource'] = 'covid19api' if predictions_dict[(state, district)]['m1']['data_from_tracker'] else 'municipality'\n",
    "    predictions_dict[(state, district)]['variable_param_ranges'] = predictions_dict[(state, district)]['m1']['variable_param_ranges']"
   ]
  },
  {
   "cell_type": "code",
   "execution_count": null,
   "metadata": {},
   "outputs": [],
   "source": [
    "lc.create_loss_dataframe_master(predictions_dict, 'm1')"
   ]
  },
  {
   "cell_type": "markdown",
   "metadata": {},
   "source": [
    "### Hospitalised and total infected"
   ]
  },
  {
   "cell_type": "code",
   "execution_count": null,
   "metadata": {},
   "outputs": [],
   "source": [
    "variable_param_ranges = {\n",
    "    'lockdown_R0': (1, 1.5),\n",
    "    'T_inc': (4, 10),\n",
    "    'T_inf': (10, 20),\n",
    "    'T_fatal': (260, 290)\n",
    "}\n",
    "variable_param_ranges = get_variable_param_ranges(variable_param_ranges)\n",
    "which_compartments=['hospitalised', 'total_infected']"
   ]
  },
  {
   "cell_type": "code",
   "execution_count": null,
   "metadata": {},
   "outputs": [],
   "source": [
    "for state, district in districts_to_show:\n",
    "    predictions_dict[(state, district)] = {}\n",
    "    predictions_dict[(state, district)]['m1'] = single_fitting_cycle(\n",
    "        dataframes, state, district, data_from_tracker=data_from_tracker, granular_data=False, filename=filename, #Data\n",
    "        model=SIRD, variable_param_ranges=variable_param_ranges, #Choose Model and Ranges\n",
    "        train_period=7, val_period=7, num_evals=1000, initialisation='intermediate', #Optimisation related parameters\n",
    "        which_compartments=which_compartments, #Compartments to Apply Loss on \n",
    "        smooth_jump=False, smoothing_length=33, smoothing_method='weighted') #Smoothing\n",
    "    \n",
    "    predictions_dict[(state, district)]['state'] = state\n",
    "    predictions_dict[(state, district)]['dist'] = district\n",
    "    predictions_dict[(state, district)]['fitting_date'] = datetime.datetime.now().strftime(\"%Y-%m-%d\")\n",
    "    predictions_dict[(state, district)]['datasource'] = 'covid19api' if predictions_dict[(state, district)]['m1']['data_from_tracker'] else 'municipality'\n",
    "    predictions_dict[(state, district)]['variable_param_ranges'] = predictions_dict[(state, district)]['m1']['variable_param_ranges']"
   ]
  },
  {
   "cell_type": "code",
   "execution_count": null,
   "metadata": {},
   "outputs": [],
   "source": [
    "lc.create_loss_dataframe_master(predictions_dict, 'm1')"
   ]
  },
  {
   "cell_type": "code",
   "execution_count": null,
   "metadata": {},
   "outputs": [],
   "source": []
  }
 ],
 "metadata": {
  "kernelspec": {
   "display_name": "Python 3",
   "language": "python",
   "name": "python3"
  },
  "language_info": {
   "codemirror_mode": {
    "name": "ipython",
    "version": 3
   },
   "file_extension": ".py",
   "mimetype": "text/x-python",
   "name": "python",
   "nbconvert_exporter": "python",
   "pygments_lexer": "ipython3"
  }
 },
 "nbformat": 4,
 "nbformat_minor": 4
}
