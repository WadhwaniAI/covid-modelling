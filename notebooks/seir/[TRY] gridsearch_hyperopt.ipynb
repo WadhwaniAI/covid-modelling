{
 "cells": [
  {
   "cell_type": "code",
   "execution_count": null,
   "metadata": {},
   "outputs": [],
   "source": [
    "%load_ext autoreload\n",
    "%autoreload 2"
   ]
  },
  {
   "cell_type": "code",
   "execution_count": null,
   "metadata": {},
   "outputs": [],
   "source": [
    "import numpy as np\n",
    "import pandas as pd\n",
    "import matplotlib.pyplot as plt\n",
    "import matplotlib.dates as mdates\n",
    "import seaborn as sns\n",
    "from hyperopt import hp, tpe, fmin, Trials\n",
    "from tqdm import tqdm\n",
    "\n",
    "import datetime\n",
    "import copy\n",
    "import json\n",
    "\n",
    "import sys\n",
    "sys.path.append('../../')\n",
    "\n",
    "from data.dataloader import Covid19IndiaLoader\n",
    "from data.processing import get_data\n",
    "from data.processing import granular, processing\n",
    "\n",
    "from models.seir import SEIR_Testing, SEIRHD, SEIR_Movement, SEIR_Movement_Testing, SEIRHD_Severity, SEIRHD_Bed\n",
    "\n",
    "from main.seir.fitting import train_val_split, single_fitting_cycle, get_variable_param_ranges\n",
    "from main.seir.forecast import get_forecast, create_region_csv, create_all_csvs, write_csv\n",
    "from main.seir.sensitivity import sensitivity_all_comps\n",
    "from main.seir.optimiser import Optimiser\n",
    "\n",
    "\n",
    "from utils.create_report import create_report\n",
    "from utils.loss import Loss_Calculator\n",
    "from utils.smooth_jump import smooth_big_jump_stratified, smooth_big_jump\n",
    "from viz import plot_forecast, plot_fit, plot_fit_multiple_preds"
   ]
  },
  {
   "cell_type": "markdown",
   "metadata": {},
   "source": [
    "## Load Covid19india Data"
   ]
  },
  {
   "cell_type": "code",
   "execution_count": null,
   "metadata": {},
   "outputs": [],
   "source": [
    "loader = Covid19IndiaLoader()\n",
    "dataframes = loader.get_covid19india_api_data()"
   ]
  },
  {
   "cell_type": "code",
   "execution_count": null,
   "metadata": {},
   "outputs": [],
   "source": [
    "predictions_dict = {}"
   ]
  },
  {
   "cell_type": "markdown",
   "metadata": {},
   "source": [
    "## Select Districts to fit on"
   ]
  },
  {
   "cell_type": "code",
   "execution_count": null,
   "metadata": {},
   "outputs": [],
   "source": [
    "state, district = ('Maharashtra', 'Mumbai')"
   ]
  },
  {
   "cell_type": "markdown",
   "metadata": {},
   "source": [
    "## Get Variable Params"
   ]
  },
  {
   "cell_type": "code",
   "execution_count": null,
   "metadata": {},
   "outputs": [],
   "source": [
    "variable_param_ranges = {\n",
    "    'lockdown_R0': (1, 1.5),\n",
    "    'T_inc': (4, 5),\n",
    "    'T_inf': (3, 4),\n",
    "    'T_recov_hq': (50, 70),\n",
    "    'T_recov_non_o2_beds': (20, 30),\n",
    "    'T_recov_o2_beds': (35, 50),\n",
    "    'T_recov_icu': (20, 40),\n",
    "    'T_recov_ventilator': (50, 60),\n",
    "    'P_non_oxy': (0, 0.15),\n",
    "    'P_oxy': (0, 0.15),\n",
    "    'P_icu': (0, 0.05),\n",
    "    'P_vent': (0, 0.05),\n",
    "    'P_fatal': (0, 0.2),\n",
    "    'E_hosp_ratio': (0, 2),\n",
    "    'I_hosp_ratio': (0, 1)\n",
    "}\n",
    "variable_param_ranges = get_variable_param_ranges(variable_param_ranges)"
   ]
  },
  {
   "cell_type": "markdown",
   "metadata": {},
   "source": [
    "## Perform M1 and M2 fits"
   ]
  },
  {
   "cell_type": "code",
   "execution_count": null,
   "metadata": {},
   "outputs": [],
   "source": [
    "val_period = (datetime.datetime.strptime('2020-07-07', '%Y-%m-%d') - datetime.datetime.strptime('2020-06-08', '%Y-%m-%d')).days"
   ]
  },
  {
   "cell_type": "code",
   "execution_count": null,
   "metadata": {
    "collapsed": true,
    "jupyter": {
     "outputs_hidden": true,
     "source_hidden": true
    }
   },
   "outputs": [],
   "source": [
    "for state, district in districts_to_show:\n",
    "    predictions_dict[(state, district)] = {}\n",
    "    predictions_dict[(state, district)]['m1'] = single_fitting_cycle(\n",
    "        dataframes, state, district, data_from_tracker=True, granular_data=False, filename=None, #Data\n",
    "        model=SEIRHD, variable_param_ranges=None, #Choose Model and Ranges\n",
    "        train_period=21, val_period=val_period, num_evals=1000, initialisation='intermediate', #Optimisation related parameters\n",
    "        which_compartments=['hospitalised', 'deceased', 'recovered', 'total_infected'], #Compartments to Apply Loss on \n",
    "        smooth_jump=True) #Smoothing\n",
    "    \n",
    "#     predictions_dict[(state, district)]['m2'] = single_fitting_cycle(\n",
    "#         dataframes, state, district, data_from_tracker=True, granular_data=False, filename=None, #Data\n",
    "#         model=SEIRHD, variable_param_ranges=None, #Choose Model and Ranges\n",
    "#         train_period=21, val_period=0, num_evals=1000, initialisation='intermediate', #Optimisation related parameters\n",
    "#         which_compartments=['hospitalised', 'deceased', 'recovered', 'total_infected'], #Compartments to Apply Loss on \n",
    "#         smooth_jump=True) #Smoothing\n",
    "    \n",
    "    predictions_dict[(state, district)]['state'] = state\n",
    "    predictions_dict[(state, district)]['dist'] = district\n",
    "    predictions_dict[(state, district)]['fitting_date'] = datetime.datetime.now().strftime(\"%Y-%m-%d\")\n",
    "    predictions_dict[(state, district)]['datasource'] = 'covid19api' if predictions_dict[(state, district)]['m1']['data_from_tracker'] else 'municipality'\n",
    "    predictions_dict[(state, district)]['variable_param_ranges'] = predictions_dict[(state, district)]['m1']['variable_param_ranges']\n",
    "#     predictions_dict[(state, district)]['data_last_date'] = predictions_dict[(state, district)]['m2']['data_last_date']"
   ]
  },
  {
   "cell_type": "code",
   "execution_count": null,
   "metadata": {},
   "outputs": [],
   "source": [
    "predictions_dict[(state, district)] = {}\n",
    "for i, val_period in enumerate(np.arange(1, 6)*7):\n",
    "    predictions_dict[(state, district)]['m{}'.format(i+1)] = single_fitting_cycle(\n",
    "        dataframes, state, district, data_from_tracker=True, granular_data=False, filename=None, #Data\n",
    "        model=SEIRHD, variable_param_ranges=None, #Choose Model and Ranges\n",
    "        train_period=21, val_period=val_period, num_evals=1000, initialisation='intermediate', #Optimisation related parameters\n",
    "        which_compartments=['hospitalised', 'deceased', 'recovered', 'total_infected'], #Compartments to Apply Loss on \n",
    "        smooth_jump=True) #Smoothing\n",
    "    \n",
    "    \n",
    "predictions_dict[(state, district)]['state'] = state\n",
    "predictions_dict[(state, district)]['dist'] = district\n",
    "predictions_dict[(state, district)]['fitting_date'] = datetime.datetime.now().strftime(\"%Y-%m-%d\")\n",
    "predictions_dict[(state, district)]['datasource'] = 'covid19api' if predictions_dict[(state, district)]['m1']['data_from_tracker'] else 'municipality'\n",
    "predictions_dict[(state, district)]['variable_param_ranges'] = predictions_dict[(state, district)]['m1']['variable_param_ranges']\n",
    "# predictions_dict[(state, district)]['data_last_date'] = predictions_dict[(state, district)]['m2']['data_last_date']"
   ]
  },
  {
   "cell_type": "markdown",
   "metadata": {},
   "source": [
    "## Sensitivity Analysis"
   ]
  },
  {
   "cell_type": "code",
   "execution_count": null,
   "metadata": {},
   "outputs": [],
   "source": [
    "for i in np.arange(1, 6):\n",
    "    which_fit = 'm{}'.format(i)\n",
    "    fig, best_params, df_prediction_gsbo = sensitivity_all_comps(predictions_dict[('Maharashtra', 'Mumbai')], which_fit=which_fit)\n",
    "    predictions_dict[('Maharashtra', 'Mumbai')][which_fit]['best_params_gsbo'] = best_params\n",
    "    predictions_dict[('Maharashtra', 'Mumbai')][which_fit]['df_prediction_gsbo'] = df_prediction_gsbo\n",
    "    plot_fit_multiple_preds(predictions_dict[('Maharashtra', 'Mumbai')], which_fit=which_fit)"
   ]
  },
  {
   "cell_type": "code",
   "execution_count": null,
   "metadata": {
    "collapsed": true,
    "jupyter": {
     "outputs_hidden": true,
     "source_hidden": true
    }
   },
   "outputs": [],
   "source": [
    "from utils.enums.columns import *\n",
    "from viz import axis_formatter\n",
    "\n",
    "df_train = predictions_dict[('Maharashtra', 'Mumbai')]['m1']['df_train']\n",
    "df_val = predictions_dict[('Maharashtra', 'Mumbai')]['m1']['df_val']\n",
    "df_true_plotting_rolling = pd.concat([df_train, df_val], ignore_index=True)\n",
    "df_true_plotting = predictions_dict[('Maharashtra', 'Mumbai')]['m1']['df_district']\n",
    "df_prediction = predictions_dict[('Maharashtra', 'Mumbai')]['m1']['df_prediction']\n",
    "train_period = predictions_dict[('Maharashtra', 'Mumbai')]['m1']['run_params']['train_period']\n",
    "\n",
    "fig, ax = plt.subplots(figsize=(12, 12))\n",
    "for compartment in compartments['base']:\n",
    "    ax.plot(df_true_plotting[compartments['date'][0].name], df_true_plotting[compartment.name],\n",
    "            '-o', color=compartment.color, label='{} (Observed)'.format(compartment.label))\n",
    "    ax.plot(df_true_plotting_rolling[compartments['date'][0].name], df_true_plotting_rolling[compartment.name],\n",
    "            '-', color=compartment.color, label='{} (Obs RA)'.format(compartment.label))\n",
    "    ax.plot(df_prediction[compartments['date'][0].name], df_prediction[compartment.name],\n",
    "            '-.', color=compartment.color, label='{} BO Best (Predicted)'.format(compartment.label))\n",
    "    ax.plot(df_prediction_gsbo[compartments['date'][0].name], df_prediction_gsbo[compartment.name],\n",
    "            '-x', color=compartment.color, label='{} GS+BO (Predicted)'.format(compartment.label))\n",
    "\n",
    "    ax.axvline(x=df_train.iloc[-train_period, :]['date'], ls=':', color='brown', label='Train starts')\n",
    "    if isinstance(df_val, pd.DataFrame) and len(df_val) > 0:\n",
    "        ax.axvline(x=df_val.iloc[0, ]['date'], ls=':', color='black', label='Val starts')\n",
    "\n",
    "axis_formatter(ax, None, custom_legend=False)\n",
    "\n",
    "plt.tight_layout()"
   ]
  },
  {
   "cell_type": "markdown",
   "metadata": {},
   "source": [
    "## Create Master Loss Dataframe"
   ]
  },
  {
   "cell_type": "markdown",
   "metadata": {},
   "source": [
    "### M1 Loss DataFrame"
   ]
  },
  {
   "cell_type": "code",
   "execution_count": null,
   "metadata": {},
   "outputs": [],
   "source": [
    "lc = Loss_Calculator()"
   ]
  },
  {
   "cell_type": "code",
   "execution_count": null,
   "metadata": {},
   "outputs": [],
   "source": [
    "lc.create_loss_dataframe_master(predictions_dict, 'm1')"
   ]
  },
  {
   "cell_type": "markdown",
   "metadata": {},
   "source": [
    "### M2 Loss DataFrame"
   ]
  },
  {
   "cell_type": "code",
   "execution_count": null,
   "metadata": {},
   "outputs": [],
   "source": [
    "lc.create_loss_dataframe_master(predictions_dict, 'm2')"
   ]
  },
  {
   "cell_type": "markdown",
   "metadata": {},
   "source": [
    "## Plot Forecasts"
   ]
  },
  {
   "cell_type": "code",
   "execution_count": null,
   "metadata": {},
   "outputs": [],
   "source": [
    "for region in predictions_dict.keys():\n",
    "    predictions_dict[region]['forecast'] = plot_forecast(predictions_dict[region], region, both_forecasts=True, error_bars=True)"
   ]
  },
  {
   "cell_type": "markdown",
   "metadata": {},
   "source": [
    "## Create Report"
   ]
  },
  {
   "cell_type": "code",
   "execution_count": null,
   "metadata": {},
   "outputs": [],
   "source": [
    "for region in predictions_dict.keys():\n",
    "    create_report(predictions_dict[region])"
   ]
  },
  {
   "cell_type": "markdown",
   "metadata": {},
   "source": [
    "## Create and Save Output CSV"
   ]
  },
  {
   "cell_type": "code",
   "execution_count": null,
   "metadata": {},
   "outputs": [],
   "source": [
    "df_output = create_all_csvs(predictions_dict, icu_fraction=0.02)"
   ]
  },
  {
   "cell_type": "code",
   "execution_count": null,
   "metadata": {},
   "outputs": [],
   "source": [
    "write_csv(df_output)"
   ]
  },
  {
   "cell_type": "code",
   "execution_count": null,
   "metadata": {},
   "outputs": [],
   "source": []
  }
 ],
 "metadata": {
  "kernelspec": {
   "display_name": "Python (covid)",
   "language": "python",
   "name": "covid"
  },
  "language_info": {
   "codemirror_mode": {
    "name": "ipython",
    "version": 2
   },
   "file_extension": ".py",
   "mimetype": "text/x-python",
   "name": "python",
   "nbconvert_exporter": "python",
   "pygments_lexer": "ipython2",
   "version": "2.7.16"
  }
 },
 "nbformat": 4,
 "nbformat_minor": 4
}
