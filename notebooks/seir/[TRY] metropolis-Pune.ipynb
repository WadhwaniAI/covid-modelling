{
 "cells": [
  {
   "cell_type": "code",
   "execution_count": 1,
   "metadata": {},
   "outputs": [
    {
     "name": "stdout",
     "output_type": "stream",
     "text": [
      "Automatic pdb calling has been turned ON\n"
     ]
    }
   ],
   "source": [
    "%load_ext autoreload\n",
    "%autoreload 2\n",
    "%matplotlib inline\n",
    "%pdb"
   ]
  },
  {
   "cell_type": "code",
   "execution_count": 2,
   "metadata": {},
   "outputs": [],
   "source": [
    "import pdb\n",
    "import matplotlib\n",
    "import numpy as np\n",
    "import pandas as pd\n",
    "from tqdm import tqdm\n",
    "import multiprocessing as mp\n",
    "import matplotlib.pyplot as plt\n",
    "matplotlib.rcParams.update({'font.size': 18})\n",
    "from datetime import datetime\n",
    "from joblib import delayed, Parallel\n",
    "from collections import defaultdict, OrderedDict\n",
    "\n",
    "from utils.generic import init_params\n",
    "from main.seir.optimiser import Optimiser\n",
    "from models.seir.seir_testing import SEIR_Testing\n",
    "from data.processing import get_district_time_series\n",
    "from data.dataloader import get_covid19india_api_data"
   ]
  },
  {
   "cell_type": "markdown",
   "metadata": {},
   "source": [
    "## Load covid19 data"
   ]
  },
  {
   "cell_type": "code",
   "execution_count": 3,
   "metadata": {},
   "outputs": [],
   "source": [
    "now = datetime.now()\n",
    "dataframes = get_covid19india_api_data()"
   ]
  },
  {
   "cell_type": "code",
   "execution_count": 4,
   "metadata": {},
   "outputs": [
    {
     "data": {
      "text/plain": [
       "dict_keys(['df_tested', 'df_statewise', 'df_india_time_series', 'df_districtwise', 'df_raw_data_old', 'df_raw_data', 'df_deaths_recoveries', 'df_districts', 'df_travel_history', 'df_resources'])"
      ]
     },
     "execution_count": 4,
     "metadata": {},
     "output_type": "execute_result"
    }
   ],
   "source": [
    "dataframes.keys()"
   ]
  },
  {
   "cell_type": "code",
   "execution_count": 5,
   "metadata": {},
   "outputs": [
    {
     "name": "stderr",
     "output_type": "stream",
     "text": [
      "/home/users/namrata/anaconda3/envs/covid/lib/python3.8/site-packages/pandas/core/indexing.py:1048: SettingWithCopyWarning: \n",
      "A value is trying to be set on a copy of a slice from a DataFrame.\n",
      "Try using .loc[row_indexer,col_indexer] = value instead\n",
      "\n",
      "See the caveats in the documentation: https://pandas.pydata.org/pandas-docs/stable/user_guide/indexing.html#returning-a-view-versus-a-copy\n",
      "  self.obj[item_labels[indexer[info_axis]]] = value\n"
     ]
    }
   ],
   "source": [
    "regions = [('Delhi', 'South Delhi'), ('Karnataka', 'Bengaluru Urban'), ('Maharashtra', 'Mumbai'), ('Maharashtra', 'Pune'), ('Gujarat', 'Ahmedabad'), ('Rajasthan', 'Jaipur')]\n",
    "state, district = regions[3]\n",
    "df_district = get_district_time_series(dataframes, state=state, district=district, use_dataframe = 'districts_daily')"
   ]
  },
  {
   "cell_type": "markdown",
   "metadata": {},
   "source": [
    "## Create train-val splits"
   ]
  },
  {
   "cell_type": "code",
   "execution_count": 6,
   "metadata": {},
   "outputs": [],
   "source": [
    "# df_train = df_district\n",
    "df_train = df_district.iloc[:-5, :]\n",
    "df_val = df_district.iloc[-5:, :]"
   ]
  },
  {
   "cell_type": "code",
   "execution_count": 7,
   "metadata": {},
   "outputs": [
    {
     "data": {
      "text/html": [
       "<div>\n",
       "<style scoped>\n",
       "    .dataframe tbody tr th:only-of-type {\n",
       "        vertical-align: middle;\n",
       "    }\n",
       "\n",
       "    .dataframe tbody tr th {\n",
       "        vertical-align: top;\n",
       "    }\n",
       "\n",
       "    .dataframe thead th {\n",
       "        text-align: right;\n",
       "    }\n",
       "</style>\n",
       "<table border=\"1\" class=\"dataframe\">\n",
       "  <thead>\n",
       "    <tr style=\"text-align: right;\">\n",
       "      <th></th>\n",
       "      <th>state</th>\n",
       "      <th>district</th>\n",
       "      <th>date</th>\n",
       "      <th>hospitalised</th>\n",
       "      <th>total_infected</th>\n",
       "      <th>deceased</th>\n",
       "      <th>recovered</th>\n",
       "    </tr>\n",
       "  </thead>\n",
       "  <tbody>\n",
       "    <tr>\n",
       "      <th>0</th>\n",
       "      <td>Maharashtra</td>\n",
       "      <td>Pune</td>\n",
       "      <td>2020-04-24</td>\n",
       "      <td>696</td>\n",
       "      <td>910</td>\n",
       "      <td>62</td>\n",
       "      <td>152</td>\n",
       "    </tr>\n",
       "    <tr>\n",
       "      <th>1</th>\n",
       "      <td>Maharashtra</td>\n",
       "      <td>Pune</td>\n",
       "      <td>2020-04-25</td>\n",
       "      <td>772</td>\n",
       "      <td>1030</td>\n",
       "      <td>73</td>\n",
       "      <td>185</td>\n",
       "    </tr>\n",
       "    <tr>\n",
       "      <th>2</th>\n",
       "      <td>Maharashtra</td>\n",
       "      <td>Pune</td>\n",
       "      <td>2020-04-26</td>\n",
       "      <td>770</td>\n",
       "      <td>1052</td>\n",
       "      <td>76</td>\n",
       "      <td>206</td>\n",
       "    </tr>\n",
       "    <tr>\n",
       "      <th>3</th>\n",
       "      <td>Maharashtra</td>\n",
       "      <td>Pune</td>\n",
       "      <td>2020-04-27</td>\n",
       "      <td>762</td>\n",
       "      <td>1052</td>\n",
       "      <td>80</td>\n",
       "      <td>210</td>\n",
       "    </tr>\n",
       "    <tr>\n",
       "      <th>4</th>\n",
       "      <td>Maharashtra</td>\n",
       "      <td>Pune</td>\n",
       "      <td>2020-04-28</td>\n",
       "      <td>873</td>\n",
       "      <td>1174</td>\n",
       "      <td>80</td>\n",
       "      <td>221</td>\n",
       "    </tr>\n",
       "    <tr>\n",
       "      <th>5</th>\n",
       "      <td>Maharashtra</td>\n",
       "      <td>Pune</td>\n",
       "      <td>2020-04-29</td>\n",
       "      <td>863</td>\n",
       "      <td>1192</td>\n",
       "      <td>85</td>\n",
       "      <td>244</td>\n",
       "    </tr>\n",
       "    <tr>\n",
       "      <th>6</th>\n",
       "      <td>Maharashtra</td>\n",
       "      <td>Pune</td>\n",
       "      <td>2020-04-30</td>\n",
       "      <td>912</td>\n",
       "      <td>1248</td>\n",
       "      <td>88</td>\n",
       "      <td>248</td>\n",
       "    </tr>\n",
       "    <tr>\n",
       "      <th>7</th>\n",
       "      <td>Maharashtra</td>\n",
       "      <td>Pune</td>\n",
       "      <td>2020-05-01</td>\n",
       "      <td>901</td>\n",
       "      <td>1248</td>\n",
       "      <td>99</td>\n",
       "      <td>248</td>\n",
       "    </tr>\n",
       "    <tr>\n",
       "      <th>8</th>\n",
       "      <td>Maharashtra</td>\n",
       "      <td>Pune</td>\n",
       "      <td>2020-05-02</td>\n",
       "      <td>952</td>\n",
       "      <td>1339</td>\n",
       "      <td>102</td>\n",
       "      <td>285</td>\n",
       "    </tr>\n",
       "    <tr>\n",
       "      <th>9</th>\n",
       "      <td>Maharashtra</td>\n",
       "      <td>Pune</td>\n",
       "      <td>2020-05-03</td>\n",
       "      <td>951</td>\n",
       "      <td>1396</td>\n",
       "      <td>106</td>\n",
       "      <td>339</td>\n",
       "    </tr>\n",
       "    <tr>\n",
       "      <th>10</th>\n",
       "      <td>Maharashtra</td>\n",
       "      <td>Pune</td>\n",
       "      <td>2020-05-04</td>\n",
       "      <td>951</td>\n",
       "      <td>1396</td>\n",
       "      <td>106</td>\n",
       "      <td>339</td>\n",
       "    </tr>\n",
       "    <tr>\n",
       "      <th>11</th>\n",
       "      <td>Maharashtra</td>\n",
       "      <td>Pune</td>\n",
       "      <td>2020-05-05</td>\n",
       "      <td>1518</td>\n",
       "      <td>2062</td>\n",
       "      <td>119</td>\n",
       "      <td>425</td>\n",
       "    </tr>\n",
       "    <tr>\n",
       "      <th>12</th>\n",
       "      <td>Maharashtra</td>\n",
       "      <td>Pune</td>\n",
       "      <td>2020-05-06</td>\n",
       "      <td>1437</td>\n",
       "      <td>2087</td>\n",
       "      <td>122</td>\n",
       "      <td>528</td>\n",
       "    </tr>\n",
       "    <tr>\n",
       "      <th>13</th>\n",
       "      <td>Maharashtra</td>\n",
       "      <td>Pune</td>\n",
       "      <td>2020-05-07</td>\n",
       "      <td>1412</td>\n",
       "      <td>2129</td>\n",
       "      <td>129</td>\n",
       "      <td>588</td>\n",
       "    </tr>\n",
       "    <tr>\n",
       "      <th>14</th>\n",
       "      <td>Maharashtra</td>\n",
       "      <td>Pune</td>\n",
       "      <td>2020-05-08</td>\n",
       "      <td>1368</td>\n",
       "      <td>2177</td>\n",
       "      <td>139</td>\n",
       "      <td>670</td>\n",
       "    </tr>\n",
       "    <tr>\n",
       "      <th>15</th>\n",
       "      <td>Maharashtra</td>\n",
       "      <td>Pune</td>\n",
       "      <td>2020-05-09</td>\n",
       "      <td>1346</td>\n",
       "      <td>2225</td>\n",
       "      <td>149</td>\n",
       "      <td>730</td>\n",
       "    </tr>\n",
       "    <tr>\n",
       "      <th>16</th>\n",
       "      <td>Maharashtra</td>\n",
       "      <td>Pune</td>\n",
       "      <td>2020-05-10</td>\n",
       "      <td>1794</td>\n",
       "      <td>2679</td>\n",
       "      <td>155</td>\n",
       "      <td>730</td>\n",
       "    </tr>\n",
       "    <tr>\n",
       "      <th>17</th>\n",
       "      <td>Maharashtra</td>\n",
       "      <td>Pune</td>\n",
       "      <td>2020-05-11</td>\n",
       "      <td>1545</td>\n",
       "      <td>2789</td>\n",
       "      <td>158</td>\n",
       "      <td>1086</td>\n",
       "    </tr>\n",
       "    <tr>\n",
       "      <th>18</th>\n",
       "      <td>Maharashtra</td>\n",
       "      <td>Pune</td>\n",
       "      <td>2020-05-12</td>\n",
       "      <td>1610</td>\n",
       "      <td>2937</td>\n",
       "      <td>164</td>\n",
       "      <td>1163</td>\n",
       "    </tr>\n",
       "    <tr>\n",
       "      <th>19</th>\n",
       "      <td>Maharashtra</td>\n",
       "      <td>Pune</td>\n",
       "      <td>2020-05-13</td>\n",
       "      <td>1834</td>\n",
       "      <td>3161</td>\n",
       "      <td>164</td>\n",
       "      <td>1163</td>\n",
       "    </tr>\n",
       "    <tr>\n",
       "      <th>20</th>\n",
       "      <td>Maharashtra</td>\n",
       "      <td>Pune</td>\n",
       "      <td>2020-05-14</td>\n",
       "      <td>1942</td>\n",
       "      <td>3314</td>\n",
       "      <td>175</td>\n",
       "      <td>1197</td>\n",
       "    </tr>\n",
       "    <tr>\n",
       "      <th>21</th>\n",
       "      <td>Maharashtra</td>\n",
       "      <td>Pune</td>\n",
       "      <td>2020-05-15</td>\n",
       "      <td>1923</td>\n",
       "      <td>3481</td>\n",
       "      <td>181</td>\n",
       "      <td>1377</td>\n",
       "    </tr>\n",
       "    <tr>\n",
       "      <th>22</th>\n",
       "      <td>Maharashtra</td>\n",
       "      <td>Pune</td>\n",
       "      <td>2020-05-16</td>\n",
       "      <td>2007</td>\n",
       "      <td>3647</td>\n",
       "      <td>188</td>\n",
       "      <td>1452</td>\n",
       "    </tr>\n",
       "    <tr>\n",
       "      <th>23</th>\n",
       "      <td>Maharashtra</td>\n",
       "      <td>Pune</td>\n",
       "      <td>2020-05-17</td>\n",
       "      <td>2113</td>\n",
       "      <td>3821</td>\n",
       "      <td>197</td>\n",
       "      <td>1511</td>\n",
       "    </tr>\n",
       "    <tr>\n",
       "      <th>24</th>\n",
       "      <td>Maharashtra</td>\n",
       "      <td>Pune</td>\n",
       "      <td>2020-05-18</td>\n",
       "      <td>2190</td>\n",
       "      <td>4071</td>\n",
       "      <td>205</td>\n",
       "      <td>1676</td>\n",
       "    </tr>\n",
       "    <tr>\n",
       "      <th>25</th>\n",
       "      <td>Maharashtra</td>\n",
       "      <td>Pune</td>\n",
       "      <td>2020-05-19</td>\n",
       "      <td>2190</td>\n",
       "      <td>4071</td>\n",
       "      <td>205</td>\n",
       "      <td>1676</td>\n",
       "    </tr>\n",
       "    <tr>\n",
       "      <th>26</th>\n",
       "      <td>Maharashtra</td>\n",
       "      <td>Pune</td>\n",
       "      <td>2020-05-20</td>\n",
       "      <td>2444</td>\n",
       "      <td>4477</td>\n",
       "      <td>226</td>\n",
       "      <td>1807</td>\n",
       "    </tr>\n",
       "    <tr>\n",
       "      <th>27</th>\n",
       "      <td>Maharashtra</td>\n",
       "      <td>Pune</td>\n",
       "      <td>2020-05-21</td>\n",
       "      <td>2557</td>\n",
       "      <td>4665</td>\n",
       "      <td>234</td>\n",
       "      <td>1874</td>\n",
       "    </tr>\n",
       "    <tr>\n",
       "      <th>28</th>\n",
       "      <td>Maharashtra</td>\n",
       "      <td>Pune</td>\n",
       "      <td>2020-05-22</td>\n",
       "      <td>2810</td>\n",
       "      <td>4993</td>\n",
       "      <td>243</td>\n",
       "      <td>1940</td>\n",
       "    </tr>\n",
       "    <tr>\n",
       "      <th>29</th>\n",
       "      <td>Maharashtra</td>\n",
       "      <td>Pune</td>\n",
       "      <td>2020-05-23</td>\n",
       "      <td>2916</td>\n",
       "      <td>5347</td>\n",
       "      <td>257</td>\n",
       "      <td>2174</td>\n",
       "    </tr>\n",
       "  </tbody>\n",
       "</table>\n",
       "</div>"
      ],
      "text/plain": [
       "          state district       date hospitalised total_infected deceased  \\\n",
       "0   Maharashtra     Pune 2020-04-24          696            910       62   \n",
       "1   Maharashtra     Pune 2020-04-25          772           1030       73   \n",
       "2   Maharashtra     Pune 2020-04-26          770           1052       76   \n",
       "3   Maharashtra     Pune 2020-04-27          762           1052       80   \n",
       "4   Maharashtra     Pune 2020-04-28          873           1174       80   \n",
       "5   Maharashtra     Pune 2020-04-29          863           1192       85   \n",
       "6   Maharashtra     Pune 2020-04-30          912           1248       88   \n",
       "7   Maharashtra     Pune 2020-05-01          901           1248       99   \n",
       "8   Maharashtra     Pune 2020-05-02          952           1339      102   \n",
       "9   Maharashtra     Pune 2020-05-03          951           1396      106   \n",
       "10  Maharashtra     Pune 2020-05-04          951           1396      106   \n",
       "11  Maharashtra     Pune 2020-05-05         1518           2062      119   \n",
       "12  Maharashtra     Pune 2020-05-06         1437           2087      122   \n",
       "13  Maharashtra     Pune 2020-05-07         1412           2129      129   \n",
       "14  Maharashtra     Pune 2020-05-08         1368           2177      139   \n",
       "15  Maharashtra     Pune 2020-05-09         1346           2225      149   \n",
       "16  Maharashtra     Pune 2020-05-10         1794           2679      155   \n",
       "17  Maharashtra     Pune 2020-05-11         1545           2789      158   \n",
       "18  Maharashtra     Pune 2020-05-12         1610           2937      164   \n",
       "19  Maharashtra     Pune 2020-05-13         1834           3161      164   \n",
       "20  Maharashtra     Pune 2020-05-14         1942           3314      175   \n",
       "21  Maharashtra     Pune 2020-05-15         1923           3481      181   \n",
       "22  Maharashtra     Pune 2020-05-16         2007           3647      188   \n",
       "23  Maharashtra     Pune 2020-05-17         2113           3821      197   \n",
       "24  Maharashtra     Pune 2020-05-18         2190           4071      205   \n",
       "25  Maharashtra     Pune 2020-05-19         2190           4071      205   \n",
       "26  Maharashtra     Pune 2020-05-20         2444           4477      226   \n",
       "27  Maharashtra     Pune 2020-05-21         2557           4665      234   \n",
       "28  Maharashtra     Pune 2020-05-22         2810           4993      243   \n",
       "29  Maharashtra     Pune 2020-05-23         2916           5347      257   \n",
       "\n",
       "   recovered  \n",
       "0        152  \n",
       "1        185  \n",
       "2        206  \n",
       "3        210  \n",
       "4        221  \n",
       "5        244  \n",
       "6        248  \n",
       "7        248  \n",
       "8        285  \n",
       "9        339  \n",
       "10       339  \n",
       "11       425  \n",
       "12       528  \n",
       "13       588  \n",
       "14       670  \n",
       "15       730  \n",
       "16       730  \n",
       "17      1086  \n",
       "18      1163  \n",
       "19      1163  \n",
       "20      1197  \n",
       "21      1377  \n",
       "22      1452  \n",
       "23      1511  \n",
       "24      1676  \n",
       "25      1676  \n",
       "26      1807  \n",
       "27      1874  \n",
       "28      1940  \n",
       "29      2174  "
      ]
     },
     "execution_count": 7,
     "metadata": {},
     "output_type": "execute_result"
    }
   ],
   "source": [
    "df_district"
   ]
  },
  {
   "cell_type": "markdown",
   "metadata": {},
   "source": [
    "## Set priors for parameters of interest"
   ]
  },
  {
   "cell_type": "code",
   "execution_count": 8,
   "metadata": {},
   "outputs": [],
   "source": [
    "## assuming uniform priors, following dictionary contains the ranges\n",
    "prior_ranges = OrderedDict()\n",
    "prior_ranges['R0'] = (1.6, 3)\n",
    "prior_ranges['T_inc'] = (4, 5)\n",
    "prior_ranges['T_inf'] = (3, 4)\n",
    "prior_ranges['T_recov_severe'] = (5, 60)\n",
    "prior_ranges['P_severe'] = (0.3, 0.99)\n",
    "prior_ranges['intervention_amount'] = (0.3, 1)\n",
    "prior_ranges['sigma'] = (0, 1)\n",
    "\n",
    "def param_init(prior_ranges):\n",
    "    theta = defaultdict()\n",
    "    for key in prior_ranges:\n",
    "        theta[key] = np.random.uniform(prior_ranges[key][0], prior_ranges[key][1])\n",
    "        \n",
    "    return theta"
   ]
  },
  {
   "cell_type": "markdown",
   "metadata": {},
   "source": [
    "## Proposal function to sample theta_new given theta_old"
   ]
  },
  {
   "cell_type": "code",
   "execution_count": 9,
   "metadata": {},
   "outputs": [],
   "source": [
    "proposal_sigmas = OrderedDict()\n",
    "proposal_sigmas['R0'] = 20\n",
    "proposal_sigmas['T_inc'] = 100\n",
    "proposal_sigmas['T_inf'] = 10\n",
    "proposal_sigmas['T_recov_severe'] = np.exp(100)\n",
    "proposal_sigmas['P_severe'] = 10\n",
    "proposal_sigmas['intervention_amount'] = 10\n",
    "proposal_sigmas['sigma'] = 10\n",
    "\n",
    "def proposal(theta_old, proposal_sigmas):\n",
    "    theta_new = [np.nan]\n",
    "    \n",
    "    while np.isnan(theta_new).any():\n",
    "        theta_new = np.random.normal(loc=np.exp([*theta_old.values()]), scale=[*proposal_sigmas.values()])\n",
    "        theta_new = np.log(theta_new)\n",
    "    \n",
    "    return dict(zip(theta_old.keys(), theta_new))\n"
   ]
  },
  {
   "cell_type": "code",
   "execution_count": 10,
   "metadata": {},
   "outputs": [
    {
     "name": "stdout",
     "output_type": "stream",
     "text": [
      "R0 2.0392710104664635 3.2433247215348096\n",
      "T_inc 4.599702986519998 4.132615122741007\n",
      "T_inf 3.0001109888946127 3.3594743386139303\n",
      "T_recov_severe 57.25916333011694 99.82301758973918\n",
      "P_severe 0.937527659340349 3.089772685911688\n",
      "intervention_amount 0.9763756045816407 -3.7369880494324867\n",
      "sigma 0.8778174580241368 1.6892807886890038\n"
     ]
    },
    {
     "name": "stderr",
     "output_type": "stream",
     "text": [
      "<ipython-input-9-11c7de85d247>:15: RuntimeWarning: invalid value encountered in log\n",
      "  theta_new = np.log(theta_new)\n"
     ]
    }
   ],
   "source": [
    "theta = param_init(prior_ranges)\n",
    "new_theta = proposal(theta, proposal_sigmas)\n",
    "for key in theta:\n",
    "    print(key, theta[key], new_theta[key])"
   ]
  },
  {
   "cell_type": "markdown",
   "metadata": {},
   "source": [
    "## Log Likelihood and Prior"
   ]
  },
  {
   "cell_type": "code",
   "execution_count": 11,
   "metadata": {},
   "outputs": [],
   "source": [
    "def log_likelihood(theta, df_train, fit_days=10):\n",
    "    if (np.array([*theta.values()]) < 0).any():\n",
    "        return -np.inf\n",
    "    optimiser = Optimiser()\n",
    "    default_params = optimiser.init_default_params(df_train)\n",
    "    df_prediction = optimiser.solve(theta, default_params, df_train)\n",
    "    pred = np.array(df_prediction['total_infected'])[-fit_days:]\n",
    "    true = np.array(df_train['total_infected'])[-fit_days:]\n",
    "    sigma = theta['sigma']\n",
    "    N = len(true)\n",
    "    ll = - (N * np.log(np.sqrt(2*np.pi) * sigma)) - (np.sum(((true - pred) ** 2) / (2 * sigma ** 2)))\n",
    "    return ll\n",
    "\n",
    "def log_prior(theta):\n",
    "    if (np.array([*theta.values()]) < 0).any():\n",
    "        prior = 0\n",
    "    else:\n",
    "        prior = 1\n",
    "    \n",
    "    return np.log(prior)\n",
    "\n",
    "def in_valid_range(key, value):\n",
    "    return (value <= prior_ranges[key][1]) and (value >= prior_ranges[key][0])"
   ]
  },
  {
   "cell_type": "markdown",
   "metadata": {},
   "source": [
    "## Acceptance function"
   ]
  },
  {
   "cell_type": "code",
   "execution_count": 12,
   "metadata": {},
   "outputs": [],
   "source": [
    "def accept(theta_old, theta_new, df_train):    \n",
    "    x_new = log_likelihood(theta_new, df_train) + log_prior(theta_new)\n",
    "    x_old = log_likelihood(theta_old, df_train) + log_prior(theta_old)\n",
    "    \n",
    "    if (x_new) > (x_old):\n",
    "        return True\n",
    "    else:\n",
    "        x = np.random.uniform(0, 1)\n",
    "        return (x < np.exp(x_new - x_old))\n",
    "    \n",
    "def anneal_accept(iter):\n",
    "    prob = 1 - np.exp(-(1/(iter + 1e-10)))\n",
    "    x = np.random.uniform(0, 1)\n",
    "    return (x < prob)"
   ]
  },
  {
   "cell_type": "markdown",
   "metadata": {},
   "source": [
    "## Metropolis loop"
   ]
  },
  {
   "cell_type": "code",
   "execution_count": 13,
   "metadata": {},
   "outputs": [],
   "source": [
    "def metropolis(prior_ranges, proposal_sigmas, df_train, iter=1000):\n",
    "    theta = param_init(prior_ranges)\n",
    "    accepted = [theta]\n",
    "    rejected = list()\n",
    "    \n",
    "    for i in tqdm(range(iter)):\n",
    "        theta_new = proposal(theta, proposal_sigmas)\n",
    "        if accept(theta, theta_new, df_train):\n",
    "            theta = theta_new\n",
    "        else:\n",
    "            rejected.append(theta_new)\n",
    "        accepted.append(theta)\n",
    "    \n",
    "    return accepted, rejected"
   ]
  },
  {
   "cell_type": "markdown",
   "metadata": {},
   "source": [
    "## Prediction Interval calculator"
   ]
  },
  {
   "cell_type": "code",
   "execution_count": 14,
   "metadata": {},
   "outputs": [],
   "source": [
    "def get_PI(pred_dfs, date, key, multiplier=1.96):\n",
    "    pred_samples = list()\n",
    "    for df in pred_dfs:\n",
    "        pred_samples.append(df.loc[date, key])\n",
    "        \n",
    "    mu = np.array(pred_samples).mean()\n",
    "    sigma = np.array(pred_samples).std()\n",
    "    low = mu - multiplier*sigma\n",
    "    high = mu + multiplier*sigma\n",
    "    return mu, low, high"
   ]
  },
  {
   "cell_type": "markdown",
   "metadata": {},
   "source": [
    "## Run multiple chains in parallel"
   ]
  },
  {
   "cell_type": "code",
   "execution_count": 15,
   "metadata": {},
   "outputs": [],
   "source": [
    "n_chains = 5\n",
    "mcmc = Parallel(n_jobs=n_chains)(delayed(metropolis)(prior_ranges, proposal_sigmas, df_train, iter=20000) for run in range(n_chains))"
   ]
  },
  {
   "cell_type": "markdown",
   "metadata": {},
   "source": [
    "## Visualize the samples and intervals"
   ]
  },
  {
   "cell_type": "code",
   "execution_count": 16,
   "metadata": {},
   "outputs": [],
   "source": [
    "def visualize(compartments: list, end_date: str = None): \n",
    "    data_split = df_district.copy()\n",
    "    optimiser = Optimiser()\n",
    "    default_params = optimiser.init_default_params(data_split)\n",
    "    \n",
    "    combined_acc = list()\n",
    "    for k, run in enumerate(mcmc):\n",
    "        burn_in = int(len(run) / 2)\n",
    "        combined_acc += run[0][burn_in:]\n",
    "\n",
    "    n_samples = 1000\n",
    "    sample_indices = np.random.uniform(0, len(combined_acc), n_samples)\n",
    "\n",
    "    pred_dfs = list()\n",
    "    for i in tqdm(sample_indices):\n",
    "        pred_dfs.append(optimiser.solve(combined_acc[int(i)], default_params, data_split, end_date=end_date))\n",
    "\n",
    "    for df in pred_dfs:\n",
    "        df.set_index('date', inplace=True)\n",
    "\n",
    "    result = pred_dfs[0].copy()\n",
    "    for col in result.columns:\n",
    "        result[\"{}_low\".format(col)] = ''\n",
    "        result[\"{}_high\".format(col)] = ''\n",
    "\n",
    "    for date in tqdm(pred_dfs[0].index):\n",
    "        for key in pred_dfs[0]:\n",
    "            result.loc[date, key], result.loc[date, \"{}_low\".format(key)], result.loc[date, \"{}_high\".format(key)] = get_PI(pred_dfs, date, key)\n",
    "\n",
    "    data_split.set_index(\"date\", inplace=True)\n",
    "\n",
    "    plt.figure(figsize=(15, 10))\n",
    "    \n",
    "    color = plt.cm.rainbow(np.linspace(0,1,len(compartments)))\n",
    "    for i, bucket in enumerate(compartments):\n",
    "        plt.plot(data_split.index.array, data_split[bucket].tolist(), c=color[i], marker='o', label='Actual {}'.format(bucket))\n",
    "        plt.plot(result.index.array, result[bucket].tolist(), c=color[i], label='Estimated {}'.format(bucket))\n",
    "        plt.plot(result.index.array, result['{}_low'.format(bucket)].tolist(), c=color[i], linestyle='dashdot')\n",
    "        plt.plot(result.index.array, result['{}_high'.format(bucket)].tolist(), c=color[i], linestyle='dashdot')\n",
    "    plt.axvline(x=df_train['date'][len(df_train)-1], c='b', linestyle='dashed', label='test starts')\n",
    "    plt.axvline(x=df_train['date'][len(df_train)-11], c='k', linestyle='dashed', label='train starts')\n",
    "    plt.xticks(rotation=90)\n",
    "    plt.legend()\n",
    "    plt.title(\"95% confidence intervals for {}, {}\".format(district, state))\n",
    "    plt.tight_layout()\n",
    "    \n",
    "    plt.savefig('./mcmc_confidence_intervals_{}_{}.png'.format(district, state))\n",
    "    plt.show()"
   ]
  },
  {
   "cell_type": "code",
   "execution_count": 17,
   "metadata": {},
   "outputs": [
    {
     "name": "stderr",
     "output_type": "stream",
     "text": [
      "100%|██████████| 1000/1000 [00:12<00:00, 77.00it/s]\n",
      "100%|██████████| 30/30 [00:04<00:00,  6.13it/s]\n"
     ]
    },
    {
     "data": {
      "image/png": "[encoded data removed]",
      "text/plain": [
       "<Figure size 1080x720 with 1 Axes>"
      ]
     },
     "metadata": {
      "needs_background": "light"
     },
     "output_type": "display_data"
    }
   ],
   "source": [
    "compartments = [\"total_infected\"]#, \"hospitalised\", \"recovered\", \"deceased\"]\n",
    "visualize(compartments)#, end_date=\"2020-06-21\")"
   ]
  },
  {
   "cell_type": "markdown",
   "metadata": {},
   "source": [
    "## Visualize all runs separately"
   ]
  },
  {
   "cell_type": "code",
   "execution_count": null,
   "metadata": {
    "jupyter": {
     "source_hidden": true
    },
    "scrolled": true
   },
   "outputs": [],
   "source": [
    "plt.figure(figsize=(30, 50))\n",
    "    \n",
    "for k, run in enumerate(mcmc):\n",
    "    data_split = df_district.copy()\n",
    "    optimiser = Optimiser()\n",
    "    default_params = optimiser.init_default_params(data_split)\n",
    "    \n",
    "    acc, rej = run[0], run[1]\n",
    "    df_samples = pd.DataFrame(acc)\n",
    "    \n",
    "    plt.subplot(len(mcmc), 3, 3*k + 1)\n",
    "    for param in df_samples.columns:\n",
    "        plt.plot(list(range(len(df_samples[param]))), df_samples[param], label=param)\n",
    "    plt.xlabel(\"iterations\")\n",
    "    plt.legend()\n",
    "    plt.title(\"Accepted samples from run {}\".format(k+1))\n",
    "    \n",
    "    rej_samples = pd.DataFrame(rej)\n",
    "    \n",
    "    plt.subplot(len(mcmc), 3, 3*k + 2)\n",
    "    for param in rej_samples.columns:\n",
    "        plt.scatter(list(range(len(rej_samples[param]))), rej_samples[param], label=param, s=2)\n",
    "    plt.xlabel(\"iterations\")\n",
    "    plt.legend()\n",
    "    plt.title(\"Rejected samples from run {}\".format(k+1))\n",
    "    \n",
    "    burn_in = int(len(acc) / 2)\n",
    "    n_samples = 1000\n",
    "    posterior_samples = acc[burn_in:]\n",
    "    sample_indices = np.random.uniform(0, len(posterior_samples), n_samples)\n",
    "\n",
    "    pred_dfs = list()\n",
    "    for i in tqdm(sample_indices):\n",
    "        pred_dfs.append(optimiser.solve(posterior_samples[int(i)], default_params, data_split))\n",
    "        \n",
    "    for df in pred_dfs:\n",
    "        df.set_index('date', inplace=True)\n",
    "        \n",
    "    result = pred_dfs[0].copy()\n",
    "    for col in result.columns:\n",
    "        result[\"{}_low\".format(col)] = ''\n",
    "        result[\"{}_high\".format(col)] = ''\n",
    "        \n",
    "    for date in tqdm(pred_dfs[0].index):\n",
    "        for key in pred_dfs[0]:\n",
    "            result.loc[date, key], result.loc[date, \"{}_low\".format(key)], result.loc[date, \"{}_high\".format(key)] = get_PI(pred_dfs, date, key)\n",
    "            \n",
    "    data_split.set_index(\"date\", inplace=True)\n",
    "\n",
    "    plt.subplot(len(mcmc), 3, 3*k + 3)\n",
    "    color = plt.cm.rainbow(np.linspace(0,1,len(compartments)))\n",
    "    for i, bucket in enumerate(compartments):\n",
    "        plt.plot(data_split.index.array, data_split[bucket].tolist(), c=color[i], marker='o', label='Actual {}'.format(bucket))\n",
    "        plt.plot(result.index.array, result[bucket].tolist(), c=color[i], label='Estimated {}'.format(bucket))\n",
    "        plt.plot(result.index.array, result['{}_low'.format(bucket)].tolist(), c=color[i], linestyle='dashdot')\n",
    "        plt.plot(result.index.array, result['{}_high'.format(bucket)].tolist(), c=color[i], linestyle='dashdot')\n",
    "    plt.axvline(x=df_train['date'][len(df_train)-1], c='b', linestyle='dashed', label='train-test boundary')\n",
    "    plt.xticks(rotation=90)\n",
    "    plt.ylabel(\"Total infected\")\n",
    "    plt.legend()\n",
    "    plt.title(\"95% confidence intervals for {}, {}\".format(district, state))\n",
    "    plt.tight_layout()\n",
    "    \n",
    "plt.savefig(\"./mcmc_runs_{}_{}.png\".format(district, state))\n",
    "plt.show()"
   ]
  },
  {
   "cell_type": "markdown",
   "metadata": {},
   "source": [
    "\n",
    "## Checking validity with Gelman-Rubin statistics"
   ]
  },
  {
   "cell_type": "markdown",
   "metadata": {},
   "source": [
    "Check Section 4.2 [here](http://www.columbia.edu/~mh2078/MachineLearningORFE/MCMC_Bayes.pdf)"
   ]
  },
  {
   "cell_type": "code",
   "execution_count": 18,
   "metadata": {},
   "outputs": [],
   "source": [
    "def accumulate(dict_list):\n",
    "    accumulator = defaultdict(int)\n",
    "    for elt in dict_list:\n",
    "        for key in elt:\n",
    "            accumulator[key]+=elt[key]\n",
    "    return accumulator\n",
    "\n",
    "def divide(dictvar, num):\n",
    "    return {key:dictvar[key]/num for key in dictvar}\n",
    "\n",
    "            \n",
    "def avg_sum_chain(chain):\n",
    "    chain_sums_avg = accumulate(chain)\n",
    "    return divide(chain_sums_avg, len(chain))\n",
    "\n",
    "def avg_sum_multiple_chains(chain_sums_avg):\n",
    "    multiple_chain_sums_avg = accumulate(chain_sums_avg)\n",
    "    return divide(multiple_chain_sums_avg, len(chain_sums_avg))\n",
    "\n",
    "def compute_B(multiple_chain_sums_avg, chain_sums_avg, n, m):\n",
    "    B = defaultdict(int)\n",
    "    for elt in chain_sums_avg:\n",
    "        for key in elt:\n",
    "            B[key] += np.square(elt[key] - multiple_chain_sums_avg[key])\n",
    "    return divide(B, (m-1)/n)\n",
    "\n",
    "def compute_W(split_chains, chain_sums_avg, n, m):\n",
    "    s = []\n",
    "    for j in range(m):\n",
    "        s_j_sq = defaultdict(int)\n",
    "        chain = split_chains[j]\n",
    "        chain_sum_avg_j = chain_sums_avg[j]\n",
    "        for i in range(n):\n",
    "            chain_elt = chain[i]\n",
    "            for key in chain_elt:\n",
    "                s_j_sq[key] += np.square(chain_elt[key] - chain_sum_avg_j [key])\n",
    "        s_j_sq = divide(s_j_sq, n - 1)\n",
    "        s.append(s_j_sq)\n",
    "    return (divide (accumulate(s),m))\n",
    "\n",
    "def divide_dict(d1, d2):\n",
    "    accumulator = defaultdict(int)\n",
    "    for key in d1:\n",
    "        accumulator[key] = d1[key]/d2[key]\n",
    "    return accumulator"
   ]
  },
  {
   "cell_type": "code",
   "execution_count": 19,
   "metadata": {},
   "outputs": [],
   "source": [
    "burn_in = int(len(mcmc[0][0]) / 2)\n",
    "chains = [mcmc_chain[0] for mcmc_chain in mcmc]\n",
    "burn_in = int(len(chains[0]) / 2)\n",
    "sampled_chains = [chain[:burn_in] for chain in chains]\n",
    "split_chains = [sampled_chain[int(burn_in/2):] for sampled_chain in sampled_chains] \\\n",
    "            + [sampled_chain[:int(burn_in/2)] for sampled_chain in sampled_chains]\n"
   ]
  },
  {
   "cell_type": "code",
   "execution_count": 20,
   "metadata": {},
   "outputs": [],
   "source": [
    "chain_sums_avg = []\n",
    "for chain in split_chains:\n",
    "    chain_sums_avg.append(avg_sum_chain(chain))\n",
    "multiple_chain_sums_avg = avg_sum_multiple_chains(chain_sums_avg) "
   ]
  },
  {
   "cell_type": "code",
   "execution_count": 21,
   "metadata": {},
   "outputs": [
    {
     "data": {
      "text/plain": [
       "{'R0': 1.900571165286367,\n",
       " 'T_inc': 5.048455376648246,\n",
       " 'T_inf': 3.674151333279089,\n",
       " 'T_recov_severe': 100.20094474497895,\n",
       " 'P_severe': 1.4026975255123995,\n",
       " 'intervention_amount': 0.8924167889273894,\n",
       " 'sigma': 3.499850999593856}"
      ]
     },
     "execution_count": 21,
     "metadata": {},
     "output_type": "execute_result"
    }
   ],
   "source": [
    "multiple_chain_sums_avg"
   ]
  },
  {
   "cell_type": "code",
   "execution_count": 22,
   "metadata": {},
   "outputs": [],
   "source": [
    "m = len(split_chains)\n",
    "n = len(split_chains[0])\n",
    "W =  compute_W(split_chains, chain_sums_avg, n, m)\n",
    "B =  compute_B(multiple_chain_sums_avg, chain_sums_avg, n, m)\n",
    "var_hat = accumulate([divide(W, n/(n-1)), divide(B, n) ])\n",
    "R_hat_sq = divide_dict(var_hat, W)\n",
    "R_hat = {key:np.sqrt(value) for key, value in R_hat_sq.items()}\n",
    "neff = divide_dict(var_hat, B)\n",
    "neff = {key: m*n*value for key, value in neff.items()}"
   ]
  },
  {
   "cell_type": "code",
   "execution_count": 23,
   "metadata": {},
   "outputs": [
    {
     "data": {
      "text/plain": [
       "{'R0': 18.4101683423852,\n",
       " 'T_inc': 13.471684043621403,\n",
       " 'T_inf': 10.652270396676274,\n",
       " 'T_recov_severe': 37.11168299794041,\n",
       " 'P_severe': 20.011470512124472,\n",
       " 'intervention_amount': 25.056416304163015,\n",
       " 'sigma': 11.431826421568667}"
      ]
     },
     "execution_count": 23,
     "metadata": {},
     "output_type": "execute_result"
    }
   ],
   "source": [
    "neff"
   ]
  },
  {
   "cell_type": "code",
   "execution_count": 24,
   "metadata": {},
   "outputs": [
    {
     "data": {
      "text/plain": [
       "{'R0': 1.4793914403756474,\n",
       " 'T_inc': 1.96968788562201,\n",
       " 'T_inf': 4.040767132417124,\n",
       " 'T_recov_severe': 1.16985935462444,\n",
       " 'P_severe': 1.4136670372311717,\n",
       " 'intervention_amount': 1.2898976071056956,\n",
       " 'sigma': 2.8253300648101924}"
      ]
     },
     "execution_count": 24,
     "metadata": {},
     "output_type": "execute_result"
    }
   ],
   "source": [
    "R_hat"
   ]
  },
  {
   "cell_type": "code",
   "execution_count": null,
   "metadata": {},
   "outputs": [],
   "source": []
  }
 ],
 "metadata": {
  "kernelspec": {
   "display_name": "Python 3",
   "language": "python",
   "name": "python3"
  },
  "language_info": {
   "codemirror_mode": {
    "name": "ipython",
    "version": 3
   },
   "file_extension": ".py",
   "mimetype": "text/x-python",
   "name": "python",
   "nbconvert_exporter": "python",
   "pygments_lexer": "ipython3",
   "version": "3.8.2"
  }
 },
 "nbformat": 4,
 "nbformat_minor": 4
}
