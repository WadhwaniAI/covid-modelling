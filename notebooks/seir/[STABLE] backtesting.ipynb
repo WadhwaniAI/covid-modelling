{
 "cells": [
  {
   "cell_type": "code",
   "execution_count": null,
   "metadata": {},
   "outputs": [],
   "source": [
    "%load_ext autoreload\n",
    "%autoreload 2"
   ]
  },
  {
   "cell_type": "code",
   "execution_count": null,
   "metadata": {},
   "outputs": [],
   "source": [
    "import numpy as np\n",
    "import pandas as pd\n",
    "import matplotlib.pyplot as plt\n",
    "\n",
    "import datetime\n",
    "import copy\n",
    "import json\n",
    "from glob import glob\n",
    "import time\n",
    "import os\n",
    "from os.path import join\n",
    "import pickle as pkl\n",
    "\n",
    "import sys\n",
    "sys.path.append('../../')\n",
    "\n",
    "from data.processing import get_data\n",
    "\n",
    "from utils.fitting.loss import Loss_Calculator\n",
    "from viz import plot_backtest_seir"
   ]
  },
  {
   "cell_type": "code",
   "execution_count": null,
   "metadata": {},
   "outputs": [],
   "source": [
    "lc = Loss_Calculator()"
   ]
  },
  {
   "cell_type": "markdown",
   "metadata": {},
   "source": [
    "# Jul"
   ]
  },
  {
   "cell_type": "code",
   "execution_count": null,
   "metadata": {},
   "outputs": [],
   "source": [
    "run_name = \"1594480618.481472\"\n",
    "output_folder = '../../misc/reports/{}'.format(run_name)"
   ]
  },
  {
   "cell_type": "code",
   "execution_count": null,
   "metadata": {},
   "outputs": [],
   "source": [
    "filename = f'{output_folder}/output-{run_name}.csv'"
   ]
  },
  {
   "cell_type": "code",
   "execution_count": null,
   "metadata": {},
   "outputs": [],
   "source": [
    "fig, df_true, df_prediction = plot_backtest_seir(gt_dataloader='AthenaLoader', preds_source='filename', fname_format='old_output', \n",
    "                                                 filename=filename, which_forecast=50, truncate_plotting_range=True,\n",
    "                                                 separate_compartments=False)\n",
    "\n",
    "fig, df_true, df_prediction = plot_backtest_seir(gt_dataloader='AthenaLoader', preds_source='filename', fname_format='old_output', \n",
    "                                                 filename=filename, which_forecast=50, truncate_plotting_range=True,\n",
    "                                                 separate_compartments=True)\n",
    "\n",
    "lc.backtesting_loss_week_by_week(df_prediction, df_true)"
   ]
  },
  {
   "cell_type": "markdown",
   "metadata": {},
   "source": [
    "# Aug"
   ]
  },
  {
   "cell_type": "code",
   "execution_count": null,
   "metadata": {},
   "outputs": [],
   "source": [
    "filename = '../../misc/oncall/08_2020_aug/nayana/seihrd.csv'"
   ]
  },
  {
   "cell_type": "code",
   "execution_count": null,
   "metadata": {},
   "outputs": [],
   "source": [
    "fig, df_true, df_prediction = plot_backtest_seir(gt_dataloader='AthenaLoader', preds_source='filename', fname_format='new_deciles', \n",
    "                                                 filename=filename, which_forecast=80, truncate_plotting_range=True,\n",
    "                                                 separate_compartments=False)\n",
    "\n",
    "fig, df_true, df_prediction = plot_backtest_seir(gt_dataloader='AthenaLoader', preds_source='filename', fname_format='new_deciles', \n",
    "                                                 filename=filename, which_forecast=80, truncate_plotting_range=True,\n",
    "                                                 separate_compartments=True)\n",
    "\n",
    "lc.backtesting_loss_week_by_week(df_prediction, df_true)"
   ]
  },
  {
   "cell_type": "markdown",
   "metadata": {},
   "source": [
    "# Sept"
   ]
  },
  {
   "cell_type": "code",
   "execution_count": null,
   "metadata": {},
   "outputs": [],
   "source": [
    "output_folder = '../../misc/reports/{}'.format(\"2020_0908_090609\")\n",
    "with open(join(output_folder, 'predictions_dict.pkl'), 'rb') as f:\n",
    "    predictions_dict = pkl.load(f)"
   ]
  },
  {
   "cell_type": "code",
   "execution_count": null,
   "metadata": {},
   "outputs": [],
   "source": [
    "fig, df_true, df_prediction = plot_backtest_seir(gt_dataloader='AthenaLoader', preds_source='pickle', predictions_dict=predictions_dict, \n",
    "                                                 which_forecast=80, truncate_plotting_range=True,\n",
    "                                                 separate_compartments=False)\n",
    "\n",
    "fig, df_true, df_prediction = plot_backtest_seir(gt_dataloader='AthenaLoader', preds_source='pickle', predictions_dict=predictions_dict, \n",
    "                                                 which_forecast=80, truncate_plotting_range=True,\n",
    "                                                 separate_compartments=True)\n",
    "\n",
    "lc.backtesting_loss_week_by_week(df_prediction, df_true)"
   ]
  },
  {
   "cell_type": "code",
   "execution_count": null,
   "metadata": {},
   "outputs": [],
   "source": []
  }
 ],
 "metadata": {
  "kernelspec": {
   "display_name": "Python (covid)",
   "language": "python",
   "name": "covid"
  },
  "language_info": {
   "codemirror_mode": {
    "name": "ipython",
    "version": 3
   },
   "file_extension": ".py",
   "mimetype": "text/x-python",
   "name": "python",
   "nbconvert_exporter": "python",
   "pygments_lexer": "ipython3"
  }
 },
 "nbformat": 4,
 "nbformat_minor": 4
}
