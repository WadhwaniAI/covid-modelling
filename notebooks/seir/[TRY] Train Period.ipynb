{
 "cells": [
  {
   "cell_type": "code",
   "execution_count": null,
   "metadata": {},
   "outputs": [],
   "source": [
    "%load_ext autoreload\n",
    "%autoreload 2"
   ]
  },
  {
   "cell_type": "code",
   "execution_count": null,
   "metadata": {},
   "outputs": [],
   "source": [
    "import pandas as pd\n",
    "import json\n",
    "import seaborn as sns\n",
    "import matplotlib.pyplot as plt"
   ]
  },
  {
   "cell_type": "code",
   "execution_count": null,
   "metadata": {},
   "outputs": [],
   "source": [
    "folder = '../../outputs/ihme_seir/compartmental_paper/20200905_191750_tp'\n",
    "\n",
    "regions = ['Delhi', 'New York City', 'Italy', 'Pune', 'Los Angeles']"
   ]
  },
  {
   "cell_type": "code",
   "execution_count": null,
   "metadata": {},
   "outputs": [],
   "source": [
    "df_list = []\n",
    "for region in regions:\n",
    "    shift_list = []\n",
    "    for s in range(0,22,2):\n",
    "        tp_list = []\n",
    "        for tp in range(4,42,2):\n",
    "            runs_list = []\n",
    "            for run in range(0,10):\n",
    "                run_df = pd.read_csv(f'{folder}/{region}/{s}/train_{tp}/run_{run}/sir_loss.csv', index_col=0) \n",
    "                run_df.reset_index(inplace=True)\n",
    "                run_df.rename(columns={'index':'split'}, inplace=True)\n",
    "                run_df.insert(0, 'run', run+1)\n",
    "                runs_list.append(run_df)\n",
    "            runs_df = pd.concat(runs_list, axis=0).reset_index(drop=True)\n",
    "            runs_df.insert(0, 'train_period', tp)\n",
    "            tp_list.append(runs_df)\n",
    "        tp_df = pd.concat(tp_list, axis=0).reset_index(drop=True)\n",
    "        tp_df.insert(0, 'shift', s)\n",
    "        shift_list.append(tp_df)\n",
    "    shift_df = pd.concat(shift_list, axis=0).reset_index(drop=True)\n",
    "    shift_df.insert(0, 'region', region)\n",
    "    df_list.append(shift_df)\n",
    "df = pd.concat(df_list, axis=0).reset_index(drop=True)"
   ]
  },
  {
   "cell_type": "code",
   "execution_count": null,
   "metadata": {},
   "outputs": [],
   "source": [
    "df"
   ]
  },
  {
   "cell_type": "code",
   "execution_count": null,
   "metadata": {},
   "outputs": [],
   "source": [
    "df = df.rename(columns={'total_infected': 'mape'})\n",
    "df.to_csv('train_period.csv', index=False)"
   ]
  },
  {
   "cell_type": "code",
   "execution_count": null,
   "metadata": {},
   "outputs": [],
   "source": [
    "df1 = df[df['split'] == 'val']\n",
    "df1 = df1[df1['train_period'] > 8]"
   ]
  },
  {
   "cell_type": "code",
   "execution_count": null,
   "metadata": {
    "scrolled": false
   },
   "outputs": [],
   "source": [
    "%matplotlib inline\n",
    "sns.set(font_scale=1.5)\n",
    "fig, ax = plt.subplots(figsize=(20,20))\n",
    "sns.pointplot(x='train_period', y='mape', hue='region', data=df1, dodge=0.1, \n",
    "              ax=ax)"
   ]
  },
  {
   "cell_type": "code",
   "execution_count": null,
   "metadata": {},
   "outputs": [],
   "source": []
  }
 ],
 "metadata": {
  "kernelspec": {
   "display_name": "Python 3",
   "language": "python",
   "name": "python3"
  },
  "language_info": {
   "codemirror_mode": {
    "name": "ipython",
    "version": 3
   },
   "file_extension": ".py",
   "mimetype": "text/x-python",
   "name": "python",
   "nbconvert_exporter": "python",
   "pygments_lexer": "ipython3",
   "version": "3.8.3"
  }
 },
 "nbformat": 4,
 "nbformat_minor": 4
}
