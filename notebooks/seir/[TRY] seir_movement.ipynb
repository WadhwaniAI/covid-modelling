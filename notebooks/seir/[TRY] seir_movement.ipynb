{
 "cells": [
  {
   "cell_type": "code",
   "execution_count": null,
   "metadata": {},
   "outputs": [],
   "source": [
    "%load_ext autoreload\n",
    "%autoreload 2"
   ]
  },
  {
   "cell_type": "code",
   "execution_count": null,
   "metadata": {},
   "outputs": [],
   "source": [
    "import numpy as np\n",
    "import matplotlib.pyplot as plt\n",
    "import datetime\n",
    "import pandas as pd\n",
    "import sys"
   ]
  },
  {
   "cell_type": "code",
   "execution_count": null,
   "metadata": {},
   "outputs": [],
   "source": [
    "from models.seir.seir_movement import SEIR_Movement\n",
    "from utils.generic import compute_regionwiseflow"
   ]
  },
  {
   "cell_type": "code",
   "execution_count": null,
   "metadata": {},
   "outputs": [],
   "source": [
    "regionwiseflow, districts = compute_regionwiseflow()\n",
    "regionwiseflow"
   ]
  },
  {
   "cell_type": "code",
   "execution_count": null,
   "metadata": {
    "jupyter": {
     "outputs_hidden": true
    }
   },
   "outputs": [],
   "source": [
    "pd.plotting.register_matplotlib_converters()\n",
    "for district in districts:\n",
    "    plt.figure(figsize=(12, 12))\n",
    "    if district == 'Murbad':\n",
    "        continue\n",
    "    plt.plot(regionwiseflow.loc[district, :].index, regionwiseflow.loc[district, 'mu'])\n",
    "    plt.title('Net Flow/population for {}'.format(district))\n",
    "    plt.xlabel('Date')\n",
    "    plt.ylabel('Net Flow/population')\n",
    "    plt.show()"
   ]
  },
  {
   "cell_type": "code",
   "execution_count": null,
   "metadata": {},
   "outputs": [],
   "source": [
    "R0 = 2.2 \n",
    "T_inf = 2.9\n",
    "T_trans = T_inf/R0\n",
    "T_inc = 5.2\n",
    "T_recov_mild = (14 - T_inf)\n",
    "T_hosp = 5\n",
    "T_recov_severe = (31.5 - T_inf)\n",
    "T_death = 32\n",
    " \n",
    "P_severe = 0.2\n",
    "P_fatal = 0.02\n",
    "P_mild = 1 - P_severe - P_fatal\n",
    "\n",
    "N = 7e6\n",
    "I0 = 1.0\n",
    "\n",
    "# new_R0 = 0.74\n",
    "# intervention_amount = R0/new_R0\n",
    "intervention_day = 100\n",
    "intervention_amount = 3\n",
    "\n",
    "mu = 0.003\n",
    "\n",
    "params = [mu, T_trans, T_inc, T_inf, T_recov_mild, T_hosp, T_recov_severe, T_death, \n",
    "          P_mild, P_severe, P_fatal, N, intervention_day, intervention_amount]\n",
    "\n",
    "# S, E, I, R_mild, R_severe, R_severe_home, R_fatal, C, D\n",
    "state_init_values = [(N - I0)/N, 0, I0/N, 0, 0, 0, 0, 0, 0]"
   ]
  },
  {
   "cell_type": "code",
   "execution_count": null,
   "metadata": {},
   "outputs": [],
   "source": [
    "solver = SEIR_Movement(params, state_init_values)\n",
    "sol = solver.solve_ode(time_step=1)\n",
    "states_int_array = (sol.y*N).astype('int')"
   ]
  },
  {
   "cell_type": "code",
   "execution_count": null,
   "metadata": {},
   "outputs": [],
   "source": [
    "E = states_int_array[1]\n",
    "I = states_int_array[2]\n",
    "H = states_int_array[5]\n",
    "F = states_int_array[8]"
   ]
  },
  {
   "cell_type": "code",
   "execution_count": null,
   "metadata": {},
   "outputs": [],
   "source": [
    "ind = sol.t    # the x locations for the groups\n",
    "width = 0.95        # the width of the bars: can also be len(x) sequence\n",
    "\n",
    "plt.figure(figsize=(12, 12))\n",
    "p1 = plt.bar(ind, F, width)\n",
    "p2 = plt.bar(ind, H, width, bottom=F)\n",
    "p3 = plt.bar(ind, I, width, bottom=H+F)\n",
    "p4 = plt.bar(ind, E, width, bottom=I+H+F)\n",
    "plt.ylabel('No of people')\n",
    "plt.legend((p1[0], p2[0], p3[0], p4[0]), ('Dead', 'Hospitalised', 'Infected', 'Exposed'))\n",
    "\n",
    "plt.show()"
   ]
  },
  {
   "cell_type": "code",
   "execution_count": null,
   "metadata": {},
   "outputs": [],
   "source": []
  }
 ],
 "metadata": {
  "kernelspec": {
   "display_name": "Python (covid)",
   "language": "python",
   "name": "covid"
  },
  "language_info": {
   "codemirror_mode": {
    "name": "ipython",
    "version": 3
   },
   "file_extension": ".py",
   "mimetype": "text/x-python",
   "name": "python",
   "nbconvert_exporter": "python",
   "pygments_lexer": "ipython3"
  }
 },
 "nbformat": 4,
 "nbformat_minor": 4
}
