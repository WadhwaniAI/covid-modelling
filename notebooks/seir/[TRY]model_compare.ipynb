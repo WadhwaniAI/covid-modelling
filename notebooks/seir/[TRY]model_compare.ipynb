{
 "metadata": {
  "language_info": {
   "codemirror_mode": {
    "name": "ipython",
    "version": 3
   },
   "file_extension": ".py",
   "mimetype": "text/x-python",
   "name": "python",
   "nbconvert_exporter": "python",
   "pygments_lexer": "ipython3",
   "version": "3.8.5-final"
  },
  "orig_nbformat": 2,
  "kernelspec": {
   "name": "python3",
   "display_name": "Python 3"
  }
 },
 "nbformat": 4,
 "nbformat_minor": 2,
 "cells": [
  {
   "cell_type": "code",
   "execution_count": 1,
   "metadata": {},
   "outputs": [],
   "source": [
    "%load_ext autoreload\n",
    "%autoreload 2"
   ]
  },
  {
   "cell_type": "code",
   "execution_count": 2,
   "metadata": {},
   "outputs": [],
   "source": [
    "import numpy as np\n",
    "import matplotlib.pyplot as plt\n",
    "import datetime\n",
    "import copy\n",
    "import time\n",
    "\n",
    "import sys\n",
    "sys.path.append('../../')\n",
    "\n",
    "from data.processing import get_data\n",
    "\n",
    "import models\n",
    "\n",
    "from main.seir.fitting import single_fitting_cycle\n",
    "from main.seir.forecast import get_forecast, forecast_all_trials, create_all_trials_csv, create_decile_csv_new\n",
    "from main.seir.sensitivity import calculate_sensitivity_and_plot\n",
    "from utils.generic.create_report import save_dict_and_create_report\n",
    "from utils.generic.config import read_config\n",
    "from utils.generic.enums import Columns\n",
    "from utils.fitting.loss import Loss_Calculator\n",
    "#from utils.generic.logging import log_wandb\n",
    "from viz import plot_forecast, plot_top_k_trials, plot_ptiles\n",
    "\n",
    "import yaml"
   ]
  },
  {
   "cell_type": "code",
   "execution_count": 3,
   "metadata": {},
   "outputs": [],
   "source": [
    "predictions_dict = {}"
   ]
  },
  {
   "cell_type": "code",
   "execution_count": 14,
   "metadata": {},
   "outputs": [
    {
     "output_type": "stream",
     "name": "stdout",
     "text": [
      "2020-10-07 05:36:22.285911\n2020-09-27 05:36:22.286211\n2020-09-17 05:36:22.286243\n2020-09-07 05:36:22.286261\n2020-08-28 05:36:22.286277\n"
     ]
    }
   ],
   "source": [
    "config_filenames = ['uncer.yaml','default.yaml']\n",
    "fit_names = ['MCMC','HyperOpt']"
   ]
  },
  {
   "cell_type": "code",
   "execution_count": 18,
   "metadata": {},
   "outputs": [
    {
     "output_type": "execute_result",
     "data": {
      "text/plain": [
       "[datetime.datetime(2020, 10, 7, 5, 45, 4, 189123),\n",
       " datetime.datetime(2020, 9, 27, 5, 45, 4, 189135),\n",
       " datetime.datetime(2020, 9, 17, 5, 45, 4, 189138),\n",
       " datetime.datetime(2020, 9, 7, 5, 45, 4, 189140),\n",
       " datetime.datetime(2020, 8, 28, 5, 45, 4, 189142)]"
      ]
     },
     "metadata": {},
     "execution_count": 18
    }
   ],
   "source": [
    "dates = []\n",
    "for i in range(5):\n",
    "    dateT = datetime.datetime.now()-datetime.timedelta(days = 10*(i)) - datetime.timedelta(days = 30)\n",
    "    dates.append(dateT)\n",
    "dates"
   ]
  },
  {
   "cell_type": "code",
   "execution_count": 9,
   "metadata": {},
   "outputs": [
    {
     "output_type": "stream",
     "name": "stdout",
     "text": [
      "2020-11-06 05:29:29.317874\n"
     ]
    }
   ],
   "source": [
    "num_rep_trials = 5\n",
    "for tag, end_date in enumerate(dates):\n",
    "    predictions_dict[tag] = {}\n",
    "    for j, config in enumerate(configs):\n",
    "        predictions_dict[tag][model_names[j]] = {}\n",
    "        config_params = copy.deepcopy(config['fitting'])\n",
    "        config_params['split']['end_date'] = end_date.date()\n",
    "        for k in range(num_rep_trials):\n",
    "            predictions_dict[tag][model_names[j]][f'm{k}'] = single_fitting_cycle(**config_params)"
   ]
  },
  {
   "cell_type": "code",
   "execution_count": 6,
   "metadata": {},
   "outputs": [],
   "source": []
  },
  {
   "cell_type": "code",
   "execution_count": null,
   "metadata": {},
   "outputs": [],
   "source": []
  }
 ]
}