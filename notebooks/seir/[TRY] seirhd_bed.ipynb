{
 "cells": [
  {
   "cell_type": "code",
   "execution_count": null,
   "metadata": {},
   "outputs": [],
   "source": [
    "%load_ext autoreload\n",
    "%autoreload 2"
   ]
  },
  {
   "cell_type": "code",
   "execution_count": null,
   "metadata": {},
   "outputs": [],
   "source": [
    "import numpy as np\n",
    "import matplotlib.pyplot as plt\n",
    "import matplotlib.dates as mdates\n",
    "import seaborn as sns\n",
    "from hyperopt import hp, tpe, fmin, Trials\n",
    "from tqdm import tqdm\n",
    "\n",
    "import datetime\n",
    "import copy\n",
    "import json\n",
    "\n",
    "import sys\n",
    "sys.path.append('../../')\n",
    "\n",
    "from data.dataloader import Covid19IndiaLoader\n",
    "from data.processing import get_data\n",
    "\n",
    "from models.seir import SEIR_Testing, SEIRHD, SEIR_Movement, SEIR_Movement_Testing, SEIRHD_Severity, SEIRHD_Bed\n",
    "\n",
    "from main.seir.fitting import single_fitting_cycle, get_variable_param_ranges\n",
    "from main.seir.forecast import get_forecast, create_region_csv, create_all_csvs, write_csv\n",
    "from utils.create_report import create_report\n",
    "from utils.loss import Loss_Calculator\n",
    "from viz import plot_forecast"
   ]
  },
  {
   "cell_type": "markdown",
   "metadata": {},
   "source": [
    "## Load Covid19india Data"
   ]
  },
  {
   "cell_type": "code",
   "execution_count": null,
   "metadata": {},
   "outputs": [],
   "source": [
    "loader = Covid19IndiaLoader()\n",
    "dataframes = loader.get_covid19india_api_data()"
   ]
  },
  {
   "cell_type": "code",
   "execution_count": null,
   "metadata": {},
   "outputs": [],
   "source": [
    "predictions_dict = {}"
   ]
  },
  {
   "cell_type": "markdown",
   "metadata": {},
   "source": [
    "## Select Districts to fit on"
   ]
  },
  {
   "cell_type": "code",
   "execution_count": null,
   "metadata": {},
   "outputs": [],
   "source": [
    "districts_to_show = [('Maharashtra', 'Mumbai')]"
   ]
  },
  {
   "cell_type": "markdown",
   "metadata": {},
   "source": [
    "## Get Variable Params"
   ]
  },
  {
   "cell_type": "code",
   "execution_count": null,
   "metadata": {},
   "outputs": [],
   "source": [
    "variable_param_ranges = {\n",
    "    'lockdown_R0': (1, 1.5),\n",
    "    'T_inc': (4, 5),\n",
    "    'T_inf': (3, 4),\n",
    "    'T_recov_hq': (50, 70),\n",
    "    'T_recov_non_oxy': (20, 30),\n",
    "    'T_recov_oxy': (35, 50),\n",
    "    'T_recov_icu': (50, 60),\n",
    "    'T_recov_vent': (50, 60),\n",
    "    'P_non_oxy': (0, 0.15),\n",
    "    'P_oxy': (0, 0.15),\n",
    "    'P_icu': (0, 0.05),\n",
    "    'P_vent': (0, 0.05),\n",
    "    'P_fatal': (0, 0.2),\n",
    "    'E_hosp_ratio': (0, 2),\n",
    "    'I_hosp_ratio': (0, 1)\n",
    "}\n",
    "variable_param_ranges = get_variable_param_ranges(variable_param_ranges)"
   ]
  },
  {
   "cell_type": "markdown",
   "metadata": {},
   "source": [
    "## Assign Filename var"
   ]
  },
  {
   "cell_type": "code",
   "execution_count": null,
   "metadata": {},
   "outputs": [],
   "source": [
    "filename = '../../data/data/mumbai/case_summary_expanded_2006.csv'"
   ]
  },
  {
   "cell_type": "markdown",
   "metadata": {},
   "source": [
    "## Perform M1 and M2 fits"
   ]
  },
  {
   "cell_type": "code",
   "execution_count": null,
   "metadata": {},
   "outputs": [],
   "source": [
    "for state, district in districts_to_show:\n",
    "    predictions_dict[(state, district)] = {}\n",
    "    predictions_dict[(state, district)]['m1'] = single_fitting_cycle(\n",
    "        dataframes, state, district, data_from_tracker=True, granular_data=True, filename=filename, #Data\n",
    "        model=SEIRHD_Bed, variable_param_ranges=variable_param_ranges, #Choose Model and Ranges\n",
    "        train_period=7, val_period=7, num_evals=1000, initialisation='intermediate', #Optimisation related parameters\n",
    "        which_compartments=['hospitalised', 'deceased', 'hq', 'non_o2_beds', 'o2_beds', 'icu', 'ventilator'], #Compartments to Apply Loss on \n",
    "        smooth_jump=True, smoothing_length=33, smoothing_method='weighted') #Smoothing\n",
    "    \n",
    "    predictions_dict[(state, district)]['state'] = state\n",
    "    predictions_dict[(state, district)]['dist'] = district\n",
    "    predictions_dict[(state, district)]['fitting_date'] = datetime.datetime.now().strftime(\"%Y-%m-%d\")\n",
    "    predictions_dict[(state, district)]['datasource'] = 'covid19api' if predictions_dict[(state, district)]['m1']['data_from_tracker'] else 'municipality'\n",
    "    predictions_dict[(state, district)]['variable_param_ranges'] = predictions_dict[(state, district)]['m1']['variable_param_ranges']\n",
    "#     predictions_dict[(state, district)]['data_last_date'] = predictions_dict[(state, district)]['m2']['data_last_date']"
   ]
  },
  {
   "cell_type": "code",
   "execution_count": null,
   "metadata": {},
   "outputs": [],
   "source": []
  },
  {
   "cell_type": "code",
   "execution_count": null,
   "metadata": {},
   "outputs": [],
   "source": [
    "predictions_dict[('Maharashtra', 'Mumbai')]['m1']['df_loss']"
   ]
  },
  {
   "cell_type": "code",
   "execution_count": null,
   "metadata": {},
   "outputs": [],
   "source": [
    "predictions_dict[('Maharashtra', 'Mumbai')]['m1']['best_params']"
   ]
  },
  {
   "cell_type": "markdown",
   "metadata": {},
   "source": [
    "## Gridsearch + Bayesian Opt"
   ]
  },
  {
   "cell_type": "code",
   "execution_count": null,
   "metadata": {},
   "outputs": [],
   "source": [
    "default_params = predictions_dict[('Maharashtra', 'Mumbai')]['m1']['best_params']\n",
    "train_period = 7\n",
    "loss_indices = [-2*train_period, -train_period]"
   ]
  },
  {
   "cell_type": "code",
   "execution_count": null,
   "metadata": {},
   "outputs": [],
   "source": [
    "get_data()"
   ]
  },
  {
   "cell_type": "code",
   "execution_count": null,
   "metadata": {},
   "outputs": [],
   "source": [
    "optimiser = Optimiser()\n",
    "optimiser.gridsearch(df_true, default_params, variable_param_ranges, model=SEIRHD_Severity, method='mape', \n",
    "                     loss_indices=loss_indices, which_compartments=['total_infected'])"
   ]
  },
  {
   "cell_type": "markdown",
   "metadata": {},
   "source": [
    "## Create Master Loss Dataframe"
   ]
  },
  {
   "cell_type": "markdown",
   "metadata": {},
   "source": [
    "### M1 Loss DataFrame"
   ]
  },
  {
   "cell_type": "code",
   "execution_count": null,
   "metadata": {},
   "outputs": [],
   "source": [
    "lc = Loss_Calculator()"
   ]
  },
  {
   "cell_type": "code",
   "execution_count": null,
   "metadata": {},
   "outputs": [],
   "source": [
    "lc.create_loss_dataframe_master(predictions_dict, 'm1')"
   ]
  },
  {
   "cell_type": "markdown",
   "metadata": {},
   "source": [
    "### M2 Loss DataFrame"
   ]
  },
  {
   "cell_type": "code",
   "execution_count": null,
   "metadata": {},
   "outputs": [],
   "source": [
    "lc.create_loss_dataframe_master(predictions_dict, 'm2')"
   ]
  },
  {
   "cell_type": "markdown",
   "metadata": {},
   "source": [
    "## Plot Forecasts"
   ]
  },
  {
   "cell_type": "code",
   "execution_count": null,
   "metadata": {},
   "outputs": [],
   "source": [
    "for region in predictions_dict.keys():\n",
    "    predictions_dict[region]['forecast'] = plot_forecast(predictions_dict[region], region, both_forecasts=True, error_bars=True)"
   ]
  },
  {
   "cell_type": "markdown",
   "metadata": {},
   "source": [
    "## Create Report"
   ]
  },
  {
   "cell_type": "code",
   "execution_count": null,
   "metadata": {},
   "outputs": [],
   "source": [
    "for region in predictions_dict.keys():\n",
    "    create_report(predictions_dict[region])"
   ]
  },
  {
   "cell_type": "markdown",
   "metadata": {},
   "source": [
    "## Create and Save Output CSV"
   ]
  },
  {
   "cell_type": "code",
   "execution_count": null,
   "metadata": {},
   "outputs": [],
   "source": [
    "df_output = create_all_csvs(predictions_dict, icu_fraction=0.02)"
   ]
  },
  {
   "cell_type": "code",
   "execution_count": null,
   "metadata": {},
   "outputs": [],
   "source": [
    "write_csv(df_output)"
   ]
  },
  {
   "cell_type": "code",
   "execution_count": null,
   "metadata": {},
   "outputs": [],
   "source": []
  }
 ],
 "metadata": {
  "kernelspec": {
   "display_name": "Python (covid)",
   "language": "python",
   "name": "covid"
  },
  "language_info": {
   "codemirror_mode": {
    "name": "ipython",
    "version": 2
   },
   "file_extension": ".py",
   "mimetype": "text/x-python",
   "name": "python",
   "nbconvert_exporter": "python",
   "pygments_lexer": "ipython2"
  }
 },
 "nbformat": 4,
 "nbformat_minor": 4
}
