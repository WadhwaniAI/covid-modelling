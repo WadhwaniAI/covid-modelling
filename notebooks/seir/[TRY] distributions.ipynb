{
 "cells": [
  {
   "cell_type": "code",
   "execution_count": null,
   "metadata": {},
   "outputs": [],
   "source": [
    "%load_ext autoreload\n",
    "%autoreload 2\n",
    "%matplotlib inline"
   ]
  },
  {
   "cell_type": "code",
   "execution_count": null,
   "metadata": {},
   "outputs": [],
   "source": [
    "import numpy as np\n",
    "import pandas as pd\n",
    "import matplotlib.pyplot as plt\n",
    "import datetime\n",
    "import copy\n",
    "import time\n",
    "import wandb\n",
    "\n",
    "import sys\n",
    "sys.path.append('../../')\n",
    "\n",
    "from data.processing import get_data\n",
    "\n",
    "import models\n",
    "\n",
    "from main.seir.fitting import single_fitting_cycle\n",
    "from main.seir.forecast import get_forecast, forecast_all_trials, create_all_trials_csv, create_decile_csv_new\n",
    "from main.seir.sensitivity import calculate_sensitivity_and_plot\n",
    "from utils.generic.create_report import save_dict_and_create_report\n",
    "from utils.generic.config import read_config\n",
    "from utils.generic.enums import Columns\n",
    "from utils.fitting.loss import Loss_Calculator\n",
    "from utils.generic.logging import log_wandb\n",
    "from viz import plot_forecast, plot_top_k_trials, plot_ptiles\n",
    "from viz.fit import plot_histogram, plot_all_histograms, plot_mean_variance\n",
    "import yaml"
   ]
  },
  {
   "cell_type": "code",
   "execution_count": null,
   "metadata": {},
   "outputs": [],
   "source": [
    "predictions_dict = {}"
   ]
  },
  {
   "cell_type": "code",
   "execution_count": null,
   "metadata": {},
   "outputs": [],
   "source": [
    "config_filename = 'default.yaml'\n",
    "config = read_config(config_filename)"
   ]
  },
  {
   "cell_type": "code",
   "execution_count": null,
   "metadata": {},
   "outputs": [],
   "source": [
    "output_folder = '../../misc/reports/{}'.format(datetime.datetime.now().strftime(\"%Y_%m%d_%H%M%S\"))"
   ]
  },
  {
   "cell_type": "markdown",
   "metadata": {},
   "source": [
    "## Perform M1 and M2 fits"
   ]
  },
  {
   "cell_type": "code",
   "execution_count": null,
   "metadata": {},
   "outputs": [],
   "source": [
    "num_rep_trials = 5 \n",
    "\n",
    "location_tuples = [('Tamil Nadu', 'Chennai'), ('Delhi', None)]\n",
    "for i, loc in enumerate(location_tuples):\n",
    "    config_params = copy.deepcopy(config['fitting'])\n",
    "    config_params['data']['dataloading_params']['state'] = loc[0]\n",
    "    config_params['data']['dataloading_params']['district'] = loc[1]\n",
    "    if loc[1] != 'Mumbai':\n",
    "        config_params['data']['smooth_jump'] = False\n",
    "    predictions_dict[loc] = {}\n",
    "    for i in range(num_rep_trials):\n",
    "        predictions_dict[loc][f'm{i}'] = single_fitting_cycle(**config_params) \n",
    "\n",
    "\n",
    "# predictions_dict['fitting_date'] = datetime.datetime.now().strftime(\"%Y-%m-%d\")"
   ]
  },
  {
   "cell_type": "code",
   "execution_count": null,
   "metadata": {},
   "outputs": [],
   "source": [
    "predictions_dict['m1']['best_params']"
   ]
  },
  {
   "cell_type": "code",
   "execution_count": null,
   "metadata": {},
   "outputs": [],
   "source": [
    "predictions_dict['m2']['best_params']"
   ]
  },
  {
   "cell_type": "markdown",
   "metadata": {},
   "source": [
    "## Loss Dataframes"
   ]
  },
  {
   "cell_type": "markdown",
   "metadata": {},
   "source": [
    "### M1 Loss DataFrame"
   ]
  },
  {
   "cell_type": "code",
   "execution_count": null,
   "metadata": {},
   "outputs": [],
   "source": [
    "predictions_dict['m1']['df_loss']"
   ]
  },
  {
   "cell_type": "markdown",
   "metadata": {},
   "source": [
    "### M2 Loss DataFrame"
   ]
  },
  {
   "cell_type": "code",
   "execution_count": null,
   "metadata": {},
   "outputs": [],
   "source": [
    "predictions_dict['m2']['df_loss']"
   ]
  },
  {
   "cell_type": "code",
   "execution_count": null,
   "metadata": {},
   "outputs": [],
   "source": [
    "wandb.init(project=\"covid-modelling\")\n",
    "wandb.run.name = \"degeneracy-exps-location\"+wandb.run.name\n",
    "for key, loc_dict in predictions_dict.items():\n",
    "    fig, ax, histograms = plot_all_histograms(loc_dict, key)\n",
    "    wandb.log({f\"histograms/{key[0]}_{key[1]}\": [wandb.Image(fig)]})\n",
    "    fig, axs, df_mean_var = plot_mean_variance(loc_dict, key)\n",
    "    wandb.log({f\"mean_var/{key[0]}_{key[1]}\": [wandb.Image(fig)]})"
   ]
  },
  {
   "cell_type": "code",
   "execution_count": null,
   "metadata": {},
   "outputs": [],
   "source": [
    "param_distributions = {\n",
    "    'E_hosp_ratio': scipy.stats.expon,\n",
    "    'I_hosp_ratio': scipy.stats.gamma,\n",
    "    'P_fatal': scipy.stats.beta,\n",
    "    'T_inc': scipy.stats.norm,\n",
    "    'T_inf': scipy.stats.norm,\n",
    "    'T_recov_fatal': scipy.stats.norm,\n",
    "    'T_recov_severe': scipy.stats.norm,\n",
    "    'lockdown_R0': scipy.stats.norm\n",
    "}"
   ]
  },
  {
   "cell_type": "code",
   "execution_count": null,
   "metadata": {},
   "outputs": [],
   "source": [
    "fig, axs = plt.subplots(nrows=len(params_dicts['m1'])//2, ncols=2, figsize=(18, 6*(len(params_dicts['m1'])//2)))\n",
    "for i, param in enumerate(params_dicts['m1'].keys()):\n",
    "    ax = axs.flat[i]\n",
    "    kl_matrix = np.array([[entropy(histograms[run1][param]['probability'], histograms[run2][param]['probability']) for run2 in histograms.keys()] for run1 in histograms.keys()])\n",
    "    sns.heatmap(kl_matrix, annot=True, xticklabels = np.arange(1, kl_matrix.shape[0]+1)*500, yticklabels = np.arange(1, kl_matrix.shape[0]+1)*500, vmax=10, ax=ax)\n",
    "    ax.set_title(f'KL Divergence matrix of parameter {param}')\n",
    "plt.show()\n",
    "# fig.savefig('constrained-kl-matrix.png')"
   ]
  },
  {
   "cell_type": "code",
   "execution_count": null,
   "metadata": {},
   "outputs": [],
   "source": [
    "params_mean_var = copy.deepcopy(params_dicts)\n",
    "for run in params_mean_var.keys():\n",
    "    for param in params_mean_var[run].keys():\n",
    "        params_mean_var[run][param] = np.std(params_mean_var[run][param])"
   ]
  },
  {
   "cell_type": "code",
   "execution_count": null,
   "metadata": {},
   "outputs": [],
   "source": [
    "pd.DataFrame.from_dict(params_mean_var)"
   ]
  },
  {
   "cell_type": "code",
   "execution_count": null,
   "metadata": {},
   "outputs": [],
   "source": [
    "for run in params_dicts.keys():\n",
    "    fig, axs = plt.subplots(nrows=len(param_distributions)//2, ncols=2, figsize=(18, 6*(len(param_distributions)//2)))\n",
    "    for i, param in enumerate(params_dicts[run].keys()):\n",
    "        dist = param_distributions[param]\n",
    "        param_trials = params_dicts[run][param]\n",
    "        dist_fit = dist.fit(param_trials)\n",
    "        sampling_points = np.linspace(np.min(param_trials), np.max(param_trials), len(param_trials))\n",
    "        pdf_fitted = dist.pdf(sampling_points, *dist_fit[:-2], loc=dist_fit[-2], scale=dist_fit[-1])\n",
    "        \n",
    "        ax = axs.flat[i]\n",
    "        ax.hist(params_dicts[run][param], density=True)\n",
    "        ax.plot(sampling_points, pdf_fitted)\n",
    "        ax.set_title(f'Historgram of parameter {param} for run {run}')\n",
    "        ax.set_ylabel('Density')\n",
    "    plt.show()"
   ]
  },
  {
   "cell_type": "code",
   "execution_count": null,
   "metadata": {},
   "outputs": [],
   "source": [
    "param_trials"
   ]
  },
  {
   "cell_type": "code",
   "execution_count": null,
   "metadata": {},
   "outputs": [],
   "source": []
  }
 ],
 "metadata": {
  "kernelspec": {
   "display_name": "Python 3",
   "language": "python",
   "name": "python3"
  },
  "language_info": {
   "codemirror_mode": {
    "name": "ipython",
    "version": 3
   },
   "file_extension": ".py",
   "mimetype": "text/x-python",
   "name": "python",
   "nbconvert_exporter": "python",
   "pygments_lexer": "ipython3"
  }
 },
 "nbformat": 4,
 "nbformat_minor": 4
}
