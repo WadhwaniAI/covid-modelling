{
 "cells": [
  {
   "cell_type": "code",
   "execution_count": null,
   "metadata": {},
   "outputs": [],
   "source": [
    "%load_ext autoreload\n",
    "%autoreload 2\n",
    "%matplotlib inline"
   ]
  },
  {
   "cell_type": "code",
   "execution_count": null,
   "metadata": {},
   "outputs": [],
   "source": [
    "import numpy as np\n",
    "import pandas as pd\n",
    "import seaborn as sns\n",
    "import matplotlib.pyplot as plt\n",
    "from scipy.stats import entropy\n",
    "import datetime\n",
    "import copy\n",
    "import time\n",
    "import wandb\n",
    "\n",
    "import sys\n",
    "sys.path.append('../../')\n",
    "\n",
    "from data.processing import get_data\n",
    "\n",
    "import models\n",
    "\n",
    "from main.seir.fitting import single_fitting_cycle\n",
    "from main.seir.forecast import get_forecast, forecast_all_trials, create_all_trials_csv, create_decile_csv_new\n",
    "from main.seir.sensitivity import calculate_sensitivity_and_plot\n",
    "from utils.generic.create_report import save_dict_and_create_report\n",
    "from utils.generic.config import read_config\n",
    "from utils.generic.enums import Columns\n",
    "from utils.fitting.loss import Loss_Calculator\n",
    "from utils.generic.logging import log_wandb\n",
    "from viz import plot_forecast, plot_top_k_trials, plot_ptiles\n",
    "from viz.fit import plot_histogram, plot_all_histograms, plot_mean_variance, plot_scatter, plot_kl_divergence, plot_heatmap_distribution_sigmas\n",
    "import yaml"
   ]
  },
  {
   "cell_type": "code",
   "execution_count": null,
   "metadata": {},
   "outputs": [],
   "source": [
    "predictions_dict = {}"
   ]
  },
  {
   "cell_type": "code",
   "execution_count": null,
   "metadata": {},
   "outputs": [],
   "source": [
    "config_filename = 'default.yaml'\n",
    "config = read_config(config_filename)"
   ]
  },
  {
   "cell_type": "code",
   "execution_count": null,
   "metadata": {},
   "outputs": [],
   "source": [
    "output_folder = '../../misc/reports/{}'.format(datetime.datetime.now().strftime(\"%Y_%m%d_%H%M%S\"))"
   ]
  },
  {
   "cell_type": "code",
   "execution_count": null,
   "metadata": {},
   "outputs": [],
   "source": [
    "predictions_dict.keys()"
   ]
  },
  {
   "cell_type": "markdown",
   "metadata": {},
   "source": [
    "## Perform Fits"
   ]
  },
  {
   "cell_type": "code",
   "execution_count": null,
   "metadata": {},
   "outputs": [],
   "source": [
    "location_tuples = [\n",
    "    ('Maharashtra', 'Mumbai'), \n",
    "    ('Maharashtra', 'Pune'),\n",
    "    ('West Bengal', 'Kolkata'),\n",
    "    ('Karnataka', 'Bengaluru Urban'),\n",
    "    ('Karnataka', 'Mysuru'),\n",
    "    ('Delhi', None),\n",
    "    ('Assam', None),\n",
    "    ('Telangana', None),\n",
    "    ('Tamil Nadu', 'Chennai'),\n",
    "    ('Andhra Pradesh', 'East Godavari'),\n",
    "    ('Andhra Pradesh', 'Chittoor'),\n",
    "    ('Jharkhand', 'Ranchi'),\n",
    "    ('Uttar Pradesh', 'Lucknow'),\n",
    "    ('Uttar Pradesh', 'Agra'),\n",
    "    ('Bihar', 'Patna'),\n",
    "    ('Maharashtra', 'Nashik'),\n",
    "    ('Maharashtra', 'Nagpur'),\n",
    "    ('Maharashtra', 'Thane'),\n",
    "    ('Gujarat', 'Ahmedabad'),\n",
    "    ('Rajasthan', 'Jaipur')\n",
    "]"
   ]
  },
  {
   "cell_type": "code",
   "execution_count": null,
   "metadata": {
    "jupyter": {
     "outputs_hidden": true
    }
   },
   "outputs": [],
   "source": [
    "num_rep_trials = 5\n",
    "\n",
    "for i, loc in enumerate(location_tuples):\n",
    "    config_params = copy.deepcopy(config['fitting'])\n",
    "    config_params['data']['dataloading_params']['state'] = loc[0]\n",
    "    config_params['data']['dataloading_params']['district'] = loc[1]\n",
    "    if loc[1] != 'Mumbai':\n",
    "        config_params['data']['smooth_jump'] = False\n",
    "    predictions_dict[loc] = {}\n",
    "    for i in range(num_rep_trials):\n",
    "        predictions_dict[loc][f'm{i}'] = single_fitting_cycle(**config_params) \n"
   ]
  },
  {
   "cell_type": "code",
   "execution_count": null,
   "metadata": {},
   "outputs": [],
   "source": [
    "predictions_dict"
   ]
  },
  {
   "cell_type": "code",
   "execution_count": null,
   "metadata": {},
   "outputs": [],
   "source": [
    "wandb.init(project=\"covid-modelling\")\n",
    "wandb.run.name = \"degeneracy-exps-location\"+wandb.run.name"
   ]
  },
  {
   "cell_type": "code",
   "execution_count": null,
   "metadata": {
    "jupyter": {
     "outputs_hidden": true
    }
   },
   "outputs": [],
   "source": [
    "mean_var_dict = {}\n",
    "histograms_dict = {}\n",
    "for key, loc_dict in predictions_dict.items():\n",
    "    fig, ax, histograms_dict[key] = plot_all_histograms(loc_dict, key)\n",
    "    wandb.log({f\"histograms/{key[0]}_{key[1]}\": [wandb.Image(fig)]})\n",
    "    fig, axs, mean_var_dict[key] = plot_mean_variance(loc_dict, key)\n",
    "    wandb.log({f\"mean_var/{key[0]}_{key[1]}\": [wandb.Image(fig)]})"
   ]
  },
  {
   "cell_type": "code",
   "execution_count": null,
   "metadata": {
    "jupyter": {
     "outputs_hidden": true
    }
   },
   "outputs": [],
   "source": [
    "fig, axs = plot_scatter(mean_var_dict, 'E_hosp_ratio', 'I_hosp_ratio')\n",
    "wandb.log({f\"scatter/{'E_hosp_ratio'}_{'I_hosp_ratio'}\": [wandb.Image(fig)]})\n",
    "fig, axs = plot_scatter(mean_var_dict, 'T_recov_fatal', 'P_fatal')\n",
    "wandb.log({f\"scatter/{'T_recov_fatal'}_{'P_fatal'}\": [wandb.Image(fig)]})"
   ]
  },
  {
   "cell_type": "code",
   "execution_count": null,
   "metadata": {
    "jupyter": {
     "outputs_hidden": true
    }
   },
   "outputs": [],
   "source": [
    "kl_dict = {}\n",
    "for key, histograms in histograms_dict.items():\n",
    "    fig, axs, kl_dict[key] = plot_kl_divergence(histograms, key)\n",
    "    wandb.log({f\"kl_divergence/{key[0]}_{key[1]}\": [wandb.Image(fig)]})"
   ]
  },
  {
   "cell_type": "code",
   "execution_count": null,
   "metadata": {},
   "outputs": [],
   "source": [
    "fig, df_comparison = plot_heatmap_distribution_sigmas(mean_var_dict, stat_measure='mean')\n",
    "wandb.log({f\"sigma_by_mu/mean\": [wandb.Image(fig)]})"
   ]
  },
  {
   "cell_type": "code",
   "execution_count": null,
   "metadata": {},
   "outputs": [],
   "source": [
    "df_comparison"
   ]
  },
  {
   "cell_type": "code",
   "execution_count": null,
   "metadata": {},
   "outputs": [],
   "source": []
  }
 ],
 "metadata": {
  "kernelspec": {
   "display_name": "Python (covid)",
   "language": "python",
   "name": "covid"
  },
  "language_info": {
   "codemirror_mode": {
    "name": "ipython",
    "version": 3
   },
   "file_extension": ".py",
   "mimetype": "text/x-python",
   "name": "python",
   "nbconvert_exporter": "python",
   "pygments_lexer": "ipython3"
  }
 },
 "nbformat": 4,
 "nbformat_minor": 4
}
