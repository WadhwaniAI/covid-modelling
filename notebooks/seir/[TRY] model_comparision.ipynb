{
 "cells": [
  {
   "cell_type": "code",
   "execution_count": null,
   "metadata": {},
   "outputs": [],
   "source": [
    "%load_ext autoreload\n",
    "%autoreload 2"
   ]
  },
  {
   "cell_type": "code",
   "execution_count": null,
   "metadata": {},
   "outputs": [],
   "source": [
    "import numpy as np\n",
    "import matplotlib.pyplot as plt\n",
    "import datetime\n",
    "import copy\n",
    "import time\n",
    "import pickle as pkl\n",
    "\n",
    "import sys\n",
    "sys.path.append('../../')\n",
    "\n",
    "from data.processing import get_data\n",
    "\n",
    "import models\n",
    "\n",
    "from main.seir.main import single_fitting_cycle\n",
    "from main.seir.forecast import get_forecast, forecast_all_trials, create_all_trials_csv, create_decile_csv_new\n",
    "from utils.generic.create_report import save_dict_and_create_report\n",
    "from utils.generic.config import read_config, make_date_key_str\n",
    "from utils.generic.enums import Columns\n",
    "from utils.fitting.loss import Loss_Calculator\n",
    "from utils.generic.logging import log_wandb, log_mlflow\n",
    "from viz import plot_forecast, plot_top_k_trials, plot_ptiles, plot_all_params, plot_all_losses\n",
    "from viz.uncertainty import plot_beta_loss\n",
    "\n",
    "import yaml\n",
    "import wandb"
   ]
  },
  {
   "cell_type": "code",
   "execution_count": null,
   "metadata": {},
   "outputs": [],
   "source": [
    "predictions_dict = {}"
   ]
  },
  {
   "cell_type": "code",
   "execution_count": null,
   "metadata": {},
   "outputs": [],
   "source": [
    "config_filenames = ['default.yaml', 'undetected.yaml', 'seir_pu.yaml']\n",
    "configs = [read_config(config_filename) for config_filename in config_filenames]\n",
    "# tuple format (state, district, starting_date, ending_date, N, num_trials)\n",
    "location_tuples = {\n",
    "    'MUMBAI' : ('Maharashtra', 'Mumbai', None, None, 2.0e+7, 250),\n",
    "    'PUNE' : ('Maharashtra', 'Pune', None, None, 0.6e+7, 250),\n",
    "    'DELHI' : ('Delhi', None, None, None, 2.0e+7, 250),\n",
    "    'RANCHI'  : ('Jharkhand', 'Ranchi', None, None, 0.14e+7, 250),\n",
    "    'BOKARO'  : ('Jharkhand', 'Bokaro', None, None, 0.06e+7, 250),\n",
    "}"
   ]
  },
  {
   "cell_type": "code",
   "execution_count": null,
   "metadata": {
    "tags": [
     "outputPrepend"
    ]
   },
   "outputs": [],
   "source": [
    "num_rep_trials = 5\n",
    "for tag, loc in location_tuples.items():\n",
    "    predictions_dict[tag] = {}\n",
    "    for j, config in enumerate(configs):\n",
    "        config_filename = config_filenames[j].split(\".\")[0]\n",
    "        predictions_dict[tag][config_filename] = {}\n",
    "        config_params = copy.deepcopy(config['fitting'])\n",
    "        config_params['data']['dataloading_params']['state'] = loc[0]\n",
    "        config_params['data']['dataloading_params']['district'] = loc[1]\n",
    "        config_params['split']['start_date'] = loc[2]\n",
    "        config_params['split']['end_date'] = loc[3]\n",
    "        config_params['default_params']['N'] = loc[4]\n",
    "        config_params['fitting_method_params']['num_evals'] = loc[5]\n",
    "        if loc[1] != 'Mumbai':\n",
    "            config_params['data']['smooth_jump'] = False\n",
    "        for k in range(num_rep_trials):\n",
    "            print (\"****************\")\n",
    "            print(tag, config_filename, k)\n",
    "            print (\"****************\")\n",
    "            predictions_dict[tag][config_filename][f'm{k}'] = single_fitting_cycle(**config_params) "
   ]
  },
  {
   "cell_type": "code",
   "execution_count": null,
   "metadata": {},
   "outputs": [],
   "source": [
    "save_dir = '../../misc/predictions/deg_exp/'    \n",
    "if not os.path.exists(save_dir):\n",
    "    os.makedirs(save_dir)\n",
    "for tag, tag_dict in predictions_dict.items():\n",
    "    with open(os.path.join(save_dir, tag + \".pickle\"), 'wb') as handle:\n",
    "        pkl.dump(tag_dict, handle)"
   ]
  },
  {
   "cell_type": "markdown",
   "metadata": {},
   "source": [
    "### Use the pickle file to read the predicitons_dict"
   ]
  },
  {
   "cell_type": "code",
   "execution_count": null,
   "metadata": {},
   "outputs": [],
   "source": [
    "save_dir = '../../misc/predictions/deg_exp/'    \n",
    "predictions_dict_complete = {}\n",
    "files = os.listdir(save_dir)\n",
    "for file_name in files:\n",
    "    with open(os.path.join(save_dir, file_name), 'rb') as handle:\n",
    "        predictions_dict_complete[file_name.split('.')[0]] = pkl.load(handle)"
   ]
  },
  {
   "cell_type": "code",
   "execution_count": null,
   "metadata": {},
   "outputs": [],
   "source": [
    "params_distribution = plot_all_params(predictions_dict_complete, method='ensemble')"
   ]
  },
  {
   "cell_type": "code",
   "execution_count": null,
   "metadata": {},
   "outputs": [],
   "source": [
    "losses_distribution = plot_all_losses(predictions_dict_complete, method='ensemble_loss_ra')"
   ]
  }
 ],
 "metadata": {
  "kernelspec": {
   "display_name": "Python 3.8.5 64-bit ('covid_modelling': conda)",
   "metadata": {
    "interpreter": {
     "hash": "8d4520c4ae250cc42f52066aee3414cc1b6850f2df392ef0f675cfc8e593b997"
    }
   },
   "name": "python3"
  },
  "language_info": {
   "codemirror_mode": {
    "name": "ipython",
    "version": 2
   },
   "file_extension": ".py",
   "mimetype": "text/x-python",
   "name": "python",
   "nbconvert_exporter": "python",
   "pygments_lexer": "ipython2"
  }
 },
 "nbformat": 4,
 "nbformat_minor": 4
}
