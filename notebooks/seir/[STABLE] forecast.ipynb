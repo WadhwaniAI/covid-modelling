{
 "cells": [
  {
   "cell_type": "code",
   "execution_count": null,
   "metadata": {},
   "outputs": [],
   "source": [
    "%load_ext autoreload\n",
    "%autoreload 2"
   ]
  },
  {
   "cell_type": "markdown",
   "metadata": {},
   "source": [
    "Please keep this notebook functionally at par with scripts/oncall/forecast.py AND linearly runnable (no code with duplicated functionality; run all from this cell down should produce a report)."
   ]
  },
  {
   "cell_type": "code",
   "execution_count": null,
   "metadata": {},
   "outputs": [],
   "source": [
    "import numpy as np\n",
    "import pandas as pd\n",
    "\n",
    "import pickle\n",
    "import argparse\n",
    "import copy\n",
    "import json\n",
    "import time\n",
    "\n",
    "import sys\n",
    "sys.path.append('../../')\n",
    "\n",
    "from main.seir.fitting import calculate_loss, train_val_split\n",
    "from main.seir.forecast import create_decile_csv\n",
    "from utils.create_report import create_report\n",
    "from utils.enums import Columns\n",
    "from viz import plot_trials, plot_r0_multipliers\n",
    "from main.seir.uncertainty import get_all_ptiles, forecast_ptiles\n",
    "from main.seir.uncertainty import save_r0_mul, predict_r0_multipliers\n"
   ]
  },
  {
   "cell_type": "code",
   "execution_count": null,
   "metadata": {},
   "outputs": [],
   "source": [
    "folder = 'test/mumbai47'\n",
    "district = 'mumbai'\n",
    "iterations = 1000"
   ]
  },
  {
   "cell_type": "code",
   "execution_count": null,
   "metadata": {},
   "outputs": [],
   "source": [
    "with open(f'../../reports/{folder}/predictions_dict.pkl', 'rb') as pkl:\n",
    "    region_dict = pickle.load(pkl)"
   ]
  },
  {
   "cell_type": "code",
   "execution_count": null,
   "metadata": {},
   "outputs": [],
   "source": [
    "forecast_dict = {}"
   ]
  },
  {
   "cell_type": "code",
   "execution_count": null,
   "metadata": {},
   "outputs": [],
   "source": [
    "if district == 'pune':\n",
    "    date_of_interest = '2020-06-15'\n",
    "    # df_reported = region_dict['m2']['df_district']\n",
    "    df_reported = region_dict['m2']['df_district_unsmoothed']\n",
    "elif district == 'mumbai':\n",
    "    date_of_interest = '2020-06-30'\n",
    "    df_reported = pd.read_csv(f'../../reports/{folder}/true.csv')\n",
    "    df_reported['date'] = pd.to_datetime(df_reported['date'])\n",
    "    # df_reported = region_dict['m2']['df_district_unsmoothed']"
   ]
  },
  {
   "cell_type": "code",
   "execution_count": null,
   "metadata": {},
   "outputs": [],
   "source": [
    "deciles_idx, forecast_dict['beta'] = get_all_ptiles(region_dict, date_of_interest, iterations)\n",
    "# with open(f'../../reports/{folder}/deciles_idx.json', 'w+') as params_json:\n",
    "#     deciles_idx['beta'] = forecast_dict['beta']\n",
    "#     json.dump(deciles_idx, params_json, indent=4)\n",
    "#     del deciles_idx['beta']"
   ]
  },
  {
   "cell_type": "code",
   "execution_count": null,
   "metadata": {},
   "outputs": [],
   "source": [
    "# forecast deciles to csv\n",
    "forecast_dict['decile_params'], deciles_forecast = forecast_ptiles(region_dict, deciles_idx)\n",
    "df_output = create_decile_csv(deciles_forecast, df_reported, region_dict['dist'], 'district', icu_fraction=0.02)\n",
    "# df_output.to_csv(f'../../reports/{folder}/deciles.csv')\n",
    "# pd.DataFrame(forecast_dict['decile_params']).to_csv(f'../../reports/{folder}/deciles-params.csv')"
   ]
  },
  {
   "cell_type": "code",
   "execution_count": null,
   "metadata": {},
   "outputs": [],
   "source": [
    "idxs = list(deciles_idx.values())\n",
    "predictions = region_dict['m2']['predictions']\n",
    "params = region_dict['m2']['params']\n",
    "losses = region_dict['m2']['losses']\n",
    "def get_idxs(l, idxs):\n",
    "    return [l[i] for i in idxs]\n",
    "plots = plot_trials(region_dict, \n",
    "    k=len(deciles_idx), predictions=get_idxs(predictions,idxs), \n",
    "    params=get_idxs(params,idxs), losses=get_idxs(losses,idxs), \n",
    "    plot_individual_curves=True, vline=date_of_interest, which_compartments=[Columns.active])\n",
    "# plots[Columns.active].figure.savefig(f'../../reports/{folder}/deciles.png')\n",
    "forecast_dict['deciles_plot'] = plots[Columns.active]"
   ]
  },
  {
   "cell_type": "code",
   "execution_count": null,
   "metadata": {},
   "outputs": [],
   "source": [
    "\n",
    "# perform what-ifs on 80th percentile\n",
    "predictions_mul_dict = predict_r0_multipliers(region_dict, params[deciles_idx[80]])\n",
    "save_r0_mul(predictions_mul_dict, folder=folder)\n",
    "\n",
    "forecast_dict['what-ifs-plot'] = plot_r0_multipliers(region_dict, params[deciles_idx[80]], predictions_mul_dict, multipliers=[0.9, 1, 1.1, 1.25])\n",
    "# forecast_dict['what-ifs-plot'].figure.savefig(f'../../reports/{folder}/what-ifs/what-ifs.png')"
   ]
  },
  {
   "cell_type": "code",
   "execution_count": null,
   "metadata": {},
   "outputs": [],
   "source": [
    "# create_report(region_dict, forecast_dict=forecast_dict, ROOT_DIR=f'../../reports/{folder}')"
   ]
  },
  {
   "cell_type": "code",
   "execution_count": null,
   "metadata": {},
   "outputs": [],
   "source": []
  }
 ],
 "metadata": {
  "kernelspec": {
   "display_name": "Python 3.7.7 64-bit",
   "language": "python",
   "name": "python37764bitbf54195b0dc041b385ef0610fc0a4aa4"
  },
  "language_info": {
   "codemirror_mode": {
    "name": "ipython",
    "version": 3
   },
   "file_extension": ".py",
   "mimetype": "text/x-python",
   "name": "python",
   "nbconvert_exporter": "python",
   "pygments_lexer": "ipython3",
   "version": "3.7.7-final"
  }
 },
 "nbformat": 4,
 "nbformat_minor": 4
}