{
 "cells": [
  {
   "cell_type": "code",
   "execution_count": 1,
   "metadata": {},
   "outputs": [],
   "source": [
    "%load_ext autoreload\n",
    "%autoreload 2"
   ]
  },
  {
   "cell_type": "code",
   "execution_count": 27,
   "metadata": {},
   "outputs": [],
   "source": [
    "import numpy as np\n",
    "import matplotlib.pyplot as plt\n",
    "import matplotlib.dates as mdates\n",
    "import seaborn as sns\n",
    "from hyperopt import hp, tpe, fmin, Trials\n",
    "from tqdm import tqdm\n",
    "\n",
    "import datetime\n",
    "import copy\n",
    "import json\n",
    "\n",
    "import sys\n",
    "sys.path.append('../../')\n",
    "\n",
    "from data.dataloader import get_covid19india_api_data\n",
    "from data.processing import get_data\n",
    "\n",
    "from models.seir.seir_testing import SEIR_Testing\n",
    "from models.seir.seirhd import SEIRHD\n",
    "from models.seir.seir_movement import SEIR_Movement\n",
    "from models.seir.seir_movement_testing import SEIR_Movement_Testing\n",
    "\n",
    "from main.seir.fitting import single_fitting_cycle, get_variable_param_ranges\n",
    "from main.seir.forecast import get_forecast, create_region_csv, create_all_csvs, write_csv\n",
    "from utils.create_report import create_report\n",
    "from utils.loss import Loss_Calculator\n",
    "from viz import plot_forecast"
   ]
  },
  {
   "cell_type": "markdown",
   "metadata": {},
   "source": [
    "## Load Covid19india Data"
   ]
  },
  {
   "cell_type": "code",
   "execution_count": null,
   "metadata": {},
   "outputs": [],
   "source": [
    "dataframes = get_covid19india_api_data()"
   ]
  },
  {
   "cell_type": "code",
   "execution_count": null,
   "metadata": {},
   "outputs": [],
   "source": [
    "predictions_dict = {}"
   ]
  },
  {
   "cell_type": "markdown",
   "metadata": {},
   "source": [
    "## Select Districts to fit on"
   ]
  },
  {
   "cell_type": "code",
   "execution_count": null,
   "metadata": {},
   "outputs": [],
   "source": [
    "districts_to_show = [('Maharashtra', 'Mumbai')]"
   ]
  },
  {
   "cell_type": "markdown",
   "metadata": {},
   "source": [
    "## Perform M1 and M2 fits"
   ]
  },
  {
   "cell_type": "code",
   "execution_count": null,
   "metadata": {},
   "outputs": [],
   "source": [
    "for state, district in districts_to_show:\n",
    "    predictions_dict[(state, district)] = {}\n",
    "    predictions_dict[(state, district)]['m1'] = single_fitting_cycle(\n",
    "        dataframes, state, district, train_period=7, val_period=7, model=SEIR_Testing,\n",
    "        data_from_tracker=False, initialisation='intermediate', num_evals=700, \n",
    "        which_compartments=['hospitalised', 'total_infected', 'deceased', 'recovered'],\n",
    "        smooth_jump=True, smoothing_length=33, smoothing_method='weighted')\n",
    "    predictions_dict[(state, district)]['m2'] = single_fitting_cycle(\n",
    "        dataframes, state, district, train_period=7, val_period=0, num_evals=700,\n",
    "        data_from_tracker=False, initialisation='intermediate', model=SEIR_Testing, \n",
    "        which_compartments=['hospitalised', 'total_infected', 'deceased', 'recovered'],\n",
    "        smooth_jump=True, smoothing_length=33, smoothing_method='weighted')\n",
    "    \n",
    "    predictions_dict[(state, district)]['state'] = state\n",
    "    predictions_dict[(state, district)]['dist'] = district\n",
    "    predictions_dict[(state, district)]['fitting_date'] = datetime.datetime.now().strftime(\"%Y-%m-%d\")\n",
    "    predictions_dict[(state, district)]['datasource'] = 'covid19api' if predictions_dict[(state, district)]['m1']['data_from_tracker'] else 'municipality'\n",
    "    predictions_dict[(state, district)]['variable_param_ranges'] = predictions_dict[(state, district)]['m1']['variable_param_ranges']\n",
    "    predictions_dict[(state, district)]['data_last_date'] = predictions_dict[(state, district)]['m2']['data_last_date']"
   ]
  },
  {
   "cell_type": "markdown",
   "metadata": {},
   "source": [
    "## Create Master Loss Dataframe"
   ]
  },
  {
   "cell_type": "markdown",
   "metadata": {},
   "source": [
    "### M1 Loss DataFrame"
   ]
  },
  {
   "cell_type": "code",
   "execution_count": 28,
   "metadata": {},
   "outputs": [],
   "source": [
    "lc = Loss_Calculator()"
   ]
  },
  {
   "cell_type": "code",
   "execution_count": 30,
   "metadata": {},
   "outputs": [
    {
     "data": {
      "text/html": [
       "<div>\n",
       "<style scoped>\n",
       "    .dataframe tbody tr th:only-of-type {\n",
       "        vertical-align: middle;\n",
       "    }\n",
       "\n",
       "    .dataframe tbody tr th {\n",
       "        vertical-align: top;\n",
       "    }\n",
       "\n",
       "    .dataframe thead tr th {\n",
       "        text-align: left;\n",
       "    }\n",
       "</style>\n",
       "<table border=\"1\" class=\"dataframe\">\n",
       "  <thead>\n",
       "    <tr>\n",
       "      <th></th>\n",
       "      <th></th>\n",
       "      <th colspan=\"4\" halign=\"left\">train</th>\n",
       "      <th colspan=\"4\" halign=\"left\">val</th>\n",
       "    </tr>\n",
       "    <tr>\n",
       "      <th></th>\n",
       "      <th></th>\n",
       "      <th>hospitalised</th>\n",
       "      <th>total_infected</th>\n",
       "      <th>deceased</th>\n",
       "      <th>recovered</th>\n",
       "      <th>hospitalised</th>\n",
       "      <th>total_infected</th>\n",
       "      <th>deceased</th>\n",
       "      <th>recovered</th>\n",
       "    </tr>\n",
       "  </thead>\n",
       "  <tbody>\n",
       "    <tr>\n",
       "      <th>Maharashtra</th>\n",
       "      <th>Mumbai</th>\n",
       "      <td>1</td>\n",
       "      <td>0.49</td>\n",
       "      <td>3.55</td>\n",
       "      <td>3.68</td>\n",
       "      <td>14.45</td>\n",
       "      <td>1.38</td>\n",
       "      <td>10.11</td>\n",
       "      <td>36</td>\n",
       "    </tr>\n",
       "  </tbody>\n",
       "</table>\n",
       "</div>"
      ],
      "text/plain": [
       "                          train                                    \\\n",
       "                   hospitalised total_infected deceased recovered   \n",
       "Maharashtra Mumbai            1           0.49     3.55      3.68   \n",
       "\n",
       "                            val                                    \n",
       "                   hospitalised total_infected deceased recovered  \n",
       "Maharashtra Mumbai        14.45           1.38    10.11        36  "
      ]
     },
     "execution_count": 30,
     "metadata": {},
     "output_type": "execute_result"
    }
   ],
   "source": [
    "lc.create_loss_dataframe_master(predictions_dict, 'm1')"
   ]
  },
  {
   "cell_type": "markdown",
   "metadata": {},
   "source": [
    "### M2 Loss DataFrame"
   ]
  },
  {
   "cell_type": "code",
   "execution_count": 31,
   "metadata": {},
   "outputs": [
    {
     "data": {
      "text/html": [
       "<div>\n",
       "<style scoped>\n",
       "    .dataframe tbody tr th:only-of-type {\n",
       "        vertical-align: middle;\n",
       "    }\n",
       "\n",
       "    .dataframe tbody tr th {\n",
       "        vertical-align: top;\n",
       "    }\n",
       "\n",
       "    .dataframe thead tr th {\n",
       "        text-align: left;\n",
       "    }\n",
       "</style>\n",
       "<table border=\"1\" class=\"dataframe\">\n",
       "  <thead>\n",
       "    <tr>\n",
       "      <th></th>\n",
       "      <th></th>\n",
       "      <th colspan=\"4\" halign=\"left\">train</th>\n",
       "    </tr>\n",
       "    <tr>\n",
       "      <th></th>\n",
       "      <th></th>\n",
       "      <th>hospitalised</th>\n",
       "      <th>total_infected</th>\n",
       "      <th>deceased</th>\n",
       "      <th>recovered</th>\n",
       "    </tr>\n",
       "  </thead>\n",
       "  <tbody>\n",
       "    <tr>\n",
       "      <th>Maharashtra</th>\n",
       "      <th>Mumbai</th>\n",
       "      <td>6.63</td>\n",
       "      <td>1.14</td>\n",
       "      <td>1.13</td>\n",
       "      <td>12.94</td>\n",
       "    </tr>\n",
       "  </tbody>\n",
       "</table>\n",
       "</div>"
      ],
      "text/plain": [
       "                          train                                  \n",
       "                   hospitalised total_infected deceased recovered\n",
       "Maharashtra Mumbai         6.63           1.14     1.13     12.94"
      ]
     },
     "execution_count": 31,
     "metadata": {},
     "output_type": "execute_result"
    }
   ],
   "source": [
    "lc.create_loss_dataframe_master(predictions_dict, 'm2')"
   ]
  },
  {
   "cell_type": "markdown",
   "metadata": {},
   "source": [
    "## Plot Forecasts"
   ]
  },
  {
   "cell_type": "code",
   "execution_count": null,
   "metadata": {},
   "outputs": [],
   "source": [
    "for region in predictions_dict.keys():\n",
    "    predictions_dict[region]['forecast'] = plot_forecast(predictions_dict[region], region, both_forecasts=True, error_bars=True)"
   ]
  },
  {
   "cell_type": "markdown",
   "metadata": {},
   "source": [
    "## Create Report"
   ]
  },
  {
   "cell_type": "code",
   "execution_count": null,
   "metadata": {},
   "outputs": [],
   "source": [
    "for region in predictions_dict.keys():\n",
    "    create_report(predictions_dict[region])"
   ]
  },
  {
   "cell_type": "markdown",
   "metadata": {},
   "source": [
    "## Create and Save Output CSV"
   ]
  },
  {
   "cell_type": "code",
   "execution_count": null,
   "metadata": {},
   "outputs": [],
   "source": [
    "df_output = create_all_csvs(predictions_dict, icu_fraction=0.02)"
   ]
  },
  {
   "cell_type": "code",
   "execution_count": null,
   "metadata": {},
   "outputs": [],
   "source": [
    "write_csv(df_output)"
   ]
  },
  {
   "cell_type": "code",
   "execution_count": null,
   "metadata": {},
   "outputs": [],
   "source": []
  }
 ],
 "metadata": {
  "kernelspec": {
   "display_name": "Python 3.7.7 64-bit",
   "language": "python",
   "name": "python37764bitbf54195b0dc041b385ef0610fc0a4aa4"
  },
  "language_info": {
   "codemirror_mode": {
    "name": "ipython",
    "version": 3
   },
   "file_extension": ".py",
   "mimetype": "text/x-python",
   "name": "python",
   "nbconvert_exporter": "python",
   "pygments_lexer": "ipython3",
   "version": "3.7.7-final"
  }
 },
 "nbformat": 4,
 "nbformat_minor": 4
}