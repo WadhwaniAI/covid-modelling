{
 "cells": [
  {
   "cell_type": "code",
   "execution_count": null,
   "metadata": {
    "tags": []
   },
   "outputs": [],
   "source": [
    "%load_ext autoreload\n",
    "%autoreload 2"
   ]
  },
  {
   "cell_type": "code",
   "execution_count": null,
   "metadata": {
    "tags": []
   },
   "outputs": [],
   "source": [
    "import numpy as np\n",
    "import matplotlib.pyplot as plt\n",
    "import datetime\n",
    "import copy\n",
    "import time\n",
    "\n",
    "import sys\n",
    "sys.path.append('../../')\n",
    "\n",
    "from data.processing import get_data\n",
    "\n",
    "import models\n",
    "import random\n",
    "\n",
    "from main.seir.fitting import single_fitting_cycle\n",
    "from main.seir.forecast import get_forecast, forecast_all_trials, create_all_trials_csv, create_decile_csv_new\n",
    "from main.seir.sensitivity import calculate_sensitivity_and_plot\n",
    "import main.seir.uncertainty as uncertainty_module\n",
    "from utils.generic.create_report import save_dict_and_create_report_simple\n",
    "from utils.generic.config import read_config\n",
    "from utils.generic.enums import Columns\n",
    "from utils.fitting.loss import Loss_Calculator\n",
    "from utils.generic.logging import log_wandb\n",
    "from viz import plot_forecast, plot_top_k_trials, plot_ptiles\n",
    "\n",
    "import yaml"
   ]
  },
  {
   "cell_type": "code",
   "execution_count": null,
   "metadata": {},
   "outputs": [],
   "source": [
    "predictions_dict = {}"
   ]
  },
  {
   "cell_type": "code",
   "execution_count": null,
   "metadata": {},
   "outputs": [],
   "source": [
    "config_filename = 'without_d.yaml'\n",
    "config = read_config(config_filename)"
   ]
  },
  {
   "cell_type": "code",
   "execution_count": null,
   "metadata": {},
   "outputs": [],
   "source": [
    "output_folder = '../../misc/reports/{}'.format(datetime.datetime.now().strftime(\"%Y_%m%d_%H%M%S\"))"
   ]
  },
  {
   "cell_type": "markdown",
   "metadata": {},
   "source": [
    "## Perform M1 and M2 fits"
   ]
  },
  {
   "cell_type": "code",
   "execution_count": null,
   "metadata": {
    "tags": []
   },
   "outputs": [],
   "source": [
    "config_copy = copy.deepcopy(config['fitting'])\n",
    "print(config_copy['default_params'])\n",
    "config_copy['default_params']['d'] = 0.02\n",
    "print(config_copy['default_params'])"
   ]
  },
  {
   "cell_type": "code",
   "execution_count": null,
   "metadata": {
    "tags": [
     "outputPrepend"
    ]
   },
   "outputs": [],
   "source": [
    "d_vals = [0.01,0.02,0.05,0.1,0.2,0.4,0.5,0.75,0.9,1.0]\n",
    "# d_vals = [0.01,0.4]\n",
    "best_params = []\n",
    "train_losses = []\n",
    "val_losses = []\n",
    "for d in d_vals:\n",
    "    config_copy = copy.deepcopy(config['fitting'])\n",
    "    config_copy['default_params']['d'] = d\n",
    "    predictions_dict['m1'] = single_fitting_cycle(**config_copy) \n",
    "    predictions_dict['fitting_date'] = datetime.datetime.now().strftime(\"%Y-%m-%d\")\n",
    "    predictions_dict['m1']['best_params']['d'] = d\n",
    "    best_params.append(predictions_dict['m1']['best_params'])\n",
    "    train_losses.append(predictions_dict['m1']['df_loss']['train'])\n",
    "    val_losses.append(predictions_dict['m1']['df_loss']['val'])"
   ]
  },
  {
   "cell_type": "markdown",
   "metadata": {},
   "source": [
    "## Loss Dataframes"
   ]
  },
  {
   "cell_type": "code",
   "execution_count": null,
   "metadata": {},
   "outputs": [],
   "source": [
    "predictions_dict['m1']['df_loss']"
   ]
  },
  {
   "cell_type": "code",
   "execution_count": null,
   "metadata": {},
   "outputs": [],
   "source": [
    "import pandas as pd\n",
    "\n",
    "df = pd.DataFrame(best_params)\n",
    "df"
   ]
  },
  {
   "cell_type": "code",
   "execution_count": null,
   "metadata": {},
   "outputs": [],
   "source": [
    "df2 = pd.DataFrame(train_losses)\n",
    "df2 = df2.add_prefix('trainloss_')\n",
    "df2 = df2.set_index(df.index)\n",
    "\n",
    "df3 = pd.DataFrame(val_losses)\n",
    "df3 = df3.add_prefix('valloss_')\n",
    "df3 = df3.set_index(df.index)\n",
    "\n",
    "df2"
   ]
  },
  {
   "cell_type": "code",
   "execution_count": null,
   "metadata": {},
   "outputs": [],
   "source": [
    "df_final = df.join(df2)\n",
    "df_final = df_final.join(df3)\n",
    "df_final.to_csv('../../misc/reports/varying_d.csv')"
   ]
  },
  {
   "cell_type": "markdown",
   "metadata": {},
   "source": [
    "### M2 Loss DataFrame"
   ]
  },
  {
   "cell_type": "code",
   "execution_count": null,
   "metadata": {},
   "outputs": [],
   "source": []
  }
 ],
 "metadata": {
  "kernelspec": {
   "display_name": "Python 3",
   "language": "python",
   "name": "python3"
  },
  "language_info": {
   "codemirror_mode": {
    "name": "ipython",
    "version": 3
   },
   "file_extension": ".py",
   "mimetype": "text/x-python",
   "name": "python",
   "nbconvert_exporter": "python",
   "pygments_lexer": "ipython3"
  }
 },
 "nbformat": 4,
 "nbformat_minor": 4
}
