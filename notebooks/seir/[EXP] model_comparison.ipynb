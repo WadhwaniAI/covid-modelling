{
 "cells": [
  {
   "cell_type": "code",
   "execution_count": null,
   "metadata": {},
   "outputs": [],
   "source": [
    "%load_ext autoreload\n",
    "%autoreload 2\n",
    "%matplotlib inline"
   ]
  },
  {
   "cell_type": "code",
   "execution_count": null,
   "metadata": {},
   "outputs": [],
   "source": [
    "import numpy as np\n",
    "import pandas as pd\n",
    "import seaborn as sns\n",
    "import matplotlib.pyplot as plt\n",
    "from scipy.stats import entropy\n",
    "import datetime\n",
    "import copy\n",
    "import time\n",
    "import wandb\n",
    "import pickle as pkl\n",
    "\n",
    "import sys\n",
    "sys.path.append('../../')\n",
    "\n",
    "from data.processing import get_data\n",
    "\n",
    "import models\n",
    "\n",
    "from main.seir.fitting import single_fitting_cycle\n",
    "from main.seir.forecast import get_forecast, forecast_all_trials, create_all_trials_csv, create_decile_csv_new\n",
    "from main.seir.sensitivity import calculate_sensitivity_and_plot\n",
    "from utils.generic.create_report import save_dict_and_create_report\n",
    "from utils.generic.config import read_config\n",
    "from utils.generic.enums import Columns\n",
    "from utils.fitting.loss import Loss_Calculator\n",
    "from utils.generic.logging import log_wandb\n",
    "from viz import plot_forecast, plot_top_k_trials, plot_ptiles\n",
    "from viz.fit import plot_histogram, plot_all_histograms, plot_mean_variance, plot_scatter, plot_kl_divergence, plot_heatmap_distribution_sigmas, plot_all_params, plot_all_losses, plot_all_buckets\n",
    "import yaml"
   ]
  },
  {
   "cell_type": "code",
   "execution_count": null,
   "metadata": {},
   "outputs": [],
   "source": [
    "predictions_dict = {}"
   ]
  },
  {
   "cell_type": "code",
   "execution_count": null,
   "metadata": {},
   "outputs": [],
   "source": [
    "output_folder = '../../misc/reports/{}'.format(datetime.datetime.now().strftime(\"%Y_%m%d_%H%M%S\"))"
   ]
  },
  {
   "cell_type": "code",
   "execution_count": null,
   "metadata": {},
   "outputs": [],
   "source": [
    "predictions_dict.keys()"
   ]
  },
  {
   "cell_type": "code",
   "execution_count": null,
   "metadata": {},
   "outputs": [],
   "source": [
    "config_filenames = ['experiments/seirhd.yaml', 'experiments/undetected.yaml', 'experiments/seir_pu.yaml']\n",
    "model_params = {\n",
    "        'SEIRHD': [ 'lockdown_R0', 'T_inc', 'T_inf', 'T_inf', 'T_recov', 'T_recov_fatal', 'P_fatal', 'E_hosp_ratio', 'I_hosp_ratio'],\n",
    "        'SEIR_Undetected': [ 'T_inc', 'T_inf_D', 'T_inf_U', 'T_recov', 'T_recov_fatal', 'beta', 'd', 'P_fatal', 'I_D_hosp_ratio', 'I_U_hosp_ratio', 'E_hosp_ratio'],\n",
    "        'SEIR_PU': [ 'T_inc', 'T_inf_U', 'T_recov', 'T_recov_fatal', 'beta', 'd', 'P_fatal', 'I_hosp_ratio', 'E_hosp_ratio','Pu_pop_ratio'],\n",
    "    }\n",
    "model_names = list(model_params.keys())\n",
    "configs = [read_config(config_filename) for config_filename in config_filenames]\n",
    "# tuple format (state, district, starting_date, ending_date)\n",
    "location_tuples = {\n",
    "    'MUMBAI' : ('Maharashtra', 'Mumbai', None, None),\n",
    "    'PUNE' : ('Maharashtra', 'Pune', None, None),\n",
    "    'NASHIK' : ('Maharashtra', 'Nashik', None, None),\n",
    "    'DELHI' : ('Delhi', None, None, None),\n",
    "    'RANCHI'  : ('Jharkhand', 'Ranchi', None, None),\n",
    "    'BOKARO'  : ('Jharkhand', 'Bokaro', None, None),\n",
    "    'KOLKATA' : ('West Bengal', 'Kolkata', None, None),\n",
    "    'BANGALURU' : ('Karnataka', 'Bengaluru Urban', None, None),\n",
    "    'ASSAM' : ('Assam', None, None, None),\n",
    "    'CHENNAI' : ('Tamil Nadu', 'Chennai', None, None),\n",
    "    'JAIPUR' : ('Rajasthan', 'Jaipur', None, None)\n",
    "}"
   ]
  },
  {
   "cell_type": "code",
   "execution_count": null,
   "metadata": {},
   "outputs": [],
   "source": [
    "config_filenames = ['experiments/seirhd.yaml', 'experiments/undetected.yaml', 'experiments/seir_pu.yaml', 'experiments/pu_testing.yaml']\n",
    "model_params = {\n",
    "        'SEIRHD': [ 'lockdown_R0', 'T_inc', 'T_inf', 'T_inf', 'T_recov', 'T_recov_fatal', 'P_fatal', 'E_hosp_ratio', 'I_hosp_ratio'],\n",
    "        'SEIR_Undetected': [ 'T_inc', 'T_inf_D', 'T_inf_U', 'T_recov', 'T_recov_fatal', 'beta', 'd', 'P_fatal', 'I_D_hosp_ratio', 'I_U_hosp_ratio', 'E_hosp_ratio'],\n",
    "        'SEIR_PU': [ 'T_inc', 'T_inf_U', 'T_recov', 'T_recov_fatal', 'beta', 'd', 'P_fatal', 'I_hosp_ratio', 'E_hosp_ratio','Pu_pop_ratio'],\n",
    "        'SEIR_PU_Testing': [ 'T_inc', 'T_inf_U', 'T_recov', 'T_recov_fatal', 'beta', 'd', 'P_fatal', 'I_hosp_ratio', 'E_hosp_ratio','Pu_pop_ratio']\n",
    "    }\n",
    "model_names = list(model_params.keys())\n",
    "configs = [read_config(config_filename) for config_filename in config_filenames]\n",
    "location_tuples = {\n",
    "    'MUMBAI' : ('Maharashtra', 'Mumbai', None, None),\n",
    "    'PUNE2' : ('Maharashtra', 'Pune', None, None),\n",
    "    'NASHIK' : ('Maharashtra', 'Pune', None, None), # decreasing pattern of testing in the end\n",
    "    'THANE' : ('Maharashtra', 'Pune', None, None),\n",
    "    'DELHI1' : ('Delhi', None, None, None),\n",
    "    'DELHI2' : ('Delhi', None, datetime.date(2020,8,27), None), # increase in testing\n",
    "    'JHS'  : ('Jharkhand', None, None, None),\n",
    "    'JHS'  : ('Jharkhand', None, None, datetime.date(2020,9,7)), # increase in testing\n",
    "    'KOLKATA' : ('West Bengal', 'Kolkata', None, None),\n",
    "    'BANGALURU' : ('Karnataka', 'Bengaluru Urban', None, None),\n",
    "    'ASSAM' : ('Assam', None, None, None),\n",
    "    'TELANGANA' : ('Telangana', None, None, None),\n",
    "    'CHENNAI' : ('Tamil Nadu', 'Chennai', None, None),\n",
    "    'GUJ' : ('Gujarat', 'Ahmedabad', None, None),\n",
    "    'JAIPUR' : ('Rajasthan', 'Jaipur', None, None)\n",
    "}"
   ]
  },
  {
   "cell_type": "code",
   "execution_count": null,
   "metadata": {
    "tags": [
     "outputPrepend"
    ]
   },
   "outputs": [],
   "source": [
    "num_rep_trials = 2\n",
    "for tag, loc in location_tuples.items():\n",
    "    predictions_dict[tag] = {}\n",
    "    for j, config in enumerate(configs):\n",
    "        predictions_dict[tag][model_names[j]] = {}\n",
    "        config_params = copy.deepcopy(config['fitting'])\n",
    "        config_params['data']['dataloading_params']['state'] = loc[0]\n",
    "        config_params['data']['dataloading_params']['district'] = loc[1]\n",
    "        config_params['split']['start_date'] = loc[2]\n",
    "        config_params['split']['end_date'] = loc[3]\n",
    "        if loc[1] != 'Mumbai':\n",
    "            config_params['data']['smooth_jump'] = False\n",
    "        for k in range(num_rep_trials):\n",
    "            predictions_dict[tag][model_names[j]][f'm{k}'] = single_fitting_cycle(**config_params) "
   ]
  },
  {
   "cell_type": "code",
   "execution_count": null,
   "metadata": {},
   "outputs": [],
   "source": [
    "with open('../../misc/predictions/predictions_dict.pickle', 'wb') as handle:\n",
    "    pkl.dump(predictions_dict, handle)"
   ]
  },
  {
   "cell_type": "markdown",
   "metadata": {},
   "source": [
    "### Use the pickle file to read the predicitons_dict"
   ]
  },
  {
   "cell_type": "code",
   "execution_count": null,
   "metadata": {},
   "outputs": [],
   "source": [
    "with open('../../misc/predictions/predictions_dict.pickle', 'rb') as handle:\n",
    "    predictions_dict = pkl.load(handle)"
   ]
  },
  {
   "cell_type": "code",
   "execution_count": null,
   "metadata": {},
   "outputs": [],
   "source": [
    "wandb.init(project=\"covid-modelling\")\n",
    "wandb.run.name = \"degeneracy-exps-location\"+wandb.run.name"
   ]
  },
  {
   "cell_type": "code",
   "execution_count": null,
   "metadata": {
    "tags": []
   },
   "outputs": [],
   "source": [
    "plot_all_params(predictions_dict, model_params, method='ensemble_combined')"
   ]
  },
  {
   "cell_type": "code",
   "execution_count": null,
   "metadata": {},
   "outputs": [],
   "source": [
    "which_compartments = {model_names[i]: config['fitting']['loss']['loss_compartments'] for i, config in enumerate(configs)}\n",
    "plot_all_losses(predictions_dict, which_losses=['train', 'val'], which_compartments=which_compartments)"
   ]
  },
  {
   "cell_type": "code",
   "execution_count": null,
   "metadata": {},
   "outputs": [],
   "source": [
    "plot_all_buckets(predictions_dict, which_buckets=['S', 'I', 'E', 'I_U'], compare='model')"
   ]
  },
  {
   "cell_type": "code",
   "execution_count": null,
   "metadata": {},
   "outputs": [],
   "source": []
  }
 ],
 "metadata": {
  "kernelspec": {
   "display_name": "Python 3.7.6 64-bit ('base': conda)",
   "metadata": {
    "interpreter": {
     "hash": "483dd91e9e5776a554fa707e4e3da737dc749f524ad6485bce7bd4bb723db086"
    }
   },
   "name": "Python 3.7.6 64-bit ('base': conda)"
  },
  "language_info": {
   "codemirror_mode": {
    "name": "ipython",
    "version": 3
   },
   "file_extension": ".py",
   "mimetype": "text/x-python",
   "name": "python",
   "nbconvert_exporter": "python",
   "pygments_lexer": "ipython3"
  }
 },
 "nbformat": 4,
 "nbformat_minor": 2
}
