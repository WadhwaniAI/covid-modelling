{
 "cells": [
  {
   "cell_type": "code",
   "execution_count": null,
   "metadata": {},
   "outputs": [],
   "source": [
    "%load_ext autoreload\n",
    "%autoreload 2"
   ]
  },
  {
   "cell_type": "code",
   "execution_count": null,
   "metadata": {},
   "outputs": [],
   "source": [
    "import numpy as np\n",
    "import pandas as pd\n",
    "import matplotlib.pyplot as plt\n",
    "import datetime\n",
    "import copy\n",
    "import time\n",
    "import math\n",
    "import pickle as pkl\n",
    "\n",
    "import sys\n",
    "sys.path.append('../../')\n",
    "\n",
    "from data.processing import get_data\n",
    "\n",
    "import models\n",
    "\n",
    "from main.seir.main import single_fitting_cycle\n",
    "from main.seir.forecast import create_all_trials_csv, create_decile_csv_new\n",
    "from utils.generic.create_report import save_dict_and_create_report\n",
    "from utils.generic.config import read_config, make_date_key_str\n",
    "from utils.generic.enums import Columns\n",
    "from utils.fitting.loss import Loss_Calculator\n",
    "from utils.generic.logging import log_wandb, log_mlflow\n",
    "from viz import plot_forecast, plot_top_k_trials, plot_ptiles\n",
    "from viz.uncertainty import plot_beta_loss\n",
    "from data.dataloader import SimulatedDataLoader\n",
    "from joblib import delayed, Parallel\n",
    "\n",
    "import yaml\n",
    "import wandb"
   ]
  },
  {
   "cell_type": "markdown",
   "metadata": {},
   "source": [
    "## Configuration"
   ]
  },
  {
   "cell_type": "code",
   "execution_count": null,
   "metadata": {},
   "outputs": [],
   "source": [
    "simulated_config_filename = 'seirhd_fixed.yaml'\n",
    "config_filename = 'simulate_data.yaml'\n",
    "n_iters = 2  # Number of iterations of a single fitting cycle for each PL curve\n",
    "n_jobs = 1  # Parallelization parameter : How many parallel jobs to run\n",
    "# varying_perc = np.array([-0.1, -0.25, -0.5, -0.75, -0.9, 0.0, 0.1, 0.25, 0.5, 0.75, 0.9]) # Percentage Change from true value for each parameter\n",
    "varying_perc = np.array([-0.1, 0.0, 0.1]) # Percentage Change from true value for each parameter\n",
    "save_dir = '../../misc/predictions/sens_prof/'\n",
    "out_file = 'profile_likelihood'"
   ]
  },
  {
   "cell_type": "code",
   "execution_count": null,
   "metadata": {},
   "outputs": [],
   "source": [
    "# instead of taking all parameters and removing some, take input of what parameters to vary\n",
    "with open(os.path.join(\"../../configs/simulated_data/\", simulated_config_filename)) as configfile:\n",
    "    simulated_config = yaml.load(configfile, Loader=yaml.SafeLoader)    \n",
    "run_config = read_config(config_filename)\n",
    "\n",
    "fitting_config = copy.deepcopy(run_config['fitting'])\n",
    "params_to_include = fitting_config['variable_param_ranges'].keys()"
   ]
  },
  {
   "cell_type": "markdown",
   "metadata": {},
   "source": [
    "## Simulate Data and Save It (Set Generate to False)"
   ]
  },
  {
   "cell_type": "code",
   "execution_count": null,
   "metadata": {},
   "outputs": [],
   "source": [
    "dataloader_class = SimulatedDataLoader()\n",
    "data_dict = dataloader_class.pull_dataframes(**simulated_config)\n",
    "simulated_data_path = simulated_config['output_file_name']"
   ]
  },
  {
   "cell_type": "markdown",
   "metadata": {},
   "source": [
    "## Function to Return Parameter Value For Your Model"
   ]
  },
  {
   "cell_type": "code",
   "execution_count": null,
   "metadata": {},
   "outputs": [],
   "source": [
    "def get_hosp_ratio_at_time(param_name,simulated_data_file, split_config):\n",
    "    df = pd.read_csv(os.path.join('../../data/data/simulated_data/', simulated_data_file), index_col=0)\n",
    "    if split_config['end_date']:\n",
    "        end_date = split_config['end_date']\n",
    "        if isinstance(end_date, int):\n",
    "            if end_date > 0:\n",
    "                raise ValueError('Please enter a negative value for end_date if entering an integer')\n",
    "            else : \n",
    "                end_date_offset = end_date\n",
    "        if isinstance(end_date, datetime.date):\n",
    "            df['date'] = pd.to_datetime(df['date'])\n",
    "            end_date_offset = df.loc[df['date'].dt.date == split_config['end_date']].index[0] - len(df) + 1\n",
    "    else:\n",
    "        end_date_offset = 0\n",
    "    train_start_row = df.iloc[len(df) - (split_config['train_period'] + split_config['val_period'] + split_config['test_period']) + end_date_offset]\n",
    "    if param_name == 'E_hosp_ratio':\n",
    "        return train_start_row['E'] / train_start_row['active']\n",
    "    elif param_name == 'I_hosp_ratio':\n",
    "        return train_start_row['I'] / train_start_row['active']\n",
    "    else : \n",
    "        raise NotImplementedError('Parameter value retrieval for ',param_name,' not implemented')"
   ]
  },
  {
   "cell_type": "code",
   "execution_count": null,
   "metadata": {},
   "outputs": [],
   "source": [
    "def get_param_value(param, perc_change, config_params, simulated_config):\n",
    "    if 'hosp_ratio' in param:\n",
    "        actual_value = get_hosp_ratio_at_time(param,simulated_config['output_file_name'],fitting_config['split'])\n",
    "        test_value = actual_value*(1+perc_change)\n",
    "    else :\n",
    "        actual_value = simulated_config['params'][param]\n",
    "        test_value = actual_value*(1+perc_change)\n",
    "    return test_value"
   ]
  },
  {
   "cell_type": "markdown",
   "metadata": {},
   "source": [
    "## List all single fitting cycle runs"
   ]
  },
  {
   "cell_type": "code",
   "execution_count": null,
   "metadata": {},
   "outputs": [],
   "source": [
    "run_tuples = []\n",
    "for param in params_to_include:\n",
    "    for perc_change in varying_perc : \n",
    "        test_value = get_param_value(param,perc_change,fitting_config,simulated_config)\n",
    "        for i in range(n_iters):\n",
    "            run_tuples.append({'param':param, 'perc_change':perc_change, 'test_value':test_value, 'iter':i})"
   ]
  },
  {
   "cell_type": "markdown",
   "metadata": {},
   "source": [
    "## Function to Parallelize Fitting Cycle Runs"
   ]
  },
  {
   "cell_type": "code",
   "execution_count": null,
   "metadata": {},
   "outputs": [],
   "source": [
    "def run_bo(fitting_config,run_tuple):\n",
    "    print('Run Tuple : ', run_tuple)\n",
    "    conf = copy.deepcopy(fitting_config)\n",
    "    param = run_tuple['param']\n",
    "    if param in conf['variable_param_ranges']:\n",
    "        del conf['variable_param_ranges'][param] \n",
    "    conf['default_params'][param] = run_tuple['test_value']\n",
    "    predictions_dict = single_fitting_cycle(**conf)\n",
    "    output = {}\n",
    "    output['losses'] = predictions_dict['df_loss']\n",
    "    output['best_params'] = predictions_dict['trials']['params'][0]\n",
    "    output['run_tuple'] = run_tuple\n",
    "    return output"
   ]
  },
  {
   "cell_type": "code",
   "execution_count": null,
   "metadata": {},
   "outputs": [],
   "source": [
    "run_tuples[4]"
   ]
  },
  {
   "cell_type": "markdown",
   "metadata": {},
   "source": [
    "## Main Function"
   ]
  },
  {
   "cell_type": "code",
   "execution_count": null,
   "metadata": {
    "tags": [
     "outputPrepend"
    ]
   },
   "outputs": [],
   "source": [
    "losses = Parallel(n_jobs=n_jobs)(\n",
    "    delayed(run_bo)(fitting_config, run_tuples[i]) for i in range(len(run_tuples))\n",
    ")"
   ]
  },
  {
   "cell_type": "code",
   "execution_count": null,
   "metadata": {},
   "outputs": [],
   "source": [
    "# Saving Output into a pickle file\n",
    "\n",
    "output_dict = {}\n",
    "output_dict['data_config'] = simulated_config\n",
    "output_dict['model_config'] = run_config\n",
    "output_dict['params_to_include'] = params_to_include\n",
    "output_dict['losses'] = losses\n",
    "\n",
    "if not os.path.exists(save_dir):\n",
    "    os.makedirs(save_dir)\n",
    "with open(os.path.join(save_dir, out_file+\".pickle\"), 'wb') as handle:\n",
    "    pkl.dump(output_dict, handle)"
   ]
  },
  {
   "cell_type": "markdown",
   "metadata": {},
   "source": [
    "## Plotting"
   ]
  },
  {
   "cell_type": "code",
   "execution_count": null,
   "metadata": {},
   "outputs": [],
   "source": [
    "param_wise_dicts = {param : {} for param in params_to_include}\n",
    "for pred_dict in losses : \n",
    "    param = pred_dict['run_tuple']['param']\n",
    "    perc_change = pred_dict['run_tuple']['perc_change']\n",
    "    if perc_change not in param_wise_dicts[param]:\n",
    "        param_wise_dicts[param][perc_change] = []\n",
    "    param_wise_dicts[param][perc_change].append(np.mean(pred_dict['losses']['train'])) "
   ]
  },
  {
   "cell_type": "code",
   "execution_count": null,
   "metadata": {},
   "outputs": [],
   "source": [
    "param_losses_dict = {}\n",
    "for param, param_dict in param_wise_dicts.items():\n",
    "    pc_list, pc_mean_list, pc_std_list, pc_min_list = [], [], [], []\n",
    "    for perc_change, pc_dict in param_dict.items():\n",
    "        pc_arr = np.array(pc_dict)\n",
    "        pc_list.append(perc_change)\n",
    "        pc_mean_list.append(np.mean(pc_arr))\n",
    "        pc_std_list.append(np.std(pc_arr))\n",
    "        pc_min_list.append(np.min(pc_arr))\n",
    "    param_losses_dict[param] = {'pc' : pc_list, 'mean': pc_mean_list, 'std': pc_std_list, 'min': pc_min_list} # mean or min"
   ]
  },
  {
   "cell_type": "code",
   "execution_count": null,
   "metadata": {},
   "outputs": [],
   "source": [
    "param_losses_dict.keys()"
   ]
  },
  {
   "cell_type": "code",
   "execution_count": null,
   "metadata": {},
   "outputs": [],
   "source": [
    "n_subplots = len(params_to_include)\n",
    "ncols = 3\n",
    "nrows = math.ceil(n_subplots/ncols)\n",
    "fig, axs = plt.subplots(nrows=nrows, ncols=ncols, \n",
    "                        figsize=(20, 4.5*nrows))\n",
    "fig.subplots_adjust(hspace=0.3)\n",
    "ax_counter = 0\n",
    "for param, plot_dict in param_losses_dict.items():\n",
    "    ax = axs.flat[ax_counter]\n",
    "    ax.plot(plot_dict['pc'],plot_dict['min'], linewidth=3)\n",
    "    ax_counter += 1\n",
    "    ax.set_ylim(0,10)\n",
    "    # ax.axvline(x=0, color='gray', linestyle='--')\n",
    "    ax.set_xlabel('Percentage Change')\n",
    "    ax.set_ylabel(\"MAPE Loss (%)\")\n",
    "    ax.set_title(param)\n"
   ]
  },
  {
   "cell_type": "markdown",
   "metadata": {},
   "source": [
    "## MCMC"
   ]
  },
  {
   "cell_type": "code",
   "execution_count": null,
   "metadata": {},
   "outputs": [],
   "source": [
    "config_filename = 'mcmc_simulate.yaml'\n",
    "config = read_config(config_filename)"
   ]
  },
  {
   "cell_type": "code",
   "execution_count": null,
   "metadata": {},
   "outputs": [],
   "source": [
    "predictions_dict_mcmc = single_fitting_cycle(**copy.deepcopy(config['fitting']))"
   ]
  },
  {
   "cell_type": "code",
   "execution_count": null,
   "metadata": {},
   "outputs": [],
   "source": [
    "parameter_names = list(predictions_dict_mcmc['trials']['params'][0].keys())\n",
    "params_array = predictions_dict_mcmc['trials']['params']"
   ]
  },
  {
   "cell_type": "code",
   "execution_count": null,
   "metadata": {},
   "outputs": [],
   "source": [
    "params_dict = {param: [param_dict[param] for param_dict in params_array]\n",
    "                for param in parameter_names}"
   ]
  },
  {
   "cell_type": "code",
   "execution_count": null,
   "metadata": {},
   "outputs": [],
   "source": [
    "df = pd.DataFrame.from_dict(params_dict)\n",
    "import seaborn as sns\n",
    "CM = df.corr()\n",
    "fig = plt.figure(figsize = (16,14))\n",
    "heatmap = sns.heatmap(df.corr(), vmin=-1, vmax=1, annot=True,cmap = 'coolwarm')"
   ]
  },
  {
   "cell_type": "code",
   "execution_count": null,
   "metadata": {},
   "outputs": [],
   "source": [
    "import matplotlib.pyplot as plt\n",
    "from viz.fit import plot_histogram\n",
    "fig,axs = plt.subplots(2,4,figsize=(20,10))\n",
    "plot_histogram(params_dict,arr=parameter_names,true_val  = params_array[0],fig = fig,axs = axs)"
   ]
  },
  {
   "cell_type": "code",
   "execution_count": null,
   "metadata": {},
   "outputs": [],
   "source": []
  },
  {
   "cell_type": "code",
   "execution_count": null,
   "metadata": {},
   "outputs": [],
   "source": []
  },
  {
   "cell_type": "code",
   "execution_count": null,
   "metadata": {},
   "outputs": [],
   "source": []
  }
 ],
 "metadata": {
  "kernelspec": {
   "display_name": "Python (covid)",
   "language": "python",
   "name": "covid"
  },
  "language_info": {
   "codemirror_mode": {
    "name": "ipython",
    "version": 3
   },
   "file_extension": ".py",
   "mimetype": "text/x-python",
   "name": "python",
   "nbconvert_exporter": "python",
   "pygments_lexer": "ipython3"
  }
 },
 "nbformat": 4,
 "nbformat_minor": 4
}
