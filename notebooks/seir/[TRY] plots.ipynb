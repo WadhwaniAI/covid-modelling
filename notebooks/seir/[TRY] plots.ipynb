{
 "cells": [
  {
   "cell_type": "code",
   "execution_count": null,
   "metadata": {},
   "outputs": [],
   "source": [
    "%load_ext autoreload\n",
    "%autoreload 2"
   ]
  },
  {
   "cell_type": "code",
   "execution_count": null,
   "metadata": {},
   "outputs": [],
   "source": [
    "import pandas as pd\n",
    "import numpy as np\n",
    "import matplotlib.pyplot as plt\n",
    "from matplotlib.lines import Line2D\n",
    "import copy\n",
    "import os\n",
    "import yaml\n",
    "from datetime import timedelta\n",
    "\n",
    "import sys\n",
    "sys.path.append('../../')\n",
    "\n",
    "from data.processing.processing import get_data_from_tracker\n",
    "\n",
    "from utils.generic.config import read_config\n",
    "from utils.fitting.smooth_jump import smooth_big_jump\n",
    "\n",
    "from viz.data import plot_data\n",
    "from utils.generic.enums.columns import *\n",
    "from viz.utils import setup_plt, axis_formatter"
   ]
  },
  {
   "cell_type": "code",
   "execution_count": null,
   "metadata": {},
   "outputs": [],
   "source": [
    "config_filename = 'default.yaml'\n",
    "config = read_config(config_filename)"
   ]
  },
  {
   "cell_type": "code",
   "execution_count": null,
   "metadata": {},
   "outputs": [],
   "source": [
    "df = get_data_from_tracker(state='Maharashtra', district='Mumbai', use_dataframe='data_all')['data_frame']\n",
    "df = df[df['date'] <= '2020-07-31']"
   ]
  },
  {
   "cell_type": "code",
   "execution_count": null,
   "metadata": {},
   "outputs": [],
   "source": [
    "# Perform smoothing\n",
    "print('smoothing params', config['fitting']['data']['smooth_jump_params'])\n",
    "df_smooth, _ = smooth_big_jump(df, config['fitting']['data']['smooth_jump_params'])"
   ]
  },
  {
   "cell_type": "code",
   "execution_count": null,
   "metadata": {},
   "outputs": [],
   "source": [
    "fig = plot_data(df)"
   ]
  },
  {
   "cell_type": "code",
   "execution_count": null,
   "metadata": {},
   "outputs": [],
   "source": [
    "import matplotlib as mpl\n",
    "## for Palatino and other serif fonts use:\n",
    "plt.rcParams.update({\n",
    "    'text.usetex': True,\n",
    "    'font.size': 20,\n",
    "    'font.family': 'Palatino',\n",
    " })"
   ]
  },
  {
   "cell_type": "code",
   "execution_count": null,
   "metadata": {},
   "outputs": [],
   "source": [
    "fig, ax = plt.subplots(figsize=(12, 12))\n",
    "for comp in ['active', 'total', 'recovered', 'deceased']:\n",
    "    compartment = Columns.from_name(comp)\n",
    "    ax.plot(df[compartments['date'][0].name].to_numpy(), df[compartment.name].to_numpy(),\n",
    "            '-o', color=compartment.color, label='Simulated Data, Unspiked ({})'.format(compartment.label))\n",
    "    ax.plot(df_smooth[compartments['date'][0].name].to_numpy(), df_smooth[compartment.name].to_numpy(),\n",
    "            '-', color=compartment.color, label='Smoothed Data ({})'.format(compartment.label))\n",
    "legend_elements = [\n",
    "    Line2D([0], [0], ls='-', marker='o', ms=5, color='black', label='Original Data'),\n",
    "    Line2D([0], [0], ls='-', color='black', label='Smoothed Data')\n",
    "]\n",
    "first_legend = ax.legend(handles=legend_elements, loc='upper left')\n",
    "ax.add_artist(first_legend)\n",
    "legend_elements = [\n",
    "    Line2D([0], [0], ls='-', color='C0', label=f'Confirmed Cases'),\n",
    "    Line2D([0], [0], ls='-', color='orange', label=f'Active Cases'),\n",
    "    Line2D([0], [0], ls='-', color='green', label=f'Recovered'),\n",
    "    Line2D([0], [0], ls='-', color='red', label=f'Deceased'),\n",
    "]\n",
    "ax.legend(handles=legend_elements, loc=[0.01, 0.7])\n",
    "axis_formatter(ax)\n",
    "ax.set_title('Smoothing Algorithm Illustration for Mumbai, India')\n",
    "plt.tight_layout()\n",
    "fig.savefig(f'../../../paper/plots/smoothing-mumbai.pdf', format='pdf', bbox_inches='tight', pad_inches=0)"
   ]
  },
  {
   "cell_type": "code",
   "execution_count": null,
   "metadata": {},
   "outputs": [],
   "source": []
  },
  {
   "cell_type": "code",
   "execution_count": null,
   "metadata": {},
   "outputs": [],
   "source": []
  },
  {
   "cell_type": "code",
   "execution_count": null,
   "metadata": {},
   "outputs": [],
   "source": []
  }
 ],
 "metadata": {
  "kernelspec": {
   "display_name": "Python 3",
   "language": "python",
   "name": "python3"
  },
  "language_info": {
   "codemirror_mode": {
    "name": "ipython",
    "version": 3
   },
   "file_extension": ".py",
   "mimetype": "text/x-python",
   "name": "python",
   "nbconvert_exporter": "python",
   "pygments_lexer": "ipython3"
  }
 },
 "nbformat": 4,
 "nbformat_minor": 4
}
