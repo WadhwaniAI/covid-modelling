{
 "cells": [
  {
   "cell_type": "code",
   "execution_count": null,
   "metadata": {},
   "outputs": [],
   "source": [
    "%load_ext autoreload\n",
    "%autoreload 2\n",
    "%matplotlib inline"
   ]
  },
  {
   "cell_type": "code",
   "execution_count": null,
   "metadata": {},
   "outputs": [],
   "source": [
    "import numpy as np\n",
    "import pandas as pd\n",
    "import seaborn as sns\n",
    "import matplotlib.pyplot as plt\n",
    "from scipy.stats import entropy\n",
    "import datetime\n",
    "import copy\n",
    "import time\n",
    "import wandb\n",
    "import pickle as pkl\n",
    "import sys\n",
    "sys.path.append('../../')\n",
    "from data.processing import get_data\n",
    "import models\n",
    "from main.seir.fitting import single_fitting_cycle\n",
    "from main.seir.forecast import get_forecast, forecast_all_trials, create_all_trials_csv, create_decile_csv_new\n",
    "from main.seir.sensitivity import calculate_sensitivity_and_plot\n",
    "from utils.generic.create_report import save_dict_and_create_report\n",
    "from utils.generic.config import read_config\n",
    "from utils.generic.enums import Columns\n",
    "from utils.fitting.loss import Loss_Calculator\n",
    "from utils.generic.logging import log_wandb\n",
    "from viz import plot_forecast, plot_top_k_trials, plot_ptiles\n",
    "from viz.fit import plot_histogram, plot_all_histograms, plot_mean_variance, plot_scatter, plot_kl_divergence, plot_heatmap_distribution_sigmas, plot_all_params, plot_all_losses, plot_all_buckets, plot_cv_in_params, plot_recovery_loss, plot_confidence_interval\n",
    "import yaml\n",
    "from data.dataloader import SimulatedDataLoader"
   ]
  },
  {
   "cell_type": "code",
   "execution_count": null,
   "metadata": {},
   "outputs": [],
   "source": [
    "simulated_config_filename = 'seirhd_fixed.yaml'\n",
    "with open(os.path.join(\"../../configs/simulated_data/\", simulated_config_filename)) as configfile:\n",
    "    simulated_config = yaml.load(configfile, Loader=yaml.SafeLoader)    \n",
    "actual_params = simulated_config['params']"
   ]
  },
  {
   "cell_type": "code",
   "execution_count": null,
   "metadata": {},
   "outputs": [],
   "source": [
    "predictions_dict = {}"
   ]
  },
  {
   "cell_type": "code",
   "execution_count": null,
   "metadata": {},
   "outputs": [],
   "source": [
    "config_filename = 'default.yaml'\n",
    "config = read_config(config_filename)"
   ]
  },
  {
   "cell_type": "code",
   "execution_count": null,
   "metadata": {},
   "outputs": [],
   "source": [
    "# varying_perc = np.array([-0.1,-0.25,-0.4,-0.5,-0.6,-0.75,-0.9])\n",
    "varying_perc = np.array([-0.5])\n",
    "varying_perc = np.concatenate([np.flipud(varying_perc),[0],-1*varying_perc])\n",
    "varying_perc   "
   ]
  },
  {
   "cell_type": "code",
   "execution_count": null,
   "metadata": {
    "tags": [
     "outputPrepend"
    ]
   },
   "outputs": [],
   "source": [
    "n_iters = 2\n",
    "required_params = actual_params.copy()\n",
    "del required_params['N']\n",
    "losses = {}\n",
    "\n",
    "for param,val in required_params.items():\n",
    "    losses[param] = {}\n",
    "    print(param)\n",
    "    for perc_change in varying_perc : \n",
    "        losses[param][perc_change] = []\n",
    "        test_value = val + val*perc_change\n",
    "        for i in range(n_iters):\n",
    "            config_params = copy.deepcopy(config['fitting'])\n",
    "            if param in config_params['variable_param_ranges']:\n",
    "                del config_params['variable_param_ranges'][param] \n",
    "            config_params['default_params'][param] = test_value\n",
    "            config_params['fitting_method_params']['num_evals'] = 250\n",
    "            predictions_dict = single_fitting_cycle(**config_params)\n",
    "            losses[param][perc_change].append(predictions_dict['df_loss'])\n",
    "    break"
   ]
  },
  {
   "cell_type": "code",
   "execution_count": null,
   "metadata": {},
   "outputs": [],
   "source": [
    "agg_losses = {}\n",
    "for param in losses:\n",
    "    agg_losses[param] = {}\n",
    "    for perc_change in losses[param]:\n",
    "        agg_losses[param][perc_change] = 0\n",
    "        for i in range(len(losses[param][perc_change])):\n",
    "            df = losses[param][perc_change][i]\n",
    "            agg_losses[param][perc_change] += df['train'].mean()\n",
    "        agg_losses[param][perc_change] / len(losses[param][perc_change])\n",
    "print(agg_losses)"
   ]
  },
  {
   "cell_type": "code",
   "execution_count": null,
   "metadata": {},
   "outputs": [],
   "source": [
    "for param in agg_losses:\n",
    "    plt.plot(agg_losses[param].keys(),agg_losses[param].values())"
   ]
  }
 ],
 "metadata": {
  "kernelspec": {
   "display_name": "Python 3",
   "name": "python3"
  },
  "language_info": {
   "codemirror_mode": {
    "name": "ipython",
    "version": 3
   },
   "file_extension": ".py",
   "mimetype": "text/x-python",
   "name": "python",
   "nbconvert_exporter": "python",
   "pygments_lexer": "ipython3"
  }
 },
 "nbformat": 4,
 "nbformat_minor": 2
}
