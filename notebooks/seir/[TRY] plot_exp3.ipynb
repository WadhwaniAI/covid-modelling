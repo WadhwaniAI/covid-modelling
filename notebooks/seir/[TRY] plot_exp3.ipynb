{
 "cells": [
  {
   "cell_type": "code",
   "execution_count": 1,
   "metadata": {},
   "outputs": [],
   "source": [
    "%load_ext autoreload\n",
    "%autoreload 2\n",
    "%matplotlib inline"
   ]
  },
  {
   "cell_type": "code",
   "execution_count": 2,
   "metadata": {},
   "outputs": [],
   "source": [
    "import numpy as np\n",
    "import pandas as pd\n",
    "import seaborn as sns\n",
    "import matplotlib.pyplot as plt\n",
    "from scipy.stats import entropy\n",
    "import datetime\n",
    "import copy\n",
    "import time\n",
    "import wandb\n",
    "import pickle as pkl\n",
    "import sys\n",
    "import math\n",
    "sys.path.append('../../')\n",
    "from data.processing import get_data\n",
    "import models\n",
    "from main.seir.fitting import single_fitting_cycle\n",
    "from main.seir.forecast import get_forecast, forecast_all_trials, create_all_trials_csv, create_decile_csv_new\n",
    "from main.seir.sensitivity import calculate_sensitivity_and_plot\n",
    "from utils.generic.create_report import save_dict_and_create_report\n",
    "from utils.generic.config import read_config\n",
    "from utils.generic.enums import Columns\n",
    "from utils.fitting.loss import Loss_Calculator\n",
    "from utils.generic.logging import log_wandb\n",
    "from viz import plot_forecast, plot_top_k_trials, plot_ptiles\n",
    "from viz.fit import plot_histogram, plot_all_histograms, plot_mean_variance, plot_scatter, plot_kl_divergence, plot_heatmap_distribution_sigmas, plot_all_params, plot_all_losses, plot_all_buckets, plot_cv_in_params, plot_recovery_loss, plot_confidence_interval\n",
    "import yaml\n",
    "from data.dataloader import SimulatedDataLoader"
   ]
  },
  {
   "cell_type": "code",
   "execution_count": 3,
   "metadata": {},
   "outputs": [],
   "source": [
    "def update_hosp_ratios(param_set, data_config, model_config):\n",
    "    df = pd.read_csv(os.path.join('../../data/data/simulated_data/', data_config['output_file_name']), index_col=0)\n",
    "    if model_config['end_date']:\n",
    "        if isinstance(end_date, int):\n",
    "            if end_date > 0:\n",
    "                raise ValueError('Please enter a negative value for end_date if entering an integer')\n",
    "        if isinstance(end_date, datetime.date):\n",
    "            end_date = df.loc[df['date'].dt.date == end_date].index[0] - len(df) + 1\n",
    "    else:\n",
    "        end_date = 0\n",
    "    train_start_row = df.iloc[len(df) - (model_config['train_period'] + model_config['val_period'] + model_config['test_period']) + end_date]\n",
    "    if data_config['model'] == 'SEIRHD':\n",
    "        param_set['E_hosp_ratio'] = train_start_row['E'] / train_start_row['active']\n",
    "        param_set['I_hosp_ratio'] = train_start_row['I'] / train_start_row['active']\n",
    "    elif data_config['model'] == 'SEIR_PU':\n",
    "        param_set['E_hosp_ratio'] = train_start_row['E'] / train_start_row['active']\n",
    "        param_set['I_hosp_ratio'] = train_start_row['I'] / train_start_row['active']\n",
    "        param_set['Pu_pop_ratio'] = train_start_row['Pu'] / train_start_row['']\n",
    "    return param_set"
   ]
  },
  {
   "cell_type": "code",
   "execution_count": 4,
   "metadata": {},
   "outputs": [],
   "source": [
    "model_config_filename = 'default.yaml'\n",
    "simulated_config_filename = 'seirhd_fixed.yaml'\n",
    "with open(os.path.join(\"../../configs/seir/\", model_config_filename)) as configfile:\n",
    "    model_config = yaml.load(configfile, Loader=yaml.SafeLoader)    \n",
    "with open(os.path.join(\"../../configs/simulated_data/\", simulated_config_filename)) as configfile:\n",
    "    simulated_config = yaml.load(configfile, Loader=yaml.SafeLoader)    \n",
    "actual_params = simulated_config['params']\n",
    "actual_params = update_hosp_ratios(actual_params, simulated_config, model_config['fitting']['split'])"
   ]
  },
  {
   "source": [
    "# Create short pickle file"
   ],
   "cell_type": "markdown",
   "metadata": {}
  },
  {
   "cell_type": "code",
   "execution_count": 14,
   "metadata": {},
   "outputs": [],
   "source": [
    "save_dir = '../../misc/predictions/exp3' \n",
    "file_name = 'exp3_trial1.pickle'\n",
    "with open(os.path.join(save_dir, file_name), 'rb') as handle:\n",
    "    input_dict = pkl.load(handle)"
   ]
  },
  {
   "cell_type": "code",
   "execution_count": 25,
   "metadata": {},
   "outputs": [],
   "source": [
    "output = []\n",
    "for pd in input_dict['predictions_dicts']:\n",
    "    pd_output = {}\n",
    "    pd_output['prediction_dict'] = {}\n",
    "    pd_output['prediction_dict']['best_params'] = pd['prediction_dict']['best_params']\n",
    "    pd_output['prediction_dict']['df_loss'] = pd['prediction_dict']['df_loss']\n",
    "    pd_output['run_tuple'] = pd['run_tuple']\n",
    "    # pd['trials'] = pd['prediction_dict']['trials']\n",
    "    # del pd['prediction_dict']\n",
    "    output.append(pd_output)"
   ]
  },
  {
   "cell_type": "code",
   "execution_count": 26,
   "metadata": {},
   "outputs": [],
   "source": [
    "output_dict = {}\n",
    "output_dict['predictions_dicts'] = output\n",
    "output_dict['model_config'] = input_dict['model_config']\n",
    "output_dict['val_periods'] = input_dict['val_periods']\n",
    "output_dict['train_periods'] = input_dict['train_periods']\n",
    "output_dict['end_dates'] = input_dict['end_dates']\n",
    "with open(os.path.join(save_dir, \"exp3_trial1_short.pickle\"), 'wb') as handle:\n",
    "    pkl.dump(output_dict, handle)"
   ]
  },
  {
   "cell_type": "code",
   "execution_count": null,
   "metadata": {},
   "outputs": [],
   "source": [
    "run_dict = copy.deepcopy(output_dict['predictions_dicts'])\n",
    "for runs in run_dict:\n",
    "    "
   ]
  }
 ],
 "metadata": {
  "kernelspec": {
   "display_name": "Python 3",
   "name": "python3",
   "language": "python"
  },
  "language_info": {
   "codemirror_mode": {
    "name": "ipython",
    "version": 3
   },
   "file_extension": ".py",
   "mimetype": "text/x-python",
   "name": "python",
   "nbconvert_exporter": "python",
   "pygments_lexer": "ipython3",
   "version": "3.8.5-final"
  }
 },
 "nbformat": 4,
 "nbformat_minor": 2
}