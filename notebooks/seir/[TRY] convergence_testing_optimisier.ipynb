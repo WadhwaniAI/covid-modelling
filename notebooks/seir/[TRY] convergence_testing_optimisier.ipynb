{
 "cells": [
  {
   "cell_type": "code",
   "execution_count": 43,
   "metadata": {},
   "outputs": [],
   "source": [
    "import sys\n",
    "sys.path.append(\"/Users/mihirkulkarni/Desktop/COVID/covid-modelling\")\n",
    "from collections import OrderedDict"
   ]
  },
  {
   "cell_type": "code",
   "execution_count": 44,
   "metadata": {},
   "outputs": [],
   "source": [
    "from models.seir.seir_testing import SEIR_Testing"
   ]
  },
  {
   "cell_type": "code",
   "execution_count": 59,
   "metadata": {},
   "outputs": [],
   "source": [
    "#Mumbai\n",
    "\n",
    "init_infected= 945\n",
    "E = 1537\n",
    "R_mild = 928\n",
    "R_severe_home = 500\n",
    "R_severe_hosp = 1047\n",
    "R_fatal = 24\n",
    "C = 1136\n",
    "D = 6\n",
    "N = 1e7\n",
    "\n",
    "total_infected=2213\n",
    "pred_total_cases = R_severe_home + R_severe_hosp + C + R_fatal+D\n"
   ]
  },
  {
   "cell_type": "code",
   "execution_count": 60,
   "metadata": {},
   "outputs": [],
   "source": [
    "mul_factor = total_infected/pred_total_cases"
   ]
  },
  {
   "cell_type": "code",
   "execution_count": 61,
   "metadata": {},
   "outputs": [],
   "source": [
    "state_init_values = OrderedDict()\n",
    "state_init_values['S'] = (N - (init_infected + E + R_mild + R_severe_home + \\\n",
    "                               R_severe_hosp + R_fatal + C+ D ))/N\n",
    "state_init_values['E'] = E/N\n",
    "state_init_values['I'] = init_infected/N\n",
    "state_init_values['D_E'] = 0\n",
    "state_init_values['D_I'] = 0\n",
    "state_init_values['R_mild'] = R_mild/N\n",
    "state_init_values['R_severe_home'] = R_severe_home/N\n",
    "state_init_values['R_severe_hosp'] = R_severe_hosp/N\n",
    "state_init_values['R_fatal'] = R_fatal/N\n",
    "state_init_values['C'] = C/N\n",
    "state_init_values['D'] = D/N\n",
    "\n",
    "for key in state_init_values.keys():\n",
    "    if (key!='S'):\n",
    "        state_init_values[key] *= mul_factor "
   ]
  },
  {
   "cell_type": "code",
   "execution_count": 62,
   "metadata": {},
   "outputs": [
    {
     "data": {
      "text/plain": [
       "  message: 'The solver successfully reached the end of the integration interval.'\n",
       "     nfev: 4107\n",
       "     njev: 205\n",
       "      nlu: 898\n",
       "      sol: None\n",
       "   status: 0\n",
       "  success: True\n",
       "        t: array([   0,    1,    2, ..., 1998, 1999, 2000])\n",
       " t_events: None\n",
       "        y: array([[ 9.99999857e-01,  9.99999765e-01,  9.99999688e-01, ...,\n",
       "         1.32921404e-03,  1.32921394e-03,  1.32921383e-03],\n",
       "       [ 0.00000000e+00,  8.26501493e-08,  1.37167343e-07, ...,\n",
       "         2.37245604e-10,  2.81100053e-10,  3.33522584e-10],\n",
       "       [ 1.42857143e-07,  1.10561556e-07,  9.79185855e-08, ...,\n",
       "        -9.01495266e-08, -1.21940731e-07, -1.59893613e-07],\n",
       "       ...,\n",
       "       [ 0.00000000e+00,  8.24298680e-10,  1.48470485e-09, ...,\n",
       "         9.04041541e-09,  9.38865934e-09,  9.84814132e-09],\n",
       "       [ 0.00000000e+00,  1.65708663e-09,  5.73290039e-09, ...,\n",
       "         9.78724007e-01,  9.78724021e-01,  9.78724037e-01],\n",
       "       [ 0.00000000e+00,  1.49443365e-11,  5.24422660e-11, ...,\n",
       "         1.99739444e-02,  1.99739447e-02,  1.99739450e-02]])"
      ]
     },
     "execution_count": 62,
     "metadata": {},
     "output_type": "execute_result"
    }
   ],
   "source": [
    "test_obj = SEIR_Testing()\n",
    "test_obj.solve_ode(total_no_of_days=2000)"
   ]
  },
  {
   "cell_type": "code",
   "execution_count": null,
   "metadata": {},
   "outputs": [],
   "source": []
  }
 ],
 "metadata": {
  "kernelspec": {
   "display_name": "Python 3",
   "language": "python",
   "name": "python3"
  },
  "language_info": {
   "codemirror_mode": {
    "name": "ipython",
    "version": 3
   },
   "file_extension": ".py",
   "mimetype": "text/x-python",
   "name": "python",
   "nbconvert_exporter": "python",
   "pygments_lexer": "ipython3",
   "version": "3.7.4"
  }
 },
 "nbformat": 4,
 "nbformat_minor": 2
}
