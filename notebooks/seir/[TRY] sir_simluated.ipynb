{
 "cells": [
  {
   "cell_type": "code",
   "execution_count": null,
   "metadata": {},
   "outputs": [],
   "source": [
    "import sys\n",
    "import numpy as np\n",
    "from copy import deepcopy\n",
    "import pandas as pd\n",
    "import matplotlib.pyplot as plt\n",
    "import seaborn as sns\n",
    "\n",
    "sys.path.append('../../')\n",
    "\n",
    "from data.processing import get_data_from_source\n",
    "from data.processing.processing import get_observed_dataframes\n",
    "from models.seir import SIR\n",
    "from main.seir.optimiser import Optimiser\n",
    "from main.seir.fitting import data_setup, get_variable_param_ranges\n",
    "from utils.loss import Loss_Calculator"
   ]
  },
  {
   "cell_type": "code",
   "execution_count": null,
   "metadata": {},
   "outputs": [],
   "source": [
    "val_period=30\n",
    "train_period=30\n",
    "which_compartments=['total_infected']\n",
    "model = SIR\n",
    "num_evals = 1000\n",
    "N = 13000000\n",
    "initialisation = 'intermediate'\n",
    "test_period = 0"
   ]
  },
  {
   "cell_type": "code",
   "execution_count": null,
   "metadata": {},
   "outputs": [],
   "source": [
    "data = pd.read_csv('SIR_simulated.csv', header=0)\n",
    "data['date'] = pd.to_datetime(data['date'])"
   ]
  },
  {
   "cell_type": "code",
   "execution_count": null,
   "metadata": {},
   "outputs": [],
   "source": [
    "df_train = data # Or some other split"
   ]
  },
  {
   "cell_type": "code",
   "execution_count": null,
   "metadata": {},
   "outputs": [],
   "source": [
    "# Initialise Optimiser\n",
    "optimiser = Optimiser()\n",
    "# Get the fixed params\n",
    "if initialisation == 'starting':\n",
    "    observed_values = df_district.iloc[0, :]\n",
    "    start_date = df_district.iloc[0, :]['date']\n",
    "    std_default_params = optimiser.init_default_params(df_train, N=N, observed_values=observed_values,\n",
    "                                                       start_date=start_date, initialisation=initialisation)\n",
    "elif initialisation == 'intermediate':\n",
    "    std_default_params = optimiser.init_default_params(df_train, N=N, initialisation=initialisation,\n",
    "                                                       train_period=train_period)"
   ]
  },
  {
   "cell_type": "code",
   "execution_count": null,
   "metadata": {},
   "outputs": [],
   "source": [
    "if test_period == 0:\n",
    "    loss_indices = [-train_period, None]\n",
    "else:\n",
    "    loss_indices = [-(train_period+test_period), -test_period]"
   ]
  },
  {
   "cell_type": "code",
   "execution_count": null,
   "metadata": {},
   "outputs": [],
   "source": [
    "variable_param_ranges = {\n",
    "    'lockdown_R0' : (0.3,2.3),\n",
    "    'T_inf' : (2,10),\n",
    "    'I_tot_ratio': (0,0.5)\n",
    "}\n",
    "default_params = None\n",
    "variable_param_ranges = get_variable_param_ranges(variable_param_ranges)\n",
    "\n",
    "if default_params is not None:\n",
    "    default_params = {**std_default_params, **default_params}\n",
    "else:\n",
    "    default_params = std_default_params\n",
    "default_params"
   ]
  },
  {
   "cell_type": "code",
   "execution_count": null,
   "metadata": {},
   "outputs": [],
   "source": [
    "total_days = (df_train.iloc[-1, :]['date'] - default_params['starting_date']).days"
   ]
  },
  {
   "cell_type": "code",
   "execution_count": null,
   "metadata": {},
   "outputs": [],
   "source": [
    "df_train"
   ]
  },
  {
   "cell_type": "code",
   "execution_count": null,
   "metadata": {},
   "outputs": [],
   "source": [
    "default_params"
   ]
  },
  {
   "cell_type": "code",
   "execution_count": null,
   "metadata": {},
   "outputs": [],
   "source": [
    "best_params_all, trials_all = dict(), dict()\n",
    "lc = Loss_Calculator()\n",
    "for i in range(20):\n",
    "    best_params, trials = optimiser.bayes_opt(df_train, default_params, variable_param_ranges, model=model, \n",
    "                                              num_evals=num_evals, loss_indices=loss_indices, method='mape',\n",
    "                                              total_days=total_days, which_compartments=which_compartments)\n",
    "    df_prediction = optimiser.solve(best_params, default_params, df_train, end_date=df_train.iloc[-1, :]['date'],\n",
    "                                        model=model)\n",
    "    df_loss = lc.create_loss_dataframe_region(df_train, None, df_prediction, train_period, \n",
    "                                              which_compartments=which_compartments)\n",
    "    best_params['loss'] = df_loss.loc['total_infected', 'train']\n",
    "    best_params_all[i] = best_params"
   ]
  },
  {
   "cell_type": "code",
   "execution_count": null,
   "metadata": {},
   "outputs": [],
   "source": [
    "best_params_all"
   ]
  },
  {
   "cell_type": "code",
   "execution_count": null,
   "metadata": {},
   "outputs": [],
   "source": [
    "pd.DataFrame(best_params_all).to_csv('sir_simulated_params_loss.csv')"
   ]
  },
  {
   "cell_type": "code",
   "execution_count": null,
   "metadata": {},
   "outputs": [],
   "source": []
  }
 ],
 "metadata": {
  "kernelspec": {
   "display_name": "Python 3",
   "language": "python",
   "name": "python3"
  },
  "language_info": {
   "codemirror_mode": {
    "name": "ipython",
    "version": 3
   },
   "file_extension": ".py",
   "mimetype": "text/x-python",
   "name": "python",
   "nbconvert_exporter": "python",
   "pygments_lexer": "ipython3",
   "version": "3.8.3"
  }
 },
 "nbformat": 4,
 "nbformat_minor": 4
}
