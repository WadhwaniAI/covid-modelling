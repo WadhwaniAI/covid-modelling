{
 "cells": [
  {
   "cell_type": "code",
   "execution_count": null,
   "metadata": {},
   "outputs": [],
   "source": [
    "%load_ext autoreload\n",
    "%autoreload 2"
   ]
  },
  {
   "cell_type": "code",
   "execution_count": null,
   "metadata": {},
   "outputs": [],
   "source": [
    "import numpy as np\n",
    "import matplotlib.pyplot as plt\n",
    "import datetime\n",
    "import copy\n",
    "import time\n",
    "import os\n",
    "import sys\n",
    "sys.path.append('../../')\n",
    "\n",
    "from data.processing import get_data\n",
    "\n",
    "import models\n",
    "\n",
    "from main.seir.fitting import single_fitting_cycle\n",
    "from main.seir.forecast import get_forecast, forecast_all_trials, create_all_trials_csv, create_decile_csv_new\n",
    "from main.seir.sensitivity import calculate_sensitivity_and_plot\n",
    "from utils.generic.create_report import save_dict_and_create_report\n",
    "from utils.generic.config import read_config\n",
    "from utils.generic.enums import Columns\n",
    "from utils.fitting.loss import Loss_Calculator\n",
    "#from utils.generic.logging import log_wandb\n",
    "from viz import plot_forecast, plot_top_k_trials, plot_ptiles\n",
    "\n",
    "import yaml"
   ]
  },
  {
   "cell_type": "code",
   "execution_count": null,
   "metadata": {},
   "outputs": [],
   "source": [
    "from os.path import exists, join, splitext"
   ]
  },
  {
   "cell_type": "code",
   "execution_count": null,
   "metadata": {},
   "outputs": [],
   "source": [
    "config_filename = 'uncer.yaml'\n",
    "config1 = read_config(config_filename)\n",
    "config2 = read_config('default.yaml')"
   ]
  },
  {
   "cell_type": "code",
   "execution_count": null,
   "metadata": {
    "tags": []
   },
   "outputs": [],
   "source": [
    "runs = 1\n",
    "mcmc_P = []\n",
    "bo_P = []\n",
    "mcmc_perc_loss = []\n",
    "bo_perc_loss = []\n",
    "k = []\n",
    "PD = {}\n",
    "for n in range(runs):\n",
    "    PD[f'm{n}']= {}\n",
    "    percentile_dict1 = {}\n",
    "    percentile_dict2 = {}\n",
    "    percentile_dict1['m1'] = single_fitting_cycle(**copy.deepcopy(config1['fitting']))\n",
    "    percentile_dict2['m1'] = single_fitting_cycle(**copy.deepcopy(config2['fitting']))\n",
    "    percentile_dict1['m1']['forecasts'] = {}\n",
    "    percentile_dict1['m1']['forecasts']['best'] = get_forecast(percentile_dict1, train_fit='m1', \n",
    "                                                            model=config1['fitting']['model'], \n",
    "                                                            forecast_days=config1['forecast']['forecast_days'])\n",
    "\n",
    "    percentile_dict1['m1']['trials_processed'] = forecast_all_trials(percentile_dict1, train_fit='m1', \n",
    "                                                                    model=config1['fitting']['model'], \n",
    "                                                                    forecast_days=config1['forecast']['forecast_days'])\n",
    "    percentile_dict2['m1']['forecasts'] = {}\n",
    "    percentile_dict2['m1']['forecasts']['best'] = get_forecast(percentile_dict2, train_fit='m1', \n",
    "                                                            model=config2['fitting']['model'], \n",
    "                                                            forecast_days=config2['forecast']['forecast_days'])\n",
    "\n",
    "    percentile_dict2['m1']['trials_processed'] = forecast_all_trials(percentile_dict2, train_fit='m1', \n",
    "                                                                    model=config2['fitting']['model'], \n",
    "                                                                    forecast_days=config2['forecast']['forecast_days'])\n",
    "\n",
    "    uncertainty_args1 = {'predictions_dict': percentile_dict1, **config1['uncertainty']['uncertainty_params']}\n",
    "    uncertainty1 = config1['uncertainty']['method'](**uncertainty_args1)\n",
    "    uncertainty_args2 = {'predictions_dict': percentile_dict2, 'fitting_config': config2['fitting'],\n",
    "                    'forecast_config': config2['forecast'], **config2['uncertainty']['uncertainty_params']}\n",
    "    uncertainty2 = config2['uncertainty']['method'](**uncertainty_args2)\n",
    "    uncertainty_forecasts1 = uncertainty1.get_forecasts()\n",
    "    uncertainty_forecasts2 = uncertainty2.get_forecasts()\n",
    "    mcmc = []\n",
    "    bo = []\n",
    "    key = []\n",
    "    for i in uncertainty_forecasts1.keys():\n",
    "        key.append(i)\n",
    "        mcmc.append(uncertainty_forecasts1[i]['df_loss_perc'].mean()[0].item())\n",
    "        bo.append(uncertainty_forecasts2[i]['df_loss_perc'].mean()[0])\n",
    "    k = key\n",
    "    mcmc_perc_loss.append(mcmc)\n",
    "    bo_perc_loss.append(bo)\n",
    "    mcmc_P.append(uncertainty1.p_val)\n",
    "    bo_P.append(uncertainty2.p_val)\n",
    "    PD[f'm{n}']['MCMC'] = percentile_dict1\n",
    "    PD[f'm{n}']['BO'] = percentile_dict2\n",
    "    \n",
    "    "
   ]
  },
  {
   "cell_type": "code",
   "execution_count": null,
   "metadata": {},
   "outputs": [],
   "source": [
    "m = np.array(mcmc_perc_loss)\n",
    "b = np.array(bo_perc_loss)\n"
   ]
  },
  {
   "cell_type": "code",
   "execution_count": null,
   "metadata": {},
   "outputs": [],
   "source": [
    "m = np.mean(m,axis = 0)\n",
    "b = np.mean(b,axis = 0)"
   ]
  },
  {
   "cell_type": "code",
   "execution_count": null,
   "metadata": {},
   "outputs": [],
   "source": [
    "PD['perc_loss'] = {}\n",
    "PD['perc_loss']['mcmc'] = m\n",
    "PD['perc_loss']['bo'] = b"
   ]
  },
  {
   "cell_type": "code",
   "execution_count": null,
   "metadata": {},
   "outputs": [],
   "source": [
    "import pickle as pkl\n",
    "with open('../../misc/predictions/predictions_dict_perc_20.pickle', 'wb') as handle:\n",
    "    pkl.dump(PD, handle)\n"
   ]
  },
  {
   "cell_type": "code",
   "execution_count": null,
   "metadata": {},
   "outputs": [],
   "source": [
    "with open('../../misc/predictions/predictions_dict_perc_20.pickle', 'rb') as handle:\n",
    "    PD = pkl.load(handle)"
   ]
  },
  {
   "cell_type": "code",
   "execution_count": null,
   "metadata": {},
   "outputs": [],
   "source": [
    "plt.figure(figsize= (15,7))\n",
    "mc, = plt.plot(key,m,markersize=12,label='MCMC',color='b')\n",
    "bo, = plt.plot(key,b,markersize=12,label = 'BO',color='r')\n",
    "plt.legend(handles = [mc,bo])\n",
    "plt.xlabel('Percentiles')\n",
    "plt.ylabel('Percentile Loss in Total compartment')"
   ]
  },
  {
   "cell_type": "code",
   "execution_count": null,
   "metadata": {},
   "outputs": [],
   "source": [
    "m.mean()"
   ]
  },
  {
   "cell_type": "code",
   "execution_count": null,
   "metadata": {},
   "outputs": [],
   "source": [
    "b.mean()"
   ]
  },
  {
   "cell_type": "code",
   "execution_count": null,
   "metadata": {},
   "outputs": [],
   "source": [
    "import numpy as np\n",
    "np.linspace(1,99,40)"
   ]
  },
  {
   "cell_type": "code",
   "execution_count": null,
   "metadata": {},
   "outputs": [],
   "source": []
  }
 ],
 "metadata": {
  "kernelspec": {
   "display_name": "Python 3",
   "language": "python",
   "name": "python3"
  },
  "language_info": {
   "codemirror_mode": {
    "name": "ipython",
    "version": 3
   },
   "file_extension": ".py",
   "mimetype": "text/x-python",
   "name": "python",
   "nbconvert_exporter": "python",
   "pygments_lexer": "ipython3"
  }
 },
 "nbformat": 4,
 "nbformat_minor": 4
}
