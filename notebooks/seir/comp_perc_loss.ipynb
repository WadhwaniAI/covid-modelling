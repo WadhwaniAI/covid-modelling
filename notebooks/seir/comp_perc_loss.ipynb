{
 "cells": [
  {
   "cell_type": "code",
   "execution_count": null,
   "metadata": {},
   "outputs": [],
   "source": [
    "%load_ext autoreload\n",
    "%autoreload 2"
   ]
  },
  {
   "cell_type": "code",
   "execution_count": null,
   "metadata": {},
   "outputs": [],
   "source": [
    "import numpy as np\n",
    "import matplotlib.pyplot as plt\n",
    "import datetime\n",
    "import copy\n",
    "import time\n",
    "import os\n",
    "import sys\n",
    "sys.path.append('../../')\n",
    "\n",
    "from data.processing import get_data\n",
    "\n",
    "import models\n",
    "\n",
    "from main.seir.fitting import single_fitting_cycle\n",
    "from main.seir.forecast import get_forecast, forecast_all_trials, create_all_trials_csv, create_decile_csv_new\n",
    "from main.seir.sensitivity import calculate_sensitivity_and_plot\n",
    "from utils.generic.create_report import save_dict_and_create_report\n",
    "from utils.generic.config import read_config\n",
    "from utils.generic.enums import Columns\n",
    "from utils.fitting.loss import Loss_Calculator\n",
    "#from utils.generic.logging import log_wandb\n",
    "from viz import plot_forecast, plot_top_k_trials, plot_ptiles\n",
    "\n",
    "import yaml"
   ]
  },
  {
   "cell_type": "code",
   "execution_count": null,
   "metadata": {},
   "outputs": [],
   "source": [
    "from os.path import exists, join, splitext"
   ]
  },
  {
   "cell_type": "code",
   "execution_count": null,
   "metadata": {},
   "outputs": [],
   "source": [
    "config_filename = 'uncer.yaml'\n",
    "config1 = read_config(config_filename)\n",
    "config2 = read_config('default.yaml')"
   ]
  },
  {
   "cell_type": "code",
   "execution_count": null,
   "metadata": {},
   "outputs": [],
   "source": [
    "percentile_dict1 = {}\n",
    "percentile_dict2 = {}"
   ]
  },
  {
   "cell_type": "code",
   "execution_count": null,
   "metadata": {},
   "outputs": [],
   "source": [
    "percentile_dict1['m1'] = single_fitting_cycle(**copy.deepcopy(config1['fitting']))\n",
    "percentile_dict2['m1'] = single_fitting_cycle(**copy.deepcopy(config2['fitting']))"
   ]
  },
  {
   "cell_type": "code",
   "execution_count": null,
   "metadata": {},
   "outputs": [],
   "source": [
    "for i in percentile_dict1['m1'].keys():\n",
    "    print(i)"
   ]
  },
  {
   "cell_type": "code",
   "execution_count": null,
   "metadata": {},
   "outputs": [],
   "source": [
    "percentile_dict1['m1']['df_loss']\n",
    "from main.seir.forecast import _get_top_k_trials as topk\n",
    "_,loss = topk(percentile_dict1['m1'], k = 10)\n",
    "loss"
   ]
  },
  {
   "cell_type": "code",
   "execution_count": null,
   "metadata": {},
   "outputs": [],
   "source": [
    "percentile_dict1['m1']['df_loss']\n",
    "from main.seir.forecast import _get_top_k_trials as topk\n",
    "_,loss = topk(percentile_dict2['m1'], k = 10)\n",
    "loss"
   ]
  },
  {
   "cell_type": "code",
   "execution_count": null,
   "metadata": {},
   "outputs": [],
   "source": [
    "percentile_dict2['m1']['df_loss']"
   ]
  },
  {
   "cell_type": "code",
   "execution_count": null,
   "metadata": {
    "tags": []
   },
   "outputs": [],
   "source": [
    "percentile_dict1['m1']['forecasts'] = {}\n",
    "percentile_dict1['m1']['forecasts']['best'] = get_forecast(percentile_dict1, train_fit='m1', \n",
    "                                                           model=config1['fitting']['model'], \n",
    "                                                           days=config1['forecast']['forecast_days'])\n",
    "\n",
    "percentile_dict1['m1']['trials_processed'] = forecast_all_trials(percentile_dict1, train_fit='m1', \n",
    "                                                                 model=config1['fitting']['model'], \n",
    "                                                                 forecast_days=config1['forecast']['forecast_days'])"
   ]
  },
  {
   "cell_type": "code",
   "execution_count": null,
   "metadata": {},
   "outputs": [],
   "source": [
    "percentile_dict2['m1']['forecasts'] = {}\n",
    "percentile_dict2['m1']['forecasts']['best'] = get_forecast(percentile_dict2, train_fit='m1', \n",
    "                                                           model=config2['fitting']['model'], \n",
    "                                                           days=config2['forecast']['forecast_days'])\n",
    "\n",
    "percentile_dict2['m1']['trials_processed'] = forecast_all_trials(percentile_dict2, train_fit='m1', \n",
    "                                                                 model=config2['fitting']['model'], \n",
    "                                                                 forecast_days=config2['forecast']['forecast_days'])"
   ]
  },
  {
   "cell_type": "code",
   "execution_count": null,
   "metadata": {},
   "outputs": [],
   "source": [
    "uncertainty_args1 = {'predictions_dict': percentile_dict1, **config1['uncertainty']['uncertainty_params']}\n",
    "uncertainty1 = config1['uncertainty']['method'](**uncertainty_args1)"
   ]
  },
  {
   "cell_type": "code",
   "execution_count": null,
   "metadata": {},
   "outputs": [],
   "source": [
    "uncertainty_args2 = {'predictions_dict': percentile_dict2, **config2['uncertainty']['uncertainty_params']}\n",
    "uncertainty2 = config2['uncertainty']['method'](**uncertainty_args2)"
   ]
  },
  {
   "cell_type": "code",
   "execution_count": null,
   "metadata": {},
   "outputs": [],
   "source": [
    "print(\"MCMC-\",uncertainty1.p_val)\n",
    "print(\"BO-\",uncertainty2.p_val)"
   ]
  },
  {
   "cell_type": "code",
   "execution_count": null,
   "metadata": {},
   "outputs": [],
   "source": [
    "uncertainty_forecasts1 = uncertainty1.get_forecasts()\n",
    "uncertainty_forecasts2 = uncertainty2.get_forecasts()"
   ]
  },
  {
   "cell_type": "code",
   "execution_count": null,
   "metadata": {},
   "outputs": [],
   "source": [
    "mcmc = []\n",
    "bo = []\n",
    "key = []\n",
    "for i in uncertainty_forecasts1.keys():\n",
    "    key.append(i)\n",
    "    mcmc.append(uncertainty_forecasts1[i]['df_loss_perc'].mean())\n",
    "    bo.append(uncertainty_forecasts2[i]['df_loss_perc'].mean())"
   ]
  },
  {
   "cell_type": "code",
   "execution_count": null,
   "metadata": {},
   "outputs": [],
   "source": [
    "np.greater(mcmc,bo).sum()/len(mcmc)"
   ]
  },
  {
   "cell_type": "code",
   "execution_count": null,
   "metadata": {},
   "outputs": [],
   "source": [
    "data = {\"mcmc\":mcmc,\"bo\":bo}\n",
    "import pandas as pd\n",
    "import seaborn as sns\n",
    "import matplotlib.patches as mpatches"
   ]
  },
  {
   "cell_type": "code",
   "execution_count": null,
   "metadata": {},
   "outputs": [],
   "source": [
    "plt.figure(figsize= (15,7))\n",
    "mc, = plt.plot(key,mcmc,markersize=12,label='MCMC',color='b')\n",
    "plt.scatter(key,mcmc,color='b')\n",
    "b, = plt.plot(key,bo,markersize=12,label = 'BO',color='r')\n",
    "plt.scatter(key,bo,color='r')\n",
    "plt.legend(handles = [mc,b])\n",
    "plt.xlabel('Percentiles')\n",
    "plt.ylabel('Loss in Total compartment')"
   ]
  },
  {
   "cell_type": "code",
   "execution_count": null,
   "metadata": {},
   "outputs": [],
   "source": [
    "np.linspace(0,100,40)"
   ]
  },
  {
   "cell_type": "code",
   "execution_count": null,
   "metadata": {},
   "outputs": [],
   "source": []
  }
 ],
 "metadata": {
  "kernelspec": {
   "display_name": "Python 3",
   "language": "python",
   "name": "python3"
  },
  "language_info": {
   "codemirror_mode": {
    "name": "ipython",
    "version": 3
   },
   "file_extension": ".py",
   "mimetype": "text/x-python",
   "name": "python",
   "nbconvert_exporter": "python",
   "pygments_lexer": "ipython3"
  }
 },
 "nbformat": 4,
 "nbformat_minor": 2
}
