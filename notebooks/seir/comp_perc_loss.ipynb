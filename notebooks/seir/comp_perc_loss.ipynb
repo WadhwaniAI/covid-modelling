{
 "cells": [
  {
   "cell_type": "code",
   "execution_count": 1,
   "metadata": {},
   "outputs": [],
   "source": [
    "%load_ext autoreload\n",
    "%autoreload 2"
   ]
  },
  {
   "cell_type": "code",
   "execution_count": 2,
   "metadata": {},
   "outputs": [],
   "source": [
    "import numpy as np\n",
    "import matplotlib.pyplot as plt\n",
    "import datetime\n",
    "import copy\n",
    "import time\n",
    "import os\n",
    "import sys\n",
    "sys.path.append('../../')\n",
    "\n",
    "from data.processing import get_data\n",
    "\n",
    "import models\n",
    "\n",
    "from main.seir.fitting import single_fitting_cycle\n",
    "from main.seir.forecast import get_forecast, forecast_all_trials, create_all_trials_csv, create_decile_csv_new\n",
    "from main.seir.sensitivity import calculate_sensitivity_and_plot\n",
    "from utils.generic.create_report import save_dict_and_create_report\n",
    "from utils.generic.config import read_config\n",
    "from utils.generic.enums import Columns\n",
    "from utils.fitting.loss import Loss_Calculator\n",
    "#from utils.generic.logging import log_wandb\n",
    "from viz import plot_forecast, plot_top_k_trials, plot_ptiles\n",
    "\n",
    "import yaml"
   ]
  },
  {
   "cell_type": "code",
   "execution_count": 3,
   "metadata": {},
   "outputs": [],
   "source": [
    "from os.path import exists, join, splitext"
   ]
  },
  {
   "cell_type": "code",
   "execution_count": 4,
   "metadata": {},
   "outputs": [],
   "source": [
    "models = {'MCMC':'uncer.yaml','BO':'default.yaml'}"
   ]
  },
  {
   "cell_type": "code",
   "execution_count": 6,
   "metadata": {},
   "outputs": [
    {
     "output_type": "stream",
     "name": "stderr",
     "text": [
      "  1%|          | 12/1500 [00:00<00:12, 117.11it/s]Performing m1 fit ..\n",
      "loading from ../../misc/cache/dataframes_ts_27112020_tracker.pkl\n",
      "splitting data ..\n",
      "splitting data ..\n",
      "train\n",
      " +-------------+---------------------+---------------------+---------------------+---------------------+---------------------+\n",
      "|             | 172                 | 173                 | 174                 | 175                 | 176                 |\n",
      "|-------------+---------------------+---------------------+---------------------+---------------------+---------------------|\n",
      "| date        | 2020-10-15 00:00:00 | 2020-10-16 00:00:00 | 2020-10-17 00:00:00 | 2020-10-18 00:00:00 | 2020-10-19 00:00:00 |\n",
      "| state       | Maharashtra         | Maharashtra         | Maharashtra         | Maharashtra         | Maharashtra         |\n",
      "| district    | Mumbai              | Mumbai              | Mumbai              | Mumbai              | Mumbai              |\n",
      "| total       | 236513.43           | 238242.43           | 240335.0            | 241935.0            | 243169.0            |\n",
      "| active      | 23629.71            | 22850.71            | 23122.0             | 21368.0             | 20371.0             |\n",
      "| recovered   | 203270.29           | 205728.29           | 207474.0            | 210782.0            | 212979.0            |\n",
      "| deceased    | 9613.43             | 9663.43             | 9739.0              | 9785.0              | 9819.0              |\n",
      "| tested      | 1324088.86          | 1337593.71          | 1354182.0           | 1363205.0           | 1374754.0           |\n",
      "| other       | 453.0               | 456.0               | 458.0               | 461.0               | 465.0               |\n",
      "| daily_cases | 1784.14             | 1729.0              | 1791.0              | 1600.0              | 1234.0              |\n",
      "+-------------+---------------------+---------------------+---------------------+---------------------+---------------------+\n",
      "val\n",
      " +-------------+---------------------+---------------------+---------------------+---------------------+---------------------+\n",
      "|             | 179                 | 180                 | 181                 | 182                 | 183                 |\n",
      "|-------------+---------------------+---------------------+---------------------+---------------------+---------------------|\n",
      "| date        | 2020-10-22 00:00:00 | 2020-10-23 00:00:00 | 2020-10-24 00:00:00 | 2020-10-25 00:00:00 | 2020-10-26 00:00:00 |\n",
      "| state       | Maharashtra         | Maharashtra         | Maharashtra         | Maharashtra         | Maharashtra         |\n",
      "| district    | Mumbai              | Mumbai              | Mumbai              | Mumbai              | Mumbai              |\n",
      "| total       | 247332.0            | 248526.86           | 250059.0            | 251281.0            | 252085.0            |\n",
      "| active      | 17982.0             | 18922.43            | 18462.0             | 18799.0             | 18357.0             |\n",
      "| recovered   | 219389.0            | 219597.0            | 221538.0            | 222377.0            | 223586.0            |\n",
      "| deceased    | 9961.0              | 10007.43            | 10059.0             | 10105.0             | 10142.0             |\n",
      "| tested      | 1423160.0           | 1433228.71          | 1449262.0           | 1456838.0           | 1468481.0           |\n",
      "| other       | 477.0               | 481.71              | 485.0               | 492.0               | 497.0               |\n",
      "| daily_cases | 1463.0              | 1273.71             | 1257.0              | 1222.0              | 804.0               |\n",
      "+-------------+---------------------+---------------------+---------------------+---------------------+---------------------+\n",
      "100%|██████████| 1500/1500 [00:11<00:00, 129.72it/s]\n",
      "  1%|          | 12/1500 [00:00<00:13, 107.65it/s]The acceptance ratio is -------->  0.12\n",
      "The explored steps are -------->  72\n",
      "The optimized steps are -------->  108\n",
      "100%|██████████| 1500/1500 [00:10<00:00, 138.67it/s]\n",
      "  1%|          | 12/1500 [00:00<00:12, 119.95it/s]The acceptance ratio is -------->  0.12333333333333334\n",
      "The explored steps are -------->  92\n",
      "The optimized steps are -------->  93\n",
      "100%|██████████| 1500/1500 [00:10<00:00, 137.59it/s]\n",
      "  1%|          | 11/1500 [00:00<00:13, 109.29it/s]The acceptance ratio is -------->  0.12066666666666667\n",
      "The explored steps are -------->  74\n",
      "The optimized steps are -------->  107\n",
      "100%|██████████| 1500/1500 [00:11<00:00, 136.09it/s]\n",
      "  1%|          | 11/1500 [00:00<00:14, 102.02it/s]The acceptance ratio is -------->  0.134\n",
      "The explored steps are -------->  90\n",
      "The optimized steps are -------->  111\n",
      "Gelman-Rubin convergence statistics (variance ratios):\n",
      "{   'E_hosp_ratio': 1.6153095137651146,\n",
      "    'I_hosp_ratio': 1.4247872506936818,\n",
      "    'P_fatal': 1.0879323266324137,\n",
      "    'T_inc': 1.024359795951284,\n",
      "    'T_inf': 1.4005988365324797,\n",
      "    'T_recov': 1.2006267749198127,\n",
      "    'T_recov_fatal': 1.4586336646185059,\n",
      "    'lockdown_R0': 1.2306101046392444,\n",
      "    'sigma': 6.9001127161951965}\n",
      "100%|██████████| 1500/1500 [00:15<00:00, 97.02it/s] \n",
      "100%|██████████| 1500/1500 [00:14<00:00, 104.84it/s]\n",
      "best parameters\n",
      " OrderedDict([('lockdown_R0', 0.75492776393308), ('T_inc', 4.022523332307293), ('T_inf', 3.6664301697819632), ('T_recov', 11.050010595322886), ('T_recov_fatal', 12.465041956094161), ('P_fatal', 0.02101615806543131), ('E_hosp_ratio', 0.5279213340584955), ('I_hosp_ratio', 0.2193424170424798), ('sigma', 1.3626546702333582)])\n"
     ]
    },
    {
     "output_type": "error",
     "ename": "NameError",
     "evalue": "name 'config1' is not defined",
     "traceback": [
      "\u001b[0;31m---------------------------------------------------------------------------\u001b[0m",
      "\u001b[0;31mNameError\u001b[0m                                 Traceback (most recent call last)",
      "\u001b[0;32m<ipython-input-6-4a1362bfdfc2>\u001b[0m in \u001b[0;36m<module>\u001b[0;34m\u001b[0m\n\u001b[1;32m      9\u001b[0m         \u001b[0mprediction_dict\u001b[0m\u001b[0;34m[\u001b[0m\u001b[0;34m'm1'\u001b[0m\u001b[0;34m]\u001b[0m\u001b[0;34m[\u001b[0m\u001b[0;34m'forecasts'\u001b[0m\u001b[0;34m]\u001b[0m \u001b[0;34m=\u001b[0m \u001b[0;34m{\u001b[0m\u001b[0;34m}\u001b[0m\u001b[0;34m\u001b[0m\u001b[0;34m\u001b[0m\u001b[0m\n\u001b[1;32m     10\u001b[0m         prediction_dict['m1']['forecasts']['best'] = get_forecast(prediction_dict, train_fit='m1', \n\u001b[0;32m---> 11\u001b[0;31m                                                                 \u001b[0mmodel\u001b[0m\u001b[0;34m=\u001b[0m\u001b[0mconfig1\u001b[0m\u001b[0;34m[\u001b[0m\u001b[0;34m'fitting'\u001b[0m\u001b[0;34m]\u001b[0m\u001b[0;34m[\u001b[0m\u001b[0;34m'model'\u001b[0m\u001b[0;34m]\u001b[0m\u001b[0;34m,\u001b[0m\u001b[0;34m\u001b[0m\u001b[0;34m\u001b[0m\u001b[0m\n\u001b[0m\u001b[1;32m     12\u001b[0m                                                                 forecast_days=config1['forecast']['forecast_days'])\n\u001b[1;32m     13\u001b[0m \u001b[0;34m\u001b[0m\u001b[0m\n",
      "\u001b[0;31mNameError\u001b[0m: name 'config1' is not defined"
     ]
    }
   ],
   "source": [
    "runs = 1\n",
    "PD = {}\n",
    "for n in range(runs):\n",
    "    PD[f'm{n}']= {}\n",
    "    for model_name,config_filename in models.items():\n",
    "        config = read_config(config_filename)\n",
    "        prediction_dict = {}\n",
    "        prediction_dict['m1'] = single_fitting_cycle(**copy.deepcopy(config['fitting']))\n",
    "        prediction_dict['m1']['forecasts'] = {}\n",
    "        prediction_dict['m1']['forecasts']['best'] = get_forecast(prediction_dict, train_fit='m1', \n",
    "                                                                model=config['fitting']['model'], \n",
    "                                                                forecast_days=config['forecast']['forecast_days'])\n",
    "\n",
    "        prediction_dict['m1']['trials_processed'] = forecast_all_trials(prediction_dict, train_fit='m1', \n",
    "                                                                        model=config['fitting']['model'], \n",
    "                                                                        forecast_days=config['forecast']['forecast_days'])\n",
    "        uncertainty_args = {'predictions_dict': prediction_dict, 'fitting_config': config['fitting'],\n",
    "                    'forecast_config': config['forecast'], **config['uncertainty']['uncertainty_params']}\n",
    "        uncertainty = config['uncertainty']['method'](**uncertainty_args)\n",
    "        prediction_dict['uncertainty_forecasts'] = uncertainty.get_forecast()\n",
    "        prediction_dict['ensemble_mean_forecast'] = uncertainty.ensemble_mean_forecast\n",
    "        prediction_dict['m1']['metric']['p_val'] = uncertainty.p_val\n",
    "        PD[f'm{n}'][model_name] = prediction_dict                                                               \n",
    "    "
   ]
  },
  {
   "cell_type": "code",
   "execution_count": 13,
   "metadata": {
    "tags": []
   },
   "outputs": [
    {
     "output_type": "stream",
     "name": "stderr",
     "text": [
      "  1%|          | 14/1500 [00:00<00:10, 139.28it/s]Performing m1 fit ..\n",
      "loading from ../../misc/cache/dataframes_ts_27112020_tracker.pkl\n",
      "splitting data ..\n",
      "splitting data ..\n",
      "train\n",
      " +-------------+---------------------+---------------------+---------------------+---------------------+---------------------+\n",
      "|             | 172                 | 173                 | 174                 | 175                 | 176                 |\n",
      "|-------------+---------------------+---------------------+---------------------+---------------------+---------------------|\n",
      "| date        | 2020-10-15 00:00:00 | 2020-10-16 00:00:00 | 2020-10-17 00:00:00 | 2020-10-18 00:00:00 | 2020-10-19 00:00:00 |\n",
      "| state       | Maharashtra         | Maharashtra         | Maharashtra         | Maharashtra         | Maharashtra         |\n",
      "| district    | Mumbai              | Mumbai              | Mumbai              | Mumbai              | Mumbai              |\n",
      "| total       | 236513.43           | 238242.43           | 240335.0            | 241935.0            | 243169.0            |\n",
      "| active      | 23629.71            | 22850.71            | 23122.0             | 21368.0             | 20371.0             |\n",
      "| recovered   | 203270.29           | 205728.29           | 207474.0            | 210782.0            | 212979.0            |\n",
      "| deceased    | 9613.43             | 9663.43             | 9739.0              | 9785.0              | 9819.0              |\n",
      "| tested      | 1324088.86          | 1337593.71          | 1354182.0           | 1363205.0           | 1374754.0           |\n",
      "| other       | 453.0               | 456.0               | 458.0               | 461.0               | 465.0               |\n",
      "| daily_cases | 1784.14             | 1729.0              | 1791.0              | 1600.0              | 1234.0              |\n",
      "+-------------+---------------------+---------------------+---------------------+---------------------+---------------------+\n",
      "val\n",
      " +-------------+---------------------+---------------------+---------------------+---------------------+---------------------+\n",
      "|             | 179                 | 180                 | 181                 | 182                 | 183                 |\n",
      "|-------------+---------------------+---------------------+---------------------+---------------------+---------------------|\n",
      "| date        | 2020-10-22 00:00:00 | 2020-10-23 00:00:00 | 2020-10-24 00:00:00 | 2020-10-25 00:00:00 | 2020-10-26 00:00:00 |\n",
      "| state       | Maharashtra         | Maharashtra         | Maharashtra         | Maharashtra         | Maharashtra         |\n",
      "| district    | Mumbai              | Mumbai              | Mumbai              | Mumbai              | Mumbai              |\n",
      "| total       | 247332.0            | 248526.86           | 250059.0            | 251281.0            | 252085.0            |\n",
      "| active      | 17982.0             | 18922.43            | 18462.0             | 18799.0             | 18357.0             |\n",
      "| recovered   | 219389.0            | 219597.0            | 221538.0            | 222377.0            | 223586.0            |\n",
      "| deceased    | 9961.0              | 10007.43            | 10059.0             | 10105.0             | 10142.0             |\n",
      "| tested      | 1423160.0           | 1433228.71          | 1449262.0           | 1456838.0           | 1468481.0           |\n",
      "| other       | 477.0               | 481.71              | 485.0               | 492.0               | 497.0               |\n",
      "| daily_cases | 1463.0              | 1273.71             | 1257.0              | 1222.0              | 804.0               |\n",
      "+-------------+---------------------+---------------------+---------------------+---------------------+---------------------+\n",
      "100%|██████████| 1500/1500 [00:11<00:00, 129.84it/s]\n",
      "  1%|          | 10/1500 [00:00<00:15, 96.44it/s]The acceptance ratio is -------->  0.132\n",
      "The explored steps are -------->  86\n",
      "The optimized steps are -------->  112\n",
      " 51%|█████▏    | 769/1500 [00:06<00:06, 120.97it/s]\n"
     ]
    },
    {
     "output_type": "error",
     "ename": "KeyboardInterrupt",
     "evalue": "",
     "traceback": [
      "\u001b[0;31m---------------------------------------------------------------------------\u001b[0m",
      "\u001b[0;31mKeyboardInterrupt\u001b[0m                         Traceback (most recent call last)",
      "\u001b[0;32m<ipython-input-13-359a135745c6>\u001b[0m in \u001b[0;36m<module>\u001b[0;34m\u001b[0m\n\u001b[1;32m      5\u001b[0m     \u001b[0mpercentile_dict1\u001b[0m \u001b[0;34m=\u001b[0m \u001b[0;34m{\u001b[0m\u001b[0;34m}\u001b[0m\u001b[0;34m\u001b[0m\u001b[0;34m\u001b[0m\u001b[0m\n\u001b[1;32m      6\u001b[0m     \u001b[0mpercentile_dict2\u001b[0m \u001b[0;34m=\u001b[0m \u001b[0;34m{\u001b[0m\u001b[0;34m}\u001b[0m\u001b[0;34m\u001b[0m\u001b[0;34m\u001b[0m\u001b[0m\n\u001b[0;32m----> 7\u001b[0;31m     \u001b[0mpercentile_dict1\u001b[0m\u001b[0;34m[\u001b[0m\u001b[0;34m'm1'\u001b[0m\u001b[0;34m]\u001b[0m \u001b[0;34m=\u001b[0m \u001b[0msingle_fitting_cycle\u001b[0m\u001b[0;34m(\u001b[0m\u001b[0;34m**\u001b[0m\u001b[0mcopy\u001b[0m\u001b[0;34m.\u001b[0m\u001b[0mdeepcopy\u001b[0m\u001b[0;34m(\u001b[0m\u001b[0mconfig1\u001b[0m\u001b[0;34m[\u001b[0m\u001b[0;34m'fitting'\u001b[0m\u001b[0;34m]\u001b[0m\u001b[0;34m)\u001b[0m\u001b[0;34m)\u001b[0m\u001b[0;34m\u001b[0m\u001b[0;34m\u001b[0m\u001b[0m\n\u001b[0m\u001b[1;32m      8\u001b[0m     \u001b[0mpercentile_dict2\u001b[0m\u001b[0;34m[\u001b[0m\u001b[0;34m'm1'\u001b[0m\u001b[0;34m]\u001b[0m \u001b[0;34m=\u001b[0m \u001b[0msingle_fitting_cycle\u001b[0m\u001b[0;34m(\u001b[0m\u001b[0;34m**\u001b[0m\u001b[0mcopy\u001b[0m\u001b[0;34m.\u001b[0m\u001b[0mdeepcopy\u001b[0m\u001b[0;34m(\u001b[0m\u001b[0mconfig2\u001b[0m\u001b[0;34m[\u001b[0m\u001b[0;34m'fitting'\u001b[0m\u001b[0;34m]\u001b[0m\u001b[0;34m)\u001b[0m\u001b[0;34m)\u001b[0m\u001b[0;34m\u001b[0m\u001b[0;34m\u001b[0m\u001b[0m\n\u001b[1;32m      9\u001b[0m     \u001b[0mpercentile_dict1\u001b[0m\u001b[0;34m[\u001b[0m\u001b[0;34m'm1'\u001b[0m\u001b[0;34m]\u001b[0m\u001b[0;34m[\u001b[0m\u001b[0;34m'forecasts'\u001b[0m\u001b[0;34m]\u001b[0m \u001b[0;34m=\u001b[0m \u001b[0;34m{\u001b[0m\u001b[0;34m}\u001b[0m\u001b[0;34m\u001b[0m\u001b[0;34m\u001b[0m\u001b[0m\n",
      "\u001b[0;32m~/Desktop/Wadhwani/covid-modelling/main/seir/fitting.py\u001b[0m in \u001b[0;36msingle_fitting_cycle\u001b[0;34m(data, model, variable_param_ranges, default_params, fitting_method, fitting_method_params, split, loss)\u001b[0m\n\u001b[1;32m    204\u001b[0m         \u001b[0mprint\u001b[0m\u001b[0;34m(\u001b[0m\u001b[0;34m'val\\n'\u001b[0m\u001b[0;34m,\u001b[0m \u001b[0mtabulate\u001b[0m\u001b[0;34m(\u001b[0m\u001b[0mobserved_dataframes\u001b[0m\u001b[0;34m[\u001b[0m\u001b[0;34m'df_val'\u001b[0m\u001b[0;34m]\u001b[0m\u001b[0;34m.\u001b[0m\u001b[0mtail\u001b[0m\u001b[0;34m(\u001b[0m\u001b[0;34m)\u001b[0m\u001b[0;34m.\u001b[0m\u001b[0mround\u001b[0m\u001b[0;34m(\u001b[0m\u001b[0;36m2\u001b[0m\u001b[0;34m)\u001b[0m\u001b[0;34m.\u001b[0m\u001b[0mT\u001b[0m\u001b[0;34m,\u001b[0m \u001b[0mheaders\u001b[0m\u001b[0;34m=\u001b[0m\u001b[0;34m'keys'\u001b[0m\u001b[0;34m,\u001b[0m \u001b[0mtablefmt\u001b[0m\u001b[0;34m=\u001b[0m\u001b[0;34m'psql'\u001b[0m\u001b[0;34m)\u001b[0m\u001b[0;34m)\u001b[0m\u001b[0;34m\u001b[0m\u001b[0;34m\u001b[0m\u001b[0m\n\u001b[1;32m    205\u001b[0m \u001b[0;34m\u001b[0m\u001b[0m\n\u001b[0;32m--> 206\u001b[0;31m     predictions_dict = run_cycle(observed_dataframes, data, model, variable_param_ranges, \n\u001b[0m\u001b[1;32m    207\u001b[0m             default_params, fitting_method, fitting_method_params, split, loss)\n\u001b[1;32m    208\u001b[0m \u001b[0;34m\u001b[0m\u001b[0m\n",
      "\u001b[0;32m~/Desktop/Wadhwani/covid-modelling/main/seir/fitting.py\u001b[0m in \u001b[0;36mrun_cycle\u001b[0;34m(observed_dataframes, data, model, variable_param_ranges, default_params, fitting_method, fitting_method_params, split, loss)\u001b[0m\n\u001b[1;32m    133\u001b[0m     args = {'df_train': df_train, 'default_params': default_params, 'variable_param_ranges':variable_param_ranges, \n\u001b[1;32m    134\u001b[0m             'model':model, 'fitting_method': fitting_method, **fitting_method_params, **split, **loss}\n\u001b[0;32m--> 135\u001b[0;31m     \u001b[0mbest_params\u001b[0m\u001b[0;34m,\u001b[0m \u001b[0mtrials\u001b[0m\u001b[0;34m,\u001b[0m \u001b[0mmetric\u001b[0m \u001b[0;34m=\u001b[0m \u001b[0mgetattr\u001b[0m\u001b[0;34m(\u001b[0m\u001b[0moptimiser\u001b[0m\u001b[0;34m,\u001b[0m \u001b[0mfitting_method\u001b[0m\u001b[0;34m)\u001b[0m\u001b[0;34m(\u001b[0m\u001b[0;34m**\u001b[0m\u001b[0margs\u001b[0m\u001b[0;34m)\u001b[0m\u001b[0;34m\u001b[0m\u001b[0;34m\u001b[0m\u001b[0m\n\u001b[0m\u001b[1;32m    136\u001b[0m     \u001b[0mprint\u001b[0m\u001b[0;34m(\u001b[0m\u001b[0;34m'best parameters\\n'\u001b[0m\u001b[0;34m,\u001b[0m \u001b[0mbest_params\u001b[0m\u001b[0;34m)\u001b[0m\u001b[0;34m\u001b[0m\u001b[0;34m\u001b[0m\u001b[0m\n\u001b[1;32m    137\u001b[0m \u001b[0;34m\u001b[0m\u001b[0m\n",
      "\u001b[0;32m~/Desktop/Wadhwani/covid-modelling/main/seir/optimiser.py\u001b[0m in \u001b[0;36mmcmc_opt\u001b[0;34m(self, df_train, default_params, variable_param_ranges, proposal_sigmas, end_date, model, num_evals, stride, n_chains, loss_method, loss_indices, loss_compartments, loss_weights, prior, algo, **kwargs)\u001b[0m\n\u001b[1;32m    308\u001b[0m         mcmc_fit = MCMC(self, df_train, default_params, variable_param_ranges, n_chains, total_days,\n\u001b[1;32m    309\u001b[0m                  algo, num_evals, stride, proposal_sigmas, loss_method, loss_compartments, loss_indices,loss_weights)\n\u001b[0;32m--> 310\u001b[0;31m         \u001b[0mmcmc_fit\u001b[0m\u001b[0;34m.\u001b[0m\u001b[0mrun\u001b[0m\u001b[0;34m(\u001b[0m\u001b[0;34m)\u001b[0m\u001b[0;34m\u001b[0m\u001b[0;34m\u001b[0m\u001b[0m\n\u001b[0m\u001b[1;32m    311\u001b[0m         \u001b[0;31m# sig = mcmc_fit.timestamp.strftime(\"%d-%b-%Y (%H:%M:%S)\")\u001b[0m\u001b[0;34m\u001b[0m\u001b[0;34m\u001b[0m\u001b[0;34m\u001b[0m\u001b[0m\n\u001b[1;32m    312\u001b[0m         \u001b[0;31m# exp_name = 'uncer'\u001b[0m\u001b[0;34m\u001b[0m\u001b[0;34m\u001b[0m\u001b[0;34m\u001b[0m\u001b[0m\n",
      "\u001b[0;32m~/Desktop/Wadhwani/covid-modelling/uncertainty/mcmc.py\u001b[0m in \u001b[0;36mrun\u001b[0;34m(self)\u001b[0m\n\u001b[1;32m    454\u001b[0m         \u001b[0mself\u001b[0m\u001b[0;34m.\u001b[0m\u001b[0mchains\u001b[0m \u001b[0;34m=\u001b[0m \u001b[0;34m[\u001b[0m\u001b[0;34m]\u001b[0m\u001b[0;34m\u001b[0m\u001b[0;34m\u001b[0m\u001b[0m\n\u001b[1;32m    455\u001b[0m         \u001b[0;32mfor\u001b[0m \u001b[0mi\u001b[0m\u001b[0;34m,\u001b[0m \u001b[0mrun\u001b[0m \u001b[0;32min\u001b[0m \u001b[0menumerate\u001b[0m\u001b[0;34m(\u001b[0m\u001b[0mrange\u001b[0m\u001b[0;34m(\u001b[0m\u001b[0mself\u001b[0m\u001b[0;34m.\u001b[0m\u001b[0mn_chains\u001b[0m\u001b[0;34m)\u001b[0m\u001b[0;34m)\u001b[0m\u001b[0;34m:\u001b[0m\u001b[0;34m\u001b[0m\u001b[0;34m\u001b[0m\u001b[0m\n\u001b[0;32m--> 456\u001b[0;31m            \u001b[0mself\u001b[0m\u001b[0;34m.\u001b[0m\u001b[0mchains\u001b[0m\u001b[0;34m.\u001b[0m\u001b[0mappend\u001b[0m\u001b[0;34m(\u001b[0m\u001b[0mself\u001b[0m\u001b[0;34m.\u001b[0m\u001b[0m_metropolis\u001b[0m\u001b[0;34m(\u001b[0m\u001b[0mself\u001b[0m\u001b[0;34m.\u001b[0m\u001b[0miters\u001b[0m\u001b[0;34m)\u001b[0m\u001b[0;34m)\u001b[0m\u001b[0;34m\u001b[0m\u001b[0;34m\u001b[0m\u001b[0m\n\u001b[0m\u001b[1;32m    457\u001b[0m         \u001b[0mself\u001b[0m\u001b[0;34m.\u001b[0m\u001b[0m_check_convergence\u001b[0m\u001b[0;34m(\u001b[0m\u001b[0;34m)\u001b[0m\u001b[0;34m\u001b[0m\u001b[0;34m\u001b[0m\u001b[0m\n\u001b[1;32m    458\u001b[0m         \u001b[0;32mreturn\u001b[0m \u001b[0mself\u001b[0m\u001b[0;34m.\u001b[0m\u001b[0m_get_trials\u001b[0m\u001b[0;34m(\u001b[0m\u001b[0;34m)\u001b[0m\u001b[0;34m\u001b[0m\u001b[0;34m\u001b[0m\u001b[0m\n",
      "\u001b[0;32m~/Desktop/Wadhwani/covid-modelling/uncertainty/mcmc.py\u001b[0m in \u001b[0;36m_metropolis\u001b[0;34m(self, iters)\u001b[0m\n\u001b[1;32m    346\u001b[0m \u001b[0;34m\u001b[0m\u001b[0m\n\u001b[1;32m    347\u001b[0m             \u001b[0mtheta_new\u001b[0m \u001b[0;34m=\u001b[0m \u001b[0mself\u001b[0m\u001b[0;34m.\u001b[0m\u001b[0mGauss_proposal\u001b[0m\u001b[0;34m(\u001b[0m\u001b[0mtheta\u001b[0m\u001b[0;34m)\u001b[0m\u001b[0;34m\u001b[0m\u001b[0;34m\u001b[0m\u001b[0m\n\u001b[0;32m--> 348\u001b[0;31m             \u001b[0maccept_choice\u001b[0m \u001b[0;34m,\u001b[0m \u001b[0mexplored\u001b[0m \u001b[0;34m,\u001b[0m \u001b[0moptimized\u001b[0m \u001b[0;34m=\u001b[0m \u001b[0mself\u001b[0m\u001b[0;34m.\u001b[0m\u001b[0m_accept\u001b[0m\u001b[0;34m(\u001b[0m\u001b[0mtheta\u001b[0m\u001b[0;34m,\u001b[0m \u001b[0mtheta_new\u001b[0m\u001b[0;34m,\u001b[0m \u001b[0mexplored\u001b[0m\u001b[0;34m,\u001b[0m \u001b[0moptimized\u001b[0m\u001b[0;34m,\u001b[0m\u001b[0moldLL\u001b[0m\u001b[0;34m)\u001b[0m\u001b[0;34m\u001b[0m\u001b[0;34m\u001b[0m\u001b[0m\n\u001b[0m\u001b[1;32m    349\u001b[0m             \u001b[0;32mif\u001b[0m \u001b[0maccept_choice\u001b[0m\u001b[0;34m:\u001b[0m\u001b[0;34m\u001b[0m\u001b[0;34m\u001b[0m\u001b[0m\n\u001b[1;32m    350\u001b[0m                 \u001b[0moldLL\u001b[0m \u001b[0;34m=\u001b[0m \u001b[0mself\u001b[0m\u001b[0;34m.\u001b[0m\u001b[0m_log_likelihood\u001b[0m\u001b[0;34m(\u001b[0m\u001b[0mtheta_new\u001b[0m\u001b[0;34m)\u001b[0m\u001b[0;34m\u001b[0m\u001b[0;34m\u001b[0m\u001b[0m\n",
      "\u001b[0;32m~/Desktop/Wadhwani/covid-modelling/uncertainty/mcmc.py\u001b[0m in \u001b[0;36m_accept\u001b[0;34m(self, theta_old, theta_new, explored, optimized, oldLL)\u001b[0m\n\u001b[1;32m    310\u001b[0m             \u001b[0mbool\u001b[0m\u001b[0;34m:\u001b[0m \u001b[0mwhether\u001b[0m \u001b[0;32mor\u001b[0m \u001b[0;32mnot\u001b[0m \u001b[0mto\u001b[0m \u001b[0maccept\u001b[0m \u001b[0mthe\u001b[0m \u001b[0mnew\u001b[0m \u001b[0mparameter\u001b[0m \u001b[0mset\u001b[0m\u001b[0;34m.\u001b[0m\u001b[0;34m\u001b[0m\u001b[0;34m\u001b[0m\u001b[0m\n\u001b[1;32m    311\u001b[0m         \"\"\"\n\u001b[0;32m--> 312\u001b[0;31m         \u001b[0mx_new\u001b[0m \u001b[0;34m=\u001b[0m \u001b[0mself\u001b[0m\u001b[0;34m.\u001b[0m\u001b[0m_log_likelihood\u001b[0m\u001b[0;34m(\u001b[0m\u001b[0mtheta_new\u001b[0m\u001b[0;34m)\u001b[0m\u001b[0;34m\u001b[0m\u001b[0;34m\u001b[0m\u001b[0m\n\u001b[0m\u001b[1;32m    313\u001b[0m         \u001b[0mx_old\u001b[0m \u001b[0;34m=\u001b[0m \u001b[0moldLL\u001b[0m\u001b[0;34m\u001b[0m\u001b[0;34m\u001b[0m\u001b[0m\n\u001b[1;32m    314\u001b[0m \u001b[0;34m\u001b[0m\u001b[0m\n",
      "\u001b[0;32m~/Desktop/Wadhwani/covid-modelling/uncertainty/mcmc.py\u001b[0m in \u001b[0;36m_log_likelihood\u001b[0;34m(self, theta)\u001b[0m\n\u001b[1;32m    273\u001b[0m         \u001b[0;32mfor\u001b[0m \u001b[0mcompartment\u001b[0m \u001b[0;32min\u001b[0m \u001b[0mself\u001b[0m\u001b[0;34m.\u001b[0m\u001b[0mcompartments\u001b[0m\u001b[0;34m:\u001b[0m\u001b[0;34m\u001b[0m\u001b[0;34m\u001b[0m\u001b[0m\n\u001b[1;32m    274\u001b[0m             \u001b[0mpred\u001b[0m \u001b[0;34m=\u001b[0m \u001b[0mnp\u001b[0m\u001b[0;34m.\u001b[0m\u001b[0marray\u001b[0m\u001b[0;34m(\u001b[0m\u001b[0mdf_prediction\u001b[0m\u001b[0;34m[\u001b[0m\u001b[0mcompartment\u001b[0m\u001b[0;34m]\u001b[0m\u001b[0;34m,\u001b[0m \u001b[0mdtype\u001b[0m\u001b[0;34m=\u001b[0m\u001b[0mnp\u001b[0m\u001b[0;34m.\u001b[0m\u001b[0mint64\u001b[0m\u001b[0;34m)\u001b[0m\u001b[0;34m\u001b[0m\u001b[0;34m\u001b[0m\u001b[0m\n\u001b[0;32m--> 275\u001b[0;31m             \u001b[0mtrue\u001b[0m \u001b[0;34m=\u001b[0m \u001b[0mnp\u001b[0m\u001b[0;34m.\u001b[0m\u001b[0marray\u001b[0m\u001b[0;34m(\u001b[0m\u001b[0mself\u001b[0m\u001b[0;34m.\u001b[0m\u001b[0mdf_train\u001b[0m\u001b[0;34m[\u001b[0m\u001b[0mcompartment\u001b[0m\u001b[0;34m]\u001b[0m\u001b[0;34m,\u001b[0m \u001b[0mdtype\u001b[0m\u001b[0;34m=\u001b[0m\u001b[0mnp\u001b[0m\u001b[0;34m.\u001b[0m\u001b[0mint64\u001b[0m\u001b[0;34m)\u001b[0m\u001b[0;34m\u001b[0m\u001b[0;34m\u001b[0m\u001b[0m\n\u001b[0m\u001b[1;32m    276\u001b[0m             \u001b[0;32mif\u001b[0m \u001b[0mself\u001b[0m\u001b[0;34m.\u001b[0m\u001b[0mfit2new\u001b[0m\u001b[0;34m:\u001b[0m\u001b[0;34m\u001b[0m\u001b[0;34m\u001b[0m\u001b[0m\n\u001b[1;32m    277\u001b[0m                 \u001b[0mpred\u001b[0m \u001b[0;34m=\u001b[0m \u001b[0mself\u001b[0m\u001b[0;34m.\u001b[0m\u001b[0m_get_new_cases_array\u001b[0m\u001b[0;34m(\u001b[0m\u001b[0mpred\u001b[0m\u001b[0;34m.\u001b[0m\u001b[0mcopy\u001b[0m\u001b[0;34m(\u001b[0m\u001b[0;34m)\u001b[0m\u001b[0;34m)\u001b[0m\u001b[0;34m\u001b[0m\u001b[0;34m\u001b[0m\u001b[0m\n",
      "\u001b[0;32m~/anaconda3/envs/C19M/lib/python3.8/site-packages/pandas/core/frame.py\u001b[0m in \u001b[0;36m__getitem__\u001b[0;34m(self, key)\u001b[0m\n\u001b[1;32m   2867\u001b[0m             \u001b[0;32myield\u001b[0m \u001b[0mself\u001b[0m\u001b[0;34m.\u001b[0m\u001b[0m_get_column_array\u001b[0m\u001b[0;34m(\u001b[0m\u001b[0mi\u001b[0m\u001b[0;34m)\u001b[0m\u001b[0;34m\u001b[0m\u001b[0;34m\u001b[0m\u001b[0m\n\u001b[1;32m   2868\u001b[0m \u001b[0;34m\u001b[0m\u001b[0m\n\u001b[0;32m-> 2869\u001b[0;31m     \u001b[0;32mdef\u001b[0m \u001b[0m__getitem__\u001b[0m\u001b[0;34m(\u001b[0m\u001b[0mself\u001b[0m\u001b[0;34m,\u001b[0m \u001b[0mkey\u001b[0m\u001b[0;34m)\u001b[0m\u001b[0;34m:\u001b[0m\u001b[0;34m\u001b[0m\u001b[0;34m\u001b[0m\u001b[0m\n\u001b[0m\u001b[1;32m   2870\u001b[0m         \u001b[0mkey\u001b[0m \u001b[0;34m=\u001b[0m \u001b[0mlib\u001b[0m\u001b[0;34m.\u001b[0m\u001b[0mitem_from_zerodim\u001b[0m\u001b[0;34m(\u001b[0m\u001b[0mkey\u001b[0m\u001b[0;34m)\u001b[0m\u001b[0;34m\u001b[0m\u001b[0;34m\u001b[0m\u001b[0m\n\u001b[1;32m   2871\u001b[0m         \u001b[0mkey\u001b[0m \u001b[0;34m=\u001b[0m \u001b[0mcom\u001b[0m\u001b[0;34m.\u001b[0m\u001b[0mapply_if_callable\u001b[0m\u001b[0;34m(\u001b[0m\u001b[0mkey\u001b[0m\u001b[0;34m,\u001b[0m \u001b[0mself\u001b[0m\u001b[0;34m)\u001b[0m\u001b[0;34m\u001b[0m\u001b[0;34m\u001b[0m\u001b[0m\n",
      "\u001b[0;31mKeyboardInterrupt\u001b[0m: "
     ]
    }
   ],
   "source": [
    "runs = 1\n",
    "PD = {}\n",
    "for n in range(runs):\n",
    "    PD[f'm{n}']= {}\n",
    "    percentile_dict1 = {}\n",
    "    percentile_dict2 = {}\n",
    "    percentile_dict1['m1'] = single_fitting_cycle(**copy.deepcopy(config1['fitting']))\n",
    "    percentile_dict2['m1'] = single_fitting_cycle(**copy.deepcopy(config2['fitting']))\n",
    "    percentile_dict1['m1']['forecasts'] = {}\n",
    "    percentile_dict1['m1']['forecasts']['best'] = get_forecast(percentile_dict1, train_fit='m1', \n",
    "                                                            model=config1['fitting']['model'], \n",
    "                                                            forecast_days=config1['forecast']['forecast_days'])\n",
    "\n",
    "    percentile_dict1['m1']['trials_processed'] = forecast_all_trials(percentile_dict1, train_fit='m1', \n",
    "                                                                    model=config1['fitting']['model'], \n",
    "                                                                    forecast_days=config1['forecast']['forecast_days'])\n",
    "    percentile_dict2['m1']['forecasts'] = {}\n",
    "    percentile_dict2['m1']['forecasts']['best'] = get_forecast(percentile_dict2, train_fit='m1', \n",
    "                                                            model=config2['fitting']['model'], \n",
    "                                                            forecast_days=config2['forecast']['forecast_days'])\n",
    "\n",
    "    percentile_dict2['m1']['trials_processed'] = forecast_all_trials(percentile_dict2, train_fit='m1', \n",
    "                                                                    model=config2['fitting']['model'], \n",
    "                                                                    forecast_days=config2['forecast']['forecast_days'])\n",
    "\n",
    "    uncertainty_args1 = {'predictions_dict': percentile_dict1, 'fitting_config': config1['fitting'],\n",
    "                    'forecast_config': config1['forecast'], **config1['uncertainty']['uncertainty_params']}\n",
    "    uncertainty1 = config1['uncertainty']['method'](**uncertainty_args1)\n",
    "    uncertainty_args2 = {'predictions_dict': percentile_dict2, 'fitting_config': config2['fitting'],\n",
    "                    'forecast_config': config2['forecast'], **config2['uncertainty']['uncertainty_params']}\n",
    "    uncertainty2 = config2['uncertainty']['method'](**uncertainty_args2)\n",
    "    uncertainty_forecasts1 = uncertainty1.get_forecasts()\n",
    "    uncertainty_forecasts2 = uncertainty2.get_forecasts()\n",
    "    percentile_dict1['m1']['uncertainty_forecasts'] = uncertainty1.ensemble_mean_forecast\n",
    "    percentile_dict2['m1']['uncertainty_forecasts'] = uncertainty2.ensemble_mean_forecast\n",
    "    percentile_dict1['m1']['uncertainty_forecasts'] = uncertainty_forecasts1\n",
    "    percentile_dict2['m1']['uncertainty_forecasts'] = uncertainty_forecasts2\n",
    "    percentile_dict1['m1']['metric']['p_val'] = uncertainty1.p_val\n",
    "    percentile_dict2['m1']['metric']['p_val'] = uncertainty2.p_val\n",
    "    PD[f'm{n}']['MCMC'] = percentile_dict1\n",
    "    PD[f'm{n}']['BO'] = percentile_dict2\n",
    "    \n",
    "    "
   ]
  },
  {
   "source": [
    "## Comparing best loss from MCMC vs BO"
   ],
   "cell_type": "markdown",
   "metadata": {}
  },
  {
   "cell_type": "code",
   "execution_count": 11,
   "metadata": {},
   "outputs": [],
   "source": [
    "run_names = []\n",
    "model_names = ['MCMC','BO']\n",
    "for i in range(runs):\n",
    "    run_names.append(f'm{i}')"
   ]
  },
  {
   "cell_type": "code",
   "execution_count": null,
   "metadata": {},
   "outputs": [],
   "source": [
    "for run_name in run_names:\n",
    "    "
   ]
  },
  {
   "cell_type": "code",
   "execution_count": null,
   "metadata": {},
   "outputs": [],
   "source": [
    "m = np.array(mcmc_perc_loss)\n",
    "b = np.array(bo_perc_loss)\n"
   ]
  },
  {
   "cell_type": "code",
   "execution_count": null,
   "metadata": {},
   "outputs": [],
   "source": [
    "m = np.mean(m,axis = 0)\n",
    "b = np.mean(b,axis = 0)"
   ]
  },
  {
   "cell_type": "code",
   "execution_count": null,
   "metadata": {},
   "outputs": [],
   "source": [
    "PD['perc_loss'] = {}\n",
    "PD['perc_loss']['mcmc'] = m\n",
    "PD['perc_loss']['bo'] = b"
   ]
  },
  {
   "cell_type": "code",
   "execution_count": null,
   "metadata": {},
   "outputs": [],
   "source": [
    "import pickle as pkl\n",
    "with open('../../misc/predictions/predictions_dict_perc_20.pickle', 'wb') as handle:\n",
    "    pkl.dump(PD, handle)\n"
   ]
  },
  {
   "cell_type": "code",
   "execution_count": null,
   "metadata": {},
   "outputs": [],
   "source": [
    "with open('../../misc/predictions/predictions_dict_perc_20.pickle', 'rb') as handle:\n",
    "    PD = pkl.load(handle)"
   ]
  },
  {
   "cell_type": "code",
   "execution_count": null,
   "metadata": {},
   "outputs": [],
   "source": [
    "plt.figure(figsize= (15,7))\n",
    "mc, = plt.plot(key,m,markersize=12,label='MCMC',color='b')\n",
    "bo, = plt.plot(key,b,markersize=12,label = 'BO',color='r')\n",
    "plt.legend(handles = [mc,bo])\n",
    "plt.xlabel('Percentiles')\n",
    "plt.ylabel('Percentile Loss in Total compartment')"
   ]
  },
  {
   "cell_type": "code",
   "execution_count": null,
   "metadata": {},
   "outputs": [],
   "source": [
    "m.mean()"
   ]
  },
  {
   "cell_type": "code",
   "execution_count": null,
   "metadata": {},
   "outputs": [],
   "source": [
    "b.mean()"
   ]
  },
  {
   "cell_type": "code",
   "execution_count": null,
   "metadata": {},
   "outputs": [],
   "source": [
    "import numpy as np\n",
    "np.linspace(1,99,40)"
   ]
  },
  {
   "cell_type": "code",
   "execution_count": null,
   "metadata": {},
   "outputs": [],
   "source": []
  }
 ],
 "metadata": {
  "kernelspec": {
   "display_name": "Python 3",
   "language": "python",
   "name": "python3"
  },
  "language_info": {
   "codemirror_mode": {
    "name": "ipython",
    "version": 3
   },
   "file_extension": ".py",
   "mimetype": "text/x-python",
   "name": "python",
   "nbconvert_exporter": "python",
   "pygments_lexer": "ipython3",
   "version": "3.8.5-final"
  }
 },
 "nbformat": 4,
 "nbformat_minor": 4
}