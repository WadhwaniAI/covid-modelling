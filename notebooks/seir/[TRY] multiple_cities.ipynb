{
 "metadata": {
  "language_info": {
   "codemirror_mode": {
    "name": "ipython",
    "version": 3
   },
   "file_extension": ".py",
   "mimetype": "text/x-python",
   "name": "python",
   "nbconvert_exporter": "python",
   "pygments_lexer": "ipython3",
   "version": "3.8.5-final"
  },
  "orig_nbformat": 2,
  "kernelspec": {
   "name": "python3",
   "display_name": "Python 3.8.5 64-bit ('covid_modelling': conda)",
   "metadata": {
    "interpreter": {
     "hash": "8d4520c4ae250cc42f52066aee3414cc1b6850f2df392ef0f675cfc8e593b997"
    }
   }
  }
 },
 "nbformat": 4,
 "nbformat_minor": 2,
 "cells": [
  {
   "cell_type": "code",
   "execution_count": 1,
   "metadata": {},
   "outputs": [],
   "source": [
    "import numpy as np\n",
    "import matplotlib.pyplot as plt\n",
    "import datetime\n",
    "import copy\n",
    "import time\n",
    "\n",
    "import sys\n",
    "sys.path.append('../../')\n",
    "\n",
    "from data.processing import get_data\n",
    "\n",
    "import models\n",
    "\n",
    "from main.seir.fitting import single_fitting_cycle\n",
    "from main.seir.forecast import get_forecast, forecast_all_trials, create_all_trials_csv, create_decile_csv_new, predict_r0_multipliers, save_r0_mul\n",
    "from main.seir.sensitivity import calculate_sensitivity_and_plot\n",
    "from utils.generic.create_report import save_dict_and_create_report\n",
    "from utils.generic.config import read_config\n",
    "from utils.generic.enums import Columns\n",
    "from utils.fitting.loss import Loss_Calculator\n",
    "#from utils.generic.logging import log_wandb\n",
    "from viz import plot_forecast, plot_top_k_trials, plot_ptiles, plot_r0_multipliers\n",
    "\n",
    "import yaml"
   ]
  },
  {
   "cell_type": "code",
   "execution_count": 2,
   "metadata": {},
   "outputs": [],
   "source": [
    "place_list = [('Jharkhand', None), ('Jharkhand', 'Bokaro'), ('Jharkhand', 'Dhanbad'), ('Jharkhand', 'East Singhbhum')]\n",
    "pop_list = [3.772e+7, 2.36e+6, 3.07e+6, 2.62e+6]"
   ]
  },
  {
   "cell_type": "code",
   "execution_count": 3,
   "metadata": {},
   "outputs": [],
   "source": [
    "config_list = ['jharkhand.yaml', 'bokaro.yaml', 'dhanbad.yaml', 'east singhbhum.yaml']"
   ]
  },
  {
   "cell_type": "code",
   "execution_count": 4,
   "metadata": {},
   "outputs": [],
   "source": [
    "config_filename = 'dhanbad.yaml'\n",
    "config = read_config(config_filename)"
   ]
  },
  {
   "cell_type": "code",
   "execution_count": 6,
   "metadata": {},
   "outputs": [
    {
     "output_type": "stream",
     "name": "stdout",
     "text": [
      "RUNNING ONCALL 1 FOR Jharkhand - None\n",
      "Performing m1 fit ..\n",
      "loading from ../../misc/cache/dataframes_ts_20112020_tracker.pkl\n",
      "splitting data ..\n",
      "splitting data ..\n",
      "          date      state   total  active  recovered  deceased     tested  \\\n",
      "0   2020-04-26  Jharkhand      82      66         13         3     7806.0   \n",
      "1   2020-04-27  Jharkhand     103      83         17         3     8757.0   \n",
      "2   2020-04-28  Jharkhand     105      83         19         3     9408.0   \n",
      "3   2020-04-29  Jharkhand     107      85         19         3    10268.0   \n",
      "4   2020-04-30  Jharkhand     110      88         19         3    10987.0   \n",
      "..         ...        ...     ...     ...        ...       ...        ...   \n",
      "204 2020-11-16  Jharkhand  106230    2754     102548       928  3807997.0   \n",
      "205 2020-11-17  Jharkhand  106491    2669     102891       931  3826168.0   \n",
      "206 2020-11-18  Jharkhand  106742    2637     103171       934  3846092.0   \n",
      "207 2020-11-19  Jharkhand  106972    2600     103435       937  3866465.0   \n",
      "208 2020-11-20  Jharkhand  106972    2600     103435       937  3866465.0   \n",
      "\n",
      "     migrated  other  daily_cases  \n",
      "0         NaN    NaN          NaN  \n",
      "1         NaN    NaN         21.0  \n",
      "2         NaN    NaN          2.0  \n",
      "3         NaN    NaN          2.0  \n",
      "4         NaN    NaN          3.0  \n",
      "..        ...    ...          ...  \n",
      "204       NaN    NaN        166.0  \n",
      "205       NaN    NaN        261.0  \n",
      "206       NaN    NaN        251.0  \n",
      "207       NaN    NaN        230.0  \n",
      "208       NaN    NaN          0.0  \n",
      "\n",
      "[209 rows x 10 columns]\n",
      "train\n",
      " +-------------+---------------------+---------------------+---------------------+---------------------+---------------------+\n",
      "|             | 186                 | 187                 | 188                 | 189                 | 190                 |\n",
      "|-------------+---------------------+---------------------+---------------------+---------------------+---------------------|\n",
      "| date        | 2020-10-29 00:00:00 | 2020-10-30 00:00:00 | 2020-10-31 00:00:00 | 2020-11-01 00:00:00 | 2020-11-02 00:00:00 |\n",
      "| state       | Jharkhand           | Jharkhand           | Jharkhand           | Jharkhand           | Jharkhand           |\n",
      "| total       | 100971.14           | 101340.29           | 101526.33           | 101717.8            | 101906.25           |\n",
      "| active      | 5360.57             | 5282.43             | 5250.5              | 5228.0              | 5211.5              |\n",
      "| recovered   | 94730.14            | 95175.43            | 95392.33            | 95605.6             | 95810.25            |\n",
      "| deceased    | 880.43              | 882.43              | 883.5               | 884.2               | 884.5               |\n",
      "| tested      | 3249560.86          | 3293027.86          | 3316424.67          | 3340966.2           | 3367827.75          |\n",
      "| migrated    | nan                 | nan                 | nan                 | nan                 | nan                 |\n",
      "| other       | nan                 | nan                 | nan                 | nan                 | nan                 |\n",
      "| daily_cases | 343.0               | 369.14              | 377.67              | 384.2               | 381.5               |\n",
      "+-------------+---------------------+---------------------+---------------------+---------------------+---------------------+\n",
      "val\n",
      " +-------------+---------------------+---------------------+---------------------+---------------------+---------------------+\n",
      "|             | 193                 | 194                 | 195                 | 196                 | 197                 |\n",
      "|-------------+---------------------+---------------------+---------------------+---------------------+---------------------|\n",
      "| date        | 2020-11-05 00:00:00 | 2020-11-06 00:00:00 | 2020-11-07 00:00:00 | 2020-11-08 00:00:00 | 2020-11-09 00:00:00 |\n",
      "| state       | Jharkhand           | Jharkhand           | Jharkhand           | Jharkhand           | Jharkhand           |\n",
      "| total       | 103699.67           | 103840.86           | 103999.83           | 104162.2            | 104317.0            |\n",
      "| active      | 4699.33             | 4635.29             | 4571.0              | 4522.4              | 4481.75             |\n",
      "| recovered   | 98105.67            | 98309.43            | 98531.83            | 98742.2             | 98936.75            |\n",
      "| deceased    | 894.67              | 896.14              | 897.0               | 897.6               | 898.5               |\n",
      "| tested      | 3553738.67          | 3568479.71          | 3586254.0           | 3602801.6           | 3618308.0           |\n",
      "| migrated    | nan                 | nan                 | nan                 | nan                 | nan                 |\n",
      "| other       | nan                 | nan                 | nan                 | nan                 | nan                 |\n",
      "| daily_cases | 325.33              | 314.0               | 300.17              | 300.0               | 286.25              |\n",
      "+-------------+---------------------+---------------------+---------------------+---------------------+---------------------+\n",
      "100%|██████████| 1000/1000 [00:28<00:00, 35.44trial/s, best loss: 0.2972993464240128]\n",
      "best parameters\n",
      " {'E_hosp_ratio': 0.10663547766891568, 'I_hosp_ratio': 0.14892617214128068, 'P_fatal': 0.014678288034461754, 'T_inc': 4.600477135479827, 'T_inf': 3.000831828684953, 'T_recov': 17.039905014126614, 'T_recov_fatal': 27.694396779999906, 'lockdown_R0': 1.2590483178708174}\n",
      "Performing m2 fit ..\n",
      "loading from ../../misc/cache/dataframes_ts_20112020_tracker.pkl\n",
      "splitting data ..\n",
      "splitting data ..\n",
      "          date      state   total  active  recovered  deceased     tested  \\\n",
      "0   2020-04-26  Jharkhand      82      66         13         3     7806.0   \n",
      "1   2020-04-27  Jharkhand     103      83         17         3     8757.0   \n",
      "2   2020-04-28  Jharkhand     105      83         19         3     9408.0   \n",
      "3   2020-04-29  Jharkhand     107      85         19         3    10268.0   \n",
      "4   2020-04-30  Jharkhand     110      88         19         3    10987.0   \n",
      "..         ...        ...     ...     ...        ...       ...        ...   \n",
      "204 2020-11-16  Jharkhand  106230    2754     102548       928  3807997.0   \n",
      "205 2020-11-17  Jharkhand  106491    2669     102891       931  3826168.0   \n",
      "206 2020-11-18  Jharkhand  106742    2637     103171       934  3846092.0   \n",
      "207 2020-11-19  Jharkhand  106972    2600     103435       937  3866465.0   \n",
      "208 2020-11-20  Jharkhand  106972    2600     103435       937  3866465.0   \n",
      "\n",
      "     migrated  other  daily_cases  \n",
      "0         NaN    NaN          NaN  \n",
      "1         NaN    NaN         21.0  \n",
      "2         NaN    NaN          2.0  \n",
      "3         NaN    NaN          2.0  \n",
      "4         NaN    NaN          3.0  \n",
      "..        ...    ...          ...  \n",
      "204       NaN    NaN        166.0  \n",
      "205       NaN    NaN        261.0  \n",
      "206       NaN    NaN        251.0  \n",
      "207       NaN    NaN        230.0  \n",
      "208       NaN    NaN          0.0  \n",
      "\n",
      "[209 rows x 10 columns]\n",
      "train\n",
      " +-------------+---------------------+---------------------+---------------------+---------------------+---------------------+\n",
      "|             | 193                 | 194                 | 195                 | 196                 | 197                 |\n",
      "|-------------+---------------------+---------------------+---------------------+---------------------+---------------------|\n",
      "| date        | 2020-11-05 00:00:00 | 2020-11-06 00:00:00 | 2020-11-07 00:00:00 | 2020-11-08 00:00:00 | 2020-11-09 00:00:00 |\n",
      "| state       | Jharkhand           | Jharkhand           | Jharkhand           | Jharkhand           | Jharkhand           |\n",
      "| total       | 103526.86           | 103840.86           | 103999.83           | 104162.2            | 104317.0            |\n",
      "| active      | 4759.29             | 4635.29             | 4571.0              | 4522.4              | 4481.75             |\n",
      "| recovered   | 97874.14            | 98309.43            | 98531.83            | 98742.2             | 98936.75            |\n",
      "| deceased    | 893.43              | 896.14              | 897.0               | 897.6               | 898.5               |\n",
      "| tested      | 3536213.57          | 3568479.71          | 3586254.0           | 3602801.6           | 3618308.0           |\n",
      "| migrated    | nan                 | nan                 | nan                 | nan                 | nan                 |\n",
      "| other       | nan                 | nan                 | nan                 | nan                 | nan                 |\n",
      "| daily_cases | 336.43              | 314.0               | 300.17              | 300.0               | 286.25              |\n",
      "+-------------+---------------------+---------------------+---------------------+---------------------+---------------------+\n",
      "100%|██████████| 1000/1000 [00:29<00:00, 33.90trial/s, best loss: 0.2898401149325345]\n",
      "best parameters\n",
      " {'E_hosp_ratio': 0.14710571864784902, 'I_hosp_ratio': 0.18326636905961805, 'P_fatal': 0.0071077710622972825, 'T_inc': 4.99474094643123, 'T_inf': 3.016319575718094, 'T_recov': 15.933983031366555, 'T_recov_fatal': 33.733262510020246, 'lockdown_R0': 0.9797610024162867}\n",
      "Performing m1 fit ..\n",
      "loading from ../../misc/cache/dataframes_ts_20112020_tracker.pkl\n",
      "splitting data ..\n",
      "splitting data ..\n",
      "          date      state   total  active  recovered  deceased     tested  \\\n",
      "0   2020-04-26  Jharkhand      82      66         13         3     7806.0   \n",
      "1   2020-04-27  Jharkhand     103      83         17         3     8757.0   \n",
      "2   2020-04-28  Jharkhand     105      83         19         3     9408.0   \n",
      "3   2020-04-29  Jharkhand     107      85         19         3    10268.0   \n",
      "4   2020-04-30  Jharkhand     110      88         19         3    10987.0   \n",
      "..         ...        ...     ...     ...        ...       ...        ...   \n",
      "204 2020-11-16  Jharkhand  106230    2754     102548       928  3807997.0   \n",
      "205 2020-11-17  Jharkhand  106491    2669     102891       931  3826168.0   \n",
      "206 2020-11-18  Jharkhand  106742    2637     103171       934  3846092.0   \n",
      "207 2020-11-19  Jharkhand  106972    2600     103435       937  3866465.0   \n",
      "208 2020-11-20  Jharkhand  106972    2600     103435       937  3866465.0   \n",
      "\n",
      "     migrated  other  daily_cases  \n",
      "0         NaN    NaN          NaN  \n",
      "1         NaN    NaN         21.0  \n",
      "2         NaN    NaN          2.0  \n",
      "3         NaN    NaN          2.0  \n",
      "4         NaN    NaN          3.0  \n",
      "..        ...    ...          ...  \n",
      "204       NaN    NaN        166.0  \n",
      "205       NaN    NaN        261.0  \n",
      "206       NaN    NaN        251.0  \n",
      "207       NaN    NaN        230.0  \n",
      "208       NaN    NaN          0.0  \n",
      "\n",
      "[209 rows x 10 columns]\n",
      "train\n",
      " +-------------+---------------------+---------------------+---------------------+---------------------+---------------------+\n",
      "|             | 190                 | 191                 | 192                 | 193                 | 194                 |\n",
      "|-------------+---------------------+---------------------+---------------------+---------------------+---------------------|\n",
      "| date        | 2020-11-02 00:00:00 | 2020-11-03 00:00:00 | 2020-11-04 00:00:00 | 2020-11-05 00:00:00 | 2020-11-06 00:00:00 |\n",
      "| state       | Jharkhand           | Jharkhand           | Jharkhand           | Jharkhand           | Jharkhand           |\n",
      "| total       | 102463.29           | 102836.43           | 103015.67           | 103201.4            | 103379.25           |\n",
      "| active      | 5052.29             | 4972.71             | 4917.83             | 4855.6              | 4789.75             |\n",
      "| recovered   | 96522.86            | 96973.86            | 97207.0             | 97453.8             | 97696.0             |\n",
      "| deceased    | 888.14              | 889.86              | 890.83              | 892.0               | 893.5               |\n",
      "| tested      | 3425348.14          | 3468377.29          | 3486041.17          | 3502676.0           | 3520579.25          |\n",
      "| migrated    | nan                 | nan                 | nan                 | nan                 | nan                 |\n",
      "| other       | nan                 | nan                 | nan                 | nan                 | nan                 |\n",
      "| daily_cases | 368.43              | 373.14              | 356.33              | 362.4               | 352.25              |\n",
      "+-------------+---------------------+---------------------+---------------------+---------------------+---------------------+\n",
      "val\n",
      " +-------------+---------------------+---------------------+---------------------+\n",
      "|             | 195                 | 196                 | 197                 |\n",
      "|-------------+---------------------+---------------------+---------------------|\n",
      "| date        | 2020-11-07 00:00:00 | 2020-11-08 00:00:00 | 2020-11-09 00:00:00 |\n",
      "| state       | Jharkhand           | Jharkhand           | Jharkhand           |\n",
      "| total       | 104456.33           | 104456.33           | 104456.33           |\n",
      "| active      | 4429.33             | 4429.33             | 4429.33             |\n",
      "| recovered   | 99127.33            | 99127.33            | 99127.33            |\n",
      "| deceased    | 899.67              | 899.67              | 899.67              |\n",
      "| tested      | 3632347.0           | 3632347.0           | 3632347.0           |\n",
      "| migrated    | nan                 | nan                 | nan                 |\n",
      "| other       | nan                 | nan                 | nan                 |\n",
      "| daily_cases | 263.0               | 263.0               | 263.0               |\n",
      "+-------------+---------------------+---------------------+---------------------+\n",
      "100%|██████████| 1000/1000 [00:33<00:00, 29.96trial/s, best loss: 0.34333902737218003]\n",
      "best parameters\n",
      " {'E_hosp_ratio': 0.17111062319087006, 'I_hosp_ratio': 0.23172619653817755, 'P_fatal': 0.007995065626123987, 'T_inc': 4.632639992672751, 'T_inf': 3.3011861898328365, 'T_recov': 15.811165536403717, 'T_recov_fatal': 32.31368674399619, 'lockdown_R0': 0.8345701046314115}\n"
     ]
    },
    {
     "output_type": "display_data",
     "data": {
      "text/plain": "HBox(children=(FloatProgress(value=0.0, max=101.0), HTML(value='')))",
      "application/vnd.jupyter.widget-view+json": {
       "version_major": 2,
       "version_minor": 0,
       "model_id": "9d50b79720354637b01fbe02fb651448"
      }
     },
     "metadata": {}
    },
    {
     "output_type": "stream",
     "name": "stdout",
     "text": [
      "\n"
     ]
    },
    {
     "output_type": "display_data",
     "data": {
      "text/plain": "HBox(children=(FloatProgress(value=0.0, max=201.0), HTML(value='')))",
      "application/vnd.jupyter.widget-view+json": {
       "version_major": 2,
       "version_minor": 0,
       "model_id": "abeb6a8e53dc48df9696bdb012785fc7"
      }
     },
     "metadata": {}
    },
    {
     "output_type": "stream",
     "name": "stdout",
     "text": [
      "\n"
     ]
    },
    {
     "output_type": "display_data",
     "data": {
      "text/plain": "HBox(children=(FloatProgress(value=0.0, max=201.0), HTML(value='')))",
      "application/vnd.jupyter.widget-view+json": {
       "version_major": 2,
       "version_minor": 0,
       "model_id": "3706a20649f2445691c5e8ad110af392"
      }
     },
     "metadata": {}
    },
    {
     "output_type": "stream",
     "name": "stdout",
     "text": [
      "\n"
     ]
    },
    {
     "output_type": "display_data",
     "data": {
      "text/plain": "HBox(children=(FloatProgress(value=0.0, max=201.0), HTML(value='')))",
      "application/vnd.jupyter.widget-view+json": {
       "version_major": 2,
       "version_minor": 0,
       "model_id": "7cd2f0b7ceb5487b932781b3a26d42f2"
      }
     },
     "metadata": {}
    },
    {
     "output_type": "stream",
     "name": "stdout",
     "text": [
      "\n"
     ]
    },
    {
     "output_type": "display_data",
     "data": {
      "text/plain": "HBox(children=(FloatProgress(value=0.0, max=101.0), HTML(value='')))",
      "application/vnd.jupyter.widget-view+json": {
       "version_major": 2,
       "version_minor": 0,
       "model_id": "b1b597cbe77a47dda9b48b5b9194af1b"
      }
     },
     "metadata": {}
    },
    {
     "output_type": "stream",
     "name": "stdout",
     "text": [
      "\n"
     ]
    },
    {
     "output_type": "display_data",
     "data": {
      "text/plain": "HBox(children=(FloatProgress(value=0.0, max=101.0), HTML(value='')))",
      "application/vnd.jupyter.widget-view+json": {
       "version_major": 2,
       "version_minor": 0,
       "model_id": "8fe2e1727cf5419db08bb7821042f807"
      }
     },
     "metadata": {}
    },
    {
     "output_type": "stream",
     "name": "stdout",
     "text": [
      "\n"
     ]
    },
    {
     "output_type": "display_data",
     "data": {
      "text/plain": "HBox(children=(FloatProgress(value=0.0, max=101.0), HTML(value='')))",
      "application/vnd.jupyter.widget-view+json": {
       "version_major": 2,
       "version_minor": 0,
       "model_id": "7fac24480b6a42e6a8d3d354ec96b9c9"
      }
     },
     "metadata": {}
    },
    {
     "output_type": "stream",
     "name": "stdout",
     "text": [
      "\n"
     ]
    },
    {
     "output_type": "display_data",
     "data": {
      "text/plain": "HBox(children=(FloatProgress(value=0.0, max=201.0), HTML(value='')))",
      "application/vnd.jupyter.widget-view+json": {
       "version_major": 2,
       "version_minor": 0,
       "model_id": "74d5ed583093473e96e2389777cce188"
      }
     },
     "metadata": {}
    },
    {
     "output_type": "stream",
     "name": "stdout",
     "text": [
      "\n"
     ]
    },
    {
     "output_type": "display_data",
     "data": {
      "text/plain": "HBox(children=(FloatProgress(value=0.0, max=201.0), HTML(value='')))",
      "application/vnd.jupyter.widget-view+json": {
       "version_major": 2,
       "version_minor": 0,
       "model_id": "5918de689fef434ca7af8785ce516480"
      }
     },
     "metadata": {}
    },
    {
     "output_type": "stream",
     "name": "stdout",
     "text": [
      "\n"
     ]
    },
    {
     "output_type": "display_data",
     "data": {
      "text/plain": "HBox(children=(FloatProgress(value=0.0, max=201.0), HTML(value='')))",
      "application/vnd.jupyter.widget-view+json": {
       "version_major": 2,
       "version_minor": 0,
       "model_id": "4a100d07b3ce4ec988e4ec9a650892fc"
      }
     },
     "metadata": {}
    },
    {
     "output_type": "stream",
     "name": "stdout",
     "text": [
      "\n"
     ]
    },
    {
     "output_type": "display_data",
     "data": {
      "text/plain": "HBox(children=(FloatProgress(value=0.0, max=101.0), HTML(value='')))",
      "application/vnd.jupyter.widget-view+json": {
       "version_major": 2,
       "version_minor": 0,
       "model_id": "33f1bdc468e048f29b6e1f1d0af5c191"
      }
     },
     "metadata": {}
    },
    {
     "output_type": "stream",
     "name": "stdout",
     "text": [
      "\n"
     ]
    },
    {
     "output_type": "display_data",
     "data": {
      "text/plain": "HBox(children=(FloatProgress(value=0.0, max=101.0), HTML(value='')))",
      "application/vnd.jupyter.widget-view+json": {
       "version_major": 2,
       "version_minor": 0,
       "model_id": "c46559c0aa174b539a55c8d185dde3fa"
      }
     },
     "metadata": {}
    },
    {
     "output_type": "stream",
     "name": "stdout",
     "text": [
      "\n"
     ]
    },
    {
     "output_type": "display_data",
     "data": {
      "text/plain": "HBox(children=(FloatProgress(value=0.0, max=101.0), HTML(value='')))",
      "application/vnd.jupyter.widget-view+json": {
       "version_major": 2,
       "version_minor": 0,
       "model_id": "1299ff62032d4f3dab1c688a0ad442d0"
      }
     },
     "metadata": {}
    },
    {
     "output_type": "stream",
     "name": "stdout",
     "text": [
      "\n"
     ]
    },
    {
     "output_type": "display_data",
     "data": {
      "text/plain": "HBox(children=(FloatProgress(value=0.0, max=201.0), HTML(value='')))",
      "application/vnd.jupyter.widget-view+json": {
       "version_major": 2,
       "version_minor": 0,
       "model_id": "fda9ba22812c43589a7cacf8bed99720"
      }
     },
     "metadata": {}
    },
    {
     "output_type": "stream",
     "name": "stdout",
     "text": [
      "\n"
     ]
    },
    {
     "output_type": "display_data",
     "data": {
      "text/plain": "HBox(children=(FloatProgress(value=0.0, max=201.0), HTML(value='')))",
      "application/vnd.jupyter.widget-view+json": {
       "version_major": 2,
       "version_minor": 0,
       "model_id": "06f5ae33eb21463fa24d9d04b215bec1"
      }
     },
     "metadata": {}
    },
    {
     "output_type": "stream",
     "name": "stdout",
     "text": [
      "\n"
     ]
    },
    {
     "output_type": "display_data",
     "data": {
      "text/plain": "HBox(children=(FloatProgress(value=0.0, max=201.0), HTML(value='')))",
      "application/vnd.jupyter.widget-view+json": {
       "version_major": 2,
       "version_minor": 0,
       "model_id": "93eaed0ba314497eaaf93316002f9753"
      }
     },
     "metadata": {}
    },
    {
     "output_type": "stream",
     "name": "stdout",
     "text": [
      "\n"
     ]
    },
    {
     "output_type": "display_data",
     "data": {
      "text/plain": "HBox(children=(FloatProgress(value=0.0, max=101.0), HTML(value='')))",
      "application/vnd.jupyter.widget-view+json": {
       "version_major": 2,
       "version_minor": 0,
       "model_id": "d3a33e0bf849414c905ee23603618dad"
      }
     },
     "metadata": {}
    },
    {
     "output_type": "stream",
     "name": "stdout",
     "text": [
      "\n"
     ]
    },
    {
     "output_type": "display_data",
     "data": {
      "text/plain": "HBox(children=(FloatProgress(value=0.0, max=101.0), HTML(value='')))",
      "application/vnd.jupyter.widget-view+json": {
       "version_major": 2,
       "version_minor": 0,
       "model_id": "fa033aac59ad48139305d8f3f905dde9"
      }
     },
     "metadata": {}
    },
    {
     "output_type": "stream",
     "name": "stdout",
     "text": [
      "\n",
      "getting forecasts ..\n",
      "getting forecasts ..\n",
      "getting forecasts ..\n",
      "15it [00:00, 143.19it/s]getting forecasts ..\n",
      "1000it [00:08, 117.17it/s]\n",
      "13it [00:00, 128.46it/s]getting forecasts ..\n",
      "1000it [00:07, 126.44it/s]\n",
      "100%|██████████| 100/100 [00:48<00:00,  2.04trial/s, best loss: 1.7741169887836816]\n",
      "getting forecasts ..\n",
      "getting forecasts ..\n",
      "getting forecasts ..\n",
      "getting forecasts ..\n",
      "getting forecasts ..\n",
      "getting forecasts ..\n"
     ]
    },
    {
     "output_type": "error",
     "ename": "KeyError",
     "evalue": "'forecast_ensemble_mean_best'",
     "traceback": [
      "\u001b[0;31m---------------------------------------------------------------------------\u001b[0m",
      "\u001b[0;31mKeyError\u001b[0m                                  Traceback (most recent call last)",
      "\u001b[0;32m<ipython-input-6-37955f10fdd3>\u001b[0m in \u001b[0;36m<module>\u001b[0;34m\u001b[0m\n\u001b[1;32m    139\u001b[0m     \u001b[0mpredictions_dict\u001b[0m\u001b[0;34m[\u001b[0m\u001b[0;34m'm2'\u001b[0m\u001b[0;34m]\u001b[0m\u001b[0;34m[\u001b[0m\u001b[0;34m'plots'\u001b[0m\u001b[0;34m]\u001b[0m\u001b[0;34m[\u001b[0m\u001b[0;34m'r0_mul_dict'\u001b[0m\u001b[0;34m]\u001b[0m \u001b[0;34m=\u001b[0m \u001b[0mplot_r0_multipliers\u001b[0m\u001b[0;34m(\u001b[0m\u001b[0mpredictions_dict\u001b[0m\u001b[0;34m,\u001b[0m \u001b[0;32mNone\u001b[0m\u001b[0;34m,\u001b[0m \u001b[0mpredictions_dict\u001b[0m\u001b[0;34m[\u001b[0m\u001b[0;34m'm2'\u001b[0m\u001b[0;34m]\u001b[0m\u001b[0;34m[\u001b[0m\u001b[0;34m'r0_mul_dict'\u001b[0m\u001b[0;34m]\u001b[0m\u001b[0;34m,\u001b[0m \u001b[0;32mNone\u001b[0m\u001b[0;34m,\u001b[0m \u001b[0mconfig\u001b[0m\u001b[0;34m[\u001b[0m\u001b[0;34m'fitting'\u001b[0m\u001b[0;34m]\u001b[0m\u001b[0;34m[\u001b[0m\u001b[0;34m'data'\u001b[0m\u001b[0;34m]\u001b[0m\u001b[0;34m[\u001b[0m\u001b[0;34m'dataloading_params'\u001b[0m\u001b[0;34m]\u001b[0m\u001b[0;34m[\u001b[0m\u001b[0;34m'state'\u001b[0m\u001b[0;34m]\u001b[0m\u001b[0;34m,\u001b[0m \u001b[0mconfig\u001b[0m\u001b[0;34m[\u001b[0m\u001b[0;34m'fitting'\u001b[0m\u001b[0;34m]\u001b[0m\u001b[0;34m[\u001b[0m\u001b[0;34m'data'\u001b[0m\u001b[0;34m]\u001b[0m\u001b[0;34m[\u001b[0m\u001b[0;34m'dataloading_params'\u001b[0m\u001b[0;34m]\u001b[0m\u001b[0;34m[\u001b[0m\u001b[0;34m'district'\u001b[0m\u001b[0;34m]\u001b[0m\u001b[0;34m)\u001b[0m\u001b[0;34m\u001b[0m\u001b[0;34m\u001b[0m\u001b[0m\n\u001b[1;32m    140\u001b[0m \u001b[0;34m\u001b[0m\u001b[0m\n\u001b[0;32m--> 141\u001b[0;31m     \u001b[0msave_dict_and_create_report\u001b[0m\u001b[0;34m(\u001b[0m\u001b[0mpredictions_dict\u001b[0m\u001b[0;34m,\u001b[0m \u001b[0mconfig\u001b[0m\u001b[0;34m,\u001b[0m \u001b[0mROOT_DIR\u001b[0m\u001b[0;34m=\u001b[0m\u001b[0moutput_folder\u001b[0m\u001b[0;34m,\u001b[0m \u001b[0mconfig_filename\u001b[0m\u001b[0;34m=\u001b[0m\u001b[0mconfig_filename\u001b[0m\u001b[0;34m)\u001b[0m\u001b[0;34m\u001b[0m\u001b[0;34m\u001b[0m\u001b[0m\n\u001b[0m\u001b[1;32m    142\u001b[0m \u001b[0;34m\u001b[0m\u001b[0m\n\u001b[1;32m    143\u001b[0m     \u001b[0mdf_output\u001b[0m \u001b[0;34m=\u001b[0m \u001b[0mcreate_decile_csv_new\u001b[0m\u001b[0;34m(\u001b[0m\u001b[0mpredictions_dict\u001b[0m\u001b[0;34m)\u001b[0m\u001b[0;34m\u001b[0m\u001b[0;34m\u001b[0m\u001b[0m\n",
      "\u001b[0;32m~/Documents/WadhwaniAI/covid-modelling/utils/generic/create_report.py\u001b[0m in \u001b[0;36msave_dict_and_create_report\u001b[0;34m(predictions_dict, config_dict, ROOT_DIR, config_filename, config_ROOT_DIR)\u001b[0m\n\u001b[1;32m    216\u001b[0m \u001b[0;34m\u001b[0m\u001b[0m\n\u001b[1;32m    217\u001b[0m     \u001b[0mmdFile\u001b[0m\u001b[0;34m.\u001b[0m\u001b[0mnew_header\u001b[0m\u001b[0;34m(\u001b[0m\u001b[0mlevel\u001b[0m\u001b[0;34m=\u001b[0m\u001b[0;36m1\u001b[0m\u001b[0;34m,\u001b[0m \u001b[0mtitle\u001b[0m\u001b[0;34m=\u001b[0m\u001b[0;34mf'FITS'\u001b[0m\u001b[0;34m)\u001b[0m\u001b[0;34m\u001b[0m\u001b[0;34m\u001b[0m\u001b[0m\n\u001b[0;32m--> 218\u001b[0;31m     \u001b[0m_log_fits\u001b[0m\u001b[0;34m(\u001b[0m\u001b[0mmdFile\u001b[0m\u001b[0;34m,\u001b[0m \u001b[0mROOT_DIR\u001b[0m\u001b[0;34m,\u001b[0m \u001b[0mm0_dict\u001b[0m\u001b[0;34m,\u001b[0m \u001b[0mwhich_fit\u001b[0m\u001b[0;34m=\u001b[0m\u001b[0;34m'M0'\u001b[0m\u001b[0;34m)\u001b[0m\u001b[0;34m\u001b[0m\u001b[0;34m\u001b[0m\u001b[0m\n\u001b[0m\u001b[1;32m    219\u001b[0m     \u001b[0m_log_fits\u001b[0m\u001b[0;34m(\u001b[0m\u001b[0mmdFile\u001b[0m\u001b[0;34m,\u001b[0m \u001b[0mROOT_DIR\u001b[0m\u001b[0;34m,\u001b[0m \u001b[0mm1_dict\u001b[0m\u001b[0;34m,\u001b[0m \u001b[0mwhich_fit\u001b[0m\u001b[0;34m=\u001b[0m\u001b[0;34m'M1'\u001b[0m\u001b[0;34m)\u001b[0m\u001b[0;34m\u001b[0m\u001b[0;34m\u001b[0m\u001b[0m\n\u001b[1;32m    220\u001b[0m     \u001b[0m_log_fits\u001b[0m\u001b[0;34m(\u001b[0m\u001b[0mmdFile\u001b[0m\u001b[0;34m,\u001b[0m \u001b[0mROOT_DIR\u001b[0m\u001b[0;34m,\u001b[0m \u001b[0mm2_dict\u001b[0m\u001b[0;34m,\u001b[0m \u001b[0mwhich_fit\u001b[0m\u001b[0;34m=\u001b[0m\u001b[0;34m'M2'\u001b[0m\u001b[0;34m)\u001b[0m\u001b[0;34m\u001b[0m\u001b[0;34m\u001b[0m\u001b[0m\n",
      "\u001b[0;32m~/Documents/WadhwaniAI/covid-modelling/utils/generic/create_report.py\u001b[0m in \u001b[0;36m_log_fits\u001b[0;34m(mdFile, ROOT_DIR, fit_dict, which_fit)\u001b[0m\n\u001b[1;32m    105\u001b[0m     \u001b[0;31m#     mdFile.new_header(level=2, title=f'{which_fit} Fit Curves')\u001b[0m\u001b[0;34m\u001b[0m\u001b[0;34m\u001b[0m\u001b[0;34m\u001b[0m\u001b[0m\n\u001b[1;32m    106\u001b[0m     \u001b[0;31m#     _log_plots_util(mdFile, ROOT_DIR, f'{which_fit.lower()}-ensemble_mean.png',\u001b[0m\u001b[0;34m\u001b[0m\u001b[0;34m\u001b[0m\u001b[0;34m\u001b[0m\u001b[0m\n\u001b[0;32m--> 107\u001b[0;31m     \u001b[0;31m#                     fit_dict['plots']['forecast_ensemble_mean_best'], f'{which_fit} Ensemble Mean Curve')\u001b[0m\u001b[0;34m\u001b[0m\u001b[0;34m\u001b[0m\u001b[0;34m\u001b[0m\u001b[0m\n\u001b[0m\u001b[1;32m    108\u001b[0m \u001b[0;34m\u001b[0m\u001b[0m\n\u001b[1;32m    109\u001b[0m \u001b[0;34m\u001b[0m\u001b[0m\n",
      "\u001b[0;31mKeyError\u001b[0m: 'forecast_ensemble_mean_best'"
     ]
    }
   ],
   "source": [
    "for i, place in enumerate(place_list):\n",
    "\n",
    "    config_filename = config_list[i]\n",
    "    config = read_config(config_filename)\n",
    "\n",
    "    '''\n",
    "    # READING THE DEFAULT CONFIG FILE\n",
    "    config_filename = 'dhanbad.yaml'\n",
    "    config = read_config(config_filename)\n",
    "    \n",
    "    # UPDATING THE TARGET LOCATION\n",
    "    state, district = place\n",
    "    config['fitting']['data']['dataloading_params']['state'] = state\n",
    "    config['fitting']['data']['dataloading_params']['district'] = district\n",
    "    config['fitting']['default_params']['N'] = pop_list[i]\n",
    "    '''\n",
    "\n",
    "    state, district = place\n",
    "    config['fitting']['data']['dataloading_params']['state'] = state\n",
    "    config['fitting']['data']['dataloading_params']['district'] = district\n",
    "    config['fitting']['default_params']['N'] = pop_list[i]\n",
    "\n",
    "    print(\"RUNNING ONCALL {} FOR {} - {}\".format(i + 1, state, district))\n",
    "\n",
    "    predictions_dict = {}\n",
    "\n",
    "    output_folder = '../../misc/reports/{}_{}-{}'.format(datetime.datetime.now().strftime(\"%Y_%m%d_%H%M%S\"), state, district)\n",
    "\n",
    "    train_period, val_period, test_period = config['fitting']['split']['train_period'], config['fitting']['split']['val_period'], config['fitting']['split']['test_period']\n",
    "\n",
    "    m0_params = copy.deepcopy(config['fitting'])\n",
    "    m1_params = copy.deepcopy(config['fitting'])\n",
    "    m2_params = copy.deepcopy(config['fitting'])\n",
    "\n",
    "    m0_params['split']['val_period'] = test_period\n",
    "    m0_params['split']['test_period'] = 0\n",
    "\n",
    "    m1_params['split']['val_period'] = 0\n",
    "    m1_params['split']['test_period'] = 0\n",
    "\n",
    "    m2_params['split']['test_period'] = 0\n",
    "\n",
    "    predictions_dict['m0'] = single_fitting_cycle(**m0_params)\n",
    "    predictions_dict['m1'] = single_fitting_cycle(**m1_params) \n",
    "    predictions_dict['m2'] = single_fitting_cycle(**m2_params)\n",
    "\n",
    "    predictions_dict['fitting_date'] = datetime.datetime.now().strftime(\"%Y-%m-%d\")\n",
    "\n",
    "    predictions_dict['m0']['plots']['sensitivity'], _, _ = calculate_sensitivity_and_plot(predictions_dict, config, which_fit='m0')\n",
    "    predictions_dict['m1']['plots']['sensitivity'], _, _ = calculate_sensitivity_and_plot(predictions_dict, config, which_fit='m1')\n",
    "    predictions_dict['m2']['plots']['sensitivity'], _, _ = calculate_sensitivity_and_plot(predictions_dict, config, which_fit='m2')\n",
    "    \n",
    "    # M0 based forecasting for the next train_period + val_period\n",
    "    predictions_dict['m0']['forecasts'] = {}\n",
    "    predictions_dict['m0']['forecasts']['best'] = get_forecast(predictions_dict, train_fit='m0', \n",
    "                                                               model=config['fitting']['model'], \n",
    "                                                               days=config['forecast']['forecast_days'])\n",
    "    \n",
    "    # M1 based forecasting for the next train_period + forecast_period (no validation period)\n",
    "    predictions_dict['m1']['forecasts'] = {}\n",
    "    predictions_dict['m1']['forecasts']['best'] = get_forecast(predictions_dict, train_fit='m1', \n",
    "                                                               model=config['fitting']['model'], \n",
    "                                                               days=config['forecast']['forecast_days'])\n",
    "\n",
    "\n",
    "    # M2 based forecasting for the next train_period + val_period + forecast_period (no validation period)\n",
    "    predictions_dict['m2']['forecasts'] = {}\n",
    "    predictions_dict['m2']['forecasts']['best'] = get_forecast(predictions_dict, train_fit='m1', \n",
    "                                                               model=config['fitting']['model'], \n",
    "                                                               days=config['forecast']['forecast_days'])\n",
    "\n",
    "\n",
    "    # Predictions plotted are for the most recent train_period days + test_period + forecast_period (no validation_period)\n",
    "    predictions_dict['m1']['plots']['forecast_best'] = plot_forecast(predictions_dict,\n",
    "                (config['fitting']['data']['dataloading_params']['state'], config['fitting']['data']['dataloading_params']['district']),\n",
    "                error_bars=True)\n",
    "\n",
    "    # Predictions plotted are for the most recent train_period days + test_period + forecast_period (no validation_period)\n",
    "    predictions_dict['m2']['plots']['forecast_best'] = plot_forecast(predictions_dict,\n",
    "                (config['fitting']['data']['dataloading_params']['state'], config['fitting']['data']['dataloading_params']['district']), which_fit = 'm2',\n",
    "                error_bars=True)\n",
    "\n",
    "\n",
    "    predictions_dict['m1']['trials_processed'] = forecast_all_trials(predictions_dict, train_fit='m1', \n",
    "                                                                 model=config['fitting']['model'], \n",
    "                                                                 forecast_days=config['forecast']['forecast_days'])\n",
    "\n",
    "\n",
    "    predictions_dict['m2']['trials_processed'] = forecast_all_trials(predictions_dict, train_fit='m2', \n",
    "                                                                 model=config['fitting']['model'], \n",
    "                                                                 forecast_days=config['forecast']['forecast_days'])\n",
    "\n",
    "    kforecasts = plot_top_k_trials(predictions_dict, train_fit='m1',\n",
    "                               k=config['forecast']['num_trials_to_plot'],\n",
    "                               which_compartments=config['forecast']['plot_topk_trials_for_columns'])\n",
    "\n",
    "\n",
    "    predictions_dict['m1']['plots']['forecasts_topk'] = {}\n",
    "    for column in config['forecast']['plot_topk_trials_for_columns']:\n",
    "        predictions_dict['m1']['plots']['forecasts_topk'][column.name] = kforecasts[column]\n",
    "\n",
    "\n",
    "    uncertainty_args = {'predictions_dict': predictions_dict, **config['uncertainty']['uncertainty_params']}\n",
    "    uncertainty = config['uncertainty']['method'](**uncertainty_args)\n",
    "\n",
    "    uncertainty_forecasts = uncertainty.get_forecasts()\n",
    "    for key in uncertainty_forecasts.keys():\n",
    "        predictions_dict['m2']['forecasts'][key] = uncertainty_forecasts[key]['df_prediction']\n",
    "    \n",
    "    predictions_dict['m2']['forecasts']['ensemble_mean'] = uncertainty.ensemble_mean_forecast\n",
    "\n",
    "    predictions_dict['m2']['beta'] = uncertainty.beta\n",
    "    predictions_dict['m2']['beta_loss'] = uncertainty.beta_loss\n",
    "    predictions_dict['m2']['deciles'] = uncertainty_forecasts\n",
    "    \n",
    "    predictions_dict['m2']['plots']['forecast_best_50'] = plot_forecast(predictions_dict, \n",
    "                                                                        (config['fitting']['data']['dataloading_params']['state'], \n",
    "                                                                         config['fitting']['data']['dataloading_params']['district']),\n",
    "                                                                         fits_to_plot=['best', 50], error_bars=False)\n",
    "    predictions_dict['m2']['plots']['forecast_best_80'] = plot_forecast(predictions_dict, \n",
    "                                                                        (config['fitting']['data']['dataloading_params']['state'], \n",
    "                                                                         config['fitting']['data']['dataloading_params']['district']),\n",
    "                                                                         fits_to_plot=['best', 80], error_bars=False)\n",
    "    predictions_dict['m2']['plots']['forecast_ensemble_mean_50'] = plot_forecast(predictions_dict, \n",
    "                                                                                 (config['fitting']['data']['dataloading_params']['state'], \n",
    "                                                                                  config['fitting']['data']['dataloading_params']['district']),\n",
    "                                                                                  fits_to_plot=['ensemble_mean', 50], error_bars=False)\n",
    "\n",
    "    ptiles_plots = plot_ptiles(predictions_dict, which_compartments=config['forecast']['plot_ptiles_for_columns'])\n",
    "    predictions_dict['m2']['plots']['forecasts_ptiles'] = {}\n",
    "    for column in config['forecast']['plot_ptiles_for_columns']:\n",
    "        predictions_dict['m2']['plots']['forecasts_ptiles'][column.name] = ptiles_plots[column]\n",
    "    \n",
    "    \n",
    "    r0_mul_params= predictions_dict['m2']['deciles'][config['what_ifs']['percentile']]['params']\n",
    "    \n",
    "    predictions_dict['m2']['r0_mul_dict'] = predict_r0_multipliers(predictions_dict, r0_mul_params, model=config['fitting']['model'], days=config['forecast']['forecast_days'], multipliers=config['what_ifs']['multipliers'])\n",
    "    \n",
    "    predictions_dict['m2']['plots']['r0_mul_dict'] = plot_r0_multipliers(predictions_dict, None, predictions_dict['m2']['r0_mul_dict'], None, config['fitting']['data']['dataloading_params']['state'], config['fitting']['data']['dataloading_params']['district'])\n",
    "\n",
    "    save_dict_and_create_report(predictions_dict, config, ROOT_DIR=output_folder, config_filename=config_filename)\n",
    "\n",
    "    df_output = create_decile_csv_new(predictions_dict)\n",
    "    df_output.to_csv(f'{output_folder}/deciles.csv')\n",
    "\n",
    "    df_all = create_all_trials_csv(predictions_dict)\n",
    "    df_all.to_csv(f'{output_folder}/all_trials.csv')\n",
    "\n",
    "    save_r0_mul(predictions_dict['m2']['r0_mul_dict'], output_folder)\n",
    "\n",
    "    predictions_dict['m1']['df_district'].to_csv(f'{output_folder}/df_district.csv')\n",
    "\n",
    "    print('DONE WITH ONCALL {}'.format(i + 1)) \n",
    "    break"
   ]
  },
  {
   "cell_type": "code",
   "execution_count": null,
   "metadata": {},
   "outputs": [],
   "source": []
  }
 ]
}