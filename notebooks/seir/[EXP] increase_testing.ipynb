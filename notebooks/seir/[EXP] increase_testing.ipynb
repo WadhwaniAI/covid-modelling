{
 "cells": [
  {
   "cell_type": "code",
   "execution_count": null,
   "metadata": {},
   "outputs": [],
   "source": [
    "%load_ext autoreload\n",
    "%autoreload 2"
   ]
  },
  {
   "cell_type": "code",
   "execution_count": null,
   "metadata": {},
   "outputs": [],
   "source": [
    "import numpy as np\n",
    "import pandas as pd\n",
    "import matplotlib.pyplot as plt\n",
    "import datetime\n",
    "import copy\n",
    "import time\n",
    "import os\n",
    "\n",
    "import sys\n",
    "sys.path.append('../../')\n",
    "\n",
    "from data.processing import get_data\n",
    "\n",
    "import models\n",
    "import random\n",
    "\n",
    "from main.seir.fitting import single_fitting_cycle\n",
    "from main.seir.forecast import get_forecast, forecast_all_trials, create_all_trials_csv, create_decile_csv_new, forecast_top_k_trials\n",
    "from main.seir.sensitivity import calculate_sensitivity_and_plot\n",
    "import main.seir.uncertainty as uncertainty_module\n",
    "from utils.generic.create_report import save_dict_and_create_report_simple\n",
    "from utils.generic.config import read_config\n",
    "from utils.generic.enums import Columns\n",
    "from utils.fitting.loss import Loss_Calculator\n",
    "from utils.generic.logging import log_wandb\n",
    "from viz import plot_forecast, plot_top_k_trials, plot_ptiles\n",
    "\n",
    "import yaml"
   ]
  },
  {
   "cell_type": "code",
   "execution_count": null,
   "metadata": {},
   "outputs": [],
   "source": [
    "config_path = 'experiments' \n",
    "config_filenames = ['undetected_testing.yaml', 'undetected.yaml', 'seirhd.yaml']"
   ]
  },
  {
   "cell_type": "code",
   "execution_count": null,
   "metadata": {},
   "outputs": [],
   "source": [
    "predictions = []\n",
    "losses = []\n",
    "for config_filename in config_filenames:\n",
    "    print (config_filename)\n",
    "    config = read_config(os.path.join(config_path, config_filename))\n",
    "    predictions_dict = {}\n",
    "    predictions_dict['m1'] = single_fitting_cycle(**copy.deepcopy(config['fitting'])) \n",
    "    predictions.append(predictions_dict)\n",
    "    losses.append(predictions_dict['m1']['df_loss'])"
   ]
  },
  {
   "cell_type": "code",
   "execution_count": null,
   "metadata": {},
   "outputs": [],
   "source": [
    "pd.concat(losses, axis=1, keys=['undetected_testing', 'undetected', 'seirhd'])"
   ]
  },
  {
   "cell_type": "code",
   "execution_count": null,
   "metadata": {},
   "outputs": [],
   "source": []
  }
 ],
 "metadata": {
  "kernelspec": {
   "display_name": "Python 3.8.5 64-bit ('covid_modelling': conda)",
   "metadata": {
    "interpreter": {
     "hash": "8d4520c4ae250cc42f52066aee3414cc1b6850f2df392ef0f675cfc8e593b997"
    }
   },
   "name": "Python 3.8.5 64-bit ('covid_modelling': conda)"
  },
  "language_info": {
   "codemirror_mode": {
    "name": "ipython",
    "version": 3
   },
   "file_extension": ".py",
   "mimetype": "text/x-python",
   "name": "python",
   "nbconvert_exporter": "python",
   "pygments_lexer": "ipython3"
  }
 },
 "nbformat": 4,
 "nbformat_minor": 2
}
