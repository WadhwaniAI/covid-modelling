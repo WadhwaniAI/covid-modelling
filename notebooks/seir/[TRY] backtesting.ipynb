{
 "cells": [
  {
   "cell_type": "code",
   "execution_count": null,
   "metadata": {},
   "outputs": [],
   "source": [
    "%load_ext autoreload\n",
    "%autoreload 2"
   ]
  },
  {
   "cell_type": "code",
   "execution_count": null,
   "metadata": {},
   "outputs": [],
   "source": [
    "import numpy as np\n",
    "import pandas as pd\n",
    "import matplotlib.pyplot as plt\n",
    "\n",
    "import datetime\n",
    "import copy\n",
    "import json\n",
    "from glob import glob\n",
    "import time\n",
    "import os\n",
    "from os.path import join\n",
    "import pickle as pkl\n",
    "\n",
    "import sys\n",
    "sys.path.append('../../')\n",
    "\n",
    "from data.processing import get_data\n",
    "\n",
    "from utils.fitting.loss import Loss_Calculator\n",
    "from viz import plot_backtest_seir"
   ]
  },
  {
   "cell_type": "markdown",
   "metadata": {},
   "source": [
    "# Jul"
   ]
  },
  {
   "cell_type": "code",
   "execution_count": null,
   "metadata": {},
   "outputs": [],
   "source": [
    "output_folder = '../../misc/reports/{}'.format(\"1594480618.481472\")"
   ]
  },
  {
   "cell_type": "code",
   "execution_count": null,
   "metadata": {},
   "outputs": [],
   "source": [
    "filename = '../../misc/reports/1594480618.481472/output-1594480618.481472.csv'"
   ]
  },
  {
   "cell_type": "code",
   "execution_count": null,
   "metadata": {},
   "outputs": [],
   "source": [
    "df = pd.read_csv(filename)\n",
    "cols_to_delete = [x for x in df.columns if ('max' in x) or ('min' in x)]\n",
    "df = df.drop(cols_to_delete, axis=1)\n",
    "df = df.drop(['current_active', 'current_icu', 'current_ventilator', 'icu_mean', 'hospitalized_mean'], axis=1)\n",
    "df.rename({'current_hospitalized':'current_active'}, axis=1, inplace=True)\n",
    "df.columns = [x if 'current' not in x else x.replace('current', 'true') for x in df.columns]\n",
    "df.columns = [x if 'mean' not in x else 'pred_'+x.replace('_mean', '') for x in df.columns]\n",
    "df.columns"
   ]
  },
  {
   "cell_type": "code",
   "execution_count": null,
   "metadata": {},
   "outputs": [],
   "source": [
    "df_decile = df[df['which_forecast'] == '80.0']\n",
    "df_decile"
   ]
  },
  {
   "cell_type": "markdown",
   "metadata": {},
   "source": [
    "# Aug"
   ]
  },
  {
   "cell_type": "code",
   "execution_count": null,
   "metadata": {},
   "outputs": [],
   "source": [
    "filename = '../../misc/oncall/08_2020_aug/nayana'"
   ]
  },
  {
   "cell_type": "code",
   "execution_count": null,
   "metadata": {},
   "outputs": [],
   "source": [
    "df = pd.read_csv(glob(f'{filename}/*')[0])"
   ]
  },
  {
   "cell_type": "code",
   "execution_count": null,
   "metadata": {},
   "outputs": [],
   "source": [
    "df['Date'x]"
   ]
  },
  {
   "cell_type": "markdown",
   "metadata": {},
   "source": [
    "# Sept"
   ]
  },
  {
   "cell_type": "code",
   "execution_count": null,
   "metadata": {},
   "outputs": [],
   "source": [
    "with open(join(output_folder, 'predictions_dict.pkl'), 'rb') as f:\n",
    "    predictions_dict = pkl.load(f)"
   ]
  },
  {
   "cell_type": "code",
   "execution_count": null,
   "metadata": {},
   "outputs": [],
   "source": []
  },
  {
   "cell_type": "code",
   "execution_count": null,
   "metadata": {},
   "outputs": [],
   "source": [
    "fig = plot_backtest_seir(predictions_dict, df_true, which_forecast=50, truncate_pretrain_data=True, separate_compartments=False)"
   ]
  },
  {
   "cell_type": "code",
   "execution_count": null,
   "metadata": {},
   "outputs": [],
   "source": [
    "fig = plot_backtest_seir(predictions_dict, df_true, which_forecast=50, truncate_pretrain_data=True, separate_compartments=True)"
   ]
  },
  {
   "cell_type": "code",
   "execution_count": null,
   "metadata": {},
   "outputs": [],
   "source": [
    "lc = Loss_Calculator()\n",
    "forecast_errors_dict = {}\n",
    "df_train = predictions_dict['m2']['df_train']\n",
    "\n",
    "for key, df_prediction in predictions_dict['m2']['forecasts'].items():\n",
    "    if key in ['best', 50, 80]:\n",
    "        df_prediction = copy.copy(df_prediction.loc[(df_prediction['date'] > df_train.iloc[-1, :]['date']) & \n",
    "                                                    (df_prediction['date'] <= df_true.iloc[-1, :]['date'])])\n",
    "        df_true = df_true.loc[df_true['date'] > df_train.iloc[-1, :]['date']]\n",
    "        df_prediction.reset_index(inplace=True, drop=True)\n",
    "        df_true.reset_index(inplace=True, drop=True)\n",
    "        ld = lc.calc_loss_dict(df_prediction, df_true, method='mape')\n",
    "        ld = {key : round(value, 2) for key, value in ld.items()}\n",
    "        forecast_errors_dict[key] = ld"
   ]
  },
  {
   "cell_type": "code",
   "execution_count": null,
   "metadata": {},
   "outputs": [],
   "source": [
    "pd.DataFrame.from_dict(forecast_errors_dict)"
   ]
  },
  {
   "cell_type": "code",
   "execution_count": null,
   "metadata": {},
   "outputs": [],
   "source": [
    "lc = Loss_Calculator()\n",
    "forecast_errors_dict = {}\n",
    "df_train = predictions_dict['m2']['df_train']\n",
    "\n",
    "for key, df_prediction in predictions_dict['m2']['forecasts'].items():\n",
    "    if key in [80]:\n",
    "        df_prediction = copy.copy(df_prediction.loc[(df_prediction['date'] > df_train.iloc[-1, :]['date']) & \n",
    "                                                    (df_prediction['date'] <= df_true.iloc[-1, :]['date'])])\n",
    "        df_true = copy.copy(df_true.loc[df_true['date'] > df_train.iloc[-1, :]['date']])\n",
    "        df_prediction.reset_index(inplace=True, drop=True)\n",
    "        df_true.reset_index(inplace=True, drop=True)\n",
    "        week_indices = np.concatenate((np.arange(0, len(df_true), 7), [len(df_true)]))\n",
    "        for i in range(len(week_indices)-1):\n",
    "            df_prediction_slice = df_prediction.loc[week_indices[i]:week_indices[i+1]-1, :]\n",
    "            df_true_slice = df_true.loc[week_indices[i]:week_indices[i+1]-1, :]\n",
    "        \n",
    "            ld = lc.calc_loss_dict(df_prediction_slice, df_true_slice, method='mape')\n",
    "            \n",
    "            ld = {key : round(value, 2) for key, value in ld.items()}\n",
    "            forecast_errors_dict[f'week {i+1}'] = ld\n",
    "            \n",
    "        ld = lc.calc_loss_dict(df_prediction, df_true, method='mape')\n",
    "            \n",
    "        ld = {key : round(value, 2) for key, value in ld.items()}\n",
    "        forecast_errors_dict['total'] = ld"
   ]
  },
  {
   "cell_type": "code",
   "execution_count": null,
   "metadata": {},
   "outputs": [],
   "source": [
    "df = pd.DataFrame.from_dict(forecast_errors_dict)\n",
    "df.index = ['active', 'recovered', 'deceased', 'total']\n",
    "df"
   ]
  },
  {
   "cell_type": "code",
   "execution_count": null,
   "metadata": {},
   "outputs": [],
   "source": [
    "predictions_dict['m2']['forecasts'][80]"
   ]
  },
  {
   "cell_type": "code",
   "execution_count": null,
   "metadata": {},
   "outputs": [],
   "source": []
  }
 ],
 "metadata": {
  "kernelspec": {
   "display_name": "Python 3",
   "language": "python",
   "name": "python3"
  },
  "language_info": {
   "codemirror_mode": {
    "name": "ipython",
    "version": 3
   },
   "file_extension": ".py",
   "mimetype": "text/x-python",
   "name": "python",
   "nbconvert_exporter": "python",
   "pygments_lexer": "ipython3"
  }
 },
 "nbformat": 4,
 "nbformat_minor": 4
}
