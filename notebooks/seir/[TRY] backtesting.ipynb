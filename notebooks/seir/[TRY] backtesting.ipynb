{
 "cells": [
  {
   "cell_type": "code",
   "execution_count": null,
   "metadata": {},
   "outputs": [],
   "source": [
    "%load_ext autoreload\n",
    "%autoreload 2"
   ]
  },
  {
   "cell_type": "code",
   "execution_count": null,
   "metadata": {},
   "outputs": [],
   "source": [
    "import numpy as np\n",
    "import pandas as pd\n",
    "import matplotlib.pyplot as plt\n",
    "\n",
    "import datetime\n",
    "import copy\n",
    "import json\n",
    "import time\n",
    "import os\n",
    "from os.path import join\n",
    "import pickle as pkl\n",
    "\n",
    "import sys\n",
    "sys.path.append('../../')\n",
    "\n",
    "from data.processing import get_data\n",
    "from data.processing import get_dataframes_cached\n",
    "\n",
    "from models.seir import SEIR_Testing, SEIRHD, SEIR_Movement, SEIR_Movement_Testing\n",
    "\n",
    "from main.seir.fitting import single_fitting_cycle, get_variable_param_ranges\n",
    "from main.seir.sensitivity import calculate_sensitivity_and_plot\n",
    "from main.seir.forecast import get_forecast, forecast_all_trials, trials_to_df, scale_up_testing_and_forecast\n",
    "from main.seir.forecast import create_all_csvs, create_decile_csv, create_region_csv, write_csv\n",
    "from main.seir.uncertainty import MCUncertainty\n",
    "from utils.create_report import create_report\n",
    "from utils.enums import Columns\n",
    "from utils.loss import Loss_Calculator\n",
    "from viz import plot_forecast, plot_top_k_trials, plot_ptiles\n",
    "from utils.enums.columns import *"
   ]
  },
  {
   "cell_type": "code",
   "execution_count": null,
   "metadata": {},
   "outputs": [],
   "source": [
    "state, dist = ('Maharashtra', 'Mumbai')"
   ]
  },
  {
   "cell_type": "code",
   "execution_count": null,
   "metadata": {},
   "outputs": [],
   "source": [
    "output_folder = '../../reports/{}'.format(\"1594480618.481472\")"
   ]
  },
  {
   "cell_type": "code",
   "execution_count": null,
   "metadata": {},
   "outputs": [],
   "source": [
    "with open(join(output_folder, 'predictions_dict.pkl'), 'rb') as f:\n",
    "    predictions_dict = pkl.load(f)"
   ]
  },
  {
   "cell_type": "code",
   "execution_count": null,
   "metadata": {},
   "outputs": [],
   "source": [
    "predictions_dict['m2']['forecasts'].keys()"
   ]
  },
  {
   "cell_type": "code",
   "execution_count": null,
   "metadata": {},
   "outputs": [],
   "source": [
    "df_true = get_data(state=state, district=dist, disable_tracker=False, use_dataframe='data_all', filename=None)"
   ]
  },
  {
   "cell_type": "code",
   "execution_count": null,
   "metadata": {},
   "outputs": [],
   "source": [
    "df_true"
   ]
  },
  {
   "cell_type": "code",
   "execution_count": null,
   "metadata": {},
   "outputs": [],
   "source": [
    "from viz import axis_formatter"
   ]
  },
  {
   "cell_type": "code",
   "execution_count": null,
   "metadata": {},
   "outputs": [],
   "source": [
    "predictions_dict['m2']['df_district']"
   ]
  },
  {
   "cell_type": "code",
   "execution_count": null,
   "metadata": {},
   "outputs": [],
   "source": [
    "predictions_dict['m2']['forecasts'][80]"
   ]
  },
  {
   "cell_type": "code",
   "execution_count": null,
   "metadata": {},
   "outputs": [],
   "source": [
    "fig, ax = plt.subplots(figsize=(12, 12))\n",
    "\n",
    "df_true_plotting = df_true\n",
    "df_predicted_plotting = predictions_dict['m2']['forecasts'][80]\n",
    "df_train = predictions_dict['m2']['df_train']\n",
    "df_val = predictions_dict['m2']['df_val']\n",
    "\n",
    "train_period = predictions_dict['m2']['run_params']['train_period']\n",
    "\n",
    "for compartment in compartments['base']:\n",
    "    ax.plot(df_true_plotting[compartments['date'][0].name].to_numpy(), \n",
    "            df_true_plotting[compartment.name].to_numpy(),\n",
    "            '-o', color=compartment.color, label='{} (Observed)'.format(compartment.label))\n",
    "    ax.plot(df_predicted_plotting[compartments['date'][0].name].to_numpy(), \n",
    "            df_predicted_plotting[compartment.name].to_numpy(),\n",
    "            '-.', color=compartment.color, label='{} (Predicted)'.format(compartment.label))\n",
    "\n",
    "ax.axvline(x=df_train.iloc[-train_period, :]['date'], ls=':', color='brown', label='Train starts')\n",
    "ax.axvline(x=df_train.iloc[-1, :]['date'], ls=':', color='black', label='Last data point seen by model')\n",
    "\n",
    "axis_formatter(ax, None, custom_legend=False)\n",
    "fig.suptitle('Predictions of 80th Percentile vs Ground Truth (Unseen Data)')\n",
    "plt.tight_layout()"
   ]
  },
  {
   "cell_type": "code",
   "execution_count": null,
   "metadata": {},
   "outputs": [],
   "source": [
    "df_true_plotting = df_true\n",
    "df_predicted_plotting = predictions_dict['m2']['forecasts'][80]\n",
    "df_train = predictions_dict['m2']['df_train']\n",
    "df_val = predictions_dict['m2']['df_val']\n",
    "\n",
    "train_period = predictions_dict['m2']['run_params']['train_period']\n",
    "\n",
    "fig, axs = plt.subplots(figsize=(18, 12), nrows=2, ncols=2)\n",
    "for i, ax in enumerate(axs.flat):\n",
    "    compartment = compartments['base'][i]\n",
    "    ax.plot(df_true_plotting[compartments['date'][0].name].to_numpy(), \n",
    "            df_true_plotting[compartment.name].to_numpy(),\n",
    "            '-o', color=compartment.color, label='{} (Observed)'.format(compartment.label))\n",
    "    ax.plot(df_predicted_plotting[compartments['date'][0].name].to_numpy(), \n",
    "            df_predicted_plotting[compartment.name].to_numpy(),\n",
    "            '-.', color=compartment.color, label='{} (Predicted)'.format(compartment.label))\n",
    "\n",
    "    ax.axvline(x=df_train.iloc[-train_period, :]['date'], ls=':', color='brown', label='Train starts')\n",
    "    ax.axvline(x=df_train.iloc[-1, :]['date'], ls=':', color='black', label='Last data point seen by model')\n",
    "\n",
    "    axis_formatter(ax, None, custom_legend=False)\n",
    "\n",
    "fig.suptitle('Predictions of 80th Percentile vs Ground Truth')\n",
    "# plt.tight_layout()"
   ]
  },
  {
   "cell_type": "code",
   "execution_count": null,
   "metadata": {},
   "outputs": [],
   "source": [
    "df_train"
   ]
  },
  {
   "cell_type": "code",
   "execution_count": null,
   "metadata": {},
   "outputs": [],
   "source": [
    "lc = Loss_Calculator()\n",
    "forecast_errors_dict = {}\n",
    "\n",
    "for key, df_prediction in predictions_dict['m2']['forecasts'].items():\n",
    "    if key in ['best', 50, 80]:\n",
    "        df_prediction = df_prediction.loc[(df_prediction['date'] > df_train.iloc[-1, :]['date']) & \n",
    "                                          (df_prediction['date'] <= df_true.iloc[-1, :]['date'])]\n",
    "        df_true = df_true.loc[df_true['date'] > df_train.iloc[-1, :]['date']]\n",
    "        df_prediction.reset_index(inplace=True, drop=True)\n",
    "        df_true.reset_index(inplace=True, drop=True)\n",
    "        ld = lc.calc_loss_dict(df_prediction, df_true, method='mape')\n",
    "        ld = {key : round(value, 2) for key, value in ld.items()}\n",
    "        forecast_errors_dict[key] = ld"
   ]
  },
  {
   "cell_type": "code",
   "execution_count": null,
   "metadata": {},
   "outputs": [],
   "source": [
    "pd.DataFrame.from_dict(forecast_errors_dict)"
   ]
  },
  {
   "cell_type": "code",
   "execution_count": null,
   "metadata": {},
   "outputs": [],
   "source": []
  }
 ],
 "metadata": {
  "kernelspec": {
   "display_name": "Python 3",
   "language": "python",
   "name": "python3"
  },
  "language_info": {
   "codemirror_mode": {
    "name": "ipython",
    "version": 3
   },
   "file_extension": ".py",
   "mimetype": "text/x-python",
   "name": "python",
   "nbconvert_exporter": "python",
   "pygments_lexer": "ipython3"
  }
 },
 "nbformat": 4,
 "nbformat_minor": 4
}
