{
 "cells": [
  {
   "cell_type": "code",
   "execution_count": null,
   "metadata": {},
   "outputs": [],
   "source": [
    "%load_ext autoreload\n",
    "%autoreload 2"
   ]
  },
  {
   "cell_type": "code",
   "execution_count": null,
   "metadata": {},
   "outputs": [],
   "source": [
    "import numpy as np\n",
    "import pandas as pd\n",
    "import matplotlib.pyplot as plt\n",
    "import matplotlib.dates as mdates\n",
    "import seaborn as sns\n",
    "from hyperopt import hp, tpe, fmin, Trials\n",
    "from tqdm import tqdm\n",
    "# from tqdm.notebook import tqdm\n",
    "\n",
    "from collections import OrderedDict, defaultdict\n",
    "import itertools\n",
    "from functools import partial\n",
    "import datetime\n",
    "from joblib import Parallel, delayed\n",
    "import copy\n",
    "import json\n",
    "\n",
    "import sys; sys.path.append('../../')\n",
    "\n",
    "from data.dataloader import get_jhu_data, get_covid19india_api_data, get_rootnet_api_data\n",
    "from data.processing import get_data, get_district_time_series\n",
    "from models.ihme.dataloader import get_dataframes_cached\n",
    "\n",
    "from models.seir.seir_testing import SEIR_Testing\n",
    "from main.seir.optimiser import Optimiser\n",
    "from utlis.loss import Loss_Calculator\n",
    "from main.seir.fitting import single_fitting_cycle, train_val_split, calculate_loss\n",
    "from main.seir.forecast import create_region_csv, create_all_csvs, write_csv, plot_forecast, get_forecast"
   ]
  },
  {
   "cell_type": "markdown",
   "metadata": {},
   "source": [
    "## Comparison of E/Hosp and I/Hosp ratios"
   ]
  },
  {
   "cell_type": "code",
   "execution_count": null,
   "metadata": {
    "jupyter": {
     "outputs_hidden": true,
     "source_hidden": true
    }
   },
   "outputs": [],
   "source": [
    "# for district in predictions_dict.keys():\n",
    "#     district_dict = predictions_dict[district]\n",
    "    \n",
    "#     fig, ax = plt.subplots(figsize=(12, 12))\n",
    "#     ax.plot(district_dict['m1']['df_prediction']['date'], district_dict['m1']['df_prediction']['E'] / district_dict['m1']['df_prediction']['hospitalised'],\n",
    "#             '-', color='C0', label='E / Hosp (M1)')\n",
    "#     ax.plot(district_dict['m1']['df_prediction']['date'], district_dict['m1']['df_prediction']['I'] / district_dict['m1']['df_prediction']['hospitalised'],\n",
    "#             '-.', color='C0', label='I / Hosp (M1)')\n",
    "#     ax.xaxis.set_major_locator(mdates.DayLocator(interval=7))\n",
    "#     ax.xaxis.set_minor_locator(mdates.DayLocator(interval=1))\n",
    "#     ax.xaxis.set_major_formatter(mdates.DateFormatter('%Y-%m-%d'))\n",
    "#     plt.ylabel('No of People')\n",
    "#     plt.xlabel('Time')\n",
    "#     plt.legend()\n",
    "#     plt.title('I/Hosp and E/Hosp ratio for {}, {}'.format(district[0], district[1]))\n",
    "#     plt.grid()\n",
    "#     plt.show()"
   ]
  },
  {
   "cell_type": "markdown",
   "metadata": {},
   "source": [
    "## Load Covid19india Data"
   ]
  },
  {
   "cell_type": "code",
   "execution_count": null,
   "metadata": {},
   "outputs": [],
   "source": [
    "# dataframes = get_covid19india_api_data()\n",
    "dataframes = get_dataframes_cached()"
   ]
  },
  {
   "cell_type": "code",
   "execution_count": null,
   "metadata": {},
   "outputs": [],
   "source": [
    "predictions_dict = {}"
   ]
  },
  {
   "cell_type": "markdown",
   "metadata": {},
   "source": [
    "## Select Districts to fit on"
   ]
  },
  {
   "cell_type": "code",
   "execution_count": null,
   "metadata": {},
   "outputs": [],
   "source": [
    "# districts_to_show = [('Maharashtra', 'Pune'), \n",
    "#                      ('Maharashtra', 'Mumbai'), \n",
    "#                      ('Rajasthan', 'Jaipur'), \n",
    "#                      ('Gujarat', 'Ahmedabad'), \n",
    "#                      ('Karnataka', 'Bengaluru Urban'),\n",
    "#                      ('Delhi', None)]\n",
    "\n",
    "districts_to_show = [('Maharashtra', 'Pune')]\n",
    "#districts_to_show = [('Maharashtra', 'Mumbai')]"
   ]
  },
  {
   "cell_type": "markdown",
   "metadata": {},
   "source": [
    "## Perform M1 and M2 fits"
   ]
  },
  {
   "cell_type": "code",
   "execution_count": null,
   "metadata": {
    "jupyter": {
     "outputs_hidden": true
    }
   },
   "outputs": [],
   "source": [
    "# for state, district in districts_to_show:\n",
    "#    predictions_dict[(state, district)] = {}\n",
    "#    predictions_dict[(state, district)]['m1'] = single_fitting_cycle(\n",
    "#        dataframes, state, district, train_period=7, val_period=7, \n",
    "#        data_from_tracker=True, initialisation='intermediate',\n",
    "#        which_compartments=['hospitalised', 'total_infected', 'deceased', 'recovered'])\n",
    "#    predictions_dict[(state, district)]['m2'] = single_fitting_cycle(\n",
    "#        dataframes, state, district, train_period=7, val_period=0, \n",
    "#        data_from_tracker=True, initialisation='intermediate',\n",
    "#        which_compartments=['hospitalised', 'total_infected', 'deceased', 'recovered'])"
   ]
  },
  {
   "cell_type": "code",
   "execution_count": null,
   "metadata": {
    "scrolled": false
   },
   "outputs": [],
   "source": [
    "sns.set_style(\"dark\")\n",
    "for state, district in districts_to_show:\n",
    "    predictions_dict[(state, district)] = {}\n",
    "    predictions_dict[(state, district)]['m1'] = single_fitting_cycle(\n",
    "        dataframes, state, district, train_period=7, val_period=7, \n",
    "        data_from_tracker=False, \n",
    "        # filename='../../data/data/official-pune-25-05-20.csv', \n",
    "        # filename='../../data/data/official-mumbai-27-05-20.csv', \n",
    "        initialisation='intermediate',\n",
    "        which_compartments=['hospitalised', 'total_infected', 'deceased', 'recovered'])\n",
    "    predictions_dict[(state, district)]['m2'] = single_fitting_cycle(\n",
    "        dataframes, state, district, train_period=7, \n",
    "        val_period=0, \n",
    "        data_from_tracker=False, \n",
    "        # filename='../../data/data/official-pune-25-05-20.csv', \n",
    "        # filename='../../data/data/official-mumbai-27-05-20.csv', \n",
    "        initialisation='intermediate',\n",
    "        which_compartments=['hospitalised', 'total_infected', 'deceased', 'recovered'])"
   ]
  },
  {
   "cell_type": "markdown",
   "metadata": {},
   "source": [
    "## Create Master Loss Dataframe"
   ]
  },
  {
   "cell_type": "markdown",
   "metadata": {},
   "source": [
    "### M1 Loss"
   ]
  },
  {
   "cell_type": "code",
   "execution_count": null,
   "metadata": {},
   "outputs": [],
   "source": [
    "predictions_dict.keys()"
   ]
  },
  {
   "cell_type": "code",
   "execution_count": null,
   "metadata": {},
   "outputs": [],
   "source": [
    "predictions_dict[districts_to_show[0]]['m2']['df_district']"
   ]
  },
  {
   "cell_type": "code",
   "execution_count": null,
   "metadata": {},
   "outputs": [],
   "source": [
    "starting_key = list(predictions_dict.keys())[0]\n",
    "\n",
    "loss_columns = pd.MultiIndex.from_product([predictions_dict[starting_key]['m1']['df_loss'].columns, predictions_dict[starting_key]['m1']['df_loss'].index])\n",
    "loss_index = predictions_dict.keys()\n",
    "\n",
    "df_loss_master = pd.DataFrame(columns=loss_columns, index=loss_index)\n",
    "for key in districts_to_show:\n",
    "    df_loss_master.loc[key, :] = np.around(predictions_dict[key]['m1']['df_loss'].values.T.flatten().astype('float'), decimals=2)\n",
    "    \n",
    "df_loss_master"
   ]
  },
  {
   "cell_type": "code",
   "execution_count": null,
   "metadata": {},
   "outputs": [],
   "source": []
  },
  {
   "cell_type": "markdown",
   "metadata": {},
   "source": [
    "### M2 Loss"
   ]
  },
  {
   "cell_type": "code",
   "execution_count": null,
   "metadata": {},
   "outputs": [],
   "source": [
    "#predictions_dict[('Maharashtra','Pune')]['m2']\n",
    "predictions_dict[districts_to_show[0]]['m2']"
   ]
  },
  {
   "cell_type": "code",
   "execution_count": null,
   "metadata": {},
   "outputs": [],
   "source": [
    "starting_key = list(predictions_dict.keys())[0]\n",
    "\n",
    "loss_columns = pd.MultiIndex.from_product([predictions_dict[starting_key]['m2']['df_loss'].columns, predictions_dict[starting_key]['m2']['df_loss'].index])\n",
    "loss_index = predictions_dict.keys()\n",
    "\n",
    "df_loss_master = pd.DataFrame(columns=loss_columns, index=loss_index)\n",
    "for key in predictions_dict.keys():\n",
    "    df_loss_master.loc[key, :] = np.around(predictions_dict[key]['m2']['df_loss'].values.T.flatten().astype('float'), decimals=2)\n",
    "    \n",
    "df_loss_master"
   ]
  },
  {
   "cell_type": "markdown",
   "metadata": {},
   "source": [
    "## Plot Forecasts"
   ]
  },
  {
   "cell_type": "code",
   "execution_count": null,
   "metadata": {},
   "outputs": [],
   "source": [
    "for region in predictions_dict.keys():\n",
    "    plot_forecast(predictions_dict[region], region, both_forecasts=False, error_bars=True)"
   ]
  },
  {
   "cell_type": "markdown",
   "metadata": {},
   "source": [
    "## Create and Save Output CSV"
   ]
  },
  {
   "cell_type": "code",
   "execution_count": null,
   "metadata": {},
   "outputs": [],
   "source": [
    "df_output = create_all_csvs(predictions_dict, initialisation='intermediate', train_period=7, icu_fraction=0.02)"
   ]
  },
  {
   "cell_type": "code",
   "execution_count": null,
   "metadata": {},
   "outputs": [],
   "source": [
    "write_csv(df_output, '../../output-pune-{}.csv'.format(datetime.datetime.now().strftime(\"%Y%m%d-%H%M%S\")))"
   ]
  },
  {
   "cell_type": "code",
   "execution_count": null,
   "metadata": {},
   "outputs": [],
   "source": [
    "losses_array = np.array([trial['result']['loss'] for trial in predictions_dict[(state, district)]['m2']['trials']])\n",
    "least_losses_indices = np.argsort(losses_array)\n",
    "np.sort(losses_array)"
   ]
  },
  {
   "cell_type": "code",
   "execution_count": null,
   "metadata": {},
   "outputs": [],
   "source": [
    "params_array = []\n",
    "for trial in predictions_dict[(state, district)]['m2']['trials']:\n",
    "    params_dict = copy.copy(trial['misc']['vals'])\n",
    "    for key in params_dict.keys():\n",
    "        params_dict[key] = params_dict[key][0]\n",
    "    params_array.append(params_dict)\n",
    "\n",
    "params_array = np.array(params_array)"
   ]
  },
  {
   "cell_type": "code",
   "execution_count": null,
   "metadata": {},
   "outputs": [],
   "source": [
    "least_losses_indices[:10]"
   ]
  },
  {
   "cell_type": "code",
   "execution_count": null,
   "metadata": {},
   "outputs": [],
   "source": [
    "params_array[least_losses_indices[:10]]"
   ]
  },
  {
   "cell_type": "code",
   "execution_count": null,
   "metadata": {},
   "outputs": [],
   "source": [
    "np.sort(losses_array)[:10]"
   ]
  },
  {
   "cell_type": "code",
   "execution_count": null,
   "metadata": {},
   "outputs": [],
   "source": [
    "predictions_dict[('Maharashtra', 'Pune')]['m2']['best_params']"
   ]
  },
  {
   "cell_type": "code",
   "execution_count": null,
   "metadata": {},
   "outputs": [],
   "source": [
    "#predictions_array = [get_forecast(predictions_dict[('Maharashtra', 'Pune')],\n",
    "#                                  best_params=params_dict) for params_dict in params_array[least_losses_indices[:10]]]\n",
    "predictions_array = [get_forecast(predictions_dict[districts_to_show[0]],\n",
    "                                  best_params=params_dict) for params_dict in params_array[least_losses_indices[:10]]]"
   ]
  },
  {
   "cell_type": "code",
   "execution_count": null,
   "metadata": {},
   "outputs": [],
   "source": [
    "params_dict['post_lockdown_R0']"
   ]
  },
  {
   "cell_type": "code",
   "execution_count": null,
   "metadata": {},
   "outputs": [],
   "source": [
    "#df_true = predictions_dict[('Maharashtra', 'Pune')]['m1']['df_district']\n",
    "df_true = predictions_dict[districts_to_show[0]]['m2']['df_district']\n",
    "\n",
    "sns.set_style(\"darkgrid\")\n",
    "#sns.set_style(\"whitegrid\")\n",
    "fig, ax = plt.subplots(figsize=(12, 12))\n",
    "ax.plot(df_true['date'], df_true['total_infected'],\n",
    "        '-o', color='C0', label='Confirmed Cases (Observed)')\n",
    "for i, df_prediction in enumerate(predictions_array):\n",
    "    loss_value = np.around(np.sort(losses_array)[:10][i], 2)\n",
    "    sns.lineplot(x=\"date\", y=\"total_infected\", data=df_prediction,\n",
    "                 ls='-', label='Confirmed Cases ({})'.format(loss_value))\n",
    "    plt.text(x=df_prediction['date'].iloc[-1], y=df_prediction['total_infected'].iloc[-1],\n",
    "             s= params_dict[i['lockdown_R0'])\n",
    "    \n",
    "ax.xaxis.set_major_locator(mdates.DayLocator(interval=7))\n",
    "ax.xaxis.set_minor_locator(mdates.DayLocator(interval=1))\n",
    "ax.xaxis.set_major_formatter(mdates.DateFormatter('%Y-%m-%d'))\n",
    "plt.ylabel('No of People', fontsize=16)\n",
    "plt.yscale('log')\n",
    "plt.xlabel('Time', fontsize=16)\n",
    "plt.legend()\n",
    "plt.title('Forecast - ({} {})'.format(region[0], region[1]), fontsize=16)\n",
    "#plt.grid()\n",
    "plt.show()     "
   ]
  },
  {
   "cell_type": "code",
   "execution_count": null,
   "metadata": {},
   "outputs": [],
   "source": [
    "df_true"
   ]
  },
  {
   "cell_type": "code",
   "execution_count": null,
   "metadata": {},
   "outputs": [],
   "source": [
    "#df_true = predictions_dict[('Maharashtra', 'Pune')]['m1']['df_district']\n",
    "df_true = predictions_dict[districts_to_show[0]]['m2']['df_district']\n",
    "sns.set_style(\"darkgrid\")\n",
    "fig, ax = plt.subplots(figsize=(12, 12))\n",
    "ax.plot(df_true['date'], df_true['hospitalised'],\n",
    "        '-o', color='orange', label='Active Cases (Observed)')\n",
    "for i, df_prediction in enumerate(predictions_array):\n",
    "    loss_value = np.around(np.sort(losses_array)[:10][i], 2)\n",
    "    params_dict = params_array[least_losses_indices[:10]]\n",
    "    true_r0 = params_dict[i]['lockdown_R0'] #np.around(params_dict[i]['lockdown_R0']*params_dict[i]['intervention_amount'], 2)\n",
    "    #if true_r0 > 1.7:\n",
    "    #    continue\n",
    "    #if true_r0 == 0.59 or true_r0 == 1.04:\n",
    "    #    continue\n",
    "    sns.lineplot(x=\"date\", y=\"hospitalised\", data=df_prediction,\n",
    "                 ls='-', label='Active Cases ({})'.format(loss_value))\n",
    "    plt.text(x=df_prediction['date'].iloc[-1], y=df_prediction['hospitalised'].iloc[-1], s=true_r0)\n",
    "    \n",
    "ax.xaxis.set_major_locator(mdates.DayLocator(interval=7))\n",
    "ax.xaxis.set_minor_locator(mdates.DayLocator(interval=1))\n",
    "ax.xaxis.set_major_formatter(mdates.DateFormatter('%Y-%m-%d'))\n",
    "plt.ylabel('No of People', fontsize=16)\n",
    "# plt.yscale('log')\n",
    "plt.xlabel('Time', fontsize=16)\n",
    "plt.legend()\n",
    "plt.title('Forecast - ({} {})'.format(region[0], region[1]), fontsize=16)\n",
    "#plt.grid()\n",
    "plt.show()     "
   ]
  },
  {
   "cell_type": "markdown",
   "metadata": {},
   "source": [
    "## Check varying R0 values"
   ]
  },
  {
   "cell_type": "code",
   "execution_count": null,
   "metadata": {},
   "outputs": [],
   "source": [
    "def set_r0_multiplier(params_dict, mul):\n",
    "    new_params = params_dict.copy()\n",
    "    new_params['post_lockdown_R0']= params_dict['lockdown_R0']*mul\n",
    "    return new_params"
   ]
  },
  {
   "cell_type": "code",
   "execution_count": null,
   "metadata": {},
   "outputs": [],
   "source": [
    "which_compartments"
   ]
  },
  {
   "cell_type": "code",
   "execution_count": null,
   "metadata": {},
   "outputs": [],
   "source": [
    "df_district = predictions_dict[districts_to_show[0]]['m2']['df_district']\n",
    "df_train_nora, df_val_nora, df_true_fitting = train_val_split(\n",
    "                df_district, train_rollingmean=False, val_rollingmean=False, val_size=0)\n",
    "\n",
    "for key in params_to_plot:\n",
    "    print(\"R0\", params_to_plot[key]['lockdown_R0'])\n",
    "    best_params_dict = params_to_plot[key]#predictions_dict[districts_to_show[0]]['m2']['best_params']\n",
    "    df_predictions = get_forecast(predictions_dict[('Maharashtra', 'Pune')],\n",
    "                                train_fit = \"m2\",\n",
    "                                best_params = best_params_dict)\n",
    "    df_loss = calculate_loss(df_train_nora, df_val_nora, df_predictions, train_period=7,\n",
    "                             train_on_val = True, which_compartments=['hospitalised', 'total_infected', 'deceased', 'recovered'])\n",
    "    print(df_loss.sum())"
   ]
  },
  {
   "cell_type": "code",
   "execution_count": null,
   "metadata": {},
   "outputs": [],
   "source": [
    "params_array[least_losses_indices[:10]]"
   ]
  },
  {
   "cell_type": "code",
   "execution_count": null,
   "metadata": {},
   "outputs": [],
   "source": []
  },
  {
   "cell_type": "code",
   "execution_count": null,
   "metadata": {},
   "outputs": [],
   "source": [
    "high_ind = \n",
    "losses_array[least_losses_indices[:10]]"
   ]
  },
  {
   "cell_type": "code",
   "execution_count": null,
   "metadata": {},
   "outputs": [],
   "source": [
    "#df_true = predictions_dict[('Maharashtra', 'Pune')]['m1']['df_district']\n",
    "df_true = predictions_dict[('Maharashtra', 'Pune')]['m2']['df_district']\n",
    "\n",
    "for key in params_to_plot:\n",
    "    fig, ax = plt.subplots(figsize=(12, 12))\n",
    "    ax.plot(df_true['date'], df_true['hospitalised'],\n",
    "        '-o', color='orange', label='Active Cases (Observed)')\n",
    "    best_params_dict = params_to_plot[key]#predictions_dict[districts_to_show[0]]['m2']['best_params']\n",
    "    predictions_array_mul = [get_forecast(predictions_dict[('Maharashtra', 'Pune')],\n",
    "                                train_fit = \"m2\",\n",
    "                                best_params=set_r0_multiplier(best_params_dict, mul))\n",
    "                                 for mul in multipliers]\n",
    "    for i, df_prediction in enumerate(predictions_array_mul):\n",
    "        filename = \"Pune-\" + key + \"-\" + str(multipliers[i]) + \".csv\"\n",
    "        print(filename)\n",
    "        df_prediction[columns_for_csv].to_csv(\"../../outputs/pune-28-05-2020/\"+filename)\n",
    "        #loss_value = np.around(np.sort(losses_array)[:10][i], 2)\n",
    "        label = multipliers[i]\n",
    "        true_r0 = label*best_params_dict['lockdown_R0'] #np.around(params_dict[i]['lockdown_R0']*params_dict[i]['intervention_amount'], 2)\n",
    "        #if true_r0 > 1.7:\n",
    "        #    continue\n",
    "        #if true_r0 == 0.59 or true_r0 == 1.04:\n",
    "        #    continue\n",
    "        sns.lineplot(x=\"date\", y=\"hospitalised\", data=df_prediction,\n",
    "                     ls='-', label='Active Cases ({})'.format(label))\n",
    "        plt.text(x=df_prediction['date'].iloc[-1], y=df_prediction['hospitalised'].iloc[-1], s=true_r0)\n",
    "\n",
    "    ax.xaxis.set_major_locator(mdates.DayLocator(interval=7))\n",
    "    ax.xaxis.set_minor_locator(mdates.DayLocator(interval=1))\n",
    "    ax.xaxis.set_major_formatter(mdates.DateFormatter('%Y-%m-%d'))\n",
    "    plt.ylabel('No of People', fontsize=16)\n",
    "    # plt.yscale('log')\n",
    "    plt.xlabel('Time', fontsize=16)\n",
    "    plt.legend()\n",
    "    plt.title('Forecast - ({} {})'.format(region[0], region[1]), fontsize=16)\n",
    "    #plt.grid()\n",
    "    plt.show()     "
   ]
  },
  {
   "cell_type": "code",
   "execution_count": null,
   "metadata": {},
   "outputs": [],
   "source": []
  },
  {
   "cell_type": "code",
   "execution_count": null,
   "metadata": {},
   "outputs": [],
   "source": [
    "columns = ['forecastRunDate', 'regionType', 'region', 'model_name', 'error_function', 'error_value', 'current_total', 'current_active', 'current_recovered',\n",
    "           'current_deceased', 'current_hospitalized', 'current_icu', 'current_ventilator', 'predictionDate', 'active_mean', 'active_min',\n",
    "           'active_max', 'hospitalized_mean', 'hospitalized_min', 'hospitalized_max', 'icu_mean', 'icu_min', 'icu_max', 'deceased_mean',\n",
    "           'deceased_min', 'deceased_max', 'recovered_mean', 'recovered_min', 'recovered_max', 'total_mean', 'total_min', 'total_max']\n",
    "\n",
    "region = districts_to_show[0]\n",
    "\n",
    "df_final = pd.DataFrame(columns=columns)\n",
    "for params_dict in params_array[least_losses_indices[:10]]:\n",
    "    df_output = create_region_csv(\n",
    "        predictions_dict[region], region=region[1], regionType='district', \n",
    "        best_params=params_dict, initialisation='intermediate', \n",
    "        train_period=7, icu_fraction=0.02\n",
    "    )\n",
    "    df_final = pd.concat([df_final, df_output], ignore_index=True)\n",
    "    "
   ]
  },
  {
   "cell_type": "code",
   "execution_count": null,
   "metadata": {},
   "outputs": [],
   "source": [
    "df_final.to_csv('../../outputs/pune-{}.csv'.format(datetime.datetime.now().strftime(\"%Y%m%d-%H%M%S\")))"
   ]
  },
  {
   "cell_type": "code",
   "execution_count": null,
   "metadata": {},
   "outputs": [],
   "source": [
    "df_final"
   ]
  },
  {
   "cell_type": "code",
   "execution_count": null,
   "metadata": {},
   "outputs": [],
   "source": [
    "for index, params_dict in enumerate(params_array[least_losses_indices[:10]]):\n",
    "    print('Loss - ', np.around(losses_array[least_losses_indices[:10][index]], 2))\n",
    "    params_dict_temp = copy.copy(params_dict)\n",
    "    params_dict_temp['true_R0'] = params_dict_temp['lockdown_R0']#*params_dict_temp['intervention_amount']\n",
    "    #del params_dict_temp['intervention_amount']\n",
    "    del params_dict_temp['lockdown_R0']\n",
    "    for key in params_dict_temp.keys():\n",
    "        params_dict_temp[key] = np.around(params_dict_temp[key], 2)\n",
    "    print('Params - ', params_dict_temp)\n",
    "    print('\\n')"
   ]
  },
  {
   "cell_type": "code",
   "execution_count": null,
   "metadata": {},
   "outputs": [],
   "source": []
  }
 ],
 "metadata": {
  "kernelspec": {
   "display_name": "Python 3",
   "language": "python",
   "name": "python3"
  },
  "language_info": {
   "codemirror_mode": {
    "name": "ipython",
    "version": 3
   },
   "file_extension": ".py",
   "mimetype": "text/x-python",
   "name": "python",
   "nbconvert_exporter": "python",
   "pygments_lexer": "ipython3",
   "version": "3.7.7-final"
  }
 },
 "nbformat": 4,
 "nbformat_minor": 4
}