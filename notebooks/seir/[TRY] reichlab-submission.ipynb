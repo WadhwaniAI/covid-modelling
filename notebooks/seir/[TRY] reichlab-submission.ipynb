{
 "cells": [
  {
   "cell_type": "code",
   "execution_count": null,
   "metadata": {},
   "outputs": [],
   "source": [
    "%load_ext autoreload\n",
    "%autoreload 2"
   ]
  },
  {
   "cell_type": "code",
   "execution_count": null,
   "metadata": {},
   "outputs": [],
   "source": [
    "import pandas as pd\n",
    "import geopandas as gpd\n",
    "import numpy as np\n",
    "\n",
    "import sys\n",
    "sys.path.append('../../')\n",
    "\n",
    "import os\n",
    "import copy\n",
    "import pickle\n",
    "from datetime import datetime, date, timedelta\n",
    "\n",
    "from utils.generic.config import read_config, make_date_key_str\n",
    "from utils.generic.reichlab import *\n",
    "from viz.reichlab import *\n",
    "from viz import plot_ptiles\n",
    "from viz.uncertainty import plot_ptiles_reichlab"
   ]
  },
  {
   "cell_type": "code",
   "execution_count": null,
   "metadata": {
    "jupyter": {
     "outputs_hidden": true
    }
   },
   "outputs": [],
   "source": [
    "predictions_pkl_filename = '/scratch/users/sansiddh/covid-modelling/2020_1214_143227_comb/predictions_dict.pkl'\n",
    "with open(predictions_pkl_filename, 'rb') as f:\n",
    "    predictions_dict_d = pickle.load(f)"
   ]
  },
  {
   "cell_type": "code",
   "execution_count": null,
   "metadata": {
    "jupyter": {
     "outputs_hidden": true
    }
   },
   "outputs": [],
   "source": [
    "predictions_pkl_filename = '/scratch/users/sansiddh/covid-modelling/2020_1214_155731_comb/predictions_dict.pkl'\n",
    "with open(predictions_pkl_filename, 'rb') as f:\n",
    "    predictions_dict_t = pickle.load(f)"
   ]
  },
  {
   "cell_type": "code",
   "execution_count": null,
   "metadata": {},
   "outputs": [],
   "source": [
    "places_to_prune = ['Guam', 'Northern Mariana Islands', 'Virgin Islands']\n",
    "for key in places_to_prune:\n",
    "    del predictions_dict_d[key]\n",
    "    del predictions_dict_t[key]"
   ]
  },
  {
   "cell_type": "code",
   "execution_count": null,
   "metadata": {},
   "outputs": [],
   "source": [
    "loc_name_to_key_dict = get_mapping(which='location_name_to_code')\n",
    "us_states_abbv_dict = get_mapping(which='location_name_to_abbv')"
   ]
  },
  {
   "cell_type": "code",
   "execution_count": null,
   "metadata": {},
   "outputs": [],
   "source": [
    "config = predictions_dict_d[list(predictions_dict_d.keys())[0]]['m2']['run_params']\n",
    "loss_comp = config['loss']['loss_compartments'][0]\n",
    "data_last_date = config['split']['end_date']\n",
    "date_of_submission = (data_last_date + timedelta(days=2)).strftime('%Y-%m-%d')\n",
    "if loss_comp == 'deceased':\n",
    "    comp = 'cum_death'\n",
    "if loss_comp == 'total':\n",
    "    comp = 'cum_case'\n",
    "print(comp)\n",
    "print(date_of_submission)"
   ]
  },
  {
   "cell_type": "code",
   "execution_count": null,
   "metadata": {},
   "outputs": [],
   "source": [
    "df_wiai_submission_death = format_wiai_submission(predictions_dict_d, loc_name_to_key_dict, which_fit='m2', formatting_mode='submission',                                \n",
    "                                                  use_as_point_forecast='ensemble_mean', which_comp='death', skip_percentiles=False)"
   ]
  },
  {
   "cell_type": "code",
   "execution_count": null,
   "metadata": {},
   "outputs": [],
   "source": [
    "df_wiai_submission_cases = format_wiai_submission(predictions_dict_t, loc_name_to_key_dict, which_fit='m2', formatting_mode='submission', \n",
    "                                                  use_as_point_forecast='ensemble_mean', which_comp='case', skip_percentiles=False)"
   ]
  },
  {
   "cell_type": "code",
   "execution_count": null,
   "metadata": {},
   "outputs": [],
   "source": [
    "df_wiai_submission_death = df_wiai_submission_death[df_wiai_submission_death['target'].apply(lambda x: 'death' in x)]\n",
    "df_wiai_submission_cases = df_wiai_submission_cases[df_wiai_submission_cases['target'].apply(lambda x: 'inc case' in x)]"
   ]
  },
  {
   "cell_type": "code",
   "execution_count": null,
   "metadata": {},
   "outputs": [],
   "source": [
    "df_wiai_submission_cases = df_wiai_submission_cases[np.logical_or(\n",
    "    (df_wiai_submission_cases['type'] == 'point'), \n",
    "    (df_wiai_submission_cases['quantile'].isin([0.025, 0.100, 0.250, 0.500, 0.750, 0.900, 0.975])))]"
   ]
  },
  {
   "cell_type": "code",
   "execution_count": null,
   "metadata": {},
   "outputs": [],
   "source": [
    "df_wiai_submission_death.reset_index(inplace=True, drop=True)\n",
    "df_wiai_submission_cases.reset_index(inplace=True, drop=True)"
   ]
  },
  {
   "cell_type": "code",
   "execution_count": null,
   "metadata": {},
   "outputs": [],
   "source": [
    "df_wiai_submission_comb = pd.concat([df_wiai_submission_death, df_wiai_submission_cases], ignore_index=True)\n",
    "df_wiai_submission_comb"
   ]
  },
  {
   "cell_type": "code",
   "execution_count": null,
   "metadata": {},
   "outputs": [],
   "source": [
    "places_to_prune = ['Guam', 'Northern Mariana Islands', 'Virgin Islands']\n",
    "places_to_prune_code = [loc_name_to_key_dict[x] for x in places_to_prune]"
   ]
  },
  {
   "cell_type": "code",
   "execution_count": null,
   "metadata": {},
   "outputs": [],
   "source": [
    "df_wiai_submission_comb = df_wiai_submission_comb[np.logical_not(df_wiai_submission_comb['location'].isin(places_to_prune_code))]\n",
    "df_wiai_submission_comb.reset_index(inplace=True, drop=True)"
   ]
  },
  {
   "cell_type": "code",
   "execution_count": null,
   "metadata": {
    "jupyter": {
     "source_hidden": true
    }
   },
   "outputs": [],
   "source": [
    "from utils.generic.enums import Columns\n",
    "from matplotlib.lines import Line2D\n",
    "from adjustText import adjust_text\n",
    "from viz.utils import axis_formatter"
   ]
  },
  {
   "cell_type": "code",
   "execution_count": null,
   "metadata": {
    "jupyter": {
     "source_hidden": true
    }
   },
   "outputs": [],
   "source": [
    "def plot_ptiles_reichlab(df_comb, model, location, target='inc death', plot_true=False, plot_point=True, plot_individual_curves=True):\n",
    "    compartment = 'deceased' if 'death' in target else 'total'\n",
    "    mode = 'incident' if 'inc' in target else 'cumulative'\n",
    "    compartment = Columns.from_name(compartment)\n",
    "    df_plot = copy(df_comb.loc[(df_comb['model'] == model) & (df_comb['location'] == location), :])\n",
    "    df_plot = df_plot[[target in x for x in df_plot['target']]]\n",
    "    fig, ax = plt.subplots(figsize=(12, 12))\n",
    "    texts = []\n",
    "    if plot_true:\n",
    "        df_true = df_plot.groupby('target_end_date').mean().reset_index()\n",
    "        ax.plot(df_true['target_end_date'].to_numpy(), df_true['true_value'].to_numpy(),\n",
    "                '--o', color=compartment.color)\n",
    "    if plot_point:\n",
    "        df_point = df_plot[df_plot['type'] == 'point']\n",
    "        ax.plot(df_point['target_end_date'].to_numpy(), df_point['value'].to_numpy(),\n",
    "                '-o', color='black')\n",
    "        \n",
    "    df_quantiles = df_plot[df_plot['type'] == 'quantile']\n",
    "    quantiles = df_quantiles.groupby('quantile').sum().index\n",
    "    if plot_individual_curves:\n",
    "        for _, qtile in enumerate(quantiles):\n",
    "            df_qtile = df_quantiles[df_quantiles['quantile'] == qtile].infer_objects()\n",
    "            label = round(qtile*100) if qtile*100 % 1 < 1e-8 else round(qtile*100, 1)\n",
    "            sns.lineplot(x='target_end_date', y='value', data=df_qtile, ls='-')\n",
    "            texts.append(plt.text(\n",
    "                x=df_qtile['target_end_date'].iloc[-1], \n",
    "                y=df_qtile['value'].iloc[-1], s=label))\n",
    "    else:\n",
    "        sns.lineplot(x=Columns.date.name, y='value', data=df_quantiles,\n",
    "                        ls='-', label=f'{compartment.label}')\n",
    "            \n",
    "\n",
    "    ax.set_xlim(ax.get_xlim()[0], ax.get_xlim()[1] + 10)\n",
    "    adjust_text(texts, arrowprops=dict(arrowstyle=\"->\", color='r', lw=0.5))\n",
    "    axis_formatter(ax)\n",
    "    legend_elements = []\n",
    "    if plot_true:\n",
    "        legend_elements += [\n",
    "            Line2D([0], [0], ls='--', marker='o', color=compartment.color,\n",
    "                   label=f'{mode.title()} {compartment.label} (Observed)')]\n",
    "    if plot_point:\n",
    "        legend_elements += [\n",
    "            Line2D([0], [0], ls='-', marker='o', color='black',\n",
    "                   label=f'{mode.title()} {compartment.label} Point Forecast')]\n",
    "\n",
    "    legend_elements += [\n",
    "        Line2D([0], [0], ls='-', color='blue', \n",
    "               label=f'{mode.title()} {compartment.label} Percentiles'),\n",
    "    ]\n",
    "    ax.legend(handles=legend_elements)\n",
    "    fig.suptitle('Forecast for {}, {}, {} {}'.format(model, location, \n",
    "                                                     mode.title(), compartment.label), fontsize=16)\n",
    "    fig.subplots_adjust(top=0.96)\n",
    "    \n",
    "    return fig, ax"
   ]
  },
  {
   "cell_type": "code",
   "execution_count": null,
   "metadata": {},
   "outputs": [],
   "source": [
    "fig, ax = plot_ptiles_reichlab(df_wiai_submission_comb, 'Wadhwani_AI-BayesOpt', '18', target='inc death')"
   ]
  },
  {
   "cell_type": "code",
   "execution_count": null,
   "metadata": {},
   "outputs": [],
   "source": [
    "del df_wiai_submission_comb['model']"
   ]
  },
  {
   "cell_type": "code",
   "execution_count": null,
   "metadata": {},
   "outputs": [],
   "source": [
    "forecast_date = df_wiai_submission_comb.loc[0, 'forecast_date'].strftime('%Y-%m-%d')\n",
    "model_name = 'Wadhwani_AI-BayesOpt'"
   ]
  },
  {
   "cell_type": "code",
   "execution_count": null,
   "metadata": {},
   "outputs": [],
   "source": [
    "df_wiai_submission_comb.to_csv(f'../../../covid19-forecast-hub/data-processed/{model_name}/{forecast_date}-{model_name}.csv', index=False)"
   ]
  },
  {
   "cell_type": "code",
   "execution_count": null,
   "metadata": {},
   "outputs": [],
   "source": []
  }
 ],
 "metadata": {
  "kernelspec": {
   "display_name": "Python (covid)",
   "language": "python",
   "name": "covid"
  },
  "language_info": {
   "codemirror_mode": {
    "name": "ipython",
    "version": 3
   },
   "file_extension": ".py",
   "mimetype": "text/x-python",
   "name": "python",
   "nbconvert_exporter": "python",
   "pygments_lexer": "ipython3"
  }
 },
 "nbformat": 4,
 "nbformat_minor": 4
}
