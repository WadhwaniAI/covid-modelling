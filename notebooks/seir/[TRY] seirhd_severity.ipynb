{
 "cells": [
  {
   "cell_type": "code",
   "execution_count": null,
   "metadata": {},
   "outputs": [],
   "source": [
    "%load_ext autoreload\n",
    "%autoreload 2"
   ]
  },
  {
   "cell_type": "code",
   "execution_count": null,
   "metadata": {},
   "outputs": [],
   "source": [
    "import numpy as np\n",
    "import matplotlib.pyplot as plt\n",
    "import matplotlib.dates as mdates\n",
    "import seaborn as sns\n",
    "from hyperopt import hp, tpe, fmin, Trials\n",
    "from tqdm import tqdm\n",
    "\n",
    "import datetime\n",
    "import copy\n",
    "import json\n",
    "\n",
    "import sys\n",
    "sys.path.append('../../')\n",
    "\n",
    "from data.dataloader import Covid19IndiaLoader\n",
    "from data.processing import get_data\n",
    "\n",
    "from models.seir import SEIR_Testing, SEIRHD, SEIR_Movement, SEIR_Movement_Testing, SEIRHD_Severity\n",
    "\n",
    "from main.seir.fitting import single_fitting_cycle, get_variable_param_ranges\n",
    "from main.seir.forecast import get_forecast, forecast_all_trials, trials_to_df, create_region_csv, create_all_csvs, write_csv\n",
    "from main.seir.sensitivity import calculate_sensitivity_and_plot\n",
    "from utils.create_report import create_report\n",
    "from utils.enums import Columns\n",
    "from utils.loss import Loss_Calculator\n",
    "from viz import plot_forecast, plot_top_k_trials"
   ]
  },
  {
   "cell_type": "code",
   "execution_count": null,
   "metadata": {},
   "outputs": [],
   "source": [
    "predictions_dict = {}"
   ]
  },
  {
   "cell_type": "markdown",
   "metadata": {},
   "source": [
    "## Params"
   ]
  },
  {
   "cell_type": "code",
   "execution_count": null,
   "metadata": {},
   "outputs": [],
   "source": [
    "date_of_interest = '2020-07-31'\n",
    "forecast_days = 45\n",
    "now = datetime.datetime.now().strftime(\"%Y%m%d-%H%M%S\")\n",
    "folder = str(now)\n",
    "ktrials = 10\n",
    "model=SEIRHD_Severity"
   ]
  },
  {
   "cell_type": "markdown",
   "metadata": {},
   "source": [
    "## Select Districts to fit on"
   ]
  },
  {
   "cell_type": "code",
   "execution_count": null,
   "metadata": {},
   "outputs": [],
   "source": [
    "state, district = ('Maharashtra', 'Mumbai')"
   ]
  },
  {
   "cell_type": "markdown",
   "metadata": {},
   "source": [
    "## Get Variable Params"
   ]
  },
  {
   "cell_type": "code",
   "execution_count": null,
   "metadata": {},
   "outputs": [],
   "source": [
    "variable_param_ranges = {\n",
    "    'lockdown_R0': (1, 1.15),\n",
    "    'T_inc': (4, 5),\n",
    "    'T_inf': (3, 4),\n",
    "    'T_recov_mild': (20, 30),\n",
    "    'T_recov_moderate': (20, 30),\n",
    "    'T_recov_severe': (0, 40),\n",
    "    'P_moderate': (0, 0.5),\n",
    "    'P_severe': (0, 0.1),\n",
    "    'P_fatal': (0, 0.1),\n",
    "    'E_hosp_ratio': (0, 2),\n",
    "    'I_hosp_ratio': (0, 1)\n",
    "}\n",
    "variable_param_ranges = get_variable_param_ranges(variable_param_ranges)"
   ]
  },
  {
   "cell_type": "markdown",
   "metadata": {},
   "source": [
    "## Perform M1 and M2 fits"
   ]
  },
  {
   "cell_type": "code",
   "execution_count": null,
   "metadata": {},
   "outputs": [],
   "source": [
    "predictions_dict['m1'] = single_fitting_cycle(\n",
    "    state, district, data_from_tracker=False, granular_data=True, filename=None, #Data\n",
    "    model=SEIRHD_Severity, variable_param_ranges=variable_param_ranges, #Choose Model and Ranges\n",
    "    train_period=7, val_period=7, num_evals=1000, initialisation='intermediate', #Optimisation related parameters\n",
    "    which_compartments=['total_infected', 'hospitalised', 'recovered', 'deceased', 'stable_asymptomatic', 'stable_symptomatic', 'critical'], #Compartments to Apply Loss on \n",
    "    smooth_jump=True) #Smoothing\n",
    "\n",
    "predictions_dict['m2'] = single_fitting_cycle(\n",
    "    state, district, data_from_tracker=False, granular_data=True, filename=None, #Data\n",
    "    model=SEIRHD_Severity, variable_param_ranges=variable_param_ranges, #Choose Model and Ranges\n",
    "    train_period=7, val_period=0, num_evals=1000, initialisation='intermediate', #Optimisation related parameters\n",
    "    which_compartments=['total_infected', 'hospitalised', 'recovered', 'deceased', 'stable_asymptomatic', 'stable_symptomatic', 'critical'], #Compartments to Apply Loss on \n",
    "    smooth_jump=True) #Smoothing\n",
    "    \n",
    "predictions_dict['state'] = state\n",
    "predictions_dict['dist'] = district\n",
    "predictions_dict['fitting_date'] = datetime.datetime.now().strftime(\"%Y-%m-%d\")\n",
    "predictions_dict['datasource'] = 'covid19api' if predictions_dict['m1']['data_from_tracker'] else 'municipality'\n",
    "predictions_dict['variable_param_ranges'] = predictions_dict['m1']['variable_param_ranges']\n",
    "predictions_dict['data_last_date'] = predictions_dict['m1']['data_last_date']"
   ]
  },
  {
   "cell_type": "code",
   "execution_count": null,
   "metadata": {},
   "outputs": [],
   "source": [
    "predictions_dict['m1']['best_params']"
   ]
  },
  {
   "cell_type": "code",
   "execution_count": null,
   "metadata": {},
   "outputs": [],
   "source": [
    "predictions_dict['m2']['best_params']"
   ]
  },
  {
   "cell_type": "markdown",
   "metadata": {},
   "source": [
    "## Create Master Loss Dataframe"
   ]
  },
  {
   "cell_type": "markdown",
   "metadata": {},
   "source": [
    "### M1 Loss DataFrame"
   ]
  },
  {
   "cell_type": "code",
   "execution_count": null,
   "metadata": {},
   "outputs": [],
   "source": [
    "predictions_dict['m1']['df_loss']"
   ]
  },
  {
   "cell_type": "markdown",
   "metadata": {},
   "source": [
    "### M2 Loss DataFrame"
   ]
  },
  {
   "cell_type": "code",
   "execution_count": null,
   "metadata": {},
   "outputs": [],
   "source": [
    "predictions_dict['m2']['df_loss']"
   ]
  },
  {
   "cell_type": "markdown",
   "metadata": {},
   "source": [
    "## Sensitivity Plot"
   ]
  },
  {
   "cell_type": "code",
   "execution_count": null,
   "metadata": {},
   "outputs": [],
   "source": [
    "var_tuples = [\n",
    "    ('lockdown_R0', np.linspace(1, 1.5, 101), 'total_infected', None),\n",
    "    ('I_hosp_ratio', np.linspace(0, 1, 201), 'total_infected', None),\n",
    "    ('E_hosp_ratio', np.linspace(0, 2, 201), 'total_infected', None),\n",
    "    ('P_moderate', np.linspace(0, 0.5, 201), 'stable_symptomatic', 'total_infected'),\n",
    "    ('P_severe', np.linspace(0, 0.5, 201), 'critical', 'total_infected'),\n",
    "    ('P_fatal', np.linspace(0, 0.5, 201), 'deceased', 'total_infected'),\n",
    "    ('T_recov_mild', np.linspace(1, 100, 101), 'stable_asymptomatic', 'total_infected'),\n",
    "    ('T_recov_moderate', np.linspace(1, 100, 101), 'stable_symptomatic', 'total_infected'),\n",
    "    ('T_recov_severe', np.linspace(1, 100, 101), 'critical', 'total_infected'),\n",
    "    ('T_recov_fatal', np.linspace(1, 100, 101), 'deceased', 'total_infected')\n",
    "]\n",
    "\n",
    "predictions_dict['m1']['plots']['sensitivity'], _, _ = calculate_sensitivity_and_plot(predictions_dict, which_fit='m1', var_tuples=var_tuples)\n",
    "predictions_dict['m2']['plots']['sensitivity'], _, _ = calculate_sensitivity_and_plot(predictions_dict, which_fit='m2', var_tuples=var_tuples)"
   ]
  },
  {
   "cell_type": "markdown",
   "metadata": {},
   "source": [
    "## Plot Forecasts"
   ]
  },
  {
   "cell_type": "code",
   "execution_count": null,
   "metadata": {},
   "outputs": [],
   "source": [
    "predictions_dict['m2']['forecasts'] = {}\n",
    "predictions_dict['m2']['forecasts']['best'] = get_forecast(predictions_dict, train_fit='m2', days=forecast_days)\n",
    "predictions_dict['m2']['plots']['forecast_best'] = plot_forecast(predictions_dict, (state, district), error_bars=True)\n",
    "\n",
    "trials_processed = forecast_all_trials(predictions_dict, train_fit='m1', forecast_days=forecast_days)\n",
    "predictions_dict['m1']['trials_processed'] = trials_processed\n",
    "predictions_dict['m1']['all_trials'] = trials_to_df(trials_processed, column=Columns.confirmed)\n",
    "trials_processed = forecast_all_trials(predictions_dict, train_fit='m2', forecast_days=forecast_days)\n",
    "predictions_dict['m2']['trials_processed'] = trials_processed\n",
    "predictions_dict['m2']['all_trials'] = trials_to_df(trials_processed, column=Columns.confirmed)\n",
    "kforecasts = plot_top_k_trials(\n",
    "    predictions_dict,\n",
    "    train_fit='m2',\n",
    "    trials_processed=predictions_dict['m2']['trials_processed'], \n",
    "    k=ktrials,\n",
    "    which_compartments=[Columns.confirmed, Columns.active, Columns.stable_symptomatic, Columns.stable_asymptomatic])\n",
    "predictions_dict['m2']['plots']['forecast_confirmed_topk'] = kforecasts[Columns.confirmed]\n",
    "predictions_dict['m2']['plots']['forecast_active_topk'] = kforecasts[Columns.active]\n"
   ]
  },
  {
   "cell_type": "code",
   "execution_count": null,
   "metadata": {},
   "outputs": [],
   "source": []
  }
 ],
 "metadata": {
  "kernelspec": {
   "display_name": "Python 3",
   "language": "python",
   "name": "python3"
  },
  "language_info": {
   "codemirror_mode": {
    "name": "ipython",
    "version": 3
   },
   "file_extension": ".py",
   "mimetype": "text/x-python",
   "name": "python",
   "nbconvert_exporter": "python",
   "pygments_lexer": "ipython3"
  }
 },
 "nbformat": 4,
 "nbformat_minor": 4
}
