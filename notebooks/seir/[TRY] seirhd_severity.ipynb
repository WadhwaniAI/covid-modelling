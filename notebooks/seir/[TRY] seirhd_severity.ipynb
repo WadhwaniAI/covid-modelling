{
 "cells": [
  {
   "cell_type": "code",
   "execution_count": null,
   "metadata": {},
   "outputs": [],
   "source": [
    "%load_ext autoreload\n",
    "%autoreload 2"
   ]
  },
  {
   "cell_type": "code",
   "execution_count": null,
   "metadata": {},
   "outputs": [],
   "source": [
    "import numpy as np\n",
    "import matplotlib.pyplot as plt\n",
    "import matplotlib.dates as mdates\n",
    "import seaborn as sns\n",
    "from hyperopt import hp, tpe, fmin, Trials\n",
    "from tqdm import tqdm\n",
    "\n",
    "import datetime\n",
    "import copy\n",
    "import json\n",
    "\n",
    "import sys\n",
    "sys.path.append('../../')\n",
    "\n",
    "from data.dataloader import Covid19IndiaLoader\n",
    "from data.processing import get_data\n",
    "\n",
    "from models.seir import SEIR_Testing, SEIRHD, SEIR_Movement, SEIR_Movement_Testing, SEIRHD_Severity\n",
    "\n",
    "from main.seir.fitting import single_fitting_cycle, get_variable_param_ranges\n",
    "from main.seir.forecast import get_forecast, create_region_csv, create_all_csvs, write_csv\n",
    "from utils.create_report import create_report\n",
    "from utils.loss import Loss_Calculator\n",
    "from viz import plot_forecast"
   ]
  },
  {
   "cell_type": "code",
   "execution_count": null,
   "metadata": {},
   "outputs": [],
   "source": [
    "predictions_dict = {}"
   ]
  },
  {
   "cell_type": "markdown",
   "metadata": {},
   "source": [
    "## Select Districts to fit on"
   ]
  },
  {
   "cell_type": "code",
   "execution_count": null,
   "metadata": {},
   "outputs": [],
   "source": [
    "state, district = ('Maharashtra', 'Mumbai')"
   ]
  },
  {
   "cell_type": "markdown",
   "metadata": {},
   "source": [
    "## Get Variable Params"
   ]
  },
  {
   "cell_type": "code",
   "execution_count": null,
   "metadata": {},
   "outputs": [],
   "source": [
    "variable_param_ranges = {\n",
    "    'lockdown_R0': (1, 1.5),\n",
    "    'T_inc': (4, 5),\n",
    "    'T_inf': (3, 4),\n",
    "    'T_recov_mild': (20, 30),\n",
    "    'T_recov_moderate': (20, 30),\n",
    "    'T_recov_severe': (44, 45),\n",
    "    'P_moderate': (0, 0.5),\n",
    "    'P_severe': (0, 0.1),\n",
    "    'P_fatal': (0, 0.1),\n",
    "    'E_hosp_ratio': (0, 2),\n",
    "    'I_hosp_ratio': (0, 1)\n",
    "}\n",
    "variable_param_ranges = get_variable_param_ranges(variable_param_ranges)"
   ]
  },
  {
   "cell_type": "markdown",
   "metadata": {},
   "source": [
    "## Perform M1 and M2 fits"
   ]
  },
  {
   "cell_type": "code",
   "execution_count": null,
   "metadata": {},
   "outputs": [],
   "source": [
    "predictions_dict['m1'] = single_fitting_cycle(\n",
    "    state, district, data_from_tracker=True, granular_data=True, filename=None, #Data\n",
    "    model=SEIRHD_Severity, variable_param_ranges=variable_param_ranges, #Choose Model and Ranges\n",
    "    train_period=14, val_period=0, num_evals=1500, initialisation='intermediate', #Optimisation related parameters\n",
    "    which_compartments=['total_infected', 'hospitalised', 'recovered', 'deceased', 'stable_asymptomatic', 'stable_symptomatic', 'critical'], #Compartments to Apply Loss on \n",
    "    smooth_jump=True) #Smoothing\n",
    "\n",
    "# predictions_dict['m2'] = single_fitting_cycle(\n",
    "#     state, district, train_period=7, val_period=0, num_evals=700,\n",
    "#     data_from_tracker=True, initialisation='intermediate', model=SEIRHD, \n",
    "#     which_compartments=['hospitalised', 'total_infected', 'deceased', 'recovered'],\n",
    "#     smooth_jump=False)\n",
    "    \n",
    "predictions_dict['state'] = state\n",
    "predictions_dict['dist'] = district\n",
    "predictions_dict['fitting_date'] = datetime.datetime.now().strftime(\"%Y-%m-%d\")\n",
    "predictions_dict['datasource'] = 'covid19api' if predictions_dict['m1']['data_from_tracker'] else 'municipality'\n",
    "predictions_dict['variable_param_ranges'] = predictions_dict['m1']['variable_param_ranges']\n",
    "predictions_dict['data_last_date'] = predictions_dict['m1']['data_last_date']"
   ]
  },
  {
   "cell_type": "code",
   "execution_count": null,
   "metadata": {},
   "outputs": [],
   "source": [
    "predictions_dict['m1']['best_params']"
   ]
  },
  {
   "cell_type": "code",
   "execution_count": null,
   "metadata": {},
   "outputs": [],
   "source": [
    "predictions_dict['m1']['df_prediction'].iloc[:7, :].loc[:, ['date', 'critical']]"
   ]
  },
  {
   "cell_type": "code",
   "execution_count": null,
   "metadata": {},
   "outputs": [],
   "source": [
    "predictions_dict['m1']['df_train'].iloc[-7:, :].loc[:, ['date', 'critical']]"
   ]
  },
  {
   "cell_type": "markdown",
   "metadata": {},
   "source": [
    "## Create Master Loss Dataframe"
   ]
  },
  {
   "cell_type": "markdown",
   "metadata": {},
   "source": [
    "### M1 Loss DataFrame"
   ]
  },
  {
   "cell_type": "code",
   "execution_count": null,
   "metadata": {},
   "outputs": [],
   "source": [
    "predictions_dict['m1']['df_loss']"
   ]
  },
  {
   "cell_type": "markdown",
   "metadata": {},
   "source": [
    "### M2 Loss DataFrame"
   ]
  },
  {
   "cell_type": "code",
   "execution_count": null,
   "metadata": {},
   "outputs": [],
   "source": [
    "predictions_dict['m2']['df_loss']"
   ]
  },
  {
   "cell_type": "markdown",
   "metadata": {},
   "source": [
    "## Plot Forecasts"
   ]
  },
  {
   "cell_type": "code",
   "execution_count": null,
   "metadata": {},
   "outputs": [],
   "source": []
  }
 ],
 "metadata": {
  "kernelspec": {
   "display_name": "Python 3",
   "language": "python",
   "name": "python3"
  },
  "language_info": {
   "codemirror_mode": {
    "name": "ipython",
    "version": 3
   },
   "file_extension": ".py",
   "mimetype": "text/x-python",
   "name": "python",
   "nbconvert_exporter": "python",
   "pygments_lexer": "ipython3"
  }
 },
 "nbformat": 4,
 "nbformat_minor": 4
}
