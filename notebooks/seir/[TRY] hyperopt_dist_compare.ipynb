{
 "cells": [
  {
   "cell_type": "code",
   "execution_count": null,
   "metadata": {},
   "outputs": [],
   "source": [
    "%load_ext autoreload\n",
    "%autoreload 2\n",
    "%matplotlib inline"
   ]
  },
  {
   "cell_type": "code",
   "execution_count": null,
   "metadata": {},
   "outputs": [],
   "source": [
    "import numpy as np\n",
    "import pandas as pd\n",
    "import matplotlib.pyplot as plt\n",
    "from hyperopt import tpe, rand\n",
    "\n",
    "import datetime\n",
    "\n",
    "import copy\n",
    "import json\n",
    "import time\n",
    "import os\n",
    "\n",
    "import sys\n",
    "sys.path.append('../../')\n",
    "\n",
    "from data.dataloader import Covid19IndiaLoader\n",
    "from data.processing import get_data\n",
    "from data.processing import get_dataframes_cached\n",
    "\n",
    "from models.seir import SEIR_Testing, SEIRHD, SEIR_Movement, SEIR_Movement_Testing\n",
    "\n",
    "from main.seir.fitting import single_fitting_cycle, get_variable_param_ranges\n",
    "from main.seir.sensitivity import calculate_sensitivity_and_plot\n",
    "from main.seir.forecast import _order_trials_by_loss, get_forecast, forecast_all_trials, trials_to_df, scale_up_testing_and_forecast\n",
    "from main.seir.forecast import create_all_csvs, create_decile_csv, create_region_csv, write_csv\n",
    "from main.seir.uncertainty import MCUncertainty\n",
    "from utils.create_report import save_dict_and_create_report\n",
    "from utils.enums import Columns\n",
    "from utils.loss import Loss_Calculator\n",
    "from viz import plot_forecast, plot_top_k_trials, plot_ptiles"
   ]
  },
  {
   "cell_type": "code",
   "execution_count": null,
   "metadata": {},
   "outputs": [],
   "source": [
    "predictions_dict = {}"
   ]
  },
  {
   "cell_type": "markdown",
   "metadata": {},
   "source": [
    "## Select Districts to fit on"
   ]
  },
  {
   "cell_type": "code",
   "execution_count": null,
   "metadata": {},
   "outputs": [],
   "source": [
    "state, district = ('Maharashtra', 'Mumbai')"
   ]
  },
  {
   "cell_type": "code",
   "execution_count": null,
   "metadata": {},
   "outputs": [],
   "source": [
    "forecast_days = 54\n",
    "now = datetime.datetime.now().strftime(\"%Y%m%d-%H%M%S\")\n",
    "folder = str(now)\n",
    "ktrials = 10\n",
    "model=SEIRHD"
   ]
  },
  {
   "cell_type": "markdown",
   "metadata": {},
   "source": [
    "## Perform M1 and M2 fits"
   ]
  },
  {
   "cell_type": "code",
   "execution_count": null,
   "metadata": {},
   "outputs": [],
   "source": [
    "predictions_dict['m1'] = single_fitting_cycle(\n",
    "    state, district, train_period=21, val_period=0, num_evals=1000,\n",
    "    data_from_tracker=False, initialisation='intermediate', model=model, \n",
    "    smooth_jump=True, algo=tpe,\n",
    "    which_compartments=['active', 'total', 'deceased', 'recovered'])\n",
    "\n",
    "predictions_dict['m1_rand'] = single_fitting_cycle(\n",
    "    state, district, train_period=21, val_period=0, num_evals=1000,\n",
    "    data_from_tracker=False, initialisation='intermediate', model=model, \n",
    "    smooth_jump=True, algo=rand,\n",
    "    which_compartments=['active', 'total', 'deceased', 'recovered'])\n",
    "\n",
    "predictions_dict['state'] = state\n",
    "predictions_dict['dist'] = district\n",
    "predictions_dict['fitting_date'] = datetime.datetime.now().strftime(\"%Y-%m-%d\")\n",
    "predictions_dict['datasource'] = 'covid19api' if predictions_dict['m1']['data_from_tracker'] else 'municipality'\n",
    "predictions_dict['variable_param_ranges'] = predictions_dict['m1']['variable_param_ranges']"
   ]
  },
  {
   "cell_type": "code",
   "execution_count": null,
   "metadata": {
    "jupyter": {
     "outputs_hidden": true
    }
   },
   "outputs": [],
   "source": [
    "params_array, losses_array = _order_trials_by_loss(predictions_dict['m1'])\n",
    "\n",
    "for param in params_array[0].keys():\n",
    "    fig, ax = plt.subplots(figsize=(12, 12))\n",
    "    ax.hist([param_dict[param] for param_dict in params_array])\n",
    "    ax.set_title(f'Historgram of parameter {param}')\n",
    "    ax.set_ylabel('Count')\n",
    "    plt.show()"
   ]
  },
  {
   "cell_type": "code",
   "execution_count": null,
   "metadata": {
    "jupyter": {
     "outputs_hidden": true,
     "source_hidden": true
    }
   },
   "outputs": [],
   "source": [
    "params_array, losses_array = _order_trials_by_loss(predictions_dict['m1_rand'])\n",
    "\n",
    "for param in params_array[0].keys():\n",
    "    fig, ax = plt.subplots(figsize=(12, 12))\n",
    "    ax.hist([param_dict[param] for param_dict in params_array])\n",
    "    ax.set_title(f'Historgram of parameter {param}')\n",
    "    ax.set_ylabel('Count')\n",
    "    plt.show()"
   ]
  },
  {
   "cell_type": "code",
   "execution_count": null,
   "metadata": {},
   "outputs": [],
   "source": [
    "import scipy.stats"
   ]
  },
  {
   "cell_type": "code",
   "execution_count": null,
   "metadata": {},
   "outputs": [],
   "source": [
    "dist = scipy.stats.expon\n",
    "param = dist.fit([param_dict['E_hosp_ratio'] for param_dict in params_array])"
   ]
  },
  {
   "cell_type": "code",
   "execution_count": null,
   "metadata": {},
   "outputs": [],
   "source": [
    "dist.pdf(np.linspace(1, 1.5, 100), *param[:-2], loc=param[-2], scale=param[-1])"
   ]
  },
  {
   "cell_type": "code",
   "execution_count": null,
   "metadata": {},
   "outputs": [],
   "source": [
    "pdf_fitted = dist.pdf(x, *param[:-2], loc=param[-2], scale=param[-1]) * size"
   ]
  }
 ],
 "metadata": {
  "kernelspec": {
   "display_name": "Python 3",
   "language": "python",
   "name": "python3"
  },
  "language_info": {
   "codemirror_mode": {
    "name": "ipython",
    "version": 3
   },
   "file_extension": ".py",
   "mimetype": "text/x-python",
   "name": "python",
   "nbconvert_exporter": "python",
   "pygments_lexer": "ipython3"
  }
 },
 "nbformat": 4,
 "nbformat_minor": 4
}
