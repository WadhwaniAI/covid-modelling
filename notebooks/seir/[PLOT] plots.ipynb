{
 "cells": [
  {
   "cell_type": "code",
   "execution_count": null,
   "metadata": {},
   "outputs": [],
   "source": [
    "%load_ext autoreload\n",
    "%autoreload 2"
   ]
  },
  {
   "cell_type": "code",
   "execution_count": null,
   "metadata": {},
   "outputs": [],
   "source": [
    "import pandas as pd\n",
    "import numpy as np\n",
    "import matplotlib.pyplot as plt\n",
    "from matplotlib.lines import Line2D\n",
    "from glob import glob\n",
    "import pickle\n",
    "import copy\n",
    "import os\n",
    "import yaml\n",
    "from datetime import timedelta\n",
    "\n",
    "import sys\n",
    "sys.path.append('../../')\n",
    "\n",
    "from data.processing.processing import get_data_from_tracker\n",
    "\n",
    "from utils.fitting.loss import Loss_Calculator\n",
    "from utils.generic.config import read_config\n",
    "from utils.fitting.smooth_jump import smooth_big_jump\n",
    "\n",
    "from viz.data import plot_data\n",
    "from viz import plot_forecast\n",
    "from utils.generic.enums.columns import *\n",
    "from viz.utils import setup_plt, axis_formatter"
   ]
  },
  {
   "cell_type": "markdown",
   "metadata": {},
   "source": [
    "# Smoothing Mumbai"
   ]
  },
  {
   "cell_type": "code",
   "execution_count": null,
   "metadata": {},
   "outputs": [],
   "source": [
    "config_filename = 'default.yaml'\n",
    "config = read_config(config_filename)"
   ]
  },
  {
   "cell_type": "code",
   "execution_count": null,
   "metadata": {},
   "outputs": [],
   "source": [
    "df = get_data_from_tracker(state='Maharashtra', district='Mumbai', use_dataframe='data_all')['data_frame']\n",
    "df = df[df['date'] <= '2020-07-31']"
   ]
  },
  {
   "cell_type": "code",
   "execution_count": null,
   "metadata": {},
   "outputs": [],
   "source": [
    "# Perform smoothing\n",
    "print('smoothing params', config['fitting']['data']['smooth_jump_params'])\n",
    "df_smooth, _ = smooth_big_jump(df, config['fitting']['data']['smooth_jump_params'])"
   ]
  },
  {
   "cell_type": "code",
   "execution_count": null,
   "metadata": {},
   "outputs": [],
   "source": [
    "import matplotlib as mpl\n",
    "## for Palatino and other serif fonts use:\n",
    "plt.rcParams.update({\n",
    "    'text.usetex': True,\n",
    "    'font.size': 20,\n",
    "    'font.family': 'Palatino',\n",
    " })"
   ]
  },
  {
   "cell_type": "code",
   "execution_count": null,
   "metadata": {},
   "outputs": [],
   "source": [
    "fig, ax = plt.subplots(figsize=(12, 12))\n",
    "for comp in ['active', 'total', 'recovered', 'deceased']:\n",
    "    compartment = Columns.from_name(comp)\n",
    "    ax.plot(df[compartments['date'][0].name].to_numpy(), df[compartment.name].to_numpy(),\n",
    "            '-o', color=compartment.color, label='Simulated Data, Unspiked ({})'.format(compartment.label))\n",
    "    ax.plot(df_smooth[compartments['date'][0].name].to_numpy(), df_smooth[compartment.name].to_numpy(),\n",
    "            '-', color=compartment.color, label='Smoothed Data ({})'.format(compartment.label))\n",
    "legend_elements = [\n",
    "    Line2D([0], [0], ls='-', marker='o', ms=5, color='black', label='Original Data'),\n",
    "    Line2D([0], [0], ls='-', color='black', label='Smoothed Data')\n",
    "]\n",
    "first_legend = ax.legend(handles=legend_elements, loc='upper left')\n",
    "ax.add_artist(first_legend)\n",
    "legend_elements = [\n",
    "    Line2D([0], [0], ls='-', color='C0', label=f'Confirmed Cases'),\n",
    "    Line2D([0], [0], ls='-', color='orange', label=f'Active Cases'),\n",
    "    Line2D([0], [0], ls='-', color='green', label=f'Recovered'),\n",
    "    Line2D([0], [0], ls='-', color='red', label=f'Deceased'),\n",
    "]\n",
    "ax.legend(handles=legend_elements, loc=[0.01, 0.7])\n",
    "axis_formatter(ax)\n",
    "ax.set_title('Smoothing Algorithm Illustration for Mumbai, India')\n",
    "plt.tight_layout()\n",
    "fig.savefig(f'../../../paper/plots/smoothing-mumbai.pdf', format='pdf', bbox_inches='tight', pad_inches=0)"
   ]
  },
  {
   "cell_type": "markdown",
   "metadata": {},
   "source": [
    "# Mumbai Performance Plots"
   ]
  },
  {
   "cell_type": "code",
   "execution_count": null,
   "metadata": {},
   "outputs": [],
   "source": [
    "folder_name = 'start_period'\n",
    "config_filename = glob(f'../../misc/reports/{folder_name}/*.yaml')[0]\n",
    "config = read_config(config_filename)\n",
    "\n",
    "with open(f'../../misc/reports/{folder_name}/predictions_dict.pkl', 'rb') as f:\n",
    "    start_predictions_dict = pickle.load(f)\n",
    "    \n",
    "folder_name = 'mid_period'\n",
    "config_filename = glob(f'../../misc/reports/{folder_name}/*.yaml')[0]\n",
    "config = read_config(config_filename)\n",
    "\n",
    "with open(f'../../misc/reports/{folder_name}/predictions_dict.pkl', 'rb') as f:\n",
    "    mid_predictions_dict = pickle.load(f)\n",
    "    \n",
    "folder_name = 'end_period'\n",
    "config_filename = glob(f'../../misc/reports/{folder_name}/*.yaml')[0]\n",
    "config = read_config(config_filename)\n",
    "\n",
    "with open(f'../../misc/reports/{folder_name}/predictions_dict.pkl', 'rb') as f:\n",
    "    end_predictions_dict = pickle.load(f)"
   ]
  },
  {
   "cell_type": "code",
   "execution_count": null,
   "metadata": {},
   "outputs": [],
   "source": [
    "def return_test_error(predictions_dict):\n",
    "    em_forecast = copy.deepcopy(predictions_dict['m2']['forecasts']['ensemble_mean'])\n",
    "    df_train = copy.deepcopy(predictions_dict['m2']['df_train'])\n",
    "    df_district = copy.deepcopy(predictions_dict['m2']['df_district'])\n",
    "    df_district = df_district[df_district['date'] > predictions_dict['m2']['df_train'].iloc[-1]['date']].reset_index(drop=True)\n",
    "    em_forecast = em_forecast[em_forecast['date'] > predictions_dict['m2']['df_train'].iloc[-1]['date']].reset_index(drop=True)\n",
    "    df_district = df_district[df_district['date'] <= em_forecast.iloc[-1]['date']].reset_index(drop=True)\n",
    "\n",
    "    lc = Loss_Calculator()\n",
    "    loss_dict = lc.calc_loss_dict(em_forecast, df_district, method='mape')\n",
    "    \n",
    "    return loss_dict"
   ]
  },
  {
   "cell_type": "code",
   "execution_count": null,
   "metadata": {},
   "outputs": [],
   "source": [
    "plt.rcParams.update({\n",
    "    'text.usetex': True,\n",
    "    'font.size': 15,\n",
    "    'font.family': 'Palatino',\n",
    "})"
   ]
  },
  {
   "cell_type": "code",
   "execution_count": null,
   "metadata": {},
   "outputs": [],
   "source": [
    "fig, axs = plt.subplots(figsize=(30, 12), nrows=2, ncols=6)\n",
    "\n",
    "plot_forecast(start_predictions_dict, \n",
    "              config['fitting']['data']['dataloading_params']['location_description'],\n",
    "              which_compartments=config['fitting']['loss']['loss_compartments'],\n",
    "              fits_to_plot=['ensemble_mean'], error_bars=False, smoothed_gt=True,\n",
    "              plotting_config=config['plotting'], figsize=(13, 12), axs=axs[0:, 0:2])\n",
    "\n",
    "plot_forecast(mid_predictions_dict, \n",
    "              config['fitting']['data']['dataloading_params']['location_description'],\n",
    "              which_compartments=config['fitting']['loss']['loss_compartments'],\n",
    "              fits_to_plot=['ensemble_mean'], error_bars=False, smoothed_gt=True,\n",
    "              plotting_config=config['plotting'], figsize=(13, 12), axs=axs[0:, 2:4])\n",
    "\n",
    "plot_forecast(end_predictions_dict, \n",
    "              config['fitting']['data']['dataloading_params']['location_description'],\n",
    "              which_compartments=config['fitting']['loss']['loss_compartments'],\n",
    "              fits_to_plot=['ensemble_mean'], error_bars=False, smoothed_gt=True,\n",
    "              plotting_config=config['plotting'], figsize=(13, 12), axs=axs[0:, 4:6])\n",
    "\n",
    "plt.figtext(0.25,0.92, \"(a) Starting Phase\", va=\"center\", ha=\"center\", size=30)\n",
    "plt.figtext(0.52,0.92, \"(b) Middle Phase\", va=\"center\", ha=\"center\", size=30)\n",
    "plt.figtext(0.78,0.92, \"(c) End Phase\", va=\"center\", ha=\"center\", size=30)\n",
    "\n",
    "legend_elements = [\n",
    "    Line2D([0], [0], ls='-', marker='o', ms=5, color='black', label='Ground Truth'),\n",
    "    Line2D([0], [0], ls='-', color='black', label='EM Forecast'),\n",
    "    Line2D([0], [0], ls='--', color='black', label='Training Range')\n",
    "]\n",
    "axs[0, 0].legend(handles=legend_elements)"
   ]
  },
  {
   "cell_type": "code",
   "execution_count": null,
   "metadata": {},
   "outputs": [],
   "source": [
    "config['plotting']['separate_compartments_separate_ax'] = False"
   ]
  },
  {
   "cell_type": "code",
   "execution_count": null,
   "metadata": {},
   "outputs": [],
   "source": [
    "fig, axs = plt.subplots(figsize=(30, 8), nrows=1, ncols=3)\n",
    "\n",
    "plot_forecast(start_predictions_dict, \n",
    "              config['fitting']['data']['dataloading_params']['location_description'],\n",
    "              which_compartments=config['fitting']['loss']['loss_compartments'], twin_axes=True,\n",
    "              fits_to_plot=['ensemble_mean'], smoothed_gt=True, log_scale=False,\n",
    "              plotting_config=config['plotting'], figsize=(13, 12), axs=axs.flat[0])\n",
    "\n",
    "plot_forecast(mid_predictions_dict, \n",
    "              config['fitting']['data']['dataloading_params']['location_description'],\n",
    "              which_compartments=config['fitting']['loss']['loss_compartments'], twin_axes=True,\n",
    "              fits_to_plot=['ensemble_mean'], smoothed_gt=True, log_scale=False,\n",
    "              plotting_config=config['plotting'], figsize=(13, 12), axs=axs.flat[1])\n",
    "\n",
    "plot_forecast(end_predictions_dict, \n",
    "              config['fitting']['data']['dataloading_params']['location_description'],\n",
    "              which_compartments=config['fitting']['loss']['loss_compartments'], twin_axes=True,\n",
    "              fits_to_plot=['ensemble_mean'], smoothed_gt=True, log_scale=False,\n",
    "              plotting_config=config['plotting'], figsize=(13, 12), axs=axs.flat[2])\n",
    "\n",
    "plt.figtext(0.25,0.92, \"(a) Starting Phase\", va=\"center\", ha=\"center\", size=30)\n",
    "plt.figtext(0.52,0.92, \"(b) Middle Phase\", va=\"center\", ha=\"center\", size=30)\n",
    "plt.figtext(0.78,0.92, \"(c) End Phase\", va=\"center\", ha=\"center\", size=30)\n",
    "\n",
    "legend_elements = [\n",
    "    Line2D([0], [0], ls='-', marker='o', ms=5, color='black', label='Ground Truth'),\n",
    "    Line2D([0], [0], ls='-', color='black', label='EM Forecast'),\n",
    "    Line2D([0], [0], ls='--', color='black', label='Training Range')\n",
    "]\n",
    "first_legend = axs[0].legend(handles=legend_elements, loc='upper left')\n",
    "axs[0].add_artist(first_legend) \n",
    "\n",
    "legend_elements = [\n",
    "    Line2D([0], [0], ls='-', color='C0', label=f'Confirmed'),\n",
    "    Line2D([0], [0], ls='-', color='orange', label=f'Active'),\n",
    "    Line2D([0], [0], ls='-', color='green', label=f'Recovered'),\n",
    "    Line2D([0], [0], ls='-', color='red', label=f'Deceased'),\n",
    "]\n",
    "axs[0].legend(handles=legend_elements, loc=[0.35, 0.77])"
   ]
  },
  {
   "cell_type": "code",
   "execution_count": null,
   "metadata": {},
   "outputs": [],
   "source": [
    "fig.savefig('../../../paper/plots/bombay-plots-twin-axes.pdf', format='pdf', bbox_inches='tight', pad_inches=0)"
   ]
  },
  {
   "cell_type": "code",
   "execution_count": null,
   "metadata": {},
   "outputs": [],
   "source": [
    "return_test_error(start_predictions_dict)"
   ]
  },
  {
   "cell_type": "code",
   "execution_count": null,
   "metadata": {},
   "outputs": [],
   "source": []
  },
  {
   "cell_type": "code",
   "execution_count": null,
   "metadata": {},
   "outputs": [],
   "source": []
  }
 ],
 "metadata": {
  "kernelspec": {
   "display_name": "Python 3",
   "language": "python",
   "name": "python3"
  },
  "language_info": {
   "codemirror_mode": {
    "name": "ipython",
    "version": 3
   },
   "file_extension": ".py",
   "mimetype": "text/x-python",
   "name": "python",
   "nbconvert_exporter": "python",
   "pygments_lexer": "ipython3"
  }
 },
 "nbformat": 4,
 "nbformat_minor": 4
}
