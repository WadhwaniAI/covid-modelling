{
 "cells": [
  {
   "cell_type": "code",
   "execution_count": 1,
   "metadata": {},
   "outputs": [],
   "source": [
    "%load_ext autoreload\n",
    "%autoreload 2"
   ]
  },
  {
   "cell_type": "code",
   "execution_count": 2,
   "metadata": {},
   "outputs": [],
   "source": [
    "import os\n",
    "import pdb\n",
    "import json\n",
    "import numpy as np\n",
    "import pandas as pd\n",
    "import matplotlib.pyplot as plt\n",
    "import matplotlib.dates as mdates\n",
    "import seaborn as sns\n",
    "from hyperopt import hp, tpe, fmin, Trials\n",
    "from tqdm import tqdm\n",
    "\n",
    "from collections import OrderedDict, defaultdict\n",
    "import itertools\n",
    "from functools import partial\n",
    "from datetime import datetime\n",
    "from joblib import Parallel, delayed\n",
    "import copy\n",
    "\n",
    "from data.dataloader import get_jhu_data, get_covid19india_api_data\n",
    "from data.processing import get_district_time_series\n",
    "\n",
    "from models.seir.seir_testing import SEIR_Testing\n",
    "from main.seir.optimiser import Optimiser\n",
    "from main.seir.losses import Loss_Calculator"
   ]
  },
  {
   "cell_type": "code",
   "execution_count": 3,
   "metadata": {},
   "outputs": [],
   "source": [
    "def get_data(dataframes, state, district, use_dataframe='districts_daily', disable_tracker=False, filename=None):\n",
    "    if disable_tracker:\n",
    "        return pd.read_csv(filename)\n",
    "    \n",
    "    df_district = get_district_time_series(dataframes, state=state, district=district, use_dataframe=use_dataframe)\n",
    "    return df_district"
   ]
  },
  {
   "cell_type": "code",
   "execution_count": 4,
   "metadata": {},
   "outputs": [],
   "source": [
    "dataframes = get_covid19india_api_data()"
   ]
  },
  {
   "cell_type": "code",
   "execution_count": 5,
   "metadata": {},
   "outputs": [],
   "source": [
    "state = 'Maharashtra'\n",
    "district = 'Pune'"
   ]
  },
  {
   "cell_type": "code",
   "execution_count": 6,
   "metadata": {},
   "outputs": [
    {
     "name": "stderr",
     "output_type": "stream",
     "text": [
      "/home/users/sansiddh/anaconda3/envs/covid/lib/python3.8/site-packages/pandas/core/indexing.py:1048: SettingWithCopyWarning: \n",
      "A value is trying to be set on a copy of a slice from a DataFrame.\n",
      "Try using .loc[row_indexer,col_indexer] = value instead\n",
      "\n",
      "See the caveats in the documentation: https://pandas.pydata.org/pandas-docs/stable/user_guide/indexing.html#returning-a-view-versus-a-copy\n",
      "  self.obj[item_labels[indexer[info_axis]]] = value\n"
     ]
    }
   ],
   "source": [
    "df_district = get_data(dataframes, state, district, use_dataframe='districts_daily')"
   ]
  },
  {
   "cell_type": "code",
   "execution_count": 7,
   "metadata": {},
   "outputs": [
    {
     "data": {
      "text/html": [
       "<div>\n",
       "<style scoped>\n",
       "    .dataframe tbody tr th:only-of-type {\n",
       "        vertical-align: middle;\n",
       "    }\n",
       "\n",
       "    .dataframe tbody tr th {\n",
       "        vertical-align: top;\n",
       "    }\n",
       "\n",
       "    .dataframe thead th {\n",
       "        text-align: right;\n",
       "    }\n",
       "</style>\n",
       "<table border=\"1\" class=\"dataframe\">\n",
       "  <thead>\n",
       "    <tr style=\"text-align: right;\">\n",
       "      <th></th>\n",
       "      <th>state</th>\n",
       "      <th>district</th>\n",
       "      <th>date</th>\n",
       "      <th>hospitalised</th>\n",
       "      <th>total_infected</th>\n",
       "      <th>deceased</th>\n",
       "      <th>recovered</th>\n",
       "    </tr>\n",
       "  </thead>\n",
       "  <tbody>\n",
       "    <tr>\n",
       "      <th>0</th>\n",
       "      <td>Maharashtra</td>\n",
       "      <td>Pune</td>\n",
       "      <td>2020-04-24</td>\n",
       "      <td>696</td>\n",
       "      <td>910</td>\n",
       "      <td>62</td>\n",
       "      <td>152</td>\n",
       "    </tr>\n",
       "    <tr>\n",
       "      <th>1</th>\n",
       "      <td>Maharashtra</td>\n",
       "      <td>Pune</td>\n",
       "      <td>2020-04-25</td>\n",
       "      <td>772</td>\n",
       "      <td>1030</td>\n",
       "      <td>73</td>\n",
       "      <td>185</td>\n",
       "    </tr>\n",
       "    <tr>\n",
       "      <th>2</th>\n",
       "      <td>Maharashtra</td>\n",
       "      <td>Pune</td>\n",
       "      <td>2020-04-26</td>\n",
       "      <td>770</td>\n",
       "      <td>1052</td>\n",
       "      <td>76</td>\n",
       "      <td>206</td>\n",
       "    </tr>\n",
       "    <tr>\n",
       "      <th>3</th>\n",
       "      <td>Maharashtra</td>\n",
       "      <td>Pune</td>\n",
       "      <td>2020-04-27</td>\n",
       "      <td>762</td>\n",
       "      <td>1052</td>\n",
       "      <td>80</td>\n",
       "      <td>210</td>\n",
       "    </tr>\n",
       "    <tr>\n",
       "      <th>4</th>\n",
       "      <td>Maharashtra</td>\n",
       "      <td>Pune</td>\n",
       "      <td>2020-04-28</td>\n",
       "      <td>873</td>\n",
       "      <td>1174</td>\n",
       "      <td>80</td>\n",
       "      <td>221</td>\n",
       "    </tr>\n",
       "    <tr>\n",
       "      <th>5</th>\n",
       "      <td>Maharashtra</td>\n",
       "      <td>Pune</td>\n",
       "      <td>2020-04-29</td>\n",
       "      <td>863</td>\n",
       "      <td>1192</td>\n",
       "      <td>85</td>\n",
       "      <td>244</td>\n",
       "    </tr>\n",
       "    <tr>\n",
       "      <th>6</th>\n",
       "      <td>Maharashtra</td>\n",
       "      <td>Pune</td>\n",
       "      <td>2020-04-30</td>\n",
       "      <td>912</td>\n",
       "      <td>1248</td>\n",
       "      <td>88</td>\n",
       "      <td>248</td>\n",
       "    </tr>\n",
       "    <tr>\n",
       "      <th>7</th>\n",
       "      <td>Maharashtra</td>\n",
       "      <td>Pune</td>\n",
       "      <td>2020-05-01</td>\n",
       "      <td>901</td>\n",
       "      <td>1248</td>\n",
       "      <td>99</td>\n",
       "      <td>248</td>\n",
       "    </tr>\n",
       "    <tr>\n",
       "      <th>8</th>\n",
       "      <td>Maharashtra</td>\n",
       "      <td>Pune</td>\n",
       "      <td>2020-05-02</td>\n",
       "      <td>952</td>\n",
       "      <td>1339</td>\n",
       "      <td>102</td>\n",
       "      <td>285</td>\n",
       "    </tr>\n",
       "    <tr>\n",
       "      <th>9</th>\n",
       "      <td>Maharashtra</td>\n",
       "      <td>Pune</td>\n",
       "      <td>2020-05-03</td>\n",
       "      <td>951</td>\n",
       "      <td>1396</td>\n",
       "      <td>106</td>\n",
       "      <td>339</td>\n",
       "    </tr>\n",
       "    <tr>\n",
       "      <th>10</th>\n",
       "      <td>Maharashtra</td>\n",
       "      <td>Pune</td>\n",
       "      <td>2020-05-04</td>\n",
       "      <td>951</td>\n",
       "      <td>1396</td>\n",
       "      <td>106</td>\n",
       "      <td>339</td>\n",
       "    </tr>\n",
       "  </tbody>\n",
       "</table>\n",
       "</div>"
      ],
      "text/plain": [
       "          state district       date hospitalised total_infected deceased  \\\n",
       "0   Maharashtra     Pune 2020-04-24          696            910       62   \n",
       "1   Maharashtra     Pune 2020-04-25          772           1030       73   \n",
       "2   Maharashtra     Pune 2020-04-26          770           1052       76   \n",
       "3   Maharashtra     Pune 2020-04-27          762           1052       80   \n",
       "4   Maharashtra     Pune 2020-04-28          873           1174       80   \n",
       "5   Maharashtra     Pune 2020-04-29          863           1192       85   \n",
       "6   Maharashtra     Pune 2020-04-30          912           1248       88   \n",
       "7   Maharashtra     Pune 2020-05-01          901           1248       99   \n",
       "8   Maharashtra     Pune 2020-05-02          952           1339      102   \n",
       "9   Maharashtra     Pune 2020-05-03          951           1396      106   \n",
       "10  Maharashtra     Pune 2020-05-04          951           1396      106   \n",
       "\n",
       "   recovered  \n",
       "0        152  \n",
       "1        185  \n",
       "2        206  \n",
       "3        210  \n",
       "4        221  \n",
       "5        244  \n",
       "6        248  \n",
       "7        248  \n",
       "8        285  \n",
       "9        339  \n",
       "10       339  "
      ]
     },
     "execution_count": 7,
     "metadata": {},
     "output_type": "execute_result"
    }
   ],
   "source": [
    "df_district"
   ]
  },
  {
   "cell_type": "code",
   "execution_count": 8,
   "metadata": {},
   "outputs": [],
   "source": [
    "def train_val_split(df_district, train_rollingmean=False, val_rollingmean=False, val_size=5, which_columns = ['hospitalised', 'total_infected', 'deceased', 'recovered']):\n",
    "    print(\"splitting data ..\")\n",
    "    df_true_fitting = copy.copy(df_district)\n",
    "    for column in which_columns:\n",
    "        df_true_fitting[column] = df_true_fitting[column].rolling(5, center=True).mean()\n",
    "    \n",
    "    df_true_fitting = df_true_fitting[np.logical_not(df_true_fitting['total_infected'].isna())]\n",
    "    df_true_fitting.reset_index(inplace=True, drop=True)\n",
    "    \n",
    "    if train_rollingmean:\n",
    "        if val_size == 0:\n",
    "            df_train = pd.concat([df_true_fitting, df_district.iloc[-(val_size+2):, :]], ignore_index=True)\n",
    "            return df_train, None, df_true_fitting\n",
    "        else:\n",
    "            df_train = pd.concat([df_true_fitting.iloc[:-val_size, :], df_district.iloc[-(val_size+2):-val_size, :]], ignore_index=True)   \n",
    "    else:\n",
    "        if val_size == 0:\n",
    "            return df_district, None, df_true_fitting  \n",
    "        else:\n",
    "            df_train = df_district.iloc[:-val_size, :]\n",
    "        \n",
    "    if val_rollingmean:\n",
    "        df_val = pd.concat([df_true_fitting.iloc[-(val_size-2):, :], df_district.iloc[-2:, :]], ignore_index=True)\n",
    "    else:\n",
    "        df_val = df_district.iloc[-val_size:, :]\n",
    "    df_val.reset_index(inplace=True, drop=True)\n",
    "    return df_train, df_val, df_true_fitting"
   ]
  },
  {
   "cell_type": "code",
   "execution_count": 9,
   "metadata": {},
   "outputs": [
    {
     "name": "stdout",
     "output_type": "stream",
     "text": [
      "splitting data ..\n"
     ]
    }
   ],
   "source": [
    "df_train, df_val, df_true_fitting = train_val_split(df_district, train_rollingmean=False, val_rollingmean=False, val_size=5)"
   ]
  },
  {
   "cell_type": "code",
   "execution_count": 10,
   "metadata": {},
   "outputs": [
    {
     "data": {
      "text/html": [
       "<div>\n",
       "<style scoped>\n",
       "    .dataframe tbody tr th:only-of-type {\n",
       "        vertical-align: middle;\n",
       "    }\n",
       "\n",
       "    .dataframe tbody tr th {\n",
       "        vertical-align: top;\n",
       "    }\n",
       "\n",
       "    .dataframe thead th {\n",
       "        text-align: right;\n",
       "    }\n",
       "</style>\n",
       "<table border=\"1\" class=\"dataframe\">\n",
       "  <thead>\n",
       "    <tr style=\"text-align: right;\">\n",
       "      <th></th>\n",
       "      <th>state</th>\n",
       "      <th>district</th>\n",
       "      <th>date</th>\n",
       "      <th>hospitalised</th>\n",
       "      <th>total_infected</th>\n",
       "      <th>deceased</th>\n",
       "      <th>recovered</th>\n",
       "    </tr>\n",
       "  </thead>\n",
       "  <tbody>\n",
       "    <tr>\n",
       "      <th>0</th>\n",
       "      <td>Maharashtra</td>\n",
       "      <td>Pune</td>\n",
       "      <td>2020-04-30</td>\n",
       "      <td>912</td>\n",
       "      <td>1248</td>\n",
       "      <td>88</td>\n",
       "      <td>248</td>\n",
       "    </tr>\n",
       "    <tr>\n",
       "      <th>1</th>\n",
       "      <td>Maharashtra</td>\n",
       "      <td>Pune</td>\n",
       "      <td>2020-05-01</td>\n",
       "      <td>901</td>\n",
       "      <td>1248</td>\n",
       "      <td>99</td>\n",
       "      <td>248</td>\n",
       "    </tr>\n",
       "    <tr>\n",
       "      <th>2</th>\n",
       "      <td>Maharashtra</td>\n",
       "      <td>Pune</td>\n",
       "      <td>2020-05-02</td>\n",
       "      <td>952</td>\n",
       "      <td>1339</td>\n",
       "      <td>102</td>\n",
       "      <td>285</td>\n",
       "    </tr>\n",
       "    <tr>\n",
       "      <th>3</th>\n",
       "      <td>Maharashtra</td>\n",
       "      <td>Pune</td>\n",
       "      <td>2020-05-03</td>\n",
       "      <td>951</td>\n",
       "      <td>1396</td>\n",
       "      <td>106</td>\n",
       "      <td>339</td>\n",
       "    </tr>\n",
       "    <tr>\n",
       "      <th>4</th>\n",
       "      <td>Maharashtra</td>\n",
       "      <td>Pune</td>\n",
       "      <td>2020-05-04</td>\n",
       "      <td>951</td>\n",
       "      <td>1396</td>\n",
       "      <td>106</td>\n",
       "      <td>339</td>\n",
       "    </tr>\n",
       "  </tbody>\n",
       "</table>\n",
       "</div>"
      ],
      "text/plain": [
       "         state district       date hospitalised total_infected deceased  \\\n",
       "0  Maharashtra     Pune 2020-04-30          912           1248       88   \n",
       "1  Maharashtra     Pune 2020-05-01          901           1248       99   \n",
       "2  Maharashtra     Pune 2020-05-02          952           1339      102   \n",
       "3  Maharashtra     Pune 2020-05-03          951           1396      106   \n",
       "4  Maharashtra     Pune 2020-05-04          951           1396      106   \n",
       "\n",
       "  recovered  \n",
       "0       248  \n",
       "1       248  \n",
       "2       285  \n",
       "3       339  \n",
       "4       339  "
      ]
     },
     "execution_count": 10,
     "metadata": {},
     "output_type": "execute_result"
    }
   ],
   "source": [
    "df_val"
   ]
  },
  {
   "cell_type": "code",
   "execution_count": 17,
   "metadata": {},
   "outputs": [],
   "source": [
    "def fit_district(dataframes, state, district, train_period=10, val_period=5, train_on_val=False):\n",
    "    print('fitting to data with \"train_on_val\" set to {} ..'.format(train_on_val))\n",
    "    if not os.path.exists('./plots'):\n",
    "        os.makedirs('./plots')\n",
    "\n",
    "    df_district = get_data(dataframes, state=state, district=district, use_dataframe='districts_daily')\n",
    "    df_district_raw_data = get_data(dataframes, state=state, district=district, use_dataframe='raw_data')\n",
    "    if district is None:\n",
    "        district = ''\n",
    "        \n",
    "    # Get train val split\n",
    "    if train_on_val:\n",
    "        df_train, df_val, df_true_fitting = train_val_split(df_district, val_rollingmean=False, val_size=0)\n",
    "    else:\n",
    "        df_train, df_val, df_true_fitting = train_val_split(df_district, val_rollingmean=False, val_size=val_period)\n",
    "\n",
    "    print('train\\n', df_train.tail())\n",
    "    print('val\\n', df_val)\n",
    "\n",
    "    # Initialise Optimiser\n",
    "    optimiser = Optimiser()\n",
    "    # Get the fixed params\n",
    "    default_params = optimiser.init_default_params(df_train, N=9.43e6, init_infected=max(df_district_raw_data.iloc[0, :]['total_infected'], 1), \n",
    "                                                   start_date=df_district_raw_data.iloc[0, :]['date'])\n",
    "\n",
    "    # Create searchspace of variable params\n",
    "    variable_param_ranges = {\n",
    "        'R0' : hp.uniform('R0', 1.6, 5),\n",
    "        'T_inc' : hp.uniform('T_inc', 4, 5),\n",
    "        'T_inf' : hp.uniform('T_inf', 3, 4),\n",
    "        'T_recov_severe' : hp.uniform('T_recov_severe', 9, 20),\n",
    "        'P_severe' : hp.uniform('P_severe', 0.3, 0.95),\n",
    "        'P_fatal' : hp.uniform('P_fatal', 0, 0.3),\n",
    "        'intervention_amount' : hp.uniform('intervention_amount', 0, 1)\n",
    "    }\n",
    "    \n",
    "    # Perform Bayesian Optimisation\n",
    "    total_days = (df_train.iloc[-1, :]['date'] - default_params['starting_date']).days + 1\n",
    "    best, trials = optimiser.bayes_opt(df_train, default_params, variable_param_ranges, method='mape', num_evals=2500, \n",
    "                                       loss_indices=[-train_period, None], total_days=total_days,\n",
    "                                       which_compartments=['hospitalised', 'recovered', 'total_infected', 'deceased'])\n",
    "\n",
    "    print('best parameters\\n', best)\n",
    "    \n",
    "    # Get Predictions dataframe\n",
    "    df_prediction = optimiser.solve(best, default_params, df_train)\n",
    "    df_temp = df_prediction.loc[df_prediction['date'].isin(df_train['date']), ['date', 'hospitalised', 'total_infected', 'deceased', 'recovered']]\n",
    "    import pdb; pdb.set_trace()\n",
    "\n",
    "    # Create plots\n",
    "    fig, ax = plt.subplots(figsize=(12, 12))\n",
    "    ax.plot(df_district['date'], df_district['total_infected'], label='Confirmed Cases (Observed)')\n",
    "    ax.plot(df_true_fitting['date'], df_true_fitting['total_infected'], label='Confirmed Cases (Rolling Avg(5))')\n",
    "    if train_on_val:\n",
    "        ax.plot([df_train.iloc[-train_period, :]['date'], df_train.iloc[-train_period, :]['date']], [min(df_train['total_infected']), max(df_train['total_infected'])], '--r', label='Train Period Starts')\n",
    "    else:\n",
    "        ax.plot([df_train.iloc[-1, :]['date'], df_train.iloc[-1, :]['date']], [min(df_train['total_infected']), max(df_val['total_infected'])], '--r', label='Train Test Boundary')\n",
    "    ax.xaxis.set_major_locator(mdates.DayLocator(interval=15))\n",
    "    ax.xaxis.set_minor_locator(mdates.DayLocator(interval=1))\n",
    "    ax.xaxis.set_major_formatter(mdates.DateFormatter('%Y-%m-%d'))\n",
    "    plt.ylabel('No of People')\n",
    "    plt.xlabel('Time')\n",
    "    plt.legend()\n",
    "    plt.title('Rolling Avg vs Observed ({} {})'.format(state, district))\n",
    "    plt.grid()\n",
    "    plt.savefig('./plots/{}_observed_{}_{}.png'.format(now, state, district))\n",
    "\n",
    "    fig, ax = plt.subplots(figsize=(12, 12))\n",
    "    ax.plot(df_train['date'], df_train['total_infected'], color='orange', label='Confirmed Cases (Rolling Avg (5))')\n",
    "    ax.plot(df_prediction['date'], df_prediction['total_infected'], '-g', label='Confirmed Cases (Predicted)')\n",
    "    if train_on_val:\n",
    "        ax.plot([df_train.iloc[-train_period, :]['date'], df_train.iloc[-train_period, :]['date']], [min(df_train['total_infected']), max(df_train['total_infected'])], '--r', label='Train Period Starts')\n",
    "    else:\n",
    "        ax.plot([df_train.iloc[-1, :]['date'], df_train.iloc[-1, :]['date']], [min(df_train['total_infected']), max(df_val['total_infected'])], '--r', label='Train Test Boundary')\n",
    "    ax.xaxis.set_major_locator(mdates.DayLocator(interval=15))\n",
    "    ax.xaxis.set_minor_locator(mdates.DayLocator(interval=1))\n",
    "    ax.xaxis.set_major_formatter(mdates.DateFormatter('%Y-%m-%d'))\n",
    "    plt.ylabel('No of People')\n",
    "    plt.xlabel('Time')\n",
    "    plt.legend()\n",
    "    plt.title('Total Confirmed Cases ({} {})'.format(state, district))\n",
    "    plt.grid()\n",
    "    fname = './plots/{}_predictions_{}_{}.png'.format(now, state, district)\n",
    "    plt.savefig(fname)\n",
    "    print(\"plot saved as {}\".format(fname))\n",
    "    \n",
    "    return best, default_params, optimiser, df_prediction, df_district"
   ]
  },
  {
   "cell_type": "code",
   "execution_count": 18,
   "metadata": {},
   "outputs": [
    {
     "name": "stdout",
     "output_type": "stream",
     "text": [
      "fitting to data with \"train_on_val\" set to False ..\n"
     ]
    },
    {
     "name": "stderr",
     "output_type": "stream",
     "text": [
      "/home/users/sansiddh/anaconda3/envs/covid/lib/python3.8/site-packages/pandas/core/indexing.py:1048: SettingWithCopyWarning: \n",
      "A value is trying to be set on a copy of a slice from a DataFrame.\n",
      "Try using .loc[row_indexer,col_indexer] = value instead\n",
      "\n",
      "See the caveats in the documentation: https://pandas.pydata.org/pandas-docs/stable/user_guide/indexing.html#returning-a-view-versus-a-copy\n",
      "  self.obj[item_labels[indexer[info_axis]]] = value\n"
     ]
    },
    {
     "name": "stdout",
     "output_type": "stream",
     "text": [
      "splitting data ..\n",
      "train\n",
      "          state district       date hospitalised total_infected deceased  \\\n",
      "1  Maharashtra     Pune 2020-04-25          772           1030       73   \n",
      "2  Maharashtra     Pune 2020-04-26          770           1052       76   \n",
      "3  Maharashtra     Pune 2020-04-27          762           1052       80   \n",
      "4  Maharashtra     Pune 2020-04-28          873           1174       80   \n",
      "5  Maharashtra     Pune 2020-04-29          863           1192       85   \n",
      "\n",
      "  recovered  \n",
      "1       185  \n",
      "2       206  \n",
      "3       210  \n",
      "4       221  \n",
      "5       244  \n",
      "val\n",
      "          state district       date hospitalised total_infected deceased  \\\n",
      "0  Maharashtra     Pune 2020-04-30          912           1248       88   \n",
      "1  Maharashtra     Pune 2020-05-01          901           1248       99   \n",
      "2  Maharashtra     Pune 2020-05-02          952           1339      102   \n",
      "3  Maharashtra     Pune 2020-05-03          951           1396      106   \n",
      "4  Maharashtra     Pune 2020-05-04          951           1396      106   \n",
      "\n",
      "  recovered  \n",
      "0       248  \n",
      "1       248  \n",
      "2       285  \n",
      "3       339  \n",
      "4       339  \n",
      "100%|██████████| 2500/2500 [02:52<00:00, 14.52trial/s, best loss: 24.818406204206976]\n",
      "best parameters\n",
      " {'P_fatal': 0.29984808245792377, 'P_severe': 0.7069846341526733, 'R0': 3.0262488891520176, 'T_inc': 4.496163774326692, 'T_inf': 3.2902185137549265, 'T_recov_severe': 18.976095389968723, 'intervention_amount': 0.5683221951952663}\n",
      "> <ipython-input-17-39bbb63d9f3f>(47)fit_district()\n",
      "-> df_prediction = optimiser.solve(best, default_params, df_train)\n"
     ]
    },
    {
     "name": "stdin",
     "output_type": "stream",
     "text": [
      "(Pdb)  dfn\n"
     ]
    },
    {
     "name": "stdout",
     "output_type": "stream",
     "text": [
      "*** NameError: name 'dfn' is not defined\n"
     ]
    },
    {
     "name": "stdin",
     "output_type": "stream",
     "text": [
      "(Pdb)  n\n"
     ]
    },
    {
     "name": "stdout",
     "output_type": "stream",
     "text": [
      "> <ipython-input-17-39bbb63d9f3f>(48)fit_district()\n",
      "-> df_temp = df_prediction.loc[df_prediction['date'].isin(df_train['date']), ['date', 'hospitalised', 'total_infected', 'deceased', 'recovered']]\n"
     ]
    },
    {
     "name": "stdin",
     "output_type": "stream",
     "text": [
      "(Pdb)  n\n"
     ]
    },
    {
     "name": "stdout",
     "output_type": "stream",
     "text": [
      "> <ipython-input-17-39bbb63d9f3f>(51)fit_district()\n",
      "-> fig, ax = plt.subplots(figsize=(12, 12))\n"
     ]
    },
    {
     "name": "stdin",
     "output_type": "stream",
     "text": [
      "(Pdb)  df_temp\n"
     ]
    },
    {
     "name": "stdout",
     "output_type": "stream",
     "text": [
      "         date  hospitalised  total_infected  deceased  recovered\n",
      "46 2020-04-24           597             817        61        159\n",
      "47 2020-04-25           647             888        67        174\n",
      "48 2020-04-26           702             966        73        191\n",
      "49 2020-04-27           763            1052        80        209\n",
      "50 2020-04-28           827            1144        88        229\n",
      "51 2020-04-29           898            1244        96        250\n"
     ]
    },
    {
     "name": "stdin",
     "output_type": "stream",
     "text": [
      "(Pdb)  df_train\n"
     ]
    },
    {
     "name": "stdout",
     "output_type": "stream",
     "text": [
      "         state district       date hospitalised total_infected deceased  \\\n",
      "0  Maharashtra     Pune 2020-04-24          696            910       62   \n",
      "1  Maharashtra     Pune 2020-04-25          772           1030       73   \n",
      "2  Maharashtra     Pune 2020-04-26          770           1052       76   \n",
      "3  Maharashtra     Pune 2020-04-27          762           1052       80   \n",
      "4  Maharashtra     Pune 2020-04-28          873           1174       80   \n",
      "5  Maharashtra     Pune 2020-04-29          863           1192       85   \n",
      "\n",
      "  recovered  \n",
      "0       152  \n",
      "1       185  \n",
      "2       206  \n",
      "3       210  \n",
      "4       221  \n",
      "5       244  \n"
     ]
    },
    {
     "name": "stdin",
     "output_type": "stream",
     "text": [
      "(Pdb)  q\n"
     ]
    },
    {
     "ename": "BdbQuit",
     "evalue": "",
     "output_type": "error",
     "traceback": [
      "\u001b[0;31m---------------------------------------------------------------------------\u001b[0m",
      "\u001b[0;31mBdbQuit\u001b[0m                                   Traceback (most recent call last)",
      "\u001b[0;32m<ipython-input-18-9aadf18fa814>\u001b[0m in \u001b[0;36m<module>\u001b[0;34m\u001b[0m\n\u001b[0;32m----> 1\u001b[0;31m \u001b[0mfit_district\u001b[0m\u001b[0;34m(\u001b[0m\u001b[0mdataframes\u001b[0m\u001b[0;34m,\u001b[0m \u001b[0mstate\u001b[0m\u001b[0;34m,\u001b[0m \u001b[0mdistrict\u001b[0m\u001b[0;34m,\u001b[0m \u001b[0mtrain_period\u001b[0m\u001b[0;34m=\u001b[0m\u001b[0;36m6\u001b[0m\u001b[0;34m,\u001b[0m \u001b[0mval_period\u001b[0m\u001b[0;34m=\u001b[0m\u001b[0;36m5\u001b[0m\u001b[0;34m,\u001b[0m \u001b[0mtrain_on_val\u001b[0m\u001b[0;34m=\u001b[0m\u001b[0;32mFalse\u001b[0m\u001b[0;34m)\u001b[0m\u001b[0;34m\u001b[0m\u001b[0;34m\u001b[0m\u001b[0m\n\u001b[0m",
      "\u001b[0;32m<ipython-input-17-39bbb63d9f3f>\u001b[0m in \u001b[0;36mfit_district\u001b[0;34m(dataframes, state, district, train_period, val_period, train_on_val)\u001b[0m\n\u001b[1;32m     49\u001b[0m \u001b[0;34m\u001b[0m\u001b[0m\n\u001b[1;32m     50\u001b[0m     \u001b[0;31m# Create plots\u001b[0m\u001b[0;34m\u001b[0m\u001b[0;34m\u001b[0m\u001b[0;34m\u001b[0m\u001b[0m\n\u001b[0;32m---> 51\u001b[0;31m     \u001b[0mfig\u001b[0m\u001b[0;34m,\u001b[0m \u001b[0max\u001b[0m \u001b[0;34m=\u001b[0m \u001b[0mplt\u001b[0m\u001b[0;34m.\u001b[0m\u001b[0msubplots\u001b[0m\u001b[0;34m(\u001b[0m\u001b[0mfigsize\u001b[0m\u001b[0;34m=\u001b[0m\u001b[0;34m(\u001b[0m\u001b[0;36m12\u001b[0m\u001b[0;34m,\u001b[0m \u001b[0;36m12\u001b[0m\u001b[0;34m)\u001b[0m\u001b[0;34m)\u001b[0m\u001b[0;34m\u001b[0m\u001b[0;34m\u001b[0m\u001b[0m\n\u001b[0m\u001b[1;32m     52\u001b[0m     \u001b[0max\u001b[0m\u001b[0;34m.\u001b[0m\u001b[0mplot\u001b[0m\u001b[0;34m(\u001b[0m\u001b[0mdf_district\u001b[0m\u001b[0;34m[\u001b[0m\u001b[0;34m'date'\u001b[0m\u001b[0;34m]\u001b[0m\u001b[0;34m,\u001b[0m \u001b[0mdf_district\u001b[0m\u001b[0;34m[\u001b[0m\u001b[0;34m'total_infected'\u001b[0m\u001b[0;34m]\u001b[0m\u001b[0;34m,\u001b[0m \u001b[0mlabel\u001b[0m\u001b[0;34m=\u001b[0m\u001b[0;34m'Confirmed Cases (Observed)'\u001b[0m\u001b[0;34m)\u001b[0m\u001b[0;34m\u001b[0m\u001b[0;34m\u001b[0m\u001b[0m\n\u001b[1;32m     53\u001b[0m     \u001b[0max\u001b[0m\u001b[0;34m.\u001b[0m\u001b[0mplot\u001b[0m\u001b[0;34m(\u001b[0m\u001b[0mdf_true_fitting\u001b[0m\u001b[0;34m[\u001b[0m\u001b[0;34m'date'\u001b[0m\u001b[0;34m]\u001b[0m\u001b[0;34m,\u001b[0m \u001b[0mdf_true_fitting\u001b[0m\u001b[0;34m[\u001b[0m\u001b[0;34m'total_infected'\u001b[0m\u001b[0;34m]\u001b[0m\u001b[0;34m,\u001b[0m \u001b[0mlabel\u001b[0m\u001b[0;34m=\u001b[0m\u001b[0;34m'Confirmed Cases (Rolling Avg(5))'\u001b[0m\u001b[0;34m)\u001b[0m\u001b[0;34m\u001b[0m\u001b[0;34m\u001b[0m\u001b[0m\n",
      "\u001b[0;32m<ipython-input-17-39bbb63d9f3f>\u001b[0m in \u001b[0;36mfit_district\u001b[0;34m(dataframes, state, district, train_period, val_period, train_on_val)\u001b[0m\n\u001b[1;32m     49\u001b[0m \u001b[0;34m\u001b[0m\u001b[0m\n\u001b[1;32m     50\u001b[0m     \u001b[0;31m# Create plots\u001b[0m\u001b[0;34m\u001b[0m\u001b[0;34m\u001b[0m\u001b[0;34m\u001b[0m\u001b[0m\n\u001b[0;32m---> 51\u001b[0;31m     \u001b[0mfig\u001b[0m\u001b[0;34m,\u001b[0m \u001b[0max\u001b[0m \u001b[0;34m=\u001b[0m \u001b[0mplt\u001b[0m\u001b[0;34m.\u001b[0m\u001b[0msubplots\u001b[0m\u001b[0;34m(\u001b[0m\u001b[0mfigsize\u001b[0m\u001b[0;34m=\u001b[0m\u001b[0;34m(\u001b[0m\u001b[0;36m12\u001b[0m\u001b[0;34m,\u001b[0m \u001b[0;36m12\u001b[0m\u001b[0;34m)\u001b[0m\u001b[0;34m)\u001b[0m\u001b[0;34m\u001b[0m\u001b[0;34m\u001b[0m\u001b[0m\n\u001b[0m\u001b[1;32m     52\u001b[0m     \u001b[0max\u001b[0m\u001b[0;34m.\u001b[0m\u001b[0mplot\u001b[0m\u001b[0;34m(\u001b[0m\u001b[0mdf_district\u001b[0m\u001b[0;34m[\u001b[0m\u001b[0;34m'date'\u001b[0m\u001b[0;34m]\u001b[0m\u001b[0;34m,\u001b[0m \u001b[0mdf_district\u001b[0m\u001b[0;34m[\u001b[0m\u001b[0;34m'total_infected'\u001b[0m\u001b[0;34m]\u001b[0m\u001b[0;34m,\u001b[0m \u001b[0mlabel\u001b[0m\u001b[0;34m=\u001b[0m\u001b[0;34m'Confirmed Cases (Observed)'\u001b[0m\u001b[0;34m)\u001b[0m\u001b[0;34m\u001b[0m\u001b[0;34m\u001b[0m\u001b[0m\n\u001b[1;32m     53\u001b[0m     \u001b[0max\u001b[0m\u001b[0;34m.\u001b[0m\u001b[0mplot\u001b[0m\u001b[0;34m(\u001b[0m\u001b[0mdf_true_fitting\u001b[0m\u001b[0;34m[\u001b[0m\u001b[0;34m'date'\u001b[0m\u001b[0;34m]\u001b[0m\u001b[0;34m,\u001b[0m \u001b[0mdf_true_fitting\u001b[0m\u001b[0;34m[\u001b[0m\u001b[0;34m'total_infected'\u001b[0m\u001b[0;34m]\u001b[0m\u001b[0;34m,\u001b[0m \u001b[0mlabel\u001b[0m\u001b[0;34m=\u001b[0m\u001b[0;34m'Confirmed Cases (Rolling Avg(5))'\u001b[0m\u001b[0;34m)\u001b[0m\u001b[0;34m\u001b[0m\u001b[0;34m\u001b[0m\u001b[0m\n",
      "\u001b[0;32m~/anaconda3/envs/covid/lib/python3.8/bdb.py\u001b[0m in \u001b[0;36mtrace_dispatch\u001b[0;34m(self, frame, event, arg)\u001b[0m\n\u001b[1;32m     86\u001b[0m             \u001b[0;32mreturn\u001b[0m \u001b[0;31m# None\u001b[0m\u001b[0;34m\u001b[0m\u001b[0;34m\u001b[0m\u001b[0m\n\u001b[1;32m     87\u001b[0m         \u001b[0;32mif\u001b[0m \u001b[0mevent\u001b[0m \u001b[0;34m==\u001b[0m \u001b[0;34m'line'\u001b[0m\u001b[0;34m:\u001b[0m\u001b[0;34m\u001b[0m\u001b[0;34m\u001b[0m\u001b[0m\n\u001b[0;32m---> 88\u001b[0;31m             \u001b[0;32mreturn\u001b[0m \u001b[0mself\u001b[0m\u001b[0;34m.\u001b[0m\u001b[0mdispatch_line\u001b[0m\u001b[0;34m(\u001b[0m\u001b[0mframe\u001b[0m\u001b[0;34m)\u001b[0m\u001b[0;34m\u001b[0m\u001b[0;34m\u001b[0m\u001b[0m\n\u001b[0m\u001b[1;32m     89\u001b[0m         \u001b[0;32mif\u001b[0m \u001b[0mevent\u001b[0m \u001b[0;34m==\u001b[0m \u001b[0;34m'call'\u001b[0m\u001b[0;34m:\u001b[0m\u001b[0;34m\u001b[0m\u001b[0;34m\u001b[0m\u001b[0m\n\u001b[1;32m     90\u001b[0m             \u001b[0;32mreturn\u001b[0m \u001b[0mself\u001b[0m\u001b[0;34m.\u001b[0m\u001b[0mdispatch_call\u001b[0m\u001b[0;34m(\u001b[0m\u001b[0mframe\u001b[0m\u001b[0;34m,\u001b[0m \u001b[0marg\u001b[0m\u001b[0;34m)\u001b[0m\u001b[0;34m\u001b[0m\u001b[0;34m\u001b[0m\u001b[0m\n",
      "\u001b[0;32m~/anaconda3/envs/covid/lib/python3.8/bdb.py\u001b[0m in \u001b[0;36mdispatch_line\u001b[0;34m(self, frame)\u001b[0m\n\u001b[1;32m    111\u001b[0m         \u001b[0;32mif\u001b[0m \u001b[0mself\u001b[0m\u001b[0;34m.\u001b[0m\u001b[0mstop_here\u001b[0m\u001b[0;34m(\u001b[0m\u001b[0mframe\u001b[0m\u001b[0;34m)\u001b[0m \u001b[0;32mor\u001b[0m \u001b[0mself\u001b[0m\u001b[0;34m.\u001b[0m\u001b[0mbreak_here\u001b[0m\u001b[0;34m(\u001b[0m\u001b[0mframe\u001b[0m\u001b[0;34m)\u001b[0m\u001b[0;34m:\u001b[0m\u001b[0;34m\u001b[0m\u001b[0;34m\u001b[0m\u001b[0m\n\u001b[1;32m    112\u001b[0m             \u001b[0mself\u001b[0m\u001b[0;34m.\u001b[0m\u001b[0muser_line\u001b[0m\u001b[0;34m(\u001b[0m\u001b[0mframe\u001b[0m\u001b[0;34m)\u001b[0m\u001b[0;34m\u001b[0m\u001b[0;34m\u001b[0m\u001b[0m\n\u001b[0;32m--> 113\u001b[0;31m             \u001b[0;32mif\u001b[0m \u001b[0mself\u001b[0m\u001b[0;34m.\u001b[0m\u001b[0mquitting\u001b[0m\u001b[0;34m:\u001b[0m \u001b[0;32mraise\u001b[0m \u001b[0mBdbQuit\u001b[0m\u001b[0;34m\u001b[0m\u001b[0;34m\u001b[0m\u001b[0m\n\u001b[0m\u001b[1;32m    114\u001b[0m         \u001b[0;32mreturn\u001b[0m \u001b[0mself\u001b[0m\u001b[0;34m.\u001b[0m\u001b[0mtrace_dispatch\u001b[0m\u001b[0;34m\u001b[0m\u001b[0;34m\u001b[0m\u001b[0m\n\u001b[1;32m    115\u001b[0m \u001b[0;34m\u001b[0m\u001b[0m\n",
      "\u001b[0;31mBdbQuit\u001b[0m: "
     ]
    }
   ],
   "source": [
    "fit_district(dataframes, state, district, train_period=6, val_period=5, train_on_val=False)"
   ]
  },
  {
   "cell_type": "code",
   "execution_count": null,
   "metadata": {},
   "outputs": [],
   "source": [
    "optimiser.init_default_params(df_train, init_infected=max(df_district_raw_data.iloc[0, :]['total_infected'], 1), \n",
    "                              start_date=df_district_raw_data.iloc[0, :]['date'])\n"
   ]
  }
 ],
 "metadata": {
  "kernelspec": {
   "display_name": "Python (covid)",
   "language": "python",
   "name": "covid"
  },
  "language_info": {
   "codemirror_mode": {
    "name": "ipython",
    "version": 3
   },
   "file_extension": ".py",
   "mimetype": "text/x-python",
   "name": "python",
   "nbconvert_exporter": "python",
   "pygments_lexer": "ipython3",
   "version": "3.8.2"
  }
 },
 "nbformat": 4,
 "nbformat_minor": 4
}
