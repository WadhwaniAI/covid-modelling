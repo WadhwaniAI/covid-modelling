{
 "cells": [
  {
   "cell_type": "code",
   "execution_count": 1,
   "metadata": {},
   "outputs": [],
   "source": [
    "%load_ext autoreload\n",
    "%autoreload 2\n",
    "%matplotlib inline"
   ]
  },
  {
   "cell_type": "code",
   "execution_count": 2,
   "metadata": {},
   "outputs": [],
   "source": [
    "import numpy as np\n",
    "import pandas as pd\n",
    "import seaborn as sns\n",
    "import matplotlib.pyplot as plt\n",
    "from scipy.stats import entropy\n",
    "import datetime\n",
    "import copy\n",
    "import time\n",
    "import wandb\n",
    "import pickle as pkl\n",
    "\n",
    "import sys\n",
    "sys.path.append('../../')\n",
    "\n",
    "from data.processing import get_data\n",
    "\n",
    "import models\n",
    "\n",
    "from main.seir.fitting import single_fitting_cycle\n",
    "from main.seir.forecast import get_forecast, forecast_all_trials, create_all_trials_csv, create_decile_csv_new\n",
    "from main.seir.sensitivity import calculate_sensitivity_and_plot\n",
    "from utils.generic.create_report import save_dict_and_create_report\n",
    "from utils.generic.config import read_config\n",
    "from utils.generic.enums import Columns\n",
    "from utils.fitting.loss import Loss_Calculator\n",
    "from utils.generic.logging import log_wandb\n",
    "from viz import plot_forecast, plot_top_k_trials, plot_ptiles\n",
    "from viz.fit import plot_histogram, plot_all_histograms, plot_mean_variance, plot_scatter, plot_kl_divergence, plot_heatmap_distribution_sigmas, plot_all_params, plot_all_losses, plot_all_buckets\n",
    "import yaml\n",
    "from data.dataloader import SimulatedDataLoader\n"
   ]
  },
  {
   "cell_type": "code",
   "execution_count": 3,
   "metadata": {},
   "outputs": [],
   "source": [
    "predictions_dict = {}"
   ]
  },
  {
   "cell_type": "code",
   "execution_count": 4,
   "metadata": {},
   "outputs": [],
   "source": [
    "output_folder = '../../misc/reports/{}'.format(datetime.datetime.now().strftime(\"%Y_%m%d_%H%M%S\"))"
   ]
  },
  {
   "cell_type": "code",
   "execution_count": 5,
   "metadata": {},
   "outputs": [
    {
     "output_type": "execute_result",
     "data": {
      "text/plain": [
       "dict_keys([])"
      ]
     },
     "metadata": {},
     "execution_count": 5
    }
   ],
   "source": [
    "predictions_dict.keys()"
   ]
  },
  {
   "cell_type": "code",
   "execution_count": 12,
   "metadata": {},
   "outputs": [
    {
     "output_type": "stream",
     "name": "stdout",
     "text": [
      "{'model': 'SEIRHD', 'starting_date': datetime.date(2020, 8, 18), 'total_days': 50, 'initial_values': {'recovered': 95000, 'deceased': 7500, 'active': 20000}, 'include_tests': True, 'tests_done': '[10000 for i in range(50)]', 'fix_params': True, 'params': {'N': 10000000.0, 'lockdown_R0': 0.8, 'T_inc': 5.1, 'T_inf': 3.6, 'T_recov': 21.5, 'T_recov_fatal': 25.5, 'P_fatal': 0.08, 'E_hosp_ratio': 0.34, 'I_hosp_ratio': 0.94}, 'output_file_name': 'seirhd_fixed_0.csv'}\n{'model': 'SEIRHD', 'starting_date': datetime.date(2020, 8, 18), 'total_days': 50, 'initial_values': {'recovered': 95000, 'deceased': 7500, 'active': 20000}, 'include_tests': True, 'tests_done': '[10000 for i in range(50)]', 'fix_params': True, 'params': {'N': 10000000.0, 'lockdown_R0': 0.8, 'T_inc': 5.1, 'T_inf': 3.6, 'T_recov': 21.5, 'T_recov_fatal': 25.5, 'P_fatal': 0.08, 'E_hosp_ratio': 0.34, 'I_hosp_ratio': 0.94}, 'output_file_name': 'seirhd_fixed_1.csv'}\n"
     ]
    }
   ],
   "source": [
    "num_rep_trials = 2\n",
    "simulated_data_configs = ['seirhd_fixed.yaml']\n",
    "for config_filename in simulated_data_configs:\n",
    "    for m in range(num_rep_trials):\n",
    "        with open(os.path.join(\"../../configs/simulated_data/\", config_filename)) as configfile:\n",
    "            config = yaml.load(configfile, Loader=yaml.SafeLoader)    \n",
    "        config['output_file_name'] = config_filename.split('.')[0] + '_' + str(m) + '.csv'\n",
    "        print (config)\n",
    "        loader = SimulatedDataLoader()\n",
    "        _, _ = loader.load_data(**config)"
   ]
  },
  {
   "cell_type": "code",
   "execution_count": 6,
   "metadata": {},
   "outputs": [],
   "source": [
    "config_filenames = ['experiments/seirhd.yaml', 'experiments/undetected.yaml', 'experiments/seir_pu.yaml']\n",
    "model_params = {\n",
    "        'SEIRHD Free': [ 'lockdown_R0', 'T_inc', 'T_inf', 'T_inf', 'T_recov', 'T_recov_fatal', 'P_fatal', 'E_hosp_ratio', 'I_hosp_ratio'],\n",
    "        'SEIR_Undetected': [ 'T_inc', 'T_inf_D', 'T_inf_U', 'T_recov', 'T_recov_fatal', 'beta', 'd', 'P_fatal', 'I_D_hosp_ratio', 'I_U_hosp_ratio', 'E_hosp_ratio'],\n",
    "        'SEIR_PU': [ 'T_inc', 'T_inf_U', 'T_recov', 'T_recov_fatal', 'beta', 'd', 'P_fatal', 'I_hosp_ratio', 'E_hosp_ratio','Pu_pop_ratio'],\n",
    "    }\n",
    "model_names = list(model_params.keys())\n",
    "configs = [read_config(config_filename) for config_filename in config_filenames]\n",
    "location_tuples = {\n",
    "    # 'MUM(Latest)' : ('Maharashtra', 'Mumbai', None, None), # peak inside training\n",
    "    'MUM(15Aug)' : ('Maharashtra', 'Mumbai', datetime.date(2020,8,15), None), \n",
    "    'MUM(1July)' : ('Maharashtra', 'Mumbai', datetime.date(2020,7,1), None), \n",
    "    # 'DEL(Latest)' : ('Delhi', None, None, None),\n",
    "    'DEL(15Aug)' : ('Delhi', None, datetime.date(2020,8,15), None),\n",
    "    'DEL(1Aug)' : ('Delhi', None, datetime.date(2020,8,1), None),\n",
    "}"
   ]
  },
  {
   "cell_type": "code",
   "execution_count": null,
   "metadata": {
    "tags": []
   },
   "outputs": [],
   "source": [
    "\n",
    "for tag, loc in location_tuples.items():\n",
    "    predictions_dict[tag] = {}\n",
    "    for j, config in enumerate(configs):\n",
    "        predictions_dict[tag][model_names[j]] = {}\n",
    "        config_params = copy.deepcopy(config['fitting'])\n",
    "        config_params['data']['dataloading_params']['state'] = loc[0]\n",
    "        config_params['data']['dataloading_params']['district'] = loc[1]\n",
    "        config_params['split']['start_date'] = loc[2]\n",
    "        config_params['split']['end_date'] = loc[3]\n",
    "        if loc[1] != 'Mumbai':\n",
    "            config_params['data']['smooth_jump'] = False\n",
    "        for k in range(num_rep_trials):\n",
    "            print (tag, model_names[j], k)\n",
    "            predictions_dict[tag][model_names[j]][f'm{k}'] = single_fitting_cycle(**config_params) "
   ]
  },
  {
   "cell_type": "code",
   "execution_count": null,
   "metadata": {},
   "outputs": [],
   "source": [
    "with open('../../misc/predictions/predictions_dict_time.pickle', 'wb') as handle:\n",
    "    pkl.dump(predictions_dict, handle)"
   ]
  },
  {
   "cell_type": "markdown",
   "metadata": {},
   "source": [
    "### Use the pickle file to read the predicitons_dict"
   ]
  },
  {
   "cell_type": "code",
   "execution_count": null,
   "metadata": {},
   "outputs": [],
   "source": [
    "with open('../../misc/predictions/predictions_dict.pickle', 'rb') as handle:\n",
    "    predictions_dict = pkl.load(handle)"
   ]
  },
  {
   "cell_type": "code",
   "execution_count": null,
   "metadata": {},
   "outputs": [],
   "source": [
    "wandb.init(project=\"covid-modelling\")\n",
    "wandb.run.name = \"degeneracy-exps-location\"+wandb.run.name"
   ]
  },
  {
   "cell_type": "code",
   "execution_count": null,
   "metadata": {
    "tags": []
   },
   "outputs": [],
   "source": [
    "plot_all_params(predictions_dict, model_params, method='ensemble_combined')"
   ]
  },
  {
   "cell_type": "code",
   "execution_count": null,
   "metadata": {},
   "outputs": [],
   "source": [
    "which_compartments = {model_names[i]: config['fitting']['loss']['loss_compartments'] for i, config in enumerate(configs)}\n",
    "plot_all_losses(predictions_dict, which_losses=['train', 'val'], which_compartments=which_compartments)"
   ]
  },
  {
   "cell_type": "code",
   "execution_count": null,
   "metadata": {},
   "outputs": [],
   "source": [
    "plot_all_buckets(predictions_dict, which_buckets=['S', 'I', 'E', 'I_U'], compare='model', model_types=model_types)"
   ]
  },
  {
   "cell_type": "code",
   "execution_count": null,
   "metadata": {},
   "outputs": [],
   "source": []
  }
 ],
 "metadata": {
  "kernelspec": {
   "name": "Python 3.8.5 64-bit ('covid_modelling': conda)",
   "display_name": "Python 3.8.5 64-bit ('covid_modelling': conda)",
   "metadata": {
    "interpreter": {
     "hash": "8d4520c4ae250cc42f52066aee3414cc1b6850f2df392ef0f675cfc8e593b997"
    }
   }
  },
  "language_info": {
   "codemirror_mode": {
    "name": "ipython",
    "version": 3
   },
   "file_extension": ".py",
   "mimetype": "text/x-python",
   "name": "python",
   "nbconvert_exporter": "python",
   "pygments_lexer": "ipython3",
   "version": "3.8.5-final"
  }
 },
 "nbformat": 4,
 "nbformat_minor": 2
}