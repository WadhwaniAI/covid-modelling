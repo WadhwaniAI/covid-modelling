{
 "cells": [
  {
   "cell_type": "code",
   "execution_count": null,
   "metadata": {},
   "outputs": [],
   "source": [
    "import matplotlib.pyplot as plt\n",
    "import pandas as pd"
   ]
  },
  {
   "cell_type": "markdown",
   "metadata": {},
   "source": [
    "## SIRD and SEIRT s2 performance"
   ]
  },
  {
   "cell_type": "code",
   "execution_count": null,
   "metadata": {},
   "outputs": [],
   "source": [
    "sird_s2 = pd.read_csv('../../outputs/consolidated/Pune_SIRD_C1_s2_July_9.csv')\n",
    "sird_val_s2 = sird_s2[sird_s2[\"type\"] == \"val\"].reset_index(drop=True)\n",
    "sird_val_s2"
   ]
  },
  {
   "cell_type": "code",
   "execution_count": null,
   "metadata": {},
   "outputs": [],
   "source": [
    "seirt_s2 = pd.read_csv('../../outputs/consolidated/Pune_SEIRT_C1_s2_July_9.csv')\n",
    "seirt_val_s2 = seirt_s2[seirt_s2[\"type\"] == \"val\"].reset_index(drop=True)\n",
    "seirt_val_s2"
   ]
  },
  {
   "cell_type": "code",
   "execution_count": null,
   "metadata": {},
   "outputs": [],
   "source": [
    "cols_plot = ['recovered', 'hospitalised', 'deceased', 'total_infected']\n",
    "colors_sird = ['lime', 'orange', 'red', 'C0']\n",
    "colors_seirt = ['darkgreen', 'maroon', 'black', 'darkblue']"
   ]
  },
  {
   "cell_type": "code",
   "execution_count": null,
   "metadata": {},
   "outputs": [],
   "source": [
    "fig, ax = plt.subplots(4,1, sharex=True, sharey=True, figsize=(20,15))\n",
    "for i, col in enumerate(cols_plot):\n",
    "    ax[i].plot(sird_val_s2['shift'], sird_val_s2[col], 'o-', label='SIRD test MAPE on s2', \n",
    "               color=colors_sird[i])\n",
    "    ax[i].plot(seirt_val_s2['shift'], seirt_val_s2[col], 'o-', label='SEIR_Testing test MAPE on s2', \n",
    "               color=colors_seirt[i])\n",
    "    ax[i].title.set_text(col)\n",
    "    ax[i].set_xlabel('Index of training start date (from 4-24-20)', fontsize=10)\n",
    "    ax[i].set_ylabel('MAPE', fontsize=10)\n",
    "    ax[i].grid()\n",
    "    ax[i].legend()"
   ]
  },
  {
   "cell_type": "markdown",
   "metadata": {},
   "source": [
    "## SIRD and SEIRT s3 performance"
   ]
  },
  {
   "cell_type": "code",
   "execution_count": null,
   "metadata": {},
   "outputs": [],
   "source": [
    "sird_s3 = pd.read_csv('../../outputs/consolidated/Pune_SIRD_C1_s3_July_9.csv')\n",
    "sird_val_s3 = sird_s3[sird_s3[\"type\"] == \"val\"].reset_index(drop=True)\n",
    "sird_val_s3"
   ]
  },
  {
   "cell_type": "code",
   "execution_count": null,
   "metadata": {},
   "outputs": [],
   "source": [
    "seirt_s3 = pd.read_csv('../../outputs/consolidated/Pune_SEIRT_C1_s3_July_9.csv')\n",
    "seirt_val_s3 = seirt_s3[seirt_s3[\"type\"] == \"val\"].reset_index(drop=True)\n",
    "seirt_val_s3"
   ]
  },
  {
   "cell_type": "code",
   "execution_count": null,
   "metadata": {},
   "outputs": [],
   "source": [
    "fig, ax = plt.subplots(4,1, sharex=True, sharey=True, figsize=(20,15))\n",
    "for i, col in enumerate(cols_plot):\n",
    "    ax[i].plot(sird_val_s3['shift'], sird_val_s3[col], 'o-', label='SIRD test MAPE on s3', \n",
    "               color=colors_sird[i])\n",
    "    ax[i].plot(seirt_val_s3['shift'], seirt_val_s3[col], 'o-', label='SEIR_Testing test MAPE on s3', \n",
    "               color=colors_seirt[i])\n",
    "    ax[i].title.set_text(col)\n",
    "    ax[i].set_xlabel('Index of training start date (from 4-24-20)', fontsize=10)\n",
    "    ax[i].set_ylabel('MAPE', fontsize=10)\n",
    "    ax[i].grid()\n",
    "    ax[i].legend()"
   ]
  },
  {
   "cell_type": "code",
   "execution_count": null,
   "metadata": {},
   "outputs": [],
   "source": []
  }
 ],
 "metadata": {
  "kernelspec": {
   "display_name": "Python 3",
   "language": "python",
   "name": "python3"
  },
  "language_info": {
   "codemirror_mode": {
    "name": "ipython",
    "version": 3
   },
   "file_extension": ".py",
   "mimetype": "text/x-python",
   "name": "python",
   "nbconvert_exporter": "python",
   "pygments_lexer": "ipython3"
  }
 },
 "nbformat": 4,
 "nbformat_minor": 4
}
