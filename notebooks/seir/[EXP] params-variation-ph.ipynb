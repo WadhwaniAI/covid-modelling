{
 "cells": [
  {
   "cell_type": "code",
   "execution_count": null,
   "metadata": {},
   "outputs": [],
   "source": [
    "%load_ext autoreload\n",
    "%autoreload 2"
   ]
  },
  {
   "cell_type": "code",
   "execution_count": null,
   "metadata": {},
   "outputs": [],
   "source": [
    "import numpy as np\n",
    "import pandas as pd\n",
    "import json\n",
    "import os\n",
    "import copy\n",
    "\n",
    "import matplotlib.pyplot as plt\n",
    "import seaborn as sns\n",
    "\n",
    "import matplotlib.dates as mdates\n",
    "from matplotlib.dates import SA\n",
    "\n",
    "from utils.fitting.util import get_ensemble_params\n",
    "from scripts.seir.combine_multiple_runs import combine_multiple_runs\n",
    "from utils.fitting.util import create_output"
   ]
  },
  {
   "cell_type": "code",
   "execution_count": null,
   "metadata": {},
   "outputs": [],
   "source": [
    "outputs_dir = '/scratche/users/sansiddh/covid-modelling/phparams_2021_0317_102628/comb/'"
   ]
  },
  {
   "cell_type": "code",
   "execution_count": null,
   "metadata": {},
   "outputs": [],
   "source": [
    "def create_run_ledger(outputs_dir):\n",
    "    run_ledger = pd.DataFrame(columns=['run', 'start_date', 'seed'])\n",
    "\n",
    "    for i, run in enumerate(os.listdir(outputs_dir)):\n",
    "        json_file = f'{outputs_dir}/{run}/config.json'\n",
    "        with open(json_file) as f:\n",
    "            config = json.load(f)\n",
    "        start_date = config['fitting']['split']['start_date']\n",
    "        seed = config['fitting']['optimiser_params']['seed']\n",
    "        run_ledger.loc[i, :] = [run, start_date, seed]\n",
    "        \n",
    "    return run_ledger"
   ]
  },
  {
   "cell_type": "code",
   "execution_count": null,
   "metadata": {},
   "outputs": [],
   "source": [
    "def ensemble_params_df(outputs_dir):\n",
    "    run_ledger = create_run_ledger(outputs_dir)\n",
    "    df_params_master = copy.deepcopy(run_ledger)\n",
    "    df_params_master.columns = pd.MultiIndex.from_arrays([df_params_master.columns, ['']*len(df_params_master.columns)])\n",
    "\n",
    "    for i, run in enumerate(os.listdir(outputs_dir)):\n",
    "\n",
    "        idx = df_params_master[df_params_master['run'] == run].index[0]\n",
    "\n",
    "        beta = np.load(f'{outputs_dir}/{run}/beta.npy')\n",
    "        trials_params = np.load(f'{outputs_dir}/{run}/trials_params.npy', allow_pickle=True)\n",
    "        trials_losses = np.load(f'{outputs_dir}/{run}/trials_losses.npy', allow_pickle=True)\n",
    "\n",
    "        em_params, em_params_dev = get_ensemble_params(trials_params, trials_losses, beta, return_dev=True)\n",
    "\n",
    "        for param in list(em_params.keys()):\n",
    "            df_params_master.loc[idx, (param, 'mean')] = em_params[param]\n",
    "            df_params_master.loc[idx, (param, 'std')] = em_params_dev[param]\n",
    "\n",
    "    df_params_master[('start_date', '')] = pd.to_datetime(df_params_master[('start_date', '')], format='%Y-%m-%d')\n",
    "    df_params_master.columns = df_params_master.columns.map('_'.join)\n",
    "    \n",
    "    return df_params_master"
   ]
  },
  {
   "cell_type": "code",
   "execution_count": null,
   "metadata": {},
   "outputs": [],
   "source": [
    "df_params_master = ensemble_params_df(outputs_dir)\n",
    "df_params_master"
   ]
  },
  {
   "cell_type": "code",
   "execution_count": null,
   "metadata": {},
   "outputs": [],
   "source": [
    "run_ledger = create_run_ledger(outputs_dir)\n",
    "df_params_master = copy.deepcopy(run_ledger)\n",
    "df_params_master.columns = pd.MultiIndex.from_arrays([df_params_master.columns, ['']*len(df_params_master.columns)])\n",
    "\n",
    "for i, run in enumerate(os.listdir(outputs_dir)[1:2]):\n",
    "\n",
    "    idx = df_params_master[df_params_master['run'] == run].index[0]\n",
    "\n",
    "    beta = np.load(f'{outputs_dir}/{run}/beta.npy')\n",
    "    trials_params = np.load(f'{outputs_dir}/{run}/trials_params.npy', allow_pickle=True)\n",
    "    trials_losses = np.load(f'{outputs_dir}/{run}/trials_losses.npy', allow_pickle=True)\n",
    "    \n"
   ]
  },
  {
   "cell_type": "code",
   "execution_count": null,
   "metadata": {},
   "outputs": [],
   "source": [
    "loss_wt = np.exp(-beta*trials_losses)\n",
    "loss_wt = loss_wt / np.sum(loss_wt)\n",
    "loss_wt"
   ]
  },
  {
   "cell_type": "code",
   "execution_count": null,
   "metadata": {},
   "outputs": [],
   "source": [
    "df_params = pd.DataFrame.from_dict(trials_params.tolist())\n",
    "df_params['loss'] = trials_losses\n",
    "df_params['loss_wt'] = loss_wt"
   ]
  },
  {
   "cell_type": "code",
   "execution_count": null,
   "metadata": {},
   "outputs": [],
   "source": [
    "fig, axs = plt.subplots(figsize=(16, 21), nrows=4, ncols=2)\n",
    "params = list(trials_params[0].keys())\n",
    "for i, param in enumerate(params):\n",
    "    ax = axs.flat[i]\n",
    "    sns.kdeplot(data=df_params, y=param, weights='loss_wt', ax=ax)"
   ]
  },
  {
   "cell_type": "code",
   "execution_count": null,
   "metadata": {},
   "outputs": [],
   "source": [
    "fig, axs = plt.subplots(figsize=(16, 21), nrows=4, ncols=2)\n",
    "params = list(trials_params[0].keys())\n",
    "for i, param in enumerate(params):\n",
    "    ax = axs.flat[i]\n",
    "    sns.scatterplot(data=df_params_master, x='start_date_', y=f'{param}_mean', hue='seed_', ax=ax)\n",
    "    ax.set_title(f'Ensemble Mean of {param} for different seeds')\n",
    "    ax.set_ylabel(param)\n",
    "    ax.set_xlabel('Starting Date')\n",
    "    \n",
    "    ax.xaxis.set_major_locator(mdates.DayLocator(interval=14))\n",
    "    ax.xaxis.set_minor_locator(mdates.DayLocator(interval=7))\n",
    "    ax.xaxis.set_major_formatter(mdates.DateFormatter('%m-%d'))\n",
    "    ax.tick_params('x', labelrotation=45)\n",
    "    ax.grid(alpha=0.5)\n",
    "    \n",
    "    ax.set_xlim(ax.get_xlim()[0], ax.get_xlim()[1]+7)\n",
    "    \n",
    "fig.suptitle(f'Ensemble Mean of all params vs time for different seeds (2k trials each)')\n",
    "fig.subplots_adjust(top=0.95, hspace=0.3)"
   ]
  },
  {
   "cell_type": "code",
   "execution_count": null,
   "metadata": {},
   "outputs": [],
   "source": [
    "fig.savefig('em-mean-params-diff-seeds.png')"
   ]
  },
  {
   "cell_type": "code",
   "execution_count": null,
   "metadata": {},
   "outputs": [],
   "source": [
    "fig, axs = plt.subplots(figsize=(16, 21), nrows=4, ncols=2)\n",
    "params = list(trials_params[0].keys())\n",
    "for i, param in enumerate(params):\n",
    "    ax = axs.flat[i]\n",
    "    ax.errorbar(x=df_params_master['start_date_'], y=df_params_master[f'{param}_mean'], yerr=df_params_master[f'{param}_std']/np.sqrt(10000))\n",
    "    ax.set_title(f'Ensemble Mean of {param} +- std error')\n",
    "    ax.set_ylabel(param)\n",
    "    ax.set_xlabel('Starting Date')\n",
    "    \n",
    "    ax.xaxis.set_major_locator(mdates.DayLocator(interval=14))\n",
    "    ax.xaxis.set_minor_locator(mdates.DayLocator(interval=7))\n",
    "    ax.xaxis.set_major_formatter(mdates.DateFormatter('%m-%d'))\n",
    "    ax.tick_params('x', labelrotation=45)\n",
    "    ax.grid(alpha=0.5)\n",
    "    \n",
    "    ax.set_xlim(ax.get_xlim()[0], ax.get_xlim()[1]+7)\n",
    "    \n",
    "fig.suptitle(f'Ensemble Mean of all params vs time (5 seeds combined)')\n",
    "fig.subplots_adjust(top=0.95, hspace=0.3)"
   ]
  },
  {
   "cell_type": "code",
   "execution_count": null,
   "metadata": {},
   "outputs": [],
   "source": [
    "for i, run in enumerate(os.listdir(outputs_dir)[:1]):\n",
    "    idx = df_params_master[df_params_master['run'] == run].index[0]\n",
    "    \n",
    "    beta = np.load(f'{outputs_dir}/{run}/beta.npy')\n",
    "    trials_params = np.load(f'{outputs_dir}/{run}/trials_params.npy', allow_pickle=True)\n",
    "    trials_losses = np.load(f'{outputs_dir}/{run}/trials_losses.npy', allow_pickle=True)\n",
    "    import pdb; pdb.set_trace()"
   ]
  },
  {
   "cell_type": "code",
   "execution_count": null,
   "metadata": {},
   "outputs": [],
   "source": [
    "fig.savefig('em-mean-params-std-error.png')"
   ]
  },
  {
   "cell_type": "code",
   "execution_count": null,
   "metadata": {},
   "outputs": [],
   "source": [
    "np.savetxt('../../configs/exper/runs.txt', run_ledger['run'].to_numpy().reshape((-1, 5)).astype(int), fmt='%d')"
   ]
  },
  {
   "cell_type": "code",
   "execution_count": null,
   "metadata": {},
   "outputs": [],
   "source": [
    "np.loadtxt('../../configs/exper/runs.txt', dtype='int', delimiter=' ').tolist()"
   ]
  },
  {
   "cell_type": "code",
   "execution_count": null,
   "metadata": {},
   "outputs": [],
   "source": []
  }
 ],
 "metadata": {
  "kernelspec": {
   "display_name": "Python (covid)",
   "language": "python",
   "name": "covid"
  },
  "language_info": {
   "codemirror_mode": {
    "name": "ipython",
    "version": 3
   },
   "file_extension": ".py",
   "mimetype": "text/x-python",
   "name": "python",
   "nbconvert_exporter": "python",
   "pygments_lexer": "ipython3"
  }
 },
 "nbformat": 4,
 "nbformat_minor": 4
}
