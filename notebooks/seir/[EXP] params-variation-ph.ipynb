{
 "cells": [
  {
   "cell_type": "code",
   "execution_count": null,
   "metadata": {},
   "outputs": [],
   "source": [
    "%load_ext autoreload\n",
    "%autoreload 2"
   ]
  },
  {
   "cell_type": "code",
   "execution_count": null,
   "metadata": {},
   "outputs": [],
   "source": [
    "import numpy as np\n",
    "import pandas as pd\n",
    "import json\n",
    "import os\n",
    "import copy\n",
    "\n",
    "import matplotlib.pyplot as plt\n",
    "import seaborn as sns\n",
    "\n",
    "import matplotlib.dates as mdates\n",
    "from matplotlib.dates import SA\n",
    "\n",
    "from utils.fitting.util import get_ensemble_params\n",
    "from scripts.seir.combine_multiple_runs import combine_multiple_runs\n",
    "from utils.fitting.util import create_output"
   ]
  },
  {
   "cell_type": "code",
   "execution_count": null,
   "metadata": {},
   "outputs": [],
   "source": [
    "outputs_dir = '/scratche/users/sansiddh/covid-modelling/phparams_2021_0407_120856/athena/'"
   ]
  },
  {
   "cell_type": "code",
   "execution_count": null,
   "metadata": {},
   "outputs": [],
   "source": [
    "def create_run_ledger(outputs_dir):\n",
    "    run_ledger = pd.DataFrame(columns=['run', 'start_date', 'seed'])\n",
    "\n",
    "    for i, run in enumerate(os.listdir(outputs_dir)):\n",
    "        if run[0] == '.':\n",
    "            continue\n",
    "        json_file = f'{outputs_dir}/{run}/config.json'\n",
    "        with open(json_file) as f:\n",
    "            config = json.load(f)\n",
    "        start_date = config['fitting']['split']['start_date']\n",
    "        seed = config['fitting']['optimiser_params']['seed']\n",
    "        run_ledger.loc[i, :] = [run, start_date, seed]\n",
    "        \n",
    "    return run_ledger"
   ]
  },
  {
   "cell_type": "code",
   "execution_count": null,
   "metadata": {},
   "outputs": [],
   "source": [
    "def calculate_ess(run_ledger, outputs_dir,use_beta = True):\n",
    "    for i, run in enumerate(run_ledger['run']):\n",
    "        if use_beta :\n",
    "            beta = np.load(f'{outputs_dir}/{run}/beta.npy')\n",
    "        else:\n",
    "            beta = 0\n",
    "        trials_params = np.load(f'{outputs_dir}/{run}/trials_params.npy', allow_pickle=True)\n",
    "        trials_losses = np.load(f'{outputs_dir}/{run}/trials_losses.npy', allow_pickle=True)\n",
    "\n",
    "        loss_wt = np.exp(-beta*trials_losses)\n",
    "        loss_wt = loss_wt / np.sum(loss_wt)\n",
    "        ess = 1/np.sum(loss_wt**2)\n",
    "\n",
    "        run_ledger.loc[i, 'ess'] = round(ess, 0)\n",
    "        run_ledger.loc[i, 'beta'] = beta\n",
    "\n",
    "    return run_ledger"
   ]
  },
  {
   "cell_type": "code",
   "execution_count": null,
   "metadata": {},
   "outputs": [],
   "source": [
    "import arviz as az\n",
    "def _calculate_ensemble_params(run_ledger, outputs_dir, use_beta=True, use_hpdi=False):\n",
    "    df_params_master = copy.deepcopy(run_ledger)\n",
    "    df_params_master.columns = pd.MultiIndex.from_arrays([df_params_master.columns, ['']*len(df_params_master.columns)])\n",
    "\n",
    "    for i, run in enumerate(os.listdir(outputs_dir)):\n",
    "        if run[0] == '.':\n",
    "            continue\n",
    "        idx = df_params_master[df_params_master['run'] == run].index[0]\n",
    "\n",
    "        if use_beta :\n",
    "            beta = np.load(f'{outputs_dir}/{run}/beta.npy')\n",
    "        else:\n",
    "            beta = 0\n",
    "        trials_params = np.load(f'{outputs_dir}/{run}/trials_params.npy', allow_pickle=True)\n",
    "        trials_losses = np.load(f'{outputs_dir}/{run}/trials_losses.npy', allow_pickle=True)\n",
    "        params_dict = {param: [param_dict[param] for param_dict in trials_params]\n",
    "                   for param in list(trials_params[0].keys())}\n",
    "        em_params, em_params_dev = get_ensemble_params(trials_params, trials_losses, beta, return_dev=True)\n",
    "        list_of_params = list(em_params.keys())\n",
    "        for param in list(em_params.keys()):\n",
    "            df_params_master.loc[idx, (param, 'mean')] = em_params[param]\n",
    "            if use_hpdi:\n",
    "                l,u = az.hdi(np.array(params_dict[param]),0.95)\n",
    "                df_params_master.loc[idx, (param, 'bound_l')] = l\n",
    "                df_params_master.loc[idx, (param, 'bound_u')] = u\n",
    "                df_params_master.loc[idx, (param, 'std_err')] = em_params_dev[param]/np.sqrt(df_params_master.loc[idx, ('ess', '')])\n",
    "            else:\n",
    "                df_params_master.loc[idx, (param, 'std_err')] = em_params_dev[param]/np.sqrt(df_params_master.loc[idx, ('ess', '')])\n",
    "\n",
    "    df_params_master[('start_date', '')] = pd.to_datetime(df_params_master[('start_date', '')], format='%Y-%m-%d')\n",
    "    df_params_master.columns = df_params_master.columns.map('_'.join)\n",
    "    df_params_master.columns = [x if x[-1] != '_' else x[:-1] for x in df_params_master.columns]\n",
    "    \n",
    "    return df_params_master,list_of_params"
   ]
  },
  {
   "cell_type": "code",
   "execution_count": null,
   "metadata": {},
   "outputs": [],
   "source": [
    "run_ledger = create_run_ledger(outputs_dir)\n",
    "run_ledger = calculate_ess(run_ledger, outputs_dir)\n",
    "run_ledger"
   ]
  },
  {
   "cell_type": "code",
   "execution_count": null,
   "metadata": {},
   "outputs": [],
   "source": [
    "df_params_master,list_of_params = _calculate_ensemble_params(run_ledger, outputs_dir,use_beta = False,use_hpdi=True)\n",
    "df_params_master.sort_values('start_date')"
   ]
  },
  {
   "cell_type": "code",
   "execution_count": null,
   "metadata": {},
   "outputs": [],
   "source": [
    "df_params_comb = df_params_master.groupby('start_date').mean()\n",
    "df_params_comb.reset_index(inplace=True)"
   ]
  },
  {
   "cell_type": "code",
   "execution_count": null,
   "metadata": {},
   "outputs": [],
   "source": [
    "df_params_comb"
   ]
  },
  {
   "cell_type": "markdown",
   "metadata": {},
   "source": [
    "# KDE Plot"
   ]
  },
  {
   "cell_type": "code",
   "execution_count": null,
   "metadata": {},
   "outputs": [],
   "source": [
    "# fig, axs = plt.subplots(figsize=(16, 21), nrows=4, ncols=2)\n",
    "# for i, param in enumerate(list_of_params):\n",
    "#     ax = axs.flat[i]\n",
    "#     sns.kdeplot(data=df_params, y=param, weights='loss_wt', ax=ax)"
   ]
  },
  {
   "cell_type": "code",
   "execution_count": null,
   "metadata": {},
   "outputs": [],
   "source": [
    "fig, axs = plt.subplots(figsize=(16, 21), nrows=4, ncols=2)\n",
    "for i, param in enumerate(list_of_params):\n",
    "    ax = axs.flat[i]\n",
    "    sns.scatterplot(data=df_params_master, x='start_date', y=f'{param}_mean', hue='seed', ax=ax)\n",
    "    ax.set_title(f'Ensemble Mean of {param} for different seeds')\n",
    "    ax.set_ylabel(param)\n",
    "    ax.set_xlabel('Starting Date')\n",
    "    \n",
    "    ax.xaxis.set_major_locator(mdates.DayLocator(interval=14))\n",
    "    ax.xaxis.set_minor_locator(mdates.DayLocator(interval=7))\n",
    "    ax.xaxis.set_major_formatter(mdates.DateFormatter('%m-%d'))\n",
    "    ax.tick_params('x', labelrotation=45)\n",
    "    ax.grid(alpha=0.5)\n",
    "    \n",
    "    ax.set_xlim(ax.get_xlim()[0], ax.get_xlim()[1]+7)\n",
    "    \n",
    "fig.suptitle(f'Ensemble Mean of all params vs time for different seeds (2k trials each)')\n",
    "fig.subplots_adjust(top=0.95, hspace=0.3)"
   ]
  },
  {
   "cell_type": "code",
   "execution_count": null,
   "metadata": {},
   "outputs": [],
   "source": [
    "fig.savefig('em-mean-params-diff-seeds.png')"
   ]
  },
  {
   "cell_type": "code",
   "execution_count": null,
   "metadata": {},
   "outputs": [],
   "source": [
    "fig, axs = plt.subplots(figsize=(16, 21), nrows=4, ncols=2)\n",
    "use_hpdi =True\n",
    "for i, param in enumerate(list_of_params):\n",
    "    ax = axs.flat[i]\n",
    "    if use_hpdi:\n",
    "        ax.errorbar(x=df_params_comb['start_date'], y=df_params_comb[f'{param}_mean'], yerr=np.array(df_params_comb[f'{param}_mean']-df_params_comb[f'{param}_bound_l'],df_params_comb[f'{param}_bound_u']-df_params_comb[f'{param}_mean']),ecolor = 'lightblue')\n",
    "    else:\n",
    "        ax.errorbar(x=df_params_comb['start_date'], y=df_params_comb[f'{param}_mean'].rolling(window = 4).mean(), yerr=df_params_comb[f'{param}_std_err'])\n",
    "    ax.set_title(f'Ensemble Mean of {param} +- std error')\n",
    "    ax.set_ylabel(param)\n",
    "    ax.set_xlabel('Starting Date')\n",
    "    if param == 'lockdown_R0':\n",
    "        ax.set_ylim(.65,1.4)\n",
    "    ax.xaxis.set_major_locator(mdates.DayLocator(interval=14))\n",
    "    ax.xaxis.set_minor_locator(mdates.DayLocator(interval=7))\n",
    "    ax.xaxis.set_major_formatter(mdates.DateFormatter('%m-%d'))\n",
    "    ax.tick_params('x', labelrotation=45)\n",
    "    ax.grid(alpha=0.5)\n",
    "    \n",
    "    ax.set_xlim(ax.get_xlim()[0], ax.get_xlim()[1]+7)\n",
    "    \n",
    "fig.suptitle(f'Ensemble Mean of all params vs time (5 seeds combined)')\n",
    "fig.subplots_adjust(top=0.95, hspace=0.3)"
   ]
  },
  {
   "cell_type": "code",
   "execution_count": null,
   "metadata": {},
   "outputs": [],
   "source": [
    "fig.savefig('em-mean-params-std-error-v1.png')rolling"
   ]
  },
  {
   "cell_type": "code",
   "execution_count": null,
   "metadata": {},
   "outputs": [],
   "source": [
    "np.savetxt('../../configs/exper/runs.txt', run_ledger['run'].to_numpy().reshape((-1, 5)).astype(int), fmt='%d')"
   ]
  },
  {
   "cell_type": "code",
   "execution_count": null,
   "metadata": {},
   "outputs": [],
   "source": [
    "np.loadtxt('../../configs/exper/runs.txt', dtype='int', delimiter=' ').tolist()"
   ]
  },
  {
   "cell_type": "code",
   "execution_count": null,
   "metadata": {},
   "outputs": [],
   "source": []
  }
 ],
 "metadata": {
  "kernelspec": {
   "display_name": "Python 3",
   "language": "python",
   "name": "python3"
  },
  "language_info": {
   "codemirror_mode": {
    "name": "ipython",
    "version": 3
   },
   "file_extension": ".py",
   "mimetype": "text/x-python",
   "name": "python",
   "nbconvert_exporter": "python",
   "pygments_lexer": "ipython3"
  }
 },
 "nbformat": 4,
 "nbformat_minor": 4
}
