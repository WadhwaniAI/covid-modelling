{
 "cells": [
  {
   "cell_type": "code",
   "execution_count": 1,
   "metadata": {},
   "outputs": [],
   "source": [
    "%load_ext autoreload\n",
    "%autoreload 2"
   ]
  },
  {
   "cell_type": "markdown",
   "metadata": {},
   "source": [
    "Please keep this notebook functionally at par with scripts/oncall/generate_report.py AND linearly runnable (no code with duplicated functionality; run all from this cell down should produce a report). Modify the parameters in `single_fitting_cycle` and `plot_trials` per customizations"
   ]
  },
  {
   "cell_type": "code",
   "execution_count": 2,
   "metadata": {},
   "outputs": [],
   "source": [
    "import numpy as np\n",
    "import pandas as pd\n",
    "\n",
    "import datetime\n",
    "import copy\n",
    "import json\n",
    "import time\n",
    "\n",
    "import sys\n",
    "sys.path.append('../../')\n",
    "\n",
    "from data.dataloader import get_covid19india_api_data\n",
    "from data.processing import get_data\n",
    "from models.ihme.dataloader import get_dataframes_cached\n",
    "\n",
    "from models.seir.seir_testing import SEIR_Testing\n",
    "from models.seir.seirhd import SEIRHD\n",
    "from models.seir.seir_movement import SEIR_Movement\n",
    "from models.seir.seir_movement_testing import SEIR_Movement_Testing\n",
    "\n",
    "from main.seir.fitting import get_variable_param_ranges\n",
    "from main.seir.fitting import get_regional_data, data_setup, run_cycle\n",
    "# from main.seir.fitting import single_fitting_cycle, get_variable_param_ranges\n",
    "from main.seir.forecast import get_forecast, create_region_csv, create_all_csvs, write_csv\n",
    "from main.seir.forecast import order_trials, get_all_trials\n",
    "from utils.create_report import create_report, trials_to_df\n",
    "from utils.enums import Columns\n",
    "from viz import plot_forecast, plot_trials\n"
   ]
  },
  {
   "cell_type": "code",
   "execution_count": null,
   "metadata": {},
   "outputs": [],
   "source": [
    "t = time.time()\n",
    "output_folder = f'../../reports/{t}'"
   ]
  },
  {
   "cell_type": "markdown",
   "metadata": {},
   "source": [
    "## Load Covid19india Data"
   ]
  },
  {
   "cell_type": "code",
   "execution_count": null,
   "metadata": {},
   "outputs": [],
   "source": [
    "# dataframes = get_covid19india_api_data()\n",
    "dataframes = get_dataframes_cached()"
   ]
  },
  {
   "cell_type": "code",
   "execution_count": null,
   "metadata": {},
   "outputs": [],
   "source": [
    "predictions_dict = {}"
   ]
  },
  {
   "cell_type": "markdown",
   "metadata": {},
   "source": [
    "## Select Districts to fit on"
   ]
  },
  {
   "cell_type": "code",
   "execution_count": null,
   "metadata": {},
   "outputs": [],
   "source": [
    "# districts_to_show = [('Maharashtra', 'Pune'), \n",
    "#                      ('Maharashtra', 'Mumbai'), \n",
    "#                      ('Rajasthan', 'Jaipur'), \n",
    "#                      ('Gujarat', 'Ahmedabad'), \n",
    "#                      ('Karnataka', 'Bengaluru Urban'),\n",
    "#                      ('Delhi', None)]\n",
    "\n",
    "districts_to_show = [('Maharashtra', 'Mumbai')]"
   ]
  },
  {
   "cell_type": "markdown",
   "metadata": {},
   "source": [
    "## Perform M1 and M2 fits"
   ]
  },
  {
   "cell_type": "code",
   "execution_count": 3,
   "metadata": {},
   "outputs": [],
   "source": [
    "which_compartments = ['hospitalised', 'total_infected', 'deceased', 'recovered']"
   ]
  },
  {
   "cell_type": "code",
   "execution_count": 4,
   "metadata": {},
   "outputs": [
    {
     "output_type": "error",
     "ename": "NameError",
     "evalue": "name 'dataframes' is not defined",
     "traceback": [
      "\u001b[0;31m---------------------------------------------------------------------------\u001b[0m",
      "\u001b[0;31mNameError\u001b[0m                                 Traceback (most recent call last)",
      "\u001b[0;32m<ipython-input-4-9a54fc4fa092>\u001b[0m in \u001b[0;36m<module>\u001b[0;34m\u001b[0m\n\u001b[0;32m----> 1\u001b[0;31m df_district, df_raw = get_regional_data(dataframes, state, district, data_from_tracker, data_format, filename, smooth_jump=True,\n\u001b[0m\u001b[1;32m      2\u001b[0m     \u001b[0msmoothing_length\u001b[0m\u001b[0;34m=\u001b[0m\u001b[0;36m33\u001b[0m\u001b[0;34m,\u001b[0m \u001b[0msmoothing_method\u001b[0m\u001b[0;34m=\u001b[0m\u001b[0;34m'weighted'\u001b[0m\u001b[0;34m,\u001b[0m\u001b[0;34m\u001b[0m\u001b[0;34m\u001b[0m\u001b[0m\n\u001b[1;32m      3\u001b[0m     t_recov=14, return_extra=False)\n",
      "\u001b[0;31mNameError\u001b[0m: name 'dataframes' is not defined"
     ]
    }
   ],
   "source": [
    "df_district, df_raw = get_regional_data(dataframes, state, district, data_from_tracker, data_format, filename, smooth_jump=True,\n",
    "    smoothing_length=33, smoothing_method='weighted', \n",
    "    t_recov=14, return_extra=False)\n"
   ]
  },
  {
   "cell_type": "code",
   "execution_count": null,
   "metadata": {},
   "outputs": [],
   "source": []
  },
  {
   "cell_type": "code",
   "execution_count": null,
   "metadata": {},
   "outputs": [],
   "source": [
    "observed_dataframes = data_setup(df_district, df_raw, val_period=7, which_compartments=which_compartments)\n",
    "predictions_dict = run_cycle(state, district, observed_dataframes, model=SEIR_Testing, data_from_tracker=False, train_period=7, which_compartments=which_compartments, num_evals=700, N=1e7, initialisation='intermediate')"
   ]
  },
  {
   "cell_type": "code",
   "execution_count": null,
   "metadata": {},
   "outputs": [],
   "source": [
    "for state, district in districts_to_show:\n",
    "    predictions_dict[(state, district)] = {}\n",
    "    observed_dataframes = data_setup(df_district, df_raw, val_period=7, which_compartments=which_compartments)\n",
    "    predictions_dict[(state, district)]['m1'] = run_cycle(\n",
    "        state, district, observed_dataframes, model=SEIR_Testing, \n",
    "        data_from_tracker=False, train_period=7, \n",
    "        which_compartments=which_compartments, num_evals=700, \n",
    "        N=1e7, initialisation='intermediate')\n",
    "    observed_dataframes = data_setup(predictions_dict[(state, district)]['m1']['df_prediction'], df_raw, val_period=0, which_compartments=which_compartments)\n",
    "    predictions_dict[(state, district)]['m2'] = run_cycle(\n",
    "        state, district, observed_dataframes, model=SEIR_Testing, \n",
    "        data_from_tracker=False, train_period=7, \n",
    "        which_compartments=which_compartments, num_evals=700, \n",
    "        N=1e7, initialisation='intermediate')\n",
    "    \n",
    "    predictions_dict[(state, district)]['state'] = state\n",
    "    predictions_dict[(state, district)]['dist'] = district\n",
    "    predictions_dict[(state, district)]['fitting_date'] = datetime.datetime.now().strftime(\"%Y-%m-%d\")\n",
    "    predictions_dict[(state, district)]['datasource'] = 'covid19api' if predictions_dict[(state, district)]['m1']['data_from_tracker'] else 'municipality'\n",
    "    predictions_dict[(state, district)]['variable_param_ranges'] = predictions_dict[(state, district)]['m1']['variable_param_ranges']\n",
    "    predictions_dict[(state, district)]['data_last_date'] = predictions_dict[(state, district)]['m2']['data_last_date']"
   ]
  },
  {
   "cell_type": "code",
   "execution_count": null,
   "metadata": {},
   "outputs": [],
   "source": [
    "# predictions_dict[('Maharashtra', 'Mumbai')]['m1']['smoothing_plot'].figure"
   ]
  },
  {
   "cell_type": "code",
   "execution_count": null,
   "metadata": {},
   "outputs": [],
   "source": [
    "predictions_dict[('Maharashtra', 'Mumbai')]['m1']['df_loss']"
   ]
  },
  {
   "cell_type": "markdown",
   "metadata": {},
   "source": [
    "## Create Master Loss Dataframe"
   ]
  },
  {
   "cell_type": "markdown",
   "metadata": {},
   "source": [
    "### M1 Loss"
   ]
  },
  {
   "cell_type": "code",
   "execution_count": null,
   "metadata": {},
   "outputs": [],
   "source": [
    "starting_key = list(predictions_dict.keys())[0]\n",
    "\n",
    "loss_columns = pd.MultiIndex.from_product([predictions_dict[starting_key]['m1']['df_loss'].columns, predictions_dict[starting_key]['m1']['df_loss'].index])\n",
    "loss_index = predictions_dict.keys()\n",
    "\n",
    "df_loss_master = pd.DataFrame(columns=loss_columns, index=loss_index)\n",
    "for key in predictions_dict.keys():\n",
    "    df_loss_master.loc[key, :] = np.around(predictions_dict[key]['m1']['df_loss'].values.T.flatten().astype('float'), decimals=2)\n",
    "    \n",
    "df_loss_master"
   ]
  },
  {
   "cell_type": "markdown",
   "metadata": {},
   "source": [
    "### M2 Loss"
   ]
  },
  {
   "cell_type": "code",
   "execution_count": null,
   "metadata": {},
   "outputs": [],
   "source": [
    "starting_key = list(predictions_dict.keys())[0]\n",
    "\n",
    "loss_columns = pd.MultiIndex.from_product([predictions_dict[starting_key]['m2']['df_loss'].columns, predictions_dict[starting_key]['m2']['df_loss'].index])\n",
    "loss_index = predictions_dict.keys()\n",
    "\n",
    "df_loss_master = pd.DataFrame(columns=loss_columns, index=loss_index)\n",
    "for key in predictions_dict.keys():\n",
    "    df_loss_master.loc[key, :] = np.around(predictions_dict[key]['m2']['df_loss'].values.T.flatten().astype('float'), decimals=2)\n",
    "    \n",
    "df_loss_master"
   ]
  },
  {
   "cell_type": "markdown",
   "metadata": {},
   "source": [
    "## Plot Forecasts"
   ]
  },
  {
   "cell_type": "code",
   "execution_count": null,
   "metadata": {},
   "outputs": [],
   "source": [
    "for region in predictions_dict.keys():\n",
    "    predictions_dict[region]['m2']['forecast'] = plot_forecast(predictions_dict[region], region, both_forecasts=False, error_bars=True)\n",
    "    \n",
    "    predictions, losses, params = get_all_trials(predictions_dict[region], train_fit='m1')\n",
    "    predictions_dict[region]['m1']['params'] = params\n",
    "    predictions_dict[region]['m1']['losses'] = losses\n",
    "    predictions_dict[region]['m1']['predictions'] = predictions\n",
    "    predictions_dict[region]['m1']['all_trials'] = trials_to_df(predictions, losses, params)\n",
    "    predictions, losses, params = get_all_trials(predictions_dict[region], train_fit='m2')\n",
    "    predictions_dict[region]['m2']['params'] = params\n",
    "    predictions_dict[region]['m2']['losses'] = losses\n",
    "    predictions_dict[region]['m2']['predictions'] = predictions\n",
    "    predictions_dict[region]['m2']['all_trials'] = trials_to_df(predictions, losses, params)\n",
    "    kforecasts = plot_trials(\n",
    "        predictions_dict[region],\n",
    "        train_fit='m2',\n",
    "        predictions=predictions, \n",
    "        losses=losses, params=params, \n",
    "        k=args.ktrials,\n",
    "        which_compartments=[Columns.confirmed, Columns.active])\n",
    "    predictions_dict[region]['m2']['forecast_confirmed_topk'] = kforecasts[Columns.confirmed]\n",
    "    predictions_dict[region]['m2']['forecast_active_topk'] = kforecasts[Columns.active]\n"
   ]
  },
  {
   "cell_type": "code",
   "execution_count": null,
   "metadata": {},
   "outputs": [],
   "source": [
    "predictions_dict[region]['m2']['forecast'].figure"
   ]
  },
  {
   "cell_type": "code",
   "execution_count": null,
   "metadata": {},
   "outputs": [],
   "source": [
    "predictions_dict[region]['m2']['forecast_confirmed_topk'].figure"
   ]
  },
  {
   "cell_type": "code",
   "execution_count": null,
   "metadata": {},
   "outputs": [],
   "source": [
    "predictions_dict[region]['m2']['forecast_active_topk'].figure"
   ]
  },
  {
   "cell_type": "markdown",
   "metadata": {},
   "source": [
    "## Create Report\n"
   ]
  },
  {
   "cell_type": "code",
   "execution_count": null,
   "metadata": {},
   "outputs": [],
   "source": [
    "for region in predictions_dict.keys():\n",
    "    create_report(predictions_dict[region], ROOT_DIR=output_folder)\n",
    "    predictions_dict[region]['m1']['all_trials'].to_csv(os.path.join(output_folder, 'm1-trials.csv'))\n",
    "    predictions_dict[region]['m2']['all_trials'].to_csv(os.path.join(output_folder, 'm2-trials.csv'))"
   ]
  },
  {
   "cell_type": "markdown",
   "metadata": {},
   "source": [
    "## Create and Save Output CSV"
   ]
  },
  {
   "cell_type": "code",
   "execution_count": null,
   "metadata": {},
   "outputs": [],
   "source": [
    "df_output = create_all_csvs(predictions_dict, icu_fraction=0.02)"
   ]
  },
  {
   "cell_type": "code",
   "execution_count": null,
   "metadata": {},
   "outputs": [],
   "source": [
    "write_csv(df_output, filename=os.path.join(output_folder, f'output-{t}.csv'))"
   ]
  }
 ],
 "metadata": {
  "kernelspec": {
   "display_name": "Python 3.7.7 64-bit",
   "language": "python",
   "name": "python37764bitbf54195b0dc041b385ef0610fc0a4aa4"
  },
  "language_info": {
   "codemirror_mode": {
    "name": "ipython",
    "version": 3
   },
   "file_extension": ".py",
   "mimetype": "text/x-python",
   "name": "python",
   "nbconvert_exporter": "python",
   "pygments_lexer": "ipython3",
   "version": "3.7.7-final"
  }
 },
 "nbformat": 4,
 "nbformat_minor": 4
}