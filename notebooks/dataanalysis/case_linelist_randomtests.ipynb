{
 "cells": [
  {
   "cell_type": "code",
   "execution_count": null,
   "metadata": {},
   "outputs": [],
   "source": [
    "import pandas as pd\n",
    "import numpy as np\n",
    "import matplotlib.pyplot as plt\n",
    "from pyxlsb import convert_date\n",
    "import utils"
   ]
  },
  {
   "cell_type": "code",
   "execution_count": null,
   "metadata": {},
   "outputs": [],
   "source": [
    "import importlib\n",
    "import sys\n",
    "importlib.reload(sys.modules['utils'])"
   ]
  },
  {
   "cell_type": "code",
   "execution_count": null,
   "metadata": {},
   "outputs": [],
   "source": [
    "# The data files is stored in the data directory under the root directory of this repo. \n",
    "data_dir = \"../../data/data/dataanalysis/\"\n",
    "output_dir = \"Plots2/\"\n",
    "# Name of the file being read\n",
    "case_sheet = \"bmc_cases.xlsb\"\n",
    "\n",
    "#Read the file\n",
    "input_df = pd.read_excel(data_dir+case_sheet,engine='pyxlsb',header=None)"
   ]
  },
  {
   "cell_type": "code",
   "execution_count": null,
   "metadata": {},
   "outputs": [],
   "source": [
    "# Some sheets have a blank row at top and some don't. By reading without header, dropping the blank rows and assigning the top row as header back, we can fix this. \n",
    "# If there is a better solution to this, or later if this problem is resolved if we shift to S3 containers, feel free to edit. \n",
    "input_df = input_df.dropna(how='all')\n",
    "data = input_df[1:]\n",
    "data.columns = input_df.iloc[0]"
   ]
  },
  {
   "cell_type": "code",
   "execution_count": null,
   "metadata": {},
   "outputs": [],
   "source": [
    "tmp1 = data[data['Patient Status']=='Active']\n",
    "print(len(tmp1))\n",
    "tmp2 = data[data['Patient Status (Central)']=='Recovered']\n",
    "print(len(tmp2))\n",
    "tmp3 = data[(data['Patient Status']=='Active') & (data['Patient Status (Central)']=='Recovered')]\n",
    "print(len(tmp3))\n",
    "tmp4 = data[(data['Patient Status']=='Recovered') & (data['Patient Status (Central)']=='Active')]\n",
    "print(len(tmp4))"
   ]
  },
  {
   "cell_type": "code",
   "execution_count": null,
   "metadata": {},
   "outputs": [],
   "source": []
  }
 ],
 "metadata": {
  "kernelspec": {
   "display_name": "Python 3",
   "language": "python",
   "name": "python3"
  },
  "language_info": {
   "codemirror_mode": {
    "name": "ipython",
    "version": 3
   },
   "file_extension": ".py",
   "mimetype": "text/x-python",
   "name": "python",
   "nbconvert_exporter": "python",
   "pygments_lexer": "ipython3"
  }
 },
 "nbformat": 4,
 "nbformat_minor": 4
}
