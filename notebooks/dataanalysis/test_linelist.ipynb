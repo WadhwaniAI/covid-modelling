{
 "cells": [
  {
   "cell_type": "code",
   "execution_count": null,
   "metadata": {},
   "outputs": [],
   "source": [
    "import pandas as pd\n",
    "import numpy as np\n",
    "import seaborn as sns\n",
    "import matplotlib.pyplot as plt\n",
    "import datetime\n",
    "%matplotlib inline"
   ]
  },
  {
   "cell_type": "code",
   "execution_count": null,
   "metadata": {},
   "outputs": [],
   "source": [
    "# The data files is stored in the data directory under the root directory of this repo. \n",
    "#data_dir = \"../../data/data/dataanalysis/\"\n",
    "# Name of the file being read\n",
    "#case_sheet = \"bmc_tests_july.xlsb\"\n",
    "\n",
    "#Read the file\n",
    "#data = pd.read_excel(data_dir+case_sheet,engine='pyxlsb',header=None)"
   ]
  },
  {
   "cell_type": "code",
   "execution_count": null,
   "metadata": {},
   "outputs": [],
   "source": [
    "data = pd.read_excel('bmc_tests_july.xlsx')"
   ]
  },
  {
   "cell_type": "markdown",
   "metadata": {},
   "source": [
    "## Pre-Processing & Completeness Check\n"
   ]
  },
  {
   "cell_type": "code",
   "execution_count": null,
   "metadata": {},
   "outputs": [],
   "source": [
    "# Some sheets have a blank row at top and some don't. By reading without header, dropping the blank rows and assigning the top row as header back, we can fix this. \n",
    "# If there is a better solution to this, or later if this problem is resolved if we shift to S3 containers, feel free to edit. \n",
    "\n",
    "data = data.dropna(how='all')\n",
    "data.columns = data.iloc[0]\n",
    "data = data[1:]"
   ]
  },
  {
   "cell_type": "code",
   "execution_count": null,
   "metadata": {},
   "outputs": [],
   "source": [
    "# Count all the non-na (non-empty) values in each columns\n",
    "nvals = data.notna().sum()\n",
    "print(nvals)"
   ]
  },
  {
   "cell_type": "code",
   "execution_count": null,
   "metadata": {},
   "outputs": [],
   "source": [
    "plt.figure(figsize=(10,5),dpi=150)\n",
    "sns.heatmap(pd.isnull(data),yticklabels=False)"
   ]
  },
  {
   "cell_type": "code",
   "execution_count": null,
   "metadata": {},
   "outputs": [],
   "source": [
    "data[' Date of Sample Tested'] = pd.to_datetime(data[' Date of Sample Tested'])\n",
    "data[' Date of Sample Tested']  = data[' Date of Sample Tested'].dt.date"
   ]
  },
  {
   "cell_type": "code",
   "execution_count": null,
   "metadata": {},
   "outputs": [],
   "source": [
    "data = data.drop(data[data[' Date of Sample Tested']<datetime.date(2020,7,1)].index)"
   ]
  },
  {
   "cell_type": "code",
   "execution_count": null,
   "metadata": {},
   "outputs": [],
   "source": [
    "data.dtypes"
   ]
  },
  {
   "cell_type": "code",
   "execution_count": null,
   "metadata": {},
   "outputs": [],
   "source": [
    "dates = list(data[' Date of Sample Tested'].unique())\n",
    "dates.sort(reverse=False)"
   ]
  },
  {
   "cell_type": "code",
   "execution_count": null,
   "metadata": {},
   "outputs": [],
   "source": [
    "data=data.drop(data[(data[' Egene']==' Under Process') & (data[' ORF1B']==' Under Process') & (data[' RDRP']==' Under Process')].index)"
   ]
  },
  {
   "cell_type": "markdown",
   "metadata": {},
   "source": [
    "# Defining Functions"
   ]
  },
  {
   "cell_type": "code",
   "execution_count": null,
   "metadata": {},
   "outputs": [],
   "source": [
    "#FUNCTIONS RELATING TO TESTS\n",
    "EGene_P = []\n",
    "EGene_N = []\n",
    "EGene_Positivity_Rate = []\n",
    "EGene_Total = []\n",
    "\n",
    "def egene_series():\n",
    "    for i in range(len(dates)):\n",
    "        df = data[data[' Date of Sample Tested']==dates[i]]\n",
    "        if len(df[df[' Egene']==' Positive'])==0 and len(df[df[' Egene']==' Negative'])==0:\n",
    "            P = 0\n",
    "            N = 0\n",
    "            PR = 0\n",
    "        else:\n",
    "            P = len(df[df[' Egene']==' Positive'])\n",
    "            N = len(df[df[' Egene']==' Negative'])\n",
    "            PR = (P/(N+P))*100\n",
    "        \n",
    "        total = N+P\n",
    "             \n",
    "        EGene_Total.append(total)\n",
    "        EGene_P.append(P)\n",
    "        EGene_N.append(N)\n",
    "        EGene_Positivity_Rate.append(PR)\n",
    "        \n",
    "RDRP_P = []\n",
    "RDRP_N = []\n",
    "RDRP_Positivity_Rate = []\n",
    "RDRP_Total = []\n",
    "\n",
    "def rdrp_series():\n",
    "    for i in range(len(dates)):\n",
    "        df = data[data[' Date of Sample Tested']==dates[i]]\n",
    "        if len(df[df[' RDRP']==' Positive'])==0 and len(df[df[' RDRP']==' Negative'])==0:\n",
    "            P = 0\n",
    "            N = 0\n",
    "            PR = 0\n",
    "        else:\n",
    "            P = len(df[df[' RDRP']==' Positive'])\n",
    "            N = len(df[df[' RDRP']==' Negative'])\n",
    "            PR = (P/(N+P))*100\n",
    "        \n",
    "        total = N+P\n",
    "            \n",
    "        RDRP_Total.append(total)\n",
    "        RDRP_P.append(P)\n",
    "        RDRP_N.append(N)\n",
    "        RDRP_Positivity_Rate.append(PR)\n",
    "     \n",
    "    \n",
    "ORF1B_P = []\n",
    "ORF1B_N = []\n",
    "ORF1B_Positivity_Rate = []\n",
    "ORF1B_Total = []\n",
    "\n",
    "def ORF1B_series():\n",
    "    for i in range(len(dates)):\n",
    "        df = data[data[' Date of Sample Tested']==dates[i]]\n",
    "        if len(df[df[' ORF1B']==' Positive'])==0 and len(df[df[' ORF1B']==' Negative'])==0:\n",
    "            P = 0\n",
    "            N = 0\n",
    "            PR = 0\n",
    "        else:\n",
    "            P = len(df[df[' ORF1B']==' Positive'])\n",
    "            N = len(df[df[' ORF1B']==' Negative'])\n",
    "            PR = (P/(N+P))*100\n",
    "        \n",
    "        total = N+P\n",
    "            \n",
    "        ORF1B_Total.append(total)\n",
    "        ORF1B_P.append(P)\n",
    "        ORF1B_N.append(N)\n",
    "        ORF1B_Positivity_Rate.append(PR)\n",
    "        "
   ]
  },
  {
   "cell_type": "code",
   "execution_count": null,
   "metadata": {},
   "outputs": [],
   "source": [
    "#FUNCTIONS RELATING TO PLOTTING TESTS WITH A TIME SERIES\n",
    "def test_ptr_plot(pr,total,test,dates):\n",
    "    fig,ax = plt.subplots(2,1,figsize=(10,5),dpi=200)\n",
    "\n",
    "    ax[0].plot(dates,pr,c='crimson')\n",
    "    ax[0].set_xlim(dates[0],dates[-1],)\n",
    "    ax[0].set_xlabel('Date of Sample Tested')\n",
    "    ax[0].set_ylabel('Percentage (%)')\n",
    "    ax[0].set_title(test +' Positivity Rate')\n",
    "\n",
    "    ax[1].plot(dates,total,c='g')\n",
    "    ax[1].set_xlim(dates[0],dates[-1],)\n",
    "    ax[1].set_xlabel('Date of Sample Tested')\n",
    "    ax[1].set_ylabel('Number of Samples')\n",
    "    ax[1].set_title('Number of ' + test + ' Samples')\n",
    "\n",
    "    plt.tight_layout()\n",
    "    \n",
    "    plt.savefig(test+'_ptr_graph.png')\n",
    "    \n",
    "\n",
    "def test_np_plot(positive,negative,test,dates):\n",
    "\n",
    "    fig,ax = plt.subplots(figsize=(10,5),dpi=200)\n",
    "    ax.plot(dates,positive)\n",
    "    ax.plot(dates,negative)\n",
    "\n",
    "    ax.set_xlim(dates[0],dates[-1],)\n",
    "    ax.legend(['Positive','Negative'])\n",
    "\n",
    "    plt.title( test + ' Tests')\n",
    "    plt.xlabel('Date of Sample Tested')\n",
    "    plt.ylabel('Number of Samples')\n",
    "    \n",
    "    plt.savefig(test+'_positive_negative_graph.png')\n",
    "    \n"
   ]
  },
  {
   "cell_type": "code",
   "execution_count": null,
   "metadata": {},
   "outputs": [],
   "source": [
    "M = []\n",
    "F = []\n",
    "\n",
    "def gender_timeseries():\n",
    "    for i in range(len(dates)):\n",
    "        df = data[data[' Date of Sample Tested']==dates[i]]\n",
    "        m = len(df[df[' Gender']==' M'])\n",
    "        f = len(df[df[' Gender']==' F'])\n",
    "        M.append(m)\n",
    "        F.append(f)\n",
    "        \n",
    "M_P = []\n",
    "F_P = []\n",
    "\n",
    "def gender_positive_timeseries():\n",
    "    for i in range(len(dates)):\n",
    "        df = data[(data[' Date of Sample Tested']==dates[i])&(data[' Final Result Sample']==' Positive')]\n",
    "        m = len(df[df[' Gender']==' M'])\n",
    "        f = len(df[df[' Gender']==' F'])\n",
    "        M_P.append(m)\n",
    "        F_P.append(f)\n",
    "        \n",
    "\n",
    "M_N = []\n",
    "F_N = []\n",
    "\n",
    "def gender_negative_timeseries():\n",
    "    for i in range(len(dates)):\n",
    "        df = data[(data[' Date of Sample Tested']==dates[i])&(data[' Final Result Sample']==' Negative')]\n",
    "        m = len(df[df[' Gender']==' M'])\n",
    "        f = len(df[df[' Gender']==' F'])\n",
    "        M_N.append(m)\n",
    "        F_N.append(f)\n",
    "        "
   ]
  },
  {
   "cell_type": "code",
   "execution_count": null,
   "metadata": {},
   "outputs": [],
   "source": [
    "def categorize_age(age):\n",
    "    age = int(age)\n",
    "    if age>=0 and age<=9:\n",
    "        return '0-9'\n",
    "    if age>9 and age<=19:\n",
    "        return '10-19'\n",
    "    if age>19 and age<=29:\n",
    "        return '20-29'\n",
    "    if age>29 and age<=39:\n",
    "        return '30-39'\n",
    "    if age>=39 and age<=49:\n",
    "        return '40-49'\n",
    "    if age>=49 and age<=59:\n",
    "        return '50-59'\n",
    "    if age>=59 and age<=69:\n",
    "        return '60-69'\n",
    "    if age>=69 and age<=79:\n",
    "        return '70-79'\n",
    "    if age>=79 and age<=89:\n",
    "        return '80-89'\n",
    "    if age>=89 and age<=99:\n",
    "        return '90-99'\n",
    "    else:\n",
    "        return '99+'"
   ]
  },
  {
   "cell_type": "code",
   "execution_count": null,
   "metadata": {},
   "outputs": [],
   "source": [
    "top5kits = len(data[' Testing Kit Used'].value_counts().head(5).index)\n",
    "True_PCR_Kelpest = []\n",
    "ABI_Taqpath = []\n",
    "ABI_Taqman = []\n",
    "Ag_SD = []\n",
    "SD_Biosensor = []\n",
    "Others = []\n",
    "\n",
    "def testing_kits_categorizer():\n",
    "    for i in range(len(dates)):\n",
    "        df = data[data[' Date of Sample Tested']==dates[i]]\n",
    "        TPK = len(df[df[' Testing Kit Used']==' True PCR Kelpest'])\n",
    "        A_Tpath = len(df[df[' Testing Kit Used']==' ABI Taqpath'])\n",
    "        A_Tman = len(df[df[' Testing Kit Used']==' ABI Taqman'])\n",
    "        Ag_SD_val = len(df[df[' Testing Kit Used']==' Ag-SD Biosensor Standard Q COVID-19 Ag detection kit'])\n",
    "        SD_Bs = len(df[df[' Testing Kit Used']==' SD Biosensor'])\n",
    "        Others_values = len(df)-TPK-A_Tpath-A_Tman-Ag_SD_val-SD_Bs\n",
    "        \n",
    "        True_PCR_Kelpest.append(TPK)\n",
    "        ABI_Taqpath.append(A_Tpath)\n",
    "        ABI_Taqman.append(A_Tman)\n",
    "        Ag_SD.append(Ag_SD_val)\n",
    "        SD_Biosensor.append(SD_Bs)\n",
    "        Others.append(Others_values)\n",
    "        "
   ]
  },
  {
   "cell_type": "code",
   "execution_count": null,
   "metadata": {},
   "outputs": [],
   "source": []
  },
  {
   "cell_type": "code",
   "execution_count": null,
   "metadata": {},
   "outputs": [],
   "source": []
  },
  {
   "cell_type": "markdown",
   "metadata": {},
   "source": [
    "## Graphs\n"
   ]
  },
  {
   "cell_type": "code",
   "execution_count": null,
   "metadata": {},
   "outputs": [],
   "source": [
    "#DISTRIBUTION OF TESTING KITS USED\n",
    "x = []\n",
    "labels = []\n",
    "\n",
    "df = pd.DataFrame(data[' Testing Kit Used'].value_counts())\n",
    "total = df[' Testing Kit Used'].sum()\n",
    "x = list(df[df[' Testing Kit Used']>1000][' Testing Kit Used'])\n",
    "x.append(total-(df[df[' Testing Kit Used']>1000][' Testing Kit Used'].sum()))\n",
    "labels = list(df[df[' Testing Kit Used']>1000].index)\n",
    "labels.append('Other')\n",
    "\n",
    "plt.figure(figsize=(10,5),dpi=200)\n",
    "plt.pie(x=x,labels=labels,wedgeprops={'linewidth':2,'edgecolor':'black'})\n",
    "\n",
    "\n",
    "plt.title('Distribution of Testing Kits Used')\n",
    "\n",
    "#plt.savefig('distribution_of_testing_kids_used_piechart.png')"
   ]
  },
  {
   "cell_type": "code",
   "execution_count": null,
   "metadata": {},
   "outputs": [],
   "source": [
    "#COUNTPLOT OF FINAL RESULT SAMPLE\n",
    "plt.figure(figsize=(10,5),dpi=200)\n",
    "sns.countplot(x=' Final Result Sample',data=data)\n",
    "plt.xticks(rotation=90)\n",
    "\n",
    "#plt.savefig('Countplot of Final Result Sample')"
   ]
  },
  {
   "cell_type": "code",
   "execution_count": null,
   "metadata": {},
   "outputs": [],
   "source": [
    "#E GENE VISUALIZATION\n",
    "egene_series()"
   ]
  },
  {
   "cell_type": "code",
   "execution_count": null,
   "metadata": {},
   "outputs": [],
   "source": [
    "test_np_plot(EGene_P,EGene_N,'E Gene',dates)"
   ]
  },
  {
   "cell_type": "code",
   "execution_count": null,
   "metadata": {},
   "outputs": [],
   "source": [
    "test_ptr_plot(EGene_Positivity_Rate,EGene_Total,'E Gene',dates)"
   ]
  },
  {
   "cell_type": "code",
   "execution_count": null,
   "metadata": {},
   "outputs": [],
   "source": [
    "#RDRP VISUALIZATION\n",
    "rdrp_series()"
   ]
  },
  {
   "cell_type": "code",
   "execution_count": null,
   "metadata": {},
   "outputs": [],
   "source": [
    "test_np_plot(RDRP_P,RDRP_N,'RDRP',dates)"
   ]
  },
  {
   "cell_type": "code",
   "execution_count": null,
   "metadata": {},
   "outputs": [],
   "source": [
    "test_ptr_plot(RDRP_Positivity_Rate,RDRP_Total,'RDRP',dates)"
   ]
  },
  {
   "cell_type": "code",
   "execution_count": null,
   "metadata": {},
   "outputs": [],
   "source": [
    "#ORF1B VISUALIZATION\n",
    "ORF1B_series()"
   ]
  },
  {
   "cell_type": "code",
   "execution_count": null,
   "metadata": {},
   "outputs": [],
   "source": [
    "test_np_plot(ORF1B_P,ORF1B_N,'ORF1B',dates)"
   ]
  },
  {
   "cell_type": "code",
   "execution_count": null,
   "metadata": {},
   "outputs": [],
   "source": [
    "test_ptr_plot(ORF1B_Positivity_Rate,ORF1B_Total,'ORF1B',dates)"
   ]
  },
  {
   "cell_type": "code",
   "execution_count": null,
   "metadata": {},
   "outputs": [],
   "source": [
    "#DISTRUBITION OF TEST TYPES\n",
    "plt.figure(figsize=(10,5),dpi=200)\n",
    "plt.pie([sum(ORF1B_Total),sum(EGene_Total),sum(RDRP_Total)],labels=['ORF01B','E Gene','RDRP'],autopct='%1.2f',wedgeprops={'linewidth':2,'edgecolor':'black'})\n",
    "plt.title('Distribution of Test Types')\n",
    "\n",
    "#plt.savefig('Distribution_Of_Test_Types_Piechart.png')"
   ]
  },
  {
   "cell_type": "code",
   "execution_count": null,
   "metadata": {},
   "outputs": [],
   "source": [
    "#DISTRIBUTION OF TESTS DAILY\n",
    "fig,ax = plt.subplots(figsize=(10,5),dpi=200)\n",
    "\n",
    "ax.bar(np.array(dates),np.array(EGene_Total))\n",
    "ax.bar(np.array(dates),np.array(RDRP_Total),bottom=np.array(EGene_Total))\n",
    "ax.bar(np.array(dates),np.array(ORF1B_Total),bottom=np.array(EGene_Total)+np.array(RDRP_Total))\n",
    "\n",
    "ax.legend(['E Gene','RDRP','ORF1B'])\n",
    "\n",
    "plt.xlabel('Date of Sample Tested')\n",
    "plt.ylabel('Number of Samples')\n",
    "plt.title('Number of Tests')\n",
    "\n",
    "#plt.savefig('Distribution_Of_Test_Types_Timeseries.png')"
   ]
  },
  {
   "cell_type": "code",
   "execution_count": null,
   "metadata": {},
   "outputs": [],
   "source": [
    "#TESTING KITS VISUALIZATION\n",
    "testing_kits_categorizer()"
   ]
  },
  {
   "cell_type": "code",
   "execution_count": null,
   "metadata": {},
   "outputs": [],
   "source": [
    "fig,ax = plt.subplots(figsize=(10,5),dpi=200)\n",
    "\n",
    "ax.bar(np.array(dates),np.array(True_PCR_Kelpest))\n",
    "ax.bar(np.array(dates),np.array(ABI_Taqpath),bottom=np.array(True_PCR_Kelpest))\n",
    "ax.bar(np.array(dates),np.array(ABI_Taqman),bottom=np.array(True_PCR_Kelpest)+np.array(ABI_Taqpath))\n",
    "ax.bar(np.array(dates),np.array(Ag_SD),bottom=np.array(True_PCR_Kelpest)+np.array(ABI_Taqpath)+np.array(ABI_Taqman))\n",
    "ax.bar(np.array(dates),np.array(SD_Biosensor),bottom=np.array(True_PCR_Kelpest)+np.array(ABI_Taqpath)+np.array(ABI_Taqman)+np.array(Ag_SD))\n",
    "ax.bar(np.array(dates),np.array(Others),bottom=np.array(True_PCR_Kelpest)+np.array(ABI_Taqpath)+np.array(ABI_Taqman)+np.array(Ag_SD)+np.array(SD_Biosensor))\n",
    "\n",
    "ax.legend([' True PCR Kelpest', ' ABI Taqpath', ' ABI Taqman',\n",
    "       ' Ag-SD Biosensor Standard Q COVID-19 Ag detection kit',\n",
    "       ' SD Biosensor','Others'],bbox_to_anchor=(1.05,1))\n",
    "\n",
    "plt.xlabel('Date of Sample Tested')\n",
    "plt.ylabel('Number of Testing Kits')\n",
    "plt.title('Number of Testing Kits')\n",
    "\n",
    "#plt.savefig('Distribution_Of_Testing_Kits_Timeseries.png')"
   ]
  },
  {
   "cell_type": "code",
   "execution_count": null,
   "metadata": {},
   "outputs": [],
   "source": [
    "pd.DataFrame(data=data[' Testing Kit Used'].value_counts())"
   ]
  },
  {
   "cell_type": "code",
   "execution_count": null,
   "metadata": {},
   "outputs": [],
   "source": [
    "#Age Visualization\n",
    "data['Age Range'] = data[' Age'].apply(categorize_age)"
   ]
  },
  {
   "cell_type": "code",
   "execution_count": null,
   "metadata": {},
   "outputs": [],
   "source": [
    "plt.figure(figsize=(10,5),dpi=200)\n",
    "sns.countplot(x='Age Range',data=data,order=['0-9','10-19','20-29','30-39','40-49','50-59','60-69','70-79','80-89','90-99'])\n",
    "plt.ylabel('Number of Testers')\n",
    "plt.title('Distribution of Age of Testers')\n",
    "\n",
    "#plt.savefig('Distribution_Of_Age_Of_Testers.png')"
   ]
  },
  {
   "cell_type": "code",
   "execution_count": null,
   "metadata": {},
   "outputs": [],
   "source": [
    "#Gender Visualization\n",
    "gender_timeseries()"
   ]
  },
  {
   "cell_type": "code",
   "execution_count": null,
   "metadata": {},
   "outputs": [],
   "source": [
    "fig,ax = plt.subplots(figsize=(10,5),dpi=200)\n",
    "\n",
    "ax.bar(np.array(dates),np.array(M))\n",
    "ax.bar(np.array(dates),np.array(F),bottom=np.array(M))\n",
    "\n",
    "\n",
    "ax.legend(['Male','Female'])\n",
    "\n",
    "plt.xlabel('Date of Sample Tested')\n",
    "plt.ylabel('Number of Testers')\n",
    "plt.title('Number of Testers')\n",
    "\n",
    "#plt.savefig('Gender_Distribution_Timeseries.png')"
   ]
  },
  {
   "cell_type": "code",
   "execution_count": null,
   "metadata": {},
   "outputs": [],
   "source": [
    "gender_positive_timeseries()"
   ]
  },
  {
   "cell_type": "code",
   "execution_count": null,
   "metadata": {},
   "outputs": [],
   "source": [
    "fig,ax = plt.subplots(figsize=(10,5),dpi=200)\n",
    "\n",
    "ax.bar(np.array(dates),np.array(M_P))\n",
    "ax.bar(np.array(dates),np.array(F_P),bottom=np.array(M_P))\n",
    "\n",
    "\n",
    "ax.legend(['Male','Female'])\n",
    "\n",
    "plt.xlabel('Date of Sample Tested')\n",
    "plt.ylabel('Number of Testers')\n",
    "plt.title('Number of Testers who Tested Positive')\n",
    "#plt.savefig('Gender_Distribution_Of_Positive_Testers_Timeseries.png')"
   ]
  },
  {
   "cell_type": "code",
   "execution_count": null,
   "metadata": {},
   "outputs": [],
   "source": [
    "gender_negative_timeseries()"
   ]
  },
  {
   "cell_type": "code",
   "execution_count": null,
   "metadata": {},
   "outputs": [],
   "source": [
    "fig,ax = plt.subplots(figsize=(10,5),dpi=200)\n",
    "\n",
    "ax.bar(np.array(dates),np.array(M_N))\n",
    "ax.bar(np.array(dates),np.array(F_N),bottom=np.array(M_N))\n",
    "\n",
    "\n",
    "ax.legend(['Male','Female'])\n",
    "\n",
    "plt.xlabel('Date of Sample Tested')\n",
    "plt.ylabel('Number of Testers')\n",
    "plt.title('Number of Testers who Tested Negative')\n",
    "#plt.savefig('Gender_Distribution_Of_Negative_Testers_Timeseries.png')"
   ]
  }
 ],
 "metadata": {
  "kernelspec": {
   "display_name": "Python 3",
   "language": "python",
   "name": "python3"
  },
  "language_info": {
   "codemirror_mode": {
    "name": "ipython",
    "version": 3
   },
   "file_extension": ".py",
   "mimetype": "text/x-python",
   "name": "python",
   "nbconvert_exporter": "python",
   "pygments_lexer": "ipython3"
  }
 },
 "nbformat": 4,
 "nbformat_minor": 4
}
