{
 "cells": [
  {
   "cell_type": "code",
   "execution_count": 13,
   "metadata": {},
   "outputs": [],
   "source": [
    "import pandas as pd"
   ]
  },
  {
   "cell_type": "code",
   "execution_count": 22,
   "metadata": {},
   "outputs": [],
   "source": [
    "# The data files is stored in the data directory under the root directory of this repo. \n",
    "data_dir = \"../../data/data/dataanalysis/\"\n",
    "# Name of the file being read\n",
    "case_sheet = \"bmc_tests_july.xlsb\"\n",
    "\n",
    "#Read the file\n",
    "data = pd.read_excel(data_dir+case_sheet,engine='pyxlsb',header=None)"
   ]
  },
  {
   "cell_type": "code",
   "execution_count": 23,
   "metadata": {},
   "outputs": [],
   "source": [
    "# Some sheets have a blank row at top and some don't. By reading without header, dropping the blank rows and assigning the top row as header back, we can fix this. \n",
    "# If there is a better solution to this, or later if this problem is resolved if we shift to S3 containers, feel free to edit. \n",
    "\n",
    "data = data.dropna(how='all')\n",
    "data.columns = data.iloc[0]\n",
    "data = data[1:]"
   ]
  },
  {
   "cell_type": "code",
   "execution_count": 24,
   "metadata": {},
   "outputs": [
    {
     "name": "stdout",
     "output_type": "stream",
     "text": [
      "1\n",
      "Icmr ID                                                               71027\n",
      " Laboratory Name                                                      71027\n",
      " Patient ID                                                           71027\n",
      " Patient Name                                                             0\n",
      " Age                                                                  71027\n",
      " Age In                                                               71027\n",
      " Gender                                                               71027\n",
      " Contact Number                                                           0\n",
      " Contact Number Belongs To                                                0\n",
      " Email                                                                    0\n",
      " Nationality                                                          71027\n",
      " Aadhar Card Number                                                       0\n",
      " Passport Number                                                          0\n",
      " State of Residence                                                   71027\n",
      " District of Residence                                                71027\n",
      " Address                                                                  0\n",
      " Village Town                                                             0\n",
      " Pin Code                                                                 0\n",
      " Patient Category                                                     71027\n",
      " Was the patient quarantined                                          71027\n",
      " Where were you quarantined                                           71027\n",
      " Date of arrival in India                                             71027\n",
      " Did you travel to foreign country in last 14 days                    71027\n",
      " Place of Travel                                                      71027\n",
      " Respiratory Infection Sari                                           71027\n",
      " Respiratory Infection Influenza like illness                         71027\n",
      " Are you a healthcare worker involved in managing COVID-19 patient    71027\n",
      " SRF ID                                                               71027\n",
      " Date of Sample Collection                                            71027\n",
      " Date of Sample Received                                              71027\n",
      " Entry Date                                                           71027\n",
      " Sample Type                                                          71027\n",
      " Sample ID                                                            71027\n",
      " Underlying Medical Condition                                         71027\n",
      " Hospitalized                                                         71027\n",
      " Hospital Name                                                        71027\n",
      " Hospitalization Date                                                 71027\n",
      " Hospital State                                                       71027\n",
      " Hospital District                                                    71027\n",
      " Doctor Name                                                          71027\n",
      " Doctor Mobile                                                        71027\n",
      " Doctor Email                                                         71027\n",
      " Symptoms Status                                                      71027\n",
      " symptoms                                                             71027\n",
      " Testing Kit Used                                                     71027\n",
      " Egene                                                                71027\n",
      " RDRP                                                                 71027\n",
      " ORF1B                                                                71027\n",
      " Influenza A                                                          71027\n",
      " Influenza B                                                          71027\n",
      " Parainfluenza                                                        71027\n",
      " RSV                                                                  71027\n",
      " Human Metapneumovirus                                                71027\n",
      " Adenovirus                                                           71027\n",
      " Rhinovirus                                                           71027\n",
      " Repeat Sample                                                        71027\n",
      " Date of Sample Tested                                                71027\n",
      " Confirmation Date                                                    71027\n",
      " Final Result Sample                                                  71027\n",
      " Remarks                                                              71027\n",
      "dtype: int64\n"
     ]
    }
   ],
   "source": [
    "# Count all the non-na (non-empty) values in each columns\n",
    "nvals = data.notna().sum()\n",
    "print(nvals)"
   ]
  },
  {
   "cell_type": "code",
   "execution_count": null,
   "metadata": {},
   "outputs": [],
   "source": []
  }
 ],
 "metadata": {
  "kernelspec": {
   "display_name": "Python 3",
   "language": "python",
   "name": "python3"
  },
  "language_info": {
   "codemirror_mode": {
    "name": "ipython",
    "version": 3
   },
   "file_extension": ".py",
   "mimetype": "text/x-python",
   "name": "python",
   "nbconvert_exporter": "python",
   "pygments_lexer": "ipython3",
   "version": "3.7.6"
  }
 },
 "nbformat": 4,
 "nbformat_minor": 4
}
