{
 "cells": [
  {
   "cell_type": "code",
   "execution_count": null,
   "metadata": {},
   "outputs": [],
   "source": [
    "import pandas as pd\n",
    "import numpy as np\n",
    "import matplotlib.pyplot as plt\n",
    "from pyxlsb import convert_date\n",
    "import utils"
   ]
  },
  {
   "cell_type": "code",
   "execution_count": null,
   "metadata": {},
   "outputs": [],
   "source": [
    "import importlib\n",
    "import sys\n",
    "importlib.reload(sys.modules['utils'])"
   ]
  },
  {
   "cell_type": "code",
   "execution_count": null,
   "metadata": {},
   "outputs": [],
   "source": [
    "# The data files is stored in the data directory under the root directory of this repo. \n",
    "data_dir = \"../../data/data/dataanalysis/\"\n",
    "output_dir = \"Plots2/\"\n",
    "# Name of the file being read\n",
    "case_sheet = \"bmc_cases.xlsb\"\n",
    "\n",
    "#Read the file\n",
    "input_df = pd.read_excel(data_dir+case_sheet,engine='pyxlsb',header=None)"
   ]
  },
  {
   "cell_type": "code",
   "execution_count": null,
   "metadata": {},
   "outputs": [],
   "source": [
    "# Some sheets have a blank row at top and some don't. By reading without header, dropping the blank rows and assigning the top row as header back, we can fix this. \n",
    "# If there is a better solution to this, or later if this problem is resolved if we shift to S3 containers, feel free to edit. \n",
    "input_df = input_df.dropna(how='all')\n",
    "data = input_df[1:]\n",
    "data.columns = input_df.iloc[0]"
   ]
  },
  {
   "cell_type": "code",
   "execution_count": null,
   "metadata": {},
   "outputs": [],
   "source": [
    "# Columns Required for this analysis. Filtering for easy visualizations\n",
    "columns_required = ['Date','Age','Gender','Patient Location (Central)','Patient Status (Central)']\n",
    "df = data[columns_required]\n",
    "df['Age Bracket'] = df.apply(lambda x: utils.get_age_bracket(x),axis=1)\n",
    "df['Date'] = df.apply(lambda x: convert_date(x['Date']),axis=1)\n",
    "\n",
    "#Add week column to group week wise"
   ]
  },
  {
   "cell_type": "code",
   "execution_count": null,
   "metadata": {},
   "outputs": [],
   "source": [
    "# Count all the non-na (non-empty) values in each columns\n",
    "nvals = data.notna().sum()\n",
    "print(nvals)"
   ]
  },
  {
   "cell_type": "code",
   "execution_count": null,
   "metadata": {},
   "outputs": [],
   "source": [
    "def plot_age_gender(df,suffix):\n",
    "    ag,gen = utils.age_gender_distribution(df)\n",
    "    \n",
    "    # Age\n",
    "    xlabel = \"Date When Patient Was Detected Positive\"\n",
    "    ylabel = \"Number of Patients\"\n",
    "    title = \"No. of new cases of patients whose final status was : \" + suffix\n",
    "    filename = \"AgeDist_\"+suffix+\".png\"\n",
    "    utils.plot_multiple_time_series(ag,'Age Bracket','Date','patient count',xlabel,ylabel,title,filename)\n",
    "    \n",
    "    # Gender\n",
    "    xlabel = \"Date When Patient Was Detected Positive\"\n",
    "    ylabel = \"Number of Patients\"\n",
    "    title = \"No. of new cases of patients whose final status was : \" + suffix\n",
    "    filename = \"GenderDist_\"+suffix+\".png\"\n",
    "    utils.plot_multiple_time_series(gen,'Gender','Date','patient count',xlabel,ylabel,title,filename)\n",
    "    \n",
    "    return ag,gen\n",
    "    "
   ]
  },
  {
   "cell_type": "code",
   "execution_count": null,
   "metadata": {},
   "outputs": [],
   "source": [
    "age_dist = {}\n",
    "gender_dist = {}\n",
    "\n",
    "an1, an2 = plot_age_gender(df,'_all_')\n",
    "age_dist['All'] = an1\n",
    "gender_dist['All'] = an2\n",
    "\n",
    "facility_types = ['Home Isolation','CCC2','DCHC','Hospitalized','Private Hospital','DCH']\n",
    "for fac in facility_types :\n",
    "    df_fac = df[df['Patient Location (Central)'] == fac]\n",
    "    an1, an2 = plot_age_gender(df_fac,fac)\n",
    "    age_dist[fac] = an1\n",
    "    gender_dist[fac] = an2\n",
    "    \n",
    "df_fatal = df[df['Patient Status (Central)'] == \"Dead\"]\n",
    "an1, an2 = plot_age_gender(df_fatal,'Dead')\n",
    "age_dist['Dead'] = an1\n",
    "gender_dist['Dead'] = an2"
   ]
  },
  {
   "cell_type": "code",
   "execution_count": null,
   "metadata": {},
   "outputs": [],
   "source": []
  }
 ],
 "metadata": {
  "kernelspec": {
   "display_name": "Python 3",
   "language": "python",
   "name": "python3"
  },
  "language_info": {
   "codemirror_mode": {
    "name": "ipython",
    "version": 3
   },
   "file_extension": ".py",
   "mimetype": "text/x-python",
   "name": "python",
   "nbconvert_exporter": "python",
   "pygments_lexer": "ipython3"
  }
 },
 "nbformat": 4,
 "nbformat_minor": 4
}
