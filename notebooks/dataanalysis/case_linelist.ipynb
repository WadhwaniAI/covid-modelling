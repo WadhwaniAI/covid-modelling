{
 "cells": [
  {
   "cell_type": "code",
   "execution_count": 51,
   "metadata": {},
   "outputs": [],
   "source": [
    "import pandas as pd\n",
    "import numpy as np"
   ]
  },
  {
   "cell_type": "code",
   "execution_count": 20,
   "metadata": {},
   "outputs": [],
   "source": [
    "# The data files is stored in the data directory under the root directory of this repo. \n",
    "data_dir = \"../../data/data/dataanalysis/\"\n",
    "# Name of the file being read\n",
    "case_sheet = \"bmc_cases.xlsb\"\n",
    "\n",
    "#Read the file\n",
    "data = pd.read_excel(data_dir+case_sheet,engine='pyxlsb',header=None)"
   ]
  },
  {
   "cell_type": "code",
   "execution_count": 21,
   "metadata": {},
   "outputs": [],
   "source": [
    "# Some sheets have a blank row at top and some don't. By reading without header, dropping the blank rows and assigning the top row as header back, we can fix this. \n",
    "# If there is a better solution to this, or later if this problem is resolved if we shift to S3 containers, feel free to edit. \n",
    "\n",
    "data = data.dropna(how='all')\n",
    "data.columns = data.iloc[0]\n",
    "data = data[1:]"
   ]
  },
  {
   "cell_type": "code",
   "execution_count": 22,
   "metadata": {},
   "outputs": [
    {
     "name": "stdout",
     "output_type": "stream",
     "text": [
      "0\n",
      "Date                                           100487\n",
      "S No                                            52926\n",
      "Ward                                           100487\n",
      "Test ID (ICMR)                                 100473\n",
      "Patient name                                        0\n",
      "Age                                            100487\n",
      "Gender                                         100487\n",
      "Mobile Number                                       0\n",
      "Present Address                                     0\n",
      "Transferred from Ward                            9015\n",
      "HealthPost Allocation                           74370\n",
      "Traceable?                                      98535\n",
      "Out of Mumbai (Yes / No)                        72999\n",
      "Assign to other ward                             5828\n",
      "Person / Official from other ward                   0\n",
      "Duplicate Entry\\n(Yes / No)                     66879\n",
      "Previous Test ID (only if Duplicate is Yes)      3262\n",
      "Patient Type (Index / Contact)                  70012\n",
      "Patient Status                                  98052\n",
      "Date of Last Status Change                      74617\n",
      "Symptomatic?                                    65984\n",
      "Action on Patient                               92099\n",
      "DCH / DCHC / CCC2 name                          52379\n",
      "Patient Location                                70817\n",
      "Patient is from SB (sealed building)            48073\n",
      "Patient is from CZ (containment zone)           27694\n",
      "SB / CZ ID                                      37042\n",
      "Reasons why case is outside CZ, SB               1289\n",
      "Occupation                                      26266\n",
      "Heathcare worker Type                            3354\n",
      "Comments / Remarks                              14408\n",
      "Calls check?                                      464\n",
      "Lab SRF check?                                    383\n",
      "Locality check                                    446\n",
      "Police Notification                               400\n",
      "Comments / Remarks_1                              201\n",
      "Patient Status (Central)                        83197\n",
      "Date of Last Status Change_2                    83197\n",
      "Patient Location (Central)                      83197\n",
      "Action for ward                                 83168\n",
      "Disagreement                                    14861\n",
      "dtype: int64\n"
     ]
    }
   ],
   "source": [
    "# Count all the non-na (non-empty) values in each columns\n",
    "nvals = data.notna().sum()\n",
    "print(nvals)"
   ]
  },
  {
   "cell_type": "code",
   "execution_count": 81,
   "metadata": {},
   "outputs": [],
   "source": [
    "columns_required = ['Date','Age','Gender','Patient Location (Central)','Patient Status (Central)']\n",
    "\n",
    "df = data[columns_required]"
   ]
  },
  {
   "cell_type": "code",
   "execution_count": 82,
   "metadata": {},
   "outputs": [],
   "source": [
    "def get_age_bracket(row):\n",
    "    age_low = int(row['Age']/10)*10\n",
    "    age_high = age_low+9\n",
    "    return str(age_low)+\"-\"+str(age_high)"
   ]
  },
  {
   "cell_type": "code",
   "execution_count": 83,
   "metadata": {},
   "outputs": [
    {
     "name": "stderr",
     "output_type": "stream",
     "text": [
      "/Users/ayushd/opt/anaconda3/lib/python3.7/site-packages/ipykernel_launcher.py:1: SettingWithCopyWarning: \n",
      "A value is trying to be set on a copy of a slice from a DataFrame.\n",
      "Try using .loc[row_indexer,col_indexer] = value instead\n",
      "\n",
      "See the caveats in the documentation: https://pandas.pydata.org/pandas-docs/stable/user_guide/indexing.html#returning-a-view-versus-a-copy\n",
      "  \"\"\"Entry point for launching an IPython kernel.\n"
     ]
    }
   ],
   "source": [
    "df['Age Bracket'] = df.apply(lambda x: get_age_bracket(x),axis=1)"
   ]
  },
  {
   "cell_type": "code",
   "execution_count": 84,
   "metadata": {},
   "outputs": [
    {
     "data": {
      "text/html": [
       "<div>\n",
       "<style scoped>\n",
       "    .dataframe tbody tr th:only-of-type {\n",
       "        vertical-align: middle;\n",
       "    }\n",
       "\n",
       "    .dataframe tbody tr th {\n",
       "        vertical-align: top;\n",
       "    }\n",
       "\n",
       "    .dataframe thead th {\n",
       "        text-align: right;\n",
       "    }\n",
       "</style>\n",
       "<table border=\"1\" class=\"dataframe\">\n",
       "  <thead>\n",
       "    <tr style=\"text-align: right;\">\n",
       "      <th></th>\n",
       "      <th>Date</th>\n",
       "      <th>Age</th>\n",
       "      <th>Gender</th>\n",
       "      <th>Patient Location (Central)</th>\n",
       "      <th>Patient Status (Central)</th>\n",
       "      <th>Age Bracket</th>\n",
       "    </tr>\n",
       "  </thead>\n",
       "  <tbody>\n",
       "    <tr>\n",
       "      <th>1</th>\n",
       "      <td>43921</td>\n",
       "      <td>22</td>\n",
       "      <td>F</td>\n",
       "      <td>Home Isolation</td>\n",
       "      <td>Recovered</td>\n",
       "      <td>20-29</td>\n",
       "    </tr>\n",
       "    <tr>\n",
       "      <th>2</th>\n",
       "      <td>43925</td>\n",
       "      <td>88</td>\n",
       "      <td>M</td>\n",
       "      <td>Home Isolation</td>\n",
       "      <td>Recovered</td>\n",
       "      <td>80-89</td>\n",
       "    </tr>\n",
       "    <tr>\n",
       "      <th>3</th>\n",
       "      <td>43926</td>\n",
       "      <td>22</td>\n",
       "      <td>M</td>\n",
       "      <td>Home Isolation</td>\n",
       "      <td>Recovered</td>\n",
       "      <td>20-29</td>\n",
       "    </tr>\n",
       "    <tr>\n",
       "      <th>4</th>\n",
       "      <td>43927</td>\n",
       "      <td>52</td>\n",
       "      <td>M</td>\n",
       "      <td>Hospitalized</td>\n",
       "      <td>Dead</td>\n",
       "      <td>50-59</td>\n",
       "    </tr>\n",
       "    <tr>\n",
       "      <th>5</th>\n",
       "      <td>43929</td>\n",
       "      <td>34</td>\n",
       "      <td>M</td>\n",
       "      <td>Home Isolation</td>\n",
       "      <td>Recovered</td>\n",
       "      <td>30-39</td>\n",
       "    </tr>\n",
       "    <tr>\n",
       "      <th>...</th>\n",
       "      <td>...</td>\n",
       "      <td>...</td>\n",
       "      <td>...</td>\n",
       "      <td>...</td>\n",
       "      <td>...</td>\n",
       "      <td>...</td>\n",
       "    </tr>\n",
       "    <tr>\n",
       "      <th>100483</th>\n",
       "      <td>44033</td>\n",
       "      <td>27</td>\n",
       "      <td>M</td>\n",
       "      <td>NaN</td>\n",
       "      <td>NaN</td>\n",
       "      <td>20-29</td>\n",
       "    </tr>\n",
       "    <tr>\n",
       "      <th>100484</th>\n",
       "      <td>44033</td>\n",
       "      <td>28</td>\n",
       "      <td>F</td>\n",
       "      <td>NaN</td>\n",
       "      <td>NaN</td>\n",
       "      <td>20-29</td>\n",
       "    </tr>\n",
       "    <tr>\n",
       "      <th>100485</th>\n",
       "      <td>44033</td>\n",
       "      <td>61</td>\n",
       "      <td>F</td>\n",
       "      <td>NaN</td>\n",
       "      <td>NaN</td>\n",
       "      <td>60-69</td>\n",
       "    </tr>\n",
       "    <tr>\n",
       "      <th>100486</th>\n",
       "      <td>44033</td>\n",
       "      <td>39</td>\n",
       "      <td>M</td>\n",
       "      <td>NaN</td>\n",
       "      <td>NaN</td>\n",
       "      <td>30-39</td>\n",
       "    </tr>\n",
       "    <tr>\n",
       "      <th>100487</th>\n",
       "      <td>44033</td>\n",
       "      <td>52</td>\n",
       "      <td>M</td>\n",
       "      <td>NaN</td>\n",
       "      <td>NaN</td>\n",
       "      <td>50-59</td>\n",
       "    </tr>\n",
       "  </tbody>\n",
       "</table>\n",
       "<p>100487 rows × 6 columns</p>\n",
       "</div>"
      ],
      "text/plain": [
       "0        Date Age Gender Patient Location (Central) Patient Status (Central)  \\\n",
       "1       43921  22      F             Home Isolation                Recovered   \n",
       "2       43925  88      M             Home Isolation                Recovered   \n",
       "3       43926  22      M             Home Isolation                Recovered   \n",
       "4       43927  52      M               Hospitalized                     Dead   \n",
       "5       43929  34      M             Home Isolation                Recovered   \n",
       "...       ...  ..    ...                        ...                      ...   \n",
       "100483  44033  27      M                        NaN                      NaN   \n",
       "100484  44033  28      F                        NaN                      NaN   \n",
       "100485  44033  61      F                        NaN                      NaN   \n",
       "100486  44033  39      M                        NaN                      NaN   \n",
       "100487  44033  52      M                        NaN                      NaN   \n",
       "\n",
       "0      Age Bracket  \n",
       "1            20-29  \n",
       "2            80-89  \n",
       "3            20-29  \n",
       "4            50-59  \n",
       "5            30-39  \n",
       "...            ...  \n",
       "100483       20-29  \n",
       "100484       20-29  \n",
       "100485       60-69  \n",
       "100486       30-39  \n",
       "100487       50-59  \n",
       "\n",
       "[100487 rows x 6 columns]"
      ]
     },
     "execution_count": 84,
     "metadata": {},
     "output_type": "execute_result"
    }
   ],
   "source": [
    "df"
   ]
  },
  {
   "cell_type": "code",
   "execution_count": 85,
   "metadata": {},
   "outputs": [],
   "source": [
    "def age_gender_distribution(df):\n",
    "    x1 = df.groupby(['Date','Age Bracket']).size()\n",
    "    x2 = df.groupby(['Date','Gender']).size()\n",
    "    return x1,x2"
   ]
  },
  {
   "cell_type": "code",
   "execution_count": 86,
   "metadata": {},
   "outputs": [
    {
     "data": {
      "text/plain": [
       "Home Isolation      63216\n",
       "Hospitalized         4540\n",
       "CCC2                 4025\n",
       "DCH                  3695\n",
       "DCHC                 3129\n",
       "Status Awaited       2610\n",
       "Private Hospital     1474\n",
       "Jumbo Facility        499\n",
       "DCh                     6\n",
       "Jumbo facility          3\n",
       "Name: Patient Location (Central), dtype: int64"
      ]
     },
     "execution_count": 86,
     "metadata": {},
     "output_type": "execute_result"
    }
   ],
   "source": [
    "df['Patient Location (Central)'].value_counts()"
   ]
  },
  {
   "cell_type": "code",
   "execution_count": 90,
   "metadata": {},
   "outputs": [],
   "source": [
    "age_dist = {}\n",
    "gender_dist = {}\n",
    "\n",
    "an1,an2 = age_gender_distribution(df)\n",
    "age_dist['All'] = an1\n",
    "gender_dist['All'] = an2\n",
    "\n",
    "facility_types = ['Home Isolation','CCC2','DCHC','Hospitalized','Private Hospital','DCH']\n",
    "for fac in facility_types : \n",
    "    df_fac = df[df['Patient Location (Central)'] == fac]\n",
    "    an1,an2 = age_gender_distribution(df_fac)\n",
    "    age_dist[fac] = an1\n",
    "    gender_dist[fac] = an2\n",
    "\n",
    "df_fatal = df[df['Patient Status (Central)'] == \"Dead\"]\n",
    "an1,an2 = age_gender_distribution(df_fatal)\n",
    "age_dist['Dead'] = an1\n",
    "gender_dist['Dead'] = an2"
   ]
  },
  {
   "cell_type": "code",
   "execution_count": 92,
   "metadata": {},
   "outputs": [
    {
     "data": {
      "text/plain": [
       "Date   Age Bracket\n",
       "43903  60-69          1\n",
       "43910  40-49          1\n",
       "       50-59          1\n",
       "43915  60-69          1\n",
       "43917  60-69          1\n",
       "                     ..\n",
       "44018  20-29          1\n",
       "       30-39          1\n",
       "       50-59          1\n",
       "       60-69          5\n",
       "       80-89          1\n",
       "Length: 643, dtype: int64"
      ]
     },
     "execution_count": 92,
     "metadata": {},
     "output_type": "execute_result"
    }
   ],
   "source": [
    "age_dist['Dead']"
   ]
  },
  {
   "cell_type": "code",
   "execution_count": null,
   "metadata": {},
   "outputs": [],
   "source": []
  }
 ],
 "metadata": {
  "kernelspec": {
   "display_name": "Python 3",
   "language": "python",
   "name": "python3"
  },
  "language_info": {
   "codemirror_mode": {
    "name": "ipython",
    "version": 3
   },
   "file_extension": ".py",
   "mimetype": "text/x-python",
   "name": "python",
   "nbconvert_exporter": "python",
   "pygments_lexer": "ipython3",
   "version": "3.7.6"
  }
 },
 "nbformat": 4,
 "nbformat_minor": 4
}
