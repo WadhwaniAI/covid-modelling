{
 "cells": [
  {
   "cell_type": "code",
   "execution_count": 13,
   "metadata": {},
   "outputs": [],
   "source": [
    "import pandas as pd"
   ]
  },
  {
   "cell_type": "code",
   "execution_count": 14,
   "metadata": {},
   "outputs": [],
   "source": [
    "# The data files is stored in the data directory under the root directory of this repo. \n",
    "data_dir = \"../../data/data/dataanalysis/\"\n",
    "# Name of the file being read\n",
    "case_sheet = \"bmc_cases.xlsb\"\n",
    "\n",
    "#Read the file\n",
    "data = pd.read_excel(data_dir+case_sheet,engine='pyxlsb',header=None)"
   ]
  },
  {
   "cell_type": "code",
   "execution_count": 18,
   "metadata": {},
   "outputs": [],
   "source": [
    "# Some sheets have a blank row at top and some don't. By reading without header, dropping the blank rows and assigning the top row as header back, we can fix this. \n",
    "# If there is a better solution to this, or later if this problem is resolved if we shift to S3 containers, feel free to edit. \n",
    "\n",
    "data = data.dropna(how='all')\n",
    "data.columns = data.iloc[0]\n",
    "data = data[1:]"
   ]
  },
  {
   "cell_type": "code",
   "execution_count": 21,
   "metadata": {},
   "outputs": [
    {
     "name": "stdout",
     "output_type": "stream",
     "text": [
      "0\n",
      "Date                                           100487\n",
      "S No                                            52926\n",
      "Ward                                           100487\n",
      "Test ID (ICMR)                                 100473\n",
      "Patient name                                        0\n",
      "Age                                            100487\n",
      "Gender                                         100487\n",
      "Mobile Number                                       0\n",
      "Present Address                                     0\n",
      "Transferred from Ward                            9015\n",
      "HealthPost Allocation                           74370\n",
      "Traceable?                                      98535\n",
      "Out of Mumbai (Yes / No)                        72999\n",
      "Assign to other ward                             5828\n",
      "Person / Official from other ward                   0\n",
      "Duplicate Entry\\n(Yes / No)                     66879\n",
      "Previous Test ID (only if Duplicate is Yes)      3262\n",
      "Patient Type (Index / Contact)                  70012\n",
      "Patient Status                                  98052\n",
      "Date of Last Status Change                      74617\n",
      "Symptomatic?                                    65984\n",
      "Action on Patient                               92099\n",
      "DCH / DCHC / CCC2 name                          52379\n",
      "Patient Location                                70817\n",
      "Patient is from SB (sealed building)            48073\n",
      "Patient is from CZ (containment zone)           27694\n",
      "SB / CZ ID                                      37042\n",
      "Reasons why case is outside CZ, SB               1289\n",
      "Occupation                                      26266\n",
      "Heathcare worker Type                            3354\n",
      "Comments / Remarks                              14408\n",
      "Calls check?                                      464\n",
      "Lab SRF check?                                    383\n",
      "Locality check                                    446\n",
      "Police Notification                               400\n",
      "Comments / Remarks_1                              201\n",
      "Patient Status (Central)                        83197\n",
      "Date of Last Status Change_2                    83197\n",
      "Patient Location (Central)                      83197\n",
      "Action for ward                                 83168\n",
      "Disagreement                                    14861\n",
      "dtype: int64\n"
     ]
    }
   ],
   "source": [
    "# Count all the non-na (non-empty) values in each columns\n",
    "nvals = data.notna().sum()\n",
    "print(nvals)"
   ]
  },
  {
   "cell_type": "code",
   "execution_count": null,
   "metadata": {},
   "outputs": [],
   "source": []
  }
 ],
 "metadata": {
  "kernelspec": {
   "display_name": "Python 3",
   "language": "python",
   "name": "python3"
  },
  "language_info": {
   "codemirror_mode": {
    "name": "ipython",
    "version": 3
   },
   "file_extension": ".py",
   "mimetype": "text/x-python",
   "name": "python",
   "nbconvert_exporter": "python",
   "pygments_lexer": "ipython3",
   "version": "3.7.6"
  }
 },
 "nbformat": 4,
 "nbformat_minor": 4
}
