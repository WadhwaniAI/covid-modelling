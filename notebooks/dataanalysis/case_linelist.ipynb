{
 "cells": [
  {
   "cell_type": "code",
   "execution_count": 266,
   "metadata": {},
   "outputs": [],
   "source": [
    "import pandas as pd\n",
    "import numpy as np\n",
    "import matplotlib.pyplot as plt\n",
    "from pyxlsb import convert_date"
   ]
  },
  {
   "cell_type": "code",
   "execution_count": 267,
   "metadata": {},
   "outputs": [],
   "source": [
    "# The data files is stored in the data directory under the root directory of this repo. \n",
    "data_dir = \"../../data/data/dataanalysis/\"\n",
    "output_dir = \"Plots/\"\n",
    "# Name of the file being read\n",
    "case_sheet = \"bmc_cases.xlsb\"\n",
    "\n",
    "#Read the file\n",
    "data = pd.read_excel(data_dir+case_sheet,engine='pyxlsb',header=None)"
   ]
  },
  {
   "cell_type": "code",
   "execution_count": 268,
   "metadata": {},
   "outputs": [],
   "source": [
    "# Some sheets have a blank row at top and some don't. By reading without header, dropping the blank rows and assigning the top row as header back, we can fix this. \n",
    "# If there is a better solution to this, or later if this problem is resolved if we shift to S3 containers, feel free to edit. \n",
    "\n",
    "data = data.dropna(how='all')\n",
    "data.columns = data.iloc[0]\n",
    "data = data[1:]"
   ]
  },
  {
   "cell_type": "code",
   "execution_count": 269,
   "metadata": {},
   "outputs": [
    {
     "name": "stdout",
     "output_type": "stream",
     "text": [
      "0\n",
      "Date                                           100487\n",
      "S No                                            52926\n",
      "Ward                                           100487\n",
      "Test ID (ICMR)                                 100473\n",
      "Patient name                                        0\n",
      "Age                                            100487\n",
      "Gender                                         100487\n",
      "Mobile Number                                       0\n",
      "Present Address                                     0\n",
      "Transferred from Ward                            9015\n",
      "HealthPost Allocation                           74370\n",
      "Traceable?                                      98535\n",
      "Out of Mumbai (Yes / No)                        72999\n",
      "Assign to other ward                             5828\n",
      "Person / Official from other ward                   0\n",
      "Duplicate Entry\\n(Yes / No)                     66879\n",
      "Previous Test ID (only if Duplicate is Yes)      3262\n",
      "Patient Type (Index / Contact)                  70012\n",
      "Patient Status                                  98052\n",
      "Date of Last Status Change                      74617\n",
      "Symptomatic?                                    65984\n",
      "Action on Patient                               92099\n",
      "DCH / DCHC / CCC2 name                          52379\n",
      "Patient Location                                70817\n",
      "Patient is from SB (sealed building)            48073\n",
      "Patient is from CZ (containment zone)           27694\n",
      "SB / CZ ID                                      37042\n",
      "Reasons why case is outside CZ, SB               1289\n",
      "Occupation                                      26266\n",
      "Heathcare worker Type                            3354\n",
      "Comments / Remarks                              14408\n",
      "Calls check?                                      464\n",
      "Lab SRF check?                                    383\n",
      "Locality check                                    446\n",
      "Police Notification                               400\n",
      "Comments / Remarks_1                              201\n",
      "Patient Status (Central)                        83197\n",
      "Date of Last Status Change_2                    83197\n",
      "Patient Location (Central)                      83197\n",
      "Action for ward                                 83168\n",
      "Disagreement                                    14861\n",
      "dtype: int64\n"
     ]
    }
   ],
   "source": [
    "# Count all the non-na (non-empty) values in each columns\n",
    "nvals = data.notna().sum()\n",
    "print(nvals)"
   ]
  },
  {
   "cell_type": "code",
   "execution_count": 270,
   "metadata": {},
   "outputs": [],
   "source": [
    "# Returns the age bracket given the age of the individual. Currently, divided into buckets of 10 years\n",
    "def get_age_bracket(row):\n",
    "    age_low = int(row['Age']/10)*10\n",
    "    age_high = age_low+9\n",
    "    return str(age_low)+\"-\"+str(age_high)"
   ]
  },
  {
   "cell_type": "code",
   "execution_count": 271,
   "metadata": {},
   "outputs": [],
   "source": [
    "# Returns the age and gender distribution (time - series) for the input dataframe,df.\n",
    "def age_gender_distribution(df):\n",
    "    x1 = df.groupby(['Date','Age Bracket']).agg('size').reset_index().rename(columns={0:'patient count'})\n",
    "    x2 = df.groupby(['Date','Gender']).agg('size').reset_index().rename(columns={0:'patient count'})\n",
    "    return x1,x2"
   ]
  },
  {
   "cell_type": "code",
   "execution_count": 272,
   "metadata": {},
   "outputs": [],
   "source": [
    "def plot_age(df,filename):\n",
    "    age_brackets = df['Age Bracket'].unique()\n",
    "    age_brackets.sort()\n",
    "    fig = plt.figure(figsize=(20,20))\n",
    "    for agbr in age_brackets:\n",
    "        time_series = df[df['Age Bracket']==agbr]\n",
    "        plt.plot(time_series['Date'],time_series['patient count'],label=agbr)\n",
    "    fig.autofmt_xdate()\n",
    "    plt.ylabel('Number of Patients')\n",
    "    plt.xlabel('Date')\n",
    "    plt.title(\"Time series of number of positive cases by age\")\n",
    "    plt.savefig(output_dir+filename+\"_ageDist.png\")\n",
    "    plt.show()"
   ]
  },
  {
   "cell_type": "code",
   "execution_count": 273,
   "metadata": {},
   "outputs": [],
   "source": [
    "def plot_gender(df,filename):\n",
    "    gender_types = df['Gender'].unique()\n",
    "    gender_types.sort()\n",
    "    fig = plt.figure(figsize=(20,20))\n",
    "    for gender in gender_types:\n",
    "        time_series = df[df['Gender']==gender]\n",
    "        plt.plot(time_series['Date'],time_series['patient count'],label=gender)\n",
    "    fig.autofmt_xdate()\n",
    "    plt.ylabel('Number of Patients')\n",
    "    plt.xlabel('Date')\n",
    "    plt.title(\"Time series of number of positive cases by gender\")\n",
    "    plt.savefig(output_dir+filename+\"_genderDist.png\")\n",
    "    plt.show()"
   ]
  },
  {
   "cell_type": "code",
   "execution_count": 274,
   "metadata": {},
   "outputs": [
    {
     "name": "stderr",
     "output_type": "stream",
     "text": [
      "/Users/ayushd/opt/anaconda3/lib/python3.7/site-packages/ipykernel_launcher.py:4: SettingWithCopyWarning: \n",
      "A value is trying to be set on a copy of a slice from a DataFrame.\n",
      "Try using .loc[row_indexer,col_indexer] = value instead\n",
      "\n",
      "See the caveats in the documentation: https://pandas.pydata.org/pandas-docs/stable/user_guide/indexing.html#returning-a-view-versus-a-copy\n",
      "  after removing the cwd from sys.path.\n",
      "/Users/ayushd/opt/anaconda3/lib/python3.7/site-packages/ipykernel_launcher.py:5: SettingWithCopyWarning: \n",
      "A value is trying to be set on a copy of a slice from a DataFrame.\n",
      "Try using .loc[row_indexer,col_indexer] = value instead\n",
      "\n",
      "See the caveats in the documentation: https://pandas.pydata.org/pandas-docs/stable/user_guide/indexing.html#returning-a-view-versus-a-copy\n",
      "  \"\"\"\n"
     ]
    }
   ],
   "source": [
    "# Columns Required for this analysis. Filtering for easy visualizations\n",
    "columns_required = ['Date','Age','Gender','Patient Location (Central)','Patient Status (Central)']\n",
    "df = data[columns_required]\n",
    "df['Age Bracket'] = df.apply(lambda x: get_age_bracket(x),axis=1)\n",
    "df['Date'] = df.apply(lambda x: convert_date(x['Date']),axis=1)"
   ]
  },
  {
   "cell_type": "code",
   "execution_count": null,
   "metadata": {},
   "outputs": [],
   "source": [
    "age_dist = {}\n",
    "gender_dist = {}\n",
    "\n",
    "an1,an2 = age_gender_distribution(df)\n",
    "age_dist['All'] = an1\n",
    "gender_dist['All'] = an2\n",
    "plot_age(an1,'All')\n",
    "plot_gender(an2,'All')\n",
    "\n",
    "facility_types = ['Home Isolation','CCC2','DCHC','Hospitalized','Private Hospital','DCH']\n",
    "for fac in facility_types :\n",
    "    df_fac = df[df['Patient Location (Central)'] == fac]\n",
    "    an1,an2 = age_gender_distribution(df_fac)\n",
    "    age_dist[fac] = an1\n",
    "    gender_dist[fac] = an2\n",
    "    plot_age(an1,fac)\n",
    "    plot_gender(an2,fac)\n",
    "\n",
    "df_fatal = df[df['Patient Status (Central)'] == \"Dead\"]\n",
    "an1,an2 = age_gender_distribution(df_fatal)\n",
    "age_dist['Dead'] = an1\n",
    "gender_dist['Dead'] = an2\n",
    "plot_age(an1,'Dead')\n",
    "plot_gender(an2,'Dead')"
   ]
  },
  {
   "cell_type": "code",
   "execution_count": null,
   "metadata": {},
   "outputs": [],
   "source": []
  }
 ],
 "metadata": {
  "kernelspec": {
   "display_name": "Python 3",
   "language": "python",
   "name": "python3"
  },
  "language_info": {
   "codemirror_mode": {
    "name": "ipython",
    "version": 3
   },
   "file_extension": ".py",
   "mimetype": "text/x-python",
   "name": "python",
   "nbconvert_exporter": "python",
   "pygments_lexer": "ipython3",
   "version": "3.7.6"
  }
 },
 "nbformat": 4,
 "nbformat_minor": 4
}
