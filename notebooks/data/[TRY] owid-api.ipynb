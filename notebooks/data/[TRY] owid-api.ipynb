{
 "cells": [
  {
   "cell_type": "code",
   "execution_count": null,
   "metadata": {},
   "outputs": [],
   "source": [
    "%load_ext autoreload\n",
    "%autoreload 2"
   ]
  },
  {
   "cell_type": "code",
   "execution_count": null,
   "metadata": {},
   "outputs": [],
   "source": [
    "import pandas as pd\n",
    "import matplotlib.pyplot as plt\n",
    "\n",
    "from data.dataloader import Covid19IndiaLoader, JHULoader"
   ]
  },
  {
   "cell_type": "code",
   "execution_count": null,
   "metadata": {},
   "outputs": [],
   "source": [
    "df_vaccine = pd.read_csv('https://raw.githubusercontent.com/owid/covid-19-data/master/public/data/vaccinations/vaccinations.csv')\n",
    "df_vaccine['date'] = pd.to_datetime(df_vaccine['date'])"
   ]
  },
  {
   "cell_type": "code",
   "execution_count": null,
   "metadata": {},
   "outputs": [],
   "source": [
    "obj = JHULoader()\n",
    "dataframes = obj.pull_dataframes_cached()"
   ]
  },
  {
   "cell_type": "code",
   "execution_count": null,
   "metadata": {},
   "outputs": [],
   "source": [
    "df_cases = dataframes['df_global']\n",
    "df_cases.rename({\n",
    "    'ConfirmedCases': 'total',\n",
    "    'ActiveCases': 'active',\n",
    "    'RecoveredCases': 'recovered',\n",
    "    'Deaths': 'deceased',\n",
    "    'Date': 'date'\n",
    "}, inplace=True, axis=1)"
   ]
  },
  {
   "cell_type": "code",
   "execution_count": null,
   "metadata": {},
   "outputs": [],
   "source": [
    "COUNTRY = 'Russia'\n",
    "\n",
    "df_vaccine_region = df_vaccine[df_vaccine['location'] == COUNTRY]\n",
    "df_cases_region = df_cases[(df_cases['Country/Region'] == COUNTRY) & (df_cases['Province/State'].isna())]\n",
    "df_cases_region.loc[:, 'daily'] = df_cases_region.loc[:, 'total'].diff()\n",
    "df_cases_region_trunc = df_cases_region[df_cases_region['date'].isin(df_vaccine_region['date'])]"
   ]
  },
  {
   "cell_type": "code",
   "execution_count": null,
   "metadata": {},
   "outputs": [],
   "source": [
    "fig, ax = plt.subplots(figsize=(12, 8))\n",
    "\n",
    "ax.plot(df_vaccine_region['date'], df_vaccine_region['people_vaccinated_per_hundred'], label='Pop(%) w at least 1 dose')\n",
    "ax.plot(df_vaccine_region['date'], df_vaccine_region['people_fully_vaccinated_per_hundred'], c='C2', label='Pop(%) w 2 doses')\n",
    "\n",
    "ax_twin = ax.twinx()\n",
    "df_cases_region_trunc\n",
    "# ax_twin.plot(df_vaccine_region['date'], df_cases_region_trunc['daily'], ls='--', label='Daily cases', c='red')\n",
    "ax_twin.plot(df_vaccine_region['date'], df_cases_region_trunc['daily'].rolling(7).mean(), label='Daily cases', c='red')\n",
    "ax.legend()\n",
    "ax_twin.legend()\n",
    "# ax.grid()"
   ]
  },
  {
   "cell_type": "code",
   "execution_count": null,
   "metadata": {},
   "outputs": [],
   "source": []
  }
 ],
 "metadata": {
  "kernelspec": {
   "display_name": "Python (covid)",
   "language": "python",
   "name": "covid"
  },
  "language_info": {
   "codemirror_mode": {
    "name": "ipython",
    "version": 3
   },
   "file_extension": ".py",
   "mimetype": "text/x-python",
   "name": "python",
   "nbconvert_exporter": "python",
   "pygments_lexer": "ipython3"
  }
 },
 "nbformat": 4,
 "nbformat_minor": 4
}
