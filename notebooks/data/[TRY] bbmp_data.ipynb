{
 "cells": [
  {
   "cell_type": "code",
   "execution_count": 5,
   "metadata": {},
   "outputs": [
    {
     "name": "stdout",
     "output_type": "stream",
     "text": [
      "The autoreload extension is already loaded. To reload it, use:\n",
      "  %reload_ext autoreload\n"
     ]
    }
   ],
   "source": [
    "%load_ext autoreload\n",
    "%autoreload 2"
   ]
  },
  {
   "cell_type": "code",
   "execution_count": 6,
   "metadata": {},
   "outputs": [],
   "source": [
    "import numpy as np\n",
    "import pandas as pd\n",
    "import matplotlib.pyplot as plt\n",
    "import matplotlib.dates as mdates\n",
    "import seaborn as sns\n",
    "from hyperopt import hp, tpe, fmin, Trials\n",
    "from tqdm import tqdm\n",
    "# from tqdm.notebook import tqdm\n",
    "\n",
    "from collections import OrderedDict\n",
    "import itertools\n",
    "from functools import partial\n",
    "import datetime\n",
    "from joblib import Parallel, delayed\n",
    "\n",
    "from models.seir.seir_testing import SEIR_Testing\n",
    "from data.dataloader import get_global_data, get_indian_data\n",
    "from data.bbmp_dataloader import loadbbmpdata\n",
    "from utils.plotting import create_plots\n",
    "from utils.generic import init_params"
   ]
  },
  {
   "cell_type": "markdown",
   "metadata": {},
   "source": [
    "## Load BBMP Data"
   ]
  },
  {
   "cell_type": "code",
   "execution_count": 75,
   "metadata": {},
   "outputs": [],
   "source": [
    "df, df_agg = loadbbmpdata('bbmp-raw.csv')\n",
    "df_agg = df_agg.iloc[9:-3, :]\n",
    "df_agg.reset_index(drop=True, inplace=True)"
   ]
  },
  {
   "cell_type": "code",
   "execution_count": 8,
   "metadata": {},
   "outputs": [],
   "source": [
    "filename = 'bbmp-linelist-13-04-20.csv'\n",
    "\n",
    "df = pd.read_csv('../../data/data/{}'.format(filename))\n",
    "\n",
    "df.columns = [x if x != 'Result declared on' else 'Result Declaration Date' for x in df.columns]\n",
    "df.columns = [x.title() for x in df.columns]\n",
    "\n",
    "# Replace all non entries with 01.01.2000\n",
    "date_columns = [x for x in df.columns if 'Date' in x]\n",
    "for column in date_columns:\n",
    "    # Replace with 01.01.2000\n",
    "    df.loc[df[column].isna(), column] = '01.01.2000'\n",
    "    df.loc[df[column] == '-', column] = '01.01.2000'"
   ]
  },
  {
   "cell_type": "code",
   "execution_count": 12,
   "metadata": {},
   "outputs": [
    {
     "data": {
      "text/plain": [
       "0     9835777220\n",
       "1     9835777220\n",
       "2     9835777220\n",
       "3     9980344775\n",
       "4     8009998222\n",
       "         ...    \n",
       "70    9886169179\n",
       "71    9975510214\n",
       "72    7483865658\n",
       "73    9741912832\n",
       "74    9902260000\n",
       "Name: Mobile, Length: 75, dtype: object"
      ]
     },
     "execution_count": 12,
     "metadata": {},
     "output_type": "execute_result"
    }
   ],
   "source": [
    "df"
   ]
  },
  {
   "cell_type": "code",
   "execution_count": 7,
   "metadata": {},
   "outputs": [
    {
     "ename": "AttributeError",
     "evalue": "'str' object has no attribute 'year'",
     "output_type": "error",
     "traceback": [
      "\u001b[0;31m---------------------------------------------------------------------------\u001b[0m",
      "\u001b[0;31mAttributeError\u001b[0m                            Traceback (most recent call last)",
      "\u001b[0;32m<ipython-input-7-588cad5fd39e>\u001b[0m in \u001b[0;36m<module>\u001b[0;34m\u001b[0m\n\u001b[1;32m     27\u001b[0m \u001b[0mdate_columns\u001b[0m \u001b[0;34m=\u001b[0m \u001b[0;34m[\u001b[0m\u001b[0mx\u001b[0m \u001b[0;32mfor\u001b[0m \u001b[0mx\u001b[0m \u001b[0;32min\u001b[0m \u001b[0mdf\u001b[0m\u001b[0;34m.\u001b[0m\u001b[0mcolumns\u001b[0m \u001b[0;32mif\u001b[0m \u001b[0;34m'Date'\u001b[0m \u001b[0;32min\u001b[0m \u001b[0mx\u001b[0m\u001b[0;34m]\u001b[0m\u001b[0;34m\u001b[0m\u001b[0;34m\u001b[0m\u001b[0m\n\u001b[1;32m     28\u001b[0m \u001b[0;32mfor\u001b[0m \u001b[0mcolumn\u001b[0m \u001b[0;32min\u001b[0m \u001b[0mdate_columns\u001b[0m\u001b[0;34m:\u001b[0m\u001b[0;34m\u001b[0m\u001b[0;34m\u001b[0m\u001b[0m\n\u001b[0;32m---> 29\u001b[0;31m     \u001b[0mdf\u001b[0m\u001b[0;34m.\u001b[0m\u001b[0mloc\u001b[0m\u001b[0;34m[\u001b[0m\u001b[0mdf\u001b[0m\u001b[0;34m[\u001b[0m\u001b[0mcolumn\u001b[0m\u001b[0;34m]\u001b[0m\u001b[0;34m.\u001b[0m\u001b[0mapply\u001b[0m\u001b[0;34m(\u001b[0m\u001b[0;32mlambda\u001b[0m \u001b[0mx\u001b[0m \u001b[0;34m:\u001b[0m \u001b[0mx\u001b[0m\u001b[0;34m.\u001b[0m\u001b[0myear\u001b[0m\u001b[0;34m)\u001b[0m \u001b[0;34m==\u001b[0m \u001b[0;36m2000\u001b[0m\u001b[0;34m,\u001b[0m \u001b[0mcolumn\u001b[0m\u001b[0;34m]\u001b[0m \u001b[0;34m=\u001b[0m \u001b[0mnp\u001b[0m\u001b[0;34m.\u001b[0m\u001b[0mnan\u001b[0m\u001b[0;34m\u001b[0m\u001b[0;34m\u001b[0m\u001b[0m\n\u001b[0m\u001b[1;32m     30\u001b[0m \u001b[0;34m\u001b[0m\u001b[0m\n\u001b[1;32m     31\u001b[0m \u001b[0;34m\u001b[0m\u001b[0m\n",
      "\u001b[0;32m~/anaconda3/envs/covid/lib/python3.8/site-packages/pandas/core/series.py\u001b[0m in \u001b[0;36mapply\u001b[0;34m(self, func, convert_dtype, args, **kwds)\u001b[0m\n\u001b[1;32m   3846\u001b[0m             \u001b[0;32melse\u001b[0m\u001b[0;34m:\u001b[0m\u001b[0;34m\u001b[0m\u001b[0;34m\u001b[0m\u001b[0m\n\u001b[1;32m   3847\u001b[0m                 \u001b[0mvalues\u001b[0m \u001b[0;34m=\u001b[0m \u001b[0mself\u001b[0m\u001b[0;34m.\u001b[0m\u001b[0mastype\u001b[0m\u001b[0;34m(\u001b[0m\u001b[0mobject\u001b[0m\u001b[0;34m)\u001b[0m\u001b[0;34m.\u001b[0m\u001b[0mvalues\u001b[0m\u001b[0;34m\u001b[0m\u001b[0;34m\u001b[0m\u001b[0m\n\u001b[0;32m-> 3848\u001b[0;31m                 \u001b[0mmapped\u001b[0m \u001b[0;34m=\u001b[0m \u001b[0mlib\u001b[0m\u001b[0;34m.\u001b[0m\u001b[0mmap_infer\u001b[0m\u001b[0;34m(\u001b[0m\u001b[0mvalues\u001b[0m\u001b[0;34m,\u001b[0m \u001b[0mf\u001b[0m\u001b[0;34m,\u001b[0m \u001b[0mconvert\u001b[0m\u001b[0;34m=\u001b[0m\u001b[0mconvert_dtype\u001b[0m\u001b[0;34m)\u001b[0m\u001b[0;34m\u001b[0m\u001b[0;34m\u001b[0m\u001b[0m\n\u001b[0m\u001b[1;32m   3849\u001b[0m \u001b[0;34m\u001b[0m\u001b[0m\n\u001b[1;32m   3850\u001b[0m         \u001b[0;32mif\u001b[0m \u001b[0mlen\u001b[0m\u001b[0;34m(\u001b[0m\u001b[0mmapped\u001b[0m\u001b[0;34m)\u001b[0m \u001b[0;32mand\u001b[0m \u001b[0misinstance\u001b[0m\u001b[0;34m(\u001b[0m\u001b[0mmapped\u001b[0m\u001b[0;34m[\u001b[0m\u001b[0;36m0\u001b[0m\u001b[0;34m]\u001b[0m\u001b[0;34m,\u001b[0m \u001b[0mSeries\u001b[0m\u001b[0;34m)\u001b[0m\u001b[0;34m:\u001b[0m\u001b[0;34m\u001b[0m\u001b[0;34m\u001b[0m\u001b[0m\n",
      "\u001b[0;32mpandas/_libs/lib.pyx\u001b[0m in \u001b[0;36mpandas._libs.lib.map_infer\u001b[0;34m()\u001b[0m\n",
      "\u001b[0;32m<ipython-input-7-588cad5fd39e>\u001b[0m in \u001b[0;36m<lambda>\u001b[0;34m(x)\u001b[0m\n\u001b[1;32m     27\u001b[0m \u001b[0mdate_columns\u001b[0m \u001b[0;34m=\u001b[0m \u001b[0;34m[\u001b[0m\u001b[0mx\u001b[0m \u001b[0;32mfor\u001b[0m \u001b[0mx\u001b[0m \u001b[0;32min\u001b[0m \u001b[0mdf\u001b[0m\u001b[0;34m.\u001b[0m\u001b[0mcolumns\u001b[0m \u001b[0;32mif\u001b[0m \u001b[0;34m'Date'\u001b[0m \u001b[0;32min\u001b[0m \u001b[0mx\u001b[0m\u001b[0;34m]\u001b[0m\u001b[0;34m\u001b[0m\u001b[0;34m\u001b[0m\u001b[0m\n\u001b[1;32m     28\u001b[0m \u001b[0;32mfor\u001b[0m \u001b[0mcolumn\u001b[0m \u001b[0;32min\u001b[0m \u001b[0mdate_columns\u001b[0m\u001b[0;34m:\u001b[0m\u001b[0;34m\u001b[0m\u001b[0;34m\u001b[0m\u001b[0m\n\u001b[0;32m---> 29\u001b[0;31m     \u001b[0mdf\u001b[0m\u001b[0;34m.\u001b[0m\u001b[0mloc\u001b[0m\u001b[0;34m[\u001b[0m\u001b[0mdf\u001b[0m\u001b[0;34m[\u001b[0m\u001b[0mcolumn\u001b[0m\u001b[0;34m]\u001b[0m\u001b[0;34m.\u001b[0m\u001b[0mapply\u001b[0m\u001b[0;34m(\u001b[0m\u001b[0;32mlambda\u001b[0m \u001b[0mx\u001b[0m \u001b[0;34m:\u001b[0m \u001b[0mx\u001b[0m\u001b[0;34m.\u001b[0m\u001b[0myear\u001b[0m\u001b[0;34m)\u001b[0m \u001b[0;34m==\u001b[0m \u001b[0;36m2000\u001b[0m\u001b[0;34m,\u001b[0m \u001b[0mcolumn\u001b[0m\u001b[0;34m]\u001b[0m \u001b[0;34m=\u001b[0m \u001b[0mnp\u001b[0m\u001b[0;34m.\u001b[0m\u001b[0mnan\u001b[0m\u001b[0;34m\u001b[0m\u001b[0;34m\u001b[0m\u001b[0m\n\u001b[0m\u001b[1;32m     30\u001b[0m \u001b[0;34m\u001b[0m\u001b[0m\n\u001b[1;32m     31\u001b[0m \u001b[0;34m\u001b[0m\u001b[0m\n",
      "\u001b[0;31mAttributeError\u001b[0m: 'str' object has no attribute 'year'"
     ]
    }
   ],
   "source": [
    "    \n",
    "    \n",
    "# Convert to pd.datetime\n",
    "date_columns = [x for x in df.columns if 'Date' in x]\n",
    "for column in date_columns:\n",
    "    if column != 'Release Date':\n",
    "        df[column] = df[column].apply(lambda x : x.strip())\n",
    "        df.loc[:, column] = pd.to_datetime(df.loc[:, column], format='%d.%m.%Y', errors='ignore')\n",
    "    else:\n",
    "        df.loc[:, column] = pd.to_datetime(df.loc[:, column], errors='ignore')\n",
    "        df.loc[:, column] = pd.to_datetime(df.loc[:, column], format='%m.%d.%Y', errors='ignore')\n",
    "\n",
    "\n",
    "# Convert all 01/01/2000 to NaN\n",
    "date_columns = [x for x in df.columns if 'Date' in x]\n",
    "for column in date_columns:\n",
    "    df.loc[df[column].apply(lambda x : x.year) == 2000, column] = np.nan\n",
    "\n",
    "\n",
    "# Create ICU and Ventilator variable\n",
    "df['On ICU'] = df['Current Status'].apply(lambda x : (not pd.isna(x)) and ('icu' in x.lower() or 'ventilator' in x.lower()) )\n",
    "df['On Ventilator'] = df['Current Status'].apply(lambda x : (not pd.isna(x)) and ('ventilator' in x.lower()) )\n",
    "\n",
    "# Create Exposed, Infectious, Hospitalisation Time variables\n",
    "df['Exposed Time'] = np.maximum((df['Date Of Onset Of Symptoms'] - df['Date Of Travel']).astype('timedelta64[D]'), 0)\n",
    "df['Infectious Time'] = np.maximum((df['Date Of Hospitalization'] - df['Date Of Onset Of Symptoms']).astype('timedelta64[D]'), 0)\n",
    "df['Hospitalisation Time'] = np.maximum((df['Release Date'] - df['Result Declaration Date']).astype('timedelta64[D]'), 0)\n",
    "\n",
    "# Fill in missing values\n",
    "\n",
    "for i, row in df.iterrows():\n",
    "    if pd.isna(row['Date Of Hospitalization']):\n",
    "        if not pd.isna(row['Date Of Onset Of Symptoms']):\n",
    "            df.loc[i , 'Date Of Hospitalization'] = row['Date Of Onset Of Symptoms'] + datetime.timedelta(days=3)\n",
    "        else:\n",
    "            df.loc[i , 'Date Of Hospitalization'] = df.loc[i-1 , 'Date Of Hospitalization']\n",
    "\n",
    "    if pd.isna(row['Date Of Onset Of Symptoms']):   \n",
    "        df.loc[i , 'Date Of Onset Of Symptoms'] = df.loc[i , 'Date Of Hospitalization'] - datetime.timedelta(days=3)\n",
    "\n",
    "    if pd.isna(row['Date Of Sample Collection']):\n",
    "        df.loc[i , 'Date Of Sample Collection'] = df.loc[i , 'Date Of Hospitalization']\n",
    "\n",
    "    if pd.isna(row['Result Declaration Date']):\n",
    "        df.loc[i , 'Result Declaration Date'] = df.loc[i , 'Date Of Hospitalization'] + datetime.timedelta(days=1)\n",
    "\n",
    "# Create processed dataframe from bbmp data\n",
    "min_values = []\n",
    "for column in date_columns:\n",
    "    min_values.append(np.min(df[column]))\n",
    "\n",
    "start_date = np.nanmin(np.array(min_values))\n",
    "\n",
    "daterange = pd.date_range(start=start_date, end=datetime.datetime.today().date())\n",
    "daterange\n",
    "\n",
    "df_agg = pd.DataFrame(index=daterange, columns=['Active Infections (Unknown)', 'Hospitalised', 'On ICU', 'On Ventilator', 'Fatalities', 'Total Infected', 'Recovered'])\n",
    "df_agg.loc[:, :] = 0\n",
    "df_agg.head()\n",
    "\n",
    "for i, row in df.iterrows():\n",
    "\n",
    "    df_agg.loc[row['Date Of Onset Of Symptoms']:row['Date Of Hospitalization'], 'Active Infections (Unknown)'] += 1\n",
    "\n",
    "    if not pd.isna(row['Release Date']):\n",
    "        df_agg.loc[row['Date Of Hospitalization']:row['Release Date'], 'Hospitalised'] += 1\n",
    "        if row['On ICU']:\n",
    "            df_agg.loc[row['Date Of Hospitalization']:row['Release Date'], 'On ICU'] += 1\n",
    "        if row['On Ventilator']:\n",
    "            df_agg.loc[row['Date Of Hospitalization']:row['Release Date'], 'On Ventilator'] += 1\n",
    "\n",
    "    else:\n",
    "        df_agg.loc[row['Date Of Hospitalization']:, 'Hospitalised'] += 1\n",
    "        if row['On ICU']:\n",
    "            df_agg.loc[row['Date Of Hospitalization']:, 'On ICU'] += 1\n",
    "        if row['On Ventilator']:\n",
    "            df_agg.loc[row['Date Of Hospitalization']:, 'On Ventilator'] += 1\n",
    "\n",
    "    df_agg.loc[row['Date Of Hospitalization']:, 'Total Infected'] += 1\n",
    "\n",
    "    if not pd.isna(row['Release Date']):\n",
    "        df_agg.loc[row['Release Date']:, 'Recovered'] += 1\n",
    "\n",
    "df_agg.reset_index(inplace=True) \n",
    "df_agg.columns = [x if x != 'index' else 'Date' for x in df_agg.columns]\n",
    "\n",
    "df_agg.to_csv('../../data/data/bbmp-processed.csv')"
   ]
  },
  {
   "cell_type": "code",
   "execution_count": null,
   "metadata": {},
   "outputs": [],
   "source": []
  }
 ],
 "metadata": {
  "kernelspec": {
   "display_name": "Python (covid)",
   "language": "python",
   "name": "covid"
  },
  "language_info": {
   "codemirror_mode": {
    "name": "ipython",
    "version": 3
   },
   "file_extension": ".py",
   "mimetype": "text/x-python",
   "name": "python",
   "nbconvert_exporter": "python",
   "pygments_lexer": "ipython3",
   "version": "3.8.2"
  }
 },
 "nbformat": 4,
 "nbformat_minor": 4
}
