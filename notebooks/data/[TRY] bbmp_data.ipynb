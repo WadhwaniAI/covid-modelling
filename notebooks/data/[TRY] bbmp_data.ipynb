{
 "cells": [
  {
   "cell_type": "code",
   "execution_count": null,
   "metadata": {},
   "outputs": [],
   "source": [
    "%load_ext autoreload\n",
    "%autoreload 2"
   ]
  },
  {
   "cell_type": "code",
   "execution_count": null,
   "metadata": {},
   "outputs": [],
   "source": [
    "import numpy as np\n",
    "import pandas as pd\n",
    "import matplotlib.pyplot as plt\n",
    "import matplotlib.dates as mdates\n",
    "import seaborn as sns\n",
    "from hyperopt import hp, tpe, fmin, Trials\n",
    "from tqdm import tqdm\n",
    "# from tqdm.notebook import tqdm\n",
    "\n",
    "from collections import OrderedDict\n",
    "import itertools\n",
    "from functools import partial\n",
    "import datetime\n",
    "from joblib import Parallel, delayed\n",
    "\n",
    "from models.seir.seir_testing import SEIR_Testing\n",
    "from data.dataloader import get_global_data, get_indian_data\n",
    "from data.bbmp_dataloader import loadbbmpdata\n",
    "from utils.plotting import create_plots\n",
    "from utils.generic import init_params"
   ]
  },
  {
   "cell_type": "markdown",
   "metadata": {},
   "source": [
    "## Load BBMP Data"
   ]
  },
  {
   "cell_type": "code",
   "execution_count": null,
   "metadata": {},
   "outputs": [],
   "source": [
    "df, df_agg = loadbbmpdata('bbmp-raw.csv')\n",
    "df_agg = df_agg.iloc[9:-3, :]\n",
    "df_agg.reset_index(drop=True, inplace=True)"
   ]
  },
  {
   "cell_type": "code",
   "execution_count": null,
   "metadata": {},
   "outputs": [],
   "source": [
    "filename = 'bbmp-linelist-13-04-20.csv'\n",
    "\n",
    "df = pd.read_csv('../../data/data/{}'.format(filename))\n",
    "\n",
    "df.columns = [x if x != 'Result declared on' else 'Result Declaration Date' for x in df.columns]\n",
    "df.columns = [x if x != 'Status Date' else 'Release Date' for x in df.columns]\n",
    "df.columns = [x.title() for x in df.columns]\n",
    "\n",
    "columns = [x for x in df.columns if ('Date' in x) or (x in ['Sl. No.', 'Current Status', 'Status']) ]\n",
    "df = df[columns]\n",
    "\n",
    "df.loc[df['Status'] == 'Death', 'Death Date'] = '13/04/2020'"
   ]
  },
  {
   "cell_type": "code",
   "execution_count": null,
   "metadata": {},
   "outputs": [],
   "source": [
    "# Replace all non entries with 01.01.2000\n",
    "date_columns = [x for x in df.columns if 'Date' in x]\n",
    "for column in date_columns:\n",
    "    # Replace with 01.01.2000\n",
    "    df.loc[df[column].isna(), column] = '01.01.2000'\n",
    "    df.loc[df[column] == '-', column] = '01.01.2000'"
   ]
  },
  {
   "cell_type": "code",
   "execution_count": null,
   "metadata": {},
   "outputs": [],
   "source": [
    "# Replace all non entries with 01.01.2000\n",
    "date_columns = [x for x in df.columns if 'Date' in x]\n",
    "for column in date_columns:\n",
    "    # Replace with 01.01.2000\n",
    "    df[column] = df[column].apply(lambda x : x.replace('.', '/'))"
   ]
  },
  {
   "cell_type": "code",
   "execution_count": null,
   "metadata": {},
   "outputs": [],
   "source": [
    "df"
   ]
  },
  {
   "cell_type": "code",
   "execution_count": null,
   "metadata": {},
   "outputs": [],
   "source": [
    "# # Convert to pd.datetime\n",
    "# date_columns = [x for x in df.columns if 'Date' in x]\n",
    "# for column in date_columns:\n",
    "#     if column != 'Release Date':\n",
    "#         df[column] = df[column].apply(lambda x : x.strip())\n",
    "#         df.loc[:, column] = pd.to_datetime(df.loc[:, column], format='%d/%m/%Y', errors='ignore')\n",
    "#         df.loc[:, column] = pd.to_datetime(df.loc[:, column], format='%d.%m.%Y', errors='ignore')\n",
    "#     else:\n",
    "#         df.loc[:, column] = pd.to_datetime(df.loc[:, column], errors='ignore')\n",
    "#         df.loc[:, column] = pd.to_datetime(df.loc[:, column], format='%m.%d.%Y', errors='ignore')"
   ]
  },
  {
   "cell_type": "code",
   "execution_count": null,
   "metadata": {},
   "outputs": [],
   "source": [
    "# Convert to pd.datetime\n",
    "date_columns = [x for x in df.columns if 'Date' in x]\n",
    "for column in date_columns:\n",
    "    df[column] = df[column].apply(lambda x : x.strip())\n",
    "    df.loc[:, column] = pd.to_datetime(df.loc[:, column], format='%d/%m/%Y', errors='ignore')"
   ]
  },
  {
   "cell_type": "code",
   "execution_count": null,
   "metadata": {},
   "outputs": [],
   "source": [
    "df"
   ]
  },
  {
   "cell_type": "code",
   "execution_count": null,
   "metadata": {},
   "outputs": [],
   "source": [
    "# Convert all 01/01/2000 to NaN\n",
    "date_columns = [x for x in df.columns if 'Date' in x]\n",
    "for column in date_columns:\n",
    "    df.loc[df[column].apply(lambda x : x.year) == 2000, column] = np.nan"
   ]
  },
  {
   "cell_type": "code",
   "execution_count": null,
   "metadata": {},
   "outputs": [],
   "source": [
    "df"
   ]
  },
  {
   "cell_type": "code",
   "execution_count": null,
   "metadata": {},
   "outputs": [],
   "source": [
    "sum(df['Date Of Hospitalization'].isna())"
   ]
  },
  {
   "cell_type": "code",
   "execution_count": null,
   "metadata": {},
   "outputs": [],
   "source": [
    "# Create ICU and Ventilator variable\n",
    "df['On Ventilator'] = df['Current Status'].apply(lambda x : (not pd.isna(x)) and ('ventilator' in x.lower()) )\n",
    "df['On ICU'] = df['Current Status'].apply(lambda x : (not pd.isna(x)) and ('icu' in x.lower() or 'ventilator' in x.lower()) )\n",
    "df['On ICU'] = np.logical_or(df['On ICU'], df['On Ventilator'])\n",
    "\n",
    "# Create Exposed, Infectious, Hospitalisation Time variables\n",
    "df['Exposed Time'] = np.maximum((df['Date Of Onset Of Symptoms'] - df['Date Of Arrival To India']).astype('timedelta64[D]'), 0)\n",
    "df['Infectious Time'] = np.maximum((df['Date Of Hospitalization'] - df['Date Of Onset Of Symptoms']).astype('timedelta64[D]'), 0)\n",
    "df['Hospitalisation Time'] = np.maximum((df['Release Date'] - df['Result Declaration Date']).astype('timedelta64[D]'), 0)"
   ]
  },
  {
   "cell_type": "code",
   "execution_count": null,
   "metadata": {},
   "outputs": [],
   "source": [
    "np.mean(df['Infectious Time'])"
   ]
  },
  {
   "cell_type": "code",
   "execution_count": null,
   "metadata": {},
   "outputs": [],
   "source": [
    "# Fill in missing values\n",
    "infectious_time = round(np.mean(df['Infectious Time']))\n",
    "time_delay_int_result_declaration = round(np.mean(np.maximum((df['Result Declaration Date'] - df['Date Of Hospitalization']).astype('timedelta64[D]'), 0)))\n",
    "\n",
    "for i, row in df.iterrows():\n",
    "    if pd.isna(row['Date Of Hospitalization']):\n",
    "        if not pd.isna(row['Date Of Onset Of Symptoms']):\n",
    "            df.loc[i , 'Date Of Hospitalization'] = row['Date Of Onset Of Symptoms'] + datetime.timedelta(days=infectious_time)\n",
    "        else:\n",
    "            df.loc[i , 'Date Of Hospitalization'] = df.loc[i-1 , 'Date Of Hospitalization']\n",
    "\n",
    "    if pd.isna(row['Date Of Onset Of Symptoms']):   \n",
    "        df.loc[i , 'Date Of Onset Of Symptoms'] = df.loc[i , 'Date Of Hospitalization'] - datetime.timedelta(days=infectious_time)\n",
    "\n",
    "    if pd.isna(row['Date Of Sample Collection']):\n",
    "        df.loc[i , 'Date Of Sample Collection'] = df.loc[i , 'Date Of Hospitalization']\n",
    "\n",
    "    if pd.isna(row['Result Declaration Date']):\n",
    "        df.loc[i , 'Result Declaration Date'] = df.loc[i , 'Date Of Hospitalization'] + datetime.timedelta(days=time_delay_int_result_declaration)"
   ]
  },
  {
   "cell_type": "code",
   "execution_count": null,
   "metadata": {},
   "outputs": [],
   "source": [
    "df"
   ]
  },
  {
   "cell_type": "code",
   "execution_count": null,
   "metadata": {},
   "outputs": [],
   "source": [
    "# Create processed dataframe from bbmp data\n",
    "min_values = []\n",
    "max_values = []\n",
    "for column in date_columns:\n",
    "    min_values.append(np.min(df[column]))\n",
    "    max_values.append(np.max(df[column]))\n",
    "\n",
    "start_date = np.nanmin(np.array(min_values))\n",
    "end_date = np.nanmax(np.array(max_values))\n",
    "\n",
    "daterange = pd.date_range(start=start_date, end=end_date)\n",
    "daterange\n",
    "\n",
    "df_agg = pd.DataFrame(index=daterange, columns=['Active Infections (Unknown)', 'Hospitalised', 'On ICU', 'On Ventilator', 'Fatalities', \n",
    "                                                'Total Infected', 'Total Infected (Unknown)', 'Recovered'])\n",
    "df_agg.loc[:, :] = 0\n",
    "df_agg.head()\n",
    "\n",
    "for i, row in df.iterrows():\n",
    "\n",
    "    df_agg.loc[row['Date Of Onset Of Symptoms']:row['Date Of Hospitalization'], 'Active Infections (Unknown)'] += 1\n",
    "\n",
    "    if not pd.isna(row['Release Date']):\n",
    "        df_agg.loc[row['Release Date']:, 'Recovered'] += 1\n",
    "        df_agg.loc[row['Date Of Hospitalization']:row['Release Date']-datetime.timedelta(days=1), 'Hospitalised'] += 1\n",
    "        if row['On ICU']:\n",
    "            df_agg.loc[row['Date Of Hospitalization']:row['Release Date']-datetime.timedelta(days=1), 'On ICU'] += 1\n",
    "        if row['On Ventilator']:\n",
    "            df_agg.loc[row['Date Of Hospitalization']:row['Release Date']-datetime.timedelta(days=1), 'On Ventilator'] += 1\n",
    "    \n",
    "    elif not pd.isna(row['Death Date']):\n",
    "        df_agg.loc[row['Death Date']:, 'Fatalities'] += 1\n",
    "        df_agg.loc[row['Date Of Hospitalization']:row['Death Date']-datetime.timedelta(days=1), 'Hospitalised'] += 1\n",
    "        if row['On ICU']:\n",
    "            df_agg.loc[row['Date Of Hospitalization']:row['Death Date']-datetime.timedelta(days=1), 'On ICU'] += 1\n",
    "        if row['On Ventilator']:\n",
    "            df_agg.loc[row['Date Of Hospitalization']:row['Death Date']-datetime.timedelta(days=1), 'On Ventilator'] += 1\n",
    "    \n",
    "    else:\n",
    "        df_agg.loc[row['Date Of Hospitalization']:, 'Hospitalised'] += 1\n",
    "        if row['On ICU']:\n",
    "            df_agg.loc[row['Date Of Hospitalization']:, 'On ICU'] += 1\n",
    "        if row['On Ventilator']:\n",
    "            df_agg.loc[row['Date Of Hospitalization']:, 'On Ventilator'] += 1\n",
    "\n",
    "    df_agg.loc[row['Date Of Hospitalization']:, 'Total Infected'] += 1\n",
    "    df_agg.loc[row['Date Of Onset Of Symptoms']:, 'Total Infected (Unknown)'] += 1\n",
    "        \n",
    "\n",
    "df_agg.reset_index(inplace=True) \n",
    "df_agg.columns = [x if x != 'index' else 'Date' for x in df_agg.columns]\n",
    "\n",
    "df_agg.to_csv('../../data/data/bbmp-processed-13-04.csv', index=False)"
   ]
  },
  {
   "cell_type": "code",
   "execution_count": null,
   "metadata": {},
   "outputs": [],
   "source": [
    "df_agg"
   ]
  },
  {
   "cell_type": "code",
   "execution_count": null,
   "metadata": {},
   "outputs": [],
   "source": []
  }
 ],
 "metadata": {
  "kernelspec": {
   "display_name": "Python 3",
   "language": "python",
   "name": "python3"
  },
  "language_info": {
   "codemirror_mode": {
    "name": "ipython",
    "version": 3
   },
   "file_extension": ".py",
   "mimetype": "text/x-python",
   "name": "python",
   "nbconvert_exporter": "python",
   "pygments_lexer": "ipython3"
  }
 },
 "nbformat": 4,
 "nbformat_minor": 4
}
