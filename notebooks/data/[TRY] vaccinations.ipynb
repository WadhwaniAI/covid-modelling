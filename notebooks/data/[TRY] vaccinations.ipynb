{
 "cells": [
  {
   "cell_type": "code",
   "execution_count": null,
   "metadata": {},
   "outputs": [],
   "source": [
    "%load_ext autoreload\n",
    "%autoreload 2"
   ]
  },
  {
   "cell_type": "code",
   "execution_count": null,
   "metadata": {},
   "outputs": [],
   "source": [
    "import pandas as pd\n",
    "import numpy as np\n",
    "import matplotlib.pyplot as plt\n",
    "\n",
    "from datetime import datetime\n",
    "\n",
    "from statsmodels.tsa.arima.model import ARIMA\n",
    "\n",
    "from data.dataloader import Covid19IndiaLoader"
   ]
  },
  {
   "cell_type": "code",
   "execution_count": null,
   "metadata": {},
   "outputs": [],
   "source": [
    "obj = Covid19IndiaLoader()\n",
    "dataframes = obj.pull_dataframes()"
   ]
  },
  {
   "cell_type": "code",
   "execution_count": null,
   "metadata": {},
   "outputs": [],
   "source": [
    "df_vaccine_state = dataframes['df_vaccine_state']\n",
    "df_vaccine_state.rename({'Updated On' : 'date'}, axis=1, inplace=True)\n",
    "df_vaccine_state['date'] = pd.to_datetime(df_vaccine_state['date'], format='%d/%m/%Y')"
   ]
  },
  {
   "cell_type": "code",
   "execution_count": null,
   "metadata": {},
   "outputs": [],
   "source": [
    "df_delhi = df_vaccine_state[df_vaccine_state['State'] == 'Karnataka']\n",
    "df_delhi.loc[:, 'Daily Individuals Vaccinated'] = df_delhi.loc[:, 'Total Individuals Vaccinated'].diff()\n",
    "df_delhi.loc[:, 'Daily Doses Administered'] = df_delhi.loc[:, 'Total Doses Administered'].diff()"
   ]
  },
  {
   "cell_type": "code",
   "execution_count": null,
   "metadata": {},
   "outputs": [],
   "source": [
    "model = ARIMA(df_delhi.loc[df_delhi['date'] >= '2021-05-01', 'Total Individuals Vaccinated'].to_numpy(), order=(1, 1, 1))\n",
    "res = model.fit()"
   ]
  },
  {
   "cell_type": "code",
   "execution_count": null,
   "metadata": {},
   "outputs": [],
   "source": [
    "res.summary()"
   ]
  },
  {
   "cell_type": "code",
   "execution_count": null,
   "metadata": {},
   "outputs": [],
   "source": [
    "res.predict(start=1, end=91)"
   ]
  },
  {
   "cell_type": "code",
   "execution_count": null,
   "metadata": {},
   "outputs": [],
   "source": [
    "df_projections = pd.DataFrame(columns=['date', 'arima_forecast_cum', 'arima_forecast_inc'])\n",
    "df_projections['date'] = pd.date_range(start='2021-05-02', end='2021-07-31')\n",
    "df_projections['arima_forecast_cum'] = res.predict(start=1, end=91)\n",
    "df_projections['arima_forecast_inc'] = df_projections['arima_forecast_cum'].diff()"
   ]
  },
  {
   "cell_type": "code",
   "execution_count": null,
   "metadata": {},
   "outputs": [],
   "source": [
    "total_days = (datetime.strptime('2021-07-31', '%Y-%m-%d') - df_delhi.iloc[-1]['date']).days\n",
    "last_15_days_mean = df_delhi.loc[(df_delhi['date'] >= '2021-05-01') & (df_delhi['date'] <= '2021-05-15'), 'Daily Individuals Vaccinated'].mean()\n",
    "simple_average_projections = np.arange(1, total_days+1)*last_15_days_mean + df_delhi['Total Individuals Vaccinated'].iloc[-1]\n",
    "\n",
    "df_projections['simple_average_cum'] = np.nan\n",
    "df_projections.loc[df_projections['date'] > '2021-05-15', 'simple_average_cum'] = simple_average_projections"
   ]
  },
  {
   "cell_type": "code",
   "execution_count": null,
   "metadata": {},
   "outputs": [],
   "source": [
    "jun_mean = (last_15_days_mean*10)/8.5\n",
    "jul_mean = (last_15_days_mean*15)/8.5\n",
    "\n",
    "may_days = (datetime.strptime('2021-05-31', '%Y-%m-%d') - df_delhi.iloc[-1]['date']).days\n",
    "\n",
    "may_arr = np.arange(1, may_days+1)*last_15_days_mean\n",
    "jun_arr = np.arange(1, 31)*jun_mean + may_arr[-1]\n",
    "jul_arr = np.arange(1, 32)*jul_mean + jun_arr[-1]\n",
    "simple_avg_proj_scaled = np.concatenate((may_arr, jun_arr, jul_arr)) + df_delhi['Total Individuals Vaccinated'].iloc[-1]\n",
    "\n",
    "df_projections['simple_average_scaled_cum'] = np.nan\n",
    "df_projections.loc[df_projections['date'] > '2021-05-15', 'simple_average_scaled_cum'] = simple_avg_proj_scaled"
   ]
  },
  {
   "cell_type": "code",
   "execution_count": null,
   "metadata": {},
   "outputs": [],
   "source": [
    "df_projections"
   ]
  },
  {
   "cell_type": "code",
   "execution_count": null,
   "metadata": {},
   "outputs": [],
   "source": [
    "fig, ax = plt.subplots(figsize=(12, 8))\n",
    "\n",
    "ax.plot(df_delhi['date'], df_delhi['Total Individuals Vaccinated'], label='Total Individuals Vaccinated')\n",
    "# ax.plot(df_delhi['date'], df_delhi['Total Individuals Vaccinated'] - df_delhi['Second Dose Administered'], label='Only 1 Dose')\n",
    "# ax.plot(df_delhi['date'], df_delhi['Second Dose Administered'], label='Both Doses')\n",
    "ax.plot(df_projections['date'], df_projections['arima_forecast_cum'], c='blue', ls='--', label='ARIMA')\n",
    "ax.plot(df_projections['date'], df_projections['simple_average_cum'], c='midnightblue', ls='--', label='Simple Avg')\n",
    "ax.plot(df_projections['date'], df_projections['simple_average_scaled_cum'], c='royalblue', ls='--', label='Simple Avg Scaled')\n",
    "ax.axvline(df_projections['date'][0], ls=':', c='black')\n",
    "ax.axvline(df_delhi.iloc[-1]['date'], ls=':', c='black')\n",
    "ax.legend()\n",
    "ax.grid(alpha=0.3)"
   ]
  },
  {
   "cell_type": "code",
   "execution_count": null,
   "metadata": {},
   "outputs": [],
   "source": [
    "df_delhi['Daily Individuals Vaccinated'].iloc[-15:].mean()*77 + "
   ]
  },
  {
   "cell_type": "code",
   "execution_count": null,
   "metadata": {},
   "outputs": [],
   "source": []
  },
  {
   "cell_type": "code",
   "execution_count": null,
   "metadata": {},
   "outputs": [],
   "source": [
    "mean*16 + jun_mean*30 + jul_mean*31 + df_delhi['Total Individuals Vaccinated'].iloc[-1]"
   ]
  },
  {
   "cell_type": "code",
   "execution_count": null,
   "metadata": {},
   "outputs": [],
   "source": []
  }
 ],
 "metadata": {
  "kernelspec": {
   "display_name": "Python (covid)",
   "language": "python",
   "name": "covid"
  },
  "language_info": {
   "codemirror_mode": {
    "name": "ipython",
    "version": 3
   },
   "file_extension": ".py",
   "mimetype": "text/x-python",
   "name": "python",
   "nbconvert_exporter": "python",
   "pygments_lexer": "ipython3"
  }
 },
 "nbformat": 4,
 "nbformat_minor": 4
}
