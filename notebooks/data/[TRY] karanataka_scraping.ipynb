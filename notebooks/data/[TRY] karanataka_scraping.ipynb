{
 "cells": [
  {
   "cell_type": "code",
   "execution_count": 1,
   "metadata": {},
   "outputs": [],
   "source": [
    "%load_ext autoreload\n",
    "%autoreload 2"
   ]
  },
  {
   "cell_type": "code",
   "execution_count": 2,
   "metadata": {},
   "outputs": [],
   "source": [
    "import requests\n",
    "from bs4 import BeautifulSoup\n",
    "import tabula\n",
    "import os\n",
    "import wget"
   ]
  },
  {
   "cell_type": "code",
   "execution_count": 3,
   "metadata": {},
   "outputs": [],
   "source": [
    "url = 'https://karunadu.karnataka.gov.in/hfw/kannada/Pages/cv-media-bulletin.aspx'\n",
    "r = requests.get(url)"
   ]
  },
  {
   "cell_type": "code",
   "execution_count": 4,
   "metadata": {},
   "outputs": [],
   "source": [
    "soup = BeautifulSoup(r.text, 'html.parser')"
   ]
  },
  {
   "cell_type": "code",
   "execution_count": 5,
   "metadata": {},
   "outputs": [],
   "source": [
    "a_hrefs = soup.find_all('tbody')[1].find_all('a')\n",
    "a_hrefs = [x['href'] for x in a_hrefs]\n",
    "a_hrefs = [x for x in a_hrefs if 'English' in x]\n",
    "a_hrefs\n",
    "pdf_urls = [url.split('/hfw')[0] + x for x in a_hrefs]"
   ]
  },
  {
   "cell_type": "code",
   "execution_count": 6,
   "metadata": {
    "collapsed": true,
    "jupyter": {
     "outputs_hidden": true
    }
   },
   "outputs": [
    {
     "name": "stderr",
     "output_type": "stream",
     "text": [
      "Error from tabula-java:\n",
      "Exception in thread \"main\" java.awt.AWTError: Can't connect to X11 window server using 'localhost:11.0' as the value of the DISPLAY variable.\n",
      "\tat java.desktop/sun.awt.X11GraphicsEnvironment.initDisplay(Native Method)\n",
      "\tat java.desktop/sun.awt.X11GraphicsEnvironment$1.run(X11GraphicsEnvironment.java:102)\n",
      "\tat java.base/java.security.AccessController.doPrivileged(Native Method)\n",
      "\tat java.desktop/sun.awt.X11GraphicsEnvironment.<clinit>(X11GraphicsEnvironment.java:61)\n",
      "\tat java.base/java.lang.Class.forName0(Native Method)\n",
      "\tat java.base/java.lang.Class.forName(Class.java:315)\n",
      "\tat java.desktop/java.awt.GraphicsEnvironment$LocalGE.createGE(GraphicsEnvironment.java:101)\n",
      "\tat java.desktop/java.awt.GraphicsEnvironment$LocalGE.<clinit>(GraphicsEnvironment.java:83)\n",
      "\tat java.desktop/java.awt.GraphicsEnvironment.getLocalGraphicsEnvironment(GraphicsEnvironment.java:129)\n",
      "\tat java.desktop/java.awt.image.BufferedImage.createGraphics(BufferedImage.java:1181)\n",
      "\tat org.apache.pdfbox.rendering.PDFRenderer.renderImage(PDFRenderer.java:295)\n",
      "\tat org.apache.pdfbox.rendering.PDFRenderer.renderImage(PDFRenderer.java:243)\n",
      "\tat org.apache.pdfbox.rendering.PDFRenderer.renderImageWithDPI(PDFRenderer.java:229)\n",
      "\tat technology.tabula.Utils.pageConvertToImage(Utils.java:279)\n",
      "\tat technology.tabula.detectors.NurminenDetectionAlgorithm.detect(NurminenDetectionAlgorithm.java:109)\n",
      "\tat technology.tabula.CommandLineApp$TableExtractor.extractTablesBasic(CommandLineApp.java:403)\n",
      "\tat technology.tabula.CommandLineApp$TableExtractor.extractTables(CommandLineApp.java:390)\n",
      "\tat technology.tabula.CommandLineApp.extractFile(CommandLineApp.java:178)\n",
      "\tat technology.tabula.CommandLineApp.extractFileTables(CommandLineApp.java:128)\n",
      "\tat technology.tabula.CommandLineApp.extractTables(CommandLineApp.java:109)\n",
      "\tat technology.tabula.CommandLineApp.main(CommandLineApp.java:79)\n",
      "\n",
      "\n"
     ]
    },
    {
     "ename": "CalledProcessError",
     "evalue": "Command '['java', '-Dfile.encoding=UTF8', '-jar', '/home/users/sansiddh/anaconda3/envs/covid/lib/python3.8/site-packages/tabula/tabula-1.0.3-jar-with-dependencies.jar', '--pages', 'all', '--guess', '--format', 'JSON', '20-04-2020%28English%29.pdf']' returned non-zero exit status 1.",
     "output_type": "error",
     "traceback": [
      "\u001b[0;31m---------------------------------------------------------------------------\u001b[0m",
      "\u001b[0;31mCalledProcessError\u001b[0m                        Traceback (most recent call last)",
      "\u001b[0;32m<ipython-input-6-6ad7437c119b>\u001b[0m in \u001b[0;36m<module>\u001b[0;34m\u001b[0m\n\u001b[0;32m----> 1\u001b[0;31m \u001b[0mt\u001b[0m \u001b[0;34m=\u001b[0m \u001b[0mtabula\u001b[0m\u001b[0;34m.\u001b[0m\u001b[0mread_pdf\u001b[0m\u001b[0;34m(\u001b[0m\u001b[0;34m\"https://karunadu.karnataka.gov.in/hfw/kannada/nCovDocs/20-04-2020(English).pdf\"\u001b[0m\u001b[0;34m,\u001b[0m \u001b[0mpages\u001b[0m \u001b[0;34m=\u001b[0m \u001b[0;34m\"all\"\u001b[0m\u001b[0;34m,\u001b[0m \u001b[0mmultiple_tables\u001b[0m \u001b[0;34m=\u001b[0m \u001b[0;32mTrue\u001b[0m\u001b[0;34m)\u001b[0m\u001b[0;34m\u001b[0m\u001b[0;34m\u001b[0m\u001b[0m\n\u001b[0m\u001b[1;32m      2\u001b[0m \u001b[0mt\u001b[0m\u001b[0;34m\u001b[0m\u001b[0;34m\u001b[0m\u001b[0m\n",
      "\u001b[0;32m~/anaconda3/envs/covid/lib/python3.8/site-packages/tabula/io.py\u001b[0m in \u001b[0;36mread_pdf\u001b[0;34m(input_path, output_format, encoding, java_options, pandas_options, multiple_tables, user_agent, **kwargs)\u001b[0m\n\u001b[1;32m    320\u001b[0m \u001b[0;34m\u001b[0m\u001b[0m\n\u001b[1;32m    321\u001b[0m     \u001b[0;32mtry\u001b[0m\u001b[0;34m:\u001b[0m\u001b[0;34m\u001b[0m\u001b[0;34m\u001b[0m\u001b[0m\n\u001b[0;32m--> 322\u001b[0;31m         \u001b[0moutput\u001b[0m \u001b[0;34m=\u001b[0m \u001b[0m_run\u001b[0m\u001b[0;34m(\u001b[0m\u001b[0mjava_options\u001b[0m\u001b[0;34m,\u001b[0m \u001b[0mkwargs\u001b[0m\u001b[0;34m,\u001b[0m \u001b[0mpath\u001b[0m\u001b[0;34m,\u001b[0m \u001b[0mencoding\u001b[0m\u001b[0;34m)\u001b[0m\u001b[0;34m\u001b[0m\u001b[0;34m\u001b[0m\u001b[0m\n\u001b[0m\u001b[1;32m    323\u001b[0m     \u001b[0;32mfinally\u001b[0m\u001b[0;34m:\u001b[0m\u001b[0;34m\u001b[0m\u001b[0;34m\u001b[0m\u001b[0m\n\u001b[1;32m    324\u001b[0m         \u001b[0;32mif\u001b[0m \u001b[0mtemporary\u001b[0m\u001b[0;34m:\u001b[0m\u001b[0;34m\u001b[0m\u001b[0;34m\u001b[0m\u001b[0m\n",
      "\u001b[0;32m~/anaconda3/envs/covid/lib/python3.8/site-packages/tabula/io.py\u001b[0m in \u001b[0;36m_run\u001b[0;34m(java_options, options, path, encoding)\u001b[0m\n\u001b[1;32m     78\u001b[0m \u001b[0;34m\u001b[0m\u001b[0m\n\u001b[1;32m     79\u001b[0m     \u001b[0;32mtry\u001b[0m\u001b[0;34m:\u001b[0m\u001b[0;34m\u001b[0m\u001b[0;34m\u001b[0m\u001b[0m\n\u001b[0;32m---> 80\u001b[0;31m         result = subprocess.run(\n\u001b[0m\u001b[1;32m     81\u001b[0m             \u001b[0margs\u001b[0m\u001b[0;34m,\u001b[0m\u001b[0;34m\u001b[0m\u001b[0;34m\u001b[0m\u001b[0m\n\u001b[1;32m     82\u001b[0m             \u001b[0mstdout\u001b[0m\u001b[0;34m=\u001b[0m\u001b[0msubprocess\u001b[0m\u001b[0;34m.\u001b[0m\u001b[0mPIPE\u001b[0m\u001b[0;34m,\u001b[0m\u001b[0;34m\u001b[0m\u001b[0;34m\u001b[0m\u001b[0m\n",
      "\u001b[0;32m~/anaconda3/envs/covid/lib/python3.8/subprocess.py\u001b[0m in \u001b[0;36mrun\u001b[0;34m(input, capture_output, timeout, check, *popenargs, **kwargs)\u001b[0m\n\u001b[1;32m    510\u001b[0m         \u001b[0mretcode\u001b[0m \u001b[0;34m=\u001b[0m \u001b[0mprocess\u001b[0m\u001b[0;34m.\u001b[0m\u001b[0mpoll\u001b[0m\u001b[0;34m(\u001b[0m\u001b[0;34m)\u001b[0m\u001b[0;34m\u001b[0m\u001b[0;34m\u001b[0m\u001b[0m\n\u001b[1;32m    511\u001b[0m         \u001b[0;32mif\u001b[0m \u001b[0mcheck\u001b[0m \u001b[0;32mand\u001b[0m \u001b[0mretcode\u001b[0m\u001b[0;34m:\u001b[0m\u001b[0;34m\u001b[0m\u001b[0;34m\u001b[0m\u001b[0m\n\u001b[0;32m--> 512\u001b[0;31m             raise CalledProcessError(retcode, process.args,\n\u001b[0m\u001b[1;32m    513\u001b[0m                                      output=stdout, stderr=stderr)\n\u001b[1;32m    514\u001b[0m     \u001b[0;32mreturn\u001b[0m \u001b[0mCompletedProcess\u001b[0m\u001b[0;34m(\u001b[0m\u001b[0mprocess\u001b[0m\u001b[0;34m.\u001b[0m\u001b[0margs\u001b[0m\u001b[0;34m,\u001b[0m \u001b[0mretcode\u001b[0m\u001b[0;34m,\u001b[0m \u001b[0mstdout\u001b[0m\u001b[0;34m,\u001b[0m \u001b[0mstderr\u001b[0m\u001b[0;34m)\u001b[0m\u001b[0;34m\u001b[0m\u001b[0;34m\u001b[0m\u001b[0m\n",
      "\u001b[0;31mCalledProcessError\u001b[0m: Command '['java', '-Dfile.encoding=UTF8', '-jar', '/home/users/sansiddh/anaconda3/envs/covid/lib/python3.8/site-packages/tabula/tabula-1.0.3-jar-with-dependencies.jar', '--pages', 'all', '--guess', '--format', 'JSON', '20-04-2020%28English%29.pdf']' returned non-zero exit status 1."
     ]
    }
   ],
   "source": [
    "t = tabula.read_pdf(\"https://karunadu.karnataka.gov.in/hfw/kannada/nCovDocs/20-04-2020(English).pdf\", pages = \"all\", multiple_tables = True)\n",
    "t"
   ]
  },
  {
   "cell_type": "code",
   "execution_count": 7,
   "metadata": {},
   "outputs": [],
   "source": [
    "from wand.image import Image\n",
    "from PIL import Image as PI\n",
    "import pyocr\n",
    "import pyocr.builders\n",
    "import io"
   ]
  },
  {
   "cell_type": "code",
   "execution_count": 8,
   "metadata": {},
   "outputs": [],
   "source": [
    "tool = pyocr.get_available_tools()[0]\n",
    "lang = tool.get_available_languages()[1]"
   ]
  },
  {
   "cell_type": "code",
   "execution_count": 22,
   "metadata": {},
   "outputs": [
    {
     "data": {
      "text/plain": [
       "'../../data/data/19-04-2020(English).pdf'"
      ]
     },
     "execution_count": 22,
     "metadata": {},
     "output_type": "execute_result"
    }
   ],
   "source": [
    "wget.download(pdf_urls[1], '../../data/data/{}'.format((pdf_urls[1].split('/')[-1]))) "
   ]
  },
  {
   "cell_type": "code",
   "execution_count": 9,
   "metadata": {},
   "outputs": [],
   "source": [
    "req_image = []\n",
    "final_text = []"
   ]
  },
  {
   "cell_type": "code",
   "execution_count": 10,
   "metadata": {},
   "outputs": [],
   "source": [
    "image_pdf = Image(filename= '../../data/data/{}'.format((pdf_urls[1].split('/')[-1])) , resolution=300)\n",
    "image_jpeg = image_pdf.convert('jpeg')"
   ]
  },
  {
   "cell_type": "code",
   "execution_count": 11,
   "metadata": {},
   "outputs": [],
   "source": [
    "for img in image_jpeg.sequence:\n",
    "    img_page = Image(image=img)\n",
    "    req_image.append(img_page.make_blob('jpeg'))"
   ]
  },
  {
   "cell_type": "code",
   "execution_count": 12,
   "metadata": {},
   "outputs": [],
   "source": [
    "for img in req_image: \n",
    "    txt = tool.image_to_string(\n",
    "        PI.open(io.BytesIO(img)),\n",
    "        lang=lang,\n",
    "        builder=pyocr.builders.TextBuilder()\n",
    "    )\n",
    "    final_text.append(txt)"
   ]
  },
  {
   "cell_type": "code",
   "execution_count": 13,
   "metadata": {},
   "outputs": [
    {
     "data": {
      "text/plain": [
       "'oearhะ\\n\\nld pد28lمر 65 уeaгs pemahe геsটdent o于 8еngaلعاгu لعاгhanمر сase o于 5ﾑ肌 dded on l9د04د2020 at\\n0еsটgnatеd нosρটta팝 8еngaلعاгu لعاгhanد\\n\\n2১ pد390مر 50 νеaгs pemahe геsটdent o于 0ρρটnangadট 0a故shটna кannadaمر сase o于 5ﾑ肌 dded on\\nl9د04د2020 at 0еsটgnated нosρটta팝مر 0a故shটna кannadaد\\n\\n \\n\\nmsrdcr ש重se masrracr ല് c0иoبيةl9\\n\\n \\n\\n \\n\\n \\n\\n \\n\\n \\n\\n \\n\\n \\n\\n \\n\\n \\n\\n \\n\\n \\n\\n \\n\\n \\n\\n \\n\\n \\n\\n \\n\\n \\n\\n \\n\\n \\n\\n \\n\\n \\n\\n \\n\\n \\n\\n \\n\\n \\n\\n \\n\\n \\n\\n \\n\\nولاء msmd мапю тοrаلا hm وحاсrটνe లుοء र्धा\\nలుοء posnhres లుsсhаrged саses oearhs\\nl 8agamhote 2l 0 20 l\\n2 日aиaಗ ls 0 ls 0\\n3 веلاagaर्धा 42 0 4l l\\n4 веngaلعاru 民uraلا l2 3 9 0\\n5 веngaلعاru urhan 89 44 4l 4\\n6 85dar l4 0 l4 0\\n7 chamaramnagara 0 0 0 0\\n8 chdhhahauapura l6 8 6 2\\n9 chdhtamagamru 0 0 0 0\\nl0 chdtradurga l l 0 0\\nll 0ahsh5na кaന്നada l4 ll 2 l\\nl2 0aνanagеrе 2 2 0 0\\nls 0harenad 7 l 6 0\\nl4 6adag 3 0 2 l\\nl5 нassan 0 0 0 0\\nl6 нaνеಗ 0 0 0 0\\nl7 кaلاahurag5 22 3 l6 3\\nl8 коdagu l l 0 0\\nl9 коюг 0 0 0 0\\n20 коррап 0 0 0 0\\n2l мandуa l2 0 l2 0\\n22 муsuru 84 24 60 0\\n23 民a5сhur 0 0 0 0\\n24 8amanagara 0 0 0 0\\n25 5h5νaനоgga 0 0 0 0\\n26 丁umaസru 2 l 0 l\\n\\n \\n\\n \\n\\n \\n\\n \\n\\n \\n\\n \\n\\n \\n\\npage 2 र्धा 5'"
      ]
     },
     "execution_count": 13,
     "metadata": {},
     "output_type": "execute_result"
    }
   ],
   "source": [
    "final_text[1]"
   ]
  },
  {
   "cell_type": "code",
   "execution_count": null,
   "metadata": {},
   "outputs": [],
   "source": []
  }
 ],
 "metadata": {
  "kernelspec": {
   "display_name": "Python (covid)",
   "language": "python",
   "name": "covid"
  },
  "language_info": {
   "codemirror_mode": {
    "name": "ipython",
    "version": 3
   },
   "file_extension": ".py",
   "mimetype": "text/x-python",
   "name": "python",
   "nbconvert_exporter": "python",
   "pygments_lexer": "ipython3",
   "version": "3.8.2"
  }
 },
 "nbformat": 4,
 "nbformat_minor": 4
}
