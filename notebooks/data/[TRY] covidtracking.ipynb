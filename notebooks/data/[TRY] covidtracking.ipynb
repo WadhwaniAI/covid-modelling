{
 "cells": [
  {
   "cell_type": "code",
   "execution_count": null,
   "metadata": {},
   "outputs": [],
   "source": [
    "%load_ext autoreload\n",
    "%autoreload 2"
   ]
  },
  {
   "cell_type": "code",
   "execution_count": null,
   "metadata": {},
   "outputs": [],
   "source": [
    "import numpy as np\n",
    "import matplotlib.pyplot as plt\n",
    "import pandas as pd\n",
    "import datetime\n",
    "import copy\n",
    "import time\n",
    "\n",
    "from data.dataloader import CovidTrackingLoader, JHULoader"
   ]
  },
  {
   "cell_type": "code",
   "execution_count": null,
   "metadata": {},
   "outputs": [],
   "source": [
    "obj = CovidTrackingLoader()\n",
    "dataframes = obj.load_data()"
   ]
  },
  {
   "cell_type": "code",
   "execution_count": null,
   "metadata": {},
   "outputs": [],
   "source": [
    "obj_jhu = JHULoader()\n",
    "dataframes_jhu = obj_jhu.load_data()"
   ]
  },
  {
   "cell_type": "code",
   "execution_count": null,
   "metadata": {},
   "outputs": [],
   "source": [
    "df_states = dataframes['states']\n",
    "df_states_metadata = dataframes['states_metadata']\n",
    "\n",
    "state_code_to_name = dict(zip(df_states_metadata['state'].to_numpy(), df_states_metadata['name'].to_numpy()))\n",
    "\n",
    "df_states['state_name'] = df_states['state'].apply(lambda x : state_code_to_name[x])\n",
    "\n",
    "df_states['date'] = pd.to_datetime(df_states['date'].apply(lambda x: str(x)), format=\"%Y%m%d\")\n",
    "\n",
    "df_states = df_states.sort_values(['date', 'state_name'])\n",
    "df_states.reset_index(inplace=True, drop=True)"
   ]
  },
  {
   "cell_type": "code",
   "execution_count": null,
   "metadata": {},
   "outputs": [],
   "source": [
    "states = 'Alabama'"
   ]
  },
  {
   "cell_type": "code",
   "execution_count": null,
   "metadata": {},
   "outputs": [],
   "source": [
    "df_texas_ct = df_states[df_states['state_name'] == states]\n",
    "df_texas_ct.loc[:, ['date', 'positive', 'positiveCasesViral', 'positiveTestsPeopleAntibody', 'positiveTestsPeopleAntigen', 'recovered', 'death']]"
   ]
  },
  {
   "cell_type": "code",
   "execution_count": null,
   "metadata": {},
   "outputs": [],
   "source": [
    "df_states_jhu = dataframes_jhu['df_us_states']\n",
    "df_texas_jhu = df_states_jhu[df_states_jhu['Province_State'] == states]"
   ]
  },
  {
   "cell_type": "code",
   "execution_count": null,
   "metadata": {},
   "outputs": [],
   "source": [
    "df_texas_jhu.loc[:, ['date', 'Confirmed', 'Deaths', 'Recovered', 'Active']]"
   ]
  },
  {
   "cell_type": "code",
   "execution_count": null,
   "metadata": {},
   "outputs": [],
   "source": []
  }
 ],
 "metadata": {
  "kernelspec": {
   "display_name": "Python 3",
   "language": "python",
   "name": "python3"
  },
  "language_info": {
   "codemirror_mode": {
    "name": "ipython",
    "version": 3
   },
   "file_extension": ".py",
   "mimetype": "text/x-python",
   "name": "python",
   "nbconvert_exporter": "python",
   "pygments_lexer": "ipython3"
  }
 },
 "nbformat": 4,
 "nbformat_minor": 4
}
