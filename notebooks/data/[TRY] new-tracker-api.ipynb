{
 "cells": [
  {
   "cell_type": "code",
   "execution_count": null,
   "metadata": {},
   "outputs": [],
   "source": [
    "%load_ext autoreload\n",
    "%autoreload 2"
   ]
  },
  {
   "cell_type": "code",
   "execution_count": null,
   "metadata": {},
   "outputs": [],
   "source": [
    "import requests\n",
    "import pandas as pd\n",
    "import numpy as np"
   ]
  },
  {
   "cell_type": "code",
   "execution_count": null,
   "metadata": {},
   "outputs": [],
   "source": [
    "data = requests.get('https://api.covid19india.org/v4/data-all.json').json()\n",
    "\n",
    "for date in data.keys():\n",
    "    date_dict = data[date]\n",
    "    # Remove all the states which don't have district data in them\n",
    "    date_dict = {state : state_dict for state, state_dict in date_dict.items() if 'districts' in state_dict.keys()}\n",
    "    data[date] = date_dict\n",
    "    \n",
    "# Remove all the dates which have 0 states with district data after pruning\n",
    "data = {date : date_dict for date, date_dict in data.items() if len(date_dict) > 0}\n",
    "\n",
    "# Make the districts key data the only data available for the state key\n",
    "for date in data.keys():\n",
    "    for state in data[date].keys():\n",
    "        # Make the districts key dict the main dict itself for a particular date, state\n",
    "        data[date][state] = data[date][state]['districts']\n",
    "        state_dict = data[date][state]\n",
    "        # Keep only those district dicts for which cumulative data (total key) is available\n",
    "        state_dict = {dist : dist_dict for dist, dist_dict in state_dict.items() if 'total' in dist_dict.keys()}\n",
    "        data[date][state] = state_dict\n",
    "\n",
    "        # Make the total key dict the main dict itself for a particular date, state, dist\n",
    "        for district in data[date][state].keys():\n",
    "                data[date][state][district] = data[date][state][district]['total']\n",
    "        \n",
    "        # For a particular date, state, dist, only keep those keys for which have confirmed, recovered, deceased are all available\n",
    "        state_dict = {dist : dist_dict for dist, dist_dict in state_dict.items() if {'confirmed', 'recovered', 'deceased'} <= dist_dict.keys()}\n",
    "        data[date][state] = state_dict\n",
    "    \n",
    "    # Remove all the states for a particular date which don't have district that satisfied above criteria\n",
    "    date_dict = data[date]\n",
    "    date_dict = {state : state_dict for state, state_dict in date_dict.items() if len(state_dict) > 0}\n",
    "    data[date] = date_dict\n",
    "    \n",
    "# Remove all the dates which have 0 states with district data after pruning\n",
    "data = {date : date_dict for date, date_dict in data.items() if len(date_dict) > 0}"
   ]
  },
  {
   "cell_type": "code",
   "execution_count": null,
   "metadata": {},
   "outputs": [],
   "source": [
    "data['2020-04-29']"
   ]
  },
  {
   "cell_type": "code",
   "execution_count": null,
   "metadata": {},
   "outputs": [],
   "source": [
    "df_districts_all = pd.DataFrame(columns=['date', 'state', 'district', 'confirmed', 'active', 'recovered', 'deceased', 'tested', 'migrated'])\n",
    "for date in data.keys():\n",
    "    for state in data[date].keys():\n",
    "        df_date_state = pd.DataFrame.from_dict(data[date][state]).T.reset_index()\n",
    "        df_date_state = df_date_state.rename({'index' : 'district'}, axis='columns')\n",
    "        df_date_state['active'] = df_date_state['confirmed'] - (df_date_state['recovered'] + df_date_state['deceased'])\n",
    "        df_date_state['state'] = statecode_to_state_dict[state]\n",
    "        df_date_state['date'] = date\n",
    "        df_districts_all = pd.concat([df_districts_all, df_date_state], ignore_index=True)"
   ]
  },
  {
   "cell_type": "code",
   "execution_count": null,
   "metadata": {},
   "outputs": [],
   "source": [
    "df_mumbai = df_districts_all.loc[(df_districts_all['state'] == 'Maharashtra') & (df_districts_all['district'] == 'Mumbai'), :]"
   ]
  },
  {
   "cell_type": "code",
   "execution_count": null,
   "metadata": {},
   "outputs": [],
   "source": [
    "numeric_cols = ['confirmed', 'active', 'recovered', 'deceased', 'tested', 'migrated']\n",
    "df_mumbai.loc[:, numeric_cols] = df_mumbai.loc[:, numeric_cols].apply(pd.to_numeric)"
   ]
  },
  {
   "cell_type": "code",
   "execution_count": null,
   "metadata": {},
   "outputs": [],
   "source": [
    "df_mumbai"
   ]
  },
  {
   "cell_type": "code",
   "execution_count": null,
   "metadata": {},
   "outputs": [],
   "source": []
  }
 ],
 "metadata": {
  "kernelspec": {
   "display_name": "Python 3",
   "language": "python",
   "name": "python3"
  },
  "language_info": {
   "codemirror_mode": {
    "name": "ipython",
    "version": 3
   },
   "file_extension": ".py",
   "mimetype": "text/x-python",
   "name": "python",
   "nbconvert_exporter": "python",
   "pygments_lexer": "ipython3"
  }
 },
 "nbformat": 4,
 "nbformat_minor": 4
}
