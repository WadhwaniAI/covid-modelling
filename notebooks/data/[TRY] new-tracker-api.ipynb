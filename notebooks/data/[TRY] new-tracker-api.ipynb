{
 "cells": [
  {
   "cell_type": "code",
   "execution_count": null,
   "metadata": {},
   "outputs": [],
   "source": [
    "%load_ext autoreload\n",
    "%autoreload 2"
   ]
  },
  {
   "cell_type": "code",
   "execution_count": null,
   "metadata": {},
   "outputs": [],
   "source": [
    "import requests\n",
    "import pandas as pd\n",
    "import numpy as np"
   ]
  },
  {
   "cell_type": "code",
   "execution_count": null,
   "metadata": {},
   "outputs": [],
   "source": [
    "data = requests.get('https://api.covid19india.org/state_district_wise.json').json()\n",
    "df_statecode = pd.DataFrame.from_dict(data)\n",
    "df_statecode = df_statecode.drop(['districtData']).T\n",
    "state_to_statecode_dict = dict(zip(df_statecode.index, df_statecode['statecode']))\n",
    "statecode_to_state_dict = dict(zip(df_statecode['statecode'], df_statecode.index))"
   ]
  },
  {
   "cell_type": "code",
   "execution_count": null,
   "metadata": {},
   "outputs": [],
   "source": [
    "data = requests.get('https://api.covid19india.org/v4/data-all.json').json()\n",
    "\n",
    "for date in data.keys():\n",
    "    date_dict = data[date]\n",
    "    # Remove all the states which don't have district data in them\n",
    "    date_dict = {state : state_dict for state, state_dict in date_dict.items() if 'districts' in state_dict.keys()}\n",
    "    data[date] = date_dict\n",
    "    \n",
    "# Remove all the dates which have 0 states with district data after pruning\n",
    "data = {date : date_dict for date, date_dict in data.items() if len(date_dict) > 0}\n",
    "\n",
    "# Make the districts key data the only data available for the state key\n",
    "for date in data.keys():\n",
    "    for state in data[date].keys():\n",
    "        # Make the districts key dict the main dict itself for a particular date, state\n",
    "        data[date][state] = data[date][state]['total']\n",
    "        \n",
    "    date_dict = {state: state_dict for state, state_dict in data[date].items() \\\n",
    "                 if {'confirmed', 'recovered', 'deceased'} <= state_dict.keys()}\n",
    "    data[date] = date_dict\n",
    "    \n",
    "# Remove all the dates which have 0 states with district data after pruning\n",
    "data = {date : date_dict for date, date_dict in data.items() if len(date_dict) > 0}\n",
    "\n",
    "df_states_all = pd.DataFrame(columns=['date', 'state', 'confirmed', 'active', 'recovered', 'deceased', 'tested', 'migrated'])\n",
    "for date in data.keys():\n",
    "    df_date = pd.DataFrame.from_dict(data[date]).T.reset_index()\n",
    "    df_date = df_date.rename({'index' : 'state'}, axis='columns')\n",
    "    df_date['active'] = df_date['confirmed'] - (df_date['recovered'] + df_date['deceased'])\n",
    "    df_date['state'] = pd.Series([statecode_to_state_dict[state_code] for state_code in df_date['state']])\n",
    "    df_date['date'] = date\n",
    "    df_states_all = pd.concat([df_states_all, df_date], ignore_index=True)"
   ]
  },
  {
   "cell_type": "code",
   "execution_count": null,
   "metadata": {},
   "outputs": [],
   "source": [
    "df_states_all"
   ]
  },
  {
   "cell_type": "code",
   "execution_count": null,
   "metadata": {},
   "outputs": [],
   "source": [
    "df_mumbai = df_districts_all.loc[(df_districts_all['state'] == 'Maharashtra') & (df_districts_all['district'] == 'Mumbai'), :]"
   ]
  },
  {
   "cell_type": "code",
   "execution_count": null,
   "metadata": {},
   "outputs": [],
   "source": [
    "numeric_cols = ['confirmed', 'active', 'recovered', 'deceased', 'tested', 'migrated']\n",
    "df_mumbai.loc[:, numeric_cols] = df_mumbai.loc[:, numeric_cols].apply(pd.to_numeric)"
   ]
  },
  {
   "cell_type": "code",
   "execution_count": null,
   "metadata": {},
   "outputs": [],
   "source": [
    "df_mumbai"
   ]
  },
  {
   "cell_type": "code",
   "execution_count": null,
   "metadata": {},
   "outputs": [],
   "source": []
  }
 ],
 "metadata": {
  "kernelspec": {
   "display_name": "Python 3",
   "language": "python",
   "name": "python3"
  },
  "language_info": {
   "codemirror_mode": {
    "name": "ipython",
    "version": 3
   },
   "file_extension": ".py",
   "mimetype": "text/x-python",
   "name": "python",
   "nbconvert_exporter": "python",
   "pygments_lexer": "ipython3"
  }
 },
 "nbformat": 4,
 "nbformat_minor": 4
}
