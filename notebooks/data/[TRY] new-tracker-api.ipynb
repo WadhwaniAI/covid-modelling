{
 "cells": [
  {
   "cell_type": "code",
   "execution_count": null,
   "metadata": {},
   "outputs": [],
   "source": [
    "%load_ext autoreload\n",
    "%autoreload 2"
   ]
  },
  {
   "cell_type": "code",
   "execution_count": null,
   "metadata": {},
   "outputs": [],
   "source": [
    "import requests\n",
    "import pandas as pd\n",
    "import numpy as np"
   ]
  },
  {
   "cell_type": "code",
   "execution_count": null,
   "metadata": {},
   "outputs": [],
   "source": [
    "data = requests.get('https://api.covid19india.org/v4/data-all.json').json()"
   ]
  },
  {
   "cell_type": "code",
   "execution_count": null,
   "metadata": {},
   "outputs": [],
   "source": [
    "for date in data.keys():\n",
    "    del data[date]['TT']\n",
    "    print(date)\n",
    "    for state in data[date].keys():\n",
    "        if 'districts' in data[date][state].keys():\n",
    "            for key in data[date][state]['districts'].keys():\n",
    "                try:\n",
    "                    data[date][state]['districts'][key] = data[date][state]['districts'][key]['total']\n",
    "                except Exception as e:\n",
    "                    print(data[date][state]['districts'][key])"
   ]
  },
  {
   "cell_type": "code",
   "execution_count": null,
   "metadata": {},
   "outputs": [],
   "source": [
    "df_districts_all = pd.DataFrame(columns=['date', 'state', 'district', 'confirmed', 'active', 'recovered', 'deceased', 'tested', 'migrated'])\n",
    "for date in data.keys():\n",
    "    if date > '2020-04-30':\n",
    "        for state in data[date].keys():\n",
    "            try:\n",
    "                df_date_state = pd.DataFrame.from_dict(data[date][state]['districts']).T.reset_index()\n",
    "            except Exception as e:\n",
    "                print(e)\n",
    "                continue\n",
    "            df_date_state = df_date_state.rename({'index' : 'date'}, axis='columns')\n",
    "            df_date_state['active'] = df_date_state['confirmed'] - (df_date_state['recovered'] + df_date_state['deceased'])\n",
    "            df_date_state['state'] = statecode_to_state_dict(state)\n",
    "            df_date_state['date'] = date\n",
    "            df_districts_all = pd.concat([df_districts_all, df_date_state], ignore_index=True)"
   ]
  },
  {
   "cell_type": "code",
   "execution_count": null,
   "metadata": {},
   "outputs": [],
   "source": []
  }
 ],
 "metadata": {
  "kernelspec": {
   "display_name": "Python 3",
   "language": "python",
   "name": "python3"
  },
  "language_info": {
   "codemirror_mode": {
    "name": "ipython",
    "version": 3
   },
   "file_extension": ".py",
   "mimetype": "text/x-python",
   "name": "python",
   "nbconvert_exporter": "python",
   "pygments_lexer": "ipython3"
  }
 },
 "nbformat": 4,
 "nbformat_minor": 4
}
