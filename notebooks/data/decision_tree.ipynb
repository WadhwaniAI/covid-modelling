{
 "cells": [
  {
   "cell_type": "code",
   "execution_count": null,
   "metadata": {},
   "outputs": [],
   "source": [
    "import numpy as np\n",
    "import pandas as pd"
   ]
  },
  {
   "cell_type": "code",
   "execution_count": null,
   "metadata": {},
   "outputs": [],
   "source": [
    "from sklearn.metrics import make_scorer, accuracy_score,roc_auc_score\n",
    "from sklearn.model_selection import train_test_split, GridSearchCV\n",
    "from catboost import CatBoostClassifier, Pool"
   ]
  },
  {
   "cell_type": "code",
   "execution_count": null,
   "metadata": {},
   "outputs": [],
   "source": [
    "import pandas as pd\n",
    "df = pd.read_excel('bmc_cases.xlsb', engine='pyxlsb')"
   ]
  },
  {
   "cell_type": "code",
   "execution_count": null,
   "metadata": {},
   "outputs": [],
   "source": [
    "len(df) - df.isna().sum()"
   ]
  },
  {
   "cell_type": "code",
   "execution_count": null,
   "metadata": {},
   "outputs": [],
   "source": [
    "data = df[['Ward','Date','Age','Gender','Symptomatic?','Traceable?','Patient Location','Patient Status (Central)','Occupation','Patient Type (Index / Contact)']]"
   ]
  },
  {
   "cell_type": "code",
   "execution_count": null,
   "metadata": {},
   "outputs": [],
   "source": [
    "data['Symptomatic?'].value_counts()"
   ]
  },
  {
   "cell_type": "code",
   "execution_count": null,
   "metadata": {},
   "outputs": [],
   "source": [
    "allowed_params = {'Symptomatic?':(['Yes','No'],'Unknown'),\n",
    "                  'Traceable?':(['Yes','No'],'Unknown'),\n",
    "                    'Patient Location':(['Building','Slum / Chawl'],'Unknown'),\n",
    "                    'Occupation':(['At-home worker','Health worker','Other essential services','Municipal Worker','Police','RETIRED','House Wife'],'Others'),\n",
    "                'Patient Type (Index / Contact)':(['Index','Contact'],'Unknown'),\n",
    "                  'Gender':(['M','F'],'Others')\n",
    "                 }\n",
    "                    "
   ]
  },
  {
   "cell_type": "code",
   "execution_count": null,
   "metadata": {},
   "outputs": [],
   "source": [
    "def get_val(column_val,allowed):\n",
    "    if column_val in allowed[0]:\n",
    "        return column_val\n",
    "    return allowed[1]"
   ]
  },
  {
   "cell_type": "code",
   "execution_count": null,
   "metadata": {},
   "outputs": [],
   "source": [
    "for feature in allowed_params:\n",
    "    data[feature] = data.apply(lambda row : get_val(row[feature],allowed_params[feature]),axis = 1) "
   ]
  },
  {
   "cell_type": "code",
   "execution_count": null,
   "metadata": {},
   "outputs": [],
   "source": [
    "data"
   ]
  },
  {
   "cell_type": "code",
   "execution_count": null,
   "metadata": {},
   "outputs": [],
   "source": [
    "df = data[(data['Patient Status (Central)'] == 'Recovered') | (data['Patient Status (Central)'] == 'Dead')]"
   ]
  },
  {
   "cell_type": "code",
   "execution_count": null,
   "metadata": {},
   "outputs": [],
   "source": [
    "y = df['Patient Status (Central)']\n",
    "X = df.drop(['Patient Status (Central)'],axis = 1)"
   ]
  },
  {
   "cell_type": "code",
   "execution_count": null,
   "metadata": {},
   "outputs": [],
   "source": [
    "print(X['Symptomatic?'].value_counts())"
   ]
  },
  {
   "cell_type": "code",
   "execution_count": null,
   "metadata": {},
   "outputs": [],
   "source": [
    "print(X.dtypes)\n",
    "categorical_features_indices = np.where((X.dtypes == object))[0]\n",
    "categorical_features_indices"
   ]
  },
  {
   "cell_type": "code",
   "execution_count": null,
   "metadata": {},
   "outputs": [],
   "source": [
    "from sklearn.preprocessing import LabelEncoder\n",
    "le = LabelEncoder()\n",
    "y = le.fit_transform(y)"
   ]
  },
  {
   "cell_type": "code",
   "execution_count": null,
   "metadata": {},
   "outputs": [],
   "source": [
    "from collections import Counter\n",
    "y_count = Counter(y)\n",
    "print(y_count)\n",
    "W = {}\n",
    "W[0]= len(y)/(2*y_count[0])\n",
    "W[1] = len(y)/(2*y_count[1])\n",
    "print(W)"
   ]
  },
  {
   "cell_type": "code",
   "execution_count": null,
   "metadata": {},
   "outputs": [],
   "source": [
    "from sklearn.model_selection import train_test_split\n",
    "X_train, X_test, y_train, y_test = train_test_split(X, y, test_size=0.2, random_state=1)\n",
    "X_train, X_val, y_train, y_val = train_test_split(X_train, y_train, test_size=0.25, random_state=1)"
   ]
  },
  {
   "cell_type": "code",
   "execution_count": null,
   "metadata": {},
   "outputs": [],
   "source": [
    "X_train_pool = Pool(X_train,label = y_train,cat_features=categorical_features_indices)\n",
    "clf = CatBoostClassifier()\n",
    "params = {'iterations': [500],\n",
    "          'depth': [6, 8 , 10],\n",
    "          'cat_features':[categorical_features_indices],\n",
    "          'loss_function': ['Logloss'],\n",
    "          'l2_leaf_reg': np.linspace(1, 6, 4),\n",
    "          'leaf_estimation_iterations': [10],\n",
    "          'verbose':[500],\n",
    "          'class_weights' : [W]\n",
    "         }\n"
   ]
  },
  {
   "cell_type": "code",
   "execution_count": null,
   "metadata": {},
   "outputs": [],
   "source": [
    "scorer = make_scorer(roc_auc_score)\n",
    "clf_grid = GridSearchCV(estimator=clf, param_grid=params, scoring=scorer, cv=5)"
   ]
  },
  {
   "cell_type": "code",
   "execution_count": null,
   "metadata": {},
   "outputs": [],
   "source": [
    "clf_grid.fit(\n",
    "    X_train, y_train,\n",
    ");"
   ]
  },
  {
   "cell_type": "code",
   "execution_count": null,
   "metadata": {},
   "outputs": [],
   "source": [
    "best_param = clf_grid.best_params_\n",
    "best_param"
   ]
  },
  {
   "cell_type": "code",
   "execution_count": null,
   "metadata": {},
   "outputs": [],
   "source": [
    "model = CatBoostClassifier(iterations=1000,\n",
    "                           loss_function=best_param['loss_function'],\n",
    "                           depth=best_param['depth'],\n",
    "                           l2_leaf_reg=best_param['l2_leaf_reg'],\n",
    "                           eval_metric='Accuracy',\n",
    "                           leaf_estimation_iterations=10,\n",
    "                           use_best_model=True,\n",
    "                           logging_level='Silent'\n",
    "                          );"
   ]
  },
  {
   "cell_type": "code",
   "execution_count": null,
   "metadata": {},
   "outputs": [],
   "source": [
    "model.fit(X_train_pool, eval_set=(X_val,y_val))"
   ]
  },
  {
   "cell_type": "code",
   "execution_count": null,
   "metadata": {},
   "outputs": [],
   "source": []
  },
  {
   "cell_type": "code",
   "execution_count": null,
   "metadata": {},
   "outputs": [],
   "source": [
    "predictions = model.predict(X_test)\n",
    "predictions_probs = model.predict_proba(X_test)"
   ]
  },
  {
   "cell_type": "code",
   "execution_count": null,
   "metadata": {},
   "outputs": [],
   "source": [
    "W"
   ]
  },
  {
   "cell_type": "code",
   "execution_count": null,
   "metadata": {},
   "outputs": [],
   "source": [
    "from sklearn.metrics import classification_report,confusion_matrix,plot_roc_curve\n",
    "print(classification_report(y_test,predictions))"
   ]
  },
  {
   "cell_type": "code",
   "execution_count": null,
   "metadata": {},
   "outputs": [],
   "source": [
    "confusion_matrix(y_test,predictions)"
   ]
  },
  {
   "cell_type": "code",
   "execution_count": null,
   "metadata": {},
   "outputs": [],
   "source": [
    "df = pd.DataFrame({\"Features\":X.columns,\"Importance\":model.get_feature_importance(verbose=True)})\n",
    "df.sort_values(by = 'Importance',ascending = False)"
   ]
  },
  {
   "cell_type": "code",
   "execution_count": null,
   "metadata": {},
   "outputs": [],
   "source": [
    "from sklearn.metrics import precision_recall_curve\n",
    "from sklearn.metrics import plot_precision_recall_curve\n",
    "import matplotlib.pyplot as plt"
   ]
  },
  {
   "cell_type": "code",
   "execution_count": null,
   "metadata": {},
   "outputs": [],
   "source": [
    "import matplotlib as mpl\n",
    "mpl.rcParams.update({'font.size': 22})"
   ]
  },
  {
   "cell_type": "code",
   "execution_count": null,
   "metadata": {},
   "outputs": [],
   "source": [
    "import matplotlib.pyplot as plt\n",
    "fig,ax = plt.subplots(2,1,figsize=[10,20])\n",
    "plot_roc_curve(model,X_test,y_test,ax =ax.flat[0])\n",
    "plot_precision_recall_curve(model,X_test,y_test,ax =ax.flat[1])"
   ]
  },
  {
   "cell_type": "code",
   "execution_count": null,
   "metadata": {},
   "outputs": [],
   "source": [
    "model.plot_tree(0)"
   ]
  },
  {
   "cell_type": "code",
   "execution_count": null,
   "metadata": {},
   "outputs": [],
   "source": [
    "tree_dict = {}\n",
    "tree_data = X_test[['Age','Symptomatic?','label']]\n",
    "age_bins = [0,29.5,46.5,62.5,150]\n",
    "bins = [(age_bins[i],age_bins[i+1]) for i in range(len(age_bins)-1)]\n",
    "sym_classes = list(tree_data['Symptomatic?'].value_counts().keys())\n",
    "test_g = tree_data.groupby(pd.cut(tree_data['Age'],bins =age_bins ))\n",
    "print(bins)\n",
    "print(sym_classes)\n",
    "for age_bin,df_group in test_g:\n",
    "    tree_dict[(age_bin.left,age_bin.right)] = {}\n",
    "    test_g2 = df_group.groupby(df_group[\"Symptomatic?\"])\n",
    "    for sym_bin,df_group2 in test_g2:\n",
    "        tree_dict[(age_bin.left,age_bin.right)][sym_bin] = df_group2['label'].value_counts()\n",
    "for b in bins:\n",
    "    for s in sym_classes:\n",
    "        print(b,s)\n",
    "        print(tree_dict[b][s])\n",
    "        print('-'*10)"
   ]
  }
 ],
 "metadata": {
  "kernelspec": {
   "display_name": "Python 3",
   "language": "python",
   "name": "python3"
  },
  "language_info": {
   "codemirror_mode": {
    "name": "ipython",
    "version": 3
   },
   "file_extension": ".py",
   "mimetype": "text/x-python",
   "name": "python",
   "nbconvert_exporter": "python",
   "pygments_lexer": "ipython3"
  }
 },
 "nbformat": 4,
 "nbformat_minor": 4
}
