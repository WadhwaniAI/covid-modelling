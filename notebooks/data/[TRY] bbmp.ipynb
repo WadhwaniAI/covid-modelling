{
 "cells": [
  {
   "cell_type": "code",
   "execution_count": 1,
   "metadata": {},
   "outputs": [],
   "source": [
    "%load_ext autoreload\n",
    "%autoreload 2"
   ]
  },
  {
   "cell_type": "code",
   "execution_count": 310,
   "metadata": {},
   "outputs": [],
   "source": [
    "import pandas as pd\n",
    "import numpy as np\n",
    "import matplotlib.pyplot as plt\n",
    "\n",
    "import datetime"
   ]
  },
  {
   "cell_type": "code",
   "execution_count": 289,
   "metadata": {},
   "outputs": [],
   "source": [
    "df = pd.read_csv('../../data/data/bbmp-date.csv')"
   ]
  },
  {
   "cell_type": "code",
   "execution_count": 290,
   "metadata": {},
   "outputs": [],
   "source": [
    "df.columns = [x if x != 'Result declared on' else 'Result Declaration Date' for x in df.columns]\n",
    "df.columns = [x.title() for x in df.columns]"
   ]
  },
  {
   "cell_type": "code",
   "execution_count": 291,
   "metadata": {},
   "outputs": [],
   "source": [
    "# Make all - entries NaN and standardise format\n",
    "date_columns = [x for x in df.columns if 'Date' in x]\n",
    "for column in date_columns:\n",
    "    # Replace with NaN\n",
    "    df.loc[df[column].isna(), column] = '01.01.2000'\n",
    "    df.loc[df[column] == '-', column] = '01.01.2000'"
   ]
  },
  {
   "cell_type": "code",
   "execution_count": 292,
   "metadata": {},
   "outputs": [
    {
     "data": {
      "text/plain": [
       "'03/26/2020'"
      ]
     },
     "execution_count": 292,
     "metadata": {},
     "output_type": "execute_result"
    }
   ],
   "source": [
    "df.loc[0, 'Release Date']"
   ]
  },
  {
   "cell_type": "code",
   "execution_count": 294,
   "metadata": {},
   "outputs": [],
   "source": [
    "# Convert to pd.datetime\n",
    "date_columns = [x for x in df.columns if 'Date' in x]\n",
    "for column in date_columns:\n",
    "    if column != 'Release Date':\n",
    "        df[column] = df[column].apply(lambda x : x.strip())\n",
    "        df.loc[:, column] = pd.to_datetime(df.loc[:, column], format='%d.%m.%Y', errors='ignore')\n",
    "    else:\n",
    "        df.loc[:, column] = pd.to_datetime(df.loc[:, column], errors='ignore')\n",
    "        df.loc[:, column] = pd.to_datetime(df.loc[:, column], format='%m.%d.%Y', errors='ignore')\n",
    "    "
   ]
  },
  {
   "cell_type": "code",
   "execution_count": 296,
   "metadata": {},
   "outputs": [],
   "source": [
    "# Convert to pd.datetime\n",
    "date_columns = [x for x in df.columns if 'Date' in x]\n",
    "for column in date_columns:\n",
    "    try:\n",
    "        df.loc[df[column].apply(lambda x : x.year) == 2000, column] = np.nan\n",
    "    except:\n",
    "        print(df)\n",
    "    "
   ]
  },
  {
   "cell_type": "code",
   "execution_count": 297,
   "metadata": {},
   "outputs": [
    {
     "data": {
      "text/html": [
       "<div>\n",
       "<style scoped>\n",
       "    .dataframe tbody tr th:only-of-type {\n",
       "        vertical-align: middle;\n",
       "    }\n",
       "\n",
       "    .dataframe tbody tr th {\n",
       "        vertical-align: top;\n",
       "    }\n",
       "\n",
       "    .dataframe thead th {\n",
       "        text-align: right;\n",
       "    }\n",
       "</style>\n",
       "<table border=\"1\" class=\"dataframe\">\n",
       "  <thead>\n",
       "    <tr style=\"text-align: right;\">\n",
       "      <th></th>\n",
       "      <th>Sl. No.</th>\n",
       "      <th>State Patient Id</th>\n",
       "      <th>Age</th>\n",
       "      <th>Age Group</th>\n",
       "      <th>Gender</th>\n",
       "      <th>Date Of Travel</th>\n",
       "      <th>Date Of Arrival To India</th>\n",
       "      <th>Date Of Onset Of Symptoms</th>\n",
       "      <th>Date Of Hospitalization</th>\n",
       "      <th>Date Of Sample Collection</th>\n",
       "      <th>Result Declaration Date</th>\n",
       "      <th>Current Status</th>\n",
       "      <th>Status</th>\n",
       "      <th>Release Date</th>\n",
       "    </tr>\n",
       "  </thead>\n",
       "  <tbody>\n",
       "    <tr>\n",
       "      <th>0</th>\n",
       "      <td>1</td>\n",
       "      <td>P1</td>\n",
       "      <td>44</td>\n",
       "      <td>40 to 50</td>\n",
       "      <td>M</td>\n",
       "      <td>2020-02-28</td>\n",
       "      <td>2020-03-01</td>\n",
       "      <td>2020-03-04</td>\n",
       "      <td>2020-03-08</td>\n",
       "      <td>2020-03-05</td>\n",
       "      <td>2020-03-08</td>\n",
       "      <td>Asymtomatic; Sample Negative on 21.03.2020; Di...</td>\n",
       "      <td>Recovered</td>\n",
       "      <td>2020-03-26</td>\n",
       "    </tr>\n",
       "    <tr>\n",
       "      <th>1</th>\n",
       "      <td>2</td>\n",
       "      <td>P2</td>\n",
       "      <td>47</td>\n",
       "      <td>40 to 50</td>\n",
       "      <td>F</td>\n",
       "      <td>NaT</td>\n",
       "      <td>NaT</td>\n",
       "      <td>2020-03-08</td>\n",
       "      <td>2020-03-08</td>\n",
       "      <td>2020-03-08</td>\n",
       "      <td>2020-03-09</td>\n",
       "      <td>Second sample NEGATIVE on 19.03.2020 ; Discharged</td>\n",
       "      <td>Recovered</td>\n",
       "      <td>2020-03-23</td>\n",
       "    </tr>\n",
       "    <tr>\n",
       "      <th>2</th>\n",
       "      <td>3</td>\n",
       "      <td>P3</td>\n",
       "      <td>13</td>\n",
       "      <td>10 to 20</td>\n",
       "      <td>F</td>\n",
       "      <td>NaT</td>\n",
       "      <td>NaT</td>\n",
       "      <td>2020-03-08</td>\n",
       "      <td>2020-03-08</td>\n",
       "      <td>2020-03-08</td>\n",
       "      <td>2020-03-09</td>\n",
       "      <td>Asymtomatic; Sample Negative on 21.03.2020 ; D...</td>\n",
       "      <td>Recovered</td>\n",
       "      <td>2020-03-26</td>\n",
       "    </tr>\n",
       "    <tr>\n",
       "      <th>3</th>\n",
       "      <td>4</td>\n",
       "      <td>P4</td>\n",
       "      <td>50</td>\n",
       "      <td>40 to 50</td>\n",
       "      <td>M</td>\n",
       "      <td>2020-03-08</td>\n",
       "      <td>2020-03-08</td>\n",
       "      <td>2020-03-04</td>\n",
       "      <td>2020-03-09</td>\n",
       "      <td>2020-03-08</td>\n",
       "      <td>2020-03-09</td>\n",
       "      <td>Asymtomatic; Sample Negative on 21.03.2020; Di...</td>\n",
       "      <td>Recovered</td>\n",
       "      <td>2020-03-24</td>\n",
       "    </tr>\n",
       "    <tr>\n",
       "      <th>4</th>\n",
       "      <td>5</td>\n",
       "      <td>P5</td>\n",
       "      <td>26</td>\n",
       "      <td>20 to 30</td>\n",
       "      <td>M</td>\n",
       "      <td>2020-03-06</td>\n",
       "      <td>2020-03-06</td>\n",
       "      <td>2020-03-09</td>\n",
       "      <td>2020-03-11</td>\n",
       "      <td>2020-03-10</td>\n",
       "      <td>2020-03-11</td>\n",
       "      <td>Second sample NEGATIVE on 19.03.2020; Discharg...</td>\n",
       "      <td>Recovered</td>\n",
       "      <td>2020-03-19</td>\n",
       "    </tr>\n",
       "    <tr>\n",
       "      <th>...</th>\n",
       "      <td>...</td>\n",
       "      <td>...</td>\n",
       "      <td>...</td>\n",
       "      <td>...</td>\n",
       "      <td>...</td>\n",
       "      <td>...</td>\n",
       "      <td>...</td>\n",
       "      <td>...</td>\n",
       "      <td>...</td>\n",
       "      <td>...</td>\n",
       "      <td>...</td>\n",
       "      <td>...</td>\n",
       "      <td>...</td>\n",
       "      <td>...</td>\n",
       "    </tr>\n",
       "    <tr>\n",
       "      <th>63</th>\n",
       "      <td>64</td>\n",
       "      <td>P54</td>\n",
       "      <td>64</td>\n",
       "      <td>60 to 70</td>\n",
       "      <td>M</td>\n",
       "      <td>NaT</td>\n",
       "      <td>NaT</td>\n",
       "      <td>NaT</td>\n",
       "      <td>NaT</td>\n",
       "      <td>NaT</td>\n",
       "      <td>NaT</td>\n",
       "      <td>Isolated in the hospital</td>\n",
       "      <td>Active</td>\n",
       "      <td>NaT</td>\n",
       "    </tr>\n",
       "    <tr>\n",
       "      <th>64</th>\n",
       "      <td>65</td>\n",
       "      <td>P84</td>\n",
       "      <td>13</td>\n",
       "      <td>10 to 20</td>\n",
       "      <td>M</td>\n",
       "      <td>NaT</td>\n",
       "      <td>NaT</td>\n",
       "      <td>NaT</td>\n",
       "      <td>NaT</td>\n",
       "      <td>NaT</td>\n",
       "      <td>NaT</td>\n",
       "      <td>Isolated in the hospital</td>\n",
       "      <td>Active</td>\n",
       "      <td>NaT</td>\n",
       "    </tr>\n",
       "    <tr>\n",
       "      <th>65</th>\n",
       "      <td>66</td>\n",
       "      <td>P181</td>\n",
       "      <td>27</td>\n",
       "      <td>20 to 30</td>\n",
       "      <td>F</td>\n",
       "      <td>NaT</td>\n",
       "      <td>2020-04-08</td>\n",
       "      <td>NaT</td>\n",
       "      <td>2020-04-07</td>\n",
       "      <td>NaT</td>\n",
       "      <td>NaT</td>\n",
       "      <td>Isolated in the hospital</td>\n",
       "      <td>Active</td>\n",
       "      <td>NaT</td>\n",
       "    </tr>\n",
       "    <tr>\n",
       "      <th>66</th>\n",
       "      <td>67</td>\n",
       "      <td>P189</td>\n",
       "      <td>19</td>\n",
       "      <td>21 to 30</td>\n",
       "      <td>NaN</td>\n",
       "      <td>NaT</td>\n",
       "      <td>NaT</td>\n",
       "      <td>2020-04-08</td>\n",
       "      <td>NaT</td>\n",
       "      <td>NaT</td>\n",
       "      <td>NaT</td>\n",
       "      <td>Isolated in the hospital</td>\n",
       "      <td>Active</td>\n",
       "      <td>NaT</td>\n",
       "    </tr>\n",
       "    <tr>\n",
       "      <th>67</th>\n",
       "      <td>68</td>\n",
       "      <td>P190</td>\n",
       "      <td>27</td>\n",
       "      <td>22 to 30</td>\n",
       "      <td>NaN</td>\n",
       "      <td>NaT</td>\n",
       "      <td>NaT</td>\n",
       "      <td>2020-04-08</td>\n",
       "      <td>NaT</td>\n",
       "      <td>NaT</td>\n",
       "      <td>NaT</td>\n",
       "      <td>Isolated in the hospital</td>\n",
       "      <td>Active</td>\n",
       "      <td>NaT</td>\n",
       "    </tr>\n",
       "  </tbody>\n",
       "</table>\n",
       "<p>68 rows × 14 columns</p>\n",
       "</div>"
      ],
      "text/plain": [
       "    Sl. No. State Patient Id  Age Age Group Gender Date Of Travel  \\\n",
       "0         1               P1   44  40 to 50      M     2020-02-28   \n",
       "1         2               P2   47  40 to 50      F            NaT   \n",
       "2         3               P3   13  10 to 20      F            NaT   \n",
       "3         4               P4   50  40 to 50      M     2020-03-08   \n",
       "4         5               P5   26  20 to 30      M     2020-03-06   \n",
       "..      ...              ...  ...       ...    ...            ...   \n",
       "63       64              P54   64  60 to 70      M            NaT   \n",
       "64       65              P84   13  10 to 20      M            NaT   \n",
       "65       66             P181   27  20 to 30      F            NaT   \n",
       "66       67             P189   19  21 to 30    NaN            NaT   \n",
       "67       68             P190   27  22 to 30    NaN            NaT   \n",
       "\n",
       "   Date Of Arrival To India Date Of Onset Of Symptoms Date Of Hospitalization  \\\n",
       "0                2020-03-01                2020-03-04              2020-03-08   \n",
       "1                       NaT                2020-03-08              2020-03-08   \n",
       "2                       NaT                2020-03-08              2020-03-08   \n",
       "3                2020-03-08                2020-03-04              2020-03-09   \n",
       "4                2020-03-06                2020-03-09              2020-03-11   \n",
       "..                      ...                       ...                     ...   \n",
       "63                      NaT                       NaT                     NaT   \n",
       "64                      NaT                       NaT                     NaT   \n",
       "65               2020-04-08                       NaT              2020-04-07   \n",
       "66                      NaT                2020-04-08                     NaT   \n",
       "67                      NaT                2020-04-08                     NaT   \n",
       "\n",
       "   Date Of Sample Collection Result Declaration Date  \\\n",
       "0                 2020-03-05              2020-03-08   \n",
       "1                 2020-03-08              2020-03-09   \n",
       "2                 2020-03-08              2020-03-09   \n",
       "3                 2020-03-08              2020-03-09   \n",
       "4                 2020-03-10              2020-03-11   \n",
       "..                       ...                     ...   \n",
       "63                       NaT                     NaT   \n",
       "64                       NaT                     NaT   \n",
       "65                       NaT                     NaT   \n",
       "66                       NaT                     NaT   \n",
       "67                       NaT                     NaT   \n",
       "\n",
       "                                       Current Status     Status Release Date  \n",
       "0   Asymtomatic; Sample Negative on 21.03.2020; Di...  Recovered   2020-03-26  \n",
       "1   Second sample NEGATIVE on 19.03.2020 ; Discharged  Recovered   2020-03-23  \n",
       "2   Asymtomatic; Sample Negative on 21.03.2020 ; D...  Recovered   2020-03-26  \n",
       "3   Asymtomatic; Sample Negative on 21.03.2020; Di...  Recovered   2020-03-24  \n",
       "4   Second sample NEGATIVE on 19.03.2020; Discharg...  Recovered   2020-03-19  \n",
       "..                                                ...        ...          ...  \n",
       "63                           Isolated in the hospital     Active          NaT  \n",
       "64                           Isolated in the hospital     Active          NaT  \n",
       "65                           Isolated in the hospital     Active          NaT  \n",
       "66                           Isolated in the hospital     Active          NaT  \n",
       "67                           Isolated in the hospital     Active          NaT  \n",
       "\n",
       "[68 rows x 14 columns]"
      ]
     },
     "execution_count": 297,
     "metadata": {},
     "output_type": "execute_result"
    }
   ],
   "source": [
    "df"
   ]
  },
  {
   "cell_type": "code",
   "execution_count": 317,
   "metadata": {},
   "outputs": [],
   "source": [
    "df['Exposed Time'] = np.maximum((df['Date Of Onset Of Symptoms'] - df['Date Of Travel']).astype('timedelta64[D]'), 0)\n",
    "df['Infectious Time'] = np.maximum((df['Date Of Hospitalization'] - df['Date Of Onset Of Symptoms']).astype('timedelta64[D]'), 0)\n",
    "df['Hospitalisation Time'] = np.maximum((df['Release Date'] - df['Result Declaration Date']).astype('timedelta64[D]'), 0)"
   ]
  },
  {
   "cell_type": "code",
   "execution_count": 319,
   "metadata": {},
   "outputs": [
    {
     "data": {
      "image/png": "[encoded data removed]",
      "text/plain": [
       "<Figure size 432x288 with 1 Axes>"
      ]
     },
     "metadata": {
      "needs_background": "light"
     },
     "output_type": "display_data"
    },
    {
     "name": "stdout",
     "output_type": "stream",
     "text": [
      "4.066666666666666 3.37573037364591\n"
     ]
    },
    {
     "data": {
      "image/png": "[encoded data removed]",
      "text/plain": [
       "<Figure size 432x288 with 1 Axes>"
      ]
     },
     "metadata": {
      "needs_background": "light"
     },
     "output_type": "display_data"
    },
    {
     "name": "stdout",
     "output_type": "stream",
     "text": [
      "3.0232558139534884 3.4336797814496283\n"
     ]
    },
    {
     "data": {
      "image/png": "[encoded data removed]",
      "text/plain": [
       "<Figure size 432x288 with 1 Axes>"
      ]
     },
     "metadata": {
      "needs_background": "light"
     },
     "output_type": "display_data"
    },
    {
     "name": "stdout",
     "output_type": "stream",
     "text": [
      "14.777777777777779 2.7397395568751004\n"
     ]
    }
   ],
   "source": [
    "plt.hist(df['Exposed Time'])\n",
    "plt.show()\n",
    "print(np.mean(df['Exposed Time']), np.std(df['Exposed Time']))\n",
    "plt.hist(df['Infectious Time'])\n",
    "plt.show()\n",
    "print(np.mean(df['Infectious Time']), np.std(df['Infectious Time']))\n",
    "plt.hist(df['Hospitalisation Time'])\n",
    "plt.show()\n",
    "print(np.mean(df['Hospitalisation Time']), np.std(df['Hospitalisation Time']))"
   ]
  },
  {
   "cell_type": "code",
   "execution_count": null,
   "metadata": {},
   "outputs": [],
   "source": []
  }
 ],
 "metadata": {
  "kernelspec": {
   "display_name": "Python (covid)",
   "language": "python",
   "name": "covid"
  },
  "language_info": {
   "codemirror_mode": {
    "name": "ipython",
    "version": 3
   },
   "file_extension": ".py",
   "mimetype": "text/x-python",
   "name": "python",
   "nbconvert_exporter": "python",
   "pygments_lexer": "ipython3",
   "version": "3.8.2"
  }
 },
 "nbformat": 4,
 "nbformat_minor": 4
}
