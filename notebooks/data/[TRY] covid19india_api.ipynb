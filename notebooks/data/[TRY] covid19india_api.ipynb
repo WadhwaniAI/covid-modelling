{
 "cells": [
  {
   "cell_type": "code",
   "execution_count": 1,
   "metadata": {},
   "outputs": [],
   "source": [
    "%load_ext autoreload\n",
    "%autoreload 2"
   ]
  },
  {
   "cell_type": "code",
   "execution_count": 56,
   "metadata": {},
   "outputs": [],
   "source": [
    "import pandas as pd\n",
    "import numpy as np\n",
    "import requests\n",
    "import datetime"
   ]
  },
  {
   "cell_type": "code",
   "execution_count": 99,
   "metadata": {},
   "outputs": [],
   "source": [
    "from data.dataloader import get_covid19india_api_data, get_rootnet_api_data\n",
    "from data.processing import get_district_time_series"
   ]
  },
  {
   "cell_type": "code",
   "execution_count": 98,
   "metadata": {},
   "outputs": [],
   "source": [
    "dataframes = get_covid19india_api_data()"
   ]
  },
  {
   "cell_type": "code",
   "execution_count": 83,
   "metadata": {},
   "outputs": [
    {
     "data": {
      "text/plain": [
       "dict_keys(['df_tested', 'df_statewise', 'df_india_time_series', 'df_districtwise', 'df_raw_data', 'df_raw_data_2', 'df_travel_history', 'df_resources'])"
      ]
     },
     "execution_count": 83,
     "metadata": {},
     "output_type": "execute_result"
    }
   ],
   "source": [
    "dataframes.keys()"
   ]
  },
  {
   "cell_type": "code",
   "execution_count": 101,
   "metadata": {},
   "outputs": [],
   "source": [
    "df_district = get_district_time_series(dataframes)"
   ]
  },
  {
   "cell_type": "code",
   "execution_count": 89,
   "metadata": {},
   "outputs": [],
   "source": [
    "df_raw_data_1 = dataframes['df_raw_data'][dataframes['df_raw_data']['detectedstate'] == 'Karnataka']\n",
    "df_raw_data_1 = df_raw_data_1[df_raw_data_1['detecteddistrict'] == 'Bengaluru']\n",
    "df_raw_data_1['dateannounced'] = pd.to_datetime(df_raw_data_1['dateannounced'], format='%d/%m/%Y')\n",
    "df_raw_data_2 = dataframes['df_raw_data_2'][dataframes['df_raw_data_2']['state'] == 'Karnataka']"
   ]
  },
  {
   "cell_type": "code",
   "execution_count": 74,
   "metadata": {},
   "outputs": [
    {
     "data": {
      "text/plain": [
       "array(['KA-P1', 'KA-P2', 'KA-P3', 'KA-P4', 'KA-P5', 'KA-P8', 'KA-P10',\n",
       "       'KA-P11', 'KA-P13', 'KA-P12', 'KA-P14', 'KA-P19', 'KA-P16',\n",
       "       'KA-P17', 'KA-P18', 'KA-P22', 'KA-P23', 'KA-P24', 'KA-P25',\n",
       "       'KA-P28', 'KA-P29', 'KA-P30', 'KA-P31', 'KA-P32', 'KA-P33',\n",
       "       'KA-P38', 'KA-P43', 'KA-P44', 'KA-P45', 'KA-P46', 'KA-P47',\n",
       "       'KA-P48', 'KA-P49', 'KA-P50', 'KA-P53', 'KA-P54', 'KA-P55',\n",
       "       'KA-P57', 'KA-P58', 'KA-P59', 'KA-P61', 'KA-P68', 'KA-P74',\n",
       "       'KA-P84', 'KA-P92', 'KA-P93', 'KA-P100', 'KA-P101', 'KA-P102',\n",
       "       'KA-P107', 'KA-P108', 'KA-P129', 'KA-P130', 'KA-P131', 'KA-P132',\n",
       "       'KA-P145', 'KA-P146', 'KA-P152', 'KA-P153', 'KA-P167', 'KA-P168',\n",
       "       'KA-P170', 'KA-P181', 'KA-P189', 'KA-P190', 'KA-P195', 'KA-P196',\n",
       "       'KA-P197', 'KA-P198', 'KA-P199', 'KA-P206', 'KA-P208', 'KA-P215',\n",
       "       'KA-P217', 'KA-P218', 'KA-P219', 'KA-P247', 'KA-P252', 'KA-P253',\n",
       "       'KA-P259', 'KA-P261', 'KA-P277', 'KA-P280', 'KA-P281', 'KA-P290',\n",
       "       'KA-P291', 'KA-P292', 'KA-P316', 'KA-P317', 'KA-P326', 'KA-P327',\n",
       "       'KA-P349', 'KA-P350', 'KA-P351', 'KA-P352', 'KA-P353', 'KA-P359',\n",
       "       'KA-P376', 'KA-P377', 'KA-P378', 'KA-P419', 'KA-P420', 'KA-P433',\n",
       "       'KA-P434', 'KA-P435', 'KA-P436', 'KA-P437', 'KA-P438', 'KA-P439',\n",
       "       'KA-P440', 'KA-P441', 'KA-P444'], dtype=object)"
      ]
     },
     "execution_count": 74,
     "metadata": {},
     "output_type": "execute_result"
    }
   ],
   "source": [
    "df_raw_data_1[df_raw_data_1['detecteddistrict'] == 'Bengaluru']['statepatientnumber'].to_numpy()"
   ]
  },
  {
   "cell_type": "code",
   "execution_count": 61,
   "metadata": {},
   "outputs": [
    {
     "name": "stdout",
     "output_type": "stream",
     "text": [
      "162 162\n"
     ]
    },
    {
     "data": {
      "text/plain": [
       "array(['13/03/2020', '20/03/2020', '24/03/2020', '24/03/2020',\n",
       "       '26/03/2020', '27/03/2020', '27/03/2020', '27/03/2020',\n",
       "       '30/03/2020', '31/03/2020', '31/03/2020', '01/04/2020',\n",
       "       '02/04/2020', '02/04/2020', '03/04/2020', '05/04/2020',\n",
       "       '06/04/2020', '06/04/2020', '06/04/2020', '06/04/2020',\n",
       "       '06/04/2020', '06/04/2020', '06/04/2020', '06/04/2020',\n",
       "       '07/04/2020', '07/04/2020', '07/04/2020', '07/04/2020',\n",
       "       '07/04/2020', '08/04/2020', '08/04/2020', '08/04/2020',\n",
       "       '08/04/2020', '09/04/2020', '09/04/2020', '09/04/2020',\n",
       "       '10/04/2020', '10/04/2020', '10/04/2020', '10/04/2020',\n",
       "       '11/04/2020', '11/04/2020', '11/04/2020', '11/04/2020',\n",
       "       '11/04/2020', '12/04/2020', '12/04/2020', '12/04/2020',\n",
       "       '12/04/2020', '12/04/2020', '12/04/2020', '12/04/2020',\n",
       "       '12/04/2020', '12/04/2020', '12/04/2020', '12/04/2020',\n",
       "       '12/04/2020', '12/04/2020', '12/04/2020', '12/04/2020',\n",
       "       '13/04/2020', '13/04/2020', '13/04/2020', '13/04/2020',\n",
       "       '13/04/2020', '13/04/2020', '13/04/2020', '13/04/2020',\n",
       "       '14/04/2020', '14/04/2020', '14/04/2020', '14/04/2020',\n",
       "       '14/04/2020', '14/04/2020', '14/04/2020', '14/04/2020',\n",
       "       '14/04/2020', '14/04/2020', '14/04/2020', '14/04/2020',\n",
       "       '14/04/2020', '15/04/2020', '15/04/2020', '15/04/2020',\n",
       "       '15/04/2020', '15/04/2020', '15/04/2020', '15/04/2020',\n",
       "       '15/04/2020', '15/04/2020', '15/04/2020', '15/04/2020',\n",
       "       '16/04/2020', '16/04/2020', '16/04/2020', '17/04/2020',\n",
       "       '17/04/2020', '17/04/2020', '17/04/2020', '17/04/2020',\n",
       "       '17/04/2020', '18/04/2020', '18/04/2020', '18/04/2020',\n",
       "       '18/04/2020', '18/04/2020', '18/04/2020', '18/04/2020',\n",
       "       '18/04/2020', '18/04/2020', '18/04/2020', '18/04/2020',\n",
       "       '18/04/2020', '18/04/2020', '18/04/2020', '18/04/2020',\n",
       "       '18/04/2020', '18/04/2020', '19/04/2020', '19/04/2020',\n",
       "       '19/04/2020', '19/04/2020', '19/04/2020', '19/04/2020',\n",
       "       '19/04/2020', '19/04/2020', '19/04/2020', '20/04/2020',\n",
       "       '21/04/2020', '21/04/2020', '21/04/2020', '21/04/2020',\n",
       "       '21/04/2020', '21/04/2020', '21/04/2020', '21/04/2020',\n",
       "       '21/04/2020', '21/04/2020', '21/04/2020', '21/04/2020',\n",
       "       '21/04/2020', '21/04/2020', '21/04/2020', '21/04/2020',\n",
       "       '21/04/2020', '21/04/2020', '22/04/2020', '22/04/2020',\n",
       "       '23/04/2020', '23/04/2020', '23/04/2020', '23/04/2020',\n",
       "       '23/04/2020', '23/04/2020', '23/04/2020', '23/04/2020',\n",
       "       '23/04/2020', '23/04/2020', '23/04/2020', '23/04/2020',\n",
       "       '23/04/2020', '23/04/2020'], dtype=object)"
      ]
     },
     "execution_count": 61,
     "metadata": {},
     "output_type": "execute_result"
    }
   ],
   "source": [
    "print(len(np.unique(df_raw_data_2['slno'])), len(df_raw_data_2['slno']))\n",
    "df_raw_data_2.loc[df_raw_data_2['state'] == 'Karnataka', 'date'].to_numpy()"
   ]
  },
  {
   "cell_type": "code",
   "execution_count": 86,
   "metadata": {},
   "outputs": [
    {
     "data": {
      "text/html": [
       "<div>\n",
       "<style scoped>\n",
       "    .dataframe tbody tr th:only-of-type {\n",
       "        vertical-align: middle;\n",
       "    }\n",
       "\n",
       "    .dataframe tbody tr th {\n",
       "        vertical-align: top;\n",
       "    }\n",
       "\n",
       "    .dataframe thead th {\n",
       "        text-align: right;\n",
       "    }\n",
       "</style>\n",
       "<table border=\"1\" class=\"dataframe\">\n",
       "  <thead>\n",
       "    <tr style=\"text-align: right;\">\n",
       "      <th></th>\n",
       "      <th>agebracket</th>\n",
       "      <th>backupnotes</th>\n",
       "      <th>contractedfromwhichpatientsuspected</th>\n",
       "      <th>currentstatus</th>\n",
       "      <th>dateannounced</th>\n",
       "      <th>detectedcity</th>\n",
       "      <th>detecteddistrict</th>\n",
       "      <th>detectedstate</th>\n",
       "      <th>estimatedonsetdate</th>\n",
       "      <th>gender</th>\n",
       "      <th>nationality</th>\n",
       "      <th>notes</th>\n",
       "      <th>patientnumber</th>\n",
       "      <th>source1</th>\n",
       "      <th>source2</th>\n",
       "      <th>source3</th>\n",
       "      <th>statecode</th>\n",
       "      <th>statepatientnumber</th>\n",
       "      <th>statuschangedate</th>\n",
       "      <th>typeoftransmission</th>\n",
       "    </tr>\n",
       "  </thead>\n",
       "  <tbody>\n",
       "    <tr>\n",
       "      <th>41</th>\n",
       "      <td>46</td>\n",
       "      <td>Mindtree Employee, Returned from US via London</td>\n",
       "      <td></td>\n",
       "      <td>Recovered</td>\n",
       "      <td>09/03/2020</td>\n",
       "      <td>Bengaluru</td>\n",
       "      <td>Bengaluru</td>\n",
       "      <td>Karnataka</td>\n",
       "      <td></td>\n",
       "      <td>M</td>\n",
       "      <td>India</td>\n",
       "      <td>Travelled from US via London, Mindtree Employee</td>\n",
       "      <td>42</td>\n",
       "      <td>https://www.indiatoday.in/india/story/tracking...</td>\n",
       "      <td></td>\n",
       "      <td></td>\n",
       "      <td>KA</td>\n",
       "      <td>KA-P1</td>\n",
       "      <td>27/03/2020</td>\n",
       "      <td>Imported</td>\n",
       "    </tr>\n",
       "    <tr>\n",
       "      <th>50</th>\n",
       "      <td>40</td>\n",
       "      <td>Dell Employee, Returned from Austin on Feb 28</td>\n",
       "      <td></td>\n",
       "      <td>Recovered</td>\n",
       "      <td>10/03/2020</td>\n",
       "      <td>Bengaluru</td>\n",
       "      <td>Bengaluru</td>\n",
       "      <td>Karnataka</td>\n",
       "      <td></td>\n",
       "      <td>M</td>\n",
       "      <td>India</td>\n",
       "      <td>Travelled from US on Feb 28, Dell Employee</td>\n",
       "      <td>51</td>\n",
       "      <td>https://www.indiatoday.in/india/story/coronavi...</td>\n",
       "      <td></td>\n",
       "      <td></td>\n",
       "      <td>KA</td>\n",
       "      <td>KA-P2</td>\n",
       "      <td>24/03/2020</td>\n",
       "      <td>Imported</td>\n",
       "    </tr>\n",
       "    <tr>\n",
       "      <th>51</th>\n",
       "      <td>47</td>\n",
       "      <td>Wife of P51</td>\n",
       "      <td>P51</td>\n",
       "      <td>Recovered</td>\n",
       "      <td>10/03/2020</td>\n",
       "      <td>Bengaluru</td>\n",
       "      <td>Bengaluru</td>\n",
       "      <td>Karnataka</td>\n",
       "      <td></td>\n",
       "      <td>F</td>\n",
       "      <td>India</td>\n",
       "      <td>Wife of P51</td>\n",
       "      <td>52</td>\n",
       "      <td>https://www.indiatoday.in/india/story/coronavi...</td>\n",
       "      <td>https://www.newindianexpress.com/states/karnat...</td>\n",
       "      <td></td>\n",
       "      <td>KA</td>\n",
       "      <td>KA-P3</td>\n",
       "      <td>27/03/2020</td>\n",
       "      <td>Local</td>\n",
       "    </tr>\n",
       "    <tr>\n",
       "      <th>52</th>\n",
       "      <td>13</td>\n",
       "      <td>Daughter of P51 and P52</td>\n",
       "      <td>P51</td>\n",
       "      <td>Recovered</td>\n",
       "      <td>10/03/2020</td>\n",
       "      <td>Bengaluru</td>\n",
       "      <td>Bengaluru</td>\n",
       "      <td>Karnataka</td>\n",
       "      <td></td>\n",
       "      <td>F</td>\n",
       "      <td>India</td>\n",
       "      <td>Daughter of P51 and P52</td>\n",
       "      <td>53</td>\n",
       "      <td>https://www.indiatoday.in/india/story/coronavi...</td>\n",
       "      <td></td>\n",
       "      <td></td>\n",
       "      <td>KA</td>\n",
       "      <td>KA-P4</td>\n",
       "      <td>24/03/2020</td>\n",
       "      <td>Local</td>\n",
       "    </tr>\n",
       "    <tr>\n",
       "      <th>73</th>\n",
       "      <td>26</td>\n",
       "      <td>Google Employee, Came from Greece to Mumbai on...</td>\n",
       "      <td></td>\n",
       "      <td>Recovered</td>\n",
       "      <td>12/03/2020</td>\n",
       "      <td>Bengaluru</td>\n",
       "      <td>Bengaluru</td>\n",
       "      <td>Karnataka</td>\n",
       "      <td></td>\n",
       "      <td>M</td>\n",
       "      <td>India</td>\n",
       "      <td>Travelled from Greece to Mumbai on March 6th, ...</td>\n",
       "      <td>73</td>\n",
       "      <td>https://www.indiatoday.in/india/story/tracking...</td>\n",
       "      <td>https://www.newindianexpress.com/states/karnat...</td>\n",
       "      <td></td>\n",
       "      <td>KA</td>\n",
       "      <td>KA-P5</td>\n",
       "      <td>20/03/2020</td>\n",
       "      <td>Imported</td>\n",
       "    </tr>\n",
       "    <tr>\n",
       "      <th>...</th>\n",
       "      <td>...</td>\n",
       "      <td>...</td>\n",
       "      <td>...</td>\n",
       "      <td>...</td>\n",
       "      <td>...</td>\n",
       "      <td>...</td>\n",
       "      <td>...</td>\n",
       "      <td>...</td>\n",
       "      <td>...</td>\n",
       "      <td>...</td>\n",
       "      <td>...</td>\n",
       "      <td>...</td>\n",
       "      <td>...</td>\n",
       "      <td>...</td>\n",
       "      <td>...</td>\n",
       "      <td>...</td>\n",
       "      <td>...</td>\n",
       "      <td>...</td>\n",
       "      <td>...</td>\n",
       "      <td>...</td>\n",
       "    </tr>\n",
       "    <tr>\n",
       "      <th>23154</th>\n",
       "      <td>26</td>\n",
       "      <td></td>\n",
       "      <td></td>\n",
       "      <td>Hospitalized</td>\n",
       "      <td>24/04/2020</td>\n",
       "      <td></td>\n",
       "      <td>Bengaluru</td>\n",
       "      <td>Karnataka</td>\n",
       "      <td></td>\n",
       "      <td>M</td>\n",
       "      <td></td>\n",
       "      <td>Contact of KA-P419</td>\n",
       "      <td>23155</td>\n",
       "      <td>https://t.me/Karnataka_KoViD19_Broadcast/2413</td>\n",
       "      <td></td>\n",
       "      <td></td>\n",
       "      <td>KA</td>\n",
       "      <td>KA-P458</td>\n",
       "      <td>24/04/2020</td>\n",
       "      <td></td>\n",
       "    </tr>\n",
       "    <tr>\n",
       "      <th>23155</th>\n",
       "      <td>35</td>\n",
       "      <td></td>\n",
       "      <td></td>\n",
       "      <td>Hospitalized</td>\n",
       "      <td>24/04/2020</td>\n",
       "      <td></td>\n",
       "      <td>Bengaluru</td>\n",
       "      <td>Karnataka</td>\n",
       "      <td></td>\n",
       "      <td>M</td>\n",
       "      <td></td>\n",
       "      <td>Contact of KA-P419</td>\n",
       "      <td>23156</td>\n",
       "      <td>https://t.me/Karnataka_KoViD19_Broadcast/2413</td>\n",
       "      <td></td>\n",
       "      <td></td>\n",
       "      <td>KA</td>\n",
       "      <td>KA-P459</td>\n",
       "      <td>24/04/2020</td>\n",
       "      <td></td>\n",
       "    </tr>\n",
       "    <tr>\n",
       "      <th>23156</th>\n",
       "      <td>31</td>\n",
       "      <td></td>\n",
       "      <td></td>\n",
       "      <td>Hospitalized</td>\n",
       "      <td>24/04/2020</td>\n",
       "      <td></td>\n",
       "      <td>Bengaluru</td>\n",
       "      <td>Karnataka</td>\n",
       "      <td></td>\n",
       "      <td>M</td>\n",
       "      <td></td>\n",
       "      <td>Contact of KA-P419</td>\n",
       "      <td>23157</td>\n",
       "      <td>https://t.me/Karnataka_KoViD19_Broadcast/2413</td>\n",
       "      <td></td>\n",
       "      <td></td>\n",
       "      <td>KA</td>\n",
       "      <td>KA-P460</td>\n",
       "      <td>24/04/2020</td>\n",
       "      <td></td>\n",
       "    </tr>\n",
       "    <tr>\n",
       "      <th>23157</th>\n",
       "      <td>32</td>\n",
       "      <td></td>\n",
       "      <td></td>\n",
       "      <td>Hospitalized</td>\n",
       "      <td>24/04/2020</td>\n",
       "      <td></td>\n",
       "      <td>Bengaluru</td>\n",
       "      <td>Karnataka</td>\n",
       "      <td></td>\n",
       "      <td>M</td>\n",
       "      <td></td>\n",
       "      <td>Contact of KA-P419</td>\n",
       "      <td>23158</td>\n",
       "      <td>https://t.me/Karnataka_KoViD19_Broadcast/2413</td>\n",
       "      <td></td>\n",
       "      <td></td>\n",
       "      <td>KA</td>\n",
       "      <td>KA-P461</td>\n",
       "      <td>24/04/2020</td>\n",
       "      <td></td>\n",
       "    </tr>\n",
       "    <tr>\n",
       "      <th>23158</th>\n",
       "      <td>24</td>\n",
       "      <td></td>\n",
       "      <td></td>\n",
       "      <td>Hospitalized</td>\n",
       "      <td>24/04/2020</td>\n",
       "      <td></td>\n",
       "      <td>Bengaluru</td>\n",
       "      <td>Karnataka</td>\n",
       "      <td></td>\n",
       "      <td>M</td>\n",
       "      <td></td>\n",
       "      <td>Contact of KA-P419</td>\n",
       "      <td>23159</td>\n",
       "      <td>https://t.me/Karnataka_KoViD19_Broadcast/2413</td>\n",
       "      <td></td>\n",
       "      <td></td>\n",
       "      <td>KA</td>\n",
       "      <td>KA-P462</td>\n",
       "      <td>24/04/2020</td>\n",
       "      <td></td>\n",
       "    </tr>\n",
       "  </tbody>\n",
       "</table>\n",
       "<p>123 rows × 20 columns</p>\n",
       "</div>"
      ],
      "text/plain": [
       "      agebracket                                        backupnotes  \\\n",
       "41            46     Mindtree Employee, Returned from US via London   \n",
       "50            40      Dell Employee, Returned from Austin on Feb 28   \n",
       "51            47                                        Wife of P51   \n",
       "52            13                            Daughter of P51 and P52   \n",
       "73            26  Google Employee, Came from Greece to Mumbai on...   \n",
       "...          ...                                                ...   \n",
       "23154         26                                                      \n",
       "23155         35                                                      \n",
       "23156         31                                                      \n",
       "23157         32                                                      \n",
       "23158         24                                                      \n",
       "\n",
       "      contractedfromwhichpatientsuspected currentstatus dateannounced  \\\n",
       "41                                            Recovered    09/03/2020   \n",
       "50                                            Recovered    10/03/2020   \n",
       "51                                    P51     Recovered    10/03/2020   \n",
       "52                                    P51     Recovered    10/03/2020   \n",
       "73                                            Recovered    12/03/2020   \n",
       "...                                   ...           ...           ...   \n",
       "23154                                      Hospitalized    24/04/2020   \n",
       "23155                                      Hospitalized    24/04/2020   \n",
       "23156                                      Hospitalized    24/04/2020   \n",
       "23157                                      Hospitalized    24/04/2020   \n",
       "23158                                      Hospitalized    24/04/2020   \n",
       "\n",
       "      detectedcity detecteddistrict detectedstate estimatedonsetdate gender  \\\n",
       "41       Bengaluru        Bengaluru     Karnataka                         M   \n",
       "50       Bengaluru        Bengaluru     Karnataka                         M   \n",
       "51       Bengaluru        Bengaluru     Karnataka                         F   \n",
       "52       Bengaluru        Bengaluru     Karnataka                         F   \n",
       "73       Bengaluru        Bengaluru     Karnataka                         M   \n",
       "...            ...              ...           ...                ...    ...   \n",
       "23154                     Bengaluru     Karnataka                         M   \n",
       "23155                     Bengaluru     Karnataka                         M   \n",
       "23156                     Bengaluru     Karnataka                         M   \n",
       "23157                     Bengaluru     Karnataka                         M   \n",
       "23158                     Bengaluru     Karnataka                         M   \n",
       "\n",
       "      nationality                                              notes  \\\n",
       "41          India    Travelled from US via London, Mindtree Employee   \n",
       "50          India         Travelled from US on Feb 28, Dell Employee   \n",
       "51          India                                        Wife of P51   \n",
       "52          India                            Daughter of P51 and P52   \n",
       "73          India  Travelled from Greece to Mumbai on March 6th, ...   \n",
       "...           ...                                                ...   \n",
       "23154                                             Contact of KA-P419   \n",
       "23155                                             Contact of KA-P419   \n",
       "23156                                             Contact of KA-P419   \n",
       "23157                                             Contact of KA-P419   \n",
       "23158                                             Contact of KA-P419   \n",
       "\n",
       "      patientnumber                                            source1  \\\n",
       "41               42  https://www.indiatoday.in/india/story/tracking...   \n",
       "50               51  https://www.indiatoday.in/india/story/coronavi...   \n",
       "51               52  https://www.indiatoday.in/india/story/coronavi...   \n",
       "52               53  https://www.indiatoday.in/india/story/coronavi...   \n",
       "73               73  https://www.indiatoday.in/india/story/tracking...   \n",
       "...             ...                                                ...   \n",
       "23154         23155      https://t.me/Karnataka_KoViD19_Broadcast/2413   \n",
       "23155         23156      https://t.me/Karnataka_KoViD19_Broadcast/2413   \n",
       "23156         23157      https://t.me/Karnataka_KoViD19_Broadcast/2413   \n",
       "23157         23158      https://t.me/Karnataka_KoViD19_Broadcast/2413   \n",
       "23158         23159      https://t.me/Karnataka_KoViD19_Broadcast/2413   \n",
       "\n",
       "                                                 source2 source3 statecode  \\\n",
       "41                                                                      KA   \n",
       "50                                                                      KA   \n",
       "51     https://www.newindianexpress.com/states/karnat...                KA   \n",
       "52                                                                      KA   \n",
       "73     https://www.newindianexpress.com/states/karnat...                KA   \n",
       "...                                                  ...     ...       ...   \n",
       "23154                                                                   KA   \n",
       "23155                                                                   KA   \n",
       "23156                                                                   KA   \n",
       "23157                                                                   KA   \n",
       "23158                                                                   KA   \n",
       "\n",
       "      statepatientnumber statuschangedate typeoftransmission  \n",
       "41                 KA-P1       27/03/2020           Imported  \n",
       "50                 KA-P2       24/03/2020           Imported  \n",
       "51                 KA-P3       27/03/2020              Local  \n",
       "52                 KA-P4       24/03/2020              Local  \n",
       "73                 KA-P5       20/03/2020           Imported  \n",
       "...                  ...              ...                ...  \n",
       "23154            KA-P458       24/04/2020                     \n",
       "23155            KA-P459       24/04/2020                     \n",
       "23156            KA-P460       24/04/2020                     \n",
       "23157            KA-P461       24/04/2020                     \n",
       "23158            KA-P462       24/04/2020                     \n",
       "\n",
       "[123 rows x 20 columns]"
      ]
     },
     "execution_count": 86,
     "metadata": {},
     "output_type": "execute_result"
    }
   ],
   "source": [
    "df_raw_data_1 = df_raw_data_1[df_raw_data_1['detecteddistrict'] == 'Bengaluru']\n",
    "df_raw_data_1['dateannounced'] = pd.to_datetime(df_raw_data_1['dateannounced'], format='%d/%m/%Y')"
   ]
  },
  {
   "cell_type": "code",
   "execution_count": 29,
   "metadata": {},
   "outputs": [
    {
     "name": "stdout",
     "output_type": "stream",
     "text": [
      "131\n",
      "17\n",
      "148\n"
     ]
    }
   ],
   "source": [
    "print(sum(np.logical_and(df_raw_data_2['state'] == 'Karnataka', df_raw_data_2['patientstatus'] == 'Recovered')))\n",
    "print(sum(np.logical_and(df_raw_data_2['state'] == 'Karnataka', df_raw_data_2['patientstatus'] == 'Deceased')))\n",
    "print(sum(df_raw_data_2['state'] == 'Karnataka'))"
   ]
  },
  {
   "cell_type": "code",
   "execution_count": 13,
   "metadata": {},
   "outputs": [],
   "source": [
    "# Parse travel_history.json file\n",
    "# Create dataframe for travel history\n",
    "data = requests.get('https://api.covid19india.org/travel_history.json').json()\n",
    "df_travel_history = pd.DataFrame.from_dict(data['travel_history'])"
   ]
  },
  {
   "cell_type": "code",
   "execution_count": 58,
   "metadata": {},
   "outputs": [],
   "source": [
    "# Read states time series data from rootnet.in\n",
    "data = requests.get('https://api.rootnet.in/covid19-in/stats/history').json()\n",
    "columns = ['confirmedCasesForeign', 'confirmedCasesIndian', 'deaths', 'discharged', 'loc', 'date']\n",
    "df_state_time_series = pd.DataFrame(columns=columns)\n",
    "for i, data_json in enumerate(data['data']):\n",
    "    df_temp = pd.DataFrame.from_dict(data['data'][i]['regional'])\n",
    "    df_temp['date'] = data['data'][i]['day']\n",
    "    df_state_time_series = pd.concat([df_state_time_series, df_temp])\n",
    "\n",
    "df_state_time_series['confirmedCases'] = df_state_time_series['confirmedCasesForeign'] + df_state_time_series['confirmedCasesIndian']\n",
    "df_state_time_series['date'] = pd.to_datetime(df_state_time_series['date'])\n",
    "df_state_time_series.columns = [x if x != 'loc' else 'state' for x in df_state_time_series.columns]"
   ]
  },
  {
   "cell_type": "code",
   "execution_count": 36,
   "metadata": {},
   "outputs": [],
   "source": [
    "data = requests.get('https://api.covid19india.org/raw_data.json').json()\n",
    "df_raw_data = pd.DataFrame.from_dict(data['raw_data'])\n",
    "# df_raw_data = pd.read_csv('https://api.covid19india.org/csv/latest/raw_data.csv')"
   ]
  },
  {
   "cell_type": "code",
   "execution_count": 16,
   "metadata": {},
   "outputs": [
    {
     "data": {
      "text/plain": [
       "41          Recovered\n",
       "50          Recovered\n",
       "51          Recovered\n",
       "52          Recovered\n",
       "73          Recovered\n",
       "             ...     \n",
       "21469    Hospitalized\n",
       "21470    Hospitalized\n",
       "21471    Hospitalized\n",
       "21472    Hospitalized\n",
       "21473    Hospitalized\n",
       "Name: currentstatus, Length: 443, dtype: object"
      ]
     },
     "execution_count": 16,
     "metadata": {},
     "output_type": "execute_result"
    }
   ],
   "source": [
    "df_raw_data[df_raw_data['detectedstate'] == 'Karnataka']['currentstatus']"
   ]
  },
  {
   "cell_type": "code",
   "execution_count": 17,
   "metadata": {},
   "outputs": [
    {
     "data": {
      "text/plain": [
       "array(['Deceased', 'Hospitalized', 'Recovered'], dtype=object)"
      ]
     },
     "execution_count": 17,
     "metadata": {},
     "output_type": "execute_result"
    }
   ],
   "source": [
    "np.unique(df_raw_data[df_raw_data['detectedstate'] == 'Karnataka']['currentstatus'])"
   ]
  },
  {
   "cell_type": "code",
   "execution_count": 18,
   "metadata": {},
   "outputs": [
    {
     "data": {
      "text/plain": [
       "60"
      ]
     },
     "execution_count": 18,
     "metadata": {},
     "output_type": "execute_result"
    }
   ],
   "source": [
    "len(df_raw_data[np.logical_and(df_raw_data['detectedstate'] == 'Karnataka', df_raw_data['currentstatus'] == 'Recovered')])"
   ]
  },
  {
   "cell_type": "code",
   "execution_count": 19,
   "metadata": {},
   "outputs": [
    {
     "data": {
      "text/plain": [
       "372"
      ]
     },
     "execution_count": 19,
     "metadata": {},
     "output_type": "execute_result"
    }
   ],
   "source": [
    "len(df_raw_data[np.logical_and(df_raw_data['detectedstate'] == 'Karnataka', df_raw_data['currentstatus'] == 'Hospitalized')])"
   ]
  },
  {
   "cell_type": "code",
   "execution_count": 21,
   "metadata": {},
   "outputs": [
    {
     "data": {
      "text/plain": [
       "11"
      ]
     },
     "execution_count": 21,
     "metadata": {},
     "output_type": "execute_result"
    }
   ],
   "source": [
    "len(df_raw_data[np.logical_and(df_raw_data['detectedstate'] == 'Karnataka', df_raw_data['currentstatus'] == 'Deceased')])"
   ]
  },
  {
   "cell_type": "code",
   "execution_count": 22,
   "metadata": {},
   "outputs": [
    {
     "data": {
      "text/plain": [
       "27"
      ]
     },
     "execution_count": 22,
     "metadata": {},
     "output_type": "execute_result"
    }
   ],
   "source": [
    "len(df_raw_data[np.logical_and(df_raw_data['detecteddistrict'] == 'Bengaluru', df_raw_data['currentstatus'] == 'Recovered')])"
   ]
  },
  {
   "cell_type": "code",
   "execution_count": 10,
   "metadata": {},
   "outputs": [
    {
     "data": {
      "text/plain": [
       "Index(['agebracket', 'backupnotes', 'contractedfromwhichpatientsuspected',\n",
       "       'currentstatus', 'dateannounced', 'detectedcity', 'detecteddistrict',\n",
       "       'detectedstate', 'estimatedonsetdate', 'gender', 'nationality', 'notes',\n",
       "       'patientnumber', 'source1', 'source2', 'source3', 'statecode',\n",
       "       'statepatientnumber', 'statuschangedate', 'typeoftransmission',\n",
       "       '_cyevm'],\n",
       "      dtype='object')"
      ]
     },
     "execution_count": 10,
     "metadata": {},
     "output_type": "execute_result"
    }
   ],
   "source": [
    "df_raw_data.columns"
   ]
  },
  {
   "cell_type": "code",
   "execution_count": 51,
   "metadata": {},
   "outputs": [],
   "source": [
    "dataframes = get_rootnet_api_data()"
   ]
  },
  {
   "cell_type": "code",
   "execution_count": 52,
   "metadata": {},
   "outputs": [
    {
     "data": {
      "text/plain": [
       "dict_keys(['df_state_time_series', 'df_statewise_beds', 'df_medical_colleges'])"
      ]
     },
     "execution_count": 52,
     "metadata": {},
     "output_type": "execute_result"
    }
   ],
   "source": [
    "dataframes.keys()"
   ]
  },
  {
   "cell_type": "code",
   "execution_count": 55,
   "metadata": {},
   "outputs": [
    {
     "data": {
      "text/html": [
       "<div>\n",
       "<style scoped>\n",
       "    .dataframe tbody tr th:only-of-type {\n",
       "        vertical-align: middle;\n",
       "    }\n",
       "\n",
       "    .dataframe tbody tr th {\n",
       "        vertical-align: top;\n",
       "    }\n",
       "\n",
       "    .dataframe thead th {\n",
       "        text-align: right;\n",
       "    }\n",
       "</style>\n",
       "<table border=\"1\" class=\"dataframe\">\n",
       "  <thead>\n",
       "    <tr style=\"text-align: right;\">\n",
       "      <th></th>\n",
       "      <th>state</th>\n",
       "      <th>name</th>\n",
       "      <th>city</th>\n",
       "      <th>ownership</th>\n",
       "      <th>admissionCapacity</th>\n",
       "      <th>hospitalBeds</th>\n",
       "    </tr>\n",
       "  </thead>\n",
       "  <tbody>\n",
       "    <tr>\n",
       "      <th>0</th>\n",
       "      <td>A &amp; N Islands</td>\n",
       "      <td>Andaman &amp; Nicobar Islands Insitute of Medical ...</td>\n",
       "      <td>Port Blair</td>\n",
       "      <td>Govt.</td>\n",
       "      <td>100</td>\n",
       "      <td>460</td>\n",
       "    </tr>\n",
       "    <tr>\n",
       "      <th>1</th>\n",
       "      <td>Andhra Pradesh</td>\n",
       "      <td>ACSR Government Medical College Nellore</td>\n",
       "      <td>Nellore</td>\n",
       "      <td>Govt.</td>\n",
       "      <td>150</td>\n",
       "      <td>750</td>\n",
       "    </tr>\n",
       "    <tr>\n",
       "      <th>2</th>\n",
       "      <td>Andhra Pradesh</td>\n",
       "      <td>Alluri Sitaram Raju Academy of Medical Science...</td>\n",
       "      <td>Eluru</td>\n",
       "      <td>Trust</td>\n",
       "      <td>150</td>\n",
       "      <td>1070</td>\n",
       "    </tr>\n",
       "    <tr>\n",
       "      <th>3</th>\n",
       "      <td>Andhra Pradesh</td>\n",
       "      <td>Andhra Medical College, Visakhapatnam</td>\n",
       "      <td>Visakhapatnam</td>\n",
       "      <td>Govt.</td>\n",
       "      <td>200</td>\n",
       "      <td>2017</td>\n",
       "    </tr>\n",
       "    <tr>\n",
       "      <th>4</th>\n",
       "      <td>Andhra Pradesh</td>\n",
       "      <td>Apollo Institute of Medical Sciences and Resea...</td>\n",
       "      <td>Chittoor</td>\n",
       "      <td>Society</td>\n",
       "      <td>150</td>\n",
       "      <td>0</td>\n",
       "    </tr>\n",
       "    <tr>\n",
       "      <th>...</th>\n",
       "      <td>...</td>\n",
       "      <td>...</td>\n",
       "      <td>...</td>\n",
       "      <td>...</td>\n",
       "      <td>...</td>\n",
       "      <td>...</td>\n",
       "    </tr>\n",
       "    <tr>\n",
       "      <th>495</th>\n",
       "      <td>West Bengal</td>\n",
       "      <td>Midnapore Medical College, Midnapore</td>\n",
       "      <td>Midnapore</td>\n",
       "      <td>Govt</td>\n",
       "      <td>150</td>\n",
       "      <td>740</td>\n",
       "    </tr>\n",
       "    <tr>\n",
       "      <th>496</th>\n",
       "      <td>West Bengal</td>\n",
       "      <td>Murshidabad Medical College &amp; Hospitals, Mursh...</td>\n",
       "      <td>Murshidabad</td>\n",
       "      <td>Govt</td>\n",
       "      <td>100</td>\n",
       "      <td>820</td>\n",
       "    </tr>\n",
       "    <tr>\n",
       "      <th>497</th>\n",
       "      <td>West Bengal</td>\n",
       "      <td>Nilratan Sircar Medical College, Kolkata</td>\n",
       "      <td>Kolkata</td>\n",
       "      <td>Govt</td>\n",
       "      <td>250</td>\n",
       "      <td>1890</td>\n",
       "    </tr>\n",
       "    <tr>\n",
       "      <th>498</th>\n",
       "      <td>West Bengal</td>\n",
       "      <td>North Bengal Medical College, Darjeeling Siliguri</td>\n",
       "      <td>Siliguri</td>\n",
       "      <td>Govt</td>\n",
       "      <td>150</td>\n",
       "      <td>599</td>\n",
       "    </tr>\n",
       "    <tr>\n",
       "      <th>499</th>\n",
       "      <td>West Bengal</td>\n",
       "      <td>RG Kar Medical College, Kolkata</td>\n",
       "      <td>Kolkata</td>\n",
       "      <td>Govt</td>\n",
       "      <td>200</td>\n",
       "      <td>1210</td>\n",
       "    </tr>\n",
       "  </tbody>\n",
       "</table>\n",
       "<p>500 rows × 6 columns</p>\n",
       "</div>"
      ],
      "text/plain": [
       "              state                                               name  \\\n",
       "0     A & N Islands  Andaman & Nicobar Islands Insitute of Medical ...   \n",
       "1    Andhra Pradesh            ACSR Government Medical College Nellore   \n",
       "2    Andhra Pradesh  Alluri Sitaram Raju Academy of Medical Science...   \n",
       "3    Andhra Pradesh              Andhra Medical College, Visakhapatnam   \n",
       "4    Andhra Pradesh  Apollo Institute of Medical Sciences and Resea...   \n",
       "..              ...                                                ...   \n",
       "495     West Bengal               Midnapore Medical College, Midnapore   \n",
       "496     West Bengal  Murshidabad Medical College & Hospitals, Mursh...   \n",
       "497     West Bengal           Nilratan Sircar Medical College, Kolkata   \n",
       "498     West Bengal  North Bengal Medical College, Darjeeling Siliguri   \n",
       "499     West Bengal                    RG Kar Medical College, Kolkata   \n",
       "\n",
       "              city ownership  admissionCapacity  hospitalBeds  \n",
       "0       Port Blair     Govt.                100           460  \n",
       "1          Nellore     Govt.                150           750  \n",
       "2            Eluru     Trust                150          1070  \n",
       "3    Visakhapatnam     Govt.                200          2017  \n",
       "4         Chittoor   Society                150             0  \n",
       "..             ...       ...                ...           ...  \n",
       "495      Midnapore      Govt                150           740  \n",
       "496    Murshidabad      Govt                100           820  \n",
       "497        Kolkata      Govt                250          1890  \n",
       "498       Siliguri      Govt                150           599  \n",
       "499        Kolkata      Govt                200          1210  \n",
       "\n",
       "[500 rows x 6 columns]"
      ]
     },
     "execution_count": 55,
     "metadata": {},
     "output_type": "execute_result"
    }
   ],
   "source": [
    "dataframes['df_medical_colleges']"
   ]
  },
  {
   "cell_type": "code",
   "execution_count": null,
   "metadata": {},
   "outputs": [],
   "source": []
  }
 ],
 "metadata": {
  "kernelspec": {
   "display_name": "Python (covid)",
   "language": "python",
   "name": "covid"
  },
  "language_info": {
   "codemirror_mode": {
    "name": "ipython",
    "version": 3
   },
   "file_extension": ".py",
   "mimetype": "text/x-python",
   "name": "python",
   "nbconvert_exporter": "python",
   "pygments_lexer": "ipython3",
   "version": "3.8.2"
  }
 },
 "nbformat": 4,
 "nbformat_minor": 4
}
