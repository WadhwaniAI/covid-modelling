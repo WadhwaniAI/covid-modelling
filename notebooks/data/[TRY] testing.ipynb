{
 "cells": [
  {
   "cell_type": "code",
   "execution_count": null,
   "metadata": {},
   "outputs": [],
   "source": [
    "%load_ext autoreload\n",
    "%autoreload 2"
   ]
  },
  {
   "cell_type": "code",
   "execution_count": null,
   "metadata": {},
   "outputs": [],
   "source": [
    "import sys\n",
    "sys.path.append('../../')\n",
    "\n",
    "import requests\n",
    "import pandas as pd\n",
    "import numpy as np\n",
    "import matplotlib.pyplot as plt\n",
    "import copy\n",
    "import datetime\n",
    "\n",
    "from data.dataloader import AthenaLoader, Covid19IndiaLoader\n",
    "from data.processing.processing import get_dataframes_cached, get_custom_data_from_db"
   ]
  },
  {
   "cell_type": "code",
   "execution_count": null,
   "metadata": {},
   "outputs": [],
   "source": [
    "dataframes = get_dataframes_cached(loader_class=AthenaLoader)"
   ]
  },
  {
   "cell_type": "code",
   "execution_count": null,
   "metadata": {},
   "outputs": [],
   "source": [
    "df_testing = copy.copy(dataframes['testing_summary'])\n",
    "del df_testing['partition_0']\n",
    "del df_testing['new']\n",
    "\n",
    "df_testing = df_testing.loc[df_testing['district'] == 'mumbai', :]\n",
    "\n",
    "df_testing.dropna(axis=0, how='any', inplace=True)\n",
    "df_testing['date'] = pd.to_datetime(df_testing['date'])\n",
    "df_testing = df_testing.infer_objects()\n",
    "df_testing['positives'] = df_testing['positives'].astype('int64')\n",
    "df_testing['tests'] = df_testing['tests'].astype('int64')\n",
    "df_testing['tpr'] = (df_testing['positives']*100/df_testing['tests'])"
   ]
  },
  {
   "cell_type": "code",
   "execution_count": null,
   "metadata": {},
   "outputs": [],
   "source": [
    "df_testing.reset_index(inplace=True)"
   ]
  },
  {
   "cell_type": "code",
   "execution_count": null,
   "metadata": {},
   "outputs": [],
   "source": [
    "fig, axs = plt.subplots(figsize=(18, 12), nrows=2)\n",
    "axs[0].plot(df_testing['date'], df_testing['tests'], '--o', color='C0', label='Tests (Actual)')\n",
    "axs[0].plot(df_testing['date'], df_testing['tests'].rolling(7, center=True).mean(), '-', color='C0', label='Tests (RA)')\n",
    "axs[0].plot(df_testing['date'], df_testing['positives'], '--o', color='orange', label='Positives (Actual)')\n",
    "axs[0].plot(df_testing['date'], df_testing['positives'].rolling(7, center=True).mean(), '-', color='orange', label='Positives (RA)')\n",
    "axs[0].axvline(x=datetime.datetime.strptime('2020-06-01', '%Y-%m-%d'), ls=':')\n",
    "axs[0].legend()\n",
    "axs[0].grid()\n",
    "axs[1].plot(df_testing['date'], df_testing['tpr'], '--o', color='red', label='TPR (Actual)')\n",
    "axs[1].plot(df_testing['date'], df_testing['tpr'].rolling(7, center=True).mean(), '-', color='red', label='TPR (RA)')\n",
    "axs[1].axvline(x=datetime.datetime.strptime('2020-06-01', '%Y-%m-%d'), ls=':')\n",
    "axs[1].legend()\n",
    "axs[1].grid()"
   ]
  },
  {
   "cell_type": "code",
   "execution_count": null,
   "metadata": {},
   "outputs": [],
   "source": [
    "df_testing_roll = copy.copy(df_testing)\n",
    "df_testing_roll['tests'] = df_testing_roll['tests'].rolling(7, center=True).mean()\n",
    "df_testing_roll['positives'] = df_testing_roll['positives'].rolling(7, center=True).mean()\n",
    "df_testing_roll['tpr'] = df_testing_roll['tpr'].rolling(7, center=True).mean()\n",
    "df_testing_roll.dropna(axis=0, how='any', inplace=True)\n",
    "df_testing_roll = df_testing_roll.set_index('date')"
   ]
  },
  {
   "cell_type": "code",
   "execution_count": null,
   "metadata": {},
   "outputs": [],
   "source": [
    "fig, ax = plt.subplots(figsize=(18, 12))\n",
    "ax.scatter(df_testing_roll.loc['2020-06-01':, 'tests'], df_testing_roll.loc['2020-06-01':, 'tpr'])\n",
    "ax.set_xlabel('Tests')\n",
    "ax.set_ylabel('TPR')\n",
    "ax.legend()\n",
    "ax.grid()"
   ]
  },
  {
   "cell_type": "code",
   "execution_count": null,
   "metadata": {},
   "outputs": [],
   "source": [
    "from sklearn.linear_model import LinearRegression"
   ]
  },
  {
   "cell_type": "code",
   "execution_count": null,
   "metadata": {},
   "outputs": [],
   "source": [
    "data = df_testing_roll.loc['2020-06-01':, :]\n",
    "data = data.loc[:, ['tests', 'tpr']].to_numpy()\n",
    "X, y = data[:, 0].reshape(-1, 1), data[:, 1]"
   ]
  },
  {
   "cell_type": "code",
   "execution_count": null,
   "metadata": {},
   "outputs": [],
   "source": [
    "reg = LinearRegression().fit(X, y)"
   ]
  },
  {
   "cell_type": "code",
   "execution_count": null,
   "metadata": {},
   "outputs": [],
   "source": [
    "reg.score(X, y)"
   ]
  },
  {
   "cell_type": "code",
   "execution_count": null,
   "metadata": {},
   "outputs": [],
   "source": [
    "reg.predict(X)\n",
    "fig, ax = plt.subplots(figsize=(18, 12))\n",
    "ax.scatter(df_testing_roll.loc['2020-06-01':, 'tests'], df_testing_roll.loc['2020-06-01':, 'tpr'], label='True tests vs true TPR')\n",
    "ax.plot(df_testing_roll.loc['2020-06-01':, 'tests'], reg.predict(X), label='Predicted TPR')\n",
    "ax.legend()\n",
    "ax.grid()"
   ]
  },
  {
   "cell_type": "code",
   "execution_count": null,
   "metadata": {},
   "outputs": [],
   "source": [
    "p = np.poly1d(np.polyfit(X.reshape(-1, ), np.log(y), 1))"
   ]
  },
  {
   "cell_type": "code",
   "execution_count": null,
   "metadata": {},
   "outputs": [],
   "source": [
    "fig, ax = plt.subplots(figsize=(18, 12))\n",
    "ax.scatter(df_testing_roll.loc['2020-06-01':, 'tests'], df_testing_roll.loc['2020-06-01':, 'tpr'], label='True tests vs true TPR')\n",
    "ax.plot(df_testing_roll.loc['2020-06-01':, 'tests'], reg.predict(X), label='Predicted TPR (Linear)')\n",
    "ax.plot(X.reshape(-1, ), np.exp(p(X.reshape(-1, ))), 'r-', label='Predicted TPR (Exp)')\n",
    "ax.legend()\n",
    "ax.grid()"
   ]
  },
  {
   "cell_type": "code",
   "execution_count": null,
   "metadata": {},
   "outputs": [],
   "source": [
    "fig, ax = plt.subplots(figsize=(18, 12))\n",
    "tests = np.linspace(3000, 10000, 500)\n",
    "ax.scatter(df_testing_roll.loc['2020-06-01':, 'tests'], df_testing_roll.loc['2020-06-01':, 'tpr'], label='True tests vs true TPR')\n",
    "ax.plot(tests, reg.predict(tests.reshape(-1, 1)), label='Predicted TPR (Linear)')\n",
    "ax.plot(tests, np.exp(p(tests)), 'r-', label='Predicted TPR (Exp)')\n",
    "ax.plot(tests, [0]*len(tests), '-k', label='Y = 0')\n",
    "ax.legend()\n",
    "ax.grid()"
   ]
  },
  {
   "cell_type": "code",
   "execution_count": null,
   "metadata": {},
   "outputs": [],
   "source": [
    "fig, ax = plt.subplots(figsize=(18, 12))\n",
    "tests = np.linspace(3000, 10000, 500)\n",
    "ax.scatter(df_testing_roll.loc['2020-06-01':, 'tests'], df_testing_roll.loc['2020-06-01':, 'positives'], label='True tests vs true TPR')\n",
    "ax.plot(tests, tests*reg.predict(tests.reshape(-1, 1))/100, label='Predicted Positives (Linear)')\n",
    "ax.plot(tests, tests*np.exp(p(tests))/100, 'r-', label='Predicted Positives (Exp)')\n",
    "ax.plot(tests, [0]*len(tests), '-k', label='Y = 0')\n",
    "ax.legend()\n",
    "ax.grid()"
   ]
  },
  {
   "cell_type": "code",
   "execution_count": null,
   "metadata": {},
   "outputs": [],
   "source": []
  },
  {
   "cell_type": "code",
   "execution_count": null,
   "metadata": {},
   "outputs": [],
   "source": [
    "scale_up_acc_to_testing()"
   ]
  },
  {
   "cell_type": "code",
   "execution_count": null,
   "metadata": {},
   "outputs": [],
   "source": [
    "fig, ax = plt.subplots(figsize=(12, 12))\n",
    "ax.plot(df_subset['date'], df_subset['total_infected'], label='Old')\n",
    "ax.plot(df_subset['date'], df_subset['new_total_infected'], '--', color='C0', label='New')\n",
    "ax.legend()\n",
    "ax.grid()"
   ]
  },
  {
   "cell_type": "code",
   "execution_count": null,
   "metadata": {},
   "outputs": [],
   "source": []
  }
 ],
 "metadata": {
  "kernelspec": {
   "display_name": "Python 3",
   "language": "python",
   "name": "python3"
  },
  "language_info": {
   "codemirror_mode": {
    "name": "ipython",
    "version": 3
   },
   "file_extension": ".py",
   "mimetype": "text/x-python",
   "name": "python",
   "nbconvert_exporter": "python",
   "pygments_lexer": "ipython3"
  }
 },
 "nbformat": 4,
 "nbformat_minor": 4
}
