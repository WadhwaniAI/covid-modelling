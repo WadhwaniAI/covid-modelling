{
 "cells": [
  {
   "cell_type": "code",
   "execution_count": null,
   "metadata": {},
   "outputs": [],
   "source": [
    "%load_ext autoreload\n",
    "%autoreload 2"
   ]
  },
  {
   "cell_type": "code",
   "execution_count": null,
   "metadata": {},
   "outputs": [],
   "source": [
    "import sys\n",
    "sys.path.append('../../')\n",
    "\n",
    "import requests\n",
    "import pandas as pd\n",
    "import numpy as np\n",
    "import matplotlib.pyplot as plt\n",
    "import copy\n",
    "import datetime\n",
    "\n",
    "from data.dataloader import AthenaLoader, Covid19IndiaLoader\n",
    "from data.processing.processing import get_dataframes_cached, get_custom_data_from_db\n",
    "from data.processing.testing import get_testing_data\n",
    "\n",
    "from viz import plot_tests"
   ]
  },
  {
   "cell_type": "code",
   "execution_count": null,
   "metadata": {},
   "outputs": [],
   "source": [
    "df_testing = get_testing_data()"
   ]
  },
  {
   "cell_type": "code",
   "execution_count": null,
   "metadata": {},
   "outputs": [],
   "source": [
    "df_testing"
   ]
  },
  {
   "cell_type": "code",
   "execution_count": null,
   "metadata": {},
   "outputs": [],
   "source": [
    "fig = plot_tests(df_testing)"
   ]
  },
  {
   "cell_type": "code",
   "execution_count": null,
   "metadata": {},
   "outputs": [],
   "source": [
    "df_testing_roll = copy.copy(df_testing)\n",
    "df_testing_roll['tests'] = df_testing_roll['tests'].rolling(7, center=True).mean()\n",
    "df_testing_roll['positives'] = df_testing_roll['positives'].rolling(7, center=True).mean()\n",
    "df_testing_roll['tpr'] = df_testing_roll['tpr'].rolling(7, center=True).mean()\n",
    "df_testing_roll.dropna(axis=0, how='any', inplace=True)\n",
    "df_testing_roll = df_testing_roll.set_index('date')"
   ]
  },
  {
   "cell_type": "code",
   "execution_count": null,
   "metadata": {},
   "outputs": [],
   "source": [
    "fig, ax = plt.subplots(figsize=(18, 12))\n",
    "ax.scatter(df_testing_roll.loc['2020-06-01':, 'tests'], df_testing_roll.loc['2020-06-01':, 'tpr'])\n",
    "ax.set_xlabel('Tests')\n",
    "ax.set_ylabel('TPR')\n",
    "ax.legend()\n",
    "ax.grid()"
   ]
  },
  {
   "cell_type": "code",
   "execution_count": null,
   "metadata": {},
   "outputs": [],
   "source": [
    "from sklearn.linear_model import LinearRegression"
   ]
  },
  {
   "cell_type": "code",
   "execution_count": null,
   "metadata": {},
   "outputs": [],
   "source": [
    "data = df_testing_roll.loc['2020-06-01':, :]\n",
    "data = data.loc[:, ['tests', 'tpr']].to_numpy()\n",
    "X, y = data[:, 0].reshape(-1, 1), data[:, 1]"
   ]
  },
  {
   "cell_type": "code",
   "execution_count": null,
   "metadata": {},
   "outputs": [],
   "source": [
    "reg = LinearRegression().fit(X, y)"
   ]
  },
  {
   "cell_type": "code",
   "execution_count": null,
   "metadata": {},
   "outputs": [],
   "source": [
    "reg.score(X, y)"
   ]
  },
  {
   "cell_type": "code",
   "execution_count": null,
   "metadata": {},
   "outputs": [],
   "source": [
    "reg.predict(X)\n",
    "fig, ax = plt.subplots(figsize=(18, 12))\n",
    "ax.scatter(df_testing_roll.loc['2020-06-01':, 'tests'], df_testing_roll.loc['2020-06-01':, 'tpr'], label='True tests vs true TPR')\n",
    "ax.plot(df_testing_roll.loc['2020-06-01':, 'tests'], reg.predict(X), label='Predicted TPR')\n",
    "ax.legend()\n",
    "ax.grid()"
   ]
  },
  {
   "cell_type": "code",
   "execution_count": null,
   "metadata": {},
   "outputs": [],
   "source": [
    "p = np.poly1d(np.polyfit(X.reshape(-1, ), np.log(y), 1))"
   ]
  },
  {
   "cell_type": "code",
   "execution_count": null,
   "metadata": {},
   "outputs": [],
   "source": [
    "fig, ax = plt.subplots(figsize=(18, 12))\n",
    "ax.scatter(df_testing_roll.loc['2020-06-01':, 'tests'], df_testing_roll.loc['2020-06-01':, 'tpr'], label='True tests vs true TPR')\n",
    "ax.plot(df_testing_roll.loc['2020-06-01':, 'tests'], reg.predict(X), label='Predicted TPR (Linear)')\n",
    "ax.plot(X.reshape(-1, ), np.exp(p(X.reshape(-1, ))), 'r-', label='Predicted TPR (Exp)')\n",
    "ax.legend()\n",
    "ax.grid()"
   ]
  },
  {
   "cell_type": "code",
   "execution_count": null,
   "metadata": {},
   "outputs": [],
   "source": [
    "fig, ax = plt.subplots(figsize=(18, 12))\n",
    "tests = np.linspace(3000, 10000, 500)\n",
    "ax.scatter(df_testing_roll.loc['2020-06-01':, 'tests'], df_testing_roll.loc['2020-06-01':, 'tpr'], label='True tests vs true TPR')\n",
    "ax.plot(tests, reg.predict(tests.reshape(-1, 1)), label='Predicted TPR (Linear)')\n",
    "ax.plot(tests, np.exp(p(tests)), 'r-', label='Predicted TPR (Exp)')\n",
    "ax.plot(tests, [0]*len(tests), '-k', label='Y = 0')\n",
    "ax.legend()\n",
    "ax.grid()"
   ]
  },
  {
   "cell_type": "code",
   "execution_count": null,
   "metadata": {},
   "outputs": [],
   "source": [
    "fig, ax = plt.subplots(figsize=(18, 12))\n",
    "tests = np.linspace(3000, 10000, 500)\n",
    "ax.scatter(df_testing_roll.loc['2020-06-01':, 'tests'], df_testing_roll.loc['2020-06-01':, 'positives'], label='True tests vs true TPR')\n",
    "ax.plot(tests, tests*reg.predict(tests.reshape(-1, 1))/100, label='Predicted Positives (Linear)')\n",
    "ax.plot(tests, tests*np.exp(p(tests))/100, 'r-', label='Predicted Positives (Exp)')\n",
    "ax.plot(tests, [0]*len(tests), '-k', label='Y = 0')\n",
    "ax.legend()\n",
    "ax.grid()"
   ]
  },
  {
   "cell_type": "code",
   "execution_count": null,
   "metadata": {},
   "outputs": [],
   "source": []
  },
  {
   "cell_type": "code",
   "execution_count": null,
   "metadata": {},
   "outputs": [],
   "source": [
    "scale_up_acc_to_testing()"
   ]
  },
  {
   "cell_type": "code",
   "execution_count": null,
   "metadata": {},
   "outputs": [],
   "source": [
    "fig, ax = plt.subplots(figsize=(12, 12))\n",
    "ax.plot(df_subset['date'], df_subset['total'], label='Old')\n",
    "ax.plot(df_subset['date'], df_subset['new_total_infected'], '--', color='C0', label='New')\n",
    "ax.legend()\n",
    "ax.grid()"
   ]
  },
  {
   "cell_type": "code",
   "execution_count": null,
   "metadata": {},
   "outputs": [],
   "source": []
  }
 ],
 "metadata": {
  "kernelspec": {
   "display_name": "Python 3",
   "language": "python",
   "name": "python3"
  },
  "language_info": {
   "codemirror_mode": {
    "name": "ipython",
    "version": 3
   },
   "file_extension": ".py",
   "mimetype": "text/x-python",
   "name": "python",
   "nbconvert_exporter": "python",
   "pygments_lexer": "ipython3"
  }
 },
 "nbformat": 4,
 "nbformat_minor": 4
}
