{
 "cells": [
  {
   "cell_type": "code",
   "execution_count": null,
   "metadata": {},
   "outputs": [],
   "source": [
    "%load_ext autoreload\n",
    "%autoreload 2"
   ]
  },
  {
   "cell_type": "code",
   "execution_count": null,
   "metadata": {},
   "outputs": [],
   "source": [
    "import numpy as np\n",
    "import matplotlib.pyplot as plt\n",
    "import matplotlib.dates as mdates\n",
    "import seaborn as sns\n",
    "from hyperopt import hp, tpe, fmin, Trials\n",
    "from tqdm import tqdm\n",
    "\n",
    "import datetime\n",
    "import copy\n",
    "import json\n",
    "\n",
    "import sys\n",
    "sys.path.append('../../')\n",
    "\n",
    "from data.dataloader import Covid19IndiaLoader\n",
    "# from data.processing import get_data\n",
    "from data.processing import granular, processing\n",
    "\n",
    "from models.seir.seir_testing import SEIR_Testing\n",
    "from models.seir.seirhd import SEIRHD\n",
    "from models.seir.seir_movement import SEIR_Movement\n",
    "from models.seir.seir_movement_testing import SEIR_Movement_Testing\n",
    "\n",
    "from main.seir.fitting import single_fitting_cycle, get_variable_param_ranges\n",
    "from main.seir.forecast import get_forecast, create_region_csv, create_all_csvs, write_csv\n",
    "from utils.create_report import create_report\n",
    "from utils.loss import Loss_Calculator\n",
    "from viz import plot_forecast"
   ]
  },
  {
   "cell_type": "code",
   "execution_count": null,
   "metadata": {},
   "outputs": [],
   "source": [
    "from utils.smooth_jump import *\n",
    "from viz import plot_smoothing"
   ]
  },
  {
   "cell_type": "markdown",
   "metadata": {},
   "source": [
    "## Assign Filename var"
   ]
  },
  {
   "cell_type": "code",
   "execution_count": null,
   "metadata": {},
   "outputs": [],
   "source": [
    "filename = '../../data/data/mumbai/case_summary_2006.csv'"
   ]
  },
  {
   "cell_type": "code",
   "execution_count": null,
   "metadata": {},
   "outputs": [],
   "source": [
    "strat_filename = '../../data/data/mumbai/case_summary_expanded_2006.csv'"
   ]
  },
  {
   "cell_type": "code",
   "execution_count": null,
   "metadata": {},
   "outputs": [],
   "source": [
    "df_strat = granular.get_data(filename=strat_filename)"
   ]
  },
  {
   "cell_type": "code",
   "execution_count": null,
   "metadata": {},
   "outputs": [],
   "source": [
    "df = processing.get_data(filename=filename, disable_tracker=True)"
   ]
  },
  {
   "cell_type": "code",
   "execution_count": null,
   "metadata": {},
   "outputs": [],
   "source": [
    "df"
   ]
  },
  {
   "cell_type": "code",
   "execution_count": null,
   "metadata": {},
   "outputs": [],
   "source": [
    "df_smoothed = smooth_big_jump(df)"
   ]
  },
  {
   "cell_type": "code",
   "execution_count": null,
   "metadata": {},
   "outputs": [],
   "source": [
    "df_strat_smoothed = copy.copy(df_strat)\n",
    "\n",
    "diff_array = df_smoothed.loc[df_smoothed['date'].isin(df_strat['date']), 'active'].reset_index(drop=True) - df_strat['active']\n",
    "\n",
    "for column in df_strat_smoothed.loc[:, 'stable_asymptomatic':].columns:\n",
    "    df_strat_smoothed[column] += diff_array*(df_strat_smoothed[column]/df_strat_smoothed['active'])\n",
    "\n",
    "base_columns = ['total', 'active', 'recovered', 'deceased']\n",
    "df_strat_smoothed.loc[:, base_columns] = df_smoothed.loc[df_smoothed['date'].isin(df_strat['date']), base_columns].reset_index(drop=True)"
   ]
  },
  {
   "cell_type": "code",
   "execution_count": null,
   "metadata": {},
   "outputs": [],
   "source": [
    "all_compartments = ['total', 'active', 'recovered', 'deceased', 'stable_asymptomatic', 'stable_symptomatic', 'critical', 'hq', 'non_o2_beds', 'o2_beds', 'icu', 'ventilator']"
   ]
  },
  {
   "cell_type": "code",
   "execution_count": null,
   "metadata": {},
   "outputs": [],
   "source": [
    "d1 = '2020-06-10'\n",
    "length = (datetime.datetime.strptime(d1, '%Y-%m-%d') - df_strat_smoothed.loc[0, 'date']).days\n",
    "df_strat_smoothed = smooth_big_jump_helper(\n",
    "    df_strat_smoothed, 'stable_symptomatic', 'stable_asymptomatic', d1, smoothing_length=length, method='weighted')\n",
    "\n",
    "d1 = '2020-06-15'\n",
    "length = (datetime.datetime.strptime(d1, '%Y-%m-%d') - df_strat_smoothed.loc[0, 'date']).days\n",
    "df_strat_smoothed = smooth_big_jump_helper(\n",
    "    df_strat_smoothed, 'stable_asymptomatic', 'stable_symptomatic', d1, smoothing_length=length, method='weighted')"
   ]
  },
  {
   "cell_type": "code",
   "execution_count": null,
   "metadata": {},
   "outputs": [],
   "source": [
    "d1 = '2020-06-15'\n",
    "length = (datetime.datetime.strptime(d1, '%Y-%m-%d') - df_strat_smoothed.loc[0, 'date']).days\n",
    "df_strat_smoothed = smooth_big_jump_helper(\n",
    "    df_strat_smoothed, 'ventilator', 'icu', d1, smoothing_length=length, method='weighted-mag')"
   ]
  },
  {
   "cell_type": "code",
   "execution_count": null,
   "metadata": {},
   "outputs": [],
   "source": [
    "d1 = '2020-06-15'\n",
    "length = (datetime.datetime.strptime(d1, '%Y-%m-%d') - df_strat_smoothed.loc[0, 'date']).days\n",
    "df_strat_smoothed = smooth_big_jump_helper(\n",
    "    df_strat_smoothed, 'icu', 'o2_beds', d1, smoothing_length=length, method='weighted-mag')\n",
    "\n",
    "d1 = '2020-05-31'\n",
    "length = (datetime.datetime.strptime(d1, '%Y-%m-%d') - df_strat_smoothed.loc[0, 'date']).days\n",
    "df_strat_smoothed = smooth_big_jump_helper(\n",
    "    df_strat_smoothed, 'icu', 'o2_beds', d1, smoothing_length=length, method='weighted-mag')"
   ]
  },
  {
   "cell_type": "code",
   "execution_count": null,
   "metadata": {},
   "outputs": [],
   "source": [
    "d1 = '2020-06-08'\n",
    "length = (datetime.datetime.strptime(d1, '%Y-%m-%d') - df_strat_smoothed.loc[0, 'date']).days\n",
    "df_strat_smoothed = smooth_big_jump_helper(\n",
    "    df_strat_smoothed, 'o2_beds', 'non_o2_beds', d1, smoothing_length=length, method='weighted-mag')\n",
    "\n",
    "d1 = '2020-06-14'\n",
    "length = (datetime.datetime.strptime(d1, '%Y-%m-%d') - df_strat_smoothed.loc[0, 'date']).days\n",
    "df_strat_smoothed = smooth_big_jump_helper(\n",
    "    df_strat_smoothed, 'o2_beds', 'non_o2_beds', d1, smoothing_length=length, method='weighted-mag')\n",
    "\n",
    "d1 = '2020-06-15'\n",
    "length = (datetime.datetime.strptime(d1, '%Y-%m-%d') - df_strat_smoothed.loc[0, 'date']).days\n",
    "df_strat_smoothed = smooth_big_jump_helper(\n",
    "    df_strat_smoothed, 'o2_beds', 'non_o2_beds', d1, smoothing_length=length, method='weighted-mag')"
   ]
  },
  {
   "cell_type": "code",
   "execution_count": null,
   "metadata": {},
   "outputs": [],
   "source": [
    "d1 = '2020-05-28'\n",
    "length = (datetime.datetime.strptime(d1, '%Y-%m-%d') - df_strat_smoothed.loc[0, 'date']).days\n",
    "df_strat_smoothed = smooth_big_jump_helper(\n",
    "    df_strat_smoothed, 'non_o2_beds', 'hq', d1, smoothing_length=length, method='weighted-mag')\n",
    "\n",
    "d1 = '2020-05-31'\n",
    "length = (datetime.datetime.strptime(d1, '%Y-%m-%d') - df_strat_smoothed.loc[0, 'date']).days\n",
    "df_strat_smoothed = smooth_big_jump_helper(\n",
    "    df_strat_smoothed, 'non_o2_beds', 'hq', d1, smoothing_length=length, method='weighted-mag')"
   ]
  },
  {
   "cell_type": "code",
   "execution_count": null,
   "metadata": {},
   "outputs": [],
   "source": [
    "d1 = '2020-06-14'\n",
    "length = (datetime.datetime.strptime(d1, '%Y-%m-%d') - df_strat_smoothed.loc[0, 'date']).days\n",
    "df_strat_smoothed = smooth_big_jump_helper(\n",
    "    df_strat_smoothed, 'non_o2_beds', 'o2_beds', d1, smoothing_length=length, method='weighted-mag')\n",
    "\n",
    "d1 = '2020-06-19'\n",
    "length = (datetime.datetime.strptime(d1, '%Y-%m-%d') - df_strat_smoothed.loc[0, 'date']).days\n",
    "df_strat_smoothed = smooth_big_jump_helper(\n",
    "    df_strat_smoothed, 'non_o2_beds', 'o2_beds', d1, smoothing_length=length, method='weighted-mag')"
   ]
  },
  {
   "cell_type": "code",
   "execution_count": null,
   "metadata": {},
   "outputs": [],
   "source": [
    "d1 = '2020-06-09'\n",
    "length = (datetime.datetime.strptime(d1, '%Y-%m-%d') - df_strat_smoothed.loc[0, 'date']).days\n",
    "df_strat_smoothed = smooth_big_jump_helper(\n",
    "    df_strat_smoothed, 'hq', 'non_o2_beds', d1, smoothing_length=length, method='weighted-mag')\n",
    "\n",
    "d1 = '2020-06-17'\n",
    "length = (datetime.datetime.strptime(d1, '%Y-%m-%d') - df_strat_smoothed.loc[0, 'date']).days\n",
    "df_strat_smoothed = smooth_big_jump_helper(\n",
    "    df_strat_smoothed, 'hq', 'non_o2_beds', d1, smoothing_length=length, method='weighted-mag')"
   ]
  },
  {
   "cell_type": "code",
   "execution_count": null,
   "metadata": {},
   "outputs": [],
   "source": [
    "d1 = '2020-06-17'\n",
    "length = (datetime.datetime.strptime(d1, '%Y-%m-%d') - df_strat_smoothed.loc[0, 'date']).days\n",
    "df_strat_smoothed = smooth_big_jump_helper(\n",
    "    df_strat_smoothed, 'non_o2_beds', 'hq', d1, smoothing_length=length, method='weighted-mag')"
   ]
  },
  {
   "cell_type": "code",
   "execution_count": null,
   "metadata": {},
   "outputs": [],
   "source": [
    "d1 = '2020-06-14'\n",
    "length = (datetime.datetime.strptime(d1, '%Y-%m-%d') - df_strat_smoothed.loc[0, 'date']).days\n",
    "df_strat_smoothed = smooth_big_jump_helper(\n",
    "    df_strat_smoothed, 'o2_beds', 'non_o2_beds', d1, smoothing_length=length, method='weighted-mag')"
   ]
  },
  {
   "cell_type": "code",
   "execution_count": null,
   "metadata": {},
   "outputs": [],
   "source": [
    "d1 = '2020-06-14'\n",
    "length = (datetime.datetime.strptime(d1, '%Y-%m-%d') - df_strat_smoothed.loc[0, 'date']).days\n",
    "df_strat_smoothed = smooth_big_jump_helper(\n",
    "    df_strat_smoothed, 'non_o2_beds', 'hq', d1, smoothing_length=length, method='weighted-mag')"
   ]
  },
  {
   "cell_type": "code",
   "execution_count": null,
   "metadata": {},
   "outputs": [],
   "source": [
    "d1 = '2020-06-15'\n",
    "length = (datetime.datetime.strptime(d1, '%Y-%m-%d') - df_strat_smoothed.loc[0, 'date']).days\n",
    "df_strat_smoothed = smooth_big_jump_helper(\n",
    "    df_strat_smoothed, 'non_o2_beds', 'hq', d1, smoothing_length=length, method='weighted-mag')\n",
    "\n",
    "d1 = '2020-06-09'\n",
    "length = (datetime.datetime.strptime(d1, '%Y-%m-%d') - df_strat_smoothed.loc[0, 'date']).days\n",
    "df_strat_smoothed = smooth_big_jump_helper(\n",
    "    df_strat_smoothed, 'non_o2_beds', 'hq', d1, smoothing_length=length, method='weighted-mag')"
   ]
  },
  {
   "cell_type": "code",
   "execution_count": null,
   "metadata": {},
   "outputs": [],
   "source": [
    "plot_smoothing(df_strat, df_strat_smoothed, 'Maharashtra', 'Mumbai', which_compartments=all_compartments, description='Smoothing')"
   ]
  },
  {
   "cell_type": "code",
   "execution_count": null,
   "metadata": {},
   "outputs": [],
   "source": []
  }
 ],
 "metadata": {
  "kernelspec": {
   "display_name": "Python 3",
   "language": "python",
   "name": "python3"
  },
  "language_info": {
   "codemirror_mode": {
    "name": "ipython",
    "version": 3
   },
   "file_extension": ".py",
   "mimetype": "text/x-python",
   "name": "python",
   "nbconvert_exporter": "python",
   "pygments_lexer": "ipython3"
  }
 },
 "nbformat": 4,
 "nbformat_minor": 4
}
