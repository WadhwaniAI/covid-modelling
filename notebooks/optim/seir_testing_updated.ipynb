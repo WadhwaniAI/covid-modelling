{
 "cells": [
  {
   "cell_type": "code",
   "execution_count": null,
   "metadata": {},
   "outputs": [],
   "source": [
    "%load_ext autoreload\n",
    "%autoreload 2\n",
    "import numpy as np\n",
    "import matplotlib.pyplot as plt\n",
    "import seaborn as sns; sns.set()\n",
    "import datetime\n",
    "import pandas as pd\n",
    "import itertools\n",
    "import sys\n",
    "import os\n",
    "import math\n",
    "sys.path.append('../..')\n",
    "from joblib import Parallel, delayed\n",
    "from functools import partial\n",
    "from hyperopt import hp, tpe, fmin, Trials\n",
    "from models.optim.seir_testing_dis import SEIR_Testing\n",
    "from utils.optim.seir_testing.objective_functions import *\n",
    "from utils.optim.seir_testing.optimization_methods import *\n",
    "from matplotlib import colors"
   ]
  },
  {
   "cell_type": "code",
   "execution_count": null,
   "metadata": {},
   "outputs": [],
   "source": [
    "days = 300\n",
    "grad1, states_base = calculate_opt(intervention_day=np.array([100]), intervention_duration=np.array([50]), intervention_choice=np.array([0]), days=days)\n",
    "height = calculate_opt_height(intervention_day=np.array([100]), intervention_duration=np.array([50]), intervention_choice=np.array([0]), days=days)\n",
    "time = calculate_opt_time(intervention_day=np.array([100]), intervention_duration=np.array([50]), intervention_choice=np.array([0]), days=days)\n",
    "burden = calculate_opt_burden(intervention_day=np.array([100]), intervention_duration=np.array([50]), intervention_choice=np.array([0]), days=days, capacity=np.array([0.05]))\n",
    "print(grad1, height, time, burden)\n",
    "ind = np.arange(days)   # the x locations for the groups\n",
    "plt.figure(figsize=(8,8))\n",
    "plt.plot(ind, states_base[2], label='without intervention')\n",
    "plt.ylabel('infected fraction')\n",
    "plt.xlabel('days')\n",
    "plt.legend()\n",
    "plt.show()"
   ]
  },
  {
   "cell_type": "markdown",
   "metadata": {},
   "source": [
    "## Bayesian + Grid Search"
   ]
  },
  {
   "cell_type": "code",
   "execution_count": null,
   "metadata": {},
   "outputs": [],
   "source": [
    "days = 300\n",
    "\n",
    "def get_stats(min_params, params=None):\n",
    "    val, states = calculate_opt(intervention_day=min_params['start_array'], intervention_duration=min_params['duration_array'],\\\n",
    "              intervention_choice=min_params['choice_array'], days=days, params=params)\n",
    "    height = calculate_opt_height(intervention_day=min_params['start_array'], intervention_duration=min_params['duration_array'],\\\n",
    "                  intervention_choice=min_params['choice_array'], days=days, params=params)\n",
    "    time = calculate_opt_time(intervention_day=min_params['start_array'], intervention_duration=min_params['duration_array'],\\\n",
    "                  intervention_choice=min_params['choice_array'], days=days, params=params)\n",
    "    burden = calculate_opt_burden(intervention_day=min_params['start_array'], intervention_duration=min_params['duration_array'],\\\n",
    "                  intervention_choice=min_params['choice_array'], days=days, params=params)\n",
    "    print(val, height, time, burden)\n",
    "    return(states)\n",
    "\n",
    "def get_plot(states, fig, num, min_params=None):\n",
    "    ind = np.arange(len(states[1]))\n",
    "    ax = fig.add_subplot(1, 1, 1)\n",
    "    if(not num):\n",
    "        ax.plot(ind, states[1], label='without intervention', linestyle='dashed')\n",
    "    else:\n",
    "        k = len(min_params['start_array'])\n",
    "        for i in range(k):\n",
    "            xi = ind[min_params['start_array'][i]:min_params['start_array'][i]+min_params['duration_array'][i]]\n",
    "            yi = states[1][min_params['start_array'][i]:min_params['start_array'][i]+min_params['duration_array'][i]]\n",
    "            choice = min_params['choice_array'][i]\n",
    "            ax.plot(xi, yi, label='strength = '+str(choice)+', '+str(num)+' intervention', linewidth=3)\n",
    "        ax.plot(ind, states[1], alpha=0.5, label='strength = 0, '+str(num)+' intervention')\n",
    "    ax.set_ylabel('infected people')\n",
    "    ax.set_xlabel('days')\n",
    "    ax.set_title('Grid_Bayesian: Time')\n",
    "    ax.legend()\n",
    "    return(fig)\n",
    "\n",
    "#num_int=1\n",
    "params=params_dict\n",
    "_, min_params = grid_search(num_int=1, days=days, objective='height', sir_init=params, total_resource=0.2*days)\n",
    "min_params = tpe_grid(num_int=1, days=days, min_params=min_params, objective='height', iters=500, sir_init=params, total_resource=0.2*days)\n",
    "print(min_params)\n",
    "states = get_stats(min_params, params)\n",
    "\n",
    "fig = plt.figure(figsize=(8, 8))\n",
    "fig = get_plot(fig=fig,states=states_base,num=0)\n",
    "fig = get_plot(fig=fig,states=states,num=1,min_params=min_params)\n",
    "\n",
    "#num_int = 2\n",
    "_, min_params = grid_search(num_int=2, days=days, objective='height', sir_init=params, total_resource=0.2*days)\n",
    "min_params = tpe_grid(num_int=2, days=days, min_params=min_params, objective='height', iters=1000, sir_init=params, total_resource=0.2*days)\n",
    "print(min_params)\n",
    "states = get_stats(min_params, params=params)\n",
    "fig = get_plot(fig=fig,states=states,num=2,min_params=min_params)\n",
    "\n",
    "#num_int = 3\n",
    "_, min_params = grid_search(num_int=3, days=days, objective='height', sir_init=params, total_resource=0.2*days)\n",
    "min_params = tpe_grid(num_int=3, days=days, min_params=min_params, objective='height', iters=1500, sir_init=params, total_resource=0.2*days)\n",
    "print(min_params)\n",
    "states = get_stats(min_params, params=params)\n",
    "fig = get_plot(fig=fig,states=states,num=3,min_params=min_params)"
   ]
  },
  {
   "cell_type": "code",
   "execution_count": null,
   "metadata": {},
   "outputs": [],
   "source": [
    "params_dict = {}\n",
    "params_dict['T_inf'] = 3.2\n",
    "params_dict['T_inc'] = 4.3\n",
    "params_dict['P_severe'] = 0.78\n",
    "params_dict['P_fatal'] = 0.05\n",
    "params_dict['I_hosp_ratio'] = 0.3\n",
    "params_dict['E_hosp_ratio'] = 0.1\n",
    "params_dict['T_recov_severe'] = 10\n",
    "params_dict['factor'] = 1.9/1.1"
   ]
  },
  {
   "cell_type": "code",
   "execution_count": null,
   "metadata": {},
   "outputs": [],
   "source": []
  }
 ],
 "metadata": {
  "kernelspec": {
   "display_name": "env_covid",
   "language": "python",
   "name": "env_covid"
  },
  "language_info": {
   "codemirror_mode": {
    "name": "ipython",
    "version": 3
   },
   "file_extension": ".py",
   "mimetype": "text/x-python",
   "name": "python",
   "nbconvert_exporter": "python",
   "pygments_lexer": "ipython3"
  }
 },
 "nbformat": 4,
 "nbformat_minor": 4
}
