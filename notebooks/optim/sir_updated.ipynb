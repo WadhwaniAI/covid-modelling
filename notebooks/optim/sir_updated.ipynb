{
 "cells": [
  {
   "cell_type": "code",
   "execution_count": null,
   "metadata": {},
   "outputs": [],
   "source": [
    "%load_ext autoreload\n",
    "%autoreload 2\n",
    "import numpy as np\n",
    "import matplotlib.pyplot as plt\n",
    "import seaborn as sns; sns.set()\n",
    "import datetime\n",
    "import pandas as pd\n",
    "import itertools\n",
    "import sys\n",
    "import os\n",
    "import math\n",
    "sys.path.append('../..')\n",
    "from joblib import Parallel, delayed\n",
    "from functools import partial\n",
    "from hyperopt import hp, tpe, fmin, Trials\n",
    "from models.optim.sir_dis import SIR\n",
    "from utils.optim.sir.objective_functions import *\n",
    "from utils.optim.sir.optimization_methods import *\n",
    "from matplotlib import colors"
   ]
  },
  {
   "cell_type": "markdown",
   "metadata": {},
   "source": [
    "# No Intervention"
   ]
  },
  {
   "cell_type": "code",
   "execution_count": null,
   "metadata": {},
   "outputs": [],
   "source": [
    "days = 400\n",
    "params = {'R0': 2.020218397440326, 'T_treat': 35}\n",
    "# params=None\n",
    "grad1, states_base = calculate_opt(intervention_day=np.array([100]), intervention_duration=np.array([50]), intervention_choice=np.array([0]), days=days, params=params)\n",
    "height = calculate_opt_height(intervention_day=np.array([100]), intervention_duration=np.array([50]), intervention_choice=np.array([0]), days=days, params=params)\n",
    "time = calculate_opt_time(intervention_day=np.array([100]), intervention_duration=np.array([50]), intervention_choice=np.array([0]), days=days, params=params)\n",
    "burden = calculate_opt_burden(intervention_day=np.array([100]), intervention_duration=np.array([50]), intervention_choice=np.array([0]), days=days, capacity=np.array([0.1]), params=params)\n",
    "print(grad1, height, time, burden)\n",
    "plt.figure(figsize=(8,8))\n",
    "plt.plot(ind, states_base[1], label='without intervention')\n",
    "plt.ylabel('infected fraction')\n",
    "plt.xlabel('days')\n",
    "plt.title('Time')\n",
    "plt.legend()\n",
    "plt.show()"
   ]
  },
  {
   "cell_type": "markdown",
   "metadata": {},
   "source": [
    "# Grid Search"
   ]
  },
  {
   "cell_type": "markdown",
   "metadata": {
    "jupyter": {
     "source_hidden": true
    }
   },
   "source": [
    "### Plot Results for Grid Search"
   ]
  },
  {
   "cell_type": "code",
   "execution_count": null,
   "metadata": {
    "jupyter": {
     "outputs_hidden": true,
     "source_hidden": true
    }
   },
   "outputs": [],
   "source": [
    "days = 400\n",
    "#num_int = 1\n",
    "min_val, min_params = grid_search(num_int=1, days=days, objective='qald')\n",
    "print(min_params)\n",
    "val, states = calculate_opt(intervention_day=min_params['start_array'], intervention_duration=min_params['duration_array'],\\\n",
    "              intervention_choice=min_params['choice_array'], days=days)\n",
    "height = calculate_opt_height(intervention_day=min_params['start_array'], intervention_duration=min_params['duration_array'],\\\n",
    "              intervention_choice=min_params['choice_array'], days=days)\n",
    "time = calculate_opt_time(intervention_day=min_params['start_array'], intervention_duration=min_params['duration_array'],\\\n",
    "              intervention_choice=min_params['choice_array'], days=days)\n",
    "burden = calculate_opt_burden(intervention_day=min_params['start_array'], intervention_duration=min_params['duration_array'],\\\n",
    "              intervention_choice=min_params['choice_array'], days=days)\n",
    "print(val, height, time, burden)\n",
    "ind = np.arange(days)   # the x locations for the groups\n",
    "width = 0.95        # the width of the bars: can also be len(x) sequence\n",
    "plt.figure(figsize=(8, 8))\n",
    "plt.plot(ind, states_base[1], label='without intervention')\n",
    "plt.plot(ind, states[1], label='1 intervention')\n",
    "\n",
    "#num_int = 2\n",
    "min_val, min_params = grid_search(num_int=2, days=days, objective='qald')\n",
    "print(min_params)\n",
    "val, states = calculate_opt(intervention_day=min_params['start_array'], intervention_duration=min_params['duration_array'],\\\n",
    "              intervention_choice=min_params['choice_array'], days=days)\n",
    "height = calculate_opt_height(intervention_day=min_params['start_array'], intervention_duration=min_params['duration_array'],\\\n",
    "              intervention_choice=min_params['choice_array'], days=days)\n",
    "time = calculate_opt_time(intervention_day=min_params['start_array'], intervention_duration=min_params['duration_array'],\\\n",
    "              intervention_choice=min_params['choice_array'], days=days)\n",
    "burden = calculate_opt_burden(intervention_day=min_params['start_array'], intervention_duration=min_params['duration_array'],\\\n",
    "              intervention_choice=min_params['choice_array'], days=days)\n",
    "print(val, height, time, burden)\n",
    "plt.plot(ind, states[1], label='2 interventions')\n",
    "\n",
    "#num_int = 3\n",
    "min_val, min_params = grid_search(num_int=3, days=days, objective='qald')\n",
    "print(min_params)\n",
    "val, states = calculate_opt(intervention_day=min_params['start_array'], intervention_duration=min_params['duration_array'],\\\n",
    "              intervention_choice=min_params['choice_array'], days=days)\n",
    "height = calculate_opt_height(intervention_day=min_params['start_array'], intervention_duration=min_params['duration_array'],\\\n",
    "              intervention_choice=min_params['choice_array'], days=days)\n",
    "time = calculate_opt_time(intervention_day=min_params['start_array'], intervention_duration=min_params['duration_array'],\\\n",
    "              intervention_choice=min_params['choice_array'], days=days)\n",
    "burden = calculate_opt_burden(intervention_day=min_params['start_array'], intervention_duration=min_params['duration_array'],\\\n",
    "              intervention_choice=min_params['choice_array'], days=days)\n",
    "print(val, height, time, burden)\n",
    "plt.plot(ind, states[1], label='3 interventions')\n",
    "\n",
    "plt.ylabel('infected people')\n",
    "plt.xlabel('days')\n",
    "plt.title('Grid_Search: AQALD')\n",
    "plt.legend()\n",
    "plt.show()"
   ]
  },
  {
   "cell_type": "markdown",
   "metadata": {
    "jupyter": {
     "source_hidden": true
    }
   },
   "source": [
    "# Bayesian Search"
   ]
  },
  {
   "cell_type": "markdown",
   "metadata": {
    "jupyter": {
     "source_hidden": true
    }
   },
   "source": [
    "### Running bayesian search"
   ]
  },
  {
   "cell_type": "code",
   "execution_count": null,
   "metadata": {
    "jupyter": {
     "outputs_hidden": true,
     "source_hidden": true
    }
   },
   "outputs": [],
   "source": [
    "days = 400\n",
    "min_params = tpe_opt(num_int=1, days=days, objective='qald')\n",
    "print(min_params)\n",
    "val, states = calculate_opt(intervention_day=min_params['start_array'], intervention_duration=min_params['duration_array'],\\\n",
    "              intervention_choice=min_params['choice_array'], days=days)\n",
    "height = calculate_opt_height(intervention_day=min_params['start_array'], intervention_duration=min_params['duration_array'],\\\n",
    "              intervention_choice=min_params['choice_array'], days=days)\n",
    "time = calculate_opt_time(intervention_day=min_params['start_array'], intervention_duration=min_params['duration_array'],\\\n",
    "              intervention_choice=min_params['choice_array'], days=days)\n",
    "burden = calculate_opt_burden(intervention_day=min_params['start_array'], intervention_duration=min_params['duration_array'],\\\n",
    "              intervention_choice=min_params['choice_array'], days=days)\n",
    "print(val, height, time, burden)\n",
    "ind = np.arange(days)   # the x locations for the groups\n",
    "width = 0.95        # the width of the bars: can also be len(x) sequence\n",
    "plt.figure(figsize=(8, 8))\n",
    "plt.plot(ind, states_base[1], label='without intervention')\n",
    "plt.plot(ind, states[1], label='1 intervention')\n",
    "\n",
    "#num_int = 2\n",
    "min_params = tpe_opt(num_int=2, days=days, objective='qald')\n",
    "print(min_params)\n",
    "val, states = calculate_opt(intervention_day=min_params['start_array'], intervention_duration=min_params['duration_array'],\\\n",
    "              intervention_choice=min_params['choice_array'], days=days)\n",
    "height = calculate_opt_height(intervention_day=min_params['start_array'], intervention_duration=min_params['duration_array'],\\\n",
    "              intervention_choice=min_params['choice_array'], days=days)\n",
    "time = calculate_opt_time(intervention_day=min_params['start_array'], intervention_duration=min_params['duration_array'],\\\n",
    "              intervention_choice=min_params['choice_array'], days=days)\n",
    "burden = calculate_opt_burden(intervention_day=min_params['start_array'], intervention_duration=min_params['duration_array'],\\\n",
    "              intervention_choice=min_params['choice_array'], days=days)\n",
    "print(val, height, time, burden)\n",
    "plt.plot(ind, states[1], label='2 interventions')\n",
    "\n",
    "#num_int = 3\n",
    "min_params = tpe_opt(num_int=3, days=days, objective='qald')\n",
    "print(min_params)\n",
    "val, states = calculate_opt(intervention_day=min_params['start_array'], intervention_duration=min_params['duration_array'],\\\n",
    "              intervention_choice=min_params['choice_array'], days=days)\n",
    "height = calculate_opt_height(intervention_day=min_params['start_array'], intervention_duration=min_params['duration_array'],\\\n",
    "              intervention_choice=min_params['choice_array'], days=days)\n",
    "time = calculate_opt_time(intervention_day=min_params['start_array'], intervention_duration=min_params['duration_array'],\\\n",
    "              intervention_choice=min_params['choice_array'], days=days)\n",
    "burden = calculate_opt_burden(intervention_day=min_params['start_array'], intervention_duration=min_params['duration_array'],\\\n",
    "              intervention_choice=min_params['choice_array'], days=days)\n",
    "print(val, height, time, burden)\n",
    "plt.plot(ind, states[1], label='3 interventions')\n",
    "\n",
    "plt.ylabel('infected people')\n",
    "plt.xlabel('days')\n",
    "plt.title('Bayesian_Search: AQALD')\n",
    "plt.legend()\n",
    "plt.show()"
   ]
  },
  {
   "cell_type": "markdown",
   "metadata": {},
   "source": [
    "### Bayesian search over grid search"
   ]
  },
  {
   "cell_type": "code",
   "execution_count": null,
   "metadata": {},
   "outputs": [],
   "source": [
    "days = 400\n",
    "\n",
    "def get_stats(min_params, params=None):\n",
    "    val, states = calculate_opt(intervention_day=min_params['start_array'], intervention_duration=min_params['duration_array'],\\\n",
    "              intervention_choice=min_params['choice_array'], days=days, params=params)\n",
    "    height = calculate_opt_height(intervention_day=min_params['start_array'], intervention_duration=min_params['duration_array'],\\\n",
    "                  intervention_choice=min_params['choice_array'], days=days, params=params)\n",
    "    time = calculate_opt_time(intervention_day=min_params['start_array'], intervention_duration=min_params['duration_array'],\\\n",
    "                  intervention_choice=min_params['choice_array'], days=days, params=params)\n",
    "    burden = calculate_opt_burden(intervention_day=min_params['start_array'], intervention_duration=min_params['duration_array'],\\\n",
    "                  intervention_choice=min_params['choice_array'], days=days, params=params)\n",
    "    print(val, height, time, burden)\n",
    "    return(states)\n",
    "\n",
    "def get_plot(states, fig, num, min_params=None):\n",
    "    ind = np.arange(len(states[1]))\n",
    "    ax = fig.add_subplot(1, 1, 1)\n",
    "    if(not num):\n",
    "        ax.plot(ind, states[1], label='without intervention', linestyle='dashed')\n",
    "    else:\n",
    "        k = len(min_params['start_array'])\n",
    "        for i in range(k):\n",
    "            xi = ind[min_params['start_array'][i]:min_params['start_array'][i]+min_params['duration_array'][i]]\n",
    "            yi = states[1][min_params['start_array'][i]:min_params['start_array'][i]+min_params['duration_array'][i]]\n",
    "            choice = min_params['choice_array'][i]\n",
    "            ax.plot(xi, yi, label='strength = '+str(choice)+', '+str(num)+' intervention', linewidth=3)\n",
    "        ax.plot(ind, states[1], alpha=0.5, label='strength = 0, '+str(num)+' intervention')\n",
    "    ax.set_ylabel('infected people')\n",
    "    ax.set_xlabel('days')\n",
    "    ax.set_title('Grid_Bayesian: AUC-I')\n",
    "    ax.legend()\n",
    "    return(fig)\n",
    "\n",
    "# #num_int=1\n",
    "params = {'R0': 2.020218397440326, 'T_treat': 35}\n",
    "# params=None\n",
    "_, min_params = grid_search(num_int=1, days=days, objective='qald', sir_init=params)\n",
    "min_params = tpe_grid(num_int=1, days=days, min_params=min_params, objective='qald', iters=500, sir_init=params)\n",
    "print(min_params)\n",
    "states = get_stats(min_params, params)\n",
    "\n",
    "fig = plt.figure(figsize=(8, 8))\n",
    "fig = get_plot(fig=fig,states=states_base,num=0)\n",
    "fig = get_plot(fig=fig,states=states,num=1,min_params=min_params)\n",
    "\n",
    "#num_int = 2\n",
    "_, min_params = grid_search(num_int=2, days=days, objective='qald', sir_init=params)\n",
    "min_params = tpe_grid(num_int=2, days=days, min_params=min_params, objective='qald', iters=1000, sir_init=params)\n",
    "print(min_params)\n",
    "states = get_stats(min_params, params=params)\n",
    "fig = get_plot(fig=fig,states=states,num=2,min_params=min_params)\n",
    "\n",
    "#num_int = 3\n",
    "_, min_params = grid_search(num_int=3, days=days, objective='qald', sir_init=params)\n",
    "min_params = tpe_grid(num_int=3, days=days, min_params=min_params, objective='qald', iters=1500, sir_init=params)\n",
    "print(min_params)\n",
    "states = get_stats(min_params, params=params)\n",
    "fig = get_plot(fig=fig,states=states,num=3,min_params=min_params)\n",
    "\n",
    "# optimal_params = {'choice_array': np.array([0.25, 0.25]), 'start_array': np.array([ 4, 25]), 'duration_array': np.array([ 20, 300])}\n",
    "# rule_params = {'choice_array': np.array([1.]), 'start_array': np.array([219]), 'duration_array': np.array([80])}\n",
    "# states = get_stats(optimal_params, params)\n",
    "# fig = plt.figure(figsize=(8, 8))\n",
    "# fig = get_plot(fig=fig,states=states_base,num=0)\n",
    "# fig = get_plot(fig=fig,states=states,num=2,min_params=optimal_params)\n",
    "# states = get_stats(rule_params, params)\n",
    "# fig = get_plot(fig=fig,states=states,num='rule',min_params=rule_params)"
   ]
  },
  {
   "cell_type": "markdown",
   "metadata": {},
   "source": [
    "# Gradient Based Methods - Frank Wolfe Algorithm"
   ]
  },
  {
   "cell_type": "code",
   "execution_count": null,
   "metadata": {},
   "outputs": [],
   "source": [
    "days = 400\n",
    "best_int_vec = frank_wolfe(days=days, objective='height')\n",
    "qald, states = run_seir(days=days, int_vec=best_int_vec)\n",
    "height = seir_height(days=days, int_vec=best_int_vec)\n",
    "time = seir_time(days=days, int_vec=best_int_vec)\n",
    "burden = seir_burden(days=days, int_vec=best_int_vec)\n",
    "print(qald, height, time, burden)\n",
    "ind = np.arange(days)   # the x locations for the groups\n",
    "width = 0.95        # the width of the bars: can also be len(x) sequence\n",
    "plt.figure(figsize=(8, 8))\n",
    "plt.plot(ind, states_base[1], label='without intervention')\n",
    "plt.plot(ind, states[1], label='intervention')\n",
    "plt.ylabel('infected people')\n",
    "plt.xlabel('days')\n",
    "plt.legend()\n",
    "plt.show()"
   ]
  },
  {
   "cell_type": "markdown",
   "metadata": {},
   "source": [
    "### Discretize FW results"
   ]
  },
  {
   "cell_type": "code",
   "execution_count": null,
   "metadata": {},
   "outputs": [],
   "source": [
    "dis_int_vec = best_int_vec.copy()\n",
    "dis_int_vec[dis_int_vec<1.25]=1\n",
    "dis_int_vec[np.logical_and(dis_int_vec<1.75, dis_int_vec>1.25)] = 1.5\n",
    "dis_int_vec[dis_int_vec>1.75] = 2"
   ]
  },
  {
   "cell_type": "code",
   "execution_count": null,
   "metadata": {},
   "outputs": [],
   "source": [
    "dis_int_vec"
   ]
  },
  {
   "cell_type": "code",
   "execution_count": null,
   "metadata": {},
   "outputs": [],
   "source": [
    "np.sum(dis_int_vec)"
   ]
  },
  {
   "cell_type": "code",
   "execution_count": null,
   "metadata": {},
   "outputs": [],
   "source": [
    "# num=0\n",
    "# for i in range(len(int_vec)):\n",
    "#     if(num>=3):\n",
    "#         break\n",
    "#     if(int_vec[-i]==1.5):\n",
    "#         int_vec[-i]=1\n",
    "#         num+=1\n",
    "# print(np.sum(int_vec))"
   ]
  },
  {
   "cell_type": "code",
   "execution_count": null,
   "metadata": {},
   "outputs": [],
   "source": [
    "days = 400\n",
    "qald, states = run_seir(days=days, int_vec=dis_int_vec)\n",
    "height = seir_height(days=days, int_vec=dis_int_vec)\n",
    "time = seir_time(days=days, int_vec=dis_int_vec)\n",
    "burden = seir_burden(days=days, int_vec=dis_int_vec)\n",
    "print(qald, height, time, burden)\n",
    "ind = np.arange(days)   # the x locations for the groups\n",
    "width = 0.95        # the width of the bars: can also be len(x) sequence\n",
    "plt.figure(figsize=(8, 8))\n",
    "plt.plot(ind, states_base[1], label='without intervention')\n",
    "plt.plot(ind, states[1], label='intervention')\n",
    "plt.ylabel('infected people')\n",
    "plt.xlabel('days')\n",
    "plt.legend()\n",
    "plt.show()"
   ]
  },
  {
   "cell_type": "code",
   "execution_count": null,
   "metadata": {},
   "outputs": [],
   "source": []
  }
 ],
 "metadata": {
  "kernelspec": {
   "display_name": "env_covid",
   "language": "python",
   "name": "env_covid"
  },
  "language_info": {
   "codemirror_mode": {
    "name": "ipython",
    "version": 3
   },
   "file_extension": ".py",
   "mimetype": "text/x-python",
   "name": "python",
   "nbconvert_exporter": "python",
   "pygments_lexer": "ipython3"
  }
 },
 "nbformat": 4,
 "nbformat_minor": 4
}
